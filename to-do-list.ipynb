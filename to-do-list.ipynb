{
 "cells": [
  {
   "cell_type": "markdown",
   "metadata": {},
   "source": [
    "# To Do List"
   ]
  },
  {
   "cell_type": "markdown",
   "metadata": {},
   "source": [
    "import markdown\n",
    "html = markdown.markdown(source, extensions=['markdown_checklist.extension'])\n",
    "\n",
    "ASSEMBLY FOR  CONSENSUS\n",
    "* [ ] CANU assembler? Alan will ask Mike about what assembler to use\n",
    "* [ ] de novo assembly, mapped assembly no masking; mapped assembly with masking\n",
    "* [ ] mapped to best match reference and to assembled MiSeq reference\n",
    "\n",
    "INTRA-HOST SNV CALLING\n",
    "* [ ] mix 2 H3N2 clinical at different read count, sampled randomly (example 10:1); then compare to MiSeq for which will have done the same sampling and ratio\n",
    "\n",
    "PHASING\n",
    "* [ ] Using same mix, assess potential for phasing.\n",
    "* [ ] Use same methodology as Ebola paper (they used the squiggles)\n",
    "\n",
    "EVALUATE HOW MUCH COVERAGE NECESSARY\n",
    "* [ ] Need to do a very high depth run for only one sample (if possible)\n",
    "* [ ] Basically, want to let others know what is minimum coverage needed, hence how many flu samples can be multiplexed\n",
    "\n",
    "PLATFORM COMPARISONS\n",
    "* [ ] compare repeat region across 3 platforms\n",
    "\n",
    "\n",
    "\n",
    "* [ ] Look at the quality difference (and quantity) between the MK1 and the old kit to see if there are significant differences between them are enough to scrap the old sequencing kit data (are we behind the time?).\n",
    "* [ ] De novo assembly with MinION only? Look more into Canu and ask Mike what he recommends.\n",
    "* [ ] Mix the H3N2 MiSeq data and the MinION data together and generate a variant profile for each platform so that we can assess the phasing potential \n",
    "* [ ] Simulate the coverage at certain levels of multiplexing (how many subtypes/strains can be sequenced at once) \n",
    "* [x] Mask the discrepant position in each of the FluB references to see if the aligner can produce the correct nucleotide (the one that matches the MiSeq data).\n",
    "    * [ ] Investigate FluB PB2 to see why that isn't matching up.\n",
    "    * [ ] Look at different aligners and different parameters\n",
    "* [x] See if the MiSeq strain is actually represented in the FluDB (or at least the nt db).\n",
    "* [ ] Adjust parameters/test different algorithms to see if these errors can be resolved.\n",
    "* [ ] How to identify strain in absence of MiSeq data (contingent on former two tasks).\n",
    "* [x] Map MiSeq clinical to all the different subtypes to assess the possibilty of cross contamination\n",
    "* [x] Use the MiSeq consensus to assemble the MinION and the MinION consensus to assemble the MiSeq and see if they give different results.\n",
    "    * [x] Align all consensus sequences for FluB to see what the differences are. \n",
    "    * [ ] See if coverage is affecting the number of variants. I can compare the 11-9 run to the 6-4 and 8-13 runs and see how many variants they have \n",
    "    * [x] Merge all of the runs and look at FluB specifically to get a sense of whether more sequencing would actually help address some of our questions.\n",
    "* [x] In the Blast consensus analysis, segregate the reads into their respective subtypes and build the consensus to see if there is any cross contamination in the consensus from other subtypes in the same pool.\n",
    "    1. Map the MinION reads to the MiSeq consensus sequences to segregate by subtype and see if that is vastly different than the blast results. Generate consensus with them.\n",
    "    * [ ] Look to see if short reads are the ones being misassigned to the wrong segment (specifically FluB PB2 of the 11-9 run).\n",
    "* [ ] Mask the reference sequence with N's at discrepant positions to see if that makes the alignment more accurate.\n",
    "    1. randomly mutate the genome to assess false positive rate (like in the ebola paper)"
   ]
  }
 ],
 "metadata": {
  "kernelspec": {
   "display_name": "Bash",
   "language": "bash",
   "name": "bash"
  },
  "language_info": {
   "codemirror_mode": "shell",
   "file_extension": ".sh",
   "mimetype": "text/x-sh",
   "name": "bash"
  },
  "latex_envs": {
   "bibliofile": "biblio.bib",
   "cite_by": "apalike",
   "current_citInitial": 1,
   "eqLabelWithNumbers": true,
   "eqNumInitial": 0
  },
  "toc": {
   "toc_cell": false,
   "toc_number_sections": true,
   "toc_threshold": 6,
   "toc_window_display": false
  }
 },
 "nbformat": 4,
 "nbformat_minor": 0
}
