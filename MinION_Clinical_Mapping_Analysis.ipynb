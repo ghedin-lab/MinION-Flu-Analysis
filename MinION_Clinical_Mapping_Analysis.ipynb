{
 "cells": [
  {
   "cell_type": "markdown",
   "metadata": {},
   "source": [
    "# MinION to MiSeq Assembly\n",
    "\n",
    "To see whether the mapping approach will prove the MinION useful I am going to attempt to generate consensus sequences that are 100% identical to the MiSeq assemblies."
   ]
  },
  {
   "cell_type": "markdown",
   "metadata": {},
   "source": [
    "## FluB 11-9"
   ]
  },
  {
   "cell_type": "code",
   "execution_count": null,
   "metadata": {
    "collapsed": true
   },
   "outputs": [],
   "source": [
    "cd /home/alan/projects/MinION-notebook/clinical-analysis/minion/11-9\n",
    "ln -s ~/projects/MinION-notebook/miseq-assembly/flub/flub-11-9-blast-hits-assembly/fluB.11-9-top-seg-hits.contigs.fasta\n",
    "ln -s /home/alan/projects/MinION-notebook/raw-data/MinION/11-9/flu-11-9.2d.fastq\n",
    "\n",
    "bwa index fluB.11-9-top-seg-hits.contigs.fasta\n",
    "bwa mem -x ont2d -t 30 fluB.11-9-top-seg-hits.contigs.fasta flu-11-9.2d.fastq > flu-11-9.2d.sam\n",
    "samtools view -o flu-11-9.2d.bam -b flu-11-9.2d.sam\n",
    "samtools sort -o flu-11-9.2d.sort.bam flu-11-9.2d.bam\n",
    "samtools index flu-11-9.2d.sort.bam\n",
    "rm flu-11-9.2d.bam flu-11-9.2d.sam\n",
    "\n",
    "for i in $(samtools idxstats flu-11-9.2d.sort.bam | cut -f1 | grep -v '*'); do bamfile_consensus_generate.py \\\n",
    "flu-11-9.2d.sort.bam $i ; done > flu-11-9.2d.consensus.fasta\n",
    "\n",
    "nucmer --maxmatch fluB.11-9-top-seg-hits.contigs.fasta flu-11-9.2d.consensus.fasta\n",
    "delta-filter -l 500 -r out.delta > out.filter\n",
    "show-coords -lcT  out.filter | perl -pe 's/\\t/ | /g'\n",
    "mummerplot --SNP --png out.filter\n"
   ]
  },
  {
   "cell_type": "markdown",
   "metadata": {},
   "source": [
    "S1 | E1 | S2 | E2 | LEN 1 | LEN 2 | % IDY | LEN R | LEN Q | COV R | COV Q | TAGS\n",
    "---|----|----|----|-------|-------|-------|-------|-------|-------|-------|-----\n",
    "1 | 1905 | 1 | 1905 | 1905 | 1905 | 99.53 | 1905 | 1905 | 100.00 | 100.00 | HA-NODE_1_length_1905_cov_52.721_ID_5 | HA-NODE_1_length_1905_cov_52.721_ID_5\n",
    "1 | 1206 | 1 | 1206 | 1206 | 1206 | 99.75 | 1206 | 1206 | 100.00 | 100.00 | MP-NODE_1_length_1206_cov_57.0389_ID_5 | MP-NODE_1_length_1206_cov_57.0389_ID_5\n",
    "1 | 1576 | 1 | 1576 | 1576 | 1576 | 99.75 | 1576 | 1576 | 100.00 | 100.00 | NA-NODE_1_length_1576_cov_54.3161_ID_5 | NA-NODE_1_length_1576_cov_54.3161_ID_5\n",
    "1 | 1861 | 1 | 1861 | 1861 | 1861 | 99.84 | 1861 | 1861 | 100.00 | 100.00 | NP-NODE_1_length_1861_cov_52.0934_ID_5 | NP-NODE_1_length_1861_cov_52.0934_ID_5\n",
    "1 | 1129 | 1 | 1129 | 1129 | 1129 | 100.00 | 1157 | 1132 | 97.58 | 99.73 | NS-NODE_1_length_1157_cov_54.4689_ID_5 | NS-NODE_1_length_1157_cov_54.4689_ID_5\n",
    "1 | 2327 | 1 | 2327 | 2327 | 2327 | 100.00 | 2327 | 2327 | 100.00 | 100.00 | PA-NODE_1_length_2327_cov_57.0414_ID_5 | PA-NODE_1_length_2327_cov_57.0414_ID_5\n",
    "65 | 2486 | 1 | 2422 | 2422 | 2422 | 99.83 | 2486 | 2422 | 97.43 | 100.00 | PB1-NODE_1_length_2486_cov_48.1852_ID_147 | PB1-NODE_1_length_2486_cov_48.1852_ID_147\n",
    "14 | 2432 | 1 | 2419 | 2419 | 2419 | 98.06 | 2432 | 2419 | 99.47 | 100.00 | PB2-NODE_1_length_2432_cov_47.3761_ID_65 | PB2-NODE_1_length_2432_cov_47.3761_ID_65\n",
    "\n",
    "![minion to miseq contigs vs miseq contigs](docs/flub-minion-to-miseq-contigs-vs-miseq-contigs.png)\n",
    "\n",
    "Very reassuring. The discrepancies are on the termini for all but the PB2 segment. Not sure what's causing that to be so erroneous - my only thought is that the PB2 plasmid was spiked in instead of the PB1? "
   ]
  },
  {
   "cell_type": "markdown",
   "metadata": {},
   "source": [
    "## H3N2-70"
   ]
  },
  {
   "cell_type": "code",
   "execution_count": null,
   "metadata": {
    "collapsed": true
   },
   "outputs": [],
   "source": [
    "cd /home/alan/projects/MinION-notebook/clinical-analysis/minion/6-4\n",
    "ln -s ~/projects/MinION-notebook/miseq-assembly/h3n2-70/c1.flu-6-4-h3n2-70.fludb.top-seg-hits.contigs.fasta\n",
    "ln -s /home/alan/projects/MinION-notebook/raw-data/MinION/6-4/flu-6-4.2d.fastq\n",
    "\n",
    "bwa index c1.flu-6-4-h3n2-70.fludb.top-seg-hits.contigs.fasta\n",
    "bwa mem -x ont2d -t 30 c1.flu-6-4-h3n2-70.fludb.top-seg-hits.contigs.fasta flu-6-4.2d.fastq > flu-6-4.2d.sam\n",
    "samtools view -o flu-6-4.2d.bam -b flu-6-4.2d.sam\n",
    "samtools sort -o flu-6-4.2d.sort.bam flu-6-4.2d.bam\n",
    "samtools index flu-6-4.2d.sort.bam\n",
    "rm flu-6-4.2d.bam flu-6-4.2d.sam\n",
    "\n",
    "for i in $(samtools idxstats flu-6-4.2d.sort.bam | cut -f1 | grep -v '*'); do bamfile_consensus_generate.py \\\n",
    "flu-6-4.2d.sort.bam $i ; done > flu-6-4.2d.consensus.fasta\n",
    "\n",
    "nucmer --maxmatch c1.flu-6-4-h3n2-70.fludb.top-seg-hits.contigs.fasta flu-6-4.2d.consensus.fasta\n",
    "delta-filter -l 500 -r out.delta > out.filter\n",
    "show-coords -lcT  out.filter | perl -pe 's/\\t/ | /g'\n",
    "mummerplot --SNP --png out.filter\n"
   ]
  },
  {
   "cell_type": "markdown",
   "metadata": {},
   "source": [
    "S1 | E1 | S2 | E2 | LEN 1 | LEN 2 | % IDY | LEN R | LEN Q | COV R | COV Q | TAGS\n",
    "---|----|----|----|-------|-------|-------|-------|-------|-------|-------|-----\n",
    "83 | 1909 | 1 | 1827 | 1827 | 1827 | 98.85 | 1909 | 1827 | 95.70 | 100.00 | HA-NODE_1_length_1909_cov_50.9276_ID_5 | HA-NODE_1_length_1909_cov_50.9276_ID_5\n",
    "1 | 1048 | 1 | 1048 | 1048 | 1048 | 99.62 | 1051 | 1051 | 99.71 | 99.71 | MP-NODE_1_length_1051_cov_57.3442_ID_5 | MP-NODE_1_length_1051_cov_57.3442_ID_5\n",
    "82 | 1587 | 1 | 1506 | 1506 | 1506 | 99.20 | 1587 | 1506 | 94.90 | 100.00 | NA-NODE_1_length_1587_cov_47.9822_ID_5 | NA-NODE_1_length_1587_cov_47.9822_ID_5\n",
    "1 | 1631 | 1 | 1631 | 1631 | 1631 | 97.12 | 1687 | 1639 | 96.68 | 99.51 | NP-NODE_1_length_1687_cov_50.7545_ID_5 | NP-NODE_1_length_1687_cov_50.7545_ID_5\n",
    "1 | 1812 | 1 | 1812 | 1812 | 1812 | 99.34 | 1812 | 1812 | 100.00 | 100.00 | PA-NODE_1_length_1812_cov_50.4665_ID_36 | PA-NODE_1_length_1812_cov_50.4665_ID_36\n",
    "1 | 1129 | 1 | 1129 | 1129 | 1129 | 98.49 | 1129 | 1129 | 100.00 | 100.00 | PB1-NODE_1_length_1129_cov_45.4777_ID_34 | PB1-NODE_1_length_1129_cov_45.4777_ID_34\n",
    "1 | 1240 | 1 | 1240 | 1240 | 1240 | 98.87 | 1240 | 1240 | 100.00 | 100.00 | PB1-NODE_2_length_1240_cov_50.1671_ID_37 | PB1-NODE_2_length_1240_cov_50.1671_ID_37\n",
    "1 | 2356 | 1 | 2356 | 2356 | 2356 | 98.39 | 2356 | 2356 | 100.00 | 100.00 | PB2-NODE_1_length_2356_cov_51.4486_ID_5 | PB2-NODE_1_length_2356_cov_51.4486_ID_5\n",
    "\n",
    "![minion to miseq contigs vs miseq contigs](docs/h3n2-70-minion-to-miseq-contigs-vs-miseq-contigs.png)\n"
   ]
  },
  {
   "cell_type": "markdown",
   "metadata": {},
   "source": [
    "## H3N2-90"
   ]
  },
  {
   "cell_type": "code",
   "execution_count": null,
   "metadata": {
    "collapsed": true
   },
   "outputs": [],
   "source": [
    "cd /home/alan/projects/MinION-notebook/clinical-analysis/minion/8-13\n",
    "ln -s ~/projects/MinION-notebook/miseq-assembly/h3n2-90/f1.8-13-h3n2-90-top-seg-hits.contigs.fasta\n",
    "ln -s /home/alan/projects/MinION-notebook/raw-data/MinION/8-13/flu-8-13.2d.fastq\n",
    "\n",
    "bwa index f1.8-13-h3n2-90-top-seg-hits.contigs.fasta\n",
    "bwa mem -x ont2d -t 30 f1.8-13-h3n2-90-top-seg-hits.contigs.fasta flu-8-13.2d.fastq > flu-8-13.2d.sam\n",
    "samtools view -o flu-8-13.2d.bam -b flu-8-13.2d.sam\n",
    "samtools sort -o flu-8-13.2d.sort.bam flu-8-13.2d.bam\n",
    "samtools index flu-8-13.2d.sort.bam\n",
    "rm flu-8-13.2d.bam flu-8-13.2d.sam\n",
    "\n",
    "for i in $(samtools idxstats flu-8-13.2d.sort.bam | cut -f1 | grep -v '*'); do bamfile_consensus_generate.py \\\n",
    "flu-8-13.2d.sort.bam $i ; done > flu-8-13.2d.consensus.fasta\n",
    "\n",
    "nucmer --maxmatch f1.8-13-h3n2-90-top-seg-hits.contigs.fasta flu-8-13.2d.consensus.fasta\n",
    "delta-filter -l 500 -r out.delta > out.filter\n",
    "show-coords -lcT  out.filter | perl -pe 's/\\t/ | /g'\n",
    "mummerplot --SNP --png out.filter\n"
   ]
  },
  {
   "cell_type": "markdown",
   "metadata": {},
   "source": [
    "S1 | E1 | S2 | E2 | LEN 1 | LEN 2 | % IDY | LEN R | LEN Q | COV R | COV Q | TAGS\n",
    "---|----|----|----|-------|-------|-------|-------|-------|-------|-------|-----\n",
    "1 | 1779 | 1 | 1779 | 1779 | 1779 | 99.38 | 1779 | 1779 | 100.00 | 100.00 | HA | HA\n",
    "1 | 1045 | 1 | 1045 | 1045 | 1045 | 99.52 | 1045 | 1045 | 100.00 | 100.00 | MP | MP\n",
    "1 | 1486 | 1 | 1486 | 1486 | 1486 | 99.46 | 1486 | 1486 | 100.00 | 100.00 | NA | NA\n",
    "1 | 1674 | 1 | 1674 | 1674 | 1674 | 86.98 | 1674 | 1674 | 100.00 | 100.00 | NP | NP\n",
    "1 | 936 | 1 | 936 | 936 | 936 | 99.04 | 1012 | 942 | 92.49 | 99.36 | NS | NS\n",
    "1 | 2254 | 1 | 2254 | 2254 | 2254 | 95.87 | 2254 | 2254 | 100.00 | 100.00 | PA | PA\n",
    "4 | 2363 | 4 | 2363 | 2360 | 2360 | 98.69 | 2363 | 2363 | 99.87 | 99.87 | PB1 | PB1\n",
    "1 | 2357 | 1 | 2357 | 2357 | 2357 | 99.58 | 2357 | 2357 | 100.00 | 100.00 | PB2 | PB2\n",
    "\n",
    "![minion to miseq contigs vs miseq contigs](docs/h3n2-90-minion-to-miseq-contigs-vs-miseq-contigs.png)\n"
   ]
  },
  {
   "cell_type": "markdown",
   "metadata": {},
   "source": [
    "## H3N2-39"
   ]
  },
  {
   "cell_type": "code",
   "execution_count": null,
   "metadata": {
    "collapsed": true
   },
   "outputs": [],
   "source": [
    "cd /home/alan/projects/MinION-notebook/clinical-analysis/minion/4-5\n",
    "ln -s ~/projects/MinION-notebook/miseq-assembly/h3n2-90/f1.8-13-h3n2-90-top-seg-hits.contigs.fasta\n",
    "ln -s /home/alan/projects/MinION-notebook/raw-data/MinION/8-13/flu-8-13.2d.fastq\n",
    "\n",
    "bwa index f1.8-13-h3n2-90-top-seg-hits.contigs.fasta\n",
    "bwa mem -x ont2d -t 30 f1.8-13-h3n2-90-top-seg-hits.contigs.fasta flu-8-13.2d.fastq > flu-8-13.2d.sam\n",
    "samtools view -o flu-8-13.2d.bam -b flu-8-13.2d.sam\n",
    "samtools sort -o flu-8-13.2d.sort.bam flu-8-13.2d.bam\n",
    "samtools index flu-8-13.2d.sort.bam\n",
    "rm flu-8-13.2d.bam flu-8-13.2d.sam\n",
    "\n",
    "for i in $(samtools idxstats flu-8-13.2d.sort.bam | cut -f1 | grep -v '*'); do bamfile_consensus_generate.py \\\n",
    "flu-8-13.2d.sort.bam $i ; done > flu-8-13.2d.consensus.fasta\n",
    "\n",
    "nucmer --maxmatch f1.8-13-h3n2-90-top-seg-hits.contigs.fasta flu-8-13.2d.consensus.fasta\n",
    "delta-filter -l 500 -r out.delta > out.filter\n",
    "show-coords -lcT  out.filter | perl -pe 's/\\t/ | /g'\n",
    "mummerplot --SNP --png out.filter\n"
   ]
  },
  {
   "cell_type": "markdown",
   "metadata": {},
   "source": [
    "S1 | E1 | S2 | E2 | LEN 1 | LEN 2 | % IDY | LEN R | LEN Q | COV R | COV Q | TAGS\n",
    "---|----|----|----|-------|-------|-------|-------|-------|-------|-------|-----\n",
    "1 | 1779 | 1 | 1779 | 1779 | 1779 | 99.38 | 1779 | 1779 | 100.00 | 100.00 | HA | HA\n",
    "1 | 1045 | 1 | 1045 | 1045 | 1045 | 99.52 | 1045 | 1045 | 100.00 | 100.00 | MP | MP\n",
    "1 | 1486 | 1 | 1486 | 1486 | 1486 | 99.46 | 1486 | 1486 | 100.00 | 100.00 | NA | NA\n",
    "1 | 1674 | 1 | 1674 | 1674 | 1674 | 86.98 | 1674 | 1674 | 100.00 | 100.00 | NP | NP\n",
    "1 | 936 | 1 | 936 | 936 | 936 | 99.04 | 1012 | 942 | 92.49 | 99.36 | NS | NS\n",
    "1 | 2254 | 1 | 2254 | 2254 | 2254 | 95.87 | 2254 | 2254 | 100.00 | 100.00 | PA | PA\n",
    "4 | 2363 | 4 | 2363 | 2360 | 2360 | 98.69 | 2363 | 2363 | 99.87 | 99.87 | PB1 | PB1\n",
    "1 | 2357 | 1 | 2357 | 2357 | 2357 | 99.58 | 2357 | 2357 | 100.00 | 100.00 | PB2 | PB2\n",
    "\n",
    "![minion to miseq contigs vs miseq contigs](docs/h3n2-90-minion-to-miseq-contigs-vs-miseq-contigs.png)\n"
   ]
  }
 ],
 "metadata": {
  "kernelspec": {
   "display_name": "Bash",
   "language": "bash",
   "name": "bash"
  },
  "language_info": {
   "codemirror_mode": "shell",
   "file_extension": ".sh",
   "mimetype": "text/x-sh",
   "name": "bash"
  },
  "latex_envs": {
   "bibliofile": "biblio.bib",
   "cite_by": "apalike",
   "current_citInitial": 1,
   "eqLabelWithNumbers": true,
   "eqNumInitial": 0
  },
  "toc": {
   "toc_cell": false,
   "toc_number_sections": true,
   "toc_threshold": 6,
   "toc_window_display": false
  }
 },
 "nbformat": 4,
 "nbformat_minor": 0
}
