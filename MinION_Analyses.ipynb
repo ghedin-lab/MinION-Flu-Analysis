{
 "cells": [
  {
   "cell_type": "markdown",
   "metadata": {
    "heading_collapsed": false,
    "level": 1,
    "toc": "true"
   },
   "source": [
    "# Table of Contents\n",
    " <p><div class=\"lev1\"><a href=\"#Raw-Data\"><span class=\"toc-item-num\">1 - </span>Raw Data</a></div><div class=\"lev2\"><a href=\"#MiSeq-Data\"><span class=\"toc-item-num\">1.1 - </span>MiSeq Data</a></div><div class=\"lev2\"><a href=\"#Ion-Torrent-Data\"><span class=\"toc-item-num\">1.2 - </span>Ion Torrent Data</a></div><div class=\"lev2\"><a href=\"#PacBio-Data\"><span class=\"toc-item-num\">1.3 - </span>PacBio Data</a></div><div class=\"lev2\"><a href=\"#MinION-Data\"><span class=\"toc-item-num\">1.4 - </span>MinION Data</a></div><div class=\"lev1\"><a href=\"#Quads-Analysis\"><span class=\"toc-item-num\">2 - </span>Quads Analysis</a></div><div class=\"lev2\"><a href=\"#Index-References\"><span class=\"toc-item-num\">2.1 - </span>Index References</a></div><div class=\"lev2\"><a href=\"#MiSeq-Alignment\"><span class=\"toc-item-num\">2.2 - </span>MiSeq Alignment</a></div><div class=\"lev2\"><a href=\"#Ion-Torrent-Alignment\"><span class=\"toc-item-num\">2.3 - </span>Ion Torrent Alignment</a></div><div class=\"lev2\"><a href=\"#PacBio-Alignment\"><span class=\"toc-item-num\">2.4 - </span>PacBio Alignment</a></div><div class=\"lev1\"><a href=\"#Clinical-Samples\"><span class=\"toc-item-num\">3 - </span>Clinical Samples</a></div><div class=\"lev2\"><a href=\"#NGM-LR\"><span class=\"toc-item-num\">3.1 - </span>NGM-LR</a></div><div class=\"lev1\"><a href=\"#Error-Correction\"><span class=\"toc-item-num\">4 - </span>Error Correction</a></div><div class=\"lev2\"><a href=\"#Falcon-sense\"><span class=\"toc-item-num\">4.1 - </span>Falcon-sense</a></div><div class=\"lev2\"><a href=\"#Nanopolish\"><span class=\"toc-item-num\">4.2 - </span>Nanopolish</a></div>"
   ]
  },
  {
   "cell_type": "markdown",
   "metadata": {
    "level": 1
   },
   "source": [
    "# Raw Data"
   ]
  },
  {
   "cell_type": "markdown",
   "metadata": {
    "collapsed": true,
    "level": 7
   },
   "source": [
    "The directory \"/home/alan/projects/MinION-notebook/raw-data\" holds the raw data used in the analyses."
   ]
  },
  {
   "cell_type": "markdown",
   "metadata": {
    "heading_collapsed": true,
    "level": 2
   },
   "source": [
    "## MiSeq Data"
   ]
  },
  {
   "cell_type": "code",
   "execution_count": 9,
   "metadata": {
    "ExecuteTime": {
     "end_time": "2016-02-17T15:11:38.600616",
     "start_time": "2016-02-17T15:11:38.393134"
    },
    "collapsed": false,
    "level": 7
   },
   "outputs": [
    {
     "name": "stdout",
     "output_type": "stream",
     "text": [
      "flub-standard.r1.fastq.gz     h1n1-standard.r2.fastq.gz\r\n",
      "flub-standard.r2.fastq.gz     h3n2-standard.r1.fastq.gz\r\n",
      "flu-mix-standard.fastq\t      h3n2-standard.r2.fastq.gz\r\n",
      "flu-mix-standard.r1.fastq.gz  plasmid.r1.fastq.gz\r\n",
      "flu-mix-standard.r2.fastq.gz  plasmid.r2.fastq.gz\r\n",
      "h1n1-standard.r1.fastq.gz\r\n"
     ]
    }
   ],
   "source": [
    "ls MiSeq/lab-strains"
   ]
  },
  {
   "cell_type": "markdown",
   "metadata": {
    "level": 7
   },
   "source": [
    "All are self explanatory with the flu-mix being a mix of all three subtypes and the plasmid being HA?"
   ]
  },
  {
   "cell_type": "code",
   "execution_count": 10,
   "metadata": {
    "ExecuteTime": {
     "end_time": "2016-02-17T15:13:00.802241",
     "start_time": "2016-02-17T15:13:00.593833"
    },
    "collapsed": false,
    "level": 7
   },
   "outputs": [
    {
     "name": "stdout",
     "output_type": "stream",
     "text": [
      "a1.r1.fastq.gz\tb1.r1.fastq.gz\tc2.r1.fastq.gz\td3.r1.fastq.gz\tf1.r1.fastq.gz\r\n",
      "a1.r2.fastq.gz\tb1.r2.fastq.gz\tc2.r2.fastq.gz\td3.r2.fastq.gz\tf1.r2.fastq.gz\r\n",
      "a2.r1.fastq.gz\tb2.r1.fastq.gz\tc3.r1.fastq.gz\te1.r1.fastq.gz\tf2.r1.fastq.gz\r\n",
      "a2.r2.fastq.gz\tb2.r2.fastq.gz\tc3.r2.fastq.gz\te1.r2.fastq.gz\tf2.r2.fastq.gz\r\n",
      "a3.r1.fastq.gz\tb3.r1.fastq.gz\td1.r1.fastq.gz\te2.r1.fastq.gz\tf3.r1.fastq.gz\r\n",
      "a3.r2.fastq.gz\tb3.r2.fastq.gz\td1.r2.fastq.gz\te2.r2.fastq.gz\tf3.r2.fastq.gz\r\n",
      "a4.r1.fastq.gz\tc1.r1.fastq.gz\td2.r1.fastq.gz\te3.r1.fastq.gz\r\n",
      "a4.r2.fastq.gz\tc1.r2.fastq.gz\td2.r2.fastq.gz\te3.r2.fastq.gz\r\n"
     ]
    }
   ],
   "source": [
    "ls MiSeq/clinical-strains"
   ]
  },
  {
   "cell_type": "markdown",
   "metadata": {
    "level": 7
   },
   "source": [
    "a1 = H1N1\n",
    "c1 = H3N2-70\n",
    "f1 = H3N2-90\n",
    "f3 = FluB\n",
    "\n",
    "The rest were not used in any MinION analysis"
   ]
  },
  {
   "cell_type": "markdown",
   "metadata": {
    "level": 2
   },
   "source": [
    "## Ion Torrent Data"
   ]
  },
  {
   "cell_type": "markdown",
   "metadata": {},
   "source": [
    "All three subtypes were sequenced together."
   ]
  },
  {
   "cell_type": "code",
   "execution_count": 12,
   "metadata": {
    "ExecuteTime": {
     "end_time": "2016-02-17T15:21:06.142816",
     "start_time": "2016-02-17T15:21:05.935278"
    },
    "collapsed": false,
    "level": 7
   },
   "outputs": [
    {
     "name": "stdout",
     "output_type": "stream",
     "text": [
      "R_2015_05_09_01_13_59_user_SN2-44-Ghedin_400_bp.fastq\r\n"
     ]
    }
   ],
   "source": [
    "ls /home/alan/projects/MinION-notebook/raw-data/IonTorrent"
   ]
  },
  {
   "cell_type": "markdown",
   "metadata": {
    "level": 2
   },
   "source": [
    "## PacBio Data"
   ]
  },
  {
   "cell_type": "markdown",
   "metadata": {},
   "source": [
    "All three subtypes were sequenced together."
   ]
  },
  {
   "cell_type": "code",
   "execution_count": 18,
   "metadata": {
    "ExecuteTime": {
     "end_time": "2016-02-18T11:52:30.744928",
     "start_time": "2016-02-18T11:52:30.536682"
    },
    "collapsed": false,
    "level": 7,
    "run_control": {
     "marked": false
    }
   },
   "outputs": [
    {
     "name": "stdout",
     "output_type": "stream",
     "text": [
      "ls: cannot access PacBio: No such file or directory\r\n"
     ]
    }
   ],
   "source": [
    "ls /home/alan/projects/MinION-notebook/raw-data/PacBio"
   ]
  },
  {
   "cell_type": "markdown",
   "metadata": {
    "level": 2
   },
   "source": [
    "## MinION Data"
   ]
  },
  {
   "cell_type": "markdown",
   "metadata": {},
   "source": [
    "There were four separate runs:\n",
    "1) 4-20\n",
    "    * lab strain H1N1\n",
    "    * lab strain FluB\n",
    "    * lab strain H3N2\n",
    "2) 6-4\n",
    "    * clinical pH1N1 (a1)\n",
    "    * clinical FluB 14 (f3)\n",
    "    * clinical H3N2-70 (c1)\n",
    "3) 8-13 - to generate more data to obtain better consensus\n",
    "    * clinical pH1N1 (a1)\n",
    "        * spike-in purified, non-size selected sample to compensate for loss of M/NS\n",
    "    * clinical FluB 14 NP Only (f3)\n",
    "        * This was selected for because the rest of segments were well covered\n",
    "    * clinical H3N2-90 (f1)\n",
    "    * lab strain FluB HA plasmid\n",
    "4) 11-9\n",
    "    * clinical FluB 14 (f3)\n",
    "    * lab strain H1N1\n",
    "    * lab strain H3N2\n",
    "    * lab strain FluB PB1 plasmid\n",
    "        * Used to resolve a putative sequence-specific error seen in SK005\n",
    "\n",
    "All but the 11-9 run were sequenced using SK005 and using the older basecalling algorithm. These data were rebasecalled using the updated algorithm, hence anyhting denoting \"rebasecalled\" in the name. The rebasecalled data are the only data considered in the analysis."
   ]
  },
  {
   "cell_type": "code",
   "execution_count": 17,
   "metadata": {
    "ExecuteTime": {
     "end_time": "2016-02-17T15:52:28.668696",
     "start_time": "2016-02-17T15:49:42.185638"
    },
    "collapsed": false,
    "level": 7
   },
   "outputs": [
    {
     "name": "stdout",
     "output_type": "stream",
     "text": []
    }
   ],
   "source": [
    "cd /home/alan/projects/MinION-notebook/raw-data/MinION/4-20\n",
    "poretools fastq --type 2D /data1/share/raw-sequencing-data/MinION/Flu_4_20_rebasecalled/pass > flu-4-20.2d.fastq\n",
    "poretools fastq --type 2D /data1/share/raw-sequencing-data/MinION/Flu_4_21_rebasecalled/pass > flu-4-21.2d.fastq\n",
    "cat flu-4-20.2d.fastq flu-4-21.2d.fastq > flu-4-20.fastq\n",
    "rm flu-4-20.2d.fastq flu-4-21.2d.fastq"
   ]
  },
  {
   "cell_type": "code",
   "execution_count": 18,
   "metadata": {
    "ExecuteTime": {
     "end_time": "2016-02-17T15:54:40.766528",
     "start_time": "2016-02-17T15:52:28.671140"
    },
    "collapsed": false,
    "level": 7
   },
   "outputs": [
    {
     "name": "stdout",
     "output_type": "stream",
     "text": []
    }
   ],
   "source": [
    "cd /home/alan/projects/MinION-notebook/raw-data/MinION/6-4\n",
    "poretools fastq --type 2D /data1/share/raw-sequencing-data/MinION/Flu_6_4_clinical/rebasecalled/pass > flu-6-4.2d.fastq"
   ]
  },
  {
   "cell_type": "code",
   "execution_count": 19,
   "metadata": {
    "ExecuteTime": {
     "end_time": "2016-02-17T15:55:09.374927",
     "start_time": "2016-02-17T15:54:40.768896"
    },
    "collapsed": false,
    "level": 7
   },
   "outputs": [
    {
     "name": "stdout",
     "output_type": "stream",
     "text": []
    }
   ],
   "source": [
    "cd /home/alan/projects/MinION-notebook/raw-data/MinION/8-13\n",
    "poretools fastq --type 2D /data1/share/raw-sequencing-data/MinION/Flu_8_13_clinical/rebasecalled/pass > flu-8-13.2d.fastq"
   ]
  },
  {
   "cell_type": "code",
   "execution_count": 20,
   "metadata": {
    "ExecuteTime": {
     "end_time": "2016-02-17T15:59:52.260832",
     "start_time": "2016-02-17T15:55:09.377391"
    },
    "collapsed": false,
    "level": 7
   },
   "outputs": [
    {
     "name": "stdout",
     "output_type": "stream",
     "text": []
    }
   ],
   "source": [
    "cd /home/alan/projects/MinION-notebook/raw-data/MinION/11-9\n",
    "poretools fastq --type 2D /data1/share/raw-sequencing-data/MinION/Flu_11_09_clinical/pass > flu-11-9.2d.fastq"
   ]
  },
  {
   "cell_type": "markdown",
   "metadata": {},
   "source": [
    "Convert all of the fastq files to fasta for future use."
   ]
  },
  {
   "cell_type": "code",
   "execution_count": null,
   "metadata": {
    "collapsed": true
   },
   "outputs": [],
   "source": [
    "cd /home/alan/projects/MinION-notebook/raw-data/MinION/ \n",
    "\n",
    "for i in $(ls */*fastq | perl -pe 's/q$//g'); do 1line-fasta.pl ${i}q > ${i}a; done"
   ]
  },
  {
   "cell_type": "markdown",
   "metadata": {
    "level": 1
   },
   "source": [
    "# Quads Analysis"
   ]
  },
  {
   "cell_type": "markdown",
   "metadata": {},
   "source": [
    "For the lab strains, each subtype was sequenced on the MinION, MiSeq, PacBio, and Ion Torrent. The purpose for this was to compare all four platforms for pros/cons as well as serving as a benchmark for the MinION's perfomance, specifically with Flu.\n",
    "\n",
    "The reference sequences are known so the analysis is straightforward:\n",
    "1) Align to the reference sequence\n",
    "2) Generate consensus sequence\n",
    "3) Compare consensus to the reference"
   ]
  },
  {
   "cell_type": "markdown",
   "metadata": {
    "heading_collapsed": false,
    "level": 2
   },
   "source": [
    "## Index References\n",
    "bwa mem, blasr, and bowtie2 are the aligners that were used. The reference sequences were indexed accordingly. These sequences are CDS only and the largest of the CDS are the ones chosen. In retrospect this may not have been ideal considering we have two single-molecule sequencing platforms but there were no noticeable problems with this analysis."
   ]
  },
  {
   "cell_type": "code",
   "execution_count": 21,
   "metadata": {
    "ExecuteTime": {
     "end_time": "2016-02-17T16:39:37.771754",
     "start_time": "2016-02-17T16:39:36.519193"
    },
    "collapsed": true,
    "level": 7
   },
   "outputs": [
    {
     "name": "stdout",
     "output_type": "stream",
     "text": [
      "Settings:\r\n",
      "  Output files: \"quads-study-reference-sequence.fasta.*.bt2\"\r\n",
      "  Line rate: 6 (line is 64 bytes)\r\n",
      "  Lines per side: 1 (side is 64 bytes)\r\n",
      "  Offset rate: 4 (one in 16)\r\n",
      "  FTable chars: 10\r\n",
      "  Strings: unpacked\r\n",
      "  Max bucket size: default\r\n",
      "  Max bucket size, sqrt multiplier: default\r\n",
      "  Max bucket size, len divisor: 4\r\n",
      "  Difference-cover sample period: 1024\r\n",
      "  Endianness: little\r\n",
      "  Actual local endianness: little\r\n",
      "  Sanity checking: disabled\r\n",
      "  Assertions: disabled\r\n",
      "  Random seed: 0\r\n",
      "  Sizeofs: void*:8, int:4, long:8, size_t:8\r\n",
      "Input files DNA, FASTA:\r\n",
      "  quads-study-reference-sequence.fasta\r\n",
      "Building a SMALL index\r\n",
      "Reading reference sizes\r\n",
      "  Time reading reference sizes: 00:00:00\r\n",
      "Calculating joined length\r\n",
      "Writing header\r\n",
      "Reserving space for joined string\r\n",
      "Joining reference sequences\r\n",
      "  Time to join reference sequences: 00:00:00\r\n",
      "bmax according to bmaxDivN setting: 9782\r\n",
      "Using parameters --bmax 7337 --dcv 1024\r\n",
      "  Doing ahead-of-time memory usage test\r\n",
      "  Passed!  Constructing with these parameters: --bmax 7337 --dcv 1024\r\n",
      "Constructing suffix-array element generator\r\n",
      "Building DifferenceCoverSample\r\n",
      "  Building sPrime\r\n",
      "  Building sPrimeOrder\r\n",
      "  V-Sorting samples\r\n",
      "  V-Sorting samples time: 00:00:00\r\n",
      "  Allocating rank array\r\n",
      "  Ranking v-sort output\r\n",
      "  Ranking v-sort output time: 00:00:00\r\n",
      "  Invoking Larsson-Sadakane on ranks\r\n",
      "  Invoking Larsson-Sadakane on ranks time: 00:00:00\r\n",
      "  Sanity-checking and returning\r\n",
      "Building samples\r\n",
      "Reserving space for 12 sample suffixes\r\n",
      "Generating random suffixes\r\n",
      "QSorting 12 sample offsets, eliminating duplicates\r\n",
      "QSorting sample offsets, eliminating duplicates time: 00:00:00\r\n",
      "Multikey QSorting 12 samples\r\n",
      "  (Using difference cover)\r\n",
      "  Multikey QSorting samples time: 00:00:00\r\n",
      "Calculating bucket sizes\r\n",
      "  Binary sorting into buckets\r\n",
      "  10%\r\n",
      "  20%\r\n",
      "  30%\r\n",
      "  40%\r\n",
      "  50%\r\n",
      "  60%\r\n",
      "  70%\r\n",
      "  80%\r\n",
      "  90%\r\n",
      "  100%\r\n",
      "  Binary sorting into buckets time: 00:00:00\r\n",
      "Splitting and merging\r\n",
      "  Splitting and merging time: 00:00:00\r\n",
      "Split 1, merged 6; iterating...\r\n",
      "  Binary sorting into buckets\r\n",
      "  10%\r\n",
      "  20%\r\n",
      "  30%\r\n",
      "  40%\r\n",
      "  50%\r\n",
      "  60%\r\n",
      "  70%\r\n",
      "  80%\r\n",
      "  90%\r\n",
      "  100%\r\n",
      "  Binary sorting into buckets time: 00:00:00\r\n",
      "Splitting and merging\r\n",
      "  Splitting and merging time: 00:00:00\r\n",
      "Avg bucket size: 4890.38 (target: 7336)\r\n",
      "Converting suffix-array elements to index image\r\n",
      "Allocating ftab, absorbFtab\r\n",
      "Entering Ebwt loop\r\n",
      "Getting block 1 of 8\r\n",
      "  Reserving size (7337) for bucket\r\n",
      "  Calculating Z arrays\r\n",
      "  Calculating Z arrays time: 00:00:00\r\n",
      "  Entering block accumulator loop:\r\n",
      "  10%\r\n",
      "  20%\r\n",
      "  30%\r\n",
      "  40%\r\n",
      "  50%\r\n",
      "  60%\r\n",
      "  70%\r\n",
      "  80%\r\n",
      "  90%\r\n",
      "  100%\r\n",
      "  Block accumulator loop time: 00:00:00\r\n",
      "  Sorting block of length 5207\r\n",
      "  (Using difference cover)\r\n",
      "  Sorting block time: 00:00:00\r\n",
      "Returning block of 5208\r\n",
      "Getting block 2 of 8\r\n",
      "  Reserving size (7337) for bucket\r\n",
      "  Calculating Z arrays\r\n",
      "  Calculating Z arrays time: 00:00:00\r\n",
      "  Entering block accumulator loop:\r\n",
      "  10%\r\n",
      "  20%\r\n",
      "  30%\r\n",
      "  40%\r\n",
      "  50%\r\n",
      "  60%\r\n",
      "  70%\r\n",
      "  80%\r\n",
      "  90%\r\n",
      "  100%\r\n",
      "  Block accumulator loop time: 00:00:00\r\n",
      "  Sorting block of length 6080\r\n",
      "  (Using difference cover)\r\n",
      "  Sorting block time: 00:00:00\r\n",
      "Returning block of 6081\r\n",
      "Getting block 3 of 8\r\n",
      "  Reserving size (7337) for bucket\r\n",
      "  Calculating Z arrays\r\n",
      "  Calculating Z arrays time: 00:00:00\r\n",
      "  Entering block accumulator loop:\r\n",
      "  10%\r\n",
      "  20%\r\n",
      "  30%\r\n",
      "  40%\r\n",
      "  50%\r\n",
      "  60%\r\n",
      "  70%\r\n",
      "  80%\r\n",
      "  90%\r\n",
      "  100%\r\n",
      "  Block accumulator loop time: 00:00:00\r\n",
      "  Sorting block of length 1529\r\n",
      "  (Using difference cover)\r\n",
      "  Sorting block time: 00:00:00\r\n",
      "Returning block of 1530\r\n",
      "Getting block 4 of 8\r\n",
      "  Reserving size (7337) for bucket\r\n",
      "  Calculating Z arrays\r\n",
      "  Calculating Z arrays time: 00:00:00\r\n",
      "  Entering block accumulator loop:\r\n",
      "  10%\r\n",
      "  20%\r\n",
      "  30%\r\n",
      "  40%\r\n",
      "  50%\r\n",
      "  60%\r\n",
      "  70%\r\n",
      "  80%\r\n",
      "  90%\r\n",
      "  100%\r\n",
      "  Block accumulator loop time: 00:00:00\r\n",
      "  Sorting block of length 6232\r\n",
      "  (Using difference cover)\r\n",
      "  Sorting block time: 00:00:00\r\n",
      "Returning block of 6233\r\n",
      "Getting block 5 of 8\r\n",
      "  Reserving size (7337) for bucket\r\n",
      "  Calculating Z arrays\r\n",
      "  Calculating Z arrays time: 00:00:00\r\n",
      "  Entering block accumulator loop:\r\n",
      "  10%\r\n",
      "  20%\r\n",
      "  30%\r\n",
      "  40%\r\n",
      "  50%\r\n",
      "  60%\r\n",
      "  70%\r\n",
      "  80%\r\n",
      "  90%\r\n",
      "  100%\r\n",
      "  Block accumulator loop time: 00:00:00\r\n",
      "  Sorting block of length 4850\r\n",
      "  (Using difference cover)\r\n",
      "  Sorting block time: 00:00:00\r\n",
      "Returning block of 4851\r\n",
      "Getting block 6 of 8\r\n",
      "  Reserving size (7337) for bucket\r\n",
      "  Calculating Z arrays\r\n",
      "  Calculating Z arrays time: 00:00:00\r\n",
      "  Entering block accumulator loop:\r\n",
      "  10%\r\n",
      "  20%\r\n",
      "  30%\r\n",
      "  40%\r\n",
      "  50%\r\n",
      "  60%\r\n",
      "  70%\r\n",
      "  80%\r\n",
      "  90%\r\n",
      "  100%\r\n",
      "  Block accumulator loop time: 00:00:00\r\n",
      "  Sorting block of length 5079\r\n",
      "  (Using difference cover)\r\n",
      "  Sorting block time: 00:00:00\r\n",
      "Returning block of 5080\r\n",
      "Getting block 7 of 8\r\n",
      "  Reserving size (7337) for bucket\r\n",
      "  Calculating Z arrays\r\n",
      "  Calculating Z arrays time: 00:00:00\r\n",
      "  Entering block accumulator loop:\r\n",
      "  10%\r\n",
      "  20%\r\n",
      "  30%\r\n",
      "  40%\r\n",
      "  50%\r\n",
      "  60%\r\n",
      "  70%\r\n",
      "  80%\r\n",
      "  90%\r\n",
      "  100%\r\n",
      "  Block accumulator loop time: 00:00:00\r\n",
      "  Sorting block of length 4408\r\n",
      "  (Using difference cover)\r\n",
      "  Sorting block time: 00:00:00\r\n",
      "Returning block of 4409\r\n",
      "Getting block 8 of 8\r\n",
      "  Reserving size (7337) for bucket\r\n",
      "  Calculating Z arrays\r\n",
      "  Calculating Z arrays time: 00:00:00\r\n",
      "  Entering block accumulator loop:\r\n",
      "  10%\r\n",
      "  20%\r\n",
      "  30%\r\n",
      "  40%\r\n",
      "  50%\r\n",
      "  60%\r\n",
      "  70%\r\n",
      "  80%\r\n",
      "  90%\r\n",
      "  100%\r\n",
      "  Block accumulator loop time: 00:00:00\r\n",
      "  Sorting block of length 5738\r\n",
      "  (Using difference cover)\r\n",
      "  Sorting block time: 00:00:00\r\n",
      "Returning block of 5739\r\n",
      "Exited Ebwt loop\r\n",
      "fchr[A]: 0\r\n",
      "fchr[C]: 13416\r\n",
      "fchr[G]: 20783\r\n",
      "fchr[T]: 30047\r\n",
      "fchr[$]: 39130\r\n",
      "Exiting Ebwt::buildToDisk()\r\n",
      "Returning from initFromVector\r\n",
      "Wrote 4211423 bytes to primary EBWT file: quads-study-reference-sequence.fasta.1.bt2\r\n",
      "Wrote 9788 bytes to secondary EBWT file: quads-study-reference-sequence.fasta.2.bt2\r\n",
      "Re-opening _in1 and _in2 as input streams\r\n",
      "Returning from Ebwt constructor\r\n",
      "Headers:\r\n",
      "    len: 39130\r\n",
      "    bwtLen: 39131\r\n",
      "    sz: 9783\r\n",
      "    bwtSz: 9783\r\n",
      "    lineRate: 6\r\n",
      "    offRate: 4\r\n",
      "    offMask: 0xfffffff0\r\n",
      "    ftabChars: 10\r\n",
      "    eftabLen: 20\r\n",
      "    eftabSz: 80\r\n",
      "    ftabLen: 1048577\r\n",
      "    ftabSz: 4194308\r\n",
      "    offsLen: 2446\r\n",
      "    offsSz: 9784\r\n",
      "    lineSz: 64\r\n",
      "    sideSz: 64\r\n",
      "    sideBwtSz: 48\r\n",
      "    sideBwtLen: 192\r\n",
      "    numSides: 204\r\n",
      "    numLines: 204\r\n",
      "    ebwtTotLen: 13056\r\n",
      "    ebwtTotSz: 13056\r\n",
      "    color: 0\r\n",
      "    reverse: 0\r\n",
      "Total time for call to driver() for forward index: 00:00:01\r\n",
      "Reading reference sizes\r\n",
      "  Time reading reference sizes: 00:00:00\r\n",
      "Calculating joined length\r\n",
      "Writing header\r\n",
      "Reserving space for joined string\r\n",
      "Joining reference sequences\r\n",
      "  Time to join reference sequences: 00:00:00\r\n",
      "  Time to reverse reference sequence: 00:00:00\r\n",
      "bmax according to bmaxDivN setting: 9782\r\n",
      "Using parameters --bmax 7337 --dcv 1024\r\n",
      "  Doing ahead-of-time memory usage test\r\n",
      "  Passed!  Constructing with these parameters: --bmax 7337 --dcv 1024\r\n",
      "Constructing suffix-array element generator\r\n",
      "Building DifferenceCoverSample\r\n",
      "  Building sPrime\r\n",
      "  Building sPrimeOrder\r\n",
      "  V-Sorting samples\r\n",
      "  V-Sorting samples time: 00:00:00\r\n",
      "  Allocating rank array\r\n",
      "  Ranking v-sort output\r\n",
      "  Ranking v-sort output time: 00:00:00\r\n",
      "  Invoking Larsson-Sadakane on ranks\r\n",
      "  Invoking Larsson-Sadakane on ranks time: 00:00:00\r\n",
      "  Sanity-checking and returning\r\n",
      "Building samples\r\n",
      "Reserving space for 12 sample suffixes\r\n",
      "Generating random suffixes\r\n",
      "QSorting 12 sample offsets, eliminating duplicates\r\n",
      "QSorting sample offsets, eliminating duplicates time: 00:00:00\r\n",
      "Multikey QSorting 12 samples\r\n",
      "  (Using difference cover)\r\n",
      "  Multikey QSorting samples time: 00:00:00\r\n",
      "Calculating bucket sizes\r\n",
      "  Binary sorting into buckets\r\n",
      "  10%\r\n",
      "  20%\r\n",
      "  30%\r\n",
      "  40%\r\n",
      "  50%\r\n",
      "  60%\r\n",
      "  70%\r\n",
      "  80%\r\n",
      "  90%\r\n",
      "  100%\r\n",
      "  Binary sorting into buckets time: 00:00:00\r\n",
      "Splitting and merging\r\n",
      "  Splitting and merging time: 00:00:00\r\n",
      "Split 2, merged 6; iterating...\r\n",
      "  Binary sorting into buckets\r\n",
      "  10%\r\n",
      "  20%\r\n",
      "  30%\r\n",
      "  40%\r\n",
      "  50%\r\n",
      "  60%\r\n",
      "  70%\r\n",
      "  80%\r\n",
      "  90%\r\n",
      "  100%\r\n",
      "  Binary sorting into buckets time: 00:00:00\r\n",
      "Splitting and merging\r\n",
      "  Splitting and merging time: 00:00:00\r\n",
      "Split 1, merged 2; iterating...\r\n",
      "  Binary sorting into buckets\r\n",
      "  10%\r\n",
      "  20%\r\n",
      "  30%\r\n",
      "  40%\r\n",
      "  50%\r\n",
      "  60%\r\n",
      "  70%\r\n",
      "  80%\r\n",
      "  90%\r\n",
      "  100%\r\n",
      "  Binary sorting into buckets time: 00:00:00\r\n",
      "Splitting and merging\r\n",
      "  Splitting and merging time: 00:00:00\r\n",
      "Avg bucket size: 4890.38 (target: 7336)\r\n",
      "Converting suffix-array elements to index image\r\n",
      "Allocating ftab, absorbFtab\r\n",
      "Entering Ebwt loop\r\n",
      "Getting block 1 of 8\r\n",
      "  Reserving size (7337) for bucket\r\n",
      "  Calculating Z arrays\r\n",
      "  Calculating Z arrays time: 00:00:00\r\n",
      "  Entering block accumulator loop:\r\n",
      "  10%\r\n",
      "  20%\r\n",
      "  30%\r\n",
      "  40%\r\n",
      "  50%\r\n",
      "  60%\r\n",
      "  70%\r\n",
      "  80%\r\n",
      "  90%\r\n",
      "  100%\r\n",
      "  Block accumulator loop time: 00:00:00\r\n",
      "  Sorting block of length 5423\r\n",
      "  (Using difference cover)\r\n",
      "  Sorting block time: 00:00:00\r\n",
      "Returning block of 5424\r\n",
      "Getting block 2 of 8\r\n",
      "  Reserving size (7337) for bucket\r\n",
      "  Calculating Z arrays\r\n",
      "  Calculating Z arrays time: 00:00:00\r\n",
      "  Entering block accumulator loop:\r\n",
      "  10%\r\n",
      "  20%\r\n",
      "  30%\r\n",
      "  40%\r\n",
      "  50%\r\n",
      "  60%\r\n",
      "  70%\r\n",
      "  80%\r\n",
      "  90%\r\n",
      "  100%\r\n",
      "  Block accumulator loop time: 00:00:00\r\n",
      "  Sorting block of length 6351\r\n",
      "  (Using difference cover)\r\n",
      "  Sorting block time: 00:00:00\r\n",
      "Returning block of 6352\r\n",
      "Getting block 3 of 8\r\n",
      "  Reserving size (7337) for bucket\r\n",
      "  Calculating Z arrays\r\n",
      "  Calculating Z arrays time: 00:00:00\r\n",
      "  Entering block accumulator loop:\r\n",
      "  10%\r\n",
      "  20%\r\n",
      "  30%\r\n",
      "  40%\r\n",
      "  50%\r\n",
      "  60%\r\n",
      "  70%\r\n",
      "  80%\r\n",
      "  90%\r\n",
      "  100%\r\n",
      "  Block accumulator loop time: 00:00:00\r\n",
      "  Sorting block of length 4815\r\n",
      "  (Using difference cover)\r\n",
      "  Sorting block time: 00:00:00\r\n",
      "Returning block of 4816\r\n",
      "Getting block 4 of 8\r\n",
      "  Reserving size (7337) for bucket\r\n",
      "  Calculating Z arrays\r\n",
      "  Calculating Z arrays time: 00:00:00\r\n",
      "  Entering block accumulator loop:\r\n",
      "  10%\r\n",
      "  20%\r\n",
      "  30%\r\n",
      "  40%\r\n",
      "  50%\r\n",
      "  60%\r\n",
      "  70%\r\n",
      "  80%\r\n",
      "  90%\r\n",
      "  100%\r\n",
      "  Block accumulator loop time: 00:00:00\r\n",
      "  Sorting block of length 3576\r\n",
      "  (Using difference cover)\r\n",
      "  Sorting block time: 00:00:00\r\n",
      "Returning block of 3577\r\n",
      "Getting block 5 of 8\r\n",
      "  Reserving size (7337) for bucket\r\n",
      "  Calculating Z arrays\r\n",
      "  Calculating Z arrays time: 00:00:00\r\n",
      "  Entering block accumulator loop:\r\n",
      "  10%\r\n",
      "  20%\r\n",
      "  30%\r\n",
      "  40%\r\n",
      "  50%\r\n",
      "  60%\r\n",
      "  70%\r\n",
      "  80%\r\n",
      "  90%\r\n",
      "  100%\r\n",
      "  Block accumulator loop time: 00:00:00\r\n",
      "  Sorting block of length 4043\r\n",
      "  (Using difference cover)\r\n",
      "  Sorting block time: 00:00:00\r\n",
      "Returning block of 4044\r\n",
      "Getting block 6 of 8\r\n",
      "  Reserving size (7337) for bucket\r\n",
      "  Calculating Z arrays\r\n",
      "  Calculating Z arrays time: 00:00:00\r\n",
      "  Entering block accumulator loop:\r\n",
      "  10%\r\n",
      "  20%\r\n",
      "  30%\r\n",
      "  40%\r\n",
      "  50%\r\n",
      "  60%\r\n",
      "  70%\r\n",
      "  80%\r\n",
      "  90%\r\n",
      "  100%\r\n",
      "  Block accumulator loop time: 00:00:00\r\n",
      "  Sorting block of length 6826\r\n",
      "  (Using difference cover)\r\n",
      "  Sorting block time: 00:00:00\r\n",
      "Returning block of 6827\r\n",
      "Getting block 7 of 8\r\n",
      "  Reserving size (7337) for bucket\r\n",
      "  Calculating Z arrays\r\n",
      "  Calculating Z arrays time: 00:00:00\r\n",
      "  Entering block accumulator loop:\r\n",
      "  10%\r\n",
      "  20%\r\n",
      "  30%\r\n",
      "  40%\r\n",
      "  50%\r\n",
      "  60%\r\n",
      "  70%\r\n",
      "  80%\r\n",
      "  90%\r\n",
      "  100%\r\n",
      "  Block accumulator loop time: 00:00:00\r\n",
      "  Sorting block of length 1735\r\n",
      "  (Using difference cover)\r\n",
      "  Sorting block time: 00:00:00\r\n",
      "Returning block of 1736\r\n",
      "Getting block 8 of 8\r\n",
      "  Reserving size (7337) for bucket\r\n",
      "  Calculating Z arrays\r\n",
      "  Calculating Z arrays time: 00:00:00\r\n",
      "  Entering block accumulator loop:\r\n",
      "  10%\r\n",
      "  20%\r\n",
      "  30%\r\n",
      "  40%\r\n",
      "  50%\r\n",
      "  60%\r\n",
      "  70%\r\n",
      "  80%\r\n",
      "  90%\r\n",
      "  100%\r\n",
      "  Block accumulator loop time: 00:00:00\r\n",
      "  Sorting block of length 6354\r\n",
      "  (Using difference cover)\r\n",
      "  Sorting block time: 00:00:00\r\n",
      "Returning block of 6355\r\n",
      "Exited Ebwt loop\r\n",
      "fchr[A]: 0\r\n",
      "fchr[C]: 13416\r\n",
      "fchr[G]: 20783\r\n",
      "fchr[T]: 30047\r\n",
      "fchr[$]: 39130\r\n",
      "Exiting Ebwt::buildToDisk()\r\n",
      "Returning from initFromVector\r\n",
      "Wrote 4211423 bytes to primary EBWT file: quads-study-reference-sequence.fasta.rev.1.bt2\r\n",
      "Wrote 9788 bytes to secondary EBWT file: quads-study-reference-sequence.fasta.rev.2.bt2\r\n",
      "Re-opening _in1 and _in2 as input streams\r\n",
      "Returning from Ebwt constructor\r\n",
      "Headers:\r\n",
      "    len: 39130\r\n",
      "    bwtLen: 39131\r\n",
      "    sz: 9783\r\n",
      "    bwtSz: 9783\r\n",
      "    lineRate: 6\r\n",
      "    offRate: 4\r\n",
      "    offMask: 0xfffffff0\r\n",
      "    ftabChars: 10\r\n",
      "    eftabLen: 20\r\n",
      "    eftabSz: 80\r\n",
      "    ftabLen: 1048577\r\n",
      "    ftabSz: 4194308\r\n",
      "    offsLen: 2446\r\n",
      "    offsSz: 9784\r\n",
      "    lineSz: 64\r\n",
      "    sideSz: 64\r\n",
      "    sideBwtSz: 48\r\n",
      "    sideBwtLen: 192\r\n",
      "    numSides: 204\r\n",
      "    numLines: 204\r\n",
      "    ebwtTotLen: 13056\r\n",
      "    ebwtTotSz: 13056\r\n",
      "    color: 0\r\n",
      "    reverse: 1\r\n",
      "Total time for backward call to driver() for mirror index: 00:00:00\r\n",
      "[bwa_index] Pack FASTA... 0.00 sec\r\n",
      "[bwa_index] Construct BWT for the packed sequence...\r\n",
      "[bwa_index] 0.02 seconds elapse.\r\n",
      "[bwa_index] Update BWT... 0.00 sec\r\n",
      "[bwa_index] Pack forward-only FASTA... 0.00 sec\r\n",
      "[bwa_index] Construct SA from BWT and Occ... 0.01 sec\r\n",
      "[main] Version: 0.7.12-r1039\r\n",
      "[main] CMD: bwa index quads-study-reference-sequence.fasta\r\n",
      "[main] Real time: 0.324 sec; CPU: 0.032 sec\r\n"
     ]
    }
   ],
   "source": [
    "cd /home/alan/projects/MinION-notebook/reference-sequences\n",
    "bowtie2-build quads-study-reference-sequence.fasta quads-study-reference-sequence.fasta\n",
    "\n",
    "bwa index quads-study-reference-sequence.fasta"
   ]
  },
  {
   "cell_type": "markdown",
   "metadata": {
    "heading_collapsed": false,
    "level": 2
   },
   "source": [
    "## MiSeq Alignment\n",
    "Miseq data were aligned to the sequenes using bowtie2."
   ]
  },
  {
   "cell_type": "code",
   "execution_count": 13,
   "metadata": {
    "ExecuteTime": {
     "end_time": "2016-02-18T11:18:43.370454",
     "start_time": "2016-02-18T11:12:43.803750"
    },
    "collapsed": false,
    "level": 7
   },
   "outputs": [
    {
     "name": "stdout",
     "output_type": "stream",
     "text": [
      "854480 reads; of these:\r\n",
      "  854480 (100.00%) were paired; of these:\r\n",
      "    418476 (48.97%) aligned concordantly 0 times\r\n",
      "    429292 (50.24%) aligned concordantly exactly 1 time\r\n",
      "    6712 (0.79%) aligned concordantly >1 times\r\n",
      "    ----\r\n",
      "    418476 pairs aligned concordantly 0 times; of these:\r\n",
      "      307925 (73.58%) aligned discordantly 1 time\r\n",
      "    ----\r\n",
      "    110551 pairs aligned 0 times concordantly or discordantly; of these:\r\n",
      "      221102 mates make up the pairs; of these:\r\n",
      "        212999 (96.34%) aligned 0 times\r\n",
      "        5156 (2.33%) aligned exactly 1 time\r\n",
      "        2947 (1.33%) aligned >1 times\r\n",
      "87.54% overall alignment rate\r\n",
      "[bam_sort_core] merging from 3 files...\r\n"
     ]
    }
   ],
   "source": [
    "cd /home/alan/projects/MinION-notebook/quads-analysis/miseq\n",
    "\n",
    "i=\"flub-standard\"\n",
    "\n",
    "bowtie2 \\\n",
    "-p 40 \\\n",
    "--very-sensitive-local \\\n",
    "-x /home/alan/projects/MinION-notebook/reference-sequences/quads-study-reference-sequence.fasta \\\n",
    "-1 $i.r1.fastq.gz \\\n",
    "-2 $i.r2.fastq.gz \\\n",
    "-S $i.sam\n",
    "\n",
    "samtools view -b -o $i.bam $i.sam \n",
    "samtools sort -o $i.sort.bam $i.bam\n",
    "samtools index $i.sort.bam\n",
    "\n",
    "rm $i.bam $i.sam "
   ]
  },
  {
   "cell_type": "code",
   "execution_count": 14,
   "metadata": {
    "ExecuteTime": {
     "end_time": "2016-02-18T11:52:30.532832",
     "start_time": "2016-02-18T11:49:22.400223"
    },
    "collapsed": false,
    "level": 7,
    "run_control": {
     "marked": false
    }
   },
   "outputs": [
    {
     "name": "stdout",
     "output_type": "stream",
     "text": [
      "1946342 reads; of these:\r\n",
      "  1946342 (100.00%) were paired; of these:\r\n",
      "    610140 (31.35%) aligned concordantly 0 times\r\n",
      "    975044 (50.10%) aligned concordantly exactly 1 time\r\n",
      "    361158 (18.56%) aligned concordantly >1 times\r\n",
      "    ----\r\n",
      "    610140 pairs aligned concordantly 0 times; of these:\r\n",
      "      433170 (71.00%) aligned discordantly 1 time\r\n",
      "    ----\r\n",
      "    176970 pairs aligned 0 times concordantly or discordantly; of these:\r\n",
      "      353940 mates make up the pairs; of these:\r\n",
      "        100716 (28.46%) aligned 0 times\r\n",
      "        24490 (6.92%) aligned exactly 1 time\r\n",
      "        228734 (64.63%) aligned >1 times\r\n",
      "97.41% overall alignment rate\r\n",
      "[bam_sort_core] merging from 6 files...\r\n"
     ]
    }
   ],
   "source": [
    "cd /home/alan/projects/MinION-notebook/quads-analysis/miseq\n",
    "\n",
    "i=\"flu-mix-standard\"\n",
    "\n",
    "bowtie2 \\\n",
    "-p 40 \\\n",
    "--very-sensitive-local \\\n",
    "-x /home/alan/projects/MinION-notebook/reference-sequences/quads-study-reference-sequence.fasta \\\n",
    "-1 $i.r1.fastq.gz \\\n",
    "-2 $i.r2.fastq.gz \\\n",
    "-S $i.sam\n",
    "\n",
    "samtools view -b -o $i.bam $i.sam \n",
    "samtools sort -o $i.sort.bam $i.bam\n",
    "samtools index $i.sort.bam\n",
    "\n",
    "rm $i.bam $i.sam "
   ]
  },
  {
   "cell_type": "code",
   "execution_count": 15,
   "metadata": {
    "ExecuteTime": {
     "end_time": "2016-02-18T11:52:30.532832",
     "start_time": "2016-02-18T11:49:22.400223"
    },
    "collapsed": false,
    "level": 7,
    "run_control": {
     "marked": false
    }
   },
   "outputs": [
    {
     "name": "stdout",
     "output_type": "stream",
     "text": [
      "596992 reads; of these:\r\n",
      "  596992 (100.00%) were paired; of these:\r\n",
      "    177727 (29.77%) aligned concordantly 0 times\r\n",
      "    265099 (44.41%) aligned concordantly exactly 1 time\r\n",
      "    154166 (25.82%) aligned concordantly >1 times\r\n",
      "    ----\r\n",
      "    177727 pairs aligned concordantly 0 times; of these:\r\n",
      "      93028 (52.34%) aligned discordantly 1 time\r\n",
      "    ----\r\n",
      "    84699 pairs aligned 0 times concordantly or discordantly; of these:\r\n",
      "      169398 mates make up the pairs; of these:\r\n",
      "        63441 (37.45%) aligned 0 times\r\n",
      "        10086 (5.95%) aligned exactly 1 time\r\n",
      "        95871 (56.60%) aligned >1 times\r\n",
      "94.69% overall alignment rate\r\n",
      "[bam_sort_core] merging from 2 files...\r\n"
     ]
    }
   ],
   "source": [
    "cd /home/alan/projects/MinION-notebook/quads-analysis/miseq\n",
    "\n",
    "i=\"h1n1-standard\"\n",
    "\n",
    "bowtie2 \\\n",
    "-p 40 \\\n",
    "--very-sensitive-local \\\n",
    "-x /home/alan/projects/MinION-notebook/reference-sequences/quads-study-reference-sequence.fasta \\\n",
    "-1 $i.r1.fastq.gz \\\n",
    "-2 $i.r2.fastq.gz \\\n",
    "-S $i.sam\n",
    "\n",
    "samtools view -b -o $i.bam $i.sam \n",
    "samtools sort -o $i.sort.bam $i.bam\n",
    "samtools index $i.sort.bam\n",
    "\n",
    "rm $i.bam $i.sam "
   ]
  },
  {
   "cell_type": "code",
   "execution_count": 16,
   "metadata": {
    "ExecuteTime": {
     "end_time": "2016-02-18T11:52:30.532832",
     "start_time": "2016-02-18T11:49:22.400223"
    },
    "collapsed": false,
    "level": 7,
    "run_control": {
     "marked": false
    }
   },
   "outputs": [
    {
     "name": "stdout",
     "output_type": "stream",
     "text": [
      "808888 reads; of these:\r\n",
      "  808888 (100.00%) were paired; of these:\r\n",
      "    346793 (42.87%) aligned concordantly 0 times\r\n",
      "    260496 (32.20%) aligned concordantly exactly 1 time\r\n",
      "    201599 (24.92%) aligned concordantly >1 times\r\n",
      "    ----\r\n",
      "    346793 pairs aligned concordantly 0 times; of these:\r\n",
      "      158665 (45.75%) aligned discordantly 1 time\r\n",
      "    ----\r\n",
      "    188128 pairs aligned 0 times concordantly or discordantly; of these:\r\n",
      "      376256 mates make up the pairs; of these:\r\n",
      "        187089 (49.72%) aligned 0 times\r\n",
      "        12367 (3.29%) aligned exactly 1 time\r\n",
      "        176800 (46.99%) aligned >1 times\r\n",
      "88.44% overall alignment rate\r\n",
      "[bam_sort_core] merging from 3 files...\r\n"
     ]
    }
   ],
   "source": [
    "cd /home/alan/projects/MinION-notebook/quads-analysis/miseq\n",
    "\n",
    "i=\"h3n2-standard\"\n",
    "\n",
    "bowtie2 \\\n",
    "-p 40 \\\n",
    "--very-sensitive-local \\\n",
    "-x /home/alan/projects/MinION-notebook/reference-sequences/quads-study-reference-sequence.fasta \\\n",
    "-1 $i.r1.fastq.gz \\\n",
    "-2 $i.r2.fastq.gz \\\n",
    "-S $i.sam\n",
    "samtools view -b -o $i.bam $i.sam \n",
    "samtools sort -o $i.sort.bam $i.bam\n",
    "samtools index $i.sort.bam\n",
    "\n",
    "rm $i.bam $i.sam "
   ]
  },
  {
   "cell_type": "code",
   "execution_count": 17,
   "metadata": {
    "ExecuteTime": {
     "end_time": "2016-02-18T11:52:30.532832",
     "start_time": "2016-02-18T11:49:22.400223"
    },
    "collapsed": false,
    "level": 7,
    "run_control": {
     "marked": false
    }
   },
   "outputs": [
    {
     "name": "stdout",
     "output_type": "stream",
     "text": [
      "588453 reads; of these:\r\n",
      "  588453 (100.00%) were paired; of these:\r\n",
      "    474297 (80.60%) aligned concordantly 0 times\r\n",
      "    60183 (10.23%) aligned concordantly exactly 1 time\r\n",
      "    53973 (9.17%) aligned concordantly >1 times\r\n",
      "    ----\r\n",
      "    474297 pairs aligned concordantly 0 times; of these:\r\n",
      "      30094 (6.34%) aligned discordantly 1 time\r\n",
      "    ----\r\n",
      "    444203 pairs aligned 0 times concordantly or discordantly; of these:\r\n",
      "      888406 mates make up the pairs; of these:\r\n",
      "        819432 (92.24%) aligned 0 times\r\n",
      "        15685 (1.77%) aligned exactly 1 time\r\n",
      "        53289 (6.00%) aligned >1 times\r\n",
      "30.37% overall alignment rate\r\n",
      "[bam_sort_core] merging from 2 files...\r\n"
     ]
    }
   ],
   "source": [
    "cd /home/alan/projects/MinION-notebook/quads-analysis/miseq\n",
    "\n",
    "i=\"plasmid\"\n",
    "\n",
    "bowtie2 \\\n",
    "-p 40 \\\n",
    "--very-sensitive-local \\\n",
    "-x /home/alan/projects/MinION-notebook/reference-sequences/quads-study-reference-sequence.fasta \\\n",
    "-1 $i.r1.fastq.gz \\\n",
    "-2 $i.r2.fastq.gz \\\n",
    "-S $i.sam\n",
    "\n",
    "samtools view -b -o $i.bam $i.sam \n",
    "samtools sort -o $i.sort.bam $i.bam\n",
    "samtools index $i.sort.bam\n",
    "\n",
    "rm $i.bam $i.sam "
   ]
  },
  {
   "cell_type": "markdown",
   "metadata": {
    "heading_collapsed": false,
    "level": 2
   },
   "source": [
    "## Ion Torrent Alignment"
   ]
  },
  {
   "cell_type": "code",
   "execution_count": 19,
   "metadata": {
    "ExecuteTime": {
     "end_time": "2016-02-18T12:09:47.918455",
     "start_time": "2016-02-18T12:08:31.387994"
    },
    "collapsed": false,
    "level": 7
   },
   "outputs": [
    {
     "name": "stdout",
     "output_type": "stream",
     "text": [
      "552143 reads; of these:\r\n",
      "  552143 (100.00%) were unpaired; of these:\r\n",
      "    9061 (1.64%) aligned 0 times\r\n",
      "    412127 (74.64%) aligned exactly 1 time\r\n",
      "    130955 (23.72%) aligned >1 times\r\n",
      "98.36% overall alignment rate\r\n"
     ]
    }
   ],
   "source": [
    "cd /home/alan/projects/MinION-notebook/quads-analysis/ion\n",
    "bowtie2 \\\n",
    "-p 40 \\\n",
    "--very-sensitive-local \\\n",
    "-x /home/alan/projects/MinION-notebook/reference-sequences/quads-study-reference-sequence.fasta \\\n",
    "-U R_2015_05_09_01_13_59_user_SN2-44-Ghedin_400_bp.fastq \\\n",
    "-S ion-quads.sam\n",
    "\n",
    "samtools view -b -o ion-quads.bam ion-quads.sam \n",
    "samtools sort -o ion-quads.sort.bam ion-quads.bam\n",
    "samtools index ion-quads.sort.bam\n",
    "\n",
    "rm ion-quads.bam ion-quads.sam"
   ]
  },
  {
   "cell_type": "markdown",
   "metadata": {
    "heading_collapsed": false,
    "level": 2
   },
   "source": [
    "## PacBio Alignment"
   ]
  },
  {
   "cell_type": "code",
   "execution_count": 20,
   "metadata": {
    "ExecuteTime": {
     "end_time": "2016-02-18T12:09:58.192947",
     "start_time": "2016-02-18T12:09:47.921644"
    },
    "collapsed": false,
    "level": 7
   },
   "outputs": [
    {
     "name": "stdout",
     "output_type": "stream",
     "text": [
      "[INFO] 2016-02-18T12:09:48 [blasr] started.\r\n",
      "[INFO] 2016-02-18T12:09:53 [blasr] ended.\r\n"
     ]
    }
   ],
   "source": [
    "cd /home/alan/projects/MinION-notebook/quads-analysis/pacbio\n",
    "\n",
    "/opt/bioinformatics-software/minion-software/blasr/alignment/bin/blasr \\\n",
    "Elodie_sidebar_reads_of_insert.fastq \\\n",
    "/home/alan/projects/MinION-notebook/reference-sequences/quads-study-reference-sequence.fasta \\\n",
    "-sam \\\n",
    "-clipping soft \\\n",
    "-out pacbio-quads.sam \\\n",
    "-nproc 40 \\\n",
    "-bestn 1\n",
    "\n",
    "samtools view -o pacbio-quads.bam -b pacbio-quads.sam\n",
    "samtools sort -o pacbio-quads.sort.bam pacbio-quads.bam\n",
    "samtools index pacbio-quads.sort.bam\n",
    "\n",
    "rm  pacbio-quads.bam pacbio-quads.sam"
   ]
  },
  {
   "cell_type": "markdown",
   "metadata": {},
   "source": [
    "## MinION Alignment"
   ]
  },
  {
   "cell_type": "code",
   "execution_count": 3,
   "metadata": {
    "ExecuteTime": {
     "end_time": "2016-02-18T14:09:51.109176",
     "start_time": "2016-02-18T14:09:33.565836"
    },
    "collapsed": false
   },
   "outputs": [
    {
     "name": "stdout",
     "output_type": "stream",
     "text": [
      "[M::bwa_idx_load_from_disk] read 0 ALT contigs\r\n",
      "[M::process] read 22086 sequences (27658004 bp)...\r\n",
      "[M::mem_process_seqs] Processed 22086 reads in 168.341 CPU sec, 4.943 real sec\r\n",
      "[main] Version: 0.7.12-r1039\r\n",
      "[main] CMD: bwa mem -t 40 -x ont2d /home/alan/projects/MinION-notebook/reference-sequences/quads-study-reference-sequence.fasta flu-4-20.fastq\r\n",
      "[main] Real time: 5.826 sec; CPU: 168.765 sec\r\n"
     ]
    }
   ],
   "source": [
    "cd /home/alan/projects/MinION-notebook/quads-analysis/minion\n",
    "\n",
    "bwa mem \\\n",
    "-t 40 \\\n",
    "-x ont2d /home/alan/projects/MinION-notebook/reference-sequences/quads-study-reference-sequence.fasta \\\n",
    "flu-4-20.fastq > minion-4-20-quads.sam\n",
    "\n",
    "samtools view -b -o minion-4-20-quads.bam minion-4-20-quads.sam\n",
    "samtools sort -o minion-4-20-quads.sort.bam minion-4-20-quads.bam\n",
    "samtools index minion-4-20-quads.sort.bam\n",
    "\n",
    "rm  minion-4-20-quads.bam minion-4-20-quads.sam"
   ]
  },
  {
   "cell_type": "markdown",
   "metadata": {},
   "source": [
    "The only lab strain segment in FluB of the 11-9 run is PB1, so discount all other FluB segments."
   ]
  },
  {
   "cell_type": "code",
   "execution_count": 4,
   "metadata": {
    "ExecuteTime": {
     "end_time": "2016-02-18T14:11:18.949997",
     "start_time": "2016-02-18T14:11:04.454059"
    },
    "collapsed": false
   },
   "outputs": [
    {
     "name": "stdout",
     "output_type": "stream",
     "text": [
      "[M::bwa_idx_load_from_disk] read 0 ALT contigs\r\n",
      "[M::process] read 13101 sequences (19362251 bp)...\r\n",
      "[M::mem_process_seqs] Processed 13101 reads in 91.651 CPU sec, 2.520 real sec\r\n",
      "[main] Version: 0.7.12-r1039\r\n",
      "[main] CMD: bwa mem -t 40 -x ont2d /home/alan/projects/MinION-notebook/reference-sequences/quads-study-reference-sequence.fasta flu-11-9.2d.fastq\r\n",
      "[main] Real time: 3.526 sec; CPU: 92.062 sec\r\n"
     ]
    }
   ],
   "source": [
    "bwa mem \\\n",
    "-t 40 \\\n",
    "-x ont2d /home/alan/projects/MinION-notebook/reference-sequences/quads-study-reference-sequence.fasta \\\n",
    "flu-11-9.2d.fastq > minion-11-9-quads.sam\n",
    "\n",
    "samtools view -b -o minion-11-9-quads.bam minion-11-9-quads.sam\n",
    "samtools sort -o minion-11-9-quads.sort.bam minion-11-9-quads.bam\n",
    "samtools index minion-11-9-quads.sort.bam\n",
    "\n",
    "rm  minion-11-9-quads.bam minion-11-9-quads.sam"
   ]
  },
  {
   "cell_type": "markdown",
   "metadata": {
    "level": 7
   },
   "source": [
    "# Clinical Samples"
   ]
  },
  {
   "cell_type": "markdown",
   "metadata": {},
   "source": [
    "The workflow agreed upon this far is as follows:\n",
    "\n",
    "1) Generate Flu-specific, full segment database with only unique sequences. This will cut down significantly on runtime but can possibly limit the analysis by not being comprehensive with every strain; this database will not inclued lab strains and incomplete segments.\n",
    "\n",
    "2) Obtain the top 10 hits per segment. This is alowing the possibility of mixed infections, whereas only using the top hit can bias the results.\n",
    "\n",
    "3) Map the MinION to the top 10 hits.\n",
    "\n",
    "4) Map the MiSeq to the top 10 hits.\n",
    "\n",
    "5) Generate consensus sequences for both platforms and compare the top hits. \n",
    "\n",
    "6) Cross fingers and hope that they're the same\n",
    "\n",
    "The original implementation was to just use the top hit, and it worked for most segments, though there are still problems with other segments."
   ]
  },
  {
   "cell_type": "code",
   "execution_count": null,
   "metadata": {
    "collapsed": true,
    "level": 7
   },
   "outputs": [],
   "source": []
  },
  {
   "cell_type": "markdown",
   "metadata": {},
   "source": []
  },
  {
   "cell_type": "markdown",
   "metadata": {
    "heading_collapsed": false,
    "level": 7
   },
   "source": [
    "## NGM-LR\n",
    "Aligner developed by Mike Schatz that apparently works well for MinION data.\n",
    "http://cibiv.github.io/NextGenMap/\n"
   ]
  },
  {
   "cell_type": "markdown",
   "metadata": {
    "level": 7
   },
   "source": [
    "# Error Correction"
   ]
  },
  {
   "cell_type": "markdown",
   "metadata": {},
   "source": [
    "After talking with Mike Schatz there are a few recomendations on what to do with the data."
   ]
  },
  {
   "cell_type": "markdown",
   "metadata": {
    "level": 7
   },
   "source": [
    "## Falcon-sense"
   ]
  },
  {
   "cell_type": "markdown",
   "metadata": {},
   "source": [
    "Falcon was generated for PacBio data and \n",
    "\n",
    "https://github.com/PacificBiosciences/FALCON\n",
    "\n",
    "Mike said it was a pain in the ass to install and he has never lied.\n"
   ]
  },
  {
   "cell_type": "code",
   "execution_count": null,
   "metadata": {
    "collapsed": true
   },
   "outputs": [],
   "source": []
  },
  {
   "cell_type": "markdown",
   "metadata": {
    "level": 7
   },
   "source": [
    "## Nanopolish"
   ]
  },
  {
   "cell_type": "markdown",
   "metadata": {},
   "source": [
    "https://github.com/jts/nanocorrect\n",
    "\n",
    "Instructions:\n",
    "\n",
    "First, build the DALIGNER database and compute alignments:\n",
    "\n",
    "./nanocorrect-overlap INPUT=reads.fasta NAME=nc\n",
    "\n",
    "INPUT is the path to your reads. The NAME variable is the prefix you want to use for the output files.\n",
    "\n",
    "You can correct a range of reads using the python script:\n",
    "\n",
    "python nanocorrect.py nc 1000:1020 > corrected.fasta\n",
    "\n",
    "You can correct all reads using the python script:\n",
    "\n",
    "python nanocorrect.py nc all > corrected.fasta\n",
    "\n",
    "The first argument must be the same as the NAME variable above. The second is the indices of the reads (in the original fasta) that you want to correct."
   ]
  },
  {
   "cell_type": "markdown",
   "metadata": {},
   "source": [
    "### 4-20"
   ]
  },
  {
   "cell_type": "code",
   "execution_count": 6,
   "metadata": {
    "ExecuteTime": {
     "end_time": "2016-02-18T14:26:18.040745",
     "start_time": "2016-02-18T14:26:07.946187"
    },
    "collapsed": false
   },
   "outputs": [
    {
     "name": "stdout",
     "output_type": "stream",
     "text": [
      "/opt/bioinformatics-software/minion-software/nanocorrect/nanocorrect-preprocess.pl flu-4-20.fasta > nc.pp.fasta\r\n",
      "fasta2DB nc nc.pp.fasta\r\n",
      "DBsplit -s50 nc\r\n",
      "DBdust nc\r\n",
      "HPCdaligner -t5 -mdust nc > HPCcommands.txt\r\n",
      "/bin/bash HPCcommands.txt\r\n",
      "daligner: Warning: (null) track is not a mask track.\r\n",
      "LAcat nc > nc.las\r\n",
      "rm nc.*.las\r\n"
     ]
    }
   ],
   "source": [
    "cd /home/alan/projects/MinION-notebook/error-correction/nanocorrect/4-20\n",
    "\n",
    "nanocorrect-overlap INPUT=flu-4-20.fasta NAME=nc\n",
    "\n",
    "python /opt/bioinformatics-software/minion-software/nanocorrect/nanocorrect.py nc all > flu-4-20.nc.fasta"
   ]
  },
  {
   "cell_type": "markdown",
   "metadata": {},
   "source": [
    "### 6-4"
   ]
  },
  {
   "cell_type": "code",
   "execution_count": null,
   "metadata": {
    "collapsed": true
   },
   "outputs": [],
   "source": [
    "cd /home/alan/projects/MinION-notebook/error-correction/nanocorrect/6-4\n",
    "\n",
    "nanocorrect-overlap INPUT=flu-6-4.2d.fasta NAME=nc\n",
    "\n",
    "python /opt/bioinformatics-software/minion-software/nanocorrect/nanocorrect.py nc all > flu-6-4.2d.nc.fasta"
   ]
  },
  {
   "cell_type": "markdown",
   "metadata": {},
   "source": [
    "### 8-13"
   ]
  },
  {
   "cell_type": "code",
   "execution_count": null,
   "metadata": {
    "collapsed": true
   },
   "outputs": [],
   "source": [
    "cd /home/alan/projects/MinION-notebook/error-correction/nanocorrect/8-13\n",
    "\n",
    "nanocorrect-overlap INPUT=flu-8-13.2d.fasta NAME=nc\n",
    "\n",
    "python /opt/bioinformatics-software/minion-software/nanocorrect/nanocorrect.py nc all > flu-8-13.2d.nc.fasta"
   ]
  },
  {
   "cell_type": "markdown",
   "metadata": {},
   "source": [
    "### 11-9"
   ]
  },
  {
   "cell_type": "code",
   "execution_count": null,
   "metadata": {
    "collapsed": true
   },
   "outputs": [],
   "source": [
    "cd /home/alan/projects/MinION-notebook/error-correction/nanocorrect/11-9\n",
    "\n",
    "nanocorrect-overlap INPUT=flu-11-9.2d.fasta NAME=nc\n",
    "\n",
    "python /opt/bioinformatics-software/minion-software/nanocorrect/nanocorrect.py nc all > flu-11-9.2d.nc.fasta"
   ]
  }
 ],
 "metadata": {
  "kernelspec": {
   "display_name": "Bash",
   "language": "bash",
   "name": "bash"
  },
  "language_info": {
   "codemirror_mode": "shell",
   "file_extension": ".sh",
   "mimetype": "text/x-sh",
   "name": "bash"
  },
  "toc": {
   "toc_cell": true,
   "toc_number_sections": true,
   "toc_threshold": "4",
   "toc_window_display": false
  }
 },
 "nbformat": 4,
 "nbformat_minor": 0
}
