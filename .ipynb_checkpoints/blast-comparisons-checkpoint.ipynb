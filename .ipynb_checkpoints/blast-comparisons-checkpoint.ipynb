{
 "cells": [
  {
   "cell_type": "markdown",
   "metadata": {},
   "source": [
    "## MinION Blast Results Comparison\n",
    "\n",
    "The purpose of this analysis is to see whether or not different subtypes mixed in the same pool are contaminating the results of the Flu blast queries. That is to say, does an H1N1 MinION read yield any other subtype as a blast hit? This is addressing the unlikely possibility that there are similarities between the different subtypes sequenced that lead to strains that are not actually represented in the sample, thus the erroneous consensus sequences.\n",
    "\n",
    "To do this, the MinION reads will be segregated out via alignment to MiSeq consensus sequences. From there, a blast analysis will be conducted on a subtype-specific subset of reads (maybe even segment-specific?) to identify possible overlap between the different subtypes. From there, consensus sequences will be generated from those blast results and compared to the MiSeq consensus sequences (as well as other blast results with an entire flowcell's worth of data) to interrogate the discrepancies."
   ]
  },
  {
   "cell_type": "code",
   "execution_count": null,
   "metadata": {
    "collapsed": true
   },
   "outputs": [],
   "source": [
    "cd /home/alan/projects/MinION-notebook/clinical-analysis/blast-result-comparison\n",
    "\n",
    "# using data from the consensus comparison analysis to segregate the reads prior to blasting.\n",
    "samtools view -b -o flu-11-9.2d.mapped-only.bam -F 4 flu-11-9.2d.sort.bam\n",
    "samtools fasta flu-11-9.2d.mapped-only.bam > flu-11-9.2d.mapped-only.fasta\n",
    "\n",
    "blastn -db ~/projects/MinION-notebook/clinical-analysis/fludb/all-H1N1-H3N2-FluB-full-segs.fasta -query flu-11-9.2d.mapped-only.fasta -out flu-11-9.2d.mapped-only.blastn.xml -num_threads 40 -evalue 0.00005 -outfmt 5 -culling_limit 2 -max_target_seqs 1"
   ]
  },
  {
   "cell_type": "code",
   "execution_count": 18,
   "metadata": {
    "ExecuteTime": {
     "end_time": "2016-03-31T17:43:49.569343",
     "start_time": "2016-03-31T17:43:45.330076"
    },
    "collapsed": false
   },
   "outputs": [
    {
     "name": "stdout",
     "output_type": "stream",
     "text": [
      "    352 FluB\tHA\r\n",
      "     83 FluB\tMP\r\n",
      "    257 FluB\tNA\r\n",
      "     24 FluB\tNP\r\n",
      "    179 FluB\tNS\r\n",
      "    169 FluB\tPA\r\n",
      "     57 FluB\tPB1\r\n",
      "    232 FluB\tPB2\r\n",
      "      1 H1N1\tNA\r\n",
      "      1 H1N1\tNS\r\n",
      "     22 H1N1\tPB1\r\n"
     ]
    }
   ],
   "source": [
    "cd /home/alan/projects/MinION-notebook/clinical-analysis/blast-result-comparison\n",
    "\n",
    "python ~/projects/MinION-notebook/scripts/read-fludb-blastxml.py flu-11-9.2d.mapped-only.blastn.xml | cut -f2,3 | sort | uniq -c"
   ]
  },
  {
   "cell_type": "markdown",
   "metadata": {},
   "source": [
    "There are 24 hits to H1N1 that were classified as FluB based on the alignment. All but two hits are to H1N1 PB1 - NA and NS are the exceptions. This is not nearly enough to cause a discrepancy in the consensus generation. There are 218 reads that mapped to the PB1 segment so 24 shouldn't blip on the radar. However, based on the blast results from the consensus comparison this could have some effect on the PB1 region, though that would require more that two sequences hitting the same sequence, which isn't the case here. I think we can claim that this does not have an affect on the consensus generation for FluB.\n",
    "\n",
    "With this same methodology, I'm going to investigate whether the segments add to any cross contamination."
   ]
  },
  {
   "cell_type": "code",
   "execution_count": 10,
   "metadata": {
    "ExecuteTime": {
     "end_time": "2016-03-31T17:41:59.644596",
     "start_time": "2016-03-31T17:41:57.184747"
    },
    "collapsed": false,
    "run_control": {
     "marked": false
    }
   },
   "outputs": [
    {
     "name": "stdout",
     "output_type": "stream",
     "text": [
      "     24 NP\r\n",
      "      1 PA\r\n"
     ]
    }
   ],
   "source": [
    "seg='NP'\n",
    "\n",
    "cd /home/alan/projects/MinION-notebook/clinical-analysis/blast-result-comparison/segment-cross-contamination\n",
    "\n",
    "samtools view flu-11-9.2d.mapped-only.bam | grep $seg | cut -f1,10 | perl -pe 's/^(.+)\\t(.+)/>$1\\n$2/g' > flu-11-9.2d.mapped-only.$seg.fasta\n",
    "\n",
    "blastn -db ~/projects/MinION-notebook/clinical-analysis/fludb/all-H1N1-H3N2-FluB-full-segs.fasta -query flu-11-9.2d.mapped-only.$seg.fasta -out flu-11-9.2d.mapped-only.$seg.blastn.xml -outfmt 5 -evalue 0.00005 -culling_limit 2 -max_target_seqs 1 -num_threads 40\n",
    "\n",
    "python ~/projects/MinION-notebook/scripts/read-fludb-blastxml.py flu-11-9.2d.mapped-only.$seg.blastn.xml | cut -f3 | sort | uniq -c"
   ]
  },
  {
   "cell_type": "code",
   "execution_count": 11,
   "metadata": {
    "ExecuteTime": {
     "end_time": "2016-03-31T17:42:18.782881",
     "start_time": "2016-03-31T17:42:03.638436"
    },
    "collapsed": false,
    "run_control": {
     "marked": false
    }
   },
   "outputs": [
    {
     "name": "stdout",
     "output_type": "stream",
     "text": [
      "      2 HA\r\n",
      "      1 NS\r\n",
      "     23 PB1\r\n",
      "    242 PB2\r\n"
     ]
    }
   ],
   "source": [
    "seg='PB2'\n",
    "\n",
    "cd /home/alan/projects/MinION-notebook/clinical-analysis/blast-result-comparison/segment-cross-contamination\n",
    "\n",
    "samtools view flu-11-9.2d.mapped-only.bam | grep $seg | cut -f1,10 | perl -pe 's/^(.+)\\t(.+)/>$1\\n$2/g' > flu-11-9.2d.mapped-only.$seg.fasta\n",
    "\n",
    "blastn -db ~/projects/MinION-notebook/clinical-analysis/fludb/all-H1N1-H3N2-FluB-full-segs.fasta -query flu-11-9.2d.mapped-only.$seg.fasta -out flu-11-9.2d.mapped-only.$seg.blastn.xml -outfmt 5 -evalue 0.00005 -culling_limit 2 -max_target_seqs 1 -num_threads 40\n",
    "\n",
    "python ~/projects/MinION-notebook/scripts/read-fludb-blastxml.py flu-11-9.2d.mapped-only.$seg.blastn.xml | cut -f3 | sort | uniq -c"
   ]
  },
  {
   "cell_type": "code",
   "execution_count": 12,
   "metadata": {
    "ExecuteTime": {
     "end_time": "2016-03-31T17:42:21.342131",
     "start_time": "2016-03-31T17:42:18.785286"
    },
    "collapsed": false,
    "run_control": {
     "marked": false
    }
   },
   "outputs": [
    {
     "name": "stdout",
     "output_type": "stream",
     "text": [
      "     57 PB1\r\n"
     ]
    }
   ],
   "source": [
    "seg='PB1'\n",
    "\n",
    "cd /home/alan/projects/MinION-notebook/clinical-analysis/blast-result-comparison/segment-cross-contamination\n",
    "\n",
    "samtools view flu-11-9.2d.mapped-only.bam | grep $seg | cut -f1,10 | perl -pe 's/^(.+)\\t(.+)/>$1\\n$2/g' > flu-11-9.2d.mapped-only.$seg.fasta\n",
    "\n",
    "blastn -db ~/projects/MinION-notebook/clinical-analysis/fludb/all-H1N1-H3N2-FluB-full-segs.fasta -query flu-11-9.2d.mapped-only.$seg.fasta -out flu-11-9.2d.mapped-only.$seg.blastn.xml -outfmt 5 -evalue 0.00005 -culling_limit 2 -max_target_seqs 1 -num_threads 40\n",
    "\n",
    "python ~/projects/MinION-notebook/scripts/read-fludb-blastxml.py flu-11-9.2d.mapped-only.$seg.blastn.xml | cut -f3 | sort | uniq -c"
   ]
  },
  {
   "cell_type": "code",
   "execution_count": 13,
   "metadata": {
    "ExecuteTime": {
     "end_time": "2016-03-31T17:42:27.096948",
     "start_time": "2016-03-31T17:42:21.343383"
    },
    "collapsed": false,
    "run_control": {
     "marked": false
    }
   },
   "outputs": [
    {
     "name": "stdout",
     "output_type": "stream",
     "text": [
      "    182 NS\r\n"
     ]
    }
   ],
   "source": [
    "seg='NS'\n",
    "\n",
    "cd /home/alan/projects/MinION-notebook/clinical-analysis/blast-result-comparison/segment-cross-contamination\n",
    "\n",
    "samtools view flu-11-9.2d.mapped-only.bam | grep $seg | cut -f1,10 | perl -pe 's/^(.+)\\t(.+)/>$1\\n$2/g' > flu-11-9.2d.mapped-only.$seg.fasta\n",
    "\n",
    "blastn -db ~/projects/MinION-notebook/clinical-analysis/fludb/all-H1N1-H3N2-FluB-full-segs.fasta -query flu-11-9.2d.mapped-only.$seg.fasta -out flu-11-9.2d.mapped-only.$seg.blastn.xml -outfmt 5 -evalue 0.00005 -culling_limit 2 -max_target_seqs 1 -num_threads 40\n",
    "\n",
    "python ~/projects/MinION-notebook/scripts/read-fludb-blastxml.py flu-11-9.2d.mapped-only.$seg.blastn.xml | cut -f3 | sort | uniq -c"
   ]
  },
  {
   "cell_type": "code",
   "execution_count": 14,
   "metadata": {
    "ExecuteTime": {
     "end_time": "2016-03-31T17:42:57.261003",
     "start_time": "2016-03-31T17:42:27.099369"
    },
    "collapsed": false,
    "run_control": {
     "marked": false
    }
   },
   "outputs": [
    {
     "name": "stdout",
     "output_type": "stream",
     "text": [
      "    259 NA\r\n"
     ]
    }
   ],
   "source": [
    "seg='NA'\n",
    "\n",
    "cd /home/alan/projects/MinION-notebook/clinical-analysis/blast-result-comparison/segment-cross-contamination\n",
    "\n",
    "samtools view flu-11-9.2d.mapped-only.bam | grep $seg | cut -f1,10 | perl -pe 's/^(.+)\\t(.+)/>$1\\n$2/g' > flu-11-9.2d.mapped-only.$seg.fasta\n",
    "\n",
    "blastn -db ~/projects/MinION-notebook/clinical-analysis/fludb/all-H1N1-H3N2-FluB-full-segs.fasta -query flu-11-9.2d.mapped-only.$seg.fasta -out flu-11-9.2d.mapped-only.$seg.blastn.xml -outfmt 5 -evalue 0.00005 -culling_limit 2 -max_target_seqs 1 -num_threads 40\n",
    "\n",
    "python ~/projects/MinION-notebook/scripts/read-fludb-blastxml.py flu-11-9.2d.mapped-only.$seg.blastn.xml | cut -f3 | sort | uniq -c "
   ]
  },
  {
   "cell_type": "code",
   "execution_count": 15,
   "metadata": {
    "ExecuteTime": {
     "end_time": "2016-03-31T17:43:03.437758",
     "start_time": "2016-03-31T17:42:57.263448"
    },
    "collapsed": false,
    "run_control": {
     "marked": false
    }
   },
   "outputs": [
    {
     "name": "stdout",
     "output_type": "stream",
     "text": [
      "      1 HA\r\n",
      "      1 NP\r\n",
      "    170 PA\r\n"
     ]
    }
   ],
   "source": [
    "seg='PA'\n",
    "\n",
    "cd /home/alan/projects/MinION-notebook/clinical-analysis/blast-result-comparison/segment-cross-contamination\n",
    "\n",
    "samtools view flu-11-9.2d.mapped-only.bam | grep $seg | cut -f1,10 | perl -pe 's/^(.+)\\t(.+)/>$1\\n$2/g' > flu-11-9.2d.mapped-only.$seg.fasta\n",
    "\n",
    "blastn -db ~/projects/MinION-notebook/clinical-analysis/fludb/all-H1N1-H3N2-FluB-full-segs.fasta -query flu-11-9.2d.mapped-only.$seg.fasta -out flu-11-9.2d.mapped-only.$seg.blastn.xml -outfmt 5 -evalue 0.00005 -culling_limit 2 -max_target_seqs 1 -num_threads 40\n",
    "\n",
    "python ~/projects/MinION-notebook/scripts/read-fludb-blastxml.py flu-11-9.2d.mapped-only.$seg.blastn.xml | cut -f3 | sort | uniq -c"
   ]
  },
  {
   "cell_type": "code",
   "execution_count": 16,
   "metadata": {
    "ExecuteTime": {
     "end_time": "2016-03-31T17:43:41.904811",
     "start_time": "2016-03-31T17:43:03.440212"
    },
    "collapsed": false,
    "run_control": {
     "marked": false
    }
   },
   "outputs": [
    {
     "name": "stdout",
     "output_type": "stream",
     "text": [
      "    352 HA\r\n",
      "      3 MP\r\n",
      "      1 NA\r\n",
      "      1 PA\r\n"
     ]
    }
   ],
   "source": [
    "seg='HA'\n",
    "\n",
    "cd /home/alan/projects/MinION-notebook/clinical-analysis/blast-result-comparison/segment-cross-contamination\n",
    "\n",
    "samtools view flu-11-9.2d.mapped-only.bam | grep $seg | cut -f1,10 | perl -pe 's/^(.+)\\t(.+)/>$1\\n$2/g' > flu-11-9.2d.mapped-only.$seg.fasta\n",
    "\n",
    "blastn -db ~/projects/MinION-notebook/clinical-analysis/fludb/all-H1N1-H3N2-FluB-full-segs.fasta -query flu-11-9.2d.mapped-only.$seg.fasta -out flu-11-9.2d.mapped-only.$seg.blastn.xml -outfmt 5 -evalue 0.00005 -culling_limit 2 -max_target_seqs 1 -num_threads 40\n",
    "\n",
    "python ~/projects/MinION-notebook/scripts/read-fludb-blastxml.py flu-11-9.2d.mapped-only.$seg.blastn.xml | cut -f3 | sort | uniq -c"
   ]
  },
  {
   "cell_type": "code",
   "execution_count": 17,
   "metadata": {
    "ExecuteTime": {
     "end_time": "2016-03-31T17:43:45.327583",
     "start_time": "2016-03-31T17:43:41.907265"
    },
    "collapsed": false,
    "run_control": {
     "marked": false
    }
   },
   "outputs": [
    {
     "name": "stdout",
     "output_type": "stream",
     "text": [
      "      2 HA\r\n",
      "     85 MP\r\n"
     ]
    }
   ],
   "source": [
    "seg='MP'\n",
    "\n",
    "cd /home/alan/projects/MinION-notebook/clinical-analysis/blast-result-comparison/segment-cross-contamination\n",
    "\n",
    "samtools view flu-11-9.2d.mapped-only.bam | grep $seg | cut -f1,10 | perl -pe 's/^(.+)\\t(.+)/>$1\\n$2/g' > flu-11-9.2d.mapped-only.$seg.fasta\n",
    "\n",
    "blastn -db ~/projects/MinION-notebook/clinical-analysis/fludb/all-H1N1-H3N2-FluB-full-segs.fasta -query flu-11-9.2d.mapped-only.$seg.fasta -out flu-11-9.2d.mapped-only.$seg.blastn.xml -outfmt 5 -evalue 0.00005 -culling_limit 2 -max_target_seqs 1 -num_threads 40\n",
    "\n",
    "python ~/projects/MinION-notebook/scripts/read-fludb-blastxml.py flu-11-9.2d.mapped-only.$seg.blastn.xml | cut -f3 | sort | uniq -c"
   ]
  },
  {
   "cell_type": "markdown",
   "metadata": {},
   "source": [
    "Very little cross contamination. PB2 has the worst, but still nothing that is even close to affecting the consensus. "
   ]
  },
  {
   "cell_type": "markdown",
   "metadata": {},
   "source": [
    "## Blast MiSeq"
   ]
  },
  {
   "cell_type": "markdown",
   "metadata": {},
   "source": [
    "To identify whether or not the samples we have are mixed infections I'm going to blast thes MiSeq reads to see if that will shed light on anything."
   ]
  },
  {
   "cell_type": "code",
   "execution_count": null,
   "metadata": {
    "collapsed": true
   },
   "outputs": [],
   "source": [
    "cd /home/alan/projects/MinION-notebook/miseq-blast/flub\n",
    "\n",
    "python ~/projects/MinION-notebook/MinION-Flu-Analysis/scripts/interleave-fastq.py f3.r1.fastq f3.r2.fastq > f3.interleaved.fasta\n",
    "\n",
    "perl ~/projects/MinION-notebook/MinION-Flu-Analysis/scripts/1line-fasta.pl f3.interleaved.fastq > f3.interleaved.fasta\n",
    "\n",
    "blastn \\\n",
    "-db ~/projects/MinION-notebook/clinical-analysis/fludb/all-H1N1-H3N2-FluB-full-segs.fasta \\\n",
    "-query f3.interleaved.fasta \\\n",
    "-out f3.interleaved.fludb.blastn.xml \\\n",
    "-outfmt 5 \\\n",
    "-num_threads 25 \\\n",
    "-culling_limit 2 \\\n",
    "-max_target_seqs 1 \\\n",
    "-evalue 0.00005\n",
    "\n",
    "# python ~/projects/MinION-notebook/MinION-Flu-Analysis/scripts/read-fludb-blastxml.py \\\n",
    "# f3.interleaved.fludb.blastn.xml \\\n",
    "# > f3.interleaved.fludb.blastn.seg-counts.tsv"
   ]
  },
  {
   "cell_type": "markdown",
   "metadata": {
    "collapsed": true
   },
   "source": [
    "The blast suggested that there were ~0.1% FluA reads in the sample which suggests that this is not the source of noise that is seen in the consensus generation of FluB so must be something else. \n",
    "\n",
    "There were 1314651 total hits, 1942 being FluA.\n",
    "\n",
    "I was concerned about there being potential overlap between FluA and FluB sequences due to these results. However, I would expect there to one part of one or two segments to be similar instead of all segments. These results suggest that this is either:\n",
    "A) an actual mixed infection\n",
    "B) cross contamination on the prep side\n",
    "C) erroneous demuxing (most probable, IMO). I will check this out.\n",
    "\n",
    "182 1\n",
    "165 2\n",
    "231 3\n",
    "329 4\n",
    "247 5\n",
    "151 6\n",
    "412 7\n",
    "225 8\n",
    "\n",
    "Also, there may be adaptor readthrough...\n",
    "\n",
    "To assess whether this is due to demuxing I'm going to blast the lab strain of FluB and see if there's any FluA in there.\n",
    "\n",
    "Also, after talking to Adam, we thought it would be a good idea to test the plasmid to see if there's any cross contamination of other segments. This'll have to be run on the nt database presumably to avoid overfitting? We'll have to see. I'll run it on the FluDB for now"
   ]
  },
  {
   "cell_type": "code",
   "execution_count": null,
   "metadata": {
    "collapsed": true
   },
   "outputs": [],
   "source": [
    "cd /home/alan/projects/MinION-notebook/miseq-blast/lab-strain-clinical-flub\n",
    "\n",
    "#from khmer \n",
    "interleave-reads.py flub-standard.r1.fastq.gz flub-standard.r2.fastq.gz > flub-standard.fastq\n",
    "\n",
    "#from fastx\n",
    "fastq_to_fasta -n -i flub-standard.fastq -o flub-standard.fasta\n",
    "\n",
    "blastn \\\n",
    "-db ~/projects/MinION-notebook/clinical-analysis/fludb/all-H1N1-H3N2-FluB-full-segs.fasta \\\n",
    "-query flub-standard.fasta \\\n",
    "-out flub-standard.fludb.blastn.xml \\\n",
    "-outfmt 5 \\\n",
    "-num_threads 25\n",
    "-culling_limit 2 \\\n",
    "-max_target_seqs 1 \\\n",
    "-evalue 0.00005"
   ]
  },
  {
   "cell_type": "code",
   "execution_count": null,
   "metadata": {
    "collapsed": true
   },
   "outputs": [],
   "source": [
    "cd /home/alan/projects/MinION-notebook/miseq-blast/plasmid\n",
    "\n",
    "#from khmer \n",
    "interleave-reads.py plasmid.r1.fastq.gz plasmid.r2.fastq.gz > plasmid.fastq\n",
    "\n",
    "#from fastx\n",
    "fastq_to_fasta -n -i plasmid.fastq -o plasmid.fasta\n",
    "\n",
    "blastn \\\n",
    "-db ~/projects/MinION-notebook/clinical-analysis/fludb/all-H1N1-H3N2-FluB-full-segs.fasta \\\n",
    "-query plasmid.fasta \\\n",
    "-out plasmid.fludb.blastn.xml \\\n",
    "-outfmt 5 \\\n",
    "-num_threads 15\n",
    "-culling_limit 2 \\\n",
    "-max_target_seqs 1 \\\n",
    "-evalue 0.00005"
   ]
  }
 ],
 "metadata": {
  "kernelspec": {
   "display_name": "Bash",
   "language": "bash",
   "name": "bash"
  },
  "language_info": {
   "codemirror_mode": "shell",
   "file_extension": ".sh",
   "mimetype": "text/x-sh",
   "name": "bash"
  },
  "latex_envs": {
   "bibliofile": "biblio.bib",
   "cite_by": "apalike",
   "current_citInitial": 1,
   "eqLabelWithNumbers": true,
   "eqNumInitial": 0
  },
  "toc": {
   "toc_cell": false,
   "toc_number_sections": true,
   "toc_threshold": 6,
   "toc_window_display": false
  }
 },
 "nbformat": 4,
 "nbformat_minor": 0
}
