{
 "cells": [
  {
   "cell_type": "markdown",
   "metadata": {},
   "source": [
    "## MiSeq and MinION Consensus Comparisons\n",
    "\n",
    "This is to look at if and how the MiSeq consensus sequences vary from the MinION consensus sequences. \n",
    "\n",
    "I will use the top Blast segments for the references initially. \n",
    "\n",
    "I also need to segregate the subtypes as to avoid any cross contamination between them while mapping. Though it shouldn't have much of an effect this is something that we need to identify anyway."
   ]
  },
  {
   "cell_type": "markdown",
   "metadata": {},
   "source": [
    "### FluB"
   ]
  },
  {
   "cell_type": "code",
   "execution_count": null,
   "metadata": {
    "collapsed": true
   },
   "outputs": [],
   "source": [
    "cd /home/alan/projects/MinION-notebook/minion-blast/6-4\n",
    "\n",
    "blastn \\\n",
    "-db ~/projects/MinION-notebook/clinical-analysis/fludb/all-H1N1-H3N2-FluB-full-segs.fasta \\\n",
    "-query flu-6-4.2d.fasta \\\n",
    "-out flu-6-4.2d.fludb.xml \\\n",
    "-outfmt 5 \\\n",
    "-num_threads 40 \\\n",
    "-max_target_seqs 1 \\\n",
    "-culling_limit 2 \\\n",
    "-evalue 0.00005\n",
    "\n",
    "python ~/projects/MinION-notebook/scripts/read-fludb-blastxml.py flu-6-4.2d.fludb.xml > flu-6-4.2d.fludb.seg-counts.tsv\n",
    "\n",
    "for i in PA PB2 PB1 MP NA NS NP PA HA; do sort -nrk4 ~/projects/MinION-notebook/minion-blast/6-4/flu-6-4.2d.fludb.seg-counts.tsv | grep 'FluB' | grep -m1 $i ; done\n",
    "\n",
    "cd /home/alan/projects/MinION-notebook/minion-blast/11-9\n",
    "\n",
    "blastn \\\n",
    "-db ~/projects/MinION-notebook/clinical-analysis/fludb/all-H1N1-H3N2-FluB-full-segs.fasta \\\n",
    "-query flu-11-9.2d.fasta \\\n",
    "-out flu-11-9.2d.fludb.xml \\\n",
    "-outfmt 5 \\\n",
    "-num_threads 40 \\\n",
    "-max_target_seqs 1 \\\n",
    "-culling_limit 2 \\\n",
    "-evalue 0.00005\n",
    "\n",
    "python ~/projects/MinION-notebook/scripts/read-fludb-blastxml.py flu-11-9.2d.fludb.xml > flu-11-9.2d.fludb.seg-counts.tsv\n",
    "\n",
    "for i in PA PB2 PB1 MP NA NS NP PA HA; do sort -nrk4 ~/projects/MinION-notebook/minion-blast/11-9/flu-11-9.2d.f*tsv | grep 'FluB' | grep -m1 $i ; done\n",
    "\n",
    "cd /home/alan/projects/MinION-notebook/clinical-analysis/consensus-comparison/flub\n",
    "\n",
    "bwa mem -t 30 11-9-top-seg-hits.fasta f3.r1.fastq.gz f3.r2.fastq.gz\n",
    "\n",
    "samtools view -b -o f3.11-9-top-seg-hits.bam f3.11-9-top-seg-hits.sam\n",
    "samtools sort -o f3.11-9-top-seg-hits.sort.bam f3.11-9-top-seg-hits.bam\n",
    "samtools index f3.11-9-top-seg-hits.sort.bam\n",
    "\n",
    "bwa mem -t 30 -x ont2d 11-9-top-seg-hits.fasta flu-11-9.2d.fastq > flu-11-9.2d.11-9-top-seg-hits.sam\n",
    "\n",
    "samtools view -b -o flu-11-9.2d.11-9-top-seg-hits.bam flu-11-9.2d.11-9-top-seg-hits.sam\n",
    "samtools sort -o flu-11-9.2d.11-9-top-seg-hits.sort.bam flu-11-9.2d.11-9-top-seg-hits.bam\n",
    "samtools index flu-11-9.2d.11-9-top-seg-hits.sort.bam\n",
    "\n",
    "for i in HA NA NP NS MP PA PB1 PB2; do python ~/projects/MinION-notebook/scripts/bamfile_consensus_generate.py f3.11-9-top-seg-hits.sort.bam $i ; done > f3.11-9-top-seg-hits.consensus.fasta\n",
    "\n",
    "for i in HA NA NP NS MP PA PB1 PB2; do python ~/projects/MinION-notebook/scripts/bamfile_consensus_generate.py flu-11-9.2d.11-9-top-seg-hits.sort.bam $i ; done > flu-11-9.2d.11-9-top-seg-hits.consensus.fasta"
   ]
  },
  {
   "cell_type": "markdown",
   "metadata": {},
   "source": [
    "It's interesting to note that the blast results between the 6-4 and 11-9 MinION runs produce different top hits with the exception of MP, NS, and NA. Since the FluDB is only taking representative sequences these top hits are actually different.\n",
    "\n",
    "6-4 \n",
    "* CY124945        FluB    PA      11      gb:CY124945|Organism:Influenza B virus B/Managua/3425.01/2008|Segment:3|Subtype:null|Host:Human\n",
    "* KT866760        FluB    PB2     21      gb:KT866760|Organism:Influenza B virus B/New York/17/2015|Segment:1|Subtype:null|Host:Human\n",
    "* CY191426        FluB    PB1     23      gb:CY191426|Organism:Influenza B virus B/New York/WC-LVD-14-009/2014|Segment:2|Subtype:null|Host:Human\n",
    "* LC033380        FluB    MP      83      gb:LC033380|Organism:Influenza B virus B/Nagasaki/13N070/2014|Segment:7|Subtype:null|Host:Human\n",
    "* LC033379        FluB    NA      72      gb:LC033379|Organism:Influenza B virus B/Nagasaki/13N070/2014|Segment:6|Subtype:null|Host:Human\n",
    "* LC033381        FluB    NS      174     gb:LC033381|Organism:Influenza B virus B/Nagasaki/13N070/2014|Segment:8|Subtype:null|Host:Human\n",
    "* CY191542        FluB    NP      1       gb:CY191542|Organism:Influenza B virus B/New York/WC-LVD-14-025/2014|Segment:5|Subtype:null|Host:Human\n",
    "* CY124945        FluB    PA      11      gb:CY124945|Organism:Influenza B virus B/Managua/3425.01/2008|Segment:3|Subtype:null|Host:Human\n",
    "* CY173779        FluB    HA      26      gb:CY173779|Organism:Influenza B virus B/New York/1330/2012|Segment:4|Subtype:null|Host:Human\n",
    "\n",
    "11-9\n",
    "* KT866320        FluB    PA      24      gb:KT866320|Organism:Influenza B virus B/Delaware/11/2015|Segment:3|Subtype:null|Host:Human\n",
    "* AY504600        FluB    PB2     38      gb:AY504600|Organism:Influenza B virus B/Victoria/504/2000|Segment:1|Subtype:null|Host:Human\n",
    "* KT853479        FluB    PB1     6       gb:KT853479|Organism:Influenza B virus B/Pennsylvania/04/2015|Segment:2|Subtype:null|Host:Human\n",
    "* LC033380        FluB    MP      28      gb:LC033380|Organism:Influenza B virus B/Nagasaki/13N070/2014|Segment:7|Subtype:null|Host:Human\n",
    "* LC033379        FluB    NA      133     gb:LC033379|Organism:Influenza B virus B/Nagasaki/13N070/2014|Segment:6|Subtype:null|Host:Human\n",
    "* LC033381        FluB    NS      54      gb:LC033381|Organism:Influenza B virus B/Nagasaki/13N070/2014|Segment:8|Subtype:null|Host:Human\n",
    "* CY173782        FluB    NP      4       gb:CY173782|Organism:Influenza B virus B/New York/1330/2012|Segment:5|Subtype:null|Host:Human\n",
    "* KT866320        FluB    PA      24      gb:KT866320|Organism:Influenza B virus B/Delaware/11/2015|Segment:3|Subtype:null|Host:Human\n",
    "* KP864252        FluB    HA      29      gb:KP864252|Organism:Influenza B virus B/Quebec/07/2014|Segment:4|Subtype:null|Host:Human\n",
    "\n",
    "The HA segments are the only ones that differ in length so comparisons between the other segments should be fine:\n",
    "\n",
    "perl ~/projects/MinION-notebook/scripts/get-len.pl flu-11-9.2d.11-9-top-seg-hits.consensus.fasta\n",
    "    HA      1834\n",
    "    NA      1551\n",
    "    NP      1809\n",
    "    NS      1096\n",
    "    MP      1190\n",
    "    PA      2181\n",
    "    PB1     2313\n",
    "    PB2     2369\n",
    "\n",
    "perl ~/projects/MinION-notebook/scripts/get-len.pl f3.11-9-top-seg-hits.consensus.fasta\n",
    "    HA      1831\n",
    "    NA      1551\n",
    "    NP      1809\n",
    "    NS      1096\n",
    "    MP      1190\n",
    "    PA      2181\n",
    "    PB1     2313\n",
    "    PB2     2369\n",
    "\n",
    "So now to map the MinION data to the MiSeq blast consensus and the MiSeq data to the MinION blast consensus and compare the two new consensus sequence. "
   ]
  },
  {
   "cell_type": "code",
   "execution_count": null,
   "metadata": {
    "collapsed": true
   },
   "outputs": [],
   "source": [
    "cd /home/alan/projects/MinION-notebook/clinical-analysis/consensus-comparison/flub/minion-to-miseq-consensus\n",
    "\n",
    "bwa mem -t 30 -x ont2d f3.11-9-top-seg-hits.consensus.fasta flu-11-9.2d.fastq > flu-11-9.2d.sam\n",
    "\n",
    "samtools view -b -o flu-11-9.2d.bam flu-11-9.2d.sam\n",
    "samtools sort -o flu-11-9.2d.sort.bam flu-11-9.2d.bam\n",
    "samtools index flu-11-9.2d.sort.bam\n",
    "\n",
    "rm flu-11-9.2d.sam flu-11-9.2d.bam\n",
    "\n",
    "for i in HA NA NP NS MP PA PB1 PB2; do python ~/projects/MinION-notebook/scripts/bamfile_consensus_generate.py flu-11-9.2d.sort.bam $i ; done > flu-11-9.2d.consensus.fasta\n",
    "\n",
    "cd /home/alan/projects/MinION-notebook/clinical-analysis/consensus-comparison/flub/miseq-to-minion-consensus\n",
    "\n",
    "bwa mem -t 30 flu-11-9.2d.11-9-top-seg-hits.consensus.fasta f3.r1.fastq.gz f3.r2.fastq.gz\n",
    "\n",
    "samtools view -b -o f3.bam f3.sam\n",
    "samtools sort -o f3.sort.bam f3.bam\n",
    "samtools index f3.sort.bam\n",
    "\n",
    "rm f3.sam f3.bam\n",
    "\n",
    "for i in HA NA NP NS MP PA PB1 PB2; do python ~/projects/MinION-notebook/scripts/bamfile_consensus_generate.py f3.sort.bam $i ; done > f3.consensus.fasta"
   ]
  },
  {
   "cell_type": "code",
   "execution_count": null,
   "metadata": {
    "ExecuteTime": {
     "end_time": "2016-03-24T15:43:29.966016",
     "start_time": "2016-03-24T15:43:28.600333"
    },
    "collapsed": false
   },
   "outputs": [],
   "source": [
    "cd /home/alan/projects/MinION-notebook/clinical-analysis/consensus-comparison/flub\n",
    "\n",
    "for i in HA NA NP MP NS PB1 PB2 PA; do grep -A1 -h --no-group-separator $i miseq-to-minion-consensus/f3.consensus.fasta minion-to-miseq-consensus/flu-11-9.2d.consensus.fasta > temp.fa && python ~/projects/MinION-notebook/scripts/pairwise-pid.py temp.fa fasta; done"
   ]
  },
  {
   "cell_type": "markdown",
   "metadata": {},
   "source": [
    "So all but the NS segment have differences. Which is really weird considering the consensus sequences from the top flu segments have fewer variants.\n",
    "\n",
    "Also, super important, order matters for comparing the consensus sequences. Found that bug earlier...\n",
    "\n",
    "The following step is to look at how the consensus sequences compare when both the MiSeq and the MinION use the top MinION blast hit. This **should** be the cleanest the data will ever be but it's not. I think this is a direct result of introducing gaps/noise into the aligner. "
   ]
  },
  {
   "cell_type": "code",
   "execution_count": null,
   "metadata": {
    "ExecuteTime": {
     "end_time": "2016-03-24T14:05:34.406200",
     "start_time": "2016-03-24T14:05:33.143882"
    },
    "collapsed": false
   },
   "outputs": [],
   "source": [
    "cd /home/alan/projects/MinION-notebook/clinical-analysis/consensus-comparison/flub\n",
    "for i in HA NA NP MP NS PB1 PB2 PA; do grep -A1 -h --no-group-separator $i f3.11-9-top-seg-hits.consensus.fasta flu-11-9.2d.11-9-top-seg-hits.consensus.fasta > temp.fa && python ~/projects/MinION-notebook/scripts/pairwise-pid.py temp.fa fasta; done"
   ]
  },
  {
   "cell_type": "markdown",
   "metadata": {},
   "source": [
    "For some reason the HA segment of the MiSeq consensus generated with the top blast hit is missing the last three nucleotides, so I've manually editted them in.\n",
    "\n",
    "For clarity, I'm merging all the runs to see if it has an effect on the consensus quality. I compared the consensus sequences when using the top blast hit as the reference."
   ]
  },
  {
   "cell_type": "code",
   "execution_count": null,
   "metadata": {
    "collapsed": true
   },
   "outputs": [],
   "source": [
    "cd /home/alan/projects/MinION-notebook/clinical-analysis/consensus-comparison/all-flub-runs\n",
    "\n",
    "cat ~/projects/MinION-notebook/raw-data/MinION/11-9/flu-11-9.2d.fastq ~/projects/MinION-notebook/raw-data/MinION/6-4/flu-6-4.2d.fastq ~/projects/MinION-notebook/raw-data/MinION/8-13/flu-8-13.2d.fastq > all-runs.fastq\n",
    "\n",
    "ls ../flub/11-9-top-seg-hits.fasta* | xargs -I 1 ln -s 1\n",
    "\n",
    "bwa mem -t 30 -x ont2d 11-9-top-seg-hits.fasta all-runs.fastq > all-runs.11-9-top-seg-hits.sam\n",
    "\n",
    "samtools view -b -o all-runs.11-9-top-seg-hits.bam all-runs.11-9-top-seg-hits.sam\n",
    "samtools sort -o all-runs.11-9-top-seg-hits.sort.bam all-runs.11-9-top-seg-hits.bam\n",
    "samtools index all-runs.11-9-top-seg-hits.sort.bam\n",
    "\n",
    "rm all-runs.11-9-top-seg-hits.bam all-runs.11-9-top-seg-hits.sam\n",
    "\n",
    "for i in HA NA NP NS MP PA PB1 PB2; do python ~/projects/MinION-notebook/scripts/bamfile_consensus_generate.py all-runs.11-9-top-seg-hits.sort.bam $i ; done > all-runs.11-9-top-seg-hits.consensus.fasta"
   ]
  },
  {
   "cell_type": "code",
   "execution_count": 6,
   "metadata": {
    "ExecuteTime": {
     "end_time": "2016-03-29T14:40:38.042357",
     "start_time": "2016-03-29T14:40:36.610054"
    },
    "collapsed": false
   },
   "outputs": [
    {
     "name": "stdout",
     "output_type": "stream",
     "text": [
      "RefName\tRefLen\t#Variants\t#Deletions\r\n",
      "HA \t1834 \t1 \t9\r\n",
      "RefName\tRefLen\t#Variants\t#Deletions\r\n",
      "NA \t1551 \t1 \t4\r\n",
      "RefName\tRefLen\t#Variants\t#Deletions\r\n",
      "NP \t1809 \t0 \t12\r\n",
      "RefName\tRefLen\t#Variants\t#Deletions\r\n",
      "MP \t1190 \t0 \t11\r\n",
      "RefName\tRefLen\t#Variants\t#Deletions\r\n",
      "NS \t1096 \t1 \t1\r\n",
      "RefName\tRefLen\t#Variants\t#Deletions\r\n",
      "PB1 \t2313 \t0 \t6\r\n",
      "RefName\tRefLen\t#Variants\t#Deletions\r\n",
      "PB2 \t2369 \t46 \t8\r\n",
      "RefName\tRefLen\t#Variants\t#Deletions\r\n",
      "PA \t2181 \t0 \t1\r\n"
     ]
    }
   ],
   "source": [
    "cd /home/alan/projects/MinION-notebook/clinical-analysis/consensus-comparison/all-flub-runs\n",
    "\n",
    "for i in HA NA NP MP NS PB1 PB2 PA; do grep -A1 -h --no-group-separator $i ../flub/f3.11-9-top-seg-hits.consensus.fasta all-runs.11-9-top-seg-hits.consensus.fasta > temp.fa && python ~/projects/MinION-notebook/scripts/pairwise-pid.py temp.fa fasta; done"
   ]
  },
  {
   "cell_type": "markdown",
   "metadata": {},
   "source": [
    "So more depth helps reduce the noise but not sure why it hasn't fixed it. Also, way more indels here...\n",
    "\n",
    "Time to blast the mapped reads to see if this improves anything by obtaining a refined reference sequence"
   ]
  },
  {
   "cell_type": "code",
   "execution_count": null,
   "metadata": {
    "collapsed": true
   },
   "outputs": [],
   "source": [
    "cd /home/alan/projects/MinION-notebook/clinical-analysis/consensus-comparison/all-flub-runs\n",
    "\n",
    "samtools view -F 4 all-runs.11-9-top-seg-hits.sort.bam | cut -f1,10 | perl -pe 's/^(.+)\\t(.+)/>$1\\n$2/g' > all-runs.11-9-top-seg-hits.mapped-only.fasta\n",
    "\n",
    "blastn -db ~/projects/MinION-notebook/clinical-analysis/fludb/all-H1N1-H3N2-FluB-full-segs.fasta -query all-runs.11-9-top-seg-hits.mapped-only.fasta -out all-runs.11-9-top-seg-hits.mapped-only.blastn.xml -num_threads 30 -culling_limit 2 -max_target_seqs 1 -evalue 0.00005 -outfmt 5\n",
    "\n",
    "python ~/projects/MinION-notebook/scripts/read-fludb-blastxml.py all-runs.11-9-top-seg-hits.mapped-only.blastn.xml > all-runs.11-9-top-seg-hits.mapped-only.blastn.seg-counts.tsv"
   ]
  },
  {
   "cell_type": "markdown",
   "metadata": {},
   "source": []
  },
  {
   "cell_type": "markdown",
   "metadata": {},
   "source": [
    "### Consensus Pairwise Alignment\n",
    "\n",
    "For some reason the references differ drastically when I use the other platform's consensus sequence as a reference. I.e. when aligning the MinION data to the MiSeq reference (generated by aligning the the MiSeq data to the top MinION blast hit).\n",
    "\n",
    "I'm assuming this has a lot to do with the erroneous consensus generated with the MinION data so I don't know if this is a worthwhile comparison, especially since the blast results are pretty accurate themselves.\n",
    "\n",
    "Below are the variant positions that were identified when comparing the consensus sequences above. There are only three total. The order of the sequences are as follows:\n",
    "    1) Top blast hit for that segment\n",
    "    2) MiSeq consensus generated from aligning to the top blast hit\n",
    "    3) MiSeq consensus generated from aligning to the MinION consensus\n",
    "    4) MinION consensus generated from aligning to the top blast hit\n",
    "    5) MinION consensus generated from aligning to the MiSeq consensus\n",
    "\n",
    "![title](docs/flub-blast-consensus-alignment-HA.png)\n",
    "\n",
    "![title](docs/flub-blast-consensus-alignment-NS.png)\n",
    "\n",
    "![title](docs/flub-blast-consensus-alignment-NA.png)\n",
    "\n",
    "Based on these results, the reference definitely seems to guide the alignment of the MinION data. \n",
    "\n",
    "    A) The blast hit isn't an exact match when comparing to the MiSeq data (problem one). There are three positions that are discrepant betweent the MiSeq and the Blast results, and since we're relying on the MiSeq as being the correct dataset, and the fact that the MinION can support this, we're going to go with that.\n",
    "    B) Adjacent indels, presumably, are the reason that the MinION reads are being skewed to the reference base. I highly doubt this is a result of lack of reads mapping since it's just a single base, and the fact that these reads are indel rich, suggests it's an alignment artifact.\n",
    "    C) When aligning to the MiSeq consensus (regardless of how it was generated) the MinION always agrees. \n",
    "\n",
    "I think looking at the IGV of these alignments will be very informative on whether or not this is an algorithmic artifact (if that's what it would be classified as).\n",
    "\n",
    "These alignments are showing the pileup at the positions in the consensus where there are discrepancies between the MinION and MiSeq consensus sequences. The order is as follows:\n",
    "    1) MiSeq to MinION consensus\n",
    "    2) MinION to MiSeq consensus\n",
    "    3) MinION to top blast hit\n",
    "    4) MiSeq to top blast hit\n",
    "\n",
    "![title](docs/flub-top-seg-hits-miseq-minion-alignments-HA.png)\n",
    "\n",
    "![title](docs/flub-top-seg-hits-miseq-minion-alignments-NS.png)\n",
    "\n",
    "![title](docs/flub-top-seg-hits-miseq-minion-alignments-NA.png)\n",
    "\n",
    "\n",
    "So the evidence suggests a pretty significant difference in proportions of bases that agree with the reference sequence it is aligned to. The problem is that there are so many erroneous bases called that the read provides the aligner with the capacity to better fit the reference. As seen below, the same read (outlined in red) has its flanking indels shown. Based on this screenshot I can extrapolate raw sequence that would normally span that region.\n",
    "\n",
    "![title](docs/flub-top-seg-hits-minion-indel-HA.png)\n",
    "\n",
    "\n",
    "So now that the problem has been identified as an indel misalignment the problem now lies in whether this is something that:\n",
    "    A) Can be corrected by tweaking alignmnet parameters\n",
    "    B) Is biased due to the reference database used (is the MiSeq consensus sequence actually represented in the FluDB or is this a novel strain?)\n",
    "    C) Can the correct sequence be obtained without the information provided by the MiSeq?\n",
    "    \n",
    "Just to note, all of these are near some poly(A). Not sure if that has any relevance to the findings but it is an observation."
   ]
  },
  {
   "cell_type": "markdown",
   "metadata": {},
   "source": [
    "### FluDB Comprehension\n",
    "\n",
    "To determine whether the MiSeq consensus sequence is actually represented in the FluDB used to query, I grepped for an exact match and there were none, meaning that our consensus is either novel or erroneous. To further support that claim, a blastn against the nt database also yielded a hit with 4 mismatches. This could be biased due to the reference used (note that the consensus sequence starts aligning at the subject's 10th nucleotide in the blast results below) so there may not be enough information retained in the consensus, but I find that highly unlikely.\n",
    "\n",
    "![title](docs/flub-11-9-HA-top-blast-result.png)\n",
    "\n",
    "So now the question is: is this the real sequence in the sample? This is theoretically only solvable via de novo assembly..."
   ]
  },
  {
   "cell_type": "markdown",
   "metadata": {
    "collapsed": true
   },
   "source": [
    "### Reference Base Masking\n",
    "\n",
    "Since there is an obvious bias in the reference when aligning the MinION data, removing the bases that are inducing the bias may yield a more accurate consensus sequence. To do so, I will change the discrepant bases between the MiSeq and the MinION consensus sequences to an 'N' and see what happens when it tries to align the MinION data."
   ]
  },
  {
   "cell_type": "code",
   "execution_count": 7,
   "metadata": {
    "ExecuteTime": {
     "end_time": "2016-03-29T14:41:52.144709",
     "start_time": "2016-03-29T14:41:51.379727"
    },
    "collapsed": false
   },
   "outputs": [
    {
     "name": "stdout",
     "output_type": "stream",
     "text": [
      "RefName\tRefLen\t#Variants\t#Deletions\r\n",
      "HA \t1834 \t0 \t9\r\n",
      "RefName\tRefLen\t#Variants\t#Deletions\r\n",
      "NA \t1551 \t1 \t4\r\n",
      "RefName\tRefLen\t#Variants\t#Deletions\r\n",
      "NS \t1096 \t0 \t0\r\n"
     ]
    }
   ],
   "source": [
    "cd /home/alan/projects/MinION-notebook/clinical-analysis/consensus-comparison/flub/reference-base-masking\n",
    "\n",
    "for i in HA NA NS; do grep -A1 -h --no-group-separator $i ../f3.11-9-top-seg-hits.consensus.fasta \\\n",
    "flu-11-9.2d.11-9-top-seg-hits.masked.consensus.fasta > temp && python ~/projects/MinION-notebook/scripts/pairwise-pid.py temp \\\n",
    "fasta; done"
   ]
  },
  {
   "cell_type": "markdown",
   "metadata": {},
   "source": [
    "And then there was one... \n",
    "\n",
    "Based on the consensus comparisons previously done these positions were not substituted for deletions (woohoo!) so that is good. However, that isn't to say that there were not more deletions overall at those positions.\n",
    "\n",
    "Now to figure out why this didn't work for the NA.\n",
    "\n",
    "For HA this tactic worked perfectly. The top alignment (MinION aligned to MiSeq reference) is the same as the bottom (MinION aligned to the reference blast hit).\n",
    "![title](docs/flub-masked-reference-base-HA.png)\n",
    "\n",
    "For NA this went in the opposite direction. This introduced a lot more noise than expected and ended up calling a 'C' instead of an 'A' or 'G' which was seen in the other alignments.\n",
    "![title](docs/flub-masked-reference-base-NA.png)\n",
    "\n",
    "The NS worked alright though the two most frequent bases are not separated by a significant amount of reads (only a 2% difference), but at least it worked.\n",
    "![title](docs/flub-masked-reference-base-NS.png)\n",
    "\n",
    "Also, need to dig into the PB1 segmnet - see why it's not working.\n",
    "\n",
    "\n",
    "So now to try this with a different dataset to see if one of them can actually get it right."
   ]
  },
  {
   "cell_type": "code",
   "execution_count": null,
   "metadata": {
    "ExecuteTime": {
     "end_time": "2016-03-29T14:06:07.895242",
     "start_time": "2016-03-29T14:06:06.092119"
    },
    "collapsed": false
   },
   "outputs": [],
   "source": [
    "cd /home/alan/projects/MinION-notebook/clinical-analysis/consensus-comparison/flub/reference-base-masking\n",
    "\n",
    "ln -s ~/projects/MinION-notebook/raw-data/MinION/6-4/flu-6-4.2d.fastq\n",
    "\n",
    "bwa mem -t 30 -x ont2d 11-9-top-seg-hits.masked.fasta flu-6-4.2d.fastq > flu-6-4.2d.11-9-top-seg-hits.masked.sam\n",
    "\n",
    "samtools view -b -o flu-6-4.2d.11-9-top-seg-hits.masked.bam flu-6-4.2d.11-9-top-seg-hits.masked.sam\n",
    "samtools sort -o flu-6-4.2d.11-9-top-seg-hits.masked.sort.bam flu-6-4.2d.11-9-top-seg-hits.masked.bam\n",
    "samtools index flu-6-4.2d.11-9-top-seg-hits.masked.sort.bam\n",
    "\n",
    "rm flu-6-4.2d.11-9-top-seg-hits.masked.bam flu-6-4.2d.11-9-top-seg-hits.masked.sam\n",
    "\n",
    "for i in PB1 PB2 PA HA NA NS NP MP; do python ~/projects/MinION-notebook/scripts/bamfile_consensus_generate.py flu-6-4.2d.11-9-top-seg-hits.masked.sort.bam $i ; done > flu-6-4.2d.11-9-top-seg-hits.masked.consensus.fasta"
   ]
  },
  {
   "cell_type": "code",
   "execution_count": 5,
   "metadata": {
    "ExecuteTime": {
     "end_time": "2016-03-29T14:24:36.179664",
     "start_time": "2016-03-29T14:24:34.807910"
    },
    "collapsed": false
   },
   "outputs": [
    {
     "name": "stdout",
     "output_type": "stream",
     "text": [
      "RefName\tRefLen\t#Variants\t#Deletions\r\n",
      "PB1 \t2313 \t2 \t33\r\n",
      "RefName\tRefLen\t#Variants\t#Deletions\r\n",
      "PB2 \t2369 \t5 \t24\r\n",
      "RefName\tRefLen\t#Variants\t#Deletions\r\n",
      "PA \t2181 \t0 \t17\r\n",
      "RefName\tRefLen\t#Variants\t#Deletions\r\n",
      "HA \t1834 \t0 \t26\r\n",
      "RefName\tRefLen\t#Variants\t#Deletions\r\n",
      "NA \t1551 \t0 \t14\r\n",
      "RefName\tRefLen\t#Variants\t#Deletions\r\n",
      "NS \t1096 \t0 \t6\r\n",
      "RefName\tRefLen\t#Variants\t#Deletions\r\n",
      "NP \t1809 \t108 \t120\r\n",
      "RefName\tRefLen\t#Variants\t#Deletions\r\n",
      "MP \t1190 \t0 \t17\r\n"
     ]
    }
   ],
   "source": [
    "cd /home/alan/projects/MinION-notebook/clinical-analysis/consensus-comparison/flub/reference-base-masking\n",
    "\n",
    "for i in PB1 PB2 PA HA NA NS NP MP; do grep -A1 -h --no-group-separator $i ../f3.11-9-top-seg-hits.consensus.fasta  flu-6-4.2d.11-9-top-seg-hits.masked.consensus.fasta > temp && python ~/projects/MinION-notebook/scripts/pairwise-pid.py temp fasta; done"
   ]
  },
  {
   "cell_type": "markdown",
   "metadata": {},
   "source": [
    "So the 6-4 run does not have any variants in these segments (yay?). "
   ]
  },
  {
   "cell_type": "markdown",
   "metadata": {},
   "source": [
    "### H1N1\n",
    "\n",
    "So now to conduct the same methodology with H1N1."
   ]
  },
  {
   "cell_type": "code",
   "execution_count": null,
   "metadata": {
    "ExecuteTime": {
     "end_time": "2016-03-31T14:55:13.782407",
     "start_time": "2016-03-31T14:41:54.516091"
    },
    "collapsed": false,
    "run_control": {
     "marked": false
    },
    "scrolled": true
   },
   "outputs": [],
   "source": [
    "cd /home/alan/projects/MinION-notebook/minion-blast/6-4\n",
    "\n",
    "blastn \\\n",
    "-db ~/projects/MinION-notebook/clinical-analysis/fludb/all-H1N1-H3N2-FluB-full-segs.fasta \\\n",
    "-query flu-6-4.2d.fasta \\\n",
    "-out flu-6-4.2d.fludb.xml \\\n",
    "-outfmt 5 \\\n",
    "-num_threads 40 \\\n",
    "-max_target_seqs 1 \\\n",
    "-culling_limit 2 \\\n",
    "-evalue 0.00005\n",
    "\n",
    "python ~/projects/MinION-notebook/scripts/read-fludb-blastxml.py flu-6-4.2d.fludb.xml > flu-6-4.2d.fludb.seg-counts.tsv\n",
    "\n",
    "for i in PA PB2 PB1 MP NA NS NP PA HA; do sort -nrk4 ~/projects/MinION-notebook/minion-blast/6-4/flu-6-4.2d.fludb.seg-counts.tsv | grep 'H1N1' | grep -m1 $i ; done > 6-4-h1n1-top-seg-hits.tsv\n",
    "\n",
    "cd /home/alan/projects/MinION-notebook/clinical-analysis/consensus-comparison/h1n1/6-4\n",
    "\n",
    "ln -s ~/projects/MinION-notebook/minion-blast/6-4/6-4-h1n1-top-seg-hits.tsv\n",
    "\n",
    "cut -f1 6-4-h1n1-top-seg-hits.tsv | grep --no-group-separator -A1 -F -f - ~/projects/MinION-notebook/clinical-analysis/fludb/all-H1N1-H3N2-FluB-full-segs.fasta > 6-4-h1n1-top-seg-hits.fasta\n",
    "\n",
    "bwa index 6-4-h1n1-top-seg-hits.fasta\n",
    "\n",
    "bwa mem -t 30 6-4-h1n1-top-seg-hits.fasta a1.r1.fastq.gz a1.r2.fastq.gz > a1.6-4-h1n1-top-seg-hits.sam\n",
    "\n",
    "samtools view -b -o a1.6-4-h1n1-top-seg-hits.bam a1.6-4-h1n1-top-seg-hits.sam\n",
    "samtools sort -o a1.6-4-h1n1-top-seg-hits.sort.bam a1.6-4-h1n1-top-seg-hits.bam\n",
    "samtools index a1.6-4-h1n1-top-seg-hits.sort.bam\n",
    "\n",
    "bwa mem -t 30 -x ont2d 6-4-h1n1-top-seg-hits.fasta flu-6-4.2d.fastq > flu-6-4.2d.6-4-h1n1-top-seg-hits.sam\n",
    "\n",
    "samtools view -b -o flu-6-4.2d.6-4-h1n1-top-seg-hits.bam flu-6-4.2d.6-4-h1n1-top-seg-hits.sam\n",
    "samtools sort -o flu-6-4.2d.6-4-h1n1-top-seg-hits.sort.bam flu-6-4.2d.6-4-h1n1-top-seg-hits.bam\n",
    "samtools index flu-6-4.2d.6-4-h1n1-top-seg-hits.sort.bam\n",
    "\n",
    "for i in HA NA NP NS MP PA PB1 PB2; do python ~/projects/MinION-notebook/scripts/bamfile_consensus_generate.py a1.6-4-h1n1-top-seg-hits.sort.bam $i ; done > a1.6-4-h1n1-top-seg-hits.consensus.fasta\n",
    "\n",
    "for i in HA NA NP NS MP PA PB1 PB2; do python ~/projects/MinION-notebook/scripts/bamfile_consensus_generate.py flu-6-4.2d.6-4-h1n1-top-seg-hits.sort.bam $i ; done > flu-6-4.2d.6-4-h1n1-top-seg-hits.consensus.fasta\n",
    "\n",
    "#blast against the fluDB\n",
    "cd /home/alan/projects/MinION-notebook/minion-blast/8-13\n",
    "\n",
    "blastn \\\n",
    "-db ~/projects/MinION-notebook/clinical-analysis/fludb/all-H1N1-H3N2-FluB-full-segs.fasta \\\n",
    "-query flu-8-13.2d.fasta \\\n",
    "-out flu-8-13.2d.fludb.xml \\\n",
    "-outfmt 5 \\\n",
    "-num_threads 40 \\\n",
    "-max_target_seqs 1 \\\n",
    "-culling_limit 2 \\\n",
    "-evalue 0.00005\n",
    "\n",
    "python ~/projects/MinION-notebook/scripts/read-fludb-blastxml.py flu-8-13.2d.fludb.xml > flu-8-13.2d.fludb.seg-counts.tsv\n",
    "\n",
    "for i in PA PB2 PB1 MP NA NS NP PA HA; do sort -nrk4 ~/projects/MinION-notebook/minion-blast/8-13/flu-8-13.2d.fludb.seg-counts.tsv | grep 'H1N1' | grep -m1 $i ; done > 8-13-h1n1-top-seg-hits.tsv\n",
    "\n",
    "# Map to the top blast segments and generate consensus sequences\n",
    "cd /home/alan/projects/MinION-notebook/clinical-analysis/consensus-comparison/h1n1/8-13\n",
    "\n",
    "ln -s ~/projects/MinION-notebook/minion-blast/8-13/8-13-h1n1-top-seg-hits.tsv\n",
    "\n",
    "cut -f1 8-13-h1n1-top-seg-hits.tsv | grep --no-group-separator -A1 -F -f - ~/projects/MinION-notebook/clinical-analysis/fludb/all-H1N1-H3N2-FluB-full-segs.fasta > 8-13-h1n1-top-seg-hits.fasta\n",
    "\n",
    "bwa index 8-13-h1n1-top-seg-hits.fasta\n",
    "\n",
    "bwa mem -t 30 8-13-h1n1-top-seg-hits.fasta a1.r1.fastq.gz a1.r2.fastq.gz > a1.8-13-h1n1-top-seg-hits.sam\n",
    "\n",
    "samtools view -b -o a1.8-13-h1n1-top-seg-hits.bam a1.8-13-h1n1-top-seg-hits.sam\n",
    "samtools sort -o a1.8-13-h1n1-top-seg-hits.sort.bam a1.8-13-h1n1-top-seg-hits.bam\n",
    "samtools index a1.8-13-h1n1-top-seg-hits.sort.bam\n",
    "\n",
    "bwa mem -t 30 -x ont2d 8-13-h1n1-top-seg-hits.fasta flu-8-13.2d.fastq > flu-8-13.2d.8-13-h1n1-top-seg-hits.sam\n",
    "\n",
    "samtools view -b -o flu-8-13.2d.8-13-h1n1-top-seg-hits.bam flu-8-13.2d.8-13-h1n1-top-seg-hits.sam\n",
    "samtools sort -o flu-8-13.2d.8-13-h1n1-top-seg-hits.sort.bam flu-8-13.2d.8-13-h1n1-top-seg-hits.bam\n",
    "samtools index flu-8-13.2d.8-13-h1n1-top-seg-hits.sort.bam\n",
    "\n",
    "for i in HA NA NP NS MP PA PB1 PB2; do python ~/projects/MinION-notebook/scripts/bamfile_consensus_generate.py a1.8-13-h1n1-top-seg-hits.sort.bam $i ; done > a1.8-13-h1n1-top-seg-hits.consensus.fasta\n",
    "\n",
    "for i in HA NA NP NS MP PA PB1 PB2; do python ~/projects/MinION-notebook/scripts/bamfile_consensus_generate.py flu-8-13.2d.8-13-h1n1-top-seg-hits.sort.bam $i ; done > flu-8-13.2d.8-13-h1n1-top-seg-hits.consensus.fasta"
   ]
  },
  {
   "cell_type": "code",
   "execution_count": 2,
   "metadata": {
    "ExecuteTime": {
     "end_time": "2016-03-31T15:50:14.106279",
     "start_time": "2016-03-31T15:50:12.431440"
    },
    "collapsed": false,
    "scrolled": true
   },
   "outputs": [
    {
     "name": "stdout",
     "output_type": "stream",
     "text": [
      "RefName\tRefLen\t#Variants\t#Deletions\r\n",
      "PB1 \t2274 \t33 \t15\r\n",
      "RefName\tRefLen\t#Variants\t#Deletions\r\n",
      "PB2 \t2280 \t224 \t13\r\n",
      "RefName\tRefLen\t#Variants\t#Deletions\r\n",
      "PA \t2233 \t14 \t6\r\n",
      "RefName\tRefLen\t#Variants\t#Deletions\r\n",
      "HA \t1777 \t3 \t27\r\n",
      "RefName\tRefLen\t#Variants\t#Deletions\r\n",
      "NA \t1410 \t1 \t6\r\n",
      "RefName\tRefLen\t#Variants\t#Deletions\r\n",
      "NS \t863 \t125 \t11\r\n",
      "RefName\tRefLen\t#Variants\t#Deletions\r\n",
      "NP \t1497 \t0 \t2\r\n",
      "Traceback (most recent call last):\r\n",
      "  File \"/home/alan/projects/MinION-notebook/scripts/pairwise-pid.py\", line 10, in <module>\r\n",
      "    alignment = AlignIO.read(open(sys.argv[1]), sys.argv[2])\r\n",
      "  File \"/usr/local/lib/python2.7/dist-packages/Bio/AlignIO/__init__.py\", line 427, in read\r\n",
      "    first = next(iterator)\r\n",
      "  File \"/usr/local/lib/python2.7/dist-packages/Bio/AlignIO/__init__.py\", line 374, in parse\r\n",
      "    for a in i:\r\n",
      "  File \"/usr/local/lib/python2.7/dist-packages/Bio/AlignIO/__init__.py\", line 276, in _SeqIO_to_alignment_iterator\r\n",
      "    yield MultipleSeqAlignment(records, alphabet)\r\n",
      "  File \"/usr/local/lib/python2.7/dist-packages/Bio/Align/__init__.py\", line 176, in __init__\r\n",
      "    self.extend(records)\r\n",
      "  File \"/usr/local/lib/python2.7/dist-packages/Bio/Align/__init__.py\", line 246, in extend\r\n",
      "    self._append(rec, expected_length)\r\n",
      "  File \"/usr/local/lib/python2.7/dist-packages/Bio/Align/__init__.py\", line 309, in _append\r\n",
      "    raise ValueError(\"Sequences must all be the same length\")\r\n",
      "ValueError: Sequences must all be the same length\r\n"
     ]
    }
   ],
   "source": [
    "cd /home/alan/projects/MinION-notebook/clinical-analysis/consensus-comparison/h1n1/8-13\n",
    "\n",
    "for i in PB1 PB2 PA HA NA NS NP MP; do grep -A1 -h --no-group-separator $i a1.8-13-h1n1-top-seg-hits.consensus.fasta flu-8-13.2d.8-13-h1n1-top-seg-hits.consensus.fasta > temp && python ~/projects/MinION-notebook/scripts/pairwise-pid.py temp fasta; done"
   ]
  },
  {
   "cell_type": "code",
   "execution_count": 3,
   "metadata": {
    "ExecuteTime": {
     "end_time": "2016-03-31T16:21:17.285607",
     "start_time": "2016-03-31T16:21:15.921339"
    },
    "collapsed": false,
    "scrolled": true
   },
   "outputs": [
    {
     "name": "stdout",
     "output_type": "stream",
     "text": [
      "RefName\tRefLen\t#Variants\t#Deletions\r\n",
      "PB1 \t2327 \t128 \t23\r\n",
      "RefName\tRefLen\t#Variants\t#Deletions\r\n",
      "PB2 \t2341 \t207 \t26\r\n",
      "RefName\tRefLen\t#Variants\t#Deletions\r\n",
      "PA \t2233 \t283 \t21\r\n",
      "RefName\tRefLen\t#Variants\t#Deletions\r\n",
      "HA \t1777 \t2 \t25\r\n",
      "RefName\tRefLen\t#Variants\t#Deletions\r\n",
      "NA \t1410 \t1 \t5\r\n",
      "RefName\tRefLen\t#Variants\t#Deletions\r\n",
      "NS \t863 \t0 \t4\r\n",
      "RefName\tRefLen\t#Variants\t#Deletions\r\n",
      "NP \t1497 \t7 \t2\r\n",
      "Traceback (most recent call last):\r\n",
      "  File \"/home/alan/projects/MinION-notebook/scripts/pairwise-pid.py\", line 10, in <module>\r\n",
      "    alignment = AlignIO.read(open(sys.argv[1]), sys.argv[2])\r\n",
      "  File \"/usr/local/lib/python2.7/dist-packages/Bio/AlignIO/__init__.py\", line 427, in read\r\n",
      "    first = next(iterator)\r\n",
      "  File \"/usr/local/lib/python2.7/dist-packages/Bio/AlignIO/__init__.py\", line 374, in parse\r\n",
      "    for a in i:\r\n",
      "  File \"/usr/local/lib/python2.7/dist-packages/Bio/AlignIO/__init__.py\", line 276, in _SeqIO_to_alignment_iterator\r\n",
      "    yield MultipleSeqAlignment(records, alphabet)\r\n",
      "  File \"/usr/local/lib/python2.7/dist-packages/Bio/Align/__init__.py\", line 176, in __init__\r\n",
      "    self.extend(records)\r\n",
      "  File \"/usr/local/lib/python2.7/dist-packages/Bio/Align/__init__.py\", line 246, in extend\r\n",
      "    self._append(rec, expected_length)\r\n",
      "  File \"/usr/local/lib/python2.7/dist-packages/Bio/Align/__init__.py\", line 309, in _append\r\n",
      "    raise ValueError(\"Sequences must all be the same length\")\r\n",
      "ValueError: Sequences must all be the same length\r\n"
     ]
    }
   ],
   "source": [
    "cd /home/alan/projects/MinION-notebook/clinical-analysis/consensus-comparison/h1n1/6-4\n",
    "\n",
    "for i in PB1 PB2 PA HA NA NS NP MP; do grep -A1 -h --no-group-separator $i a1.6-4-h1n1-top-seg-hits.consensus.fasta flu-6-4.2d.6-4-h1n1-top-seg-hits.consensus.fasta > temp && python ~/projects/MinION-notebook/scripts/pairwise-pid.py temp fasta; done"
   ]
  },
  {
   "cell_type": "markdown",
   "metadata": {},
   "source": [
    "### H3N2-70"
   ]
  },
  {
   "cell_type": "code",
   "execution_count": null,
   "metadata": {
    "collapsed": true
   },
   "outputs": [],
   "source": [
    "cd /home/alan/projects/MinION-notebook/clinical-analysis/consensus-comparison/h3n2-70\n",
    "\n",
    "ln -s ~/projects/MinION-notebook/raw-data/MinION/6-4/flu-6-4.2d.fastq\n",
    "ln -s ~/projects/MinION-notebook/raw-data/MiSeq/clinical-strains/c1.r1.fastq.gz\n",
    "ln -s ~/projects/MinION-notebook/raw-data/MiSeq/clinical-strains/c1.r2.fastq.gz\n",
    "ln -s ~/projects/MinION-notebook/minion-blast/6-4/6-4-h3n2-70-top-seg-hits.tsv\n",
    "\n",
    "cut -f1 6-4-h3n2-70-top-seg-hits.tsv | grep --no-group-separator -A1 -F -f - ~/projects/MinION-notebook/clinical-analysis/fludb/all-H1N1-H3N2-FluB-full-segs.fasta > 6-4-h3n2-70-top-seg-hits.fasta\n",
    "\n",
    "bwa index 6-4-h3n2-70-top-seg-hits.fasta\n",
    "\n",
    "bwa mem -t 30 6-4-h3n2-70-top-seg-hits.fasta c1.r1.fastq.gz c1.r2.fastq.gz > c1.6-4-h3n2-70-top-seg-hits.sam\n",
    "\n",
    "samtools view -b -o c1.6-4-h3n2-70-top-seg-hits.bam c1.6-4-h3n2-70-top-seg-hits.sam\n",
    "samtools sort -o c1.6-4-h3n2-70-top-seg-hits.sort.bam c1.6-4-h3n2-70-top-seg-hits.bam\n",
    "samtools index c1.6-4-h3n2-70-top-seg-hits.sort.bam\n",
    "\n",
    "bwa mem -t 30 -x ont2d 6-4-h3n2-70-top-seg-hits.fasta flu-6-4.2d.fastq > flu-6-4.2d.6-4-h3n2-70-top-seg-hits.sam\n",
    "\n",
    "samtools view -b -o flu-6-4.2d.6-4-h3n2-70-top-seg-hits.bam flu-6-4.2d.6-4-h3n2-70-top-seg-hits.sam\n",
    "samtools sort -o flu-6-4.2d.6-4-h3n2-70-top-seg-hits.sort.bam flu-6-4.2d.6-4-h3n2-70-top-seg-hits.bam\n",
    "samtools index flu-6-4.2d.6-4-h3n2-70-top-seg-hits.sort.bam\n",
    "\n",
    "for i in HA NA NP NS MP PA PB1 PB2; do python ~/projects/MinION-notebook/scripts/bamfile_consensus_generate.py c1.6-4-h3n2-70-top-seg-hits.sort.bam $i ; done > c1.6-4-h3n2-70-top-seg-hits.consensus.fasta\n",
    "\n",
    "for i in HA NA NP NS MP PA PB1 PB2; do python ~/projects/MinION-notebook/scripts/bamfile_consensus_generate.py flu-6-4.2d.6-4-h3n2-70-top-seg-hits.sort.bam $i ; done > flu-6-4.2d.6-4-h3n2-70-top-seg-hits.consensus.fasta\n"
   ]
  },
  {
   "cell_type": "code",
   "execution_count": 4,
   "metadata": {
    "ExecuteTime": {
     "end_time": "2016-03-31T17:00:41.424047",
     "start_time": "2016-03-31T17:00:40.054744"
    },
    "collapsed": false
   },
   "outputs": [
    {
     "name": "stdout",
     "output_type": "stream",
     "text": [
      "RefName\tRefLen\t#Variants\t#Deletions\r\n",
      "PB1 \t2340 \t4 \t27\r\n",
      "RefName\tRefLen\t#Variants\t#Deletions\r\n",
      "PB2 \t2280 \t17 \t13\r\n",
      "RefName\tRefLen\t#Variants\t#Deletions\r\n",
      "PA \t2232 \t1 \t15\r\n",
      "RefName\tRefLen\t#Variants\t#Deletions\r\n",
      "HA \t1727 \t0 \t12\r\n",
      "RefName\tRefLen\t#Variants\t#Deletions\r\n",
      "NA \t1466 \t0 \t12\r\n",
      "RefName\tRefLen\t#Variants\t#Deletions\r\n",
      "NS \t890 \t140 \t11\r\n",
      "RefName\tRefLen\t#Variants\t#Deletions\r\n",
      "NP \t1566 \t42 \t1\r\n",
      "RefName\tRefLen\t#Variants\t#Deletions\r\n",
      "MP \t1027 \t2 \t5\r\n"
     ]
    }
   ],
   "source": [
    "cd /home/alan/projects/MinION-notebook/clinical-analysis/consensus-comparison/h3n2-70\n",
    "\n",
    "for i in PB1 PB2 PA HA NA NS NP MP; do grep -A1 -h --no-group-separator $i c1.6-4-h3n2-70-top-seg-hits.consensus.fasta flu-6-4.2d.6-4-h3n2-70-top-seg-hits.consensus.fasta > temp && python ~/projects/MinION-notebook/scripts/pairwise-pid.py temp fasta; done"
   ]
  },
  {
   "cell_type": "markdown",
   "metadata": {},
   "source": [
    "### H3N2-90"
   ]
  },
  {
   "cell_type": "code",
   "execution_count": null,
   "metadata": {
    "collapsed": true
   },
   "outputs": [],
   "source": [
    "cd /home/alan/projects/MinION-notebook/clinical-analysis/consensus-comparison/h3n2-90\n",
    "\n",
    "ln -s ~/projects/MinION-notebook/raw-data/MinION/8-13/flu-8-13.2d.fastq\n",
    "ln -s ~/projects/MinION-notebook/raw-data/MiSeq/clinical-strains/f1.r1.fastq.gz\n",
    "ln -s ~/projects/MinION-notebook/raw-data/MiSeq/clinical-strains/f1.r2.fastq.gz\n",
    "ln -s ~/projects/MinION-notebook/minion-blast/8-13/8-13-h3n2-90-top-seg-hits.tsv\n",
    "\n",
    "cut -f1 8-13-h3n2-90-top-seg-hits.tsv | grep --no-group-separator -A1 -F -f - ~/projects/MinION-notebook/clinical-analysis/fludb/all-H1N1-H3N2-FluB-full-segs.fasta > 8-13-h3n2-90-top-seg-hits.fasta\n",
    "\n",
    "bwa index 8-13-h3n2-90-top-seg-hits.fasta\n",
    "\n",
    "bwa mem -t 30 8-13-h3n2-90-top-seg-hits.fasta f1.r1.fastq.gz f1.r2.fastq.gz > f1.8-13-h3n2-90-top-seg-hits.sam\n",
    "\n",
    "samtools view -b -o f1.8-13-h3n2-90-top-seg-hits.bam f1.8-13-h3n2-90-top-seg-hits.sam\n",
    "samtools sort -o f1.8-13-h3n2-90-top-seg-hits.sort.bam f1.8-13-h3n2-90-top-seg-hits.bam\n",
    "samtools index f1.8-13-h3n2-90-top-seg-hits.sort.bam\n",
    "\n",
    "bwa mem -t 30 -x ont2d 8-13-h3n2-90-top-seg-hits.fasta flu-8-13.2d.fastq > flu-8-13.2d.8-13-h3n2-90-top-seg-hits.sam\n",
    "\n",
    "samtools view -b -o flu-8-13.2d.8-13-h3n2-90-top-seg-hits.bam flu-8-13.2d.8-13-h3n2-90-top-seg-hits.sam\n",
    "samtools sort -o flu-8-13.2d.8-13-h3n2-90-top-seg-hits.sort.bam flu-8-13.2d.8-13-h3n2-90-top-seg-hits.bam\n",
    "samtools index flu-8-13.2d.8-13-h3n2-90-top-seg-hits.sort.bam\n",
    "\n",
    "for i in HA NA NP NS MP PA PB1 PB2; do python ~/projects/MinION-notebook/scripts/bamfile_consensus_generate.py f1.8-13-h3n2-90-top-seg-hits.sort.bam $i ; done > f1.8-13-h3n2-90-top-seg-hits.consensus.fasta\n",
    "\n",
    "for i in HA NA NP NS MP PA PB1 PB2; do python ~/projects/MinION-notebook/scripts/bamfile_consensus_generate.py flu-8-13.2d.8-13-h3n2-90-top-seg-hits.sort.bam $i ; done > flu-8-13.2d.8-13-h3n2-90-top-seg-hits.consensus.fasta\n"
   ]
  },
  {
   "cell_type": "code",
   "execution_count": 5,
   "metadata": {
    "ExecuteTime": {
     "end_time": "2016-03-31T17:15:20.230255",
     "start_time": "2016-03-31T17:15:18.848116"
    },
    "collapsed": false
   },
   "outputs": [
    {
     "name": "stdout",
     "output_type": "stream",
     "text": [
      "RefName\tRefLen\t#Variants\t#Deletions\r\n",
      "PB1 \t2341 \t13 \t20\r\n",
      "RefName\tRefLen\t#Variants\t#Deletions\r\n",
      "PB2 \t2341 \t3 \t8\r\n",
      "RefName\tRefLen\t#Variants\t#Deletions\r\n",
      "PA \t2232 \t86 \t9\r\n",
      "RefName\tRefLen\t#Variants\t#Deletions\r\n",
      "HA \t1762 \t1 \t12\r\n",
      "RefName\tRefLen\t#Variants\t#Deletions\r\n",
      "NA \t1466 \t1 \t11\r\n",
      "RefName\tRefLen\t#Variants\t#Deletions\r\n",
      "NS \t890 \t2 \t7\r\n",
      "RefName\tRefLen\t#Variants\t#Deletions\r\n",
      "NP \t1566 \t202 \t8\r\n",
      "RefName\tRefLen\t#Variants\t#Deletions\r\n",
      "MP \t1027 \t0 \t5\r\n"
     ]
    }
   ],
   "source": [
    "cd /home/alan/projects/MinION-notebook/clinical-analysis/consensus-comparison/h3n2-90\n",
    "\n",
    "for i in PB1 PB2 PA HA NA NS NP MP; do grep -A1 -h --no-group-separator $i f1.8-13-h3n2-90-top-seg-hits.consensus.fasta flu-8-13.2d.8-13-h3n2-90-top-seg-hits.consensus.fasta > temp && python ~/projects/MinION-notebook/scripts/pairwise-pid.py temp fasta; done"
   ]
  },
  {
   "cell_type": "markdown",
   "metadata": {},
   "source": [
    "### 4-5 H3N2\n",
    "\n",
    "This had a very low yield so I'm blasting all the reads just to see what happens."
   ]
  },
  {
   "cell_type": "markdown",
   "metadata": {},
   "source": [
    "#### All 4-5 Reads"
   ]
  },
  {
   "cell_type": "code",
   "execution_count": null,
   "metadata": {
    "collapsed": true
   },
   "outputs": [],
   "source": [
    "cd /home/alan/projects/MinION-notebook/minion-blast/4-5\n",
    "\n",
    "blastn \\\n",
    "-db ~/projects/MinION-notebook/clinical-analysis/fludb/all-H1N1-H3N2-FluB-full-segs.fasta \\\n",
    "-query flu-4-5.fasta \\\n",
    "-out flu-4-5.fludb.xml \\\n",
    "-outfmt 5 \\\n",
    "-num_threads 40 \\\n",
    "-max_target_seqs 1 \\\n",
    "-culling_limit 2 \\\n",
    "-evalue 0.00005"
   ]
  },
  {
   "cell_type": "markdown",
   "metadata": {},
   "source": [
    "Tim generated a consensus sequence from the MiSeq data that was mapped to a random H3N2 sequence from the same year and location as this sample (NY 2015). I'm going to align all of the reads since the yield was low."
   ]
  },
  {
   "cell_type": "code",
   "execution_count": null,
   "metadata": {
    "collapsed": true
   },
   "outputs": [],
   "source": [
    "cd /home/alan/projects/MinION-notebook/clinical-analysis/minion/4-5\n",
    "\n",
    "ln -s ../../miseq/4-5/A39_consensus.fa\n",
    "\n",
    "bwa mem -x ont2d -t 30 A39_consensus.fa flu-4-5.fastq > flu-4-5.sam\n",
    "\n",
    "samtools view -o flu-4-5.bam -b flu-4-5.sam\n",
    "samtools sort -o flu-4-5.sort.bam flu-4-5.bam\n",
    "samtools index flu-4-5.sort.bam\n",
    "\n",
    "rm *sam flu-4-5.bam\n",
    "\n",
    "for i in HA NA NP NS MP PA PB1 PB2; do python ~/projects/MinION-notebook/scripts/bamfile_consensus_generate.py \\\n",
    "flu-4-5.sort.bam $i ; done > flu-4-5.miseq-consensus.consensus.fasta"
   ]
  },
  {
   "cell_type": "code",
   "execution_count": 3,
   "metadata": {
    "ExecuteTime": {
     "end_time": "2016-04-07T14:57:31.132013",
     "start_time": "2016-04-07T14:57:30.720433"
    },
    "collapsed": false
   },
   "outputs": [
    {
     "name": "stdout",
     "output_type": "stream",
     "text": [
      "HA\t1701\t63\t0\r\n",
      "MP\t982\t191\t0\r\n",
      "NA\t1410\t33\t0\r\n",
      "NP\t1497\t36\t0\r\n",
      "NS\t838\t21\t0\r\n",
      "PA\t2151\t27\t0\r\n",
      "PB1\t2274\t30\t0\r\n",
      "PB2\t2280\t8\t0\r\n",
      "*\t0\t0\t10\r\n"
     ]
    }
   ],
   "source": [
    "cd /home/alan/projects/MinION-notebook/clinical-analysis/minion/4-5\n",
    "\n",
    "samtools idxstats flu-4-5.sort.bam"
   ]
  },
  {
   "cell_type": "code",
   "execution_count": 4,
   "metadata": {
    "ExecuteTime": {
     "end_time": "2016-04-07T14:58:14.093587",
     "start_time": "2016-04-07T14:58:12.524384"
    },
    "collapsed": false
   },
   "outputs": [
    {
     "name": "stdout",
     "output_type": "stream",
     "text": [
      "RefName\tRefLen\t#Variants\t#Deletions\r\n",
      "PB1 \t2274 \t6 \t27\r\n",
      "RefName\tRefLen\t#Variants\t#Deletions\r\n",
      "PB2 \t2280 \t18 \t53\r\n",
      "RefName\tRefLen\t#Variants\t#Deletions\r\n",
      "PA \t2151 \t1 \t23\r\n",
      "RefName\tRefLen\t#Variants\t#Deletions\r\n",
      "HA \t1701 \t0 \t7\r\n",
      "RefName\tRefLen\t#Variants\t#Deletions\r\n",
      "NA \t1410 \t0 \t8\r\n",
      "RefName\tRefLen\t#Variants\t#Deletions\r\n",
      "NS \t838 \t0 \t8\r\n",
      "RefName\tRefLen\t#Variants\t#Deletions\r\n",
      "NP \t1497 \t0 \t6\r\n",
      "RefName\tRefLen\t#Variants\t#Deletions\r\n",
      "MP \t982 \t0 \t3\r\n"
     ]
    }
   ],
   "source": [
    "cd /home/alan/projects/MinION-notebook/clinical-analysis/minion/4-5\n",
    "\n",
    "for i in PB1 PB2 PA HA NA NS NP MP; do grep -A1 -h --no-group-separator $i A39_consensus.fa \\\n",
    "flu-4-5.miseq-consensus.consensus.fasta > temp && \\\n",
    "python ~/projects/MinION-notebook/scripts/pairwise-pid.py temp fasta; done"
   ]
  },
  {
   "cell_type": "markdown",
   "metadata": {},
   "source": [
    "This was way better than I was expecting. Maybe not focusing on the 2D reads is where we should go next? I'm going to try all the variations of the 'pass' reads to see how the consensus sequences look."
   ]
  },
  {
   "cell_type": "markdown",
   "metadata": {},
   "source": [
    "#### HQ 2D reads only\n",
    "\n",
    "There are only 11 of these bad boys, so hopefully that can make some magic happen."
   ]
  },
  {
   "cell_type": "code",
   "execution_count": null,
   "metadata": {
    "ExecuteTime": {
     "end_time": "2016-04-07T15:52:38.116373",
     "start_time": "2016-04-07T15:52:36.186156"
    },
    "collapsed": false
   },
   "outputs": [],
   "source": [
    "cd /home/alan/projects/MinION-notebook/clinical-analysis/minion/4-5\n",
    "\n",
    "bwa mem -x ont2d -t 30 A39_consensus.fa flu-4-5.hq.2d.fastq > flu-4-5.hq.2d.sam\n",
    "\n",
    "samtools view -o flu-4-5.hq.2d.bam -b flu-4-5.hq.2d.sam\n",
    "samtools sort -o flu-4-5.hq.2d.sort.bam flu-4-5.hq.2d.bam\n",
    "samtools index flu-4-5.hq.2d.sort.bam\n",
    "\n",
    "rm *sam flu-4-5.hq.2d.bam\n",
    "\n",
    "for i in HA NA NP NS MP PA PB1 PB2; do python ~/projects/MinION-notebook/scripts/bamfile_consensus_generate.py \\\n",
    "flu-4-5.hq.2d.sort.bam $i ; done > flu-4-5.hq.2d.miseq-consensus.consensus.fasta"
   ]
  },
  {
   "cell_type": "code",
   "execution_count": 6,
   "metadata": {
    "ExecuteTime": {
     "end_time": "2016-04-07T15:53:09.169363",
     "start_time": "2016-04-07T15:53:08.758691"
    },
    "collapsed": false
   },
   "outputs": [
    {
     "name": "stdout",
     "output_type": "stream",
     "text": [
      "HA\t1701\t2\t0\r\n",
      "MP\t982\t6\t0\r\n",
      "NA\t1410\t0\t0\r\n",
      "NP\t1497\t2\t0\r\n",
      "NS\t838\t0\t0\r\n",
      "PA\t2151\t0\t0\r\n",
      "PB1\t2274\t1\t0\r\n",
      "PB2\t2280\t0\t0\r\n",
      "*\t0\t0\t0\r\n"
     ]
    }
   ],
   "source": [
    "cd /home/alan/projects/MinION-notebook/clinical-analysis/minion/4-5\n",
    "\n",
    "samtools idxstats flu-4-5.hq.2d.sort.bam"
   ]
  },
  {
   "cell_type": "code",
   "execution_count": null,
   "metadata": {
    "ExecuteTime": {
     "end_time": "2016-04-07T16:06:16.352320",
     "start_time": "2016-04-07T16:06:14.776194"
    },
    "collapsed": false,
    "scrolled": true
   },
   "outputs": [],
   "source": [
    "cd /home/alan/projects/MinION-notebook/clinical-analysis/minion/4-5\n",
    "\n",
    "for i in PB1 PB2 PA HA NA NS NP MP; do grep -A1 -h --no-group-separator $i A39_consensus.fa \\\n",
    "flu-4-5.hq.2d.miseq-consensus.consensus.fasta > temp && \\\n",
    "python ~/projects/MinION-notebook/scripts/pairwise-pid.py temp fasta; done"
   ]
  },
  {
   "cell_type": "markdown",
   "metadata": {},
   "source": [
    "So the HQ 2D reads aren't the driving force here. By looking at the number of variants for the few reads that did map it doesn't seem like these are the accurate ones. "
   ]
  },
  {
   "cell_type": "markdown",
   "metadata": {},
   "source": [
    "#### All 2D reads"
   ]
  },
  {
   "cell_type": "code",
   "execution_count": null,
   "metadata": {
    "collapsed": true
   },
   "outputs": [],
   "source": [
    "cd /home/alan/projects/MinION-notebook/clinical-analysis/minion/4-5\n",
    "\n",
    "bwa mem -x ont2d -t 30 A39_consensus.fa flu-4-5.2d.fastq > flu-4-5.2d.sam\n",
    "\n",
    "samtools view -o flu-4-5.2d.bam -b flu-4-5.2d.sam\n",
    "samtools sort -o flu-4-5.2d.sort.bam flu-4-5.2d.bam\n",
    "samtools index flu-4-5.2d.sort.bam\n",
    "\n",
    "rm *sam flu-4-5.2d.bam\n",
    "\n",
    "for i in HA NA NP NS MP PA PB1 PB2; do python ~/projects/MinION-notebook/scripts/bamfile_consensus_generate.py \\\n",
    "flu-4-5.2d.sort.bam $i ; done > flu-4-5.2d.miseq-consensus.consensus.fasta"
   ]
  },
  {
   "cell_type": "code",
   "execution_count": 8,
   "metadata": {
    "ExecuteTime": {
     "end_time": "2016-04-07T16:10:28.520248",
     "start_time": "2016-04-07T16:10:28.109767"
    },
    "collapsed": false
   },
   "outputs": [
    {
     "name": "stdout",
     "output_type": "stream",
     "text": [
      "HA\t1701\t21\t0\r\n",
      "MP\t982\t65\t0\r\n",
      "NA\t1410\t11\t0\r\n",
      "NP\t1497\t12\t0\r\n",
      "NS\t838\t8\t0\r\n",
      "PA\t2151\t9\t0\r\n",
      "PB1\t2274\t10\t0\r\n",
      "PB2\t2280\t3\t0\r\n",
      "*\t0\t0\t0\r\n"
     ]
    }
   ],
   "source": [
    "cd /home/alan/projects/MinION-notebook/clinical-analysis/minion/4-5\n",
    "\n",
    "samtools idxstats flu-4-5.2d.sort.bam"
   ]
  },
  {
   "cell_type": "code",
   "execution_count": 9,
   "metadata": {
    "ExecuteTime": {
     "end_time": "2016-04-07T16:10:32.600844",
     "start_time": "2016-04-07T16:10:31.037642"
    },
    "collapsed": false,
    "scrolled": true
   },
   "outputs": [
    {
     "name": "stdout",
     "output_type": "stream",
     "text": [
      "RefName\tRefLen\t#Variants\t#Deletions\r\n",
      "PB1 \t2274 \t16 \t31\r\n",
      "RefName\tRefLen\t#Variants\t#Deletions\r\n",
      "PB2 \t2280 \t70 \t50\r\n",
      "RefName\tRefLen\t#Variants\t#Deletions\r\n",
      "PA \t2151 \t7 \t25\r\n",
      "RefName\tRefLen\t#Variants\t#Deletions\r\n",
      "HA \t1701 \t0 \t10\r\n",
      "RefName\tRefLen\t#Variants\t#Deletions\r\n",
      "NA \t1410 \t1 \t8\r\n",
      "RefName\tRefLen\t#Variants\t#Deletions\r\n",
      "NS \t838 \t1 \t7\r\n",
      "RefName\tRefLen\t#Variants\t#Deletions\r\n",
      "NP \t1497 \t2 \t8\r\n",
      "RefName\tRefLen\t#Variants\t#Deletions\r\n",
      "MP \t982 \t0 \t3\r\n"
     ]
    }
   ],
   "source": [
    "cd /home/alan/projects/MinION-notebook/clinical-analysis/minion/4-5\n",
    "\n",
    "for i in PB1 PB2 PA HA NA NS NP MP; do grep -A1 -h --no-group-separator $i A39_consensus.fa \\\n",
    "flu-4-5.2d.miseq-consensus.consensus.fasta > temp && \\\n",
    "python ~/projects/MinION-notebook/scripts/pairwise-pid.py temp fasta; done"
   ]
  },
  {
   "cell_type": "markdown",
   "metadata": {},
   "source": [
    "#### All HQ reads"
   ]
  },
  {
   "cell_type": "code",
   "execution_count": null,
   "metadata": {
    "ExecuteTime": {
     "end_time": "2016-04-07T16:24:57.459606",
     "start_time": "2016-04-07T16:24:55.568152"
    },
    "collapsed": true
   },
   "outputs": [],
   "source": [
    "cd /home/alan/projects/MinION-notebook/clinical-analysis/minion/4-5\n",
    "\n",
    "bwa mem -x ont2d -t 30 A39_consensus.fa flu-4-5.hq.fastq > flu-4-5.hq.sam\n",
    "\n",
    "samtools view -o flu-4-5.hq.bam -b flu-4-5.hq.sam\n",
    "samtools sort -o flu-4-5.hq.sort.bam flu-4-5.hq.bam\n",
    "samtools index flu-4-5.hq.sort.bam\n",
    "\n",
    "rm *sam flu-4-5.hq.bam\n",
    "\n",
    "for i in HA NA NP NS MP PA PB1 PB2; do python ~/projects/MinION-notebook/scripts/bamfile_consensus_generate.py \\\n",
    "flu-4-5.hq.sort.bam $i ; done > flu-4-5.hq.miseq-consensus.consensus.fasta"
   ]
  },
  {
   "cell_type": "code",
   "execution_count": 12,
   "metadata": {
    "ExecuteTime": {
     "end_time": "2016-04-07T16:25:43.569431",
     "start_time": "2016-04-07T16:25:43.158936"
    },
    "collapsed": false
   },
   "outputs": [
    {
     "name": "stdout",
     "output_type": "stream",
     "text": [
      "HA\t1701\t7\t0\r\n",
      "MP\t982\t18\t0\r\n",
      "NA\t1410\t0\t0\r\n",
      "NP\t1497\t6\t0\r\n",
      "NS\t838\t0\t0\r\n",
      "PA\t2151\t0\t0\r\n",
      "PB1\t2274\t3\t0\r\n",
      "PB2\t2280\t0\t0\r\n",
      "*\t0\t0\t0\r\n"
     ]
    }
   ],
   "source": [
    "cd /home/alan/projects/MinION-notebook/clinical-analysis/minion/4-5\n",
    "\n",
    "samtools idxstats flu-4-5.hq.sort.bam"
   ]
  },
  {
   "cell_type": "code",
   "execution_count": null,
   "metadata": {
    "ExecuteTime": {
     "end_time": "2016-04-07T16:25:47.857048",
     "start_time": "2016-04-07T16:25:46.282809"
    },
    "collapsed": false,
    "scrolled": false
   },
   "outputs": [],
   "source": [
    "cd /home/alan/projects/MinION-notebook/clinical-analysis/minion/4-5\n",
    "\n",
    "for i in PB1 PB2 PA HA NA NS NP MP; do grep -A1 -h --no-group-separator $i A39_consensus.fa \\\n",
    "flu-4-5.hq.miseq-consensus.consensus.fasta > temp && \\\n",
    "python ~/projects/MinION-notebook/scripts/pairwise-pid.py temp fasta; done"
   ]
  },
  {
   "cell_type": "markdown",
   "metadata": {},
   "source": [
    "#### All forward reads"
   ]
  },
  {
   "cell_type": "code",
   "execution_count": null,
   "metadata": {
    "ExecuteTime": {
     "end_time": "2016-04-07T16:24:57.459606",
     "start_time": "2016-04-07T16:24:55.568152"
    },
    "collapsed": false
   },
   "outputs": [],
   "source": [
    "cd /home/alan/projects/MinION-notebook/clinical-analysis/minion/4-5\n",
    "\n",
    "bwa mem -x ont2d -t 30 A39_consensus.fa flu-4-5.fwd.fastq > flu-4-5.fwd.sam\n",
    "\n",
    "samtools view -o flu-4-5.fwd.bam -b flu-4-5.fwd.sam\n",
    "samtools sort -o flu-4-5.fwd.sort.bam flu-4-5.fwd.bam\n",
    "samtools index flu-4-5.fwd.sort.bam\n",
    "\n",
    "rm *sam flu-4-5.fwd.bam\n",
    "\n",
    "for i in HA NA NP NS MP PA PB1 PB2; do python ~/projects/MinION-notebook/scripts/bamfile_consensus_generate.py \\\n",
    "flu-4-5.fwd.sort.bam $i ; done > flu-4-5.fwd.miseq-consensus.consensus.fasta"
   ]
  },
  {
   "cell_type": "code",
   "execution_count": 17,
   "metadata": {
    "ExecuteTime": {
     "end_time": "2016-04-07T16:25:43.569431",
     "start_time": "2016-04-07T16:25:43.158936"
    },
    "collapsed": false
   },
   "outputs": [
    {
     "name": "stdout",
     "output_type": "stream",
     "text": [
      "HA\t1701\t20\t0\r\n",
      "MP\t982\t63\t0\r\n",
      "NA\t1410\t11\t0\r\n",
      "NP\t1497\t12\t0\r\n",
      "NS\t838\t6\t0\r\n",
      "PA\t2151\t9\t0\r\n",
      "PB1\t2274\t10\t0\r\n",
      "PB2\t2280\t2\t0\r\n",
      "*\t0\t0\t7\r\n"
     ]
    }
   ],
   "source": [
    "cd /home/alan/projects/MinION-notebook/clinical-analysis/minion/4-5\n",
    "\n",
    "samtools idxstats flu-4-5.fwd.sort.bam"
   ]
  },
  {
   "cell_type": "code",
   "execution_count": null,
   "metadata": {
    "ExecuteTime": {
     "end_time": "2016-04-07T16:25:47.857048",
     "start_time": "2016-04-07T16:25:46.282809"
    },
    "collapsed": false,
    "scrolled": true
   },
   "outputs": [],
   "source": [
    "cd /home/alan/projects/MinION-notebook/clinical-analysis/minion/4-5\n",
    "\n",
    "for i in PB1 PB2 PA HA NA NS NP MP; do grep -A1 -h --no-group-separator $i A39_consensus.fa \\\n",
    "flu-4-5.fwd.miseq-consensus.consensus.fasta > temp && \\\n",
    "python ~/projects/MinION-notebook/scripts/pairwise-pid.py temp fasta; done"
   ]
  },
  {
   "cell_type": "markdown",
   "metadata": {},
   "source": [
    "#### All HQ forward reads"
   ]
  },
  {
   "cell_type": "code",
   "execution_count": null,
   "metadata": {
    "ExecuteTime": {
     "end_time": "2016-04-07T16:24:57.459606",
     "start_time": "2016-04-07T16:24:55.568152"
    },
    "collapsed": false
   },
   "outputs": [],
   "source": [
    "cd /home/alan/projects/MinION-notebook/clinical-analysis/minion/4-5\n",
    "\n",
    "bwa mem -x ont2d -t 30 A39_consensus.fa flu-4-5.hq.fwd.fastq > flu-4-5.hq.fwd.sam\n",
    "\n",
    "samtools view -o flu-4-5.hq.fwd.bam -b flu-4-5.hq.fwd.sam\n",
    "samtools sort -o flu-4-5.hq.fwd.sort.bam flu-4-5.hq.fwd.bam\n",
    "samtools index flu-4-5.hq.fwd.sort.bam\n",
    "\n",
    "rm *sam flu-4-5.hq.fwd.bam\n",
    "\n",
    "for i in HA NA NP NS MP PA PB1 PB2; do python ~/projects/MinION-notebook/scripts/bamfile_consensus_generate.py \\\n",
    "flu-4-5.hq.fwd.sort.bam $i ; done > flu-4-5.hq.fwd.miseq-consensus.consensus.fasta"
   ]
  },
  {
   "cell_type": "code",
   "execution_count": 21,
   "metadata": {
    "ExecuteTime": {
     "end_time": "2016-04-07T16:43:28.497808",
     "start_time": "2016-04-07T16:43:28.087399"
    },
    "collapsed": false
   },
   "outputs": [
    {
     "name": "stdout",
     "output_type": "stream",
     "text": [
      "HA\t1701\t2\t0\r\n",
      "MP\t982\t6\t0\r\n",
      "NA\t1410\t0\t0\r\n",
      "NP\t1497\t2\t0\r\n",
      "NS\t838\t0\t0\r\n",
      "PA\t2151\t0\t0\r\n",
      "PB1\t2274\t1\t0\r\n",
      "PB2\t2280\t0\t0\r\n",
      "*\t0\t0\t0\r\n"
     ]
    }
   ],
   "source": [
    "cd /home/alan/projects/MinION-notebook/clinical-analysis/minion/4-5\n",
    "\n",
    "samtools idxstats flu-4-5.hq.fwd.sort.bam"
   ]
  },
  {
   "cell_type": "code",
   "execution_count": null,
   "metadata": {
    "ExecuteTime": {
     "end_time": "2016-04-07T16:43:34.355620",
     "start_time": "2016-04-07T16:43:32.821668"
    },
    "collapsed": false,
    "scrolled": true
   },
   "outputs": [],
   "source": [
    "cd /home/alan/projects/MinION-notebook/clinical-analysis/minion/4-5\n",
    "\n",
    "for i in PB1 PB2 PA HA NA NS NP MP; do grep -A1 -h --no-group-separator $i A39_consensus.fa \\\n",
    "flu-4-5.hq.fwd.miseq-consensus.consensus.fasta > temp && \\\n",
    "python ~/projects/MinION-notebook/scripts/pairwise-pid.py temp fasta; done"
   ]
  },
  {
   "cell_type": "markdown",
   "metadata": {},
   "source": [
    "#### All reverse reads"
   ]
  },
  {
   "cell_type": "code",
   "execution_count": null,
   "metadata": {
    "ExecuteTime": {
     "end_time": "2016-04-07T16:24:57.459606",
     "start_time": "2016-04-07T16:24:55.568152"
    },
    "collapsed": false
   },
   "outputs": [],
   "source": [
    "cd /home/alan/projects/MinION-notebook/clinical-analysis/minion/4-5\n",
    "\n",
    "bwa mem -x ont2d -t 30 A39_consensus.fa flu-4-5.rev.fastq > flu-4-5.rev.sam\n",
    "\n",
    "samtools view -o flu-4-5.rev.bam -b flu-4-5.rev.sam\n",
    "samtools sort -o flu-4-5.rev.sort.bam flu-4-5.rev.bam\n",
    "samtools index flu-4-5.rev.sort.bam\n",
    "\n",
    "rm *sam flu-4-5.rev.bam\n",
    "\n",
    "for i in HA NA NP NS MP PA PB1 PB2; do python ~/projects/MinION-notebook/scripts/bamfile_consensus_generate.py \\\n",
    "flu-4-5.rev.sort.bam $i ; done > flu-4-5.rev.miseq-consensus.consensus.fasta"
   ]
  },
  {
   "cell_type": "code",
   "execution_count": 19,
   "metadata": {
    "ExecuteTime": {
     "end_time": "2016-04-07T16:30:48.352175",
     "start_time": "2016-04-07T16:30:47.941152"
    },
    "collapsed": false
   },
   "outputs": [
    {
     "name": "stdout",
     "output_type": "stream",
     "text": [
      "HA\t1701\t22\t0\r\n",
      "MP\t982\t63\t0\r\n",
      "NA\t1410\t11\t0\r\n",
      "NP\t1497\t12\t0\r\n",
      "NS\t838\t7\t0\r\n",
      "PA\t2151\t9\t0\r\n",
      "PB1\t2274\t10\t0\r\n",
      "PB2\t2280\t3\t0\r\n",
      "*\t0\t0\t3\r\n"
     ]
    }
   ],
   "source": [
    "cd /home/alan/projects/MinION-notebook/clinical-analysis/minion/4-5\n",
    "\n",
    "samtools idxstats flu-4-5.rev.sort.bam"
   ]
  },
  {
   "cell_type": "code",
   "execution_count": null,
   "metadata": {
    "ExecuteTime": {
     "end_time": "2016-04-07T16:30:54.239643",
     "start_time": "2016-04-07T16:30:52.696079"
    },
    "collapsed": false,
    "scrolled": true
   },
   "outputs": [],
   "source": [
    "cd /home/alan/projects/MinION-notebook/clinical-analysis/minion/4-5\n",
    "\n",
    "for i in PB1 PB2 PA HA NA NS NP MP; do grep -A1 -h --no-group-separator $i A39_consensus.fa \\\n",
    "flu-4-5.rev.miseq-consensus.consensus.fasta > temp && \\\n",
    "python ~/projects/MinION-notebook/scripts/pairwise-pid.py temp fasta; done"
   ]
  },
  {
   "cell_type": "markdown",
   "metadata": {},
   "source": [
    "#### Alignment Results\n",
    "\n",
    "These data show that coverage really matters. As seen with the consensus comparisons above there are more variants in the longer segments (which have fewer reads). However, based on these alignments I'm not able to identify the reads that are really driving the consensus errors.\n",
    "\n",
    "![title](docs/4-5-PB2-alignment.png)\n",
    "![title](docs/4-5-PB1-alignment.png)\n",
    "![title](docs/4-5-PA-alignment.png)\n",
    "![title](docs/4-5-HA-alignment.png)\n",
    "![title](docs/4-5-NA-alignment.png)\n",
    "![title](docs/4-5-NP-alignment.png)\n",
    "![title](docs/4-5-MP-alignment.png)\n",
    "![title](docs/4-5-NS-alignment.png)\n",
    "\n",
    "PA has only one variant in the consensus sequence at position 1884. \n",
    "![title](docs/4-5-PA-1883-consensus-variant.png)\n",
    "\n",
    "The 2D reads are the only ones that have the correct base at that position. \n",
    "![title](docs/4-5-PA-1884-alignment.png)\n",
    "\n",
    "The others have too many variants to look at in this manner so maybe I'll revisit this later if need be."
   ]
  }
 ],
 "metadata": {
  "kernelspec": {
   "display_name": "Bash",
   "language": "bash",
   "name": "bash"
  },
  "language_info": {
   "codemirror_mode": "shell",
   "file_extension": ".sh",
   "mimetype": "text/x-sh",
   "name": "bash"
  },
  "latex_envs": {
   "bibliofile": "biblio.bib",
   "cite_by": "apalike",
   "current_citInitial": 1,
   "eqLabelWithNumbers": true,
   "eqNumInitial": 0
  },
  "toc": {
   "toc_cell": false,
   "toc_number_sections": true,
   "toc_threshold": 6,
   "toc_window_display": false
  }
 },
 "nbformat": 4,
 "nbformat_minor": 0
}
