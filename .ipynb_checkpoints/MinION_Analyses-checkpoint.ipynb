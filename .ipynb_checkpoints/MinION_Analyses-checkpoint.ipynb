{
 "cells": [
  {
   "cell_type": "markdown",
   "metadata": {
    "level": 1,
    "toc": "true"
   },
   "source": [
    "# Table of Contents\n",
    " <p><div class=\"lev1\"><a href=\"#To-Do-List\"><span class=\"toc-item-num\">1&nbsp;&nbsp;</span>To Do List</a></div><div class=\"lev1\"><a href=\"#Raw-Data\"><span class=\"toc-item-num\">2&nbsp;&nbsp;</span>Raw Data</a></div><div class=\"lev2\"><a href=\"#MiSeq-Data\"><span class=\"toc-item-num\">2.1&nbsp;&nbsp;</span>MiSeq Data</a></div><div class=\"lev2\"><a href=\"#Ion-Torrent-Data\"><span class=\"toc-item-num\">2.2&nbsp;&nbsp;</span>Ion Torrent Data</a></div><div class=\"lev2\"><a href=\"#PacBio-Data\"><span class=\"toc-item-num\">2.3&nbsp;&nbsp;</span>PacBio Data</a></div><div class=\"lev2\"><a href=\"#MinION-Data\"><span class=\"toc-item-num\">2.4&nbsp;&nbsp;</span>MinION Data</a></div><div class=\"lev1\"><a href=\"#Quads-Analysis\"><span class=\"toc-item-num\">3&nbsp;&nbsp;</span>Quads Analysis</a></div><div class=\"lev2\"><a href=\"#Index-References\"><span class=\"toc-item-num\">3.1&nbsp;&nbsp;</span>Index References</a></div><div class=\"lev2\"><a href=\"#MiSeq-Alignment\"><span class=\"toc-item-num\">3.2&nbsp;&nbsp;</span>MiSeq Alignment</a></div><div class=\"lev3\"><a href=\"#FluB\"><span class=\"toc-item-num\">3.2.1&nbsp;&nbsp;</span>FluB</a></div><div class=\"lev4\"><a href=\"#Alignment-with-BWA\"><span class=\"toc-item-num\">3.2.1.1&nbsp;&nbsp;</span>Alignment with BWA</a></div><div class=\"lev3\"><a href=\"#Flu-Mix\"><span class=\"toc-item-num\">3.2.2&nbsp;&nbsp;</span>Flu Mix</a></div><div class=\"lev3\"><a href=\"#H1N1\"><span class=\"toc-item-num\">3.2.3&nbsp;&nbsp;</span>H1N1</a></div><div class=\"lev3\"><a href=\"#H3N2\"><span class=\"toc-item-num\">3.2.4&nbsp;&nbsp;</span>H3N2</a></div><div class=\"lev3\"><a href=\"#Plasmid\"><span class=\"toc-item-num\">3.2.5&nbsp;&nbsp;</span>Plasmid</a></div><div class=\"lev3\"><a href=\"#Generate-Consensus\"><span class=\"toc-item-num\">3.2.6&nbsp;&nbsp;</span>Generate Consensus</a></div><div class=\"lev2\"><a href=\"#Ion-Torrent-Alignment\"><span class=\"toc-item-num\">3.3&nbsp;&nbsp;</span>Ion Torrent Alignment</a></div><div class=\"lev2\"><a href=\"#PacBio-Alignment\"><span class=\"toc-item-num\">3.4&nbsp;&nbsp;</span>PacBio Alignment</a></div><div class=\"lev2\"><a href=\"#MinION-Alignment\"><span class=\"toc-item-num\">3.5&nbsp;&nbsp;</span>MinION Alignment</a></div><div class=\"lev1\"><a href=\"#Clinical-Samples\"><span class=\"toc-item-num\">4&nbsp;&nbsp;</span>Clinical Samples</a></div><div class=\"lev2\"><a href=\"#Mixed-Infection/Cross-Contamination\"><span class=\"toc-item-num\">4.1&nbsp;&nbsp;</span>Mixed Infection/Cross Contamination</a></div><div class=\"lev2\"><a href=\"#Mixed-Infection-Simulation\"><span class=\"toc-item-num\">4.2&nbsp;&nbsp;</span>Mixed Infection Simulation</a></div><div class=\"lev2\"><a href=\"#MiSeq-and-MinION-Consensus-Comparisons\"><span class=\"toc-item-num\">4.3&nbsp;&nbsp;</span>MiSeq and MinION Consensus Comparisons</a></div><div class=\"lev3\"><a href=\"#FluB\"><span class=\"toc-item-num\">4.3.1&nbsp;&nbsp;</span>FluB</a></div><div class=\"lev3\"><a href=\"#Consensus-Pairwise-Alignment\"><span class=\"toc-item-num\">4.3.2&nbsp;&nbsp;</span>Consensus Pairwise Alignment</a></div><div class=\"lev3\"><a href=\"#FluDB-Comprehension\"><span class=\"toc-item-num\">4.3.3&nbsp;&nbsp;</span>FluDB Comprehension</a></div><div class=\"lev3\"><a href=\"#Reference-Base-Masking\"><span class=\"toc-item-num\">4.3.4&nbsp;&nbsp;</span>Reference Base Masking</a></div><div class=\"lev3\"><a href=\"#H1N1\"><span class=\"toc-item-num\">4.3.5&nbsp;&nbsp;</span>H1N1</a></div><div class=\"lev3\"><a href=\"#H3N2-70\"><span class=\"toc-item-num\">4.3.6&nbsp;&nbsp;</span>H3N2-70</a></div><div class=\"lev3\"><a href=\"#H3N2-90\"><span class=\"toc-item-num\">4.3.7&nbsp;&nbsp;</span>H3N2-90</a></div><div class=\"lev3\"><a href=\"#4-5-H3N2\"><span class=\"toc-item-num\">4.3.8&nbsp;&nbsp;</span>4-5 H3N2</a></div><div class=\"lev4\"><a href=\"#All-4-5-Reads\"><span class=\"toc-item-num\">4.3.8.1&nbsp;&nbsp;</span>All 4-5 Reads</a></div><div class=\"lev4\"><a href=\"#HQ-2D-reads-only\"><span class=\"toc-item-num\">4.3.8.2&nbsp;&nbsp;</span>HQ 2D reads only</a></div><div class=\"lev4\"><a href=\"#All-2D-reads\"><span class=\"toc-item-num\">4.3.8.3&nbsp;&nbsp;</span>All 2D reads</a></div><div class=\"lev4\"><a href=\"#All-HQ-reads\"><span class=\"toc-item-num\">4.3.8.4&nbsp;&nbsp;</span>All HQ reads</a></div><div class=\"lev4\"><a href=\"#All-forward-reads\"><span class=\"toc-item-num\">4.3.8.5&nbsp;&nbsp;</span>All forward reads</a></div><div class=\"lev4\"><a href=\"#All-HQ-forward-reads\"><span class=\"toc-item-num\">4.3.8.6&nbsp;&nbsp;</span>All HQ forward reads</a></div><div class=\"lev4\"><a href=\"#All-reverse-reads\"><span class=\"toc-item-num\">4.3.8.7&nbsp;&nbsp;</span>All reverse reads</a></div><div class=\"lev4\"><a href=\"#Alignment-Results\"><span class=\"toc-item-num\">4.3.8.8&nbsp;&nbsp;</span>Alignment Results</a></div><div class=\"lev2\"><a href=\"#MinION-Blast-Results-Comparison\"><span class=\"toc-item-num\">4.4&nbsp;&nbsp;</span>MinION Blast Results Comparison</a></div><div class=\"lev2\"><a href=\"#Blast-MiSeq\"><span class=\"toc-item-num\">4.5&nbsp;&nbsp;</span>Blast MiSeq</a></div><div class=\"lev2\"><a href=\"#Canu-Assembly\"><span class=\"toc-item-num\">4.6&nbsp;&nbsp;</span>Canu Assembly</a></div><div class=\"lev3\"><a href=\"#Single-genome-assembly\"><span class=\"toc-item-num\">4.6.1&nbsp;&nbsp;</span>Single genome assembly</a></div><div class=\"lev3\"><a href=\"#Nanopolish-with-Canu\"><span class=\"toc-item-num\">4.6.2&nbsp;&nbsp;</span>Nanopolish with Canu</a></div><div class=\"lev3\"><a href=\"#Canu-Falcon-Sense-Corrected-Reads\"><span class=\"toc-item-num\">4.6.3&nbsp;&nbsp;</span>Canu Falcon Sense Corrected Reads</a></div><div class=\"lev2\"><a href=\"#NGM-LR\"><span class=\"toc-item-num\">4.7&nbsp;&nbsp;</span>NGM-LR</a></div><div class=\"lev1\"><a href=\"#Error-Correction\"><span class=\"toc-item-num\">5&nbsp;&nbsp;</span>Error Correction</a></div><div class=\"lev2\"><a href=\"#Falcon-sense\"><span class=\"toc-item-num\">5.1&nbsp;&nbsp;</span>Falcon-sense</a></div><div class=\"lev2\"><a href=\"#Nanopolish\"><span class=\"toc-item-num\">5.2&nbsp;&nbsp;</span>Nanopolish</a></div><div class=\"lev3\"><a href=\"#4-20\"><span class=\"toc-item-num\">5.2.1&nbsp;&nbsp;</span>4-20</a></div><div class=\"lev3\"><a href=\"#6-4\"><span class=\"toc-item-num\">5.2.2&nbsp;&nbsp;</span>6-4</a></div><div class=\"lev3\"><a href=\"#8-13\"><span class=\"toc-item-num\">5.2.3&nbsp;&nbsp;</span>8-13</a></div><div class=\"lev3\"><a href=\"#11-9\"><span class=\"toc-item-num\">5.2.4&nbsp;&nbsp;</span>11-9</a></div><div class=\"lev4\"><a href=\"#Blast-Consensus-Analysis\"><span class=\"toc-item-num\">5.2.4.1&nbsp;&nbsp;</span>Blast Consensus Analysis</a></div><div class=\"lev3\"><a href=\"#Ebola-Virus-Workflow\"><span class=\"toc-item-num\">5.2.5&nbsp;&nbsp;</span>Ebola Virus Workflow</a></div><div class=\"lev4\"><a href=\"#MarginAlign\"><span class=\"toc-item-num\">5.2.5.1&nbsp;&nbsp;</span>MarginAlign</a></div><div class=\"lev1\"><a href=\"#MiSeq-Assembly\"><span class=\"toc-item-num\">6&nbsp;&nbsp;</span>MiSeq Assembly</a></div><div class=\"lev1\"><a href=\"#FluB-Spades-Downsample-Assembly\"><span class=\"toc-item-num\">7&nbsp;&nbsp;</span>FluB Spades Downsample Assembly</a></div><div class=\"lev2\"><a href=\"#Spades-Downsample-Assembly-with-11-9-Blast-Hits\"><span class=\"toc-item-num\">7.1&nbsp;&nbsp;</span>Spades Downsample Assembly with 11-9 Blast Hits</a></div><div class=\"lev3\"><a href=\"#FluB\"><span class=\"toc-item-num\">7.1.1&nbsp;&nbsp;</span>FluB</a></div><div class=\"lev4\"><a href=\"#Contig-Resequecing\"><span class=\"toc-item-num\">7.1.1.1&nbsp;&nbsp;</span>Contig Resequecing</a></div><div class=\"lev3\"><a href=\"#H3N2-70\"><span class=\"toc-item-num\">7.1.2&nbsp;&nbsp;</span>H3N2-70</a></div><div class=\"lev3\"><a href=\"#H3N2-90\"><span class=\"toc-item-num\">7.1.3&nbsp;&nbsp;</span>H3N2-90</a></div><div class=\"lev3\"><a href=\"#H1N1\"><span class=\"toc-item-num\">7.1.4&nbsp;&nbsp;</span>H1N1</a></div><div class=\"lev3\"><a href=\"#H3N2-39\"><span class=\"toc-item-num\">7.1.5&nbsp;&nbsp;</span>H3N2-39</a></div><div class=\"lev2\"><a href=\"#Identify-Variantes-from-Each-Assembly\"><span class=\"toc-item-num\">7.2&nbsp;&nbsp;</span>Identify Variantes from Each Assembly</a></div><div class=\"lev2\"><a href=\"#Map-MinION-to-MiSeq-Assembly\"><span class=\"toc-item-num\">7.3&nbsp;&nbsp;</span>Map MinION to MiSeq Assembly</a></div><div class=\"lev3\"><a href=\"#FluB\"><span class=\"toc-item-num\">7.3.1&nbsp;&nbsp;</span>FluB</a></div><div class=\"lev3\"><a href=\"#H3N2-39\"><span class=\"toc-item-num\">7.3.2&nbsp;&nbsp;</span>H3N2-39</a></div><div class=\"lev3\"><a href=\"#H3N2-70\"><span class=\"toc-item-num\">7.3.3&nbsp;&nbsp;</span>H3N2-70</a></div><div class=\"lev3\"><a href=\"#H1N1\"><span class=\"toc-item-num\">7.3.4&nbsp;&nbsp;</span>H1N1</a></div>"
   ]
  },
  {
   "cell_type": "markdown",
   "metadata": {},
   "source": [
    "# To Do List"
   ]
  },
  {
   "cell_type": "markdown",
   "metadata": {},
   "source": [
    "import markdown\n",
    "html = markdown.markdown(source, extensions=['markdown_checklist.extension'])\n",
    "\n",
    "ASSEMBLY FOR  CONSENSUS\n",
    "* [ ] CANU assembler? Alan will ask Mike about what assembler to use\n",
    "* [ ] de novo assembly, mapped assembly no masking; mapped assembly with masking\n",
    "* [ ] mapped to best match reference and to assembled MiSeq reference\n",
    "\n",
    "INTRA-HOST SNV CALLING\n",
    "* [ ] mix 2 H3N2 clinical at different read count, sampled randomly (example 10:1); then compare to MiSeq for which will have done the same sampling and ratio\n",
    "\n",
    "PHASING\n",
    "* [ ] Using same mix, assess potential for phasing.\n",
    "* [ ] Use same methodology as Ebola paper (they used the squiggles)\n",
    "\n",
    "EVALUATE HOW MUCH COVERAGE NECESSARY\n",
    "* [ ] Need to do a very high depth run for only one sample (if possible)\n",
    "* [ ] Basically, want to let others know what is minimum coverage needed, hence how many flu samples can be multiplexed\n",
    "\n",
    "PLATFORM COMPARISONS\n",
    "* [ ] compare repeat region across 3 platforms\n",
    "\n",
    "\n",
    "\n",
    "* [ ] Look at the quality difference (and quantity) between the MK1 and the old kit to see if there are significant differences between them are enough to scrap the old sequencing kit data (are we behind the time?).\n",
    "* [ ] De novo assembly with MinION only? Look more into Canu and ask Mike what he recommends.\n",
    "* [ ] Mix the H3N2 MiSeq data and the MinION data together and generate a variant profile for each platform so that we can assess the phasing potential \n",
    "* [ ] Simulate the coverage at certain levels of multiplexing (how many subtypes/strains can be sequenced at once) \n",
    "* [x] Mask the discrepant position in each of the FluB references to see if the aligner can produce the correct nucleotide (the one that matches the MiSeq data).\n",
    "    * [ ] Investigate FluB PB2 to see why that isn't matching up.\n",
    "    * [ ] Look at different aligners and different parameters\n",
    "* [x] See if the MiSeq strain is actually represented in the FluDB (or at least the nt db).\n",
    "* [ ] Adjust parameters/test different algorithms to see if these errors can be resolved.\n",
    "* [ ] How to identify strain in absence of MiSeq data (contingent on former two tasks).\n",
    "* [x] Map MiSeq clinical to all the different subtypes to assess the possibilty of cross contamination\n",
    "* [x] Use the MiSeq consensus to assemble the MinION and the MinION consensus to assemble the MiSeq and see if they give different results.\n",
    "    * [x] Align all consensus sequences for FluB to see what the differences are. \n",
    "    * [ ] See if coverage is affecting the number of variants. I can compare the 11-9 run to the 6-4 and 8-13 runs and see how many variants they have \n",
    "    * [x] Merge all of the runs and look at FluB specifically to get a sense of whether more sequencing would actually help address some of our questions.\n",
    "* [x] In the Blast consensus analysis, segregate the reads into their respective subtypes and build the consensus to see if there is any cross contamination in the consensus from other subtypes in the same pool.\n",
    "    1. Map the MinION reads to the MiSeq consensus sequences to segregate by subtype and see if that is vastly different than the blast results. Generate consensus with them.\n",
    "    * [ ] Look to see if short reads are the ones being misassigned to the wrong segment (specifically FluB PB2 of the 11-9 run).\n",
    "* [ ] Mask the reference sequence with N's at discrepant positions to see if that makes the alignment more accurate.\n",
    "    1. randomly mutate the genome to assess false positive rate (like in the ebola paper)"
   ]
  },
  {
   "cell_type": "markdown",
   "metadata": {
    "level": 7
   },
   "source": [
    "# Clinical Samples"
   ]
  },
  {
   "cell_type": "markdown",
   "metadata": {},
   "source": [
    "The workflow agreed upon this far is as follows:\n",
    "\n",
    "1) Generate Flu-specific, full segment database with only unique sequences. This will cut down significantly on runtime but can possibly limit the analysis by not being comprehensive with every strain; this database will not inclued lab strains and incomplete segments.\n",
    "\n",
    "2) Obtain the top 10 hits per segment. This is alowing the possibility of mixed infections, whereas only using the top hit can bias the results.\n",
    "\n",
    "3) Map the MinION to the top 10 hits.\n",
    "\n",
    "4) Map the MiSeq to the top 10 hits.\n",
    "\n",
    "5) Generate consensus sequences for both platforms and compare the top hits. \n",
    "\n",
    "6) Cross fingers and hope that they're the same\n",
    "\n",
    "The original implementation was to just use the top hit, and it worked for most segments, though there are still problems with other segments."
   ]
  },
  {
   "cell_type": "markdown",
   "metadata": {
    "heading_collapsed": false,
    "level": 7
   },
   "source": [
    "## NGM-LR\n",
    "Aligner developed by Mike Schatz that apparently works well for MinION data.\n",
    "http://cibiv.github.io/NextGenMap/\n"
   ]
  },
  {
   "cell_type": "markdown",
   "metadata": {},
   "source": [
    "### Ebola Virus Workflow"
   ]
  },
  {
   "cell_type": "markdown",
   "metadata": {
    "collapsed": true
   },
   "source": [
    "The paper published in Nature that did \"haplotyping\" with Ebola is something that I'm going to try. They report conesnsus sequences but they don't really comment on the accuracy and their approach is quite different from ours.\n",
    "\n",
    "The paper is here: http://www.nature.com/nature/journal/v530/n7589/full/nature16996.html\n",
    "\n",
    "The github is here: https://github.com/nickloman/ebov\n",
    "\n",
    "These guys use the \"fail\" hq 2d reads but I'm going to try with just the pass 2d reads for now."
   ]
  },
  {
   "cell_type": "markdown",
   "metadata": {},
   "source": [
    "#### MarginAlign"
   ]
  },
  {
   "cell_type": "markdown",
   "metadata": {},
   "source": [
    "Here's the script that they used to align: https://github.com/nickloman/ebov/blob/master/scripts/marginalign.sh"
   ]
  },
  {
   "cell_type": "markdown",
   "metadata": {},
   "source": [
    "##### FluB PB2 from 11-9"
   ]
  },
  {
   "cell_type": "markdown",
   "metadata": {},
   "source": [
    "I'm going to work with FluB-PB2 of the 11-9 run just for starters, since it should be the highest quality data. The reference is going to be the most frequent hit from Blastn after using nanocorrect on the reads (since I already have that data. If the results are good enough then we can go forward with mutliple references and see how that works."
   ]
  },
  {
   "cell_type": "code",
   "execution_count": null,
   "metadata": {
    "collapsed": true
   },
   "outputs": [],
   "source": [
    "cd /home/alan/projects/MinION-notebook/margin-align/11-9/FluB-PB2\n",
    "\n",
    "# segment counts can be found here: flu-11-9.2d.nc.blast.seg-counts.tsv\n",
    "\n",
    "grep -A1 'CY153608' flu-11-9.2d.nc-top-FluB-PB2.fasta > top-flub-PB2-blast-hit.fasta\n",
    "\n",
    "/opt/bioinformatics-software/minion-software/margin/marginAlign \\\n",
    "flu-11-9.2d.fastq \\\n",
    "top-flub-PB2-blast-hit.fasta \\\n",
    "flu-11-9.2d.marginalign.sam \\\n",
    "--em \\\n",
    "--outputModel flu-11-9.2d.output.hmm \\\n",
    "--jobTree jobTree_align_flu-11-9.2d \\\n",
    "--maxThreads 40\n",
    "\n",
    "/opt/bioinformatics-software/minion-software/margin/marginAlign \\\n",
    "flu-11-9.2d.fastq top-flub-PB2-blast-hit.fasta \\\n",
    "flu-11-9.2d.marginalign.sam \\\n",
    "--inputModel flu-11-9.2d.output.hmm \\\n",
    "#--jobTree jobTree_align_flu-11-9.2d \\\n",
    "--maxThreads 40\n",
    "\n",
    "samtools view -o flu-11-9.2d.marginalign.bam -b flu-11-9.2d.marginalign.sam\n",
    "samtools sort -o flu-11-9.2d.marginalign.sort.bam flu-11-9.2d.marginalign.bam\n",
    "samtools index flu-11-9.2d.marginalign.sort.bam"
   ]
  },
  {
   "cell_type": "markdown",
   "metadata": {},
   "source": [
    "# MiSeq Assembly"
   ]
  },
  {
   "cell_type": "markdown",
   "metadata": {},
   "source": [
    "Since the blast analysis isn't working well, a de novo assembly is the next best thing to get an accurate representation of the in situ strain information.\n",
    "\n",
    "After talking with Mike Schatz he recommended using SPADES so I'll give that a shot."
   ]
  },
  {
   "cell_type": "code",
   "execution_count": null,
   "metadata": {
    "collapsed": true
   },
   "outputs": [],
   "source": [
    "cd /data1/share/scratch/miseq-assembly/flub\n",
    "\n",
    "spades.py --threads 40 --mem 110 --threads 20 -1 f3.r1.fastq -2 f3.r2.fastq -o f3-spades\n",
    "#spades.py --threads 40 --mem 110 --threads 20 -1 f3.r1.fastq -2 f3.r2.fastq --meta -o f3-spades"
   ]
  },
  {
   "cell_type": "markdown",
   "metadata": {},
   "source": [
    "LOL so this produced 4996 contigs and the longest contig was complete nonsense. Looks like some normalization needs to take place. \n",
    "\n",
    "The workflow that Mike implemented (with good results) is as follows:\n",
    "\n",
    "Isolate the PB2 segment alignments:\n",
    "$ samtools view -h miseq-minion.bam H3N2-PB2 | samtools view -Sb - -o pb2.bam\n",
    "\n",
    "Compute average coverage:\n",
    "$ samtools depth pb2.bam | awk '{s+=$3;c++} END{print s/c}'\n",
    "7760.49\n",
    "\n",
    "Downsample to keep 0.7% of the pairs (about 100x coverage)\n",
    "$ samtools view -hs .007 pb2.bam | samtools view -Sb - -o pb2.100x.bam\n",
    "\n",
    "Check the coverage (99.06x):\n",
    "$ samtools depth pb2.100x.bam | awk '{s+=$3;c++} END{print s/c}'\n",
    "99.0674\n",
    "\n",
    "Convert to fastq:\n",
    "$ bamtools convert -in pb2.100x.bam -format fastq > pb2.100x.fastq\n",
    "\n",
    "Assemble with spades (this could have just been k=21):\n",
    "$ ~/build/packages/SPAdes-3.7.1-Linux/bin/spades.py -s pb2.100x.fastq -o spades\n",
    "\n",
    "Align the K21 contigs to the references:\n",
    "$ nucmer -maxmatch all-flu.complete.fasta spades/K21/final_contigs.fasta\n",
    "\n",
    "Check the alignments:\n",
    "$ show-coords out.delta\n",
    "/home/mschatz/flu/all-flu.complete.fasta /home/mschatz/flu/pb2/spades/K21/final_contigs.fasta\n",
    "NUCMER\n",
    "\n",
    "    [S1]     [E1]  |     [S2]     [E2]  |  [LEN 1]  [LEN 2]  |  [% IDY]  | [TAGS]\n",
    "=====================================================================================\n",
    "       1     2284  |       52     2335  |     2284     2284  |   100.00  | H3N2-PB2     NODE_2_length_2398_cov_89.1927\n",
    "       1     2341  |       28     2368  |     2341     2341  |    84.11  | H1N1-PB2     NODE_2_length_2398_cov_89.1927\n",
    "\n",
    "I then checked the other short contig using the EBI vector screening tools:\n",
    "http://www.ebi.ac.uk/Tools/sss/ncbiblast/vectors.html"
   ]
  },
  {
   "cell_type": "markdown",
   "metadata": {},
   "source": [
    "# FluB Spades Downsample Assembly"
   ]
  },
  {
   "cell_type": "code",
   "execution_count": null,
   "metadata": {
    "collapsed": true
   },
   "outputs": [],
   "source": [
    "cd /home/alan/projects/MinION-notebook/miseq-assembly/flub/spades\n",
    "\n",
    "# we should be able to use the quads references since we're just trying to partition the reads based on segment\n",
    "ln -s ~/projects/MinION-notebook/clinical-analysis/miseq/flub/flub.quads-references.sort.bam\n",
    "ln -s ~/projects/MinION-notebook/clinical-analysis/miseq/flub/flub.quads-references.sort.bam.bai\n",
    "\n",
    "# separate reads by segment\n",
    "for i in HA NA NP PA NS MP PB1 PB2; do samtools view -h flub.quads-references.sort.bam $i \\\n",
    "| samtools view -Sb - -o $i.bam; done\n",
    "\n",
    "# calculate avg cov\n",
    "for i in HA NA NP PA NS MP PB1 PB2; do echo -ne $i'\\t' && samtools depth $i.bam | awk '{s+=$3;c++} END{print s/c}'; done"
   ]
  },
  {
   "cell_type": "markdown",
   "metadata": {},
   "source": [
    "Segment | Avg Cov | % to keep\n",
    "------- | ------- | ---------\n",
    "HA | 4591.07 | 45.9107\n",
    "NA | 7268.27 | 72.6827\n",
    "NP | 1364.96 | 13.6496\n",
    "PA | 7768.4 | 77.684\n",
    "NS | 7711.55 | 77.1155\n",
    "MP | 7419.86 | 74.1986\n",
    "PB1 | 6508.11 | 65.0811\n",
    "PB2 | 6856.19 | 68.5619"
   ]
  },
  {
   "cell_type": "code",
   "execution_count": 18,
   "metadata": {
    "ExecuteTime": {
     "end_time": "2016-04-14T14:28:35.096210",
     "start_time": "2016-04-14T14:28:29.549029"
    },
    "collapsed": false
   },
   "outputs": [
    {
     "name": "stdout",
     "output_type": "stream",
     "text": [
      "HA\t114.77\r\n",
      "NA\t94.5931\r\n",
      "NP\t110.015\r\n",
      "PA\t114.514\r\n",
      "NS\t104.313\r\n",
      "MP\t98.0843\r\n",
      "PB1\t98.4909\r\n",
      "PB2\t106.83\r\n"
     ]
    }
   ],
   "source": [
    "cd /home/alan/projects/MinION-notebook/miseq-assembly/flub/spades\n",
    "\n",
    "samtools view -hs .007 PB2.bam | samtools view -sB - -o PB2.100x.bam\n",
    "samtools view -hs .007 PB1.bam | samtools view -sB - -o PB1.100x.bam\n",
    "samtools view -hs .004 HA.bam | samtools view -sB - -o HA.100x.bam\n",
    "samtools view -hs .003 NA.bam | samtools view -sB - -o NA.100x.bam\n",
    "samtools view -hs .08 NP.bam | samtools view -sB - -o NP.100x.bam\n",
    "samtools view -hs .003 MP.bam | samtools view -sB - -o MP.100x.bam\n",
    "samtools view -hs .005 PA.bam | samtools view -sB - -o PA.100x.bam\n",
    "samtools view -hs .005 NS.bam | samtools view -sB - -o NS.100x.bam\n",
    "\n",
    "for i in HA NA NP PA NS MP PB1 PB2; do echo -ne $i'\\t' && samtools depth $i.100x.bam | awk '{s+=$3;c++} END{print s/c}'; done\n",
    "\n",
    "for i in HA NA NP NS MP PB1 PB2 PA; do bamtools convert -in $i.100x.bam -format fastq > $i.100x.fastq; done "
   ]
  },
  {
   "cell_type": "code",
   "execution_count": null,
   "metadata": {
    "ExecuteTime": {
     "start_time": "2016-04-14T18:18:34.762Z"
    },
    "collapsed": false
   },
   "outputs": [],
   "source": [
    "cd /home/alan/projects/MinION-notebook/miseq-assembly/flub/spades \n",
    "\n",
    "for i in HA NA NP NS MP PB1 PB2 PA; do \\\n",
    "/opt/bioinformatics-software/SPAdes-3.7.1-Linux/bin/spades.py -s $i.100x.fastq -o $i-spades; done"
   ]
  },
  {
   "cell_type": "code",
   "execution_count": null,
   "metadata": {
    "collapsed": true
   },
   "outputs": [],
   "source": [
    "cd /home/alan/projects/MinION-notebook/miseq-assembly/flub/spades \n",
    "\n",
    "grep -c '>' */scaffolds.fasta\n",
    "\n",
    "for i in HA NA NP PA NS MP PB1 PB2; do nucmer -maxmatch -p $i quads-study-reference-sequence.fasta \\\n",
    "$i-spades/scaffolds.fasta ; done"
   ]
  },
  {
   "cell_type": "code",
   "execution_count": null,
   "metadata": {
    "ExecuteTime": {
     "end_time": "2016-04-14T15:16:36.824064",
     "start_time": "2016-04-14T15:16:36.385405"
    },
    "collapsed": false
   },
   "outputs": [],
   "source": [
    "cd /home/alan/projects/MinION-notebook/miseq-assembly/flub/spades \n",
    "\n",
    "for i in HA NA NP PA NS MP PB1 PB2; do show-coords -cl $i.delta; done | grep -vP '/|NUCMER'"
   ]
  },
  {
   "cell_type": "markdown",
   "metadata": {},
   "source": [
    "S1 | E1 | S2 | E2 | LEN 1 | LEN 2 | % IDY | LEN R | LEN Q | COV R | COV Q | TAGS\n",
    "---|----|----|----|-------|-------|-------|-------|-------|-------|-------|-----\n",
    "1 | 1758 | 1970 | 216 | 1758 | 1755 | 89.08 | 1758 | 2193 | 100.00 | 80.03 | FluB-HA NODE_1_length_2193_cov_74.5484_ID_3\n",
    "1 | 1401 | 1748 | 348 | 1401 | 1401 | 94.22 | 1401 | 1931 | 100.00 | 72.55 | FluB-NA NODE_1_length_1931_cov_52.219_ID_3\n",
    "1 | 1683 | 213 | 1895 | 1683 | 1683 | 98.99 | 1683 | 2271 | 100.00 | 74.11 | FluB-NP NODE_1_length_2271_cov_53.1926_ID_7\n",
    "203 | 296 | 207 | 300 | 94 | 94 | 100.00 | 1683 | 501 | 5.59 | 18.76 | FluB-NP NODE_2_length_501_cov_0.925134_ID_9\n",
    "1 | 2181 | 2392 | 212 | 2181 | 2181 | 96.52 | 2181 | 2696 | 100.00 | 80.90 | FluB-PA NODE_1_length_2696_cov_56.6069_ID_3\n",
    "11 | 1027 | 280 | 1296 | 1017 | 1017 | 97.64 | 1027 | 1559 | 99.03 | 65.23 | FluB-NS NODE_1_length_1559_cov_46.3457_ID_3\n",
    "1 | 1076 | 187 | 1262 | 1076 | 1076 | 95.26 | 1076 | 1510 | 100.00 | 71.26 | FluB-MP NODE_1_length_1510_cov_51.0195_ID_3\n",
    "1 | 2259 | 2463 | 205 | 2259 | 2259 | 92.87 | 2259 | 2665 | 100.00 | 84.77 | FluB-PB1 NODE_1_length_2665_cov_52.4622_ID_35\n",
    "2134 | 2259 | 127 | 2 | 126 | 126 | 95.24 | 2259 | 253 | 5.58 | 49.80 | FluB-PB1 NODE_2_length_253_cov_217.238_ID_49\n",
    "1 | 2313 | 2521 | 209 | 2313 | 2313 | 93.13 | 2313 | 2690 | 100.00 | 85.99 | FluB-PB2 NODE_1_length_2690_cov_62.9645_ID_37\n",
    "197 | 343 | 300 | 160 | 147 | 141 | 93.20 | 2313 | 436 | 6.36 | 32.34 | FluB-PB2 NODE_2_length_436_cov_1.11974_ID_43\n",
    "2032 | 2157 | 127 | 2 | 126 | 126 | 93.65 | 2313 | 254 | 5.45 | 49.61 | FluB-PB2 NODE_3_length_254_cov_41.1969_ID_53\n",
    "\n",
    "These are pretty damn close to the quads study references! But these are the CDS.. wish I would've thought about that before. But at least this is proof of concept that it can work well for even structural differences. I'll wrap this up in a shell script and then use the blast references to see what comes of the full segments."
   ]
  },
  {
   "cell_type": "markdown",
   "metadata": {},
   "source": [
    "## Spades Downsample Assembly with 11-9 Blast Hits\n",
    "\n",
    "These steps were executed on my laptop so no paths are provided."
   ]
  },
  {
   "cell_type": "markdown",
   "metadata": {},
   "source": [
    "### FluB\n",
    "\n",
    "Prior to doing anyhting else, in an effort to clean the smaller contigs that were produced via the assembly step above, the data were trimmed of their adaptors using Trimmomatic."
   ]
  },
  {
   "cell_type": "code",
   "execution_count": null,
   "metadata": {
    "collapsed": true
   },
   "outputs": [],
   "source": [
    "trimmomatic PE -threads 6 flub.r1.fastq.gz flub.r2.fastq.gz flub.trimmed.r1.fastq flub.trimmed.se.r1.fastq \\\n",
    "flub.trimmed.r2.fastq flub.trimmed.se.r2.fastq ILLUMINACLIP:/usr/local/share/trimmomatic/adapters/TruSeq3-PE-2.fa:2:30:10 \\\n",
    "LEADING:3 TRAILING:3 SLIDINGWINDOW:4:15 MINLEN:25"
   ]
  },
  {
   "cell_type": "markdown",
   "metadata": {},
   "source": [
    "The MinION 11-9 blast hits were used to segregate the MiSeq reads into their segments using bwa mem."
   ]
  },
  {
   "cell_type": "code",
   "execution_count": null,
   "metadata": {
    "collapsed": true
   },
   "outputs": [],
   "source": [
    "bwa mem -t 6 -x intractg 11-9-top-seg-hits.fasta flub.trimmed.r1.fastq flub.trimmed.r2.fastq > fluB.11-9-top-seg-hits.sam"
   ]
  },
  {
   "cell_type": "markdown",
   "metadata": {},
   "source": [
    "The pipeline was then implemented in pyhton and executed as follows"
   ]
  },
  {
   "cell_type": "code",
   "execution_count": null,
   "metadata": {
    "collapsed": true
   },
   "outputs": [],
   "source": [
    "python downsampleAssembler.py -r 11-9-top-seg-hits.fasta -b fluB.11-9-top-seg-hits.sort.bam\n",
    "\n",
    "cat *spades-out/contigs.fasta > fluB.11-9-top-seg-hits.contigs.fasta\n",
    "\n",
    "nucmer --maxmatch 11-9-top-seg-hits.fasta fluB.11-9-top-seg-hits.contigs.fasta\n",
    "\n",
    "show-coords -cl out.delta"
   ]
  },
  {
   "cell_type": "markdown",
   "metadata": {},
   "source": [
    "S1 | E1 | S2 | E2 | LEN 1 | LEN 2 | % IDY | LEN R | LEN Q | COV R | COV Q | TAGS\n",
    "---|----|----|----|-------|-------|-------|-------|-------|-------|-------|-----\n",
    "4 | 1830 | 21 | 1847 | 1827 | 1827 | 99.51 | 1834 | 1905 | 99.62 | 95.91 | HA\tNODE_1_length_1905_cov_52.721_ID_5\n",
    "1 | 1190 | 7 | 1196 | 1190 | 1190 | 99.66 | 1190 | 1206 | 100.00 | 98.67 | MP\tNODE_1_length_1206_cov_57.0389_ID_5\n",
    "1 | 1551 | 1569 | 19 | 1551 | 1551 | 99.61 | 1551 | 1576 | 100.00 | 98.41 | NA\tNODE_1_length_1576_cov_54.3161_ID_5\n",
    "1 | 1809 | 1839 | 31 | 1809 | 1809 | 99.61 | 1809 | 1861 | 100.00 | 97.21 | NP\tNODE_1_length_1861_cov_52.0934_ID_5\n",
    "1 | 1096 | 7 | 1102 | 1096 | 1096 | 99.82 | 1096 | 1157 | 100.00 | 94.73 | NS\tNODE_1_length_1157_cov_54.4689_ID_5\n",
    "1 | 2181 | 2285 | 105 | 2181 | 2181 | 99.95 | 2181 | 2327 | 100.00 | 93.73 | PA\tNODE_1_length_2327_cov_57.0414_ID_5\n",
    "290 | 379 | 1 | 90 | 90 | 90 | 98.89 | 1834 | 2486 | 4.91 | 3.62 | HA\tNODE_1_length_2486_cov_48.1852_ID_147\n",
    "1 | 2313 | 121 | 2433 | 2313 | 2313 | 99.83 | 2313 | 2486 | 100.00 | 93.04 | PB1\tNODE_1_length_2486_cov_48.1852_ID_147\n",
    "50 | 176 | 254 | 128 | 127 | 127 | 100.00 | 2313 | 254 | 5.49 | 50.00 | PB1\tNODE_2_length_254_cov_28.3622_ID_150\n",
    "2032 | 2158 | 127 | 1 | 127 | 127 | 100.00 | 2313 | 254 | 5.49 | 50.00 | PB1\tNODE_2_length_254_cov_28.3622_ID_150\n",
    "132 | 258 | 1 | 127 | 127 | 127 | 98.43 | 2313 | 252 | 5.49 | 50.40 | PB1\tNODE_3_length_252_cov_10.552_ID_153\n",
    "2240 | 2313 | 126 | 199 | 74 | 74 | 100.00 | 2313 | 252 | 3.20 | 29.37 | PB1\tNODE_3_length_252_cov_10.552_ID_153\n",
    "2240 | 2313 | 1 | 74 | 74 | 74 | 100.00 | 2313 | 144 | 3.20 | 51.39 | PB1\tNODE_4_length_144_cov_44.3529_ID_156\n",
    "1 | 2369 | 2423 | 55 | 2369 | 2369 | 97.55 | 2369 | 2432 | 100.00 | 97.41 | PB2\tNODE_1_length_2432_cov_47.3761_ID_65\n",
    "19 | 145 | 253 | 127 | 127 | 127 | 96.06 | 2369 | 253 | 5.36 | 50.20 | PB2\tNODE_2_length_253_cov_170.183_ID_68\n",
    "2153 | 2281 | 129 | 1 | 129 | 129 | 99.22 | 2369 | 253 | 5.45 | 50.99 | PB2\tNODE_2_length_253_cov_170.183_ID_68\n",
    "\n",
    "All seem to be very similar. Note that PB1 maps to the beginning of HA for some reason.\n",
    "\n",
    "Node 2 in PB2 is a putative DI as well as nodes 2 and 3 in PB1. Node 4 in PB1 is garbage? It may also be one half of a DI since it does align to the first 120 ish bases. "
   ]
  },
  {
   "cell_type": "markdown",
   "metadata": {},
   "source": [
    "#### Contig Resequecing\n",
    "\n",
    "Now that we have long assemblies we can go forward with resequencing to see if they're erroneous or not. This will involve mapping the raw reads back to the contigs and visually inspecting them. I can also implement a haplotype module in the assembly script that will help out, though I'd need to think of one first..."
   ]
  },
  {
   "cell_type": "code",
   "execution_count": null,
   "metadata": {
    "collapsed": true
   },
   "outputs": [],
   "source": [
    "# the reference file has only the complete segments, not the DIs\n",
    "bwa index fluB.11-9-top-seg-hits.full-segs.contigs.fasta\n",
    "\n",
    "bwa mem -t 6 -x intractg fluB.11-9-top-seg-hits.full-segs.contigs.fasta flub.trimmed.r1.fastq flub.trimmed.r2.fastq \\\n",
    "> fluB.11-9-top-seg-hits.full-segs.contigs.sam\n",
    "\n",
    "cat flub.trimmed.se.r1.fastq flub.trimmed.se.r2.fastq > fluB.trimmed.se.fastq\n",
    "\n",
    "bwa mem -t 6 -x intractg fluB.11-9-top-seg-hits.full-segs.contigs.fasta fluB.trimmed.se.fastq \\\n",
    "> fluB.11-9-top-seg-hits.full-segs.contigs.se.sam\n",
    "\n",
    "for i in $(ls *sam | perl -pe 's/\\.sam//g'); do samtools view -b -o $i.bam $i.sam && \\\n",
    "samtools sort -o $i.sort.bam $i.bam && samtools index $i.sort.bam; done\n",
    "\n",
    "rm *sam *contigs.bam *se.bam\n",
    "\n",
    "samtools merge fluB.11-9-top-seg-hits.full-segs.contigs.merged.bam \\\n",
    "fluB.11-9-top-seg-hits.full-segs.contigs.sort.bam fluB.11-9-top-seg-hits.full-segs.contigs.se.sort.bam\n",
    "\n",
    "samtools index fluB.11-9-top-seg-hits.full-segs.contigs.merged.bam"
   ]
  },
  {
   "cell_type": "markdown",
   "metadata": {},
   "source": [
    "![title](docs/fluB.11-9-top-seg-hits.full-segs.contigs-PB2.png)\n",
    "![title](docs/fluB.11-9-top-seg-hits.full-segs.contigs-PB1.png)\n",
    "![title](docs/fluB.11-9-top-seg-hits.full-segs.contigs-PA.png)\n",
    "![title](docs/fluB.11-9-top-seg-hits.full-segs.contigs-HA.png)\n",
    "![title](docs/fluB.11-9-top-seg-hits.full-segs.contigs-NA.png)\n",
    "![title](docs/fluB.11-9-top-seg-hits.full-segs.contigs-NP.png)\n",
    "![title](docs/fluB.11-9-top-seg-hits.full-segs.contigs-MP.png)\n",
    "![title](docs/fluB.11-9-top-seg-hits.full-segs.contigs-NS.png)\n",
    "\n",
    "These look wonderful in regards to their sequence content. However, some of the termini are shortened for some strange reason. Not sure what happened but I'm assuming it's safe to go forward with tuning the parameters to capture these sequences.\n",
    "\n",
    "The variable position in the NS segment has a T represented on both strands which is suggestive of an actual variant since it's not in the primer regions."
   ]
  },
  {
   "cell_type": "markdown",
   "metadata": {},
   "source": [
    "### H3N2-70"
   ]
  },
  {
   "cell_type": "code",
   "execution_count": null,
   "metadata": {
    "collapsed": true
   },
   "outputs": [],
   "source": [
    "trimmomatic PE -threads 6 c3.r1.fastq.gz c3.r2.fastq.gz c3.trimmed.r1.fastq c3.trimmed.se.r1.fastq \\\n",
    "c3.trimmed.r2.fastq c3.trimmed.se.r2.fastq ILLUMINACLIP:/usr/local/share/trimmomatic/adapters/TruSeq3-PE-2.fa:2:30:10 \\\n",
    "LEADING:3 TRAILING:3 SLIDINGWINDOW:4:15 MINLEN:25\n",
    "\n",
    "# Input Read Pairs: 814706 Both Surviving: 364547 (44.75%) Forward Only Surviving: 408332 (50.12%) Reverse Only Surviving: 757 (0.09%) Dropped: 41070 (5.04%)\n",
    "\n",
    "bwa index 6-4-h3n2-70-top-seg-hits.fasta\n",
    "bwa mem -t 6 -x intractg 6-4-h3n2-70-top-seg-hits.fasta c3.trimmed.r1.fastq c3.trimmed.r2.fastq > c3.flu-6-4-h3n2-70.fludb.top-seg-hits.sam\n",
    "samtools view -b -o c3.flu-6-4-h3n2-70.fludb.top-seg-hits.bam c3.flu-6-4-h3n2-70.fludb.top-seg-hits.sam\n",
    "samtools sort -o c3.flu-6-4-h3n2-70.fludb.top-seg-hits.sort.bam c3.flu-6-4-h3n2-70.fludb.top-seg-hits.bam\n",
    "samtools index c3.flu-6-4-h3n2-70.fludb.top-seg-hits.sort.bam\n",
    "\n",
    "python ~/projects/MinION-Flu-Analysis/scripts/downsampleAssembler.py -r 6-4-h3n2-70-top-seg-hits.fasta -b c3.flu-6-4-h3n2-70.fludb.top-seg-hits.sort.bam\n",
    "\n",
    "cat */contigs.fasta > c3.flu-6-4-h3n2-70.fludb.top-seg-hits.contigs.fasta\n",
    "nucmer --maxmatch 6-4-h3n2-70-top-seg-hits.fasta c3.flu-6-4-h3n2-70.fludb.top-seg-hits.contigs.fasta\n",
    "\n",
    "show-coords -clT out.delta | perl -pe 's/\\[|\\]//g' | perl -pe 's/\\t/ | /g'"
   ]
  },
  {
   "cell_type": "markdown",
   "metadata": {},
   "source": [
    "S1 | E1 | S2 | E2 | LEN 1 | LEN 2 | % IDY | LEN R | LEN Q | COV R | COV Q | TAGS\n",
    "---|----|----|----|-------|-------|-------|-------|-------|-------|-------|-----\n",
    "1 | 1727 | 1857 | 131 | 1727 | 1727 | 96.29 | 1727 | 1877 | 100.00 | 92.01 | HA | NODE_1_length_1877_cov_56.0194_ID_5\n",
    "859 | 957 | 1 | 99 | 99 | 99 | 97.98 | 1727 | 1877 | 5.73 | 5.27 | HA | NODE_1_length_1877_cov_56.0194_ID_5\n",
    "1 | 1027 | 1136 | 110 | 1027 | 1027 | 98.05 | 1027 | 1142 | 100.00 | 89.93 | MP | NODE_1_length_1142_cov_50.7803_ID_5\n",
    "835 | 933 | 99 | 1 | 99 | 99 | 98.99 | 1027 | 1142 | 9.64 | 8.67 | MP | NODE_1_length_1142_cov_50.7803_ID_5\n",
    "1 | 1466 | 7 | 1473 | 1466 | 1467 | 97.34 | 1466 | 1483 | 100.00 | 98.92 | NA | NODE_1_length_1483_cov_45.219_ID_117\n",
    "1 | 109 | 7 | 115 | 109 | 109 | 99.08 | 1466 | 382 | 7.44 | 28.53 | NA | NODE_2_length_382_cov_153.267_ID_120\n",
    "1208 | 1466 | 113 | 372 | 259 | 260 | 98.46 | 1466 | 382 | 17.67 | 68.06 | NA | NODE_2_length_382_cov_153.267_ID_120\n",
    "1 | 138 | 7 | 144 | 138 | 138 | 99.28 | 1466 | 321 | 9.41 | 42.99 | NA | NODE_3_length_321_cov_79.7629_ID_123\n",
    "1301 | 1466 | 145 | 311 | 166 | 167 | 98.80 | 1466 | 321 | 11.32 | 52.02 | NA | NODE_3_length_321_cov_79.7629_ID_123\n",
    "1 | 1566 | 1701 | 137 | 1566 | 1565 | 98.72 | 1566 | 1711 | 100.00 | 91.47 | NP | NODE_1_length_1711_cov_50.0783_ID_5\n",
    "353 | 478 | 126 | 1 | 126 | 126 | 96.83 | 1566 | 1711 | 8.05 | 7.36 | NP | NODE_1_length_1711_cov_50.0783_ID_5\n",
    "1 | 890 | 11 | 900 | 890 | 890 | 98.31 | 890 | 1032 | 100.00 | 86.24 | NS | NODE_1_length_1032_cov_47.7735_ID_5\n",
    "566 | 688 | 910 | 1032 | 123 | 123 | 99.19 | 1566 | 1032 | 7.85 | 11.92 | NP | NODE_1_length_1032_cov_47.7735_ID_5\n",
    "1 | 2166 | 7 | 2172 | 2166 | 2166 | 96.95 | 2232 | 2172 | 97.04 | 99.72 | PA | NODE_1_length_2172_cov_41.7242_ID_137\n",
    "1 | 138 | 7 | 144 | 138 | 138 | 95.65 | 2232 | 453 | 6.18 | 30.46 | PA | NODE_2_length_453_cov_80.8589_ID_140\n",
    "2040 | 2232 | 143 | 336 | 193 | 194 | 97.42 | 2232 | 453 | 8.65 | 42.83 | PA | NODE_2_length_453_cov_80.8589_ID_140\n",
    "1059 | 1165 | 453 | 347 | 107 | 107 | 98.13 | 2340 | 453 | 4.57 | 23.62 | PB1 | NODE_2_length_453_cov_80.8589_ID_140\n",
    "45 | 171 | 1 | 127 | 127 | 127 | 96.06 | 2232 | 253 | 5.69 | 50.20 | PA | NODE_3_length_253_cov_30.754_ID_143\n",
    "1674 | 1800 | 127 | 253 | 127 | 127 | 98.43 | 2232 | 253 | 5.69 | 50.20 | PA | NODE_3_length_253_cov_30.754_ID_143\n",
    "1 | 2340 | 40 | 2380 | 2340 | 2341 | 97.31 | 2340 | 2396 | 100.00 | 97.70 | PB1 | NODE_1_length_2396_cov_52.5677_ID_5\n",
    "1 | 2280 | 52 | 2331 | 2280 | 2280 | 97.76 | 2280 | 2500 | 100.00 | 91.20 | PB2 | NODE_1_length_2500_cov_48.6941_ID_15\n",
    "1675 | 1801 | 2374 | 2500 | 127 | 127 | 98.43 | 2280 | 2500 | 5.57 | 5.08 | PB2 | NODE_1_length_2500_cov_48.6941_ID_15"
   ]
  },
  {
   "cell_type": "code",
   "execution_count": null,
   "metadata": {
    "collapsed": true
   },
   "outputs": [],
   "source": [
    "bwa index c3.flu-6-4-h3n2-70.fludb.top-seg-hits.contigs.fasta\n",
    "bwa mem -t 6 -x intractg c3.flu-6-4-h3n2-70.fludb.top-seg-hits.contigs.fasta c3.trimmed.r1.fastq c3.trimmed.r2.fastq > c3.flu-6-4-h3n2-70.fludb.top-seg-hits.contigs.sam\n",
    "samtools view -b -o c3.flu-6-4-h3n2-70.fludb.top-seg-hits.contigs.bam c3.flu-6-4-h3n2-70.fludb.top-seg-hits.contigs.sam\n",
    "samtools sort -o c3.flu-6-4-h3n2-70.fludb.top-seg-hits.contigs.sort.bam c3.flu-6-4-h3n2-70.fludb.top-seg-hits.contigs.bam\n",
    "samtools index c3.flu-6-4-h3n2-70.fludb.top-seg-hits.contigs.sort.bam\n",
    "\n",
    "cat c3.trimmed.se.r1.fastq c3.trimmed.se.r2.fastq > c3.trimmed.se.fastq\n",
    "\n",
    "bwa mem -t 6 -x intractg c3.flu-6-4-h3n2-70.fludb.top-seg-hits.contigs.fasta c3.trimmed.se.fastq \\\n",
    "> c3.flu-6-4-h3n2-70.fludb.top-seg-hits.contigs.se.sam\n",
    "\n",
    "for i in $(ls *sam | perl -pe 's/\\.sam//g'); do samtools view -b -o $i.bam $i.sam && \\\n",
    "samtools sort -o $i.sort.bam $i.bam && samtools index $i.sort.bam; done\n",
    "\n",
    "samtools merge c3.flu-6-4-h3n2-70.fludb.top-seg-hits.contigs.merged.sort.bam \\\n",
    "c3.flu-6-4-h3n2-70.fludb.top-seg-hits.contigs.sort.bam c3.flu-6-4-h3n2-70.fludb.top-seg-hits.contigs.se.sort.bam\n",
    "\n",
    "samtools index c3.flu-6-4-h3n2-70.fludb.top-seg-hits.contigs.merged.sort.bam"
   ]
  },
  {
   "cell_type": "markdown",
   "metadata": {},
   "source": [
    "### H3N2-90"
   ]
  },
  {
   "cell_type": "code",
   "execution_count": null,
   "metadata": {
    "collapsed": true
   },
   "outputs": [],
   "source": [
    "trimmomatic PE -threads 6 f1.r1.fastq.gz f1.r2.fastq.gz f1.trimmed.r1.fastq f1.trimmed.se.r1.fastq \\\n",
    "f1.trimmed.r2.fastq f1.trimmed.se.r2.fastq ILLUMINACLIP:/usr/local/share/trimmomatic/adapters/TruSeq3-PE-2.fa:2:30:10 \\\n",
    "LEADING:3 TRAILING:3 SLIDINGWINDOW:4:15 MINLEN:25\n",
    "\n",
    "#Input Read Pairs: 600706 Both Surviving: 316954 (52.76%) Forward Only Surviving: 233196 (38.82%) Reverse Only Surviving: 757 (0.13%) Dropped: 49799 (8.29%)\n",
    "\n",
    "bwa index 8-13-h3n2-90-top-seg-hits.fasta\n",
    "bwa mem -t 6 -x intractg 8-13-h3n2-90-top-seg-hits.fasta f1.trimmed.r1.fastq f1.trimmed.r2.fastq > f1.8-13-h3n2-90-top-seg-hits.sam\n",
    "samtools view -b -o f1.8-13-h3n2-90-top-seg-hits.bam f1.8-13-h3n2-90-top-seg-hits.sam\n",
    "samtools sort -o f1.8-13-h3n2-90-top-seg-hits.sort.bam f1.8-13-h3n2-90-top-seg-hits.bam\n",
    "samtools index f1.8-13-h3n2-90-top-seg-hits.sort.bam\n",
    "\n",
    "python ~/projects/MinION-Flu-Analysis/scripts/downsampleAssembler.py -r 8-13-h3n2-90-top-seg-hits.fasta -b f1.8-13-h3n2-90-top-seg-hits.sort.bam\n",
    "\n",
    "cat */contigs.fasta > f1.8-13-h3n2-90-top-seg-hits.contigs.fasta\n",
    "nucmer --maxmatch 8-13-h3n2-90-top-seg-hits.fasta f1.8-13-h3n2-90-top-seg-hits.contigs.fasta\n",
    "\n",
    "show-coords -clT out.delta | perl -pe 's/\\[|\\]//g' | perl -pe 's/\\t/ | /g'"
   ]
  },
  {
   "cell_type": "markdown",
   "metadata": {},
   "source": [
    "S1 | E1 | S2 | E2 | LEN 1 | LEN 2 | % IDY | LEN R | LEN Q | COV R | COV Q | TAGS\n",
    "---|----|----|----|-------|-------|-------|-------|-------|-------|-------|-----\n",
    "1 | 1762 | 7 | 1768 | 1762 | 1762 | 99.21 | 1762 | 1779 | 100.00 | 99.04 | HA | NODE_1_length_1779_cov_56.2324_ID_5\n",
    "1 | 1027 | 7 | 1033 | 1027 | 1027 | 99.61 | 1027 | 1045 | 100.00 | 98.28 | MP | NODE_1_length_1045_cov_61.0294_ID_5\n",
    "1 | 1466 | 7 | 1472 | 1466 | 1466 | 99.45 | 1466 | 1486 | 100.00 | 98.65 | NA | NODE_1_length_1486_cov_52.6196_ID_5\n",
    "1 | 1566 | 1652 | 87 | 1566 | 1566 | 99.68 | 1566 | 1674 | 100.00 | 93.55 | NP | NODE_1_length_1674_cov_48.8474_ID_5\n",
    "1 | 890 | 14 | 903 | 890 | 890 | 99.55 | 890 | 1012 | 100.00 | 87.94 | NS | NODE_1_length_1012_cov_51.4633_ID_5\n",
    "443 | 545 | 910 | 1012 | 103 | 103 | 99.03 | 890 | 1012 | 11.57 | 10.18 | NS | NODE_1_length_1012_cov_51.4633_ID_5\n",
    "1 | 2232 | 8 | 2241 | 2232 | 2234 | 99.46 | 2232 | 2254 | 100.00 | 99.11 | PA | NODE_1_length_2254_cov_55.5205_ID_5\n",
    "1 | 2341 | 9 | 2349 | 2341 | 2341 | 99.66 | 2341 | 2363 | 100.00 | 99.07 | PB1 | NODE_1_length_2363_cov_49.4275_ID_5\n",
    "1 | 2341 | 7 | 2347 | 2341 | 2341 | 99.66 | 2341 | 2357 | 100.00 | 99.32 | PB2 | NODE_1_length_2357_cov_50.7623_ID_284\n",
    "1 | 209 | 334 | 126 | 209 | 209 | 98.56 | 2341 | 340 | 8.93 | 61.47 | PB2 | NODE_2_length_340_cov_28.9953_ID_287\n",
    "1906 | 2032 | 127 | 1 | 127 | 127 | 99.21 | 2341 | 340 | 5.43 | 37.35 | PB2 | NODE_2_length_340_cov_28.9953_ID_287\n",
    "246 | 451 | 1 | 201 | 206 | 201 | 97.09 | 2341 | 325 | 8.80 | 61.85 | PB2 | NODE_3_length_325_cov_1.4596_ID_290\n",
    "1844 | 1970 | 199 | 325 | 127 | 127 | 99.21 | 2341 | 325 | 5.43 | 39.08 | PB2 | NODE_3_length_325_cov_1.4596_ID_290\n",
    "1941 | 2067 | 254 | 128 | 127 | 127 | 99.21 | 2341 | 254 | 5.43 | 50.00 | PB2 | NODE_4_length_254_cov_1_ID_293"
   ]
  },
  {
   "cell_type": "code",
   "execution_count": null,
   "metadata": {
    "collapsed": true
   },
   "outputs": [],
   "source": [
    "bwa index f1.8-13-h3n2-90-top-seg-hits.contigs.fasta\n",
    "bwa mem -t 6 -x intractg f1.8-13-h3n2-90-top-seg-hits.contigs.fasta f1.trimmed.r1.fastq f1.trimmed.r2.fastq > f1.8-13-h3n2-90-top-seg-hits.contigs.sam\n",
    "samtools view -b -o f1.8-13-h3n2-90-top-seg-hits.contigs.bam f1.8-13-h3n2-90-top-seg-hits.contigs.sam\n",
    "samtools sort -o f1.8-13-h3n2-90-top-seg-hits.contigs.sort.bam f1.8-13-h3n2-90-top-seg-hits.contigs.bam\n",
    "samtools index f1.8-13-h3n2-90-top-seg-hits.contigs.sort.bam\n",
    "\n",
    "cat f1.trimmed.se.r1.fastq f1.trimmed.se.r2.fastq > f1.trimmed.se.fastq\n",
    "\n",
    "bwa mem -t 6 -x intractg f1.8-13-h3n2-90-top-seg-hits.contigs.fasta f1.trimmed.se.fastq \\\n",
    "> f1.8-13-h3n2-90-top-seg-hits.contigs.se.sam\n",
    "\n",
    "for i in $(ls *sam | perl -pe 's/\\.sam//g'); do samtools view -b -o $i.bam $i.sam && \\\n",
    "samtools sort -o $i.sort.bam $i.bam && samtools index $i.sort.bam; done\n",
    "\n",
    "samtools merge f1.8-13-h3n2-90-top-seg-hits.contigs.merged.sort.bam \\\n",
    "f1.8-13-h3n2-90-top-seg-hits.contigs.sort.bam f1.8-13-h3n2-90-top-seg-hits.contigs.se.sort.bam\n",
    "\n",
    "samtools index f1.8-13-h3n2-90-top-seg-hits.contigs.merged.sort.bam"
   ]
  },
  {
   "cell_type": "markdown",
   "metadata": {},
   "source": [
    "There's a lot more noise in this H3N2-90 run than the other samples (which have noise that is limited to the termini)."
   ]
  },
  {
   "cell_type": "markdown",
   "metadata": {},
   "source": [
    "### H1N1"
   ]
  },
  {
   "cell_type": "code",
   "execution_count": null,
   "metadata": {
    "collapsed": true,
    "run_control": {
     "marked": false
    }
   },
   "outputs": [],
   "source": [
    "cd /home/alan/projects/MinION-notebook/clinical-analysis/miseq/h1n1\n",
    "\n",
    "java -jar /opt/bioinformatics-software/Trimmomatic-0.35/trimmomatic-0.35.jar PE -threads 30 h1n1.r1.fastq.gz \\\n",
    "h1n1.r2.fastq.gz h1n1.trimmed.r1.fastq h1n1.trimmed.se.r1.fastq h1n1.trimmed.r2.fastq h1n1.trimmed.se.r2.fastq \\\n",
    "ILLUMINACLIP:/opt/bioinformatics-software/Trimmomatic-0.35/adapters/TruSeq3-PE-2.fa:2:30:10 LEADING:3 TRAILING:3 \\\n",
    "SLIDINGWINDOW:4:15 MINLEN:25\n",
    "\n",
    "# Input Read Pairs: 434829 Both Surviving: 83917 (19.30%) Forward Only Surviving: 328756 (75.61%) Reverse Only Surviving: 277 (0.06%) Dropped: 21879 (5.03%)\n",
    "\n",
    "bwa index 6-4-h1n1-top-seg-hits.fasta\n",
    "bwa mem -t 6 -x intractg 6-4-h1n1-top-seg-hits.fasta a1.trimmed.r1.fastq a1.trimmed.r2.fastq > a1.flu-6-4-h1n1.fludb.top-seg-hits.sam\n",
    "samtools view -b -o a1.flu-6-4-h1n1.fludb.top-seg-hits.bam a1.flu-6-4-h1n1.fludb.top-seg-hits.sam\n",
    "samtools sort -o a1.flu-6-4-h1n1.fludb.top-seg-hits.sort.bam a1.flu-6-4-h1n1.fludb.top-seg-hits.bam\n",
    "samtools index a1.flu-6-4-h1n1.fludb.top-seg-hits.sort.bam\n",
    "\n",
    "python ~/projects/MinION-Flu-Analysis/scripts/downsampleAssembler.py -r 6-4-h1n1-top-seg-hits.fasta -b a1.flu-6-4-h1n1.fludb.top-seg-hits.sort.bam\n",
    "\n",
    "cat */contigs.fasta > a1.flu-6-4-h1n1.fludb.top-seg-hits.contigs.fasta\n",
    "nucmer --maxmatch 6-4-h1n1-top-seg-hits.fasta a1.flu-6-4-h1n1.fludb.top-seg-hits.contigs.fasta\n",
    "\n",
    "show-coords -clT out.delta | perl -pe 's/\\[|\\]//g' | perl -pe 's/\\t/ | /g'"
   ]
  },
  {
   "cell_type": "markdown",
   "metadata": {},
   "source": [
    "S1 | E1 | S2 | E2 | LEN 1 | LEN 2 | % IDY | LEN R | LEN Q | COV R | COV Q | TAGS\n",
    "---|----|----|----|-------|-------|-------|-------|-------|-------|-------|-----\n",
    "1 | 1777 | 1792 | 16 | 1777 | 1777 | 99.44 | 1777 | 1803 | 100.00 | 98.56 | HA | NODE_1_length_1803_cov_54.429_ID_5\n",
    "5 | 1031 | 12 | 1038 | 1027 | 1027 | 99.42 | 1031 | 1048 | 99.61 | 98.00 | MP | NODE_1_length_1048_cov_55.8284_ID_5\n",
    "1 | 1410 | 1447 | 38 | 1410 | 1410 | 99.79 | 1410 | 1478 | 100.00 | 95.40 | NA | NODE_1_length_1478_cov_57.8579_ID_5\n",
    "1 | 1497 | 1529 | 33 | 1497 | 1497 | 99.87 | 1497 | 1582 | 100.00 | 94.63 | NP | NODE_1_length_1582_cov_57.0117_ID_5\n",
    "1 | 863 | 873 | 11 | 863 | 863 | 99.88 | 863 | 908 | 100.00 | 95.04 | NS | NODE_1_length_908_cov_58.1498_ID_5\n",
    "1 | 2233 | 2242 | 10 | 2233 | 2233 | 99.55 | 2233 | 2253 | 100.00 | 99.11 | PA | NODE_1_length_2253_cov_54.9699_ID_5\n",
    "1 | 2327 | 28 | 2355 | 2327 | 2328 | 98.28 | 2327 | 2370 | 100.00 | 98.23 | PB1 | NODE_1_length_2370_cov_58.1881_ID_5\n",
    "4 | 2341 | 2353 | 16 | 2338 | 2338 | 99.19 | 2341 | 2367 | 99.87 | 98.77 | PB2 | NODE_1_length_2367_cov_58.792_ID_5"
   ]
  },
  {
   "cell_type": "code",
   "execution_count": null,
   "metadata": {
    "collapsed": true
   },
   "outputs": [],
   "source": [
    "bwa index a1.flu-6-4-h1n1.fludb.top-seg-hits.contigs.fasta\n",
    "bwa mem -t 6 -x intractg a1.flu-6-4-h1n1.fludb.top-seg-hits.contigs.fasta a1.trimmed.r1.fastq a1.trimmed.r2.fastq > a1.flu-6-4-h1n1.fludb.top-seg-hits.contigs.sam\n",
    "samtools view -b -o a1.flu-6-4-h1n1.fludb.top-seg-hits.contigs.bam a1.flu-6-4-h1n1.fludb.top-seg-hits.contigs.sam\n",
    "samtools sort -o a1.flu-6-4-h1n1.fludb.top-seg-hits.contigs.sort.bam a1.flu-6-4-h1n1.fludb.top-seg-hits.contigs.bam\n",
    "samtools index a1.flu-6-4-h1n1.fludb.top-seg-hits.contigs.sort.bam\n",
    "\n",
    "cat a1.trimmed.se.r?.fastq > a1.trimmed.se.fastq\n",
    "bwa mem -t 6 -x intractg a1.flu-6-4-h1n1.fludb.top-seg-hits.contigs.fasta a1.trimmed.se.fastq > a1.flu-6-4-h1n1.fludb.top-seg-hits.contigs.se.sam\n",
    "samtools view -b -o a1.flu-6-4-h1n1.fludb.top-seg-hits.contigs.se.bam a1.flu-6-4-h1n1.fludb.top-seg-hits.contigs.se.sam\n",
    "samtools sort -o a1.flu-6-4-h1n1.fludb.top-seg-hits.contigs.sort.se.bam a1.flu-6-4-h1n1.fludb.top-seg-hits.contigs.se.bam\n",
    "samtools index a1.flu-6-4-h1n1.fludb.top-seg-hits.contigs.sort.se.bam\n",
    "\n",
    "samtools merge a1.flu-6-4-h1n1.fludb.top-seg-hits.contigs.merged.sort.bam \\\n",
    "a1.flu-6-4-h1n1.fludb.top-seg-hits.contigs.sort.bam a1.flu-6-4-h1n1.fludb.top-seg-hits.contigs.sort.se.bam\n",
    "\n",
    "samtools index a1.flu-6-4-h1n1.fludb.top-seg-hits.contigs.merged.sort.bam"
   ]
  },
  {
   "cell_type": "markdown",
   "metadata": {},
   "source": [
    "### H3N2-39"
   ]
  },
  {
   "cell_type": "code",
   "execution_count": null,
   "metadata": {
    "collapsed": true
   },
   "outputs": [],
   "source": [
    "trimmomatic PE -threads 6 a39.r1.fastq.gz a39.r2.fastq.gz a39.trimmed.r1.fastq a39.trimmed.se.r1.fastq \\\n",
    "a39.trimmed.r2.fastq a39.trimmed.se.r2.fastq ILLUMINACLIP:/usr/local/share/trimmomatic/adapters/TruSeq3-PE-2.fa:2:30:10 \\\n",
    "LEADING:3 TRAILING:3 SLIDINGWINDOW:4:15 MINLEN:25\n",
    "\n",
    "# 199626 Both Surviving: 196456 (98.41%) Forward Only Surviving: 0 (0.00%) Reverse Only Surviving: 0 (0.00%) Dropped: 3170 (1.59%)\n",
    "\n",
    "for i in HA NA NP NS MP PA PB1 PB2; do python ~/projects/MinION-notebook/scripts/read-fludb-blastxml.py flu-4-5.fludb.xml \\\n",
    "| sort -nrk4 | grep -m1 $i; done | cut -f1 | grep --no-group-separator -A1 -F -f - \\\n",
    "~/projects/MinION-notebook/clinical-analysis/fludb/all-H1N1-H3N2-FluB-full-segs.fasta  > flu-4-5.fludb.top-seg-hits.fasta\n",
    "\n",
    "# Input Read Pairs: 687459 Both Surviving: 394107 (57.33%) Forward Only Surviving: 266824 (38.81%) Reverse Only Surviving: 524 (0.08%) Dropped: 26004 (3.78%)\n",
    "\n",
    "bwa index flu-4-5.fludb.top-seg-hits.fasta\n",
    "bwa mem -t 6 -x intractg flu-4-5.fludb.top-seg-hits.fasta a39.trimmed.r1.fastq a39.trimmed.r2.fastq > a39.flu-4-5.fludb.top-seg-hits.sam\n",
    "samtools view -b -o a39.flu-4-5.fludb.top-seg-hits.bam a39.flu-4-5.fludb.top-seg-hits.sam\n",
    "samtools sort -o a39.flu-4-5.fludb.top-seg-hits.sort.bam a39.flu-4-5.fludb.top-seg-hits.bam\n",
    "samtools index a39.flu-4-5.fludb.top-seg-hits.sort.bam\n",
    "\n",
    "python ~/projects/MinION-Flu-Analysis/scripts/downsampleAssembler.py -r flu-4-5.fludb.top-seg-hits.fasta -b a39.flu-4-5.fludb.top-seg-hits.sort.bam\n",
    "\n",
    "cat */contigs.fasta > a39.flu-4-5.fludb.top-seg-hits.contigs.fasta\n",
    "nucmer --maxmatch flu-4-5.fludb.top-seg-hits.fasta a39.flu-4-5.fludb.top-seg-hits.contigs.fasta\n",
    "\n",
    "show-coords -clT out.delta | perl -pe 's/\\[|\\]//g' | perl -pe 's/\\t/ | /g'"
   ]
  },
  {
   "cell_type": "markdown",
   "metadata": {},
   "source": [
    "S1 | E1 | S2 | E2 | LEN 1 | LEN 2 | % IDY | LEN R | LEN Q | COV R | COV Q | TAGS\n",
    "---|----|----|----|-------|-------|-------|-------|-------|-------|-------|-----\n",
    "1 | 1701 | 68 | 1768 | 1701 | 1701 | 99.76 | 1701 | 1812 | 100.00 | 93.87 | HA | NODE_1_length_1812_cov_53.0825_ID_5\n",
    "1 | 1027 | 10 | 1036 | 1027 | 1027 | 99.61 | 1027 | 1064 | 100.00 | 96.52 | MP | NODE_1_length_1064_cov_47.7118_ID_5\n",
    "1 | 1466 | 7 | 1472 | 1466 | 1466 | 99.45 | 1466 | 1581 | 100.00 | 92.73 | NA | NODE_1_length_1581_cov_50.3865_ID_5\n",
    "715 | 813 | 1581 | 1483 | 99 | 99 | 98.99 | 1466 | 1581 | 6.75 | 6.26 | NA | NODE_1_length_1581_cov_50.3865_ID_5\n",
    "1 | 1566 | 1583 | 18 | 1566 | 1566 | 99.55 | 1566 | 1591 | 100.00 | 98.43 | NP | NODE_1_length_1591_cov_55.653_ID_5\n",
    "1 | 890 | 904 | 15 | 890 | 890 | 99.21 | 890 | 920 | 100.00 | 96.74 | NS | NODE_1_length_920_cov_57.1173_ID_5\n",
    "1 | 2232 | 2249 | 17 | 2232 | 2233 | 99.55 | 2232 | 2255 | 100.00 | 99.02 | PA | NODE_1_length_2255_cov_54.7998_ID_58\n",
    "218 | 344 | 253 | 127 | 127 | 127 | 100.00 | 2232 | 253 | 5.69 | 50.20 | PA | NODE_2_length_253_cov_4.4127_ID_61\n",
    "1362 | 1488 | 127 | 1 | 127 | 127 | 100.00 | 2232 | 253 | 5.69 | 50.20 | PA | NODE_2_length_253_cov_4.4127_ID_61\n",
    "1 | 2274 | 45 | 2318 | 2274 | 2274 | 99.43 | 2274 | 2378 | 100.00 | 95.63 | PB1 | NODE_1_length_2378_cov_47.6579_ID_5\n",
    "1 | 2280 | 2369 | 90 | 2280 | 2280 | 99.82 | 2280 | 2412 | 100.00 | 94.53 | PB2 | NODE_1_length_2412_cov_52.5873_ID_5"
   ]
  },
  {
   "cell_type": "code",
   "execution_count": null,
   "metadata": {
    "collapsed": true
   },
   "outputs": [],
   "source": [
    "bwa index a39.flu-4-5.fludb.top-seg-hits.contigs.fasta\n",
    "bwa mem -t 6 -x intractg a39.flu-4-5.fludb.top-seg-hits.contigs.fasta a39.trimmed.r1.fastq a39.trimmed.r2.fastq > a39.flu-4-5.fludb.top-seg-hits.contigs.sam\n",
    "samtools view -b -o a39.flu-4-5.fludb.top-seg-hits.contigs.bam a39.flu-4-5.fludb.top-seg-hits.contigs.sam\n",
    "samtools sort -o a39.flu-4-5.fludb.top-seg-hits.contigs.sort.bam a39.flu-4-5.fludb.top-seg-hits.contigs.bam\n",
    "samtools index a39.flu-4-5.fludb.top-seg-hits.contigs.sort.bam"
   ]
  },
  {
   "cell_type": "markdown",
   "metadata": {},
   "source": [
    "## Identify Variantes from Each Assembly\n",
    "\n",
    "Now that we have an \"accurate\" representation of the real sequences we can now identify the unique variants for each strain in order to assess the MinION's ability to do, intrahost snv calling, phasing and determine the required coverage and platform comparisons.\n",
    "\n",
    "Based on the alignment of all strains, the FluB segment is easily identifiable and won't be consdiered when looking for specific variants.\n",
    "\n",
    "![title](docs/miseq-contigs-PB1-alignment.png)"
   ]
  },
  {
   "cell_type": "code",
   "execution_count": null,
   "metadata": {
    "collapsed": true
   },
   "outputs": [],
   "source": [
    "nucmer a39.flu-4-5.fludb.top-seg-hits.contigs.fasta f1.8-13-h3n2-90-top-seg-hits.contigs.fasta\n",
    "\n",
    "# sets minimum alignment length to 500 (weeding out the crap)\n",
    "delta-filter -l 500 out.delta > out.filter\n",
    "\n",
    "show-coords -clT out.filter | perl -pe 's/\\[|\\]//g' | perl -pe 's/\\t/ | /g'"
   ]
  },
  {
   "cell_type": "markdown",
   "metadata": {},
   "source": [
    "S1 | E1 | S2 | E2 | LEN 1 | LEN 2 | % IDY | LEN R | LEN Q | COV R | COV Q | TAGS\n",
    "---|----|----|----|-------|-------|-------|-------|-------|-------|-------|-----\n",
    "33 | 1811 | 1 | 1779 | 1779 | 1779 | 99.83 | 1812 | 1779 | 98.18 | 100.00 | HA-h3n2-39 | HA-h3n2-90\n",
    "4 | 1048 | 1 | 1045 | 1045 | 1045 | 99.90 | 1064 | 1045 | 98.21 | 100.00 | MP-h3n2-39 | MP-h3n2-90\n",
    "1 | 1481 | 1 | 1481 | 1481 | 1481 | 99.32 | 1581 | 1486 | 93.67 | 99.66 | NA-h3n2-39 | NA-h3n2-90\n",
    "9 | 1589 | 78 | 1658 | 1581 | 1581 | 99.87 | 1591 | 1674 | 99.37 | 94.44 | NP-h3n2-39 | NP-h3n2-90\n",
    "6 | 917 | 912 | 1 | 912 | 912 | 99.78 | 920 | 1012 | 99.13 | 90.12 | NS-h3n2-39 | NS-h3n2-90\n",
    "4 | 2255 | 2254 | 2 | 2252 | 2253 | 99.69 | 2255 | 2254 | 99.87 | 99.96 | PA-h3n2-39 | PA-h3n2-90\n",
    "13 | 2375 | 1 | 2363 | 2363 | 2363 | 99.66 | 2378 | 2363 | 99.37 | 100.00 | PB1-h3n2-39 | PB1-h3n2-90\n",
    "46 | 2402 | 2357 | 1 | 2357 | 2357 | 99.87 | 2412 | 2357 | 97.72 | 100.00 | PB2-h3n2-39 | PB2-h3n2-90"
   ]
  },
  {
   "cell_type": "code",
   "execution_count": null,
   "metadata": {
    "collapsed": true
   },
   "outputs": [],
   "source": [
    "show-snps -T out.filter"
   ]
  },
  {
   "cell_type": "markdown",
   "metadata": {},
   "source": [
    "P1 | SUB | SUB | P2 | BUFF | DIST | R | Q | FRM | TAGS\n",
    "---|-----|-----|----|------|------|---|---|-----|-----\n",
    "739 | G | A | 707 | 456 | 707 | 0 | 0 | 1 | 1 | HA-h3n2-39 | HA-h3n2-90\n",
    "1195 | A | G | 1163 | 386 | 617 | 0 | 0 | 1 | 1 | HA-h3n2-39 | HA-h3n2-90\n",
    "1581 | G | A | 1549 | 231 | 231 | 0 | 0 | 1 | 1 | HA-h3n2-39 | HA-h3n2-90\n",
    "877 | A | G | 874 | 172 | 172 | 0 | 0 | 1 | 1 | MP-h3n2-39 | MP-h3n2-90\n",
    "10 | A | G | 10 | 10 | 10 | 0 | 0 | 1 | 1 | NA-h3n2-39 | NA-h3n2-90\n",
    "74 | A | T | 74 | 2 | 74 | 0 | 0 | 1 | 1 | NA-h3n2-39 | NA-h3n2-90\n",
    "76 | C | T | 76 | 2 | 76 | 0 | 0 | 1 | 1 | NA-h3n2-39 | NA-h3n2-90\n",
    "340 | G | A | 340 | 6 | 340 | 0 | 0 | 1 | 1 | NA-h3n2-39 | NA-h3n2-90\n",
    "346 | G | A | 346 | 6 | 346 | 0 | 0 | 1 | 1 | NA-h3n2-39 | NA-h3n2-90\n",
    "430 | A | G | 430 | 84 | 430 | 0 | 0 | 1 | 1 | NA-h3n2-39 | NA-h3n2-90\n",
    "676 | G | A | 676 | 12 | 676 | 0 | 0 | 1 | 1 | NA-h3n2-39 | NA-h3n2-90\n",
    "688 | T | C | 688 | 12 | 688 | 0 | 0 | 1 | 1 | NA-h3n2-39 | NA-h3n2-90\n",
    "1102 | C | T | 1102 | 3 | 385 | 0 | 0 | 1 | 1 | NA-h3n2-39 | NA-h3n2-90\n",
    "1105 | A | G | 1105 | 3 | 382 | 0 | 0 | 1 | 1 | NA-h3n2-39 | NA-h3n2-90\n",
    "491 | C | T | 560 | 88 | 491 | 0 | 0 | 1 | 1 | NP-h3n2-39 | NP-h3n2-90\n",
    "579 | T | C | 648 | 88 | 579 | 0 | 0 | 1 | 1 | NP-h3n2-39 | NP-h3n2-90\n",
    "248 | T | C | 670 | 243 | 248 | 0 | 0 | 1 | -1 | NS-h3n2-39 | NS-h3n2-90\n",
    "657 | T | A | 261 | 261 | 261 | 0 | 0 | 1 | -1 | NS-h3n2-39 | NS-h3n2-90\n",
    "37 | . | T | 2220 | 15 | 35 | 0 | 0 | 1 | -1 | PA-h3n2-39 | PA-h3n2-90\n",
    "52 | A | G | 2205 | 15 | 50 | 0 | 0 | 1 | -1 | PA-h3n2-39 | PA-h3n2-90\n",
    "594 | T | C | 1663 | 108 | 592 | 0 | 0 | 1 | -1 | PA-h3n2-39 | PA-h3n2-90\n",
    "702 | T | C | 1555 | 108 | 700 | 0 | 0 | 1 | -1 | PA-h3n2-39 | PA-h3n2-90\n",
    "1875 | G | A | 382 | 293 | 381 | 0 | 0 | 1 | -1 | PA-h3n2-39 | PA-h3n2-90\n",
    "2168 | T | C | 89 | 78 | 88 | 0 | 0 | 1 | -1 | PA-h3n2-39 | PA-h3n2-90\n",
    "2246 | T | C | 11 | 10 | 10 | 0 | 0 | 1 | -1 | PA-h3n2-39 | PA-h3n2-90\n",
    "776 | T | C | 764 | 24 | 764 | 0 | 0 | 1 | 1 | PB1-h3n2-39 | PB1-h3n2-90\n",
    "800 | A | G | 788 | 24 | 788 | 0 | 0 | 1 | 1 | PB1-h3n2-39 | PB1-h3n2-90\n",
    "863 | C | T | 851 | 63 | 851 | 0 | 0 | 1 | 1 | PB1-h3n2-39 | PB1-h3n2-90\n",
    "1093 | G | A | 1081 | 133 | 1081 | 0 | 0 | 1 | 1 | PB1-h3n2-39 | PB1-h3n2-90\n",
    "1226 | C | T | 1214 | 133 | 1150 | 0 | 0 | 1 | 1 | PB1-h3n2-39 | PB1-h3n2-90\n",
    "1586 | A | G | 1574 | 285 | 790 | 0 | 0 | 1 | 1 | PB1-h3n2-39 | PB1-h3n2-90\n",
    "1871 | T | C | 1859 | 138 | 505 | 0 | 0 | 1 | 1 | PB1-h3n2-39 | PB1-h3n2-90\n",
    "2009 | A | G | 1997 | 138 | 367 | 0 | 0 | 1 | 1 | PB1-h3n2-39 | PB1-h3n2-90\n",
    "1236 | T | G | 1167 | 256 | 1167 | 0 | 0 | 1 | -1 | PB2-h3n2-39 | PB2-h3n2-90\n",
    "1492 | A | C | 911 | 101 | 911 | 0 | 0 | 1 | -1 | PB2-h3n2-39 | PB2-h3n2-90\n",
    "1593 | C | T | 810 | 101 | 810 | 0 | 0 | 1 | -1 | PB2-h3n2-39 | PB2-h3n2-90"
   ]
  },
  {
   "cell_type": "code",
   "execution_count": null,
   "metadata": {
    "collapsed": true
   },
   "outputs": [],
   "source": [
    "nucmer  nucmer c3.flu-6-4-h3n2-70.fludb.top-seg-hits.contigs.fasta f1.8-13-h3n2-90-top-seg-hits.contigs.fasta\n",
    "delta-filter -l 500 out.delta > out.filter\n",
    "show-coords -clT out.filter | perl -pe 's/\\[|\\]//g' | perl -pe 's/\\t/ | /g'"
   ]
  },
  {
   "cell_type": "markdown",
   "metadata": {},
   "source": [
    "S1 | E1 | S2 | E2 | LEN 1 | LEN 2 | % IDY | LEN R | LEN Q | COV R | COV Q | TAGS\n",
    "---|----|----|----|-------|-------|-------|-------|-------|-------|-------|-----\n",
    "101 | 1877 | 1777 | 1 | 1777 | 1777 | 96.17 | 1877 | 1779 | 94.67 | 99.89 | HA-h3n2-70 | HA-h3n2-90\n",
    "101 | 1142 | 1042 | 1 | 1042 | 1042 | 97.79 | 1142 | 1045 | 91.24 | 99.71 | MP-h3n2-70 | MP-h3n2-90\n",
    "1 | 1483 | 1 | 1482 | 1483 | 1482 | 97.03 | 1483 | 1486 | 100.00 | 99.73 | NA-h3n2-70 | NA-h3n2-90\n",
    "128 | 1707 | 78 | 1658 | 1580 | 1581 | 98.48 | 1711 | 1674 | 92.34 | 94.44 | NP-h3n2-70 | NP-h3n2-90\n",
    "1 | 909 | 4 | 912 | 909 | 909 | 98.24 | 1032 | 1012 | 88.08 | 89.82 | NS-h3n2-70 | NS-h3n2-90\n",
    "1 | 2172 | 2 | 2173 | 2172 | 2172 | 96.87 | 2172 | 2254 | 100.00 | 96.36 | PA-h3n2-70 | PA-h3n2-90\n",
    "34 | 2394 | 3 | 2363 | 2361 | 2361 | 97.29 | 2396 | 2363 | 98.54 | 99.92 | PB1-h3n2-70 | PB1-h3n2-90\n",
    "19 | 2374 | 1 | 2356 | 2356 | 2356 | 97.75 | 2500 | 2357 | 94.24 | 99.96 | PB2-h3n2-70 | PB2-h3n2-90"
   ]
  },
  {
   "cell_type": "code",
   "execution_count": null,
   "metadata": {
    "collapsed": true
   },
   "outputs": [],
   "source": [
    "nucmer  nucmer c3.flu-6-4-h3n2-70.fludb.top-seg-hits.contigs.fasta a39.flu-4-5.fludb.top-seg-hits.contigs.fasta\n",
    "delta-filter -l 500 out.delta > out.filter\n",
    "show-coords -clT out.filter | perl -pe 's/\\[|\\]//g' | perl -pe 's/\\t/ | /g'"
   ]
  },
  {
   "cell_type": "markdown",
   "metadata": {},
   "source": [
    "S1 | E1 | S2 | E2 | LEN 1 | LEN 2 | % IDY | LEN R | LEN Q | COV R | COV Q | TAGS\n",
    "---|----|----|----|-------|-------|-------|-------|-------|-------|-------|-----\n",
    "101 | 1877 | 1809 | 33 | 1777 | 1777 | 96.12 | 1877 | 1812 | 94.67 | 98.07 | HA-h3n2-70 | HA-h3n2-39\n",
    "101 | 1142 | 1045 | 4 | 1042 | 1042 | 97.89 | 1142 | 1064 | 91.24 | 97.93 | MP-h3n2-70 | MP-h3n2-39\n",
    "1 | 1482 | 1 | 1481 | 1482 | 1481 | 97.10 | 1483 | 1581 | 99.93 | 93.67 | NA-h3n2-70 | NA-h3n2-39\n",
    "128 | 1709 | 9 | 1591 | 1582 | 1583 | 98.36 | 1711 | 1591 | 92.46 | 99.50 | NP-h3n2-70 | NP-h3n2-39\n",
    "1 | 909 | 914 | 6 | 909 | 909 | 98.02 | 1032 | 920 | 88.08 | 98.80 | NS-h3n2-70 | NS-h3n2-39\n",
    "1 | 2172 | 2255 | 84 | 2172 | 2172 | 96.92 | 2172 | 2255 | 100.00 | 96.32 | PA-h3n2-70 | PA-h3n2-39\n",
    "34 | 2396 | 15 | 2377 | 2363 | 2363 | 97.04 | 2396 | 2378 | 98.62 | 99.37 | PB1-h3n2-70 | PB1-h3n2-39\n",
    "19 | 2374 | 2402 | 47 | 2356 | 2356 | 97.62 | 2500 | 2412 | 94.24 | 97.68 | PB2-h3n2-70 | PB2-h3n2-39\n",
    "\n",
    "H3N2-39 and H3N2-90 are very similar (every segment > 99% similar) so these will be the true test. The others aren't so similar and shoudl easily segregate out.\n",
    "\n",
    "* H3N2-90 vs H3N2-70\n",
    "    * HA 96.17\n",
    "    * NA 97.03\n",
    "* H3N2-70 vs H3N2-39\n",
    "    * HA 96.12\n",
    "    * NA 97.10\n",
    "* H3N2-90 vs H3N2-39\n",
    "    * HA 99.83\n",
    "    * NA 99.32"
   ]
  },
  {
   "cell_type": "markdown",
   "metadata": {},
   "source": [
    "## Map MinION to MiSeq Assembly\n",
    "\n",
    "This will allow us to see the exact discrepancies between the platforms without having a bias in the reference base, presumably."
   ]
  },
  {
   "cell_type": "markdown",
   "metadata": {},
   "source": [
    "### FluB"
   ]
  },
  {
   "cell_type": "code",
   "execution_count": null,
   "metadata": {
    "collapsed": true
   },
   "outputs": [],
   "source": [
    "cd /home/alan/projects/MinION-notebook/clinical-analysis/consensus-comparison/flub/minion-to-miseq-assembly\n",
    "\n",
    "ln -s ~/projects/MinION-notebook/miseq-assembly/flub/flub-11-9-blast-hits-assembly/fluB.11-9-top-seg-hits.full-segs.contigs.fasta\n",
    "ln -s ~/projects/MinION-notebook/raw-data/MinION/11-9/flu-11-9.2d.fastq\n",
    "\n",
    "bwa index fluB.11-9-top-seg-hits.full-segs.contigs.fasta\n",
    "bwa mem -t 30 -x ont2d fluB.11-9-top-seg-hits.full-segs.contigs.fasta flu-11-9.2d.fastq > flu-11-9.miseq-assembly.sam\n",
    "\n",
    "samtools view -b -o flu-11-9.miseq-assembly.bam flu-11-9.miseq-assembly.sam\n",
    "samtools sort -o flu-11-9.miseq-assembly.sort.bam flu-11-9.miseq-assembly.bam \n",
    "samtools index flu-11-9.miseq-assembly.sort.bam\n",
    "\n",
    "rm flu-11-9.miseq-assembly.bam flu-11-9.miseq-assembly.sam\n",
    "\n",
    "for i in HA NA NS NP MP PA PB1 PB2; do grep -A1 --no-group-separator $i fluB.11-9-top-seg-hits.full-segs.contigs.fasta \\\n",
    "> $i.fasta && python ~/projects/MinION-notebook/scripts/bamfile_consensus_generate.py flu-11-9.miseq-assembly.sort.bam $i \\\n",
    ">> $i.fasta && muscle -quiet -in $i.fasta -out $i.aln && python ~/projects/MinION-notebook/scripts/pairwise-pid.py \\\n",
    "$i.aln fasta; done"
   ]
  },
  {
   "cell_type": "markdown",
   "metadata": {},
   "source": [
    "RefName | RefLen | #Variants | #Deletions\n",
    "--------|--------|-----------|-----------\n",
    "HA | 1905 | 0 | 9\n",
    "NA | 1576 | 0 | 4\n",
    "NS | 1157 | 1 | 25\n",
    "NP | 1861 | 2 | 1\n",
    "MP | 1206 | 0 | 3\n",
    "PA | 2327 | 0 | 0\n",
    "PB1 | 2486 | 1 | 67\n",
    "PB2 | 2432 | 33 | 22\n",
    "\n",
    "This STILL didn't work, but at least we have solid proof that the MinION can't do this. It may be  fixable by exploring the method/paramter space for different aligners but who knows how long that'll take. \n",
    "\n",
    "The NS variant is at the end of the alignment where there's extremely low coverage.\n",
    "\n",
    "The NP variants are at the beginning of extremely poly(G) regions. \n",
    "![title](docs/FluB-NP-miseq-assembly-vs-minion-consensus.png)\n",
    "\n",
    "The PB1 variant has good coverage but is at the end of the alignment. \n"
   ]
  },
  {
   "cell_type": "markdown",
   "metadata": {},
   "source": [
    "### H3N2-39"
   ]
  },
  {
   "cell_type": "code",
   "execution_count": null,
   "metadata": {
    "collapsed": true
   },
   "outputs": [],
   "source": [
    "cd /home/alan/projects/MinION-notebook/clinical-analysis/consensus-comparison/h3n2-39/minion-to-miseq-assembly\n",
    "\n",
    "ln -s /home/alan/projects/MinION-notebook/miseq-assembly/h3n2-39/a39.flu-4-5.fludb.top-seg-hits.contigs.fasta\n",
    "ln -s ~/projects/MinION-notebook/raw-data/MinION/4-5/flu-4-5.2d.fastq\n",
    "\n",
    "bwa index a39.flu-4-5.fludb.top-seg-hits.contigs.fasta\n",
    "bwa mem -t 30 -x ont2d a39.flu-4-5.fludb.top-seg-hits.contigs.fasta flu-4-5.2d.fastq > flu-4-5.miseq-assembly.sam\n",
    "\n",
    "samtools view -b -o flu-4-5.miseq-assembly.bam flu-4-5.miseq-assembly.sam\n",
    "samtools sort -o flu-4-5.miseq-assembly.sort.bam flu-4-5.miseq-assembly.bam \n",
    "samtools index flu-4-5.miseq-assembly.sort.bam\n",
    "\n",
    "rm flu-4-5.miseq-assembly.bam flu-4-5.miseq-assembly.sam\n",
    "\n",
    "for i in HA NA NS NP MP PA PB1 PB2; do grep -A1 --no-group-separator $i a39.flu-4-5.fludb.top-seg-hits.contigs.fasta \\\n",
    "> $i.fasta && python ~/projects/MinION-notebook/scripts/bamfile_consensus_generate.py flu-4-5.miseq-assembly.sort.bam $i \\\n",
    ">> $i.fasta && muscle -quiet -in $i.fasta -out $i.aln && python ~/projects/MinION-notebook/scripts/pairwise-pid.py \\\n",
    "$i.aln fasta; done"
   ]
  },
  {
   "cell_type": "markdown",
   "metadata": {},
   "source": [
    "Seg | Len | Reads Mapped \n",
    "----|-----|-------------\n",
    "HA | 1812 | 21\n",
    "MP | 1064 | 65\n",
    "NA | 1581 | 11\n",
    "NP | 1591 | 12\n",
    "NS | 920 | 8\n",
    "PA | 2255 | 9\n",
    "PB1 | 2378 | 10\n",
    "PB2 | 2412 | 3\n",
    "\n",
    "RefName | RefLen | #Variants | #Deletions\n",
    "--------|--------|-----------|-----------\n",
    "HA | 1812 | 2 | 26\n",
    "NA | 1581 | 1 | 106\n",
    "NS | 920 | 2 | 17\n",
    "NP | 1591 | 0 | 15\n",
    "MP | 1064 | 0 | 9\n",
    "PA | 2255 | 9 | 36\n",
    "PB1 | 2378 | 23 | 46\n",
    "PB2 | 2412 | 87 | 85"
   ]
  },
  {
   "cell_type": "markdown",
   "metadata": {},
   "source": [
    "### H3N2-70"
   ]
  },
  {
   "cell_type": "code",
   "execution_count": null,
   "metadata": {
    "collapsed": true
   },
   "outputs": [],
   "source": [
    "cd /home/alan/projects/MinION-notebook/clinical-analysis/consensus-comparison/h3n2-70/minion-to-miseq-assembly\n",
    "\n",
    "ln -s /home/alan/projects/MinION-notebook/miseq-assembly/h3n2-39/a39.flu-4-5.fludb.top-seg-hits.contigs.fasta\n",
    "ln -s ~/projects/MinION-notebook/raw-data/MinION/4-5/flu-4-5.2d.fastq\n",
    "\n",
    "bwa index a39.flu-4-5.fludb.top-seg-hits.contigs.fasta\n",
    "bwa mem -t 30 -x ont2d a39.flu-4-5.fludb.top-seg-hits.contigs.fasta flu-4-5.2d.fastq > flu-4-5.miseq-assembly.sam\n",
    "\n",
    "samtools view -b -o flu-4-5.miseq-assembly.bam flu-4-5.miseq-assembly.sam\n",
    "samtools sort -o flu-4-5.miseq-assembly.sort.bam flu-4-5.miseq-assembly.bam \n",
    "samtools index flu-4-5.miseq-assembly.sort.bam\n",
    "\n",
    "rm flu-4-5.miseq-assembly.bam flu-4-5.miseq-assembly.sam\n",
    "\n",
    "for i in HA NA NS NP MP PA PB1 PB2; do grep -A1 --no-group-separator $i a39.flu-4-5.fludb.top-seg-hits.contigs.fasta \\\n",
    "> $i.fasta && python ~/projects/MinION-notebook/scripts/bamfile_consensus_generate.py flu-4-5.miseq-assembly.sort.bam $i \\\n",
    ">> $i.fasta && muscle -quiet -in $i.fasta -out $i.aln && python ~/projects/MinION-notebook/scripts/pairwise-pid.py \\\n",
    "$i.aln fasta; done"
   ]
  },
  {
   "cell_type": "markdown",
   "metadata": {},
   "source": [
    "Seg | Len | Reads Mapped \n",
    "----|-----|-------------\n",
    "HA | 1812 | 21\n",
    "MP | 1064 | 65\n",
    "NA | 1581 | 11\n",
    "NP | 1591 | 12\n",
    "NS | 920 | 8\n",
    "PA | 2255 | 9\n",
    "PB1 | 2378 | 10\n",
    "PB2 | 2412 | 3\n",
    "\n",
    "RefName | RefLen | #Variants | #Deletions\n",
    "--------|--------|-----------|-----------\n",
    "HA | 1812 | 2 | 26\n",
    "NA | 1581 | 1 | 106\n",
    "NS | 920 | 2 | 17\n",
    "NP | 1591 | 0 | 15\n",
    "MP | 1064 | 0 | 9\n",
    "PA | 2255 | 9 | 36\n",
    "PB1 | 2378 | 23 | 46\n",
    "PB2 | 2412 | 87 | 85"
   ]
  },
  {
   "cell_type": "markdown",
   "metadata": {},
   "source": [
    "### H1N1"
   ]
  },
  {
   "cell_type": "code",
   "execution_count": null,
   "metadata": {
    "collapsed": true
   },
   "outputs": [],
   "source": [
    "cd /home/alan/projects/MinION-notebook/clinical-analysis/consensus-comparison/h1n1/minion-to-miseq-assembly\n",
    "\n",
    "bwa index a1.flu-6-4-h1n1.fludb.top-seg-hits.contigs.fasta\n",
    "bwa mem -t 30 -x ont2d a1.flu-6-4-h1n1.fludb.top-seg-hits.contigs.fasta flu-6-4.2d.fastq >  flu-6-4.miseq-assembly.sam\n",
    "\n",
    "samtools view -b -o  flu-6-4.miseq-assembly.bam  flu-6-4.miseq-assembly.sam\n",
    "samtools sort -o  flu-6-4.miseq-assembly.sort.bam  flu-6-4.miseq-assembly.bam \n",
    "samtools index  flu-6-4.miseq-assembly.sort.bam\n",
    "\n",
    "rm  flu-6-4.miseq-assembly.bam  flu-6-4.miseq-assembly.sam\n",
    "\n",
    "for i in HA NA NS NP MP PA PB1 PB2; do grep -A1 --no-group-separator $i a1.flu-6-4-h1n1.fludb.top-seg-hits.contigs.fasta \\\n",
    "> $i.fasta && python ~/projects/MinION-notebook/scripts/bamfile_consensus_generate.py  flu-6-4.miseq-assembly.sort.bam $i \\\n",
    ">> $i.fasta && muscle -quiet -in $i.fasta -out $i.aln && python ~/projects/MinION-notebook/scripts/pairwise-pid.py \\\n",
    "$i.aln fasta; done"
   ]
  },
  {
   "cell_type": "markdown",
   "metadata": {},
   "source": [
    "Seg | Len | Reads Mapped \n",
    "----|-----|-------------\n",
    "HA | 1812 | 21\n",
    "MP | 1064 | 65\n",
    "NA | 1581 | 11\n",
    "NP | 1591 | 12\n",
    "NS | 920 | 8\n",
    "PA | 2255 | 9\n",
    "PB1 | 2378 | 10\n",
    "PB2 | 2412 | 3\n",
    "\n",
    "RefName | RefLen | #Variants | #Deletions\n",
    "--------|--------|-----------|-----------\n",
    "HA | 1812 | 2 | 26\n",
    "NA | 1581 | 1 | 106\n",
    "NS | 920 | 2 | 17\n",
    "NP | 1591 | 0 | 15\n",
    "MP | 1064 | 0 | 9\n",
    "PA | 2255 | 9 | 36\n",
    "PB1 | 2378 | 23 | 46\n",
    "PB2 | 2412 | 87 | 85"
   ]
  }
 ],
 "metadata": {
  "kernelspec": {
   "display_name": "Bash",
   "language": "bash",
   "name": "bash"
  },
  "language_info": {
   "codemirror_mode": "shell",
   "file_extension": ".sh",
   "mimetype": "text/x-sh",
   "name": "bash"
  },
  "latex_envs": {
   "bibliofile": "biblio.bib",
   "cite_by": "apalike",
   "current_citInitial": 1,
   "eqLabelWithNumbers": true,
   "eqNumInitial": 0
  },
  "toc": {
   "toc_cell": true,
   "toc_number_sections": true,
   "toc_threshold": "4",
   "toc_window_display": false
  }
 },
 "nbformat": 4,
 "nbformat_minor": 0
}
