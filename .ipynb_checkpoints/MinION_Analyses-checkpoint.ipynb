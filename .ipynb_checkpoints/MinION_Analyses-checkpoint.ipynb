{
 "cells": [
  {
   "cell_type": "markdown",
   "metadata": {
    "heading_collapsed": false,
    "level": 1,
    "toc": "true"
   },
   "source": [
    "# Table of Contents\n",
    " <p><div class=\"lev1\"><a href=\"#Raw-Data\"><span class=\"toc-item-num\">1 - </span>Raw Data</a></div><div class=\"lev2\"><a href=\"#MiSeq-Data\"><span class=\"toc-item-num\">1.1 - </span>MiSeq Data</a></div><div class=\"lev2\"><a href=\"#Ion-Torrent-Data\"><span class=\"toc-item-num\">1.2 - </span>Ion Torrent Data</a></div><div class=\"lev2\"><a href=\"#PacBio-Data\"><span class=\"toc-item-num\">1.3 - </span>PacBio Data</a></div><div class=\"lev2\"><a href=\"#MinION-Data\"><span class=\"toc-item-num\">1.4 - </span>MinION Data</a></div><div class=\"lev1\"><a href=\"#Quads-Analysis\"><span class=\"toc-item-num\">2 - </span>Quads Analysis</a></div><div class=\"lev2\"><a href=\"#Index-References\"><span class=\"toc-item-num\">2.1 - </span>Index References</a></div><div class=\"lev2\"><a href=\"#MiSeq-Alignment\"><span class=\"toc-item-num\">2.2 - </span>MiSeq Alignment</a></div><div class=\"lev3\"><a href=\"#FluB\"><span class=\"toc-item-num\">2.2.1 - </span>FluB</a></div><div class=\"lev3\"><a href=\"#Flu-Mix\"><span class=\"toc-item-num\">2.2.2 - </span>Flu Mix</a></div><div class=\"lev3\"><a href=\"#H1N1\"><span class=\"toc-item-num\">2.2.3 - </span>H1N1</a></div><div class=\"lev3\"><a href=\"#H3N2\"><span class=\"toc-item-num\">2.2.4 - </span>H3N2</a></div><div class=\"lev3\"><a href=\"#Plasmid\"><span class=\"toc-item-num\">2.2.5 - </span>Plasmid</a></div><div class=\"lev3\"><a href=\"#Generate-Consensus\"><span class=\"toc-item-num\">2.2.6 - </span>Generate Consensus</a></div><div class=\"lev2\"><a href=\"#Ion-Torrent-Alignment\"><span class=\"toc-item-num\">2.3 - </span>Ion Torrent Alignment</a></div><div class=\"lev2\"><a href=\"#PacBio-Alignment\"><span class=\"toc-item-num\">2.4 - </span>PacBio Alignment</a></div><div class=\"lev2\"><a href=\"#MinION-Alignment\"><span class=\"toc-item-num\">2.5 - </span>MinION Alignment</a></div><div class=\"lev1\"><a href=\"#Clinical-Samples\"><span class=\"toc-item-num\">3 - </span>Clinical Samples</a></div><div class=\"lev2\"><a href=\"#NGM-LR\"><span class=\"toc-item-num\">3.1 - </span>NGM-LR</a></div><div class=\"lev1\"><a href=\"#Error-Correction\"><span class=\"toc-item-num\">4 - </span>Error Correction</a></div><div class=\"lev2\"><a href=\"#Falcon-sense\"><span class=\"toc-item-num\">4.1 - </span>Falcon-sense</a></div><div class=\"lev2\"><a href=\"#Nanopolish\"><span class=\"toc-item-num\">4.2 - </span>Nanopolish</a></div><div class=\"lev3\"><a href=\"#4-20\"><span class=\"toc-item-num\">4.2.1 - </span>4-20</a></div><div class=\"lev3\"><a href=\"#6-4\"><span class=\"toc-item-num\">4.2.2 - </span>6-4</a></div><div class=\"lev3\"><a href=\"#8-13\"><span class=\"toc-item-num\">4.2.3 - </span>8-13</a></div><div class=\"lev3\"><a href=\"#11-9\"><span class=\"toc-item-num\">4.2.4 - </span>11-9</a></div><div class=\"lev4\"><a href=\"#Blast-Consensus-Analysis\"><span class=\"toc-item-num\">4.2.4.1 - </span>Blast Consensus Analysis</a></div><div class=\"lev3\"><a href=\"#Ebola-Virus-Workflow\"><span class=\"toc-item-num\">4.2.5 - </span>Ebola Virus Workflow</a></div><div class=\"lev4\"><a href=\"#MarginAlign\"><span class=\"toc-item-num\">4.2.5.1 - </span>MarginAlign</a></div><div class=\"lev1\"><a href=\"#MiSeq-Assembly\"><span class=\"toc-item-num\">5 - </span>MiSeq Assembly</a></div><div class=\"lev2\"><a href=\"#Velvet\"><span class=\"toc-item-num\">5.1 - </span>Velvet</a></div>"
   ]
  },
  {
   "cell_type": "markdown",
   "metadata": {
    "heading_collapsed": true,
    "level": 1
   },
   "source": [
    "# Raw Data"
   ]
  },
  {
   "cell_type": "markdown",
   "metadata": {
    "collapsed": true,
    "level": 7
   },
   "source": [
    "The directory \"/home/alan/projects/MinION-notebook/raw-data\" holds the raw data used in the analyses."
   ]
  },
  {
   "cell_type": "markdown",
   "metadata": {
    "heading_collapsed": true,
    "level": 2
   },
   "source": [
    "## MiSeq Data"
   ]
  },
  {
   "cell_type": "code",
   "execution_count": 9,
   "metadata": {
    "ExecuteTime": {
     "end_time": "2016-02-17T15:11:38.600616",
     "start_time": "2016-02-17T15:11:38.393134"
    },
    "collapsed": false,
    "level": 7
   },
   "outputs": [
    {
     "name": "stdout",
     "output_type": "stream",
     "text": [
      "flub-standard.r1.fastq.gz     h1n1-standard.r2.fastq.gz\r\n",
      "flub-standard.r2.fastq.gz     h3n2-standard.r1.fastq.gz\r\n",
      "flu-mix-standard.fastq\t      h3n2-standard.r2.fastq.gz\r\n",
      "flu-mix-standard.r1.fastq.gz  plasmid.r1.fastq.gz\r\n",
      "flu-mix-standard.r2.fastq.gz  plasmid.r2.fastq.gz\r\n",
      "h1n1-standard.r1.fastq.gz\r\n"
     ]
    }
   ],
   "source": [
    "ls MiSeq/lab-strains"
   ]
  },
  {
   "cell_type": "markdown",
   "metadata": {
    "level": 7
   },
   "source": [
    "All are self explanatory with the flu-mix being a mix of all three subtypes and the plasmid being HA?"
   ]
  },
  {
   "cell_type": "code",
   "execution_count": 10,
   "metadata": {
    "ExecuteTime": {
     "end_time": "2016-02-17T15:13:00.802241",
     "start_time": "2016-02-17T15:13:00.593833"
    },
    "collapsed": false,
    "level": 7
   },
   "outputs": [
    {
     "name": "stdout",
     "output_type": "stream",
     "text": [
      "a1.r1.fastq.gz\tb1.r1.fastq.gz\tc2.r1.fastq.gz\td3.r1.fastq.gz\tf1.r1.fastq.gz\r\n",
      "a1.r2.fastq.gz\tb1.r2.fastq.gz\tc2.r2.fastq.gz\td3.r2.fastq.gz\tf1.r2.fastq.gz\r\n",
      "a2.r1.fastq.gz\tb2.r1.fastq.gz\tc3.r1.fastq.gz\te1.r1.fastq.gz\tf2.r1.fastq.gz\r\n",
      "a2.r2.fastq.gz\tb2.r2.fastq.gz\tc3.r2.fastq.gz\te1.r2.fastq.gz\tf2.r2.fastq.gz\r\n",
      "a3.r1.fastq.gz\tb3.r1.fastq.gz\td1.r1.fastq.gz\te2.r1.fastq.gz\tf3.r1.fastq.gz\r\n",
      "a3.r2.fastq.gz\tb3.r2.fastq.gz\td1.r2.fastq.gz\te2.r2.fastq.gz\tf3.r2.fastq.gz\r\n",
      "a4.r1.fastq.gz\tc1.r1.fastq.gz\td2.r1.fastq.gz\te3.r1.fastq.gz\r\n",
      "a4.r2.fastq.gz\tc1.r2.fastq.gz\td2.r2.fastq.gz\te3.r2.fastq.gz\r\n"
     ]
    }
   ],
   "source": [
    "ls MiSeq/clinical-strains"
   ]
  },
  {
   "cell_type": "markdown",
   "metadata": {
    "level": 7
   },
   "source": [
    "a1 = H1N1\n",
    "c1 = H3N2-70\n",
    "f1 = H3N2-90\n",
    "f3 = FluB\n",
    "\n",
    "The rest were not used in any MinION analysis"
   ]
  },
  {
   "cell_type": "markdown",
   "metadata": {
    "level": 2
   },
   "source": [
    "## Ion Torrent Data"
   ]
  },
  {
   "cell_type": "markdown",
   "metadata": {},
   "source": [
    "All three subtypes were sequenced together."
   ]
  },
  {
   "cell_type": "code",
   "execution_count": 12,
   "metadata": {
    "ExecuteTime": {
     "end_time": "2016-02-17T15:21:06.142816",
     "start_time": "2016-02-17T15:21:05.935278"
    },
    "collapsed": false,
    "level": 7
   },
   "outputs": [
    {
     "name": "stdout",
     "output_type": "stream",
     "text": [
      "R_2015_05_09_01_13_59_user_SN2-44-Ghedin_400_bp.fastq\r\n"
     ]
    }
   ],
   "source": [
    "ls /home/alan/projects/MinION-notebook/raw-data/IonTorrent"
   ]
  },
  {
   "cell_type": "markdown",
   "metadata": {
    "level": 2
   },
   "source": [
    "## PacBio Data"
   ]
  },
  {
   "cell_type": "markdown",
   "metadata": {},
   "source": [
    "All three subtypes were sequenced together."
   ]
  },
  {
   "cell_type": "code",
   "execution_count": 18,
   "metadata": {
    "ExecuteTime": {
     "end_time": "2016-02-18T11:52:30.744928",
     "start_time": "2016-02-18T11:52:30.536682"
    },
    "collapsed": false,
    "level": 7,
    "run_control": {
     "marked": false
    }
   },
   "outputs": [
    {
     "name": "stdout",
     "output_type": "stream",
     "text": [
      "ls: cannot access PacBio: No such file or directory\r\n"
     ]
    }
   ],
   "source": [
    "ls /home/alan/projects/MinION-notebook/raw-data/PacBio"
   ]
  },
  {
   "cell_type": "markdown",
   "metadata": {
    "level": 2
   },
   "source": [
    "## MinION Data"
   ]
  },
  {
   "cell_type": "markdown",
   "metadata": {},
   "source": [
    "There were four separate runs:\n",
    "1) 4-20\n",
    "    * lab strain H1N1\n",
    "    * lab strain FluB\n",
    "    * lab strain H3N2\n",
    "2) 6-4\n",
    "    * clinical pH1N1 (a1)\n",
    "    * clinical FluB 14 (f3)\n",
    "    * clinical H3N2-70 (c1)\n",
    "3) 8-13 - to generate more data to obtain better consensus\n",
    "    * clinical pH1N1 (a1)\n",
    "        * spike-in purified, non-size selected sample to compensate for loss of M/NS\n",
    "    * clinical FluB 14 NP Only (f3)\n",
    "        * This was selected for because the rest of segments were well covered\n",
    "    * clinical H3N2-90 (f1)\n",
    "    * lab strain FluB HA plasmid\n",
    "4) 11-9\n",
    "    * clinical FluB 14 (f3)\n",
    "    * lab strain H1N1\n",
    "    * lab strain H3N2\n",
    "    * lab strain FluB PB1 plasmid\n",
    "        * Used to resolve a putative sequence-specific error seen in SK005\n",
    "\n",
    "All but the 11-9 run were sequenced using SK005 and using the older basecalling algorithm. These data were rebasecalled using the updated algorithm, hence anyhting denoting \"rebasecalled\" in the name. The rebasecalled data are the only data considered in the analysis."
   ]
  },
  {
   "cell_type": "code",
   "execution_count": 17,
   "metadata": {
    "ExecuteTime": {
     "end_time": "2016-02-17T15:52:28.668696",
     "start_time": "2016-02-17T15:49:42.185638"
    },
    "collapsed": false,
    "level": 7
   },
   "outputs": [
    {
     "name": "stdout",
     "output_type": "stream",
     "text": []
    }
   ],
   "source": [
    "cd /home/alan/projects/MinION-notebook/raw-data/MinION/4-20\n",
    "poretools fastq --type 2D /data1/share/raw-sequencing-data/MinION/Flu_4_20_rebasecalled/pass > flu-4-20.2d.fastq\n",
    "poretools fastq --type 2D /data1/share/raw-sequencing-data/MinION/Flu_4_21_rebasecalled/pass > flu-4-21.2d.fastq\n",
    "cat flu-4-20.2d.fastq flu-4-21.2d.fastq > flu-4-20.fastq\n",
    "rm flu-4-20.2d.fastq flu-4-21.2d.fastq"
   ]
  },
  {
   "cell_type": "code",
   "execution_count": 18,
   "metadata": {
    "ExecuteTime": {
     "end_time": "2016-02-17T15:54:40.766528",
     "start_time": "2016-02-17T15:52:28.671140"
    },
    "collapsed": false,
    "level": 7
   },
   "outputs": [
    {
     "name": "stdout",
     "output_type": "stream",
     "text": []
    }
   ],
   "source": [
    "cd /home/alan/projects/MinION-notebook/raw-data/MinION/6-4\n",
    "poretools fastq --type 2D /data1/share/raw-sequencing-data/MinION/Flu_6_4_clinical/rebasecalled/pass > flu-6-4.2d.fastq"
   ]
  },
  {
   "cell_type": "code",
   "execution_count": 19,
   "metadata": {
    "ExecuteTime": {
     "end_time": "2016-02-17T15:55:09.374927",
     "start_time": "2016-02-17T15:54:40.768896"
    },
    "collapsed": false,
    "level": 7
   },
   "outputs": [
    {
     "name": "stdout",
     "output_type": "stream",
     "text": []
    }
   ],
   "source": [
    "cd /home/alan/projects/MinION-notebook/raw-data/MinION/8-13\n",
    "poretools fastq --type 2D /data1/share/raw-sequencing-data/MinION/Flu_8_13_clinical/rebasecalled/pass > flu-8-13.2d.fastq"
   ]
  },
  {
   "cell_type": "code",
   "execution_count": 20,
   "metadata": {
    "ExecuteTime": {
     "end_time": "2016-02-17T15:59:52.260832",
     "start_time": "2016-02-17T15:55:09.377391"
    },
    "collapsed": false,
    "level": 7
   },
   "outputs": [
    {
     "name": "stdout",
     "output_type": "stream",
     "text": []
    }
   ],
   "source": [
    "cd /home/alan/projects/MinION-notebook/raw-data/MinION/11-9\n",
    "poretools fastq --type 2D /data1/share/raw-sequencing-data/MinION/Flu_11_09_clinical/pass > flu-11-9.2d.fastq"
   ]
  },
  {
   "cell_type": "markdown",
   "metadata": {},
   "source": [
    "Convert all of the fastq files to fasta for future use."
   ]
  },
  {
   "cell_type": "code",
   "execution_count": null,
   "metadata": {
    "collapsed": true
   },
   "outputs": [],
   "source": [
    "cd /home/alan/projects/MinION-notebook/raw-data/MinION/ \n",
    "\n",
    "for i in $(ls */*fastq | perl -pe 's/q$//g'); do 1line-fasta.pl ${i}q > ${i}a; done"
   ]
  },
  {
   "cell_type": "markdown",
   "metadata": {
    "level": 1
   },
   "source": [
    "# Quads Analysis"
   ]
  },
  {
   "cell_type": "markdown",
   "metadata": {},
   "source": [
    "For the lab strains, each subtype was sequenced on the MinION, MiSeq, PacBio, and Ion Torrent. The purpose for this was to compare all four platforms for pros/cons as well as serving as a benchmark for the MinION's perfomance, specifically with Flu.\n",
    "\n",
    "The reference sequences are known so the analysis is straightforward:\n",
    "1) Align to the reference sequence\n",
    "2) Generate consensus sequence\n",
    "3) Compare consensus to the reference"
   ]
  },
  {
   "cell_type": "markdown",
   "metadata": {
    "heading_collapsed": true,
    "level": 2
   },
   "source": [
    "## Index References\n",
    "bwa mem, blasr, and bowtie2 are the aligners that were used. The reference sequences were indexed accordingly. These sequences are CDS only and the largest of the CDS are the ones chosen. In retrospect this may not have been ideal considering we have two single-molecule sequencing platforms but there were no noticeable problems with this analysis."
   ]
  },
  {
   "cell_type": "code",
   "execution_count": null,
   "metadata": {
    "ExecuteTime": {
     "end_time": "2016-02-17T16:39:37.771754",
     "start_time": "2016-02-17T16:39:36.519193"
    },
    "collapsed": false,
    "level": 7
   },
   "outputs": [],
   "source": [
    "cd /home/alan/projects/MinION-notebook/reference-sequences\n",
    "bowtie2-build quads-study-reference-sequence.fasta quads-study-reference-sequence.fasta\n",
    "\n",
    "bwa index quads-study-reference-sequence.fasta"
   ]
  },
  {
   "cell_type": "markdown",
   "metadata": {
    "heading_collapsed": false,
    "level": 2
   },
   "source": [
    "## MiSeq Alignment\n",
    "Miseq data were aligned to the sequenes using bowtie2."
   ]
  },
  {
   "cell_type": "markdown",
   "metadata": {},
   "source": [
    "### FluB"
   ]
  },
  {
   "cell_type": "code",
   "execution_count": 13,
   "metadata": {
    "ExecuteTime": {
     "end_time": "2016-02-18T11:18:43.370454",
     "start_time": "2016-02-18T11:12:43.803750"
    },
    "collapsed": false,
    "level": 7
   },
   "outputs": [
    {
     "name": "stdout",
     "output_type": "stream",
     "text": [
      "854480 reads; of these:\r\n",
      "  854480 (100.00%) were paired; of these:\r\n",
      "    418476 (48.97%) aligned concordantly 0 times\r\n",
      "    429292 (50.24%) aligned concordantly exactly 1 time\r\n",
      "    6712 (0.79%) aligned concordantly >1 times\r\n",
      "    ----\r\n",
      "    418476 pairs aligned concordantly 0 times; of these:\r\n",
      "      307925 (73.58%) aligned discordantly 1 time\r\n",
      "    ----\r\n",
      "    110551 pairs aligned 0 times concordantly or discordantly; of these:\r\n",
      "      221102 mates make up the pairs; of these:\r\n",
      "        212999 (96.34%) aligned 0 times\r\n",
      "        5156 (2.33%) aligned exactly 1 time\r\n",
      "        2947 (1.33%) aligned >1 times\r\n",
      "87.54% overall alignment rate\r\n",
      "[bam_sort_core] merging from 3 files...\r\n"
     ]
    }
   ],
   "source": [
    "cd /home/alan/projects/MinION-notebook/quads-analysis/miseq\n",
    "\n",
    "i=\"flub-standard\"\n",
    "\n",
    "bowtie2 \\\n",
    "-p 40 \\\n",
    "--very-sensitive-local \\\n",
    "-x /home/alan/projects/MinION-notebook/reference-sequences/quads-study-reference-sequence.fasta \\\n",
    "-1 $i.r1.fastq.gz \\\n",
    "-2 $i.r2.fastq.gz \\\n",
    "-S $i.sam\n",
    "\n",
    "samtools view -b -o $i.bam $i.sam \n",
    "samtools sort -o $i.sort.bam $i.bam\n",
    "samtools index $i.sort.bam\n",
    "\n",
    "rm $i.bam $i.sam "
   ]
  },
  {
   "cell_type": "markdown",
   "metadata": {},
   "source": [
    "### Flu Mix"
   ]
  },
  {
   "cell_type": "code",
   "execution_count": 14,
   "metadata": {
    "ExecuteTime": {
     "end_time": "2016-02-18T11:52:30.532832",
     "start_time": "2016-02-18T11:49:22.400223"
    },
    "collapsed": false,
    "level": 7,
    "run_control": {
     "marked": false
    }
   },
   "outputs": [
    {
     "name": "stdout",
     "output_type": "stream",
     "text": [
      "1946342 reads; of these:\r\n",
      "  1946342 (100.00%) were paired; of these:\r\n",
      "    610140 (31.35%) aligned concordantly 0 times\r\n",
      "    975044 (50.10%) aligned concordantly exactly 1 time\r\n",
      "    361158 (18.56%) aligned concordantly >1 times\r\n",
      "    ----\r\n",
      "    610140 pairs aligned concordantly 0 times; of these:\r\n",
      "      433170 (71.00%) aligned discordantly 1 time\r\n",
      "    ----\r\n",
      "    176970 pairs aligned 0 times concordantly or discordantly; of these:\r\n",
      "      353940 mates make up the pairs; of these:\r\n",
      "        100716 (28.46%) aligned 0 times\r\n",
      "        24490 (6.92%) aligned exactly 1 time\r\n",
      "        228734 (64.63%) aligned >1 times\r\n",
      "97.41% overall alignment rate\r\n",
      "[bam_sort_core] merging from 6 files...\r\n"
     ]
    }
   ],
   "source": [
    "cd /home/alan/projects/MinION-notebook/quads-analysis/miseq\n",
    "\n",
    "i=\"flu-mix-standard\"\n",
    "\n",
    "bowtie2 \\\n",
    "-p 40 \\\n",
    "--very-sensitive-local \\\n",
    "-x /home/alan/projects/MinION-notebook/reference-sequences/quads-study-reference-sequence.fasta \\\n",
    "-1 $i.r1.fastq.gz \\\n",
    "-2 $i.r2.fastq.gz \\\n",
    "-S $i.sam\n",
    "\n",
    "samtools view -b -o $i.bam $i.sam \n",
    "samtools sort -o $i.sort.bam $i.bam\n",
    "samtools index $i.sort.bam\n",
    "\n",
    "rm $i.bam $i.sam "
   ]
  },
  {
   "cell_type": "markdown",
   "metadata": {},
   "source": [
    "### H1N1"
   ]
  },
  {
   "cell_type": "code",
   "execution_count": 15,
   "metadata": {
    "ExecuteTime": {
     "end_time": "2016-02-18T11:52:30.532832",
     "start_time": "2016-02-18T11:49:22.400223"
    },
    "collapsed": false,
    "level": 7,
    "run_control": {
     "marked": false
    }
   },
   "outputs": [
    {
     "name": "stdout",
     "output_type": "stream",
     "text": [
      "596992 reads; of these:\r\n",
      "  596992 (100.00%) were paired; of these:\r\n",
      "    177727 (29.77%) aligned concordantly 0 times\r\n",
      "    265099 (44.41%) aligned concordantly exactly 1 time\r\n",
      "    154166 (25.82%) aligned concordantly >1 times\r\n",
      "    ----\r\n",
      "    177727 pairs aligned concordantly 0 times; of these:\r\n",
      "      93028 (52.34%) aligned discordantly 1 time\r\n",
      "    ----\r\n",
      "    84699 pairs aligned 0 times concordantly or discordantly; of these:\r\n",
      "      169398 mates make up the pairs; of these:\r\n",
      "        63441 (37.45%) aligned 0 times\r\n",
      "        10086 (5.95%) aligned exactly 1 time\r\n",
      "        95871 (56.60%) aligned >1 times\r\n",
      "94.69% overall alignment rate\r\n",
      "[bam_sort_core] merging from 2 files...\r\n"
     ]
    }
   ],
   "source": [
    "cd /home/alan/projects/MinION-notebook/quads-analysis/miseq\n",
    "\n",
    "i=\"h1n1-standard\"\n",
    "\n",
    "bowtie2 \\\n",
    "-p 40 \\\n",
    "--very-sensitive-local \\\n",
    "-x /home/alan/projects/MinION-notebook/reference-sequences/quads-study-reference-sequence.fasta \\\n",
    "-1 $i.r1.fastq.gz \\\n",
    "-2 $i.r2.fastq.gz \\\n",
    "-S $i.sam\n",
    "\n",
    "samtools view -b -o $i.bam $i.sam \n",
    "samtools sort -o $i.sort.bam $i.bam\n",
    "samtools index $i.sort.bam\n",
    "\n",
    "rm $i.bam $i.sam "
   ]
  },
  {
   "cell_type": "markdown",
   "metadata": {},
   "source": [
    "### H3N2"
   ]
  },
  {
   "cell_type": "code",
   "execution_count": 16,
   "metadata": {
    "ExecuteTime": {
     "end_time": "2016-02-18T11:52:30.532832",
     "start_time": "2016-02-18T11:49:22.400223"
    },
    "collapsed": false,
    "level": 7,
    "run_control": {
     "marked": false
    }
   },
   "outputs": [
    {
     "name": "stdout",
     "output_type": "stream",
     "text": [
      "808888 reads; of these:\r\n",
      "  808888 (100.00%) were paired; of these:\r\n",
      "    346793 (42.87%) aligned concordantly 0 times\r\n",
      "    260496 (32.20%) aligned concordantly exactly 1 time\r\n",
      "    201599 (24.92%) aligned concordantly >1 times\r\n",
      "    ----\r\n",
      "    346793 pairs aligned concordantly 0 times; of these:\r\n",
      "      158665 (45.75%) aligned discordantly 1 time\r\n",
      "    ----\r\n",
      "    188128 pairs aligned 0 times concordantly or discordantly; of these:\r\n",
      "      376256 mates make up the pairs; of these:\r\n",
      "        187089 (49.72%) aligned 0 times\r\n",
      "        12367 (3.29%) aligned exactly 1 time\r\n",
      "        176800 (46.99%) aligned >1 times\r\n",
      "88.44% overall alignment rate\r\n",
      "[bam_sort_core] merging from 3 files...\r\n"
     ]
    }
   ],
   "source": [
    "cd /home/alan/projects/MinION-notebook/quads-analysis/miseq\n",
    "\n",
    "i=\"h3n2-standard\"\n",
    "\n",
    "bowtie2 \\\n",
    "-p 40 \\\n",
    "--very-sensitive-local \\\n",
    "-x /home/alan/projects/MinION-notebook/reference-sequences/quads-study-reference-sequence.fasta \\\n",
    "-1 $i.r1.fastq.gz \\\n",
    "-2 $i.r2.fastq.gz \\\n",
    "-S $i.sam\n",
    "samtools view -b -o $i.bam $i.sam \n",
    "samtools sort -o $i.sort.bam $i.bam\n",
    "samtools index $i.sort.bam\n",
    "\n",
    "rm $i.bam $i.sam "
   ]
  },
  {
   "cell_type": "markdown",
   "metadata": {},
   "source": [
    "### Plasmid"
   ]
  },
  {
   "cell_type": "code",
   "execution_count": 17,
   "metadata": {
    "ExecuteTime": {
     "end_time": "2016-02-18T11:52:30.532832",
     "start_time": "2016-02-18T11:49:22.400223"
    },
    "collapsed": false,
    "level": 7,
    "run_control": {
     "marked": false
    }
   },
   "outputs": [
    {
     "name": "stdout",
     "output_type": "stream",
     "text": [
      "588453 reads; of these:\r\n",
      "  588453 (100.00%) were paired; of these:\r\n",
      "    474297 (80.60%) aligned concordantly 0 times\r\n",
      "    60183 (10.23%) aligned concordantly exactly 1 time\r\n",
      "    53973 (9.17%) aligned concordantly >1 times\r\n",
      "    ----\r\n",
      "    474297 pairs aligned concordantly 0 times; of these:\r\n",
      "      30094 (6.34%) aligned discordantly 1 time\r\n",
      "    ----\r\n",
      "    444203 pairs aligned 0 times concordantly or discordantly; of these:\r\n",
      "      888406 mates make up the pairs; of these:\r\n",
      "        819432 (92.24%) aligned 0 times\r\n",
      "        15685 (1.77%) aligned exactly 1 time\r\n",
      "        53289 (6.00%) aligned >1 times\r\n",
      "30.37% overall alignment rate\r\n",
      "[bam_sort_core] merging from 2 files...\r\n"
     ]
    }
   ],
   "source": [
    "cd /home/alan/projects/MinION-notebook/quads-analysis/miseq\n",
    "\n",
    "i=\"plasmid\"\n",
    "\n",
    "bowtie2 \\\n",
    "-p 40 \\\n",
    "--very-sensitive-local \\\n",
    "-x /home/alan/projects/MinION-notebook/reference-sequences/quads-study-reference-sequence.fasta \\\n",
    "-1 $i.r1.fastq.gz \\\n",
    "-2 $i.r2.fastq.gz \\\n",
    "-S $i.sam\n",
    "\n",
    "samtools view -b -o $i.bam $i.sam \n",
    "samtools sort -o $i.sort.bam $i.bam\n",
    "samtools index $i.sort.bam\n",
    "\n",
    "rm $i.bam $i.sam "
   ]
  },
  {
   "cell_type": "markdown",
   "metadata": {},
   "source": [
    "### Generate Consensus"
   ]
  },
  {
   "cell_type": "code",
   "execution_count": 7,
   "metadata": {
    "ExecuteTime": {
     "end_time": "2016-02-18T16:14:15.553980",
     "start_time": "2016-02-18T15:45:41.413316"
    },
    "collapsed": false
   },
   "outputs": [
    {
     "name": "stdout",
     "output_type": "stream",
     "text": []
    }
   ],
   "source": [
    "cd /home/alan/projects/MinION-notebook/quads-analysis/miseq\n",
    "for bam in $(ls *bam | perl -pe 's/\\.sort\\.bam//g')\n",
    "do\n",
    "    for seg in $(samtools idxstats $bam.sort.bam | grep -v '*' | cut -f1)\n",
    "    do\n",
    "        python ~/projects/MinION-notebook/MinION-Flu-Analysis/scripts/bamfile_consensus_generate.py $bam.sort.bam $seg | perl -pe 's/^(>.+)/$1\\tmiseq lab strain consensus/g' > $bam.$seg.consensus.fasta\n",
    "    done\n",
    "done"
   ]
  },
  {
   "cell_type": "markdown",
   "metadata": {
    "heading_collapsed": false,
    "level": 2
   },
   "source": [
    "## Ion Torrent Alignment"
   ]
  },
  {
   "cell_type": "code",
   "execution_count": 19,
   "metadata": {
    "ExecuteTime": {
     "end_time": "2016-02-18T12:09:47.918455",
     "start_time": "2016-02-18T12:08:31.387994"
    },
    "collapsed": false,
    "level": 7
   },
   "outputs": [
    {
     "name": "stdout",
     "output_type": "stream",
     "text": [
      "552143 reads; of these:\r\n",
      "  552143 (100.00%) were unpaired; of these:\r\n",
      "    9061 (1.64%) aligned 0 times\r\n",
      "    412127 (74.64%) aligned exactly 1 time\r\n",
      "    130955 (23.72%) aligned >1 times\r\n",
      "98.36% overall alignment rate\r\n"
     ]
    }
   ],
   "source": [
    "cd /home/alan/projects/MinION-notebook/quads-analysis/ion\n",
    "bowtie2 \\\n",
    "-p 40 \\\n",
    "--very-sensitive-local \\\n",
    "-x /home/alan/projects/MinION-notebook/reference-sequences/quads-study-reference-sequence.fasta \\\n",
    "-U R_2015_05_09_01_13_59_user_SN2-44-Ghedin_400_bp.fastq \\\n",
    "-S ion-quads.sam\n",
    "\n",
    "samtools view -b -o ion-quads.bam ion-quads.sam \n",
    "samtools sort -o ion-quads.sort.bam ion-quads.bam\n",
    "samtools index ion-quads.sort.bam\n",
    "\n",
    "rm ion-quads.bam ion-quads.sam"
   ]
  },
  {
   "cell_type": "code",
   "execution_count": 8,
   "metadata": {
    "ExecuteTime": {
     "end_time": "2016-02-18T16:18:20.883208",
     "start_time": "2016-02-18T16:14:15.556365"
    },
    "collapsed": false
   },
   "outputs": [
    {
     "name": "stdout",
     "output_type": "stream",
     "text": []
    }
   ],
   "source": [
    "cd /home/alan/projects/MinION-notebook/quads-analysis/ion\n",
    "for i in $(samtools idxstats ion-quads.sort.bam | grep -v '*' | cut -f1)\n",
    "do\n",
    "    python ~/projects/MinION-notebook/MinION-Flu-Analysis/scripts/bamfile_consensus_generate.py ion-quads.sort.bam $i | perl -pe 's/^(>.+)/$1\\tion lab strain consensus/g' > ion-quads.$i.consensus.fasta\n",
    "done"
   ]
  },
  {
   "cell_type": "markdown",
   "metadata": {
    "heading_collapsed": false,
    "level": 2
   },
   "source": [
    "## PacBio Alignment"
   ]
  },
  {
   "cell_type": "code",
   "execution_count": 11,
   "metadata": {
    "ExecuteTime": {
     "end_time": "2016-02-18T16:21:03.645128",
     "start_time": "2016-02-18T16:20:52.608631"
    },
    "collapsed": false,
    "level": 7
   },
   "outputs": [
    {
     "name": "stdout",
     "output_type": "stream",
     "text": [
      "[INFO] 2016-02-18T16:20:53 [blasr] started.\r\n",
      "[INFO] 2016-02-18T16:20:58 [blasr] ended.\r\n"
     ]
    }
   ],
   "source": [
    "cd /home/alan/projects/MinION-notebook/quads-analysis/pacbio\n",
    "\n",
    "/opt/bioinformatics-software/minion-software/blasr/alignment/bin/blasr \\\n",
    "Elodie_sidebar_reads_of_insert.fastq \\\n",
    "/home/alan/projects/MinION-notebook/reference-sequences/quads-study-reference-sequence.fasta \\\n",
    "-sam \\\n",
    "-clipping soft \\\n",
    "-out pacbio-quads.sam \\\n",
    "-nproc 40 \\\n",
    "-bestn 1\n",
    "\n",
    "samtools view -o pacbio-quads.bam -b pacbio-quads.sam\n",
    "samtools sort -o pacbio-quads.sort.bam pacbio-quads.bam\n",
    "samtools index pacbio-quads.sort.bam\n",
    "\n",
    "rm  pacbio-quads.bam pacbio-quads.sam"
   ]
  },
  {
   "cell_type": "code",
   "execution_count": 12,
   "metadata": {
    "ExecuteTime": {
     "end_time": "2016-02-18T16:23:16.192075",
     "start_time": "2016-02-18T16:21:03.647604"
    },
    "collapsed": false
   },
   "outputs": [
    {
     "name": "stdout",
     "output_type": "stream",
     "text": []
    }
   ],
   "source": [
    "cd /home/alan/projects/MinION-notebook/quads-analysis/pacbio\n",
    "for i in $(samtools idxstats pacbio-quads.sort.bam | grep -v '*' | cut -f1)\n",
    "do\n",
    "    python ~/projects/MinION-notebook/MinION-Flu-Analysis/scripts/bamfile_consensus_generate.py pacbio-quads.sort.bam $i | perl -pe 's/^(>.+)/$1\\tpacbio lab strain consensus/g' > pacbio-quads.$i.consensus.fasta\n",
    "done"
   ]
  },
  {
   "cell_type": "markdown",
   "metadata": {},
   "source": [
    "## MinION Alignment"
   ]
  },
  {
   "cell_type": "code",
   "execution_count": 3,
   "metadata": {
    "ExecuteTime": {
     "end_time": "2016-02-18T14:09:51.109176",
     "start_time": "2016-02-18T14:09:33.565836"
    },
    "collapsed": false
   },
   "outputs": [
    {
     "name": "stdout",
     "output_type": "stream",
     "text": [
      "[M::bwa_idx_load_from_disk] read 0 ALT contigs\r\n",
      "[M::process] read 22086 sequences (27658004 bp)...\r\n",
      "[M::mem_process_seqs] Processed 22086 reads in 168.341 CPU sec, 4.943 real sec\r\n",
      "[main] Version: 0.7.12-r1039\r\n",
      "[main] CMD: bwa mem -t 40 -x ont2d /home/alan/projects/MinION-notebook/reference-sequences/quads-study-reference-sequence.fasta flu-4-20.fastq\r\n",
      "[main] Real time: 5.826 sec; CPU: 168.765 sec\r\n"
     ]
    }
   ],
   "source": [
    "cd /home/alan/projects/MinION-notebook/quads-analysis/minion\n",
    "\n",
    "bwa mem \\\n",
    "-t 40 \\\n",
    "-x ont2d /home/alan/projects/MinION-notebook/reference-sequences/quads-study-reference-sequence.fasta \\\n",
    "flu-4-20.fastq > minion-4-20-quads.sam\n",
    "\n",
    "samtools view -b -o minion-4-20-quads.bam minion-4-20-quads.sam\n",
    "samtools sort -o minion-4-20-quads.sort.bam minion-4-20-quads.bam\n",
    "samtools index minion-4-20-quads.sort.bam\n",
    "\n",
    "rm  minion-4-20-quads.bam minion-4-20-quads.sam"
   ]
  },
  {
   "cell_type": "markdown",
   "metadata": {},
   "source": [
    "The only lab strain segment in FluB of the 11-9 run is PB1, so discount all other FluB segments."
   ]
  },
  {
   "cell_type": "code",
   "execution_count": 4,
   "metadata": {
    "ExecuteTime": {
     "end_time": "2016-02-18T14:11:18.949997",
     "start_time": "2016-02-18T14:11:04.454059"
    },
    "collapsed": false
   },
   "outputs": [
    {
     "name": "stdout",
     "output_type": "stream",
     "text": [
      "[M::bwa_idx_load_from_disk] read 0 ALT contigs\r\n",
      "[M::process] read 13101 sequences (19362251 bp)...\r\n",
      "[M::mem_process_seqs] Processed 13101 reads in 91.651 CPU sec, 2.520 real sec\r\n",
      "[main] Version: 0.7.12-r1039\r\n",
      "[main] CMD: bwa mem -t 40 -x ont2d /home/alan/projects/MinION-notebook/reference-sequences/quads-study-reference-sequence.fasta flu-11-9.2d.fastq\r\n",
      "[main] Real time: 3.526 sec; CPU: 92.062 sec\r\n"
     ]
    }
   ],
   "source": [
    "bwa mem \\\n",
    "-t 40 \\\n",
    "-x ont2d /home/alan/projects/MinION-notebook/reference-sequences/quads-study-reference-sequence.fasta \\\n",
    "flu-11-9.2d.fastq > minion-11-9-quads.sam\n",
    "\n",
    "samtools view -b -o minion-11-9-quads.bam minion-11-9-quads.sam\n",
    "samtools sort -o minion-11-9-quads.sort.bam minion-11-9-quads.bam\n",
    "samtools index minion-11-9-quads.sort.bam\n",
    "\n",
    "rm  minion-11-9-quads.bam minion-11-9-quads.sam"
   ]
  },
  {
   "cell_type": "code",
   "execution_count": 13,
   "metadata": {
    "ExecuteTime": {
     "end_time": "2016-02-18T16:26:58.088680",
     "start_time": "2016-02-18T16:23:16.193686"
    },
    "collapsed": false
   },
   "outputs": [
    {
     "name": "stdout",
     "output_type": "stream",
     "text": []
    }
   ],
   "source": [
    "cd /home/alan/projects/MinION-notebook/quads-analysis/minion\n",
    "for bam in $(ls *bam | perl -pe 's/\\.sort\\.bam//g')\n",
    "do\n",
    "    for seg in $(samtools idxstats $bam.sort.bam | grep -v '*' | cut -f1)\n",
    "    do\n",
    "        python ~/projects/MinION-notebook/MinION-Flu-Analysis/scripts/bamfile_consensus_generate.py $bam.sort.bam $seg | perl -pe 's/^(>.+)/$1\\tminion lab strain consensus/g' > $bam.$seg.consensus.fasta\n",
    "    done\n",
    "done"
   ]
  },
  {
   "cell_type": "markdown",
   "metadata": {
    "level": 7
   },
   "source": [
    "# Clinical Samples"
   ]
  },
  {
   "cell_type": "markdown",
   "metadata": {},
   "source": [
    "The workflow agreed upon this far is as follows:\n",
    "\n",
    "1) Generate Flu-specific, full segment database with only unique sequences. This will cut down significantly on runtime but can possibly limit the analysis by not being comprehensive with every strain; this database will not inclued lab strains and incomplete segments.\n",
    "\n",
    "2) Obtain the top 10 hits per segment. This is alowing the possibility of mixed infections, whereas only using the top hit can bias the results.\n",
    "\n",
    "3) Map the MinION to the top 10 hits.\n",
    "\n",
    "4) Map the MiSeq to the top 10 hits.\n",
    "\n",
    "5) Generate consensus sequences for both platforms and compare the top hits. \n",
    "\n",
    "6) Cross fingers and hope that they're the same\n",
    "\n",
    "The original implementation was to just use the top hit, and it worked for most segments, though there are still problems with other segments."
   ]
  },
  {
   "cell_type": "code",
   "execution_count": null,
   "metadata": {
    "collapsed": true,
    "level": 7
   },
   "outputs": [],
   "source": []
  },
  {
   "cell_type": "markdown",
   "metadata": {},
   "source": [
    "### Blast MiSeq"
   ]
  },
  {
   "cell_type": "markdown",
   "metadata": {},
   "source": [
    "To identify whether or not the samples we have are mixed infections I'm going to blast thes MiSeq reads to see if that will shed light on anything."
   ]
  },
  {
   "cell_type": "code",
   "execution_count": null,
   "metadata": {
    "collapsed": true
   },
   "outputs": [],
   "source": [
    "cd /home/alan/projects/MinION-notebook/miseq-blast/flub\n",
    "\n",
    "python ~/projects/MinION-notebook/MinION-Flu-Analysis/scripts/interleave-fastq.py f3.r1.fastq f3.r2.fastq > f3.interleaved.fasta\n",
    "\n",
    "perl ~/projects/MinION-notebook/MinION-Flu-Analysis/scripts/1line-fasta.pl f3.interleaved.fastq > f3.interleaved.fasta\n",
    "\n"
   ]
  },
  {
   "cell_type": "markdown",
   "metadata": {
    "heading_collapsed": false,
    "level": 7
   },
   "source": [
    "## NGM-LR\n",
    "Aligner developed by Mike Schatz that apparently works well for MinION data.\n",
    "http://cibiv.github.io/NextGenMap/\n"
   ]
  },
  {
   "cell_type": "markdown",
   "metadata": {
    "level": 7
   },
   "source": [
    "# Error Correction"
   ]
  },
  {
   "cell_type": "markdown",
   "metadata": {},
   "source": [
    "After talking with Mike Schatz there are a few recomendations on what to do with the data.\n",
    "\n",
    "After talking to Lior, he recommended (for proof of concept) take any strain, mutate it 15%, and then do that several thousand times to see if that is producing the same results?\n",
    "\n",
    "Also, maybe try DADA2 (http://biorxiv.org/content/early/2015/08/06/024034). This is very similar in concept to what Zeke and I were doing."
   ]
  },
  {
   "cell_type": "markdown",
   "metadata": {
    "level": 7
   },
   "source": [
    "## Falcon-sense"
   ]
  },
  {
   "cell_type": "markdown",
   "metadata": {},
   "source": [
    "Falcon was generated for PacBio data and \n",
    "\n",
    "https://github.com/PacificBiosciences/FALCON\n",
    "\n",
    "Mike said it was a pain in the ass to install and he has never lied.\n"
   ]
  },
  {
   "cell_type": "code",
   "execution_count": null,
   "metadata": {
    "collapsed": true
   },
   "outputs": [],
   "source": []
  },
  {
   "cell_type": "markdown",
   "metadata": {
    "level": 7
   },
   "source": [
    "## Nanopolish"
   ]
  },
  {
   "cell_type": "markdown",
   "metadata": {},
   "source": [
    "https://github.com/jts/nanocorrect\n",
    "\n",
    "Instructions:\n",
    "\n",
    "First, build the DALIGNER database and compute alignments:\n",
    "\n",
    "./nanocorrect-overlap INPUT=reads.fasta NAME=nc\n",
    "\n",
    "INPUT is the path to your reads. The NAME variable is the prefix you want to use for the output files.\n",
    "\n",
    "You can correct a range of reads using the python script:\n",
    "\n",
    "python nanocorrect.py nc 1000:1020 > corrected.fasta\n",
    "\n",
    "You can correct all reads using the python script:\n",
    "\n",
    "python nanocorrect.py nc all > corrected.fasta\n",
    "\n",
    "The first argument must be the same as the NAME variable above. The second is the indices of the reads (in the original fasta) that you want to correct."
   ]
  },
  {
   "cell_type": "markdown",
   "metadata": {},
   "source": [
    "### 4-20"
   ]
  },
  {
   "cell_type": "code",
   "execution_count": 6,
   "metadata": {
    "ExecuteTime": {
     "end_time": "2016-02-18T14:26:18.040745",
     "start_time": "2016-02-18T14:26:07.946187"
    },
    "collapsed": false
   },
   "outputs": [
    {
     "name": "stdout",
     "output_type": "stream",
     "text": [
      "/opt/bioinformatics-software/minion-software/nanocorrect/nanocorrect-preprocess.pl flu-4-20.fasta > nc.pp.fasta\r\n",
      "fasta2DB nc nc.pp.fasta\r\n",
      "DBsplit -s50 nc\r\n",
      "DBdust nc\r\n",
      "HPCdaligner -t5 -mdust nc > HPCcommands.txt\r\n",
      "/bin/bash HPCcommands.txt\r\n",
      "daligner: Warning: (null) track is not a mask track.\r\n",
      "LAcat nc > nc.las\r\n",
      "rm nc.*.las\r\n"
     ]
    }
   ],
   "source": [
    "cd /home/alan/projects/MinION-notebook/error-correction/nanocorrect/4-20\n",
    "\n",
    "nanocorrect-overlap INPUT=flu-4-20.fasta NAME=nc\n",
    "\n",
    "python /opt/bioinformatics-software/minion-software/nanocorrect/nanocorrect.py nc all > flu-4-20.nc.fasta"
   ]
  },
  {
   "cell_type": "markdown",
   "metadata": {},
   "source": [
    "### 6-4"
   ]
  },
  {
   "cell_type": "code",
   "execution_count": null,
   "metadata": {
    "collapsed": true
   },
   "outputs": [],
   "source": [
    "cd /home/alan/projects/MinION-notebook/error-correction/nanocorrect/6-4\n",
    "\n",
    "nanocorrect-overlap INPUT=flu-6-4.2d.fasta NAME=nc\n",
    "\n",
    "python /opt/bioinformatics-software/minion-software/nanocorrect/nanocorrect.py nc all > flu-6-4.2d.nc.fasta"
   ]
  },
  {
   "cell_type": "markdown",
   "metadata": {},
   "source": [
    "### 8-13"
   ]
  },
  {
   "cell_type": "code",
   "execution_count": null,
   "metadata": {
    "collapsed": true
   },
   "outputs": [],
   "source": [
    "cd /home/alan/projects/MinION-notebook/error-correction/nanocorrect/8-13\n",
    "\n",
    "nanocorrect-overlap INPUT=flu-8-13.2d.fasta NAME=nc\n",
    "\n",
    "python /opt/bioinformatics-software/minion-software/nanocorrect/nanocorrect.py nc all > flu-8-13.2d.nc.fasta"
   ]
  },
  {
   "cell_type": "markdown",
   "metadata": {},
   "source": [
    "### 11-9"
   ]
  },
  {
   "cell_type": "code",
   "execution_count": null,
   "metadata": {
    "collapsed": true
   },
   "outputs": [],
   "source": [
    "cd /home/alan/projects/MinION-notebook/error-correction/nanocorrect/11-9\n",
    "\n",
    "nanocorrect-overlap INPUT=flu-11-9.2d.fasta NAME=nc\n",
    "\n",
    "python /opt/bioinformatics-software/minion-software/nanocorrect/nanocorrect.py nc all > flu-11-9.2d.nc.fasta"
   ]
  },
  {
   "cell_type": "markdown",
   "metadata": {},
   "source": [
    "#### Blast Consensus Analysis"
   ]
  },
  {
   "cell_type": "markdown",
   "metadata": {},
   "source": [
    "Now that we have \"corrected\" reads, this may lead to better blast results. So this will be put through the second implementation of the clinical consensus pipeline."
   ]
  },
  {
   "cell_type": "code",
   "execution_count": null,
   "metadata": {
    "collapsed": true,
    "run_control": {
     "marked": false
    }
   },
   "outputs": [],
   "source": [
    "cd /home/alan/projects/MinION-notebook/error-correction/nanocorrect/11-9/blast-analysis\n",
    "\n",
    "blastn \\\n",
    "-query flu-11-9.2d.nc.fasta \\\n",
    "-db ~/projects/MinION-notebook/clinical-analysis/fludb/all-H1N1-H3N2-FluB-full-segs.fasta \\\n",
    "-out flu-11-9.2d.nc.blast.xml \\\n",
    "-outfmt 5 \\\n",
    "-num_threads 40 \\\n",
    "-culling_limit 2 \\\n",
    "-max_target_seqs 1 \\\n",
    "-evalue 0.00005\n",
    "\n",
    "python ~/projects/MinION-notebook/MinION-Flu-Analysis/scripts/read-fludb-blastxml.py flu-11-9.2d.nc.blast.xml | sort -nrk4 > flu-11-9.2d.nc.blast.seg-counts.tsv\n",
    "\n",
    "miseq=\"f3\"\n",
    "minion=\"flu-11-9.2d.nc\"\n",
    "ref=\"/home/alan/projects/MinION-notebook/clinical-analysis/fludb/all-H1N1-H3N2-FluB-full-segs.fasta\"\n",
    "subtype=\"FluB\"\n",
    "\n",
    "for seg in NS NA NP M PB1 PB2 PA HA\n",
    "do\n",
    "# sort the segments by their hits\n",
    "sort -nrk4 $minion.blast.seg-counts.tsv | grep -P $subtype'\\t'$seg | head | cut -f1 > $minion-top-$subtype-$seg.tsv\n",
    "\n",
    "# get the fasta sequences\n",
    "grep --no-group-separator -A1 -F -f $minion-top-$subtype-$seg.tsv $ref > $minion-top-$subtype-$seg.fasta\n",
    "\n",
    "# map dat fool\n",
    "bowtie2-build $minion-top-$subtype-$seg.fasta $minion-top-$subtype-$seg.fasta\n",
    "bowtie2 -p 40 --very-sensitive-local -x $minion-top-$subtype-$seg.fasta  -1 $miseq.r1.fastq.gz -2 $miseq.r2.fastq.gz -S $miseq-$minion-top-$subtype-$seg.sam \n",
    "\n",
    "samtools view -b -o $miseq-$minion-top-$subtype-$seg.bam $miseq-$minion-top-$subtype-$seg.sam\n",
    "samtools sort -o $miseq-$minion-top-$subtype-$seg.sort.bam $miseq-$minion-top-$subtype-$seg.bam \n",
    "samtools index $miseq-$minion-top-$subtype-$seg.sort.bam\n",
    "\n",
    "# make consensus\n",
    "for i in $(samtools idxstats $miseq-$minion-top-$subtype-$seg.sort.bam | cut -f1 | grep -v '*'); do python ~/custom-scripts/bamfile_consensus_generate/bamfile_consensus_generate.py $miseq-$minion-top-$subtype-$seg.sort.bam $i ; done > $miseq-$minion-top-$subtype-$seg.consensus.fasta\n",
    "\n",
    "# map minion data\n",
    "/opt/bioinformatics-software/bwa-0.7.12/bwa index $minion-top-$subtype-$seg.fasta\n",
    "/opt/bioinformatics-software/bwa-0.7.12/bwa mem -x ont2d -t 40 $minion-top-$subtype-$seg.fasta $minion.fasta > $minion-top-$subtype-$seg.sam\n",
    "\n",
    "samtools view -b -o $minion-top-$subtype-$seg.bam $minion-top-$subtype-$seg.sam\n",
    "samtools sort -o $minion-top-$subtype-$seg.sort.bam $minion-top-$subtype-$seg.bam\n",
    "samtools index $minion-top-$subtype-$seg.sort.bam\n",
    "\n",
    "# make minion consensus\n",
    "for i in $(samtools idxstats $minion-top-$subtype-$seg.sort.bam | cut -f1 | grep -v '*'); do python ~/custom-scripts/bamfile_consensus_generate/bamfile_consensus_generate.py $minion-top-$subtype-$seg.sort.bam $i; done > $minion-top-$subtype-$seg.consensus.fasta\n",
    "\n",
    "rm $minion-top-$subtype-$seg.sam $minion-top-$subtype-$seg.bam $minion-top-$subtype-$seg.fasta.*\n",
    "\n",
    "done"
   ]
  },
  {
   "cell_type": "markdown",
   "metadata": {},
   "source": [
    "The issue with reads mapping to different strains is still a thing. It seems liek the MiSeq is the driving factor here since we can't generate a good consensus to compare to the MinION consensus. "
   ]
  },
  {
   "cell_type": "markdown",
   "metadata": {},
   "source": [
    "### Ebola Virus Workflow"
   ]
  },
  {
   "cell_type": "markdown",
   "metadata": {
    "collapsed": true
   },
   "source": [
    "The paper published in Nature that did \"haplotyping\" with Ebola is something that I'm going to try. They report conesnsus sequences but they don't really comment on the accuracy and their approach is quite different from ours.\n",
    "\n",
    "The paper is here: http://www.nature.com/nature/journal/v530/n7589/full/nature16996.html\n",
    "\n",
    "The github is here: https://github.com/nickloman/ebov\n",
    "\n",
    "These guys use the \"fail\" hq 2d reads but I'm going to try with just the pass 2d reads for now."
   ]
  },
  {
   "cell_type": "markdown",
   "metadata": {},
   "source": [
    "#### MarginAlign"
   ]
  },
  {
   "cell_type": "markdown",
   "metadata": {},
   "source": [
    "Here's the script that they used to align: https://github.com/nickloman/ebov/blob/master/scripts/marginalign.sh"
   ]
  },
  {
   "cell_type": "markdown",
   "metadata": {},
   "source": [
    "##### FluB PB2 from 11-9"
   ]
  },
  {
   "cell_type": "markdown",
   "metadata": {},
   "source": [
    "I'm going to work with FluB-PB2 of the 11-9 run just for starters, since it should be the highest quality data. The reference is going to be the most frequent hit from Blastn after using nanocorrect on the reads (since I already have that data. If the results are good enough then we can go forward with mutliple references and see how that works."
   ]
  },
  {
   "cell_type": "code",
   "execution_count": null,
   "metadata": {
    "collapsed": true
   },
   "outputs": [],
   "source": [
    "cd /home/alan/projects/MinION-notebook/margin-align/11-9/FluB-PB2\n",
    "\n",
    "# segment counts can be found here: flu-11-9.2d.nc.blast.seg-counts.tsv\n",
    "\n",
    "grep -A1 'CY153608' flu-11-9.2d.nc-top-FluB-PB2.fasta > top-flub-PB2-blast-hit.fasta\n",
    "\n",
    "/opt/bioinformatics-software/minion-software/margin/marginAlign \\\n",
    "flu-11-9.2d.fastq \\\n",
    "top-flub-PB2-blast-hit.fasta \\\n",
    "flu-11-9.2d.marginalign.sam \\\n",
    "--em \\\n",
    "--outputModel flu-11-9.2d.output.hmm \\\n",
    "--jobTree jobTree_align_flu-11-9.2d \\\n",
    "--maxThreads 40\n",
    "\n",
    "/opt/bioinformatics-software/minion-software/margin/marginAlign \\\n",
    "flu-11-9.2d.fastq top-flub-PB2-blast-hit.fasta \\\n",
    "flu-11-9.2d.marginalign.sam \\\n",
    "--inputModel flu-11-9.2d.output.hmm \\\n",
    "#--jobTree jobTree_align_flu-11-9.2d \\\n",
    "--maxThreads 40\n",
    "\n",
    "samtools view -o flu-11-9.2d.marginalign.bam -b flu-11-9.2d.marginalign.sam\n",
    "samtools sort -o flu-11-9.2d.marginalign.sort.bam flu-11-9.2d.marginalign.bam\n",
    "samtools index flu-11-9.2d.marginalign.sort.bam"
   ]
  },
  {
   "cell_type": "markdown",
   "metadata": {},
   "source": [
    "# MiSeq Assembly"
   ]
  },
  {
   "cell_type": "markdown",
   "metadata": {},
   "source": [
    "Since the blast analysis isn't working well, a de novo assembly is the next best thing to get an accurate representation of the in situ strain information."
   ]
  },
  {
   "cell_type": "markdown",
   "metadata": {
    "collapsed": true
   },
   "source": [
    "## Velvet"
   ]
  },
  {
   "cell_type": "markdown",
   "metadata": {
    "collapsed": true
   },
   "source": [
    "I'm going to use velvet for the first run, just to see how things look."
   ]
  },
  {
   "cell_type": "code",
   "execution_count": null,
   "metadata": {
    "collapsed": true
   },
   "outputs": [],
   "source": [
    "cd /home/alan/projects/MinION-notebook/miseq-assembly/flub\n",
    "\n",
    "python ~/projects/MinION-notebook/MinION-Flu-Analysis/scripts/interleave-fastq.py f3.r1.fastq.gz f3.r2.fastq.gz > f3.fastq\n",
    "\n",
    "perl /opt/bioinformatics-software/velvet/contrib/VelvetOptimiser-2.2.4/VelvetOptimiser.pl --e 63 --o '-ins_length 250 -min_contig_length 700' -t 40 -f '-shortPaired -fastq f3.fastq'\n"
   ]
  },
  {
   "cell_type": "markdown",
   "metadata": {},
   "source": [
    "VelvetOptimiser recommended has size of 27 so..."
   ]
  },
  {
   "cell_type": "code",
   "execution_count": null,
   "metadata": {
    "collapsed": true
   },
   "outputs": [],
   "source": [
    "velvetg auto_data_27 -ins_length 250 -min_contig_lgth 700 -exp_cov auto"
   ]
  },
  {
   "cell_type": "markdown",
   "metadata": {},
   "source": [
    "And this was horrible. So, the next attempt will be to segregate out the reads by segment and go from there. I'll start with PB2 and if it works I'll make a pipeline. I will use the blast alignment to see if velvet can resolve using that.\n",
    "\n",
    "Actually, I'm going to give khmer a shot. Try some read normalization and partitioning. http://khmer.readthedocs.org/en/v2.0/user/scripts.html#scripts-diginorm\n",
    "\n",
    "First step: trimmomatic (http://www.usadellab.org/cms/index.php?page=trimmomatic)"
   ]
  },
  {
   "cell_type": "code",
   "execution_count": null,
   "metadata": {
    "collapsed": true
   },
   "outputs": [],
   "source": [
    "cd ~/projects/MinION-notebook/miseq-assembly/flub\n",
    "\n",
    "java -jar /opt/bioinformatics-software/Trimmomatic-0.35/trimmomatic-0.35.jar PE f3.r1.fastq.gz f3.r2.fastq.gz f3.r1.trimmed.fastq.gz f3.r1.se.trimmed.fastq.gz f3.r2.trimmed.fastq.gz f3.r2.se.trimmed.fastq.gz LEADING:3 TRAILING:3 SLIDINGWINDOW:4:15 MINLEN:36"
   ]
  },
  {
   "cell_type": "markdown",
   "metadata": {
    "collapsed": true
   },
   "source": [
    "Next I just want to see how coverage looks. Following Khmer's recipe for slicing reads based on coverage: https://khmer-recipes.readthedocs.org/en/latest/001-extract-reads-by-coverage/index.html"
   ]
  },
  {
   "cell_type": "code",
   "execution_count": null,
   "metadata": {
    "ExecuteTime": {
     "start_time": "2016-02-26T20:26:51.410Z"
    },
    "collapsed": false
   },
   "outputs": [],
   "source": [
    "cd ~/projects/MinION-notebook/miseq-assembly/flub\n",
    "\n",
    "load-into-counting.py --threads 40 -x 1e8 -k 20 reads.kh *trimmed.fastq.gz \n",
    "abundance-dist.py reads.kh f3.r1.trimmed.fastq.gz f3.r1.trimmed.read.dist"
   ]
  },
  {
   "cell_type": "code",
   "execution_count": 1,
   "metadata": {
    "ExecuteTime": {
     "end_time": "2016-02-29T11:28:58.752790",
     "start_time": "2016-02-29T11:28:57.985571"
    },
    "collapsed": false
   },
   "outputs": [
    {
     "name": "stdout",
     "output_type": "stream",
     "text": [
      "plot-abundance-dist.py: command not found\r\n"
     ]
    }
   ],
   "source": [
    "plot-abundance-dist.py f3.r1.trimmed.read.dist f3.r1.trimmed.read.dist.png --ymax=300"
   ]
  },
  {
   "cell_type": "code",
   "execution_count": null,
   "metadata": {
    "collapsed": true
   },
   "outputs": [],
   "source": []
  }
 ],
 "metadata": {
  "kernelspec": {
   "display_name": "Bash",
   "language": "bash",
   "name": "bash"
  },
  "language_info": {
   "codemirror_mode": "shell",
   "file_extension": ".sh",
   "mimetype": "text/x-sh",
   "name": "bash"
  },
  "toc": {
   "toc_cell": true,
   "toc_number_sections": true,
   "toc_threshold": "4",
   "toc_window_display": false
  }
 },
 "nbformat": 4,
 "nbformat_minor": 0
}
