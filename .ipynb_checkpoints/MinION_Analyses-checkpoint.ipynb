{
 "cells": [
  {
   "cell_type": "markdown",
   "metadata": {
    "level": 1,
    "toc": "true"
   },
   "source": [
    "# Table of Contents\n",
    " <p><div class=\"lev1\"><a href=\"#To-Do-List\"><span class=\"toc-item-num\">1 - </span>To Do List</a></div><div class=\"lev1\"><a href=\"#Raw-Data\"><span class=\"toc-item-num\">2 - </span>Raw Data</a></div><div class=\"lev2\"><a href=\"#MiSeq-Data\"><span class=\"toc-item-num\">2.1 - </span>MiSeq Data</a></div><div class=\"lev2\"><a href=\"#Ion-Torrent-Data\"><span class=\"toc-item-num\">2.2 - </span>Ion Torrent Data</a></div><div class=\"lev2\"><a href=\"#PacBio-Data\"><span class=\"toc-item-num\">2.3 - </span>PacBio Data</a></div><div class=\"lev2\"><a href=\"#MinION-Data\"><span class=\"toc-item-num\">2.4 - </span>MinION Data</a></div><div class=\"lev1\"><a href=\"#Quads-Analysis\"><span class=\"toc-item-num\">3 - </span>Quads Analysis</a></div><div class=\"lev2\"><a href=\"#Index-References\"><span class=\"toc-item-num\">3.1 - </span>Index References</a></div><div class=\"lev2\"><a href=\"#MiSeq-Alignment\"><span class=\"toc-item-num\">3.2 - </span>MiSeq Alignment</a></div><div class=\"lev3\"><a href=\"#FluB\"><span class=\"toc-item-num\">3.2.1 - </span>FluB</a></div><div class=\"lev4\"><a href=\"#Alignment-with-BWA\"><span class=\"toc-item-num\">3.2.1.1 - </span>Alignment with BWA</a></div><div class=\"lev3\"><a href=\"#Flu-Mix\"><span class=\"toc-item-num\">3.2.2 - </span>Flu Mix</a></div><div class=\"lev3\"><a href=\"#H1N1\"><span class=\"toc-item-num\">3.2.3 - </span>H1N1</a></div><div class=\"lev3\"><a href=\"#H3N2\"><span class=\"toc-item-num\">3.2.4 - </span>H3N2</a></div><div class=\"lev3\"><a href=\"#Plasmid\"><span class=\"toc-item-num\">3.2.5 - </span>Plasmid</a></div><div class=\"lev3\"><a href=\"#Generate-Consensus\"><span class=\"toc-item-num\">3.2.6 - </span>Generate Consensus</a></div><div class=\"lev2\"><a href=\"#Ion-Torrent-Alignment\"><span class=\"toc-item-num\">3.3 - </span>Ion Torrent Alignment</a></div><div class=\"lev2\"><a href=\"#PacBio-Alignment\"><span class=\"toc-item-num\">3.4 - </span>PacBio Alignment</a></div><div class=\"lev2\"><a href=\"#MinION-Alignment\"><span class=\"toc-item-num\">3.5 - </span>MinION Alignment</a></div><div class=\"lev1\"><a href=\"#Clinical-Samples\"><span class=\"toc-item-num\">4 - </span>Clinical Samples</a></div><div class=\"lev2\"><a href=\"#Mixed-Infection/Cross-Contamination\"><span class=\"toc-item-num\">4.1 - </span>Mixed Infection/Cross Contamination</a></div><div class=\"lev2\"><a href=\"#Mixed-Infection-Simulation\"><span class=\"toc-item-num\">4.2 - </span>Mixed Infection Simulation</a></div><div class=\"lev2\"><a href=\"#MiSeq-and-MinION-Consensus-Comparisons\"><span class=\"toc-item-num\">4.3 - </span>MiSeq and MinION Consensus Comparisons</a></div><div class=\"lev3\"><a href=\"#FluB\"><span class=\"toc-item-num\">4.3.1 - </span>FluB</a></div><div class=\"lev3\"><a href=\"#Consensus-Pairwise-Alignment\"><span class=\"toc-item-num\">4.3.2 - </span>Consensus Pairwise Alignment</a></div><div class=\"lev3\"><a href=\"#FluDB-Comprehension\"><span class=\"toc-item-num\">4.3.3 - </span>FluDB Comprehension</a></div><div class=\"lev3\"><a href=\"#Reference-Base-Masking\"><span class=\"toc-item-num\">4.3.4 - </span>Reference Base Masking</a></div><div class=\"lev3\"><a href=\"#H1N1\"><span class=\"toc-item-num\">4.3.5 - </span>H1N1</a></div><div class=\"lev3\"><a href=\"#H3N2-70\"><span class=\"toc-item-num\">4.3.6 - </span>H3N2-70</a></div><div class=\"lev3\"><a href=\"#H3N2-90\"><span class=\"toc-item-num\">4.3.7 - </span>H3N2-90</a></div><div class=\"lev3\"><a href=\"#4-5-H3N2\"><span class=\"toc-item-num\">4.3.8 - </span>4-5 H3N2</a></div><div class=\"lev4\"><a href=\"#All-4-5-Reads\"><span class=\"toc-item-num\">4.3.8.1 - </span>All 4-5 Reads</a></div><div class=\"lev4\"><a href=\"#HQ-2D-reads-only\"><span class=\"toc-item-num\">4.3.8.2 - </span>HQ 2D reads only</a></div><div class=\"lev4\"><a href=\"#All-2D-reads\"><span class=\"toc-item-num\">4.3.8.3 - </span>All 2D reads</a></div><div class=\"lev4\"><a href=\"#All-HQ-reads\"><span class=\"toc-item-num\">4.3.8.4 - </span>All HQ reads</a></div><div class=\"lev4\"><a href=\"#All-forward-reads\"><span class=\"toc-item-num\">4.3.8.5 - </span>All forward reads</a></div><div class=\"lev4\"><a href=\"#All-HQ-forward-reads\"><span class=\"toc-item-num\">4.3.8.6 - </span>All HQ forward reads</a></div><div class=\"lev4\"><a href=\"#All-reverse-reads\"><span class=\"toc-item-num\">4.3.8.7 - </span>All reverse reads</a></div><div class=\"lev4\"><a href=\"#Alignment-Results\"><span class=\"toc-item-num\">4.3.8.8 - </span>Alignment Results</a></div><div class=\"lev2\"><a href=\"#MinION-Blast-Results-Comparison\"><span class=\"toc-item-num\">4.4 - </span>MinION Blast Results Comparison</a></div><div class=\"lev2\"><a href=\"#Blast-MiSeq\"><span class=\"toc-item-num\">4.5 - </span>Blast MiSeq</a></div><div class=\"lev2\"><a href=\"#Canu-Assembly\"><span class=\"toc-item-num\">4.6 - </span>Canu Assembly</a></div><div class=\"lev3\"><a href=\"#Single-genome-assembly\"><span class=\"toc-item-num\">4.6.1 - </span>Single genome assembly</a></div><div class=\"lev3\"><a href=\"#Nanopolish-with-Canu\"><span class=\"toc-item-num\">4.6.2 - </span>Nanopolish with Canu</a></div><div class=\"lev3\"><a href=\"#Canu-Falcon-Sense-Corrected-Reads\"><span class=\"toc-item-num\">4.6.3 - </span>Canu Falcon Sense Corrected Reads</a></div><div class=\"lev2\"><a href=\"#NGM-LR\"><span class=\"toc-item-num\">4.7 - </span>NGM-LR</a></div><div class=\"lev1\"><a href=\"#Error-Correction\"><span class=\"toc-item-num\">5 - </span>Error Correction</a></div><div class=\"lev2\"><a href=\"#Falcon-sense\"><span class=\"toc-item-num\">5.1 - </span>Falcon-sense</a></div><div class=\"lev2\"><a href=\"#Nanopolish\"><span class=\"toc-item-num\">5.2 - </span>Nanopolish</a></div><div class=\"lev3\"><a href=\"#4-20\"><span class=\"toc-item-num\">5.2.1 - </span>4-20</a></div><div class=\"lev3\"><a href=\"#6-4\"><span class=\"toc-item-num\">5.2.2 - </span>6-4</a></div><div class=\"lev3\"><a href=\"#8-13\"><span class=\"toc-item-num\">5.2.3 - </span>8-13</a></div><div class=\"lev3\"><a href=\"#11-9\"><span class=\"toc-item-num\">5.2.4 - </span>11-9</a></div><div class=\"lev4\"><a href=\"#Blast-Consensus-Analysis\"><span class=\"toc-item-num\">5.2.4.1 - </span>Blast Consensus Analysis</a></div><div class=\"lev3\"><a href=\"#Ebola-Virus-Workflow\"><span class=\"toc-item-num\">5.2.5 - </span>Ebola Virus Workflow</a></div><div class=\"lev4\"><a href=\"#MarginAlign\"><span class=\"toc-item-num\">5.2.5.1 - </span>MarginAlign</a></div><div class=\"lev1\"><a href=\"#MiSeq-Assembly\"><span class=\"toc-item-num\">6 - </span>MiSeq Assembly</a></div><div class=\"lev2\"><a href=\"#Velvet\"><span class=\"toc-item-num\">6.1 - </span>Velvet</a></div><div class=\"lev3\"><a href=\"#SPADES-Assembler\"><span class=\"toc-item-num\">6.1.1 - </span>SPADES Assembler</a></div>"
   ]
  },
  {
   "cell_type": "markdown",
   "metadata": {},
   "source": [
    "# To Do List"
   ]
  },
  {
   "cell_type": "markdown",
   "metadata": {},
   "source": [
    "import markdown\n",
    "html = markdown.markdown(source, extensions=['markdown_checklist.extension'])\n",
    "\n",
    "ASSEMBLY FOR  CONSENSUS\n",
    "* [ ] CANU assembler? Alan will ask Mike about what assembler to use\n",
    "* [ ] de novo assembly, mapped assembly no masking; mapped assembly with masking\n",
    "* [ ] mapped to best match reference and to assembled MiSeq reference\n",
    "\n",
    "INTRA-HOST SNV CALLING\n",
    "* [ ] mix 2 H3N2 clinical at different read count, sampled randomly (example 10:1); then compare to MiSeq for which will have done the same sampling and ratio\n",
    "\n",
    "PHASING\n",
    "* [ ] Using same mix, assess potential for phasing.\n",
    "* [ ] Use same methodology as Ebola paper (they used the squiggles)\n",
    "\n",
    "EVALUATE HOW MUCH COVERAGE NECESSARY\n",
    "* [ ] Need to do a very high depth run for only one sample (if possible)\n",
    "* [ ] Basically, want to let others know what is minimum coverage needed, hence how many flu samples can be multiplexed\n",
    "\n",
    "PLATFORM COMPARISONS\n",
    "* [ ] compare repeat region across 3 platforms\n",
    "\n",
    "\n",
    "\n",
    "* [ ] Look at the quality difference (and quantity) between the MK1 and the old kit to see if there are significant differences between them are enough to scrap the old sequencing kit data (are we behind the time?).\n",
    "* [ ] De novo assembly with MinION only? Look more into Canu and ask Mike what he recommends.\n",
    "* [ ] Mix the H3N2 MiSeq data and the MinION data together and generate a variant profile for each platform so that we can assess the phasing potential \n",
    "* [ ] Simulate the coverage at certain levels of multiplexing (how many subtypes/strains can be sequenced at once) \n",
    "* [x] Mask the discrepant position in each of the FluB references to see if the aligner can produce the correct nucleotide (the one that matches the MiSeq data).\n",
    "    * [ ] Investigate FluB PB2 to see why that isn't matching up.\n",
    "    * [ ] Look at different aligners and different parameters\n",
    "* [x] See if the MiSeq strain is actually represented in the FluDB (or at least the nt db).\n",
    "* [ ] Adjust parameters/test different algorithms to see if these errors can be resolved.\n",
    "* [ ] How to identify strain in absence of MiSeq data (contingent on former two tasks).\n",
    "* [x] Map MiSeq clinical to all the different subtypes to assess the possibilty of cross contamination\n",
    "* [x] Use the MiSeq consensus to assemble the MinION and the MinION consensus to assemble the MiSeq and see if they give different results.\n",
    "    * [x] Align all consensus sequences for FluB to see what the differences are. \n",
    "    * [ ] See if coverage is affecting the number of variants. I can compare the 11-9 run to the 6-4 and 8-13 runs and see how many variants they have \n",
    "    * [x] Merge all of the runs and look at FluB specifically to get a sense of whether more sequencing would actually help address some of our questions.\n",
    "* [x] In the Blast consensus analysis, segregate the reads into their respective subtypes and build the consensus to see if there is any cross contamination in the consensus from other subtypes in the same pool.\n",
    "    1. Map the MinION reads to the MiSeq consensus sequences to segregate by subtype and see if that is vastly different than the blast results. Generate consensus with them.\n",
    "    * [ ] Look to see if short reads are the ones being misassigned to the wrong segment (specifically FluB PB2 of the 11-9 run).\n",
    "* [ ] Mask the reference sequence with N's at discrepant positions to see if that makes the alignment more accurate.\n",
    "    1. randomly mutate the genome to assess false positive rate (like in the ebola paper)"
   ]
  },
  {
   "cell_type": "markdown",
   "metadata": {
    "level": 1
   },
   "source": [
    "# Raw Data"
   ]
  },
  {
   "cell_type": "markdown",
   "metadata": {
    "collapsed": true,
    "level": 7
   },
   "source": [
    "The directory \"/home/alan/projects/MinION-notebook/raw-data\" holds the raw data used in the analyses."
   ]
  },
  {
   "cell_type": "markdown",
   "metadata": {
    "level": 2
   },
   "source": [
    "## MiSeq Data"
   ]
  },
  {
   "cell_type": "code",
   "execution_count": null,
   "metadata": {
    "ExecuteTime": {
     "end_time": "2016-02-17T15:11:38.600616",
     "start_time": "2016-02-17T15:11:38.393134"
    },
    "collapsed": false,
    "level": 7
   },
   "outputs": [],
   "source": [
    "ls MiSeq/lab-strains"
   ]
  },
  {
   "cell_type": "markdown",
   "metadata": {
    "level": 7
   },
   "source": [
    "All are self explanatory with the flu-mix being a mix of all three subtypes and the plasmid being HA?"
   ]
  },
  {
   "cell_type": "code",
   "execution_count": null,
   "metadata": {
    "ExecuteTime": {
     "end_time": "2016-02-17T15:13:00.802241",
     "start_time": "2016-02-17T15:13:00.593833"
    },
    "collapsed": false,
    "level": 7
   },
   "outputs": [],
   "source": [
    "ls MiSeq/clinical-strains"
   ]
  },
  {
   "cell_type": "markdown",
   "metadata": {
    "level": 7
   },
   "source": [
    "a1 = H1N1\n",
    "c1 = H3N2-70\n",
    "f1 = H3N2-90\n",
    "f3 = FluB\n",
    "\n",
    "The rest were not used in any MinION analysis"
   ]
  },
  {
   "cell_type": "markdown",
   "metadata": {
    "level": 2
   },
   "source": [
    "## Ion Torrent Data"
   ]
  },
  {
   "cell_type": "markdown",
   "metadata": {},
   "source": [
    "All three subtypes were sequenced together."
   ]
  },
  {
   "cell_type": "code",
   "execution_count": null,
   "metadata": {
    "ExecuteTime": {
     "end_time": "2016-02-17T15:21:06.142816",
     "start_time": "2016-02-17T15:21:05.935278"
    },
    "collapsed": false,
    "level": 7
   },
   "outputs": [],
   "source": [
    "ls /home/alan/projects/MinION-notebook/raw-data/IonTorrent"
   ]
  },
  {
   "cell_type": "markdown",
   "metadata": {
    "level": 2
   },
   "source": [
    "## PacBio Data"
   ]
  },
  {
   "cell_type": "markdown",
   "metadata": {},
   "source": [
    "All three subtypes were sequenced together."
   ]
  },
  {
   "cell_type": "code",
   "execution_count": null,
   "metadata": {
    "ExecuteTime": {
     "end_time": "2016-02-18T11:52:30.744928",
     "start_time": "2016-02-18T11:52:30.536682"
    },
    "collapsed": false,
    "level": 7,
    "run_control": {
     "marked": false
    }
   },
   "outputs": [],
   "source": [
    "ls /home/alan/projects/MinION-notebook/raw-data/PacBio"
   ]
  },
  {
   "cell_type": "markdown",
   "metadata": {
    "level": 2
   },
   "source": [
    "## MinION Data"
   ]
  },
  {
   "cell_type": "markdown",
   "metadata": {},
   "source": [
    "There were four separate runs:\n",
    "1) 4-20\n",
    "    * lab strain H1N1\n",
    "    * lab strain FluB\n",
    "    * lab strain H3N2\n",
    "2) 6-4\n",
    "    * clinical pH1N1 (a1)\n",
    "    * clinical FluB 14 (f3)\n",
    "    * clinical H3N2-70 (c1)\n",
    "3) 8-13 - to generate more data to obtain better consensus\n",
    "    * clinical pH1N1 (a1)\n",
    "        * spike-in purified, non-size selected sample to compensate for loss of M/NS\n",
    "    * clinical FluB 14 NP Only (f3)\n",
    "        * This was selected for because the rest of segments were well covered\n",
    "    * clinical H3N2-90 (f1)\n",
    "    * lab strain FluB HA plasmid\n",
    "4) 11-9\n",
    "    * clinical FluB 14 (f3)\n",
    "    * lab strain H1N1\n",
    "    * lab strain H3N2\n",
    "    * lab strain FluB PB1 plasmid\n",
    "        * Used to resolve a putative sequence-specific error seen in SK005\n",
    "5) 4-6\n",
    "    * Clinical H3N2 (A39)\n",
    "\n",
    "All but the 11-9 run were sequenced using SK005 and using the older basecalling algorithm. These data were rebasecalled using the updated algorithm, hence anyhting denoting \"rebasecalled\" in the name. The rebasecalled data are the only data considered in the analysis."
   ]
  },
  {
   "cell_type": "code",
   "execution_count": null,
   "metadata": {
    "ExecuteTime": {
     "end_time": "2016-02-17T15:52:28.668696",
     "start_time": "2016-02-17T15:49:42.185638"
    },
    "collapsed": false,
    "level": 7
   },
   "outputs": [],
   "source": [
    "cd /home/alan/projects/MinION-notebook/raw-data/MinION/4-20\n",
    "poretools fastq --type 2D /data1/share/raw-sequencing-data/MinION/Flu_4_20_rebasecalled/pass > flu-4-20.2d.fastq\n",
    "poretools fastq --type 2D /data1/share/raw-sequencing-data/MinION/Flu_4_21_rebasecalled/pass > flu-4-21.2d.fastq\n",
    "cat flu-4-20.2d.fastq flu-4-21.2d.fastq > flu-4-20.fastq\n",
    "rm flu-4-20.2d.fastq flu-4-21.2d.fastq"
   ]
  },
  {
   "cell_type": "code",
   "execution_count": null,
   "metadata": {
    "ExecuteTime": {
     "end_time": "2016-02-17T15:54:40.766528",
     "start_time": "2016-02-17T15:52:28.671140"
    },
    "collapsed": false,
    "level": 7
   },
   "outputs": [],
   "source": [
    "cd /home/alan/projects/MinION-notebook/raw-data/MinION/6-4\n",
    "poretools fastq --type 2D /data1/share/raw-sequencing-data/MinION/Flu_6_4_clinical/rebasecalled/pass > flu-6-4.2d.fastq"
   ]
  },
  {
   "cell_type": "code",
   "execution_count": null,
   "metadata": {
    "ExecuteTime": {
     "end_time": "2016-02-17T15:55:09.374927",
     "start_time": "2016-02-17T15:54:40.768896"
    },
    "collapsed": false,
    "level": 7
   },
   "outputs": [],
   "source": [
    "cd /home/alan/projects/MinION-notebook/raw-data/MinION/8-13\n",
    "poretools fastq --type 2D /data1/share/raw-sequencing-data/MinION/Flu_8_13_clinical/rebasecalled/pass > flu-8-13.2d.fastq"
   ]
  },
  {
   "cell_type": "code",
   "execution_count": null,
   "metadata": {
    "ExecuteTime": {
     "end_time": "2016-02-17T15:59:52.260832",
     "start_time": "2016-02-17T15:55:09.377391"
    },
    "collapsed": false,
    "level": 7
   },
   "outputs": [],
   "source": [
    "cd /home/alan/projects/MinION-notebook/raw-data/MinION/11-9\n",
    "poretools fastq --type 2D /data1/share/raw-sequencing-data/MinION/Flu_11_09_clinical/pass > flu-11-9.2d.fastq"
   ]
  },
  {
   "cell_type": "code",
   "execution_count": null,
   "metadata": {
    "ExecuteTime": {
     "end_time": "2016-02-17T15:59:52.260832",
     "start_time": "2016-02-17T15:55:09.377391"
    },
    "collapsed": false,
    "level": 7
   },
   "outputs": [],
   "source": [
    "cd /home/alan/projects/MinION-notebook/raw-data/MinION/4-5\n",
    "ls"
   ]
  },
  {
   "cell_type": "markdown",
   "metadata": {},
   "source": [
    "Convert all of the fastq files to fasta for future use."
   ]
  },
  {
   "cell_type": "code",
   "execution_count": null,
   "metadata": {
    "collapsed": true
   },
   "outputs": [],
   "source": [
    "cd /home/alan/projects/MinION-notebook/raw-data/MinION/ \n",
    "\n",
    "for i in $(ls */*fastq | perl -pe 's/q$//g'); do 1line-fasta.pl ${i}q > ${i}a; done"
   ]
  },
  {
   "cell_type": "markdown",
   "metadata": {
    "level": 1
   },
   "source": [
    "# Quads Analysis"
   ]
  },
  {
   "cell_type": "markdown",
   "metadata": {},
   "source": [
    "For the lab strains, each subtype was sequenced on the MinION, MiSeq, PacBio, and Ion Torrent. The purpose for this was to compare all four platforms for pros/cons as well as serving as a benchmark for the MinION's perfomance, specifically with Flu.\n",
    "\n",
    "The reference sequences are known so the analysis is straightforward:\n",
    "1) Align to the reference sequence\n",
    "2) Generate consensus sequence\n",
    "3) Compare consensus to the reference"
   ]
  },
  {
   "cell_type": "markdown",
   "metadata": {
    "heading_collapsed": true,
    "level": 2
   },
   "source": [
    "## Index References\n",
    "bwa mem, blasr, and bowtie2 are the aligners that were used. The reference sequences were indexed accordingly. These sequences are CDS only and the largest of the CDS are the ones chosen. In retrospect this may not have been ideal considering we have two single-molecule sequencing platforms but there were no noticeable problems with this analysis."
   ]
  },
  {
   "cell_type": "code",
   "execution_count": null,
   "metadata": {
    "ExecuteTime": {
     "end_time": "2016-02-17T16:39:37.771754",
     "start_time": "2016-02-17T16:39:36.519193"
    },
    "collapsed": false,
    "level": 7
   },
   "outputs": [],
   "source": [
    "cd /home/alan/projects/MinION-notebook/reference-sequences\n",
    "bowtie2-build quads-study-reference-sequence.fasta quads-study-reference-sequence.fasta\n",
    "\n",
    "bwa index quads-study-reference-sequence.fasta"
   ]
  },
  {
   "cell_type": "markdown",
   "metadata": {
    "heading_collapsed": false,
    "level": 2
   },
   "source": [
    "## MiSeq Alignment\n",
    "Miseq data were aligned to the sequenes using bowtie2."
   ]
  },
  {
   "cell_type": "markdown",
   "metadata": {},
   "source": [
    "### FluB"
   ]
  },
  {
   "cell_type": "code",
   "execution_count": null,
   "metadata": {
    "ExecuteTime": {
     "end_time": "2016-02-18T11:18:43.370454",
     "start_time": "2016-02-18T11:12:43.803750"
    },
    "collapsed": false,
    "level": 7
   },
   "outputs": [],
   "source": [
    "cd /home/alan/projects/MinION-notebook/quads-analysis/miseq\n",
    "\n",
    "i=\"flub-standard\"\n",
    "\n",
    "bowtie2 \\\n",
    "-p 40 \\\n",
    "--very-sensitive-local \\\n",
    "-x /home/alan/projects/MinION-notebook/reference-sequences/quads-study-reference-sequence.fasta \\\n",
    "-1 $i.r1.fastq.gz \\\n",
    "-2 $i.r2.fastq.gz \\\n",
    "-S $i.sam\n",
    "\n",
    "samtools view -b -o $i.bam $i.sam \n",
    "samtools sort -o $i.sort.bam $i.bam\n",
    "samtools index $i.sort.bam\n",
    "\n",
    "rm $i.bam $i.sam "
   ]
  },
  {
   "cell_type": "markdown",
   "metadata": {},
   "source": [
    "#### Alignment with BWA"
   ]
  },
  {
   "cell_type": "markdown",
   "metadata": {},
   "source": [
    "After speaking with Mike, he recommended that I use bwa mem to align these strains. He noted that it's more specific so there should be less contamination. Based on the alignment of FluB to all viruses in the quads study, there seems to be some nonspecific mapping which suggested that there may be carry-over due to low quality barcodes. This could also be due to adaptors but we'll see."
   ]
  },
  {
   "cell_type": "code",
   "execution_count": null,
   "metadata": {
    "collapsed": true
   },
   "outputs": [],
   "source": [
    "cd /home/alan/projects/MinION-notebook/quads-analysis/miseq/flub-bwa\n",
    "\n",
    "bwa mem \\\n",
    "-x intractg \\\n",
    "-t 30 \\\n",
    "~/projects/MinION-notebook/reference-sequences/quads-study-reference-sequence.fasta \\\n",
    "flub-standard.r1.fastq.gz \\\n",
    "flub-standard.r2.fastq.gz > flub-standard.bwa.intractg.sam\n",
    "\n",
    "bwa mem \\\n",
    "-t 30 \\\n",
    "~/projects/MinION-notebook/reference-sequences/quads-study-reference-sequence.fasta \\\n",
    "flub-standard.r1.fastq.gz \\\n",
    "flub-standard.r2.fastq.gz > flub-standard.bwa.sam"
   ]
  },
  {
   "cell_type": "markdown",
   "metadata": {},
   "source": [
    "![title](docs/bwa-vs-bowtie2.png)\n",
    "\n",
    "It seems like bowtie2 is definitely overfitting the data. Assuming there isn't contamination in this sample from other barcodes, there shouldn't be anything other that FluB, and we're getting some. Also based on the alignments, bwa seems to be more stringent which is good for this particular study. However I don't know how this would work with quasispecies as it could remove potentially interesting variants. I'll need to look into this closer, maybe with one of Tim's datasets.\n",
    "\n",
    "Anyway, going to test this on the plasmid since that should have even less variance than the FluB strain. "
   ]
  },
  {
   "cell_type": "code",
   "execution_count": null,
   "metadata": {
    "collapsed": true
   },
   "outputs": [],
   "source": []
  },
  {
   "cell_type": "markdown",
   "metadata": {},
   "source": [
    "### Flu Mix"
   ]
  },
  {
   "cell_type": "code",
   "execution_count": null,
   "metadata": {
    "ExecuteTime": {
     "end_time": "2016-02-18T11:52:30.532832",
     "start_time": "2016-02-18T11:49:22.400223"
    },
    "collapsed": false,
    "level": 7,
    "run_control": {
     "marked": false
    }
   },
   "outputs": [],
   "source": [
    "cd /home/alan/projects/MinION-notebook/quads-analysis/miseq\n",
    "\n",
    "i=\"flu-mix-standard\"\n",
    "\n",
    "bowtie2 \\\n",
    "-p 40 \\\n",
    "--very-sensitive-local \\\n",
    "-x /home/alan/projects/MinION-notebook/reference-sequences/quads-study-reference-sequence.fasta \\\n",
    "-1 $i.r1.fastq.gz \\\n",
    "-2 $i.r2.fastq.gz \\\n",
    "-S $i.sam\n",
    "\n",
    "samtools view -b -o $i.bam $i.sam \n",
    "samtools sort -o $i.sort.bam $i.bam\n",
    "samtools index $i.sort.bam\n",
    "\n",
    "rm $i.bam $i.sam "
   ]
  },
  {
   "cell_type": "markdown",
   "metadata": {},
   "source": [
    "### H1N1"
   ]
  },
  {
   "cell_type": "code",
   "execution_count": null,
   "metadata": {
    "ExecuteTime": {
     "end_time": "2016-02-18T11:52:30.532832",
     "start_time": "2016-02-18T11:49:22.400223"
    },
    "collapsed": false,
    "level": 7,
    "run_control": {
     "marked": false
    }
   },
   "outputs": [],
   "source": [
    "cd /home/alan/projects/MinION-notebook/quads-analysis/miseq\n",
    "\n",
    "i=\"h1n1-standard\"\n",
    "\n",
    "bowtie2 \\\n",
    "-p 40 \\\n",
    "--very-sensitive-local \\\n",
    "-x /home/alan/projects/MinION-notebook/reference-sequences/quads-study-reference-sequence.fasta \\\n",
    "-1 $i.r1.fastq.gz \\\n",
    "-2 $i.r2.fastq.gz \\\n",
    "-S $i.sam\n",
    "\n",
    "samtools view -b -o $i.bam $i.sam \n",
    "samtools sort -o $i.sort.bam $i.bam\n",
    "samtools index $i.sort.bam\n",
    "\n",
    "rm $i.bam $i.sam "
   ]
  },
  {
   "cell_type": "markdown",
   "metadata": {},
   "source": [
    "### H3N2"
   ]
  },
  {
   "cell_type": "code",
   "execution_count": null,
   "metadata": {
    "ExecuteTime": {
     "end_time": "2016-02-18T11:52:30.532832",
     "start_time": "2016-02-18T11:49:22.400223"
    },
    "collapsed": false,
    "level": 7,
    "run_control": {
     "marked": false
    }
   },
   "outputs": [],
   "source": [
    "cd /home/alan/projects/MinION-notebook/quads-analysis/miseq\n",
    "\n",
    "i=\"h3n2-standard\"\n",
    "\n",
    "bowtie2 \\\n",
    "-p 40 \\\n",
    "--very-sensitive-local \\\n",
    "-x /home/alan/projects/MinION-notebook/reference-sequences/quads-study-reference-sequence.fasta \\\n",
    "-1 $i.r1.fastq.gz \\\n",
    "-2 $i.r2.fastq.gz \\\n",
    "-S $i.sam\n",
    "samtools view -b -o $i.bam $i.sam \n",
    "samtools sort -o $i.sort.bam $i.bam\n",
    "samtools index $i.sort.bam\n",
    "\n",
    "rm $i.bam $i.sam "
   ]
  },
  {
   "cell_type": "markdown",
   "metadata": {},
   "source": [
    "### Plasmid"
   ]
  },
  {
   "cell_type": "code",
   "execution_count": null,
   "metadata": {
    "ExecuteTime": {
     "end_time": "2016-02-18T11:52:30.532832",
     "start_time": "2016-02-18T11:49:22.400223"
    },
    "collapsed": false,
    "level": 7,
    "run_control": {
     "marked": false
    }
   },
   "outputs": [],
   "source": [
    "cd /home/alan/projects/MinION-notebook/quads-analysis/miseq\n",
    "\n",
    "i=\"plasmid\"\n",
    "\n",
    "bowtie2 \\\n",
    "-p 40 \\\n",
    "--very-sensitive-local \\\n",
    "-x /home/alan/projects/MinION-notebook/reference-sequences/quads-study-reference-sequence.fasta \\\n",
    "-1 $i.r1.fastq.gz \\\n",
    "-2 $i.r2.fastq.gz \\\n",
    "-S $i.sam\n",
    "\n",
    "samtools view -b -o $i.bam $i.sam \n",
    "samtools sort -o $i.sort.bam $i.bam\n",
    "samtools index $i.sort.bam\n",
    "\n",
    "rm $i.bam $i.sam "
   ]
  },
  {
   "cell_type": "markdown",
   "metadata": {},
   "source": [
    "### Generate Consensus"
   ]
  },
  {
   "cell_type": "code",
   "execution_count": null,
   "metadata": {
    "ExecuteTime": {
     "end_time": "2016-02-18T16:14:15.553980",
     "start_time": "2016-02-18T15:45:41.413316"
    },
    "collapsed": false
   },
   "outputs": [],
   "source": [
    "cd /home/alan/projects/MinION-notebook/quads-analysis/miseq\n",
    "for bam in $(ls *bam | perl -pe 's/\\.sort\\.bam//g')\n",
    "do\n",
    "    for seg in $(samtools idxstats $bam.sort.bam | grep -v '*' | cut -f1)\n",
    "    do\n",
    "        python ~/projects/MinION-notebook/MinION-Flu-Analysis/scripts/bamfile_consensus_generate.py $bam.sort.bam $seg | perl -pe 's/^(>.+)/$1\\tmiseq lab strain consensus/g' > $bam.$seg.consensus.fasta\n",
    "    done\n",
    "done"
   ]
  },
  {
   "cell_type": "markdown",
   "metadata": {
    "heading_collapsed": false,
    "level": 2
   },
   "source": [
    "## Ion Torrent Alignment"
   ]
  },
  {
   "cell_type": "code",
   "execution_count": null,
   "metadata": {
    "ExecuteTime": {
     "end_time": "2016-02-18T12:09:47.918455",
     "start_time": "2016-02-18T12:08:31.387994"
    },
    "collapsed": false,
    "level": 7
   },
   "outputs": [],
   "source": [
    "cd /home/alan/projects/MinION-notebook/quads-analysis/ion\n",
    "bowtie2 \\\n",
    "-p 40 \\\n",
    "--very-sensitive-local \\\n",
    "-x /home/alan/projects/MinION-notebook/reference-sequences/quads-study-reference-sequence.fasta \\\n",
    "-U R_2015_05_09_01_13_59_user_SN2-44-Ghedin_400_bp.fastq \\\n",
    "-S ion-quads.sam\n",
    "\n",
    "samtools view -b -o ion-quads.bam ion-quads.sam \n",
    "samtools sort -o ion-quads.sort.bam ion-quads.bam\n",
    "samtools index ion-quads.sort.bam\n",
    "\n",
    "rm ion-quads.bam ion-quads.sam"
   ]
  },
  {
   "cell_type": "code",
   "execution_count": null,
   "metadata": {
    "ExecuteTime": {
     "end_time": "2016-02-18T16:18:20.883208",
     "start_time": "2016-02-18T16:14:15.556365"
    },
    "collapsed": false
   },
   "outputs": [],
   "source": [
    "cd /home/alan/projects/MinION-notebook/quads-analysis/ion\n",
    "for i in $(samtools idxstats ion-quads.sort.bam | grep -v '*' | cut -f1)\n",
    "do\n",
    "    python ~/projects/MinION-notebook/MinION-Flu-Analysis/scripts/bamfile_consensus_generate.py ion-quads.sort.bam $i | perl -pe 's/^(>.+)/$1\\tion lab strain consensus/g' > ion-quads.$i.consensus.fasta\n",
    "done"
   ]
  },
  {
   "cell_type": "markdown",
   "metadata": {
    "heading_collapsed": false,
    "level": 2
   },
   "source": [
    "## PacBio Alignment"
   ]
  },
  {
   "cell_type": "code",
   "execution_count": null,
   "metadata": {
    "ExecuteTime": {
     "end_time": "2016-02-18T16:21:03.645128",
     "start_time": "2016-02-18T16:20:52.608631"
    },
    "collapsed": false,
    "level": 7
   },
   "outputs": [],
   "source": [
    "cd /home/alan/projects/MinION-notebook/quads-analysis/pacbio\n",
    "\n",
    "/opt/bioinformatics-software/minion-software/blasr/alignment/bin/blasr \\\n",
    "Elodie_sidebar_reads_of_insert.fastq \\\n",
    "/home/alan/projects/MinION-notebook/reference-sequences/quads-study-reference-sequence.fasta \\\n",
    "-sam \\\n",
    "-clipping soft \\\n",
    "-out pacbio-quads.sam \\\n",
    "-nproc 40 \\\n",
    "-bestn 1\n",
    "\n",
    "samtools view -o pacbio-quads.bam -b pacbio-quads.sam\n",
    "samtools sort -o pacbio-quads.sort.bam pacbio-quads.bam\n",
    "samtools index pacbio-quads.sort.bam\n",
    "\n",
    "rm  pacbio-quads.bam pacbio-quads.sam"
   ]
  },
  {
   "cell_type": "code",
   "execution_count": null,
   "metadata": {
    "ExecuteTime": {
     "end_time": "2016-02-18T16:23:16.192075",
     "start_time": "2016-02-18T16:21:03.647604"
    },
    "collapsed": false
   },
   "outputs": [],
   "source": [
    "cd /home/alan/projects/MinION-notebook/quads-analysis/pacbio\n",
    "for i in $(samtools idxstats pacbio-quads.sort.bam | grep -v '*' | cut -f1)\n",
    "do\n",
    "    python ~/projects/MinION-notebook/MinION-Flu-Analysis/scripts/bamfile_consensus_generate.py pacbio-quads.sort.bam $i | perl -pe 's/^(>.+)/$1\\tpacbio lab strain consensus/g' > pacbio-quads.$i.consensus.fasta\n",
    "done"
   ]
  },
  {
   "cell_type": "markdown",
   "metadata": {},
   "source": [
    "## MinION Alignment"
   ]
  },
  {
   "cell_type": "code",
   "execution_count": null,
   "metadata": {
    "ExecuteTime": {
     "end_time": "2016-02-18T14:09:51.109176",
     "start_time": "2016-02-18T14:09:33.565836"
    },
    "collapsed": false
   },
   "outputs": [],
   "source": [
    "cd /home/alan/projects/MinION-notebook/quads-analysis/minion\n",
    "\n",
    "bwa mem \\\n",
    "-t 40 \\\n",
    "-x ont2d /home/alan/projects/MinION-notebook/reference-sequences/quads-study-reference-sequence.fasta \\\n",
    "flu-4-20.fastq > minion-4-20-quads.sam\n",
    "\n",
    "samtools view -b -o minion-4-20-quads.bam minion-4-20-quads.sam\n",
    "samtools sort -o minion-4-20-quads.sort.bam minion-4-20-quads.bam\n",
    "samtools index minion-4-20-quads.sort.bam\n",
    "\n",
    "rm  minion-4-20-quads.bam minion-4-20-quads.sam"
   ]
  },
  {
   "cell_type": "markdown",
   "metadata": {},
   "source": [
    "The only lab strain segment in FluB of the 11-9 run is PB1, so discount all other FluB segments."
   ]
  },
  {
   "cell_type": "code",
   "execution_count": null,
   "metadata": {
    "ExecuteTime": {
     "end_time": "2016-02-18T14:11:18.949997",
     "start_time": "2016-02-18T14:11:04.454059"
    },
    "collapsed": false
   },
   "outputs": [],
   "source": [
    "bwa mem \\\n",
    "-t 40 \\\n",
    "-x ont2d /home/alan/projects/MinION-notebook/reference-sequences/quads-study-reference-sequence.fasta \\\n",
    "flu-11-9.2d.fastq > minion-11-9-quads.sam\n",
    "\n",
    "samtools view -b -o minion-11-9-quads.bam minion-11-9-quads.sam\n",
    "samtools sort -o minion-11-9-quads.sort.bam minion-11-9-quads.bam\n",
    "samtools index minion-11-9-quads.sort.bam\n",
    "\n",
    "rm  minion-11-9-quads.bam minion-11-9-quads.sam"
   ]
  },
  {
   "cell_type": "code",
   "execution_count": null,
   "metadata": {
    "ExecuteTime": {
     "end_time": "2016-02-18T16:26:58.088680",
     "start_time": "2016-02-18T16:23:16.193686"
    },
    "collapsed": false
   },
   "outputs": [],
   "source": [
    "cd /home/alan/projects/MinION-notebook/quads-analysis/minion\n",
    "for bam in $(ls *bam | perl -pe 's/\\.sort\\.bam//g')\n",
    "do\n",
    "    for seg in $(samtools idxstats $bam.sort.bam | grep -v '*' | cut -f1)\n",
    "    do\n",
    "        python ~/projects/MinION-notebook/MinION-Flu-Analysis/scripts/bamfile_consensus_generate.py $bam.sort.bam $seg | perl -pe 's/^(>.+)/$1\\tminion lab strain consensus/g' > $bam.$seg.consensus.fasta\n",
    "    done\n",
    "done"
   ]
  },
  {
   "cell_type": "markdown",
   "metadata": {
    "level": 7
   },
   "source": [
    "# Clinical Samples"
   ]
  },
  {
   "cell_type": "markdown",
   "metadata": {},
   "source": [
    "The workflow agreed upon this far is as follows:\n",
    "\n",
    "1) Generate Flu-specific, full segment database with only unique sequences. This will cut down significantly on runtime but can possibly limit the analysis by not being comprehensive with every strain; this database will not inclued lab strains and incomplete segments.\n",
    "\n",
    "2) Obtain the top 10 hits per segment. This is alowing the possibility of mixed infections, whereas only using the top hit can bias the results.\n",
    "\n",
    "3) Map the MinION to the top 10 hits.\n",
    "\n",
    "4) Map the MiSeq to the top 10 hits.\n",
    "\n",
    "5) Generate consensus sequences for both platforms and compare the top hits. \n",
    "\n",
    "6) Cross fingers and hope that they're the same\n",
    "\n",
    "The original implementation was to just use the top hit, and it worked for most segments, though there are still problems with other segments."
   ]
  },
  {
   "cell_type": "markdown",
   "metadata": {},
   "source": [
    "## Mixed Infection/Cross Contamination"
   ]
  },
  {
   "cell_type": "markdown",
   "metadata": {},
   "source": [
    "To assess the possibility of a mixed infection, mapping the MiSeq clinical data to all three subtypes should uncover whether or not there is any possibility of mixed infection based on coverage and quality of the alignments. It seems that there is inherent misalignment based on the lab strain analysis, but since these are clinical a mixed infection should be much more prevalent than the noise we've seen in lab strains. \n",
    "\n",
    "I'll try the quads reference sequences first to see if that's good enough (since this could be the lowest hanging fruit for this analysis)."
   ]
  },
  {
   "cell_type": "code",
   "execution_count": null,
   "metadata": {
    "collapsed": true
   },
   "outputs": [],
   "source": [
    "cd /home/alan/projects/MinION-notebook/clinical-analysis/miseq/flub\n",
    "\n",
    "bwa mem \\\n",
    "-x intractg \\\n",
    "-t 30 \\\n",
    "~/projects/MinION-notebook/reference-sequences/quads-study-reference-sequence.fasta \\\n",
    "flub.r1.fastq.gz flub.r2.fastq.gz > flub.quads-references.sam\n",
    "\n",
    "samtools view -b -o flub.quads-references.bam flub.quads-references.sam\n",
    "samtools sort -o flub.quads-references.sort.bam flub.quads-references.bam\n",
    "samtools index flub.quads-references.sort.bam\n",
    "\n",
    "rm  flub.quads-references.bam flub.quads-references.sam"
   ]
  },
  {
   "cell_type": "code",
   "execution_count": 6,
   "metadata": {
    "ExecuteTime": {
     "end_time": "2016-03-31T17:40:21.671240",
     "start_time": "2016-03-31T17:40:21.234908"
    },
    "collapsed": false,
    "level": 7
   },
   "outputs": [
    {
     "name": "stdout",
     "output_type": "stream",
     "text": [
      "FluB-PB1\t2259\t191704\t1486\r\n",
      "FluB-PB2\t2313\t210757\t1283\r\n",
      "FluB-PA\t2181\t193262\t1073\r\n",
      "FluB-HA\t1758\t324611\t4940\r\n",
      "FluB-NP\t1683\t10442\t76\r\n",
      "FluB-NA\t1401\t235242\t1965\r\n",
      "FluB-NS\t1027\t92607\t536\r\n",
      "FluB-MP\t1076\t174920\t1039\r\n",
      "H1N1-PB2\t2280\t42\t22\r\n",
      "H1N1-PB1\t2274\t57\t18\r\n",
      "H1N1-PA\t2151\t52\t25\r\n",
      "H1N1-HA\t1701\t74\t37\r\n",
      "H1N1-NP\t1497\t71\t23\r\n",
      "H1N1-NA\t1410\t45\t21\r\n",
      "H1N1-MP\t982\t154\t61\r\n",
      "H1N1-NS\t838\t95\t33\r\n",
      "H3N2-PB2\t2280\t148\t65\r\n",
      "H3N2-PA\t1689\t105\t52\r\n",
      "H3N2-PB1\t2274\t136\t42\r\n",
      "H3N2-HA\t1701\t188\t85\r\n",
      "H3N2-NP\t1497\t207\t84\r\n",
      "H3N2-NS\t693\t92\t41\r\n",
      "H3N2-NA\t1407\t88\t31\r\n",
      "H3N2-MP\t759\t190\t72\r\n",
      "*\t0\t0\t59252\r\n"
     ]
    }
   ],
   "source": [
    "cd /home/alan/projects/MinION-notebook/clinical-analysis/miseq/flub\n",
    "\n",
    "samtools idxstats flub.quads-references.sort.bam"
   ]
  },
  {
   "cell_type": "markdown",
   "metadata": {},
   "source": [
    "Based on the idxstats report it's extremely unlikely that there's any mixed infection between subtypes in the clinical FluB sample. "
   ]
  },
  {
   "cell_type": "code",
   "execution_count": null,
   "metadata": {
    "collapsed": true
   },
   "outputs": [],
   "source": [
    "sub=\"h1n1\"\n",
    "\n",
    "cd /home/alan/projects/MinION-notebook/clinical-analysis/miseq/h1n1\n",
    "\n",
    "bwa mem \\\n",
    "-x intractg \\\n",
    "-t 30 \\\n",
    "~/projects/MinION-notebook/reference-sequences/quads-study-reference-sequence.fasta \\\n",
    "$sub.r1.fastq.gz $sub.r2.fastq.gz > $sub.quads-references.sam\n",
    "\n",
    "samtools view -b -o $sub.quads-references.bam $sub.quads-references.sam\n",
    "samtools sort -o $sub.quads-references.sort.bam $sub.quads-references.bam\n",
    "samtools index $sub.quads-references.sort.bam\n",
    "\n",
    "rm  $sub.quads-references.bam $sub.quads-references.sam"
   ]
  },
  {
   "cell_type": "code",
   "execution_count": 7,
   "metadata": {
    "ExecuteTime": {
     "end_time": "2016-03-31T17:40:33.977278",
     "start_time": "2016-03-31T17:40:33.552458"
    },
    "collapsed": false,
    "level": 7
   },
   "outputs": [
    {
     "name": "stdout",
     "output_type": "stream",
     "text": [
      "FluB-PB1\t2259\t49\t21\r\n",
      "FluB-PB2\t2313\t41\t15\r\n",
      "FluB-PA\t2181\t53\t13\r\n",
      "FluB-HA\t1758\t69\t26\r\n",
      "FluB-NP\t1683\t6\t4\r\n",
      "FluB-NA\t1401\t71\t18\r\n",
      "FluB-NS\t1027\t52\t16\r\n",
      "FluB-MP\t1076\t41\t18\r\n",
      "H1N1-PB2\t2280\t168225\t663\r\n",
      "H1N1-PB1\t2274\t102439\t394\r\n",
      "H1N1-PA\t2151\t139442\t562\r\n",
      "H1N1-HA\t1701\t71685\t314\r\n",
      "H1N1-NP\t1497\t88744\t410\r\n",
      "H1N1-NA\t1410\t34711\t151\r\n",
      "H1N1-MP\t982\t92641\t472\r\n",
      "H1N1-NS\t838\t84746\t407\r\n",
      "H3N2-PB2\t2280\t194\t72\r\n",
      "H3N2-PA\t1689\t138\t53\r\n",
      "H3N2-PB1\t2274\t376\t59\r\n",
      "H3N2-HA\t1701\t212\t73\r\n",
      "H3N2-NP\t1497\t219\t85\r\n",
      "H3N2-NS\t693\t84\t31\r\n",
      "H3N2-NA\t1407\t95\t36\r\n",
      "H3N2-MP\t759\t179\t78\r\n",
      "*\t0\t0\t84806\r\n"
     ]
    }
   ],
   "source": [
    "cd /home/alan/projects/MinION-notebook/clinical-analysis/miseq/h1n1\n",
    "\n",
    "samtools idxstats h1n1.quads-references.sort.bam"
   ]
  },
  {
   "cell_type": "code",
   "execution_count": null,
   "metadata": {
    "collapsed": true
   },
   "outputs": [],
   "source": [
    "sub=\"h3n2-70\"\n",
    "\n",
    "cd /home/alan/projects/MinION-notebook/clinical-analysis/miseq/$sub\n",
    "\n",
    "bwa mem \\\n",
    "-x intractg \\\n",
    "-t 30 \\\n",
    "~/projects/MinION-notebook/reference-sequences/quads-study-reference-sequence.fasta \\\n",
    "$sub.r1.fastq.gz $sub.r2.fastq.gz > $sub.quads-references.sam\n",
    "\n",
    "samtools view -b -o $sub.quads-references.bam $sub.quads-references.sam\n",
    "samtools sort -o $sub.quads-references.sort.bam $sub.quads-references.bam\n",
    "samtools index $sub.quads-references.sort.bam\n",
    "\n",
    "rm  $sub.quads-references.bam $sub.quads-references.sam"
   ]
  },
  {
   "cell_type": "code",
   "execution_count": 8,
   "metadata": {
    "ExecuteTime": {
     "end_time": "2016-03-31T17:40:38.795534",
     "start_time": "2016-03-31T17:40:38.365629"
    },
    "collapsed": false,
    "level": 7
   },
   "outputs": [
    {
     "name": "stdout",
     "output_type": "stream",
     "text": [
      "FluB-PB1\t2259\t82\t26\r\n",
      "FluB-PB2\t2313\t94\t34\r\n",
      "FluB-PA\t2181\t111\t39\r\n",
      "FluB-HA\t1758\t157\t57\r\n",
      "FluB-NP\t1683\t7\t5\r\n",
      "FluB-NA\t1401\t126\t50\r\n",
      "FluB-NS\t1027\t78\t43\r\n",
      "FluB-MP\t1076\t77\t32\r\n",
      "H1N1-PB2\t2280\t149\t35\r\n",
      "H1N1-PB1\t2274\t891\t43\r\n",
      "H1N1-PA\t2151\t26081\t36\r\n",
      "H1N1-HA\t1701\t157\t55\r\n",
      "H1N1-NP\t1497\t134\t60\r\n",
      "H1N1-NA\t1410\t70\t26\r\n",
      "H1N1-MP\t982\t17620\t116\r\n",
      "H1N1-NS\t838\t164\t62\r\n",
      "H3N2-PB2\t2280\t135176\t600\r\n",
      "H3N2-PA\t1689\t103755\t867\r\n",
      "H3N2-PB1\t2274\t170654\t732\r\n",
      "H3N2-HA\t1701\t280031\t1281\r\n",
      "H3N2-NP\t1497\t153419\t767\r\n",
      "H3N2-NS\t693\t16787\t196\r\n",
      "H3N2-NA\t1407\t139870\t649\r\n",
      "H3N2-MP\t759\t165599\t2443\r\n",
      "*\t0\t0\t119756\r\n"
     ]
    }
   ],
   "source": [
    "cd /home/alan/projects/MinION-notebook/clinical-analysis/miseq/h3n2-70\n",
    "\n",
    "samtools idxstats h3n2-70.quads-references.sort.bam"
   ]
  },
  {
   "cell_type": "code",
   "execution_count": null,
   "metadata": {
    "collapsed": true
   },
   "outputs": [],
   "source": [
    "sub=\"h3n2-90\"\n",
    "\n",
    "cd /home/alan/projects/MinION-notebook/clinical-analysis/miseq/$sub\n",
    "\n",
    "bwa mem \\\n",
    "-x intractg \\\n",
    "-t 30 \\\n",
    "~/projects/MinION-notebook/reference-sequences/quads-study-reference-sequence.fasta \\\n",
    "$sub.r1.fastq.gz $sub.r2.fastq.gz > $sub.quads-references.sam\n",
    "\n",
    "samtools view -b -o $sub.quads-references.bam $sub.quads-references.sam\n",
    "samtools sort -o $sub.quads-references.sort.bam $sub.quads-references.bam\n",
    "samtools index $sub.quads-references.sort.bam\n",
    "\n",
    "rm  $sub.quads-references.bam $sub.quads-references.sam"
   ]
  },
  {
   "cell_type": "code",
   "execution_count": 9,
   "metadata": {
    "ExecuteTime": {
     "end_time": "2016-03-31T17:40:45.615069",
     "start_time": "2016-03-31T17:40:45.177203"
    },
    "collapsed": false,
    "level": 7
   },
   "outputs": [
    {
     "name": "stdout",
     "output_type": "stream",
     "text": [
      "FluB-PB1\t2259\t109\t32\r\n",
      "FluB-PB2\t2313\t556\t31\r\n",
      "FluB-PA\t2181\t140\t33\r\n",
      "FluB-HA\t1758\t264\t69\r\n",
      "FluB-NP\t1683\t10\t2\r\n",
      "FluB-NA\t1401\t237\t48\r\n",
      "FluB-NS\t1027\t95\t40\r\n",
      "FluB-MP\t1076\t135\t33\r\n",
      "H1N1-PB2\t2280\t114\t50\r\n",
      "H1N1-PB1\t2274\t981\t39\r\n",
      "H1N1-PA\t2151\t17063\t27\r\n",
      "H1N1-HA\t1701\t180\t65\r\n",
      "H1N1-NP\t1497\t128\t52\r\n",
      "H1N1-NA\t1410\t95\t35\r\n",
      "H1N1-MP\t982\t10358\t112\r\n",
      "H1N1-NS\t838\t183\t67\r\n",
      "H3N2-PB2\t2280\t81512\t576\r\n",
      "H3N2-PA\t1689\t72356\t983\r\n",
      "H3N2-PB1\t2274\t108534\t705\r\n",
      "H3N2-HA\t1701\t194727\t1274\r\n",
      "H3N2-NP\t1497\t121145\t918\r\n",
      "H3N2-NS\t693\t35480\t410\r\n",
      "H3N2-NA\t1407\t103771\t698\r\n",
      "H3N2-MP\t759\t155766\t3865\r\n",
      "*\t0\t0\t303922\r\n"
     ]
    }
   ],
   "source": [
    "cd /home/alan/projects/MinION-notebook/clinical-analysis/miseq/h3n2-90\n",
    "\n",
    "samtools idxstats h3n2-90.quads-references.sort.bam"
   ]
  },
  {
   "cell_type": "markdown",
   "metadata": {},
   "source": [
    "So it looked like there may have been a mixed infection, but looking at the alignments it doesn't seem very likely. \n",
    "\n",
    "![title](docs/clinical-h3n2-90-vs-all-subtypes-h1n1-pa.png)\n",
    "\n",
    "![title](docs/clinical-h3n2-90-vs-all-subtypes-h1n1-mp.png)"
   ]
  },
  {
   "cell_type": "markdown",
   "metadata": {
    "collapsed": true
   },
   "source": [
    "## Mixed Infection Simulation\n",
    "\n",
    "Since the samples that were sequenced on the MinION were not as genetically diverse as we had initially thought (at least based on the MiSeq and MinION data) we were not able to do much in regards to haplotying and identifying potential mixed infection of multiple strains of the same subtype. Therefore, the idea to mix the similar H3N2-70 and H3N2-90 strains at random (in different proportions) should yield a detection threshold for variants/strains. \n",
    "\n",
    "To do this, the H3N2 reads from the 6-4 and 8-13 runs need to be segregated out. These runs were already blasted, so theoretically the H3N2 blast hits should be adequate enough, though there are bound to be some false positive and false negatives in there.\n",
    "\n",
    "In order to identify which positions can be used to identify each strain, the discrepancies between the MiSeq consensus sequences need to be determined for each segment. From there we can use those positions and nucleotides to identify the strains present."
   ]
  },
  {
   "cell_type": "code",
   "execution_count": null,
   "metadata": {
    "collapsed": true
   },
   "outputs": [],
   "source": [
    "cd /home/alan/projects/MinION-notebook/clinical-analysis/mixed-infection-simulation\n",
    "\n",
    "# consensus sequences generated by using the top blast hits from the MinION data.\n",
    "ln -s ../consensus-comparison/h3n2-70/c1.6-4-h3n2-70-top-seg-hits.consensus.fasta\n",
    "ln -s ../consensus-comparison/h3n2-90/f1.8-13-h3n2-90-top-seg-hits.consensus.fasta\n",
    "\n",
    "for i in HA NA NP NS PA PB1 PB2 MP; do grep -A1 -h --no-group-separator $i f1.8-13-h3n2-90-top-seg-hits.consensus.fasta\\\n",
    "| perl -pe 's/^(>.+)/$1-H3N2-90/g' > $i.fasta && grep -A1 -h --no-group-separator $i\\\n",
    "c1.6-4-h3n2-70-top-seg-hits.consensus.fasta | perl -pe 's/^(>.+)/$1-H3N2-70/g' >> $i.fasta; done\n",
    "\n",
    "for i in HA NA NP NS PA PB1 PB2 MP; do fsa $i.fasta > $i.aln; done\n",
    "\n",
    "for i in HA NA NP NS PA PB1 PB2 MP; do python ~/projects/MinION-notebook/scripts/pairwise-pid.py $i.aln fasta ; done"
   ]
  },
  {
   "cell_type": "markdown",
   "metadata": {},
   "source": [
    "The deletions are due to the CDS region being aligned to and not the entire segment. Not sure how that happened since I downloaded the full segment database, but we'll roll with it for now.\n",
    "\n",
    "Segment | RefLength | SNVS | Deletions \n",
    "--------|-----------|------|----------\n",
    "HA | 1762 | 10 | 35\n",
    "NA | 1466 | 11 | 0\n",
    "NP | 1566 | 2 | 0\n",
    "NS | 890 | 3 | 0\n",
    "PA | 2232 | 4 | 0\n",
    "PB1 | 2341 | 6 | 1\n",
    "PB2 | 2341 | 7 | 61\n",
    "MP | 1027 | 4 | 0\n",
    "\n",
    "The list of discrepant bases is as follows: \n",
    "\n",
    "Segment | Position | H3N2-90 | H3N2-70\n",
    "--------|----------|---------|--------\n",
    "HA | 200 | C | T\n",
    "HA | 501 | A | G\n",
    "HA | 666 | G | A\n",
    "HA | 958 | C | T\n",
    "HA | 1084 | G | A\n",
    "HA | 1156 | G | A\n",
    "HA | 1225 | A | G\n",
    "HA | 1345 | C | T\n",
    "HA | 1375 | T | C\n",
    "HA | 1588 | A | G\n",
    "NA | 3 | G | A\n",
    "NA | 67 | T | A\n",
    "NA | 333 | A | G\n",
    "NA | 339 | A | G\n",
    "NA | 423 | G | A\n",
    "NA | 681 | C | T\n",
    "NA | 752 | G | A\n",
    "NA | 757 | T | A\n",
    "NA | 909 | C | A\n",
    "NA | 1019 | G | A\n",
    "NA | 1095 | T | C\n",
    "NP | 218 | G | A\n",
    "NP | 1543 | G | A\n",
    "NS | 3 | A | G\n",
    "NS | 217 | T | C\n",
    "NS | 355 | A | G\n",
    "PA | 374 | T | C\n",
    "PA | 1547 | G | A\n",
    "PA | 1676 | A | G\n",
    "PA | 2197 | C | T\n",
    "PB1 | 341 | A | C\n",
    "PB1 | 773 | G | A\n",
    "PB1 | 914 | G | A\n",
    "PB1 | 1040 | C | T\n",
    "PB1 | 1072 | A | G\n",
    "PB1 | 2228 | T | A\n",
    "PB2 | 95 | T | C\n",
    "PB2 | 230 | G | A\n",
    "PB2 | 342 | A | G\n",
    "PB2 | 1844 | A | G\n",
    "PB2 | 1850 | A | G\n",
    "PB2 | 2018 | G | A\n",
    "PB2 | 2030 | C | T\n",
    "MP | 327 | G | A\n",
    "MP | 624 | A | G\n",
    "MP | 855 | C | T\n",
    "MP | 867 | G | A"
   ]
  },
  {
   "cell_type": "code",
   "execution_count": null,
   "metadata": {
    "collapsed": true
   },
   "outputs": [],
   "source": []
  },
  {
   "cell_type": "code",
   "execution_count": null,
   "metadata": {
    "collapsed": true
   },
   "outputs": [],
   "source": [
    "# this folder is a symlink on /data1 so I'll need to copy it over when it's all done doing analysis.\n",
    "cd /home/alan/projects/MinION-notebook/mixed-infection-simulation\n",
    "\n",
    "grep -B6 'H3N2' flu-6-4.2d.fludb.xml  | grep 'Iteration_query-def' | perl -pe 's/^.+def>(.+)<\\/Iteration.+/$1/g'\\\n",
    "| grep --no-group-separator -A3 -F -f - flu-6-4.2d.fastq > h3n2-70.fastq\n",
    "grep -B6 'H3N2' flu-8-13.2d.fludb.xml  | grep 'Iteration_query-def' | perl -pe 's/^.+def>(.+)<\\/Iteration.+/$1/g' \\\n",
    "| grep --no-group-separator -A3 -F -f - flu-8-13.2d.fastq > h3n2-90.fastq"
   ]
  },
  {
   "cell_type": "markdown",
   "metadata": {},
   "source": [
    "Now to randomly sample in different proportions. I guess start from 95%:5% for starters?"
   ]
  },
  {
   "cell_type": "markdown",
   "metadata": {},
   "source": [
    "## MiSeq and MinION Consensus Comparisons\n",
    "\n",
    "This is to look at if and how the MiSeq consensus sequences vary from the MinION consensus sequences. \n",
    "\n",
    "I will use the top Blast segments for the references initially. \n",
    "\n",
    "I also need to segregate the subtypes as to avoid any cross contamination between them while mapping. Though it shouldn't have much of an effect this is something that we need to identify anyway."
   ]
  },
  {
   "cell_type": "markdown",
   "metadata": {},
   "source": [
    "### FluB"
   ]
  },
  {
   "cell_type": "code",
   "execution_count": null,
   "metadata": {
    "collapsed": true
   },
   "outputs": [],
   "source": [
    "cd /home/alan/projects/MinION-notebook/minion-blast/6-4\n",
    "\n",
    "blastn \\\n",
    "-db ~/projects/MinION-notebook/clinical-analysis/fludb/all-H1N1-H3N2-FluB-full-segs.fasta \\\n",
    "-query flu-6-4.2d.fasta \\\n",
    "-out flu-6-4.2d.fludb.xml \\\n",
    "-outfmt 5 \\\n",
    "-num_threads 40 \\\n",
    "-max_target_seqs 1 \\\n",
    "-culling_limit 2 \\\n",
    "-evalue 0.00005\n",
    "\n",
    "python ~/projects/MinION-notebook/scripts/read-fludb-blastxml.py flu-6-4.2d.fludb.xml > flu-6-4.2d.fludb.seg-counts.tsv\n",
    "\n",
    "for i in PA PB2 PB1 MP NA NS NP PA HA; do sort -nrk4 ~/projects/MinION-notebook/minion-blast/6-4/flu-6-4.2d.fludb.seg-counts.tsv | grep 'FluB' | grep -m1 $i ; done\n",
    "\n",
    "cd /home/alan/projects/MinION-notebook/minion-blast/11-9\n",
    "\n",
    "blastn \\\n",
    "-db ~/projects/MinION-notebook/clinical-analysis/fludb/all-H1N1-H3N2-FluB-full-segs.fasta \\\n",
    "-query flu-11-9.2d.fasta \\\n",
    "-out flu-11-9.2d.fludb.xml \\\n",
    "-outfmt 5 \\\n",
    "-num_threads 40 \\\n",
    "-max_target_seqs 1 \\\n",
    "-culling_limit 2 \\\n",
    "-evalue 0.00005\n",
    "\n",
    "python ~/projects/MinION-notebook/scripts/read-fludb-blastxml.py flu-11-9.2d.fludb.xml > flu-11-9.2d.fludb.seg-counts.tsv\n",
    "\n",
    "for i in PA PB2 PB1 MP NA NS NP PA HA; do sort -nrk4 ~/projects/MinION-notebook/minion-blast/11-9/flu-11-9.2d.f*tsv | grep 'FluB' | grep -m1 $i ; done\n",
    "\n",
    "cd /home/alan/projects/MinION-notebook/clinical-analysis/consensus-comparison/flub\n",
    "\n",
    "bwa mem -t 30 11-9-top-seg-hits.fasta f3.r1.fastq.gz f3.r2.fastq.gz\n",
    "\n",
    "samtools view -b -o f3.11-9-top-seg-hits.bam f3.11-9-top-seg-hits.sam\n",
    "samtools sort -o f3.11-9-top-seg-hits.sort.bam f3.11-9-top-seg-hits.bam\n",
    "samtools index f3.11-9-top-seg-hits.sort.bam\n",
    "\n",
    "bwa mem -t 30 -x ont2d 11-9-top-seg-hits.fasta flu-11-9.2d.fastq > flu-11-9.2d.11-9-top-seg-hits.sam\n",
    "\n",
    "samtools view -b -o flu-11-9.2d.11-9-top-seg-hits.bam flu-11-9.2d.11-9-top-seg-hits.sam\n",
    "samtools sort -o flu-11-9.2d.11-9-top-seg-hits.sort.bam flu-11-9.2d.11-9-top-seg-hits.bam\n",
    "samtools index flu-11-9.2d.11-9-top-seg-hits.sort.bam\n",
    "\n",
    "for i in HA NA NP NS MP PA PB1 PB2; do python ~/projects/MinION-notebook/scripts/bamfile_consensus_generate.py f3.11-9-top-seg-hits.sort.bam $i ; done > f3.11-9-top-seg-hits.consensus.fasta\n",
    "\n",
    "for i in HA NA NP NS MP PA PB1 PB2; do python ~/projects/MinION-notebook/scripts/bamfile_consensus_generate.py flu-11-9.2d.11-9-top-seg-hits.sort.bam $i ; done > flu-11-9.2d.11-9-top-seg-hits.consensus.fasta"
   ]
  },
  {
   "cell_type": "markdown",
   "metadata": {},
   "source": [
    "It's interesting to note that the blast results between the 6-4 and 11-9 MinION runs produce different top hits with the exception of MP, NS, and NA. Since the FluDB is only taking representative sequences these top hits are actually different.\n",
    "\n",
    "6-4 \n",
    "* CY124945        FluB    PA      11      gb:CY124945|Organism:Influenza B virus B/Managua/3425.01/2008|Segment:3|Subtype:null|Host:Human\n",
    "* KT866760        FluB    PB2     21      gb:KT866760|Organism:Influenza B virus B/New York/17/2015|Segment:1|Subtype:null|Host:Human\n",
    "* CY191426        FluB    PB1     23      gb:CY191426|Organism:Influenza B virus B/New York/WC-LVD-14-009/2014|Segment:2|Subtype:null|Host:Human\n",
    "* LC033380        FluB    MP      83      gb:LC033380|Organism:Influenza B virus B/Nagasaki/13N070/2014|Segment:7|Subtype:null|Host:Human\n",
    "* LC033379        FluB    NA      72      gb:LC033379|Organism:Influenza B virus B/Nagasaki/13N070/2014|Segment:6|Subtype:null|Host:Human\n",
    "* LC033381        FluB    NS      174     gb:LC033381|Organism:Influenza B virus B/Nagasaki/13N070/2014|Segment:8|Subtype:null|Host:Human\n",
    "* CY191542        FluB    NP      1       gb:CY191542|Organism:Influenza B virus B/New York/WC-LVD-14-025/2014|Segment:5|Subtype:null|Host:Human\n",
    "* CY124945        FluB    PA      11      gb:CY124945|Organism:Influenza B virus B/Managua/3425.01/2008|Segment:3|Subtype:null|Host:Human\n",
    "* CY173779        FluB    HA      26      gb:CY173779|Organism:Influenza B virus B/New York/1330/2012|Segment:4|Subtype:null|Host:Human\n",
    "\n",
    "11-9\n",
    "* KT866320        FluB    PA      24      gb:KT866320|Organism:Influenza B virus B/Delaware/11/2015|Segment:3|Subtype:null|Host:Human\n",
    "* AY504600        FluB    PB2     38      gb:AY504600|Organism:Influenza B virus B/Victoria/504/2000|Segment:1|Subtype:null|Host:Human\n",
    "* KT853479        FluB    PB1     6       gb:KT853479|Organism:Influenza B virus B/Pennsylvania/04/2015|Segment:2|Subtype:null|Host:Human\n",
    "* LC033380        FluB    MP      28      gb:LC033380|Organism:Influenza B virus B/Nagasaki/13N070/2014|Segment:7|Subtype:null|Host:Human\n",
    "* LC033379        FluB    NA      133     gb:LC033379|Organism:Influenza B virus B/Nagasaki/13N070/2014|Segment:6|Subtype:null|Host:Human\n",
    "* LC033381        FluB    NS      54      gb:LC033381|Organism:Influenza B virus B/Nagasaki/13N070/2014|Segment:8|Subtype:null|Host:Human\n",
    "* CY173782        FluB    NP      4       gb:CY173782|Organism:Influenza B virus B/New York/1330/2012|Segment:5|Subtype:null|Host:Human\n",
    "* KT866320        FluB    PA      24      gb:KT866320|Organism:Influenza B virus B/Delaware/11/2015|Segment:3|Subtype:null|Host:Human\n",
    "* KP864252        FluB    HA      29      gb:KP864252|Organism:Influenza B virus B/Quebec/07/2014|Segment:4|Subtype:null|Host:Human\n",
    "\n",
    "The HA segments are the only ones that differ in length so comparisons between the other segments should be fine:\n",
    "\n",
    "perl ~/projects/MinION-notebook/scripts/get-len.pl flu-11-9.2d.11-9-top-seg-hits.consensus.fasta\n",
    "    HA      1834\n",
    "    NA      1551\n",
    "    NP      1809\n",
    "    NS      1096\n",
    "    MP      1190\n",
    "    PA      2181\n",
    "    PB1     2313\n",
    "    PB2     2369\n",
    "\n",
    "perl ~/projects/MinION-notebook/scripts/get-len.pl f3.11-9-top-seg-hits.consensus.fasta\n",
    "    HA      1831\n",
    "    NA      1551\n",
    "    NP      1809\n",
    "    NS      1096\n",
    "    MP      1190\n",
    "    PA      2181\n",
    "    PB1     2313\n",
    "    PB2     2369\n",
    "\n",
    "So now to map the MinION data to the MiSeq blast consensus and the MiSeq data to the MinION blast consensus and compare the two new consensus sequence. "
   ]
  },
  {
   "cell_type": "code",
   "execution_count": null,
   "metadata": {
    "collapsed": true
   },
   "outputs": [],
   "source": [
    "cd /home/alan/projects/MinION-notebook/clinical-analysis/consensus-comparison/flub/minion-to-miseq-consensus\n",
    "\n",
    "bwa mem -t 30 -x ont2d f3.11-9-top-seg-hits.consensus.fasta flu-11-9.2d.fastq > flu-11-9.2d.sam\n",
    "\n",
    "samtools view -b -o flu-11-9.2d.bam flu-11-9.2d.sam\n",
    "samtools sort -o flu-11-9.2d.sort.bam flu-11-9.2d.bam\n",
    "samtools index flu-11-9.2d.sort.bam\n",
    "\n",
    "rm flu-11-9.2d.sam flu-11-9.2d.bam\n",
    "\n",
    "for i in HA NA NP NS MP PA PB1 PB2; do python ~/projects/MinION-notebook/scripts/bamfile_consensus_generate.py flu-11-9.2d.sort.bam $i ; done > flu-11-9.2d.consensus.fasta\n",
    "\n",
    "cd /home/alan/projects/MinION-notebook/clinical-analysis/consensus-comparison/flub/miseq-to-minion-consensus\n",
    "\n",
    "bwa mem -t 30 flu-11-9.2d.11-9-top-seg-hits.consensus.fasta f3.r1.fastq.gz f3.r2.fastq.gz\n",
    "\n",
    "samtools view -b -o f3.bam f3.sam\n",
    "samtools sort -o f3.sort.bam f3.bam\n",
    "samtools index f3.sort.bam\n",
    "\n",
    "rm f3.sam f3.bam\n",
    "\n",
    "for i in HA NA NP NS MP PA PB1 PB2; do python ~/projects/MinION-notebook/scripts/bamfile_consensus_generate.py f3.sort.bam $i ; done > f3.consensus.fasta"
   ]
  },
  {
   "cell_type": "code",
   "execution_count": null,
   "metadata": {
    "ExecuteTime": {
     "end_time": "2016-03-24T15:43:29.966016",
     "start_time": "2016-03-24T15:43:28.600333"
    },
    "collapsed": false
   },
   "outputs": [],
   "source": [
    "cd /home/alan/projects/MinION-notebook/clinical-analysis/consensus-comparison/flub\n",
    "\n",
    "for i in HA NA NP MP NS PB1 PB2 PA; do grep -A1 -h --no-group-separator $i miseq-to-minion-consensus/f3.consensus.fasta minion-to-miseq-consensus/flu-11-9.2d.consensus.fasta > temp.fa && python ~/projects/MinION-notebook/scripts/pairwise-pid.py temp.fa fasta; done"
   ]
  },
  {
   "cell_type": "markdown",
   "metadata": {},
   "source": [
    "So all but the NS segment have differences. Which is really weird considering the consensus sequences from the top flu segments have fewer variants.\n",
    "\n",
    "Also, super important, order matters for comparing the consensus sequences. Found that bug earlier...\n",
    "\n",
    "The following step is to look at how the consensus sequences compare when both the MiSeq and the MinION use the top MinION blast hit. This **should** be the cleanest the data will ever be but it's not. I think this is a direct result of introducing gaps/noise into the aligner. "
   ]
  },
  {
   "cell_type": "code",
   "execution_count": null,
   "metadata": {
    "ExecuteTime": {
     "end_time": "2016-03-24T14:05:34.406200",
     "start_time": "2016-03-24T14:05:33.143882"
    },
    "collapsed": false
   },
   "outputs": [],
   "source": [
    "cd /home/alan/projects/MinION-notebook/clinical-analysis/consensus-comparison/flub\n",
    "for i in HA NA NP MP NS PB1 PB2 PA; do grep -A1 -h --no-group-separator $i f3.11-9-top-seg-hits.consensus.fasta flu-11-9.2d.11-9-top-seg-hits.consensus.fasta > temp.fa && python ~/projects/MinION-notebook/scripts/pairwise-pid.py temp.fa fasta; done"
   ]
  },
  {
   "cell_type": "markdown",
   "metadata": {},
   "source": [
    "For some reason the HA segment of the MiSeq consensus generated with the top blast hit is missing the last three nucleotides, so I've manually editted them in.\n",
    "\n",
    "For clarity, I'm merging all the runs to see if it has an effect on the consensus quality. I compared the consensus sequences when using the top blast hit as the reference."
   ]
  },
  {
   "cell_type": "code",
   "execution_count": null,
   "metadata": {
    "collapsed": true
   },
   "outputs": [],
   "source": [
    "cd /home/alan/projects/MinION-notebook/clinical-analysis/consensus-comparison/all-flub-runs\n",
    "\n",
    "cat ~/projects/MinION-notebook/raw-data/MinION/11-9/flu-11-9.2d.fastq ~/projects/MinION-notebook/raw-data/MinION/6-4/flu-6-4.2d.fastq ~/projects/MinION-notebook/raw-data/MinION/8-13/flu-8-13.2d.fastq > all-runs.fastq\n",
    "\n",
    "ls ../flub/11-9-top-seg-hits.fasta* | xargs -I 1 ln -s 1\n",
    "\n",
    "bwa mem -t 30 -x ont2d 11-9-top-seg-hits.fasta all-runs.fastq > all-runs.11-9-top-seg-hits.sam\n",
    "\n",
    "samtools view -b -o all-runs.11-9-top-seg-hits.bam all-runs.11-9-top-seg-hits.sam\n",
    "samtools sort -o all-runs.11-9-top-seg-hits.sort.bam all-runs.11-9-top-seg-hits.bam\n",
    "samtools index all-runs.11-9-top-seg-hits.sort.bam\n",
    "\n",
    "rm all-runs.11-9-top-seg-hits.bam all-runs.11-9-top-seg-hits.sam\n",
    "\n",
    "for i in HA NA NP NS MP PA PB1 PB2; do python ~/projects/MinION-notebook/scripts/bamfile_consensus_generate.py all-runs.11-9-top-seg-hits.sort.bam $i ; done > all-runs.11-9-top-seg-hits.consensus.fasta"
   ]
  },
  {
   "cell_type": "code",
   "execution_count": 6,
   "metadata": {
    "ExecuteTime": {
     "end_time": "2016-03-29T14:40:38.042357",
     "start_time": "2016-03-29T14:40:36.610054"
    },
    "collapsed": false
   },
   "outputs": [
    {
     "name": "stdout",
     "output_type": "stream",
     "text": [
      "RefName\tRefLen\t#Variants\t#Deletions\r\n",
      "HA \t1834 \t1 \t9\r\n",
      "RefName\tRefLen\t#Variants\t#Deletions\r\n",
      "NA \t1551 \t1 \t4\r\n",
      "RefName\tRefLen\t#Variants\t#Deletions\r\n",
      "NP \t1809 \t0 \t12\r\n",
      "RefName\tRefLen\t#Variants\t#Deletions\r\n",
      "MP \t1190 \t0 \t11\r\n",
      "RefName\tRefLen\t#Variants\t#Deletions\r\n",
      "NS \t1096 \t1 \t1\r\n",
      "RefName\tRefLen\t#Variants\t#Deletions\r\n",
      "PB1 \t2313 \t0 \t6\r\n",
      "RefName\tRefLen\t#Variants\t#Deletions\r\n",
      "PB2 \t2369 \t46 \t8\r\n",
      "RefName\tRefLen\t#Variants\t#Deletions\r\n",
      "PA \t2181 \t0 \t1\r\n"
     ]
    }
   ],
   "source": [
    "cd /home/alan/projects/MinION-notebook/clinical-analysis/consensus-comparison/all-flub-runs\n",
    "\n",
    "for i in HA NA NP MP NS PB1 PB2 PA; do grep -A1 -h --no-group-separator $i ../flub/f3.11-9-top-seg-hits.consensus.fasta all-runs.11-9-top-seg-hits.consensus.fasta > temp.fa && python ~/projects/MinION-notebook/scripts/pairwise-pid.py temp.fa fasta; done"
   ]
  },
  {
   "cell_type": "markdown",
   "metadata": {},
   "source": [
    "So more depth helps reduce the noise but not sure why it hasn't fixed it. Also, way more indels here...\n",
    "\n",
    "Time to blast the mapped reads to see if this improves anything by obtaining a refined reference sequence"
   ]
  },
  {
   "cell_type": "code",
   "execution_count": null,
   "metadata": {
    "collapsed": true
   },
   "outputs": [],
   "source": [
    "cd /home/alan/projects/MinION-notebook/clinical-analysis/consensus-comparison/all-flub-runs\n",
    "\n",
    "samtools view -F 4 all-runs.11-9-top-seg-hits.sort.bam | cut -f1,10 | perl -pe 's/^(.+)\\t(.+)/>$1\\n$2/g' > all-runs.11-9-top-seg-hits.mapped-only.fasta\n",
    "\n",
    "blastn -db ~/projects/MinION-notebook/clinical-analysis/fludb/all-H1N1-H3N2-FluB-full-segs.fasta -query all-runs.11-9-top-seg-hits.mapped-only.fasta -out all-runs.11-9-top-seg-hits.mapped-only.blastn.xml -num_threads 30 -culling_limit 2 -max_target_seqs 1 -evalue 0.00005 -outfmt 5\n",
    "\n",
    "python ~/projects/MinION-notebook/scripts/read-fludb-blastxml.py all-runs.11-9-top-seg-hits.mapped-only.blastn.xml > all-runs.11-9-top-seg-hits.mapped-only.blastn.seg-counts.tsv"
   ]
  },
  {
   "cell_type": "markdown",
   "metadata": {},
   "source": []
  },
  {
   "cell_type": "markdown",
   "metadata": {},
   "source": [
    "### Consensus Pairwise Alignment\n",
    "\n",
    "For some reason the references differ drastically when I use the other platform's consensus sequence as a reference. I.e. when aligning the MinION data to the MiSeq reference (generated by aligning the the MiSeq data to the top MinION blast hit).\n",
    "\n",
    "I'm assuming this has a lot to do with the erroneous consensus generated with the MinION data so I don't know if this is a worthwhile comparison, especially since the blast results are pretty accurate themselves.\n",
    "\n",
    "Below are the variant positions that were identified when comparing the consensus sequences above. There are only three total. The order of the sequences are as follows:\n",
    "    1) Top blast hit for that segment\n",
    "    2) MiSeq consensus generated from aligning to the top blast hit\n",
    "    3) MiSeq consensus generated from aligning to the MinION consensus\n",
    "    4) MinION consensus generated from aligning to the top blast hit\n",
    "    5) MinION consensus generated from aligning to the MiSeq consensus\n",
    "\n",
    "![title](docs/flub-blast-consensus-alignment-HA.png)\n",
    "\n",
    "![title](docs/flub-blast-consensus-alignment-NS.png)\n",
    "\n",
    "![title](docs/flub-blast-consensus-alignment-NA.png)\n",
    "\n",
    "Based on these results, the reference definitely seems to guide the alignment of the MinION data. \n",
    "\n",
    "    A) The blast hit isn't an exact match when comparing to the MiSeq data (problem one). There are three positions that are discrepant betweent the MiSeq and the Blast results, and since we're relying on the MiSeq as being the correct dataset, and the fact that the MinION can support this, we're going to go with that.\n",
    "    B) Adjacent indels, presumably, are the reason that the MinION reads are being skewed to the reference base. I highly doubt this is a result of lack of reads mapping since it's just a single base, and the fact that these reads are indel rich, suggests it's an alignment artifact.\n",
    "    C) When aligning to the MiSeq consensus (regardless of how it was generated) the MinION always agrees. \n",
    "\n",
    "I think looking at the IGV of these alignments will be very informative on whether or not this is an algorithmic artifact (if that's what it would be classified as).\n",
    "\n",
    "These alignments are showing the pileup at the positions in the consensus where there are discrepancies between the MinION and MiSeq consensus sequences. The order is as follows:\n",
    "    1) MiSeq to MinION consensus\n",
    "    2) MinION to MiSeq consensus\n",
    "    3) MinION to top blast hit\n",
    "    4) MiSeq to top blast hit\n",
    "\n",
    "![title](docs/flub-top-seg-hits-miseq-minion-alignments-HA.png)\n",
    "\n",
    "![title](docs/flub-top-seg-hits-miseq-minion-alignments-NS.png)\n",
    "\n",
    "![title](docs/flub-top-seg-hits-miseq-minion-alignments-NA.png)\n",
    "\n",
    "\n",
    "So the evidence suggests a pretty significant difference in proportions of bases that agree with the reference sequence it is aligned to. The problem is that there are so many erroneous bases called that the read provides the aligner with the capacity to better fit the reference. As seen below, the same read (outlined in red) has its flanking indels shown. Based on this screenshot I can extrapolate raw sequence that would normally span that region.\n",
    "\n",
    "![title](docs/flub-top-seg-hits-minion-indel-HA.png)\n",
    "\n",
    "\n",
    "So now that the problem has been identified as an indel misalignment the problem now lies in whether this is something that:\n",
    "    A) Can be corrected by tweaking alignmnet parameters\n",
    "    B) Is biased due to the reference database used (is the MiSeq consensus sequence actually represented in the FluDB or is this a novel strain?)\n",
    "    C) Can the correct sequence be obtained without the information provided by the MiSeq?\n",
    "    \n",
    "Just to note, all of these are near some poly(A). Not sure if that has any relevance to the findings but it is an observation."
   ]
  },
  {
   "cell_type": "markdown",
   "metadata": {},
   "source": [
    "### FluDB Comprehension\n",
    "\n",
    "To determine whether the MiSeq consensus sequence is actually represented in the FluDB used to query, I grepped for an exact match and there were none, meaning that our consensus is either novel or erroneous. To further support that claim, a blastn against the nt database also yielded a hit with 4 mismatches. This could be biased due to the reference used (note that the consensus sequence starts aligning at the subject's 10th nucleotide in the blast results below) so there may not be enough information retained in the consensus, but I find that highly unlikely.\n",
    "\n",
    "![title](docs/flub-11-9-HA-top-blast-result.png)\n",
    "\n",
    "So now the question is: is this the real sequence in the sample? This is theoretically only solvable via de novo assembly..."
   ]
  },
  {
   "cell_type": "markdown",
   "metadata": {
    "collapsed": true
   },
   "source": [
    "### Reference Base Masking\n",
    "\n",
    "Since there is an obvious bias in the reference when aligning the MinION data, removing the bases that are inducing the bias may yield a more accurate consensus sequence. To do so, I will change the discrepant bases between the MiSeq and the MinION consensus sequences to an 'N' and see what happens when it tries to align the MinION data."
   ]
  },
  {
   "cell_type": "code",
   "execution_count": 7,
   "metadata": {
    "ExecuteTime": {
     "end_time": "2016-03-29T14:41:52.144709",
     "start_time": "2016-03-29T14:41:51.379727"
    },
    "collapsed": false
   },
   "outputs": [
    {
     "name": "stdout",
     "output_type": "stream",
     "text": [
      "RefName\tRefLen\t#Variants\t#Deletions\r\n",
      "HA \t1834 \t0 \t9\r\n",
      "RefName\tRefLen\t#Variants\t#Deletions\r\n",
      "NA \t1551 \t1 \t4\r\n",
      "RefName\tRefLen\t#Variants\t#Deletions\r\n",
      "NS \t1096 \t0 \t0\r\n"
     ]
    }
   ],
   "source": [
    "cd /home/alan/projects/MinION-notebook/clinical-analysis/consensus-comparison/flub/reference-base-masking\n",
    "\n",
    "for i in HA NA NS; do grep -A1 -h --no-group-separator $i ../f3.11-9-top-seg-hits.consensus.fasta flu-11-9.2d.11-9-top-seg-hits.masked.consensus.fasta > temp && python ~/projects/MinION-notebook/scripts/pairwise-pid.py temp fasta; done"
   ]
  },
  {
   "cell_type": "markdown",
   "metadata": {},
   "source": [
    "And then there was one... \n",
    "\n",
    "Based on the consensus comparisons previously done these positions were not substituted for deletions (woohoo!) so that is good. However, that isn't to say that there were not more deletions overall at those positions.\n",
    "\n",
    "Now to figure out why this didn't work for the NA.\n",
    "\n",
    "For HA this tactic worked perfectly. The top alignment (MinION aligned to MiSeq reference) is the same as the bottom (MinION aligned to the reference blast hit).\n",
    "![title](docs/flub-masked-reference-base-HA.png)\n",
    "\n",
    "For NA this went in the opposite direction. This introduced a lot more noise than expected and ended up calling a 'C' instead of an 'A' or 'G' which was seen in the other alignments.\n",
    "![title](docs/flub-masked-reference-base-NA.png)\n",
    "\n",
    "The NS worked alright though the two most frequent bases are not separated by a significant amount of reads (only a 2% difference), but at least it worked.\n",
    "![title](docs/flub-masked-reference-base-NS.png)\n",
    "\n",
    "Also, need to dig into the PB1 segmnet - see why it's not working.\n",
    "\n",
    "\n",
    "So now to try this with a different dataset to see if one of them can actually get it right."
   ]
  },
  {
   "cell_type": "code",
   "execution_count": null,
   "metadata": {
    "ExecuteTime": {
     "end_time": "2016-03-29T14:06:07.895242",
     "start_time": "2016-03-29T14:06:06.092119"
    },
    "collapsed": false
   },
   "outputs": [],
   "source": [
    "cd /home/alan/projects/MinION-notebook/clinical-analysis/consensus-comparison/flub/reference-base-masking\n",
    "\n",
    "ln -s ~/projects/MinION-notebook/raw-data/MinION/6-4/flu-6-4.2d.fastq\n",
    "\n",
    "bwa mem -t 30 -x ont2d 11-9-top-seg-hits.masked.fasta flu-6-4.2d.fastq > flu-6-4.2d.11-9-top-seg-hits.masked.sam\n",
    "\n",
    "samtools view -b -o flu-6-4.2d.11-9-top-seg-hits.masked.bam flu-6-4.2d.11-9-top-seg-hits.masked.sam\n",
    "samtools sort -o flu-6-4.2d.11-9-top-seg-hits.masked.sort.bam flu-6-4.2d.11-9-top-seg-hits.masked.bam\n",
    "samtools index flu-6-4.2d.11-9-top-seg-hits.masked.sort.bam\n",
    "\n",
    "rm flu-6-4.2d.11-9-top-seg-hits.masked.bam flu-6-4.2d.11-9-top-seg-hits.masked.sam\n",
    "\n",
    "for i in PB1 PB2 PA HA NA NS NP MP; do python ~/projects/MinION-notebook/scripts/bamfile_consensus_generate.py flu-6-4.2d.11-9-top-seg-hits.masked.sort.bam $i ; done > flu-6-4.2d.11-9-top-seg-hits.masked.consensus.fasta"
   ]
  },
  {
   "cell_type": "code",
   "execution_count": 5,
   "metadata": {
    "ExecuteTime": {
     "end_time": "2016-03-29T14:24:36.179664",
     "start_time": "2016-03-29T14:24:34.807910"
    },
    "collapsed": false
   },
   "outputs": [
    {
     "name": "stdout",
     "output_type": "stream",
     "text": [
      "RefName\tRefLen\t#Variants\t#Deletions\r\n",
      "PB1 \t2313 \t2 \t33\r\n",
      "RefName\tRefLen\t#Variants\t#Deletions\r\n",
      "PB2 \t2369 \t5 \t24\r\n",
      "RefName\tRefLen\t#Variants\t#Deletions\r\n",
      "PA \t2181 \t0 \t17\r\n",
      "RefName\tRefLen\t#Variants\t#Deletions\r\n",
      "HA \t1834 \t0 \t26\r\n",
      "RefName\tRefLen\t#Variants\t#Deletions\r\n",
      "NA \t1551 \t0 \t14\r\n",
      "RefName\tRefLen\t#Variants\t#Deletions\r\n",
      "NS \t1096 \t0 \t6\r\n",
      "RefName\tRefLen\t#Variants\t#Deletions\r\n",
      "NP \t1809 \t108 \t120\r\n",
      "RefName\tRefLen\t#Variants\t#Deletions\r\n",
      "MP \t1190 \t0 \t17\r\n"
     ]
    }
   ],
   "source": [
    "cd /home/alan/projects/MinION-notebook/clinical-analysis/consensus-comparison/flub/reference-base-masking\n",
    "\n",
    "for i in PB1 PB2 PA HA NA NS NP MP; do grep -A1 -h --no-group-separator $i ../f3.11-9-top-seg-hits.consensus.fasta  flu-6-4.2d.11-9-top-seg-hits.masked.consensus.fasta > temp && python ~/projects/MinION-notebook/scripts/pairwise-pid.py temp fasta; done"
   ]
  },
  {
   "cell_type": "markdown",
   "metadata": {},
   "source": [
    "So the 6-4 run does not have any variants in these segments (yay?). "
   ]
  },
  {
   "cell_type": "markdown",
   "metadata": {},
   "source": [
    "### H1N1\n",
    "\n",
    "So now to conduct the same methodology with H1N1."
   ]
  },
  {
   "cell_type": "code",
   "execution_count": null,
   "metadata": {
    "ExecuteTime": {
     "end_time": "2016-03-31T14:55:13.782407",
     "start_time": "2016-03-31T14:41:54.516091"
    },
    "collapsed": false,
    "run_control": {
     "marked": false
    },
    "scrolled": true
   },
   "outputs": [],
   "source": [
    "cd /home/alan/projects/MinION-notebook/minion-blast/6-4\n",
    "\n",
    "blastn \\\n",
    "-db ~/projects/MinION-notebook/clinical-analysis/fludb/all-H1N1-H3N2-FluB-full-segs.fasta \\\n",
    "-query flu-6-4.2d.fasta \\\n",
    "-out flu-6-4.2d.fludb.xml \\\n",
    "-outfmt 5 \\\n",
    "-num_threads 40 \\\n",
    "-max_target_seqs 1 \\\n",
    "-culling_limit 2 \\\n",
    "-evalue 0.00005\n",
    "\n",
    "python ~/projects/MinION-notebook/scripts/read-fludb-blastxml.py flu-6-4.2d.fludb.xml > flu-6-4.2d.fludb.seg-counts.tsv\n",
    "\n",
    "for i in PA PB2 PB1 MP NA NS NP PA HA; do sort -nrk4 ~/projects/MinION-notebook/minion-blast/6-4/flu-6-4.2d.fludb.seg-counts.tsv | grep 'H1N1' | grep -m1 $i ; done > 6-4-h1n1-top-seg-hits.tsv\n",
    "\n",
    "cd /home/alan/projects/MinION-notebook/clinical-analysis/consensus-comparison/h1n1/6-4\n",
    "\n",
    "ln -s ~/projects/MinION-notebook/minion-blast/6-4/6-4-h1n1-top-seg-hits.tsv\n",
    "\n",
    "cut -f1 6-4-h1n1-top-seg-hits.tsv | grep --no-group-separator -A1 -F -f - ~/projects/MinION-notebook/clinical-analysis/fludb/all-H1N1-H3N2-FluB-full-segs.fasta > 6-4-h1n1-top-seg-hits.fasta\n",
    "\n",
    "bwa index 6-4-h1n1-top-seg-hits.fasta\n",
    "\n",
    "bwa mem -t 30 6-4-h1n1-top-seg-hits.fasta a1.r1.fastq.gz a1.r2.fastq.gz > a1.6-4-h1n1-top-seg-hits.sam\n",
    "\n",
    "samtools view -b -o a1.6-4-h1n1-top-seg-hits.bam a1.6-4-h1n1-top-seg-hits.sam\n",
    "samtools sort -o a1.6-4-h1n1-top-seg-hits.sort.bam a1.6-4-h1n1-top-seg-hits.bam\n",
    "samtools index a1.6-4-h1n1-top-seg-hits.sort.bam\n",
    "\n",
    "bwa mem -t 30 -x ont2d 6-4-h1n1-top-seg-hits.fasta flu-6-4.2d.fastq > flu-6-4.2d.6-4-h1n1-top-seg-hits.sam\n",
    "\n",
    "samtools view -b -o flu-6-4.2d.6-4-h1n1-top-seg-hits.bam flu-6-4.2d.6-4-h1n1-top-seg-hits.sam\n",
    "samtools sort -o flu-6-4.2d.6-4-h1n1-top-seg-hits.sort.bam flu-6-4.2d.6-4-h1n1-top-seg-hits.bam\n",
    "samtools index flu-6-4.2d.6-4-h1n1-top-seg-hits.sort.bam\n",
    "\n",
    "for i in HA NA NP NS MP PA PB1 PB2; do python ~/projects/MinION-notebook/scripts/bamfile_consensus_generate.py a1.6-4-h1n1-top-seg-hits.sort.bam $i ; done > a1.6-4-h1n1-top-seg-hits.consensus.fasta\n",
    "\n",
    "for i in HA NA NP NS MP PA PB1 PB2; do python ~/projects/MinION-notebook/scripts/bamfile_consensus_generate.py flu-6-4.2d.6-4-h1n1-top-seg-hits.sort.bam $i ; done > flu-6-4.2d.6-4-h1n1-top-seg-hits.consensus.fasta\n",
    "\n",
    "#blast against the fluDB\n",
    "cd /home/alan/projects/MinION-notebook/minion-blast/8-13\n",
    "\n",
    "blastn \\\n",
    "-db ~/projects/MinION-notebook/clinical-analysis/fludb/all-H1N1-H3N2-FluB-full-segs.fasta \\\n",
    "-query flu-8-13.2d.fasta \\\n",
    "-out flu-8-13.2d.fludb.xml \\\n",
    "-outfmt 5 \\\n",
    "-num_threads 40 \\\n",
    "-max_target_seqs 1 \\\n",
    "-culling_limit 2 \\\n",
    "-evalue 0.00005\n",
    "\n",
    "python ~/projects/MinION-notebook/scripts/read-fludb-blastxml.py flu-8-13.2d.fludb.xml > flu-8-13.2d.fludb.seg-counts.tsv\n",
    "\n",
    "for i in PA PB2 PB1 MP NA NS NP PA HA; do sort -nrk4 ~/projects/MinION-notebook/minion-blast/8-13/flu-8-13.2d.fludb.seg-counts.tsv | grep 'H1N1' | grep -m1 $i ; done > 8-13-h1n1-top-seg-hits.tsv\n",
    "\n",
    "# Map to the top blast segments and generate consensus sequences\n",
    "cd /home/alan/projects/MinION-notebook/clinical-analysis/consensus-comparison/h1n1/8-13\n",
    "\n",
    "ln -s ~/projects/MinION-notebook/minion-blast/8-13/8-13-h1n1-top-seg-hits.tsv\n",
    "\n",
    "cut -f1 8-13-h1n1-top-seg-hits.tsv | grep --no-group-separator -A1 -F -f - ~/projects/MinION-notebook/clinical-analysis/fludb/all-H1N1-H3N2-FluB-full-segs.fasta > 8-13-h1n1-top-seg-hits.fasta\n",
    "\n",
    "bwa index 8-13-h1n1-top-seg-hits.fasta\n",
    "\n",
    "bwa mem -t 30 8-13-h1n1-top-seg-hits.fasta a1.r1.fastq.gz a1.r2.fastq.gz > a1.8-13-h1n1-top-seg-hits.sam\n",
    "\n",
    "samtools view -b -o a1.8-13-h1n1-top-seg-hits.bam a1.8-13-h1n1-top-seg-hits.sam\n",
    "samtools sort -o a1.8-13-h1n1-top-seg-hits.sort.bam a1.8-13-h1n1-top-seg-hits.bam\n",
    "samtools index a1.8-13-h1n1-top-seg-hits.sort.bam\n",
    "\n",
    "bwa mem -t 30 -x ont2d 8-13-h1n1-top-seg-hits.fasta flu-8-13.2d.fastq > flu-8-13.2d.8-13-h1n1-top-seg-hits.sam\n",
    "\n",
    "samtools view -b -o flu-8-13.2d.8-13-h1n1-top-seg-hits.bam flu-8-13.2d.8-13-h1n1-top-seg-hits.sam\n",
    "samtools sort -o flu-8-13.2d.8-13-h1n1-top-seg-hits.sort.bam flu-8-13.2d.8-13-h1n1-top-seg-hits.bam\n",
    "samtools index flu-8-13.2d.8-13-h1n1-top-seg-hits.sort.bam\n",
    "\n",
    "for i in HA NA NP NS MP PA PB1 PB2; do python ~/projects/MinION-notebook/scripts/bamfile_consensus_generate.py a1.8-13-h1n1-top-seg-hits.sort.bam $i ; done > a1.8-13-h1n1-top-seg-hits.consensus.fasta\n",
    "\n",
    "for i in HA NA NP NS MP PA PB1 PB2; do python ~/projects/MinION-notebook/scripts/bamfile_consensus_generate.py flu-8-13.2d.8-13-h1n1-top-seg-hits.sort.bam $i ; done > flu-8-13.2d.8-13-h1n1-top-seg-hits.consensus.fasta"
   ]
  },
  {
   "cell_type": "code",
   "execution_count": 2,
   "metadata": {
    "ExecuteTime": {
     "end_time": "2016-03-31T15:50:14.106279",
     "start_time": "2016-03-31T15:50:12.431440"
    },
    "collapsed": false,
    "scrolled": true
   },
   "outputs": [
    {
     "name": "stdout",
     "output_type": "stream",
     "text": [
      "RefName\tRefLen\t#Variants\t#Deletions\r\n",
      "PB1 \t2274 \t33 \t15\r\n",
      "RefName\tRefLen\t#Variants\t#Deletions\r\n",
      "PB2 \t2280 \t224 \t13\r\n",
      "RefName\tRefLen\t#Variants\t#Deletions\r\n",
      "PA \t2233 \t14 \t6\r\n",
      "RefName\tRefLen\t#Variants\t#Deletions\r\n",
      "HA \t1777 \t3 \t27\r\n",
      "RefName\tRefLen\t#Variants\t#Deletions\r\n",
      "NA \t1410 \t1 \t6\r\n",
      "RefName\tRefLen\t#Variants\t#Deletions\r\n",
      "NS \t863 \t125 \t11\r\n",
      "RefName\tRefLen\t#Variants\t#Deletions\r\n",
      "NP \t1497 \t0 \t2\r\n",
      "Traceback (most recent call last):\r\n",
      "  File \"/home/alan/projects/MinION-notebook/scripts/pairwise-pid.py\", line 10, in <module>\r\n",
      "    alignment = AlignIO.read(open(sys.argv[1]), sys.argv[2])\r\n",
      "  File \"/usr/local/lib/python2.7/dist-packages/Bio/AlignIO/__init__.py\", line 427, in read\r\n",
      "    first = next(iterator)\r\n",
      "  File \"/usr/local/lib/python2.7/dist-packages/Bio/AlignIO/__init__.py\", line 374, in parse\r\n",
      "    for a in i:\r\n",
      "  File \"/usr/local/lib/python2.7/dist-packages/Bio/AlignIO/__init__.py\", line 276, in _SeqIO_to_alignment_iterator\r\n",
      "    yield MultipleSeqAlignment(records, alphabet)\r\n",
      "  File \"/usr/local/lib/python2.7/dist-packages/Bio/Align/__init__.py\", line 176, in __init__\r\n",
      "    self.extend(records)\r\n",
      "  File \"/usr/local/lib/python2.7/dist-packages/Bio/Align/__init__.py\", line 246, in extend\r\n",
      "    self._append(rec, expected_length)\r\n",
      "  File \"/usr/local/lib/python2.7/dist-packages/Bio/Align/__init__.py\", line 309, in _append\r\n",
      "    raise ValueError(\"Sequences must all be the same length\")\r\n",
      "ValueError: Sequences must all be the same length\r\n"
     ]
    }
   ],
   "source": [
    "cd /home/alan/projects/MinION-notebook/clinical-analysis/consensus-comparison/h1n1/8-13\n",
    "\n",
    "for i in PB1 PB2 PA HA NA NS NP MP; do grep -A1 -h --no-group-separator $i a1.8-13-h1n1-top-seg-hits.consensus.fasta flu-8-13.2d.8-13-h1n1-top-seg-hits.consensus.fasta > temp && python ~/projects/MinION-notebook/scripts/pairwise-pid.py temp fasta; done"
   ]
  },
  {
   "cell_type": "code",
   "execution_count": 3,
   "metadata": {
    "ExecuteTime": {
     "end_time": "2016-03-31T16:21:17.285607",
     "start_time": "2016-03-31T16:21:15.921339"
    },
    "collapsed": false,
    "scrolled": true
   },
   "outputs": [
    {
     "name": "stdout",
     "output_type": "stream",
     "text": [
      "RefName\tRefLen\t#Variants\t#Deletions\r\n",
      "PB1 \t2327 \t128 \t23\r\n",
      "RefName\tRefLen\t#Variants\t#Deletions\r\n",
      "PB2 \t2341 \t207 \t26\r\n",
      "RefName\tRefLen\t#Variants\t#Deletions\r\n",
      "PA \t2233 \t283 \t21\r\n",
      "RefName\tRefLen\t#Variants\t#Deletions\r\n",
      "HA \t1777 \t2 \t25\r\n",
      "RefName\tRefLen\t#Variants\t#Deletions\r\n",
      "NA \t1410 \t1 \t5\r\n",
      "RefName\tRefLen\t#Variants\t#Deletions\r\n",
      "NS \t863 \t0 \t4\r\n",
      "RefName\tRefLen\t#Variants\t#Deletions\r\n",
      "NP \t1497 \t7 \t2\r\n",
      "Traceback (most recent call last):\r\n",
      "  File \"/home/alan/projects/MinION-notebook/scripts/pairwise-pid.py\", line 10, in <module>\r\n",
      "    alignment = AlignIO.read(open(sys.argv[1]), sys.argv[2])\r\n",
      "  File \"/usr/local/lib/python2.7/dist-packages/Bio/AlignIO/__init__.py\", line 427, in read\r\n",
      "    first = next(iterator)\r\n",
      "  File \"/usr/local/lib/python2.7/dist-packages/Bio/AlignIO/__init__.py\", line 374, in parse\r\n",
      "    for a in i:\r\n",
      "  File \"/usr/local/lib/python2.7/dist-packages/Bio/AlignIO/__init__.py\", line 276, in _SeqIO_to_alignment_iterator\r\n",
      "    yield MultipleSeqAlignment(records, alphabet)\r\n",
      "  File \"/usr/local/lib/python2.7/dist-packages/Bio/Align/__init__.py\", line 176, in __init__\r\n",
      "    self.extend(records)\r\n",
      "  File \"/usr/local/lib/python2.7/dist-packages/Bio/Align/__init__.py\", line 246, in extend\r\n",
      "    self._append(rec, expected_length)\r\n",
      "  File \"/usr/local/lib/python2.7/dist-packages/Bio/Align/__init__.py\", line 309, in _append\r\n",
      "    raise ValueError(\"Sequences must all be the same length\")\r\n",
      "ValueError: Sequences must all be the same length\r\n"
     ]
    }
   ],
   "source": [
    "cd /home/alan/projects/MinION-notebook/clinical-analysis/consensus-comparison/h1n1/6-4\n",
    "\n",
    "for i in PB1 PB2 PA HA NA NS NP MP; do grep -A1 -h --no-group-separator $i a1.6-4-h1n1-top-seg-hits.consensus.fasta flu-6-4.2d.6-4-h1n1-top-seg-hits.consensus.fasta > temp && python ~/projects/MinION-notebook/scripts/pairwise-pid.py temp fasta; done"
   ]
  },
  {
   "cell_type": "markdown",
   "metadata": {},
   "source": [
    "### H3N2-70"
   ]
  },
  {
   "cell_type": "code",
   "execution_count": null,
   "metadata": {
    "collapsed": true
   },
   "outputs": [],
   "source": [
    "cd /home/alan/projects/MinION-notebook/clinical-analysis/consensus-comparison/h3n2-70\n",
    "\n",
    "ln -s ~/projects/MinION-notebook/raw-data/MinION/6-4/flu-6-4.2d.fastq\n",
    "ln -s ~/projects/MinION-notebook/raw-data/MiSeq/clinical-strains/c1.r1.fastq.gz\n",
    "ln -s ~/projects/MinION-notebook/raw-data/MiSeq/clinical-strains/c1.r2.fastq.gz\n",
    "ln -s ~/projects/MinION-notebook/minion-blast/6-4/6-4-h3n2-70-top-seg-hits.tsv\n",
    "\n",
    "cut -f1 6-4-h3n2-70-top-seg-hits.tsv | grep --no-group-separator -A1 -F -f - ~/projects/MinION-notebook/clinical-analysis/fludb/all-H1N1-H3N2-FluB-full-segs.fasta > 6-4-h3n2-70-top-seg-hits.fasta\n",
    "\n",
    "bwa index 6-4-h3n2-70-top-seg-hits.fasta\n",
    "\n",
    "bwa mem -t 30 6-4-h3n2-70-top-seg-hits.fasta c1.r1.fastq.gz c1.r2.fastq.gz > c1.6-4-h3n2-70-top-seg-hits.sam\n",
    "\n",
    "samtools view -b -o c1.6-4-h3n2-70-top-seg-hits.bam c1.6-4-h3n2-70-top-seg-hits.sam\n",
    "samtools sort -o c1.6-4-h3n2-70-top-seg-hits.sort.bam c1.6-4-h3n2-70-top-seg-hits.bam\n",
    "samtools index c1.6-4-h3n2-70-top-seg-hits.sort.bam\n",
    "\n",
    "bwa mem -t 30 -x ont2d 6-4-h3n2-70-top-seg-hits.fasta flu-6-4.2d.fastq > flu-6-4.2d.6-4-h3n2-70-top-seg-hits.sam\n",
    "\n",
    "samtools view -b -o flu-6-4.2d.6-4-h3n2-70-top-seg-hits.bam flu-6-4.2d.6-4-h3n2-70-top-seg-hits.sam\n",
    "samtools sort -o flu-6-4.2d.6-4-h3n2-70-top-seg-hits.sort.bam flu-6-4.2d.6-4-h3n2-70-top-seg-hits.bam\n",
    "samtools index flu-6-4.2d.6-4-h3n2-70-top-seg-hits.sort.bam\n",
    "\n",
    "for i in HA NA NP NS MP PA PB1 PB2; do python ~/projects/MinION-notebook/scripts/bamfile_consensus_generate.py c1.6-4-h3n2-70-top-seg-hits.sort.bam $i ; done > c1.6-4-h3n2-70-top-seg-hits.consensus.fasta\n",
    "\n",
    "for i in HA NA NP NS MP PA PB1 PB2; do python ~/projects/MinION-notebook/scripts/bamfile_consensus_generate.py flu-6-4.2d.6-4-h3n2-70-top-seg-hits.sort.bam $i ; done > flu-6-4.2d.6-4-h3n2-70-top-seg-hits.consensus.fasta\n"
   ]
  },
  {
   "cell_type": "code",
   "execution_count": 4,
   "metadata": {
    "ExecuteTime": {
     "end_time": "2016-03-31T17:00:41.424047",
     "start_time": "2016-03-31T17:00:40.054744"
    },
    "collapsed": false
   },
   "outputs": [
    {
     "name": "stdout",
     "output_type": "stream",
     "text": [
      "RefName\tRefLen\t#Variants\t#Deletions\r\n",
      "PB1 \t2340 \t4 \t27\r\n",
      "RefName\tRefLen\t#Variants\t#Deletions\r\n",
      "PB2 \t2280 \t17 \t13\r\n",
      "RefName\tRefLen\t#Variants\t#Deletions\r\n",
      "PA \t2232 \t1 \t15\r\n",
      "RefName\tRefLen\t#Variants\t#Deletions\r\n",
      "HA \t1727 \t0 \t12\r\n",
      "RefName\tRefLen\t#Variants\t#Deletions\r\n",
      "NA \t1466 \t0 \t12\r\n",
      "RefName\tRefLen\t#Variants\t#Deletions\r\n",
      "NS \t890 \t140 \t11\r\n",
      "RefName\tRefLen\t#Variants\t#Deletions\r\n",
      "NP \t1566 \t42 \t1\r\n",
      "RefName\tRefLen\t#Variants\t#Deletions\r\n",
      "MP \t1027 \t2 \t5\r\n"
     ]
    }
   ],
   "source": [
    "cd /home/alan/projects/MinION-notebook/clinical-analysis/consensus-comparison/h3n2-70\n",
    "\n",
    "for i in PB1 PB2 PA HA NA NS NP MP; do grep -A1 -h --no-group-separator $i c1.6-4-h3n2-70-top-seg-hits.consensus.fasta flu-6-4.2d.6-4-h3n2-70-top-seg-hits.consensus.fasta > temp && python ~/projects/MinION-notebook/scripts/pairwise-pid.py temp fasta; done"
   ]
  },
  {
   "cell_type": "markdown",
   "metadata": {},
   "source": [
    "### H3N2-90"
   ]
  },
  {
   "cell_type": "code",
   "execution_count": null,
   "metadata": {
    "collapsed": true
   },
   "outputs": [],
   "source": [
    "cd /home/alan/projects/MinION-notebook/clinical-analysis/consensus-comparison/h3n2-90\n",
    "\n",
    "ln -s ~/projects/MinION-notebook/raw-data/MinION/8-13/flu-8-13.2d.fastq\n",
    "ln -s ~/projects/MinION-notebook/raw-data/MiSeq/clinical-strains/f1.r1.fastq.gz\n",
    "ln -s ~/projects/MinION-notebook/raw-data/MiSeq/clinical-strains/f1.r2.fastq.gz\n",
    "ln -s ~/projects/MinION-notebook/minion-blast/8-13/8-13-h3n2-90-top-seg-hits.tsv\n",
    "\n",
    "cut -f1 8-13-h3n2-90-top-seg-hits.tsv | grep --no-group-separator -A1 -F -f - ~/projects/MinION-notebook/clinical-analysis/fludb/all-H1N1-H3N2-FluB-full-segs.fasta > 8-13-h3n2-90-top-seg-hits.fasta\n",
    "\n",
    "bwa index 8-13-h3n2-90-top-seg-hits.fasta\n",
    "\n",
    "bwa mem -t 30 8-13-h3n2-90-top-seg-hits.fasta f1.r1.fastq.gz f1.r2.fastq.gz > f1.8-13-h3n2-90-top-seg-hits.sam\n",
    "\n",
    "samtools view -b -o f1.8-13-h3n2-90-top-seg-hits.bam f1.8-13-h3n2-90-top-seg-hits.sam\n",
    "samtools sort -o f1.8-13-h3n2-90-top-seg-hits.sort.bam f1.8-13-h3n2-90-top-seg-hits.bam\n",
    "samtools index f1.8-13-h3n2-90-top-seg-hits.sort.bam\n",
    "\n",
    "bwa mem -t 30 -x ont2d 8-13-h3n2-90-top-seg-hits.fasta flu-8-13.2d.fastq > flu-8-13.2d.8-13-h3n2-90-top-seg-hits.sam\n",
    "\n",
    "samtools view -b -o flu-8-13.2d.8-13-h3n2-90-top-seg-hits.bam flu-8-13.2d.8-13-h3n2-90-top-seg-hits.sam\n",
    "samtools sort -o flu-8-13.2d.8-13-h3n2-90-top-seg-hits.sort.bam flu-8-13.2d.8-13-h3n2-90-top-seg-hits.bam\n",
    "samtools index flu-8-13.2d.8-13-h3n2-90-top-seg-hits.sort.bam\n",
    "\n",
    "for i in HA NA NP NS MP PA PB1 PB2; do python ~/projects/MinION-notebook/scripts/bamfile_consensus_generate.py f1.8-13-h3n2-90-top-seg-hits.sort.bam $i ; done > f1.8-13-h3n2-90-top-seg-hits.consensus.fasta\n",
    "\n",
    "for i in HA NA NP NS MP PA PB1 PB2; do python ~/projects/MinION-notebook/scripts/bamfile_consensus_generate.py flu-8-13.2d.8-13-h3n2-90-top-seg-hits.sort.bam $i ; done > flu-8-13.2d.8-13-h3n2-90-top-seg-hits.consensus.fasta\n"
   ]
  },
  {
   "cell_type": "code",
   "execution_count": 5,
   "metadata": {
    "ExecuteTime": {
     "end_time": "2016-03-31T17:15:20.230255",
     "start_time": "2016-03-31T17:15:18.848116"
    },
    "collapsed": false
   },
   "outputs": [
    {
     "name": "stdout",
     "output_type": "stream",
     "text": [
      "RefName\tRefLen\t#Variants\t#Deletions\r\n",
      "PB1 \t2341 \t13 \t20\r\n",
      "RefName\tRefLen\t#Variants\t#Deletions\r\n",
      "PB2 \t2341 \t3 \t8\r\n",
      "RefName\tRefLen\t#Variants\t#Deletions\r\n",
      "PA \t2232 \t86 \t9\r\n",
      "RefName\tRefLen\t#Variants\t#Deletions\r\n",
      "HA \t1762 \t1 \t12\r\n",
      "RefName\tRefLen\t#Variants\t#Deletions\r\n",
      "NA \t1466 \t1 \t11\r\n",
      "RefName\tRefLen\t#Variants\t#Deletions\r\n",
      "NS \t890 \t2 \t7\r\n",
      "RefName\tRefLen\t#Variants\t#Deletions\r\n",
      "NP \t1566 \t202 \t8\r\n",
      "RefName\tRefLen\t#Variants\t#Deletions\r\n",
      "MP \t1027 \t0 \t5\r\n"
     ]
    }
   ],
   "source": [
    "cd /home/alan/projects/MinION-notebook/clinical-analysis/consensus-comparison/h3n2-90\n",
    "\n",
    "for i in PB1 PB2 PA HA NA NS NP MP; do grep -A1 -h --no-group-separator $i f1.8-13-h3n2-90-top-seg-hits.consensus.fasta flu-8-13.2d.8-13-h3n2-90-top-seg-hits.consensus.fasta > temp && python ~/projects/MinION-notebook/scripts/pairwise-pid.py temp fasta; done"
   ]
  },
  {
   "cell_type": "markdown",
   "metadata": {},
   "source": [
    "### 4-5 H3N2\n",
    "\n",
    "This had a very low yield so I'm blasting all the reads just to see what happens."
   ]
  },
  {
   "cell_type": "markdown",
   "metadata": {},
   "source": [
    "#### All 4-5 Reads"
   ]
  },
  {
   "cell_type": "code",
   "execution_count": null,
   "metadata": {
    "collapsed": true
   },
   "outputs": [],
   "source": [
    "cd /home/alan/projects/MinION-notebook/minion-blast/4-5\n",
    "\n",
    "blastn \\\n",
    "-db ~/projects/MinION-notebook/clinical-analysis/fludb/all-H1N1-H3N2-FluB-full-segs.fasta \\\n",
    "-query flu-4-5.fasta \\\n",
    "-out flu-4-5.fludb.xml \\\n",
    "-outfmt 5 \\\n",
    "-num_threads 40 \\\n",
    "-max_target_seqs 1 \\\n",
    "-culling_limit 2 \\\n",
    "-evalue 0.00005"
   ]
  },
  {
   "cell_type": "markdown",
   "metadata": {},
   "source": [
    "Tim generated a consensus sequence from the MiSeq data that was mapped to a random H3N2 sequence from the same year and location as this sample (NY 2015). I'm going to align all of the reads since the yield was low."
   ]
  },
  {
   "cell_type": "code",
   "execution_count": null,
   "metadata": {
    "collapsed": true
   },
   "outputs": [],
   "source": [
    "cd /home/alan/projects/MinION-notebook/clinical-analysis/minion/4-5\n",
    "\n",
    "ln -s ../../miseq/4-5/A39_consensus.fa\n",
    "\n",
    "bwa mem -x ont2d -t 30 A39_consensus.fa flu-4-5.fastq > flu-4-5.sam\n",
    "\n",
    "samtools view -o flu-4-5.bam -b flu-4-5.sam\n",
    "samtools sort -o flu-4-5.sort.bam flu-4-5.bam\n",
    "samtools index flu-4-5.sort.bam\n",
    "\n",
    "rm *sam flu-4-5.bam\n",
    "\n",
    "for i in HA NA NP NS MP PA PB1 PB2; do python ~/projects/MinION-notebook/scripts/bamfile_consensus_generate.py \\\n",
    "flu-4-5.sort.bam $i ; done > flu-4-5.miseq-consensus.consensus.fasta"
   ]
  },
  {
   "cell_type": "code",
   "execution_count": 3,
   "metadata": {
    "ExecuteTime": {
     "end_time": "2016-04-07T14:57:31.132013",
     "start_time": "2016-04-07T14:57:30.720433"
    },
    "collapsed": false
   },
   "outputs": [
    {
     "name": "stdout",
     "output_type": "stream",
     "text": [
      "HA\t1701\t63\t0\r\n",
      "MP\t982\t191\t0\r\n",
      "NA\t1410\t33\t0\r\n",
      "NP\t1497\t36\t0\r\n",
      "NS\t838\t21\t0\r\n",
      "PA\t2151\t27\t0\r\n",
      "PB1\t2274\t30\t0\r\n",
      "PB2\t2280\t8\t0\r\n",
      "*\t0\t0\t10\r\n"
     ]
    }
   ],
   "source": [
    "cd /home/alan/projects/MinION-notebook/clinical-analysis/minion/4-5\n",
    "\n",
    "samtools idxstats flu-4-5.sort.bam"
   ]
  },
  {
   "cell_type": "code",
   "execution_count": 4,
   "metadata": {
    "ExecuteTime": {
     "end_time": "2016-04-07T14:58:14.093587",
     "start_time": "2016-04-07T14:58:12.524384"
    },
    "collapsed": false
   },
   "outputs": [
    {
     "name": "stdout",
     "output_type": "stream",
     "text": [
      "RefName\tRefLen\t#Variants\t#Deletions\r\n",
      "PB1 \t2274 \t6 \t27\r\n",
      "RefName\tRefLen\t#Variants\t#Deletions\r\n",
      "PB2 \t2280 \t18 \t53\r\n",
      "RefName\tRefLen\t#Variants\t#Deletions\r\n",
      "PA \t2151 \t1 \t23\r\n",
      "RefName\tRefLen\t#Variants\t#Deletions\r\n",
      "HA \t1701 \t0 \t7\r\n",
      "RefName\tRefLen\t#Variants\t#Deletions\r\n",
      "NA \t1410 \t0 \t8\r\n",
      "RefName\tRefLen\t#Variants\t#Deletions\r\n",
      "NS \t838 \t0 \t8\r\n",
      "RefName\tRefLen\t#Variants\t#Deletions\r\n",
      "NP \t1497 \t0 \t6\r\n",
      "RefName\tRefLen\t#Variants\t#Deletions\r\n",
      "MP \t982 \t0 \t3\r\n"
     ]
    }
   ],
   "source": [
    "cd /home/alan/projects/MinION-notebook/clinical-analysis/minion/4-5\n",
    "\n",
    "for i in PB1 PB2 PA HA NA NS NP MP; do grep -A1 -h --no-group-separator $i A39_consensus.fa \\\n",
    "flu-4-5.miseq-consensus.consensus.fasta > temp && \\\n",
    "python ~/projects/MinION-notebook/scripts/pairwise-pid.py temp fasta; done"
   ]
  },
  {
   "cell_type": "markdown",
   "metadata": {},
   "source": [
    "This was way better than I was expecting. Maybe not focusing on the 2D reads is where we should go next? I'm going to try all the variations of the 'pass' reads to see how the consensus sequences look."
   ]
  },
  {
   "cell_type": "markdown",
   "metadata": {},
   "source": [
    "#### HQ 2D reads only\n",
    "\n",
    "There are only 11 of these bad boys, so hopefully that can make some magic happen."
   ]
  },
  {
   "cell_type": "code",
   "execution_count": null,
   "metadata": {
    "ExecuteTime": {
     "end_time": "2016-04-07T15:52:38.116373",
     "start_time": "2016-04-07T15:52:36.186156"
    },
    "collapsed": false
   },
   "outputs": [],
   "source": [
    "cd /home/alan/projects/MinION-notebook/clinical-analysis/minion/4-5\n",
    "\n",
    "bwa mem -x ont2d -t 30 A39_consensus.fa flu-4-5.hq.2d.fastq > flu-4-5.hq.2d.sam\n",
    "\n",
    "samtools view -o flu-4-5.hq.2d.bam -b flu-4-5.hq.2d.sam\n",
    "samtools sort -o flu-4-5.hq.2d.sort.bam flu-4-5.hq.2d.bam\n",
    "samtools index flu-4-5.hq.2d.sort.bam\n",
    "\n",
    "rm *sam flu-4-5.hq.2d.bam\n",
    "\n",
    "for i in HA NA NP NS MP PA PB1 PB2; do python ~/projects/MinION-notebook/scripts/bamfile_consensus_generate.py \\\n",
    "flu-4-5.hq.2d.sort.bam $i ; done > flu-4-5.hq.2d.miseq-consensus.consensus.fasta"
   ]
  },
  {
   "cell_type": "code",
   "execution_count": 6,
   "metadata": {
    "ExecuteTime": {
     "end_time": "2016-04-07T15:53:09.169363",
     "start_time": "2016-04-07T15:53:08.758691"
    },
    "collapsed": false
   },
   "outputs": [
    {
     "name": "stdout",
     "output_type": "stream",
     "text": [
      "HA\t1701\t2\t0\r\n",
      "MP\t982\t6\t0\r\n",
      "NA\t1410\t0\t0\r\n",
      "NP\t1497\t2\t0\r\n",
      "NS\t838\t0\t0\r\n",
      "PA\t2151\t0\t0\r\n",
      "PB1\t2274\t1\t0\r\n",
      "PB2\t2280\t0\t0\r\n",
      "*\t0\t0\t0\r\n"
     ]
    }
   ],
   "source": [
    "cd /home/alan/projects/MinION-notebook/clinical-analysis/minion/4-5\n",
    "\n",
    "samtools idxstats flu-4-5.hq.2d.sort.bam"
   ]
  },
  {
   "cell_type": "code",
   "execution_count": 7,
   "metadata": {
    "ExecuteTime": {
     "end_time": "2016-04-07T16:06:16.352320",
     "start_time": "2016-04-07T16:06:14.776194"
    },
    "collapsed": false,
    "scrolled": true
   },
   "outputs": [
    {
     "name": "stdout",
     "output_type": "stream",
     "text": [
      "RefName\tRefLen\t#Variants\t#Deletions\r\n",
      "PB1 \t2274 \t162 \t110\r\n",
      "Traceback (most recent call last):\r\n",
      "  File \"/home/alan/projects/MinION-notebook/scripts/pairwise-pid.py\", line 10, in <module>\r\n",
      "    alignment = AlignIO.read(open(sys.argv[1]), sys.argv[2])\r\n",
      "  File \"/usr/local/lib/python2.7/dist-packages/Bio/AlignIO/__init__.py\", line 427, in read\r\n",
      "    first = next(iterator)\r\n",
      "  File \"/usr/local/lib/python2.7/dist-packages/Bio/AlignIO/__init__.py\", line 374, in parse\r\n",
      "    for a in i:\r\n",
      "  File \"/usr/local/lib/python2.7/dist-packages/Bio/AlignIO/__init__.py\", line 276, in _SeqIO_to_alignment_iterator\r\n",
      "    yield MultipleSeqAlignment(records, alphabet)\r\n",
      "  File \"/usr/local/lib/python2.7/dist-packages/Bio/Align/__init__.py\", line 176, in __init__\r\n",
      "    self.extend(records)\r\n",
      "  File \"/usr/local/lib/python2.7/dist-packages/Bio/Align/__init__.py\", line 246, in extend\r\n",
      "    self._append(rec, expected_length)\r\n",
      "  File \"/usr/local/lib/python2.7/dist-packages/Bio/Align/__init__.py\", line 309, in _append\r\n",
      "    raise ValueError(\"Sequences must all be the same length\")\r\n",
      "ValueError: Sequences must all be the same length\r\n",
      "Traceback (most recent call last):\r\n",
      "  File \"/home/alan/projects/MinION-notebook/scripts/pairwise-pid.py\", line 10, in <module>\r\n",
      "    alignment = AlignIO.read(open(sys.argv[1]), sys.argv[2])\r\n",
      "  File \"/usr/local/lib/python2.7/dist-packages/Bio/AlignIO/__init__.py\", line 427, in read\r\n",
      "    first = next(iterator)\r\n",
      "  File \"/usr/local/lib/python2.7/dist-packages/Bio/AlignIO/__init__.py\", line 374, in parse\r\n",
      "    for a in i:\r\n",
      "  File \"/usr/local/lib/python2.7/dist-packages/Bio/AlignIO/__init__.py\", line 276, in _SeqIO_to_alignment_iterator\r\n",
      "    yield MultipleSeqAlignment(records, alphabet)\r\n",
      "  File \"/usr/local/lib/python2.7/dist-packages/Bio/Align/__init__.py\", line 176, in __init__\r\n",
      "    self.extend(records)\r\n",
      "  File \"/usr/local/lib/python2.7/dist-packages/Bio/Align/__init__.py\", line 246, in extend\r\n",
      "    self._append(rec, expected_length)\r\n",
      "  File \"/usr/local/lib/python2.7/dist-packages/Bio/Align/__init__.py\", line 309, in _append\r\n",
      "    raise ValueError(\"Sequences must all be the same length\")\r\n",
      "ValueError: Sequences must all be the same length\r\n",
      "RefName\tRefLen\t#Variants\t#Deletions\r\n",
      "HA \t1701 \t92 \t108\r\n",
      "Traceback (most recent call last):\r\n",
      "  File \"/home/alan/projects/MinION-notebook/scripts/pairwise-pid.py\", line 10, in <module>\r\n",
      "    alignment = AlignIO.read(open(sys.argv[1]), sys.argv[2])\r\n",
      "  File \"/usr/local/lib/python2.7/dist-packages/Bio/AlignIO/__init__.py\", line 427, in read\r\n",
      "    first = next(iterator)\r\n",
      "  File \"/usr/local/lib/python2.7/dist-packages/Bio/AlignIO/__init__.py\", line 374, in parse\r\n",
      "    for a in i:\r\n",
      "  File \"/usr/local/lib/python2.7/dist-packages/Bio/AlignIO/__init__.py\", line 276, in _SeqIO_to_alignment_iterator\r\n",
      "    yield MultipleSeqAlignment(records, alphabet)\r\n",
      "  File \"/usr/local/lib/python2.7/dist-packages/Bio/Align/__init__.py\", line 176, in __init__\r\n",
      "    self.extend(records)\r\n",
      "  File \"/usr/local/lib/python2.7/dist-packages/Bio/Align/__init__.py\", line 246, in extend\r\n",
      "    self._append(rec, expected_length)\r\n",
      "  File \"/usr/local/lib/python2.7/dist-packages/Bio/Align/__init__.py\", line 309, in _append\r\n",
      "    raise ValueError(\"Sequences must all be the same length\")\r\n",
      "ValueError: Sequences must all be the same length\r\n",
      "Traceback (most recent call last):\r\n",
      "  File \"/home/alan/projects/MinION-notebook/scripts/pairwise-pid.py\", line 10, in <module>\r\n",
      "    alignment = AlignIO.read(open(sys.argv[1]), sys.argv[2])\r\n",
      "  File \"/usr/local/lib/python2.7/dist-packages/Bio/AlignIO/__init__.py\", line 427, in read\r\n",
      "    first = next(iterator)\r\n",
      "  File \"/usr/local/lib/python2.7/dist-packages/Bio/AlignIO/__init__.py\", line 374, in parse\r\n",
      "    for a in i:\r\n",
      "  File \"/usr/local/lib/python2.7/dist-packages/Bio/AlignIO/__init__.py\", line 276, in _SeqIO_to_alignment_iterator\r\n",
      "    yield MultipleSeqAlignment(records, alphabet)\r\n",
      "  File \"/usr/local/lib/python2.7/dist-packages/Bio/Align/__init__.py\", line 176, in __init__\r\n",
      "    self.extend(records)\r\n",
      "  File \"/usr/local/lib/python2.7/dist-packages/Bio/Align/__init__.py\", line 246, in extend\r\n",
      "    self._append(rec, expected_length)\r\n",
      "  File \"/usr/local/lib/python2.7/dist-packages/Bio/Align/__init__.py\", line 309, in _append\r\n",
      "    raise ValueError(\"Sequences must all be the same length\")\r\n",
      "ValueError: Sequences must all be the same length\r\n",
      "Traceback (most recent call last):\r\n",
      "  File \"/home/alan/projects/MinION-notebook/scripts/pairwise-pid.py\", line 10, in <module>\r\n",
      "    alignment = AlignIO.read(open(sys.argv[1]), sys.argv[2])\r\n",
      "  File \"/usr/local/lib/python2.7/dist-packages/Bio/AlignIO/__init__.py\", line 427, in read\r\n",
      "    first = next(iterator)\r\n",
      "  File \"/usr/local/lib/python2.7/dist-packages/Bio/AlignIO/__init__.py\", line 374, in parse\r\n",
      "    for a in i:\r\n",
      "  File \"/usr/local/lib/python2.7/dist-packages/Bio/AlignIO/__init__.py\", line 276, in _SeqIO_to_alignment_iterator\r\n",
      "    yield MultipleSeqAlignment(records, alphabet)\r\n",
      "  File \"/usr/local/lib/python2.7/dist-packages/Bio/Align/__init__.py\", line 176, in __init__\r\n",
      "    self.extend(records)\r\n",
      "  File \"/usr/local/lib/python2.7/dist-packages/Bio/Align/__init__.py\", line 246, in extend\r\n",
      "    self._append(rec, expected_length)\r\n",
      "  File \"/usr/local/lib/python2.7/dist-packages/Bio/Align/__init__.py\", line 309, in _append\r\n",
      "    raise ValueError(\"Sequences must all be the same length\")\r\n",
      "ValueError: Sequences must all be the same length\r\n",
      "Traceback (most recent call last):\r\n",
      "  File \"/home/alan/projects/MinION-notebook/scripts/pairwise-pid.py\", line 10, in <module>\r\n",
      "    alignment = AlignIO.read(open(sys.argv[1]), sys.argv[2])\r\n",
      "  File \"/usr/local/lib/python2.7/dist-packages/Bio/AlignIO/__init__.py\", line 427, in read\r\n",
      "    first = next(iterator)\r\n",
      "  File \"/usr/local/lib/python2.7/dist-packages/Bio/AlignIO/__init__.py\", line 374, in parse\r\n",
      "    for a in i:\r\n",
      "  File \"/usr/local/lib/python2.7/dist-packages/Bio/AlignIO/__init__.py\", line 276, in _SeqIO_to_alignment_iterator\r\n",
      "    yield MultipleSeqAlignment(records, alphabet)\r\n",
      "  File \"/usr/local/lib/python2.7/dist-packages/Bio/Align/__init__.py\", line 176, in __init__\r\n",
      "    self.extend(records)\r\n",
      "  File \"/usr/local/lib/python2.7/dist-packages/Bio/Align/__init__.py\", line 246, in extend\r\n",
      "    self._append(rec, expected_length)\r\n",
      "  File \"/usr/local/lib/python2.7/dist-packages/Bio/Align/__init__.py\", line 309, in _append\r\n",
      "    raise ValueError(\"Sequences must all be the same length\")\r\n",
      "ValueError: Sequences must all be the same length\r\n"
     ]
    }
   ],
   "source": [
    "cd /home/alan/projects/MinION-notebook/clinical-analysis/minion/4-5\n",
    "\n",
    "for i in PB1 PB2 PA HA NA NS NP MP; do grep -A1 -h --no-group-separator $i A39_consensus.fa \\\n",
    "flu-4-5.hq.2d.miseq-consensus.consensus.fasta > temp && \\\n",
    "python ~/projects/MinION-notebook/scripts/pairwise-pid.py temp fasta; done"
   ]
  },
  {
   "cell_type": "markdown",
   "metadata": {},
   "source": [
    "So the HQ 2D reads aren't the driving force here. By looking at the number of variants for the few reads that did map it doesn't seem like these are the accurate ones. "
   ]
  },
  {
   "cell_type": "markdown",
   "metadata": {},
   "source": [
    "#### All 2D reads"
   ]
  },
  {
   "cell_type": "code",
   "execution_count": null,
   "metadata": {
    "collapsed": true
   },
   "outputs": [],
   "source": [
    "cd /home/alan/projects/MinION-notebook/clinical-analysis/minion/4-5\n",
    "\n",
    "bwa mem -x ont2d -t 30 A39_consensus.fa flu-4-5.2d.fastq > flu-4-5.2d.sam\n",
    "\n",
    "samtools view -o flu-4-5.2d.bam -b flu-4-5.2d.sam\n",
    "samtools sort -o flu-4-5.2d.sort.bam flu-4-5.2d.bam\n",
    "samtools index flu-4-5.2d.sort.bam\n",
    "\n",
    "rm *sam flu-4-5.2d.bam\n",
    "\n",
    "for i in HA NA NP NS MP PA PB1 PB2; do python ~/projects/MinION-notebook/scripts/bamfile_consensus_generate.py \\\n",
    "flu-4-5.2d.sort.bam $i ; done > flu-4-5.2d.miseq-consensus.consensus.fasta"
   ]
  },
  {
   "cell_type": "code",
   "execution_count": 8,
   "metadata": {
    "ExecuteTime": {
     "end_time": "2016-04-07T16:10:28.520248",
     "start_time": "2016-04-07T16:10:28.109767"
    },
    "collapsed": false
   },
   "outputs": [
    {
     "name": "stdout",
     "output_type": "stream",
     "text": [
      "HA\t1701\t21\t0\r\n",
      "MP\t982\t65\t0\r\n",
      "NA\t1410\t11\t0\r\n",
      "NP\t1497\t12\t0\r\n",
      "NS\t838\t8\t0\r\n",
      "PA\t2151\t9\t0\r\n",
      "PB1\t2274\t10\t0\r\n",
      "PB2\t2280\t3\t0\r\n",
      "*\t0\t0\t0\r\n"
     ]
    }
   ],
   "source": [
    "cd /home/alan/projects/MinION-notebook/clinical-analysis/minion/4-5\n",
    "\n",
    "samtools idxstats flu-4-5.2d.sort.bam"
   ]
  },
  {
   "cell_type": "code",
   "execution_count": 9,
   "metadata": {
    "ExecuteTime": {
     "end_time": "2016-04-07T16:10:32.600844",
     "start_time": "2016-04-07T16:10:31.037642"
    },
    "collapsed": false,
    "scrolled": true
   },
   "outputs": [
    {
     "name": "stdout",
     "output_type": "stream",
     "text": [
      "RefName\tRefLen\t#Variants\t#Deletions\r\n",
      "PB1 \t2274 \t16 \t31\r\n",
      "RefName\tRefLen\t#Variants\t#Deletions\r\n",
      "PB2 \t2280 \t70 \t50\r\n",
      "RefName\tRefLen\t#Variants\t#Deletions\r\n",
      "PA \t2151 \t7 \t25\r\n",
      "RefName\tRefLen\t#Variants\t#Deletions\r\n",
      "HA \t1701 \t0 \t10\r\n",
      "RefName\tRefLen\t#Variants\t#Deletions\r\n",
      "NA \t1410 \t1 \t8\r\n",
      "RefName\tRefLen\t#Variants\t#Deletions\r\n",
      "NS \t838 \t1 \t7\r\n",
      "RefName\tRefLen\t#Variants\t#Deletions\r\n",
      "NP \t1497 \t2 \t8\r\n",
      "RefName\tRefLen\t#Variants\t#Deletions\r\n",
      "MP \t982 \t0 \t3\r\n"
     ]
    }
   ],
   "source": [
    "cd /home/alan/projects/MinION-notebook/clinical-analysis/minion/4-5\n",
    "\n",
    "for i in PB1 PB2 PA HA NA NS NP MP; do grep -A1 -h --no-group-separator $i A39_consensus.fa \\\n",
    "flu-4-5.2d.miseq-consensus.consensus.fasta > temp && \\\n",
    "python ~/projects/MinION-notebook/scripts/pairwise-pid.py temp fasta; done"
   ]
  },
  {
   "cell_type": "markdown",
   "metadata": {},
   "source": [
    "#### All HQ reads"
   ]
  },
  {
   "cell_type": "code",
   "execution_count": null,
   "metadata": {
    "ExecuteTime": {
     "end_time": "2016-04-07T16:24:57.459606",
     "start_time": "2016-04-07T16:24:55.568152"
    },
    "collapsed": true
   },
   "outputs": [],
   "source": [
    "cd /home/alan/projects/MinION-notebook/clinical-analysis/minion/4-5\n",
    "\n",
    "bwa mem -x ont2d -t 30 A39_consensus.fa flu-4-5.hq.fastq > flu-4-5.hq.sam\n",
    "\n",
    "samtools view -o flu-4-5.hq.bam -b flu-4-5.hq.sam\n",
    "samtools sort -o flu-4-5.hq.sort.bam flu-4-5.hq.bam\n",
    "samtools index flu-4-5.hq.sort.bam\n",
    "\n",
    "rm *sam flu-4-5.hq.bam\n",
    "\n",
    "for i in HA NA NP NS MP PA PB1 PB2; do python ~/projects/MinION-notebook/scripts/bamfile_consensus_generate.py \\\n",
    "flu-4-5.hq.sort.bam $i ; done > flu-4-5.hq.miseq-consensus.consensus.fasta"
   ]
  },
  {
   "cell_type": "code",
   "execution_count": 12,
   "metadata": {
    "ExecuteTime": {
     "end_time": "2016-04-07T16:25:43.569431",
     "start_time": "2016-04-07T16:25:43.158936"
    },
    "collapsed": false
   },
   "outputs": [
    {
     "name": "stdout",
     "output_type": "stream",
     "text": [
      "HA\t1701\t7\t0\r\n",
      "MP\t982\t18\t0\r\n",
      "NA\t1410\t0\t0\r\n",
      "NP\t1497\t6\t0\r\n",
      "NS\t838\t0\t0\r\n",
      "PA\t2151\t0\t0\r\n",
      "PB1\t2274\t3\t0\r\n",
      "PB2\t2280\t0\t0\r\n",
      "*\t0\t0\t0\r\n"
     ]
    }
   ],
   "source": [
    "cd /home/alan/projects/MinION-notebook/clinical-analysis/minion/4-5\n",
    "\n",
    "samtools idxstats flu-4-5.hq.sort.bam"
   ]
  },
  {
   "cell_type": "code",
   "execution_count": 13,
   "metadata": {
    "ExecuteTime": {
     "end_time": "2016-04-07T16:25:47.857048",
     "start_time": "2016-04-07T16:25:46.282809"
    },
    "collapsed": false,
    "scrolled": true
   },
   "outputs": [
    {
     "name": "stdout",
     "output_type": "stream",
     "text": [
      "RefName\tRefLen\t#Variants\t#Deletions\r\n",
      "PB1 \t2274 \t162 \t131\r\n",
      "Traceback (most recent call last):\r\n",
      "  File \"/home/alan/projects/MinION-notebook/scripts/pairwise-pid.py\", line 10, in <module>\r\n",
      "    alignment = AlignIO.read(open(sys.argv[1]), sys.argv[2])\r\n",
      "  File \"/usr/local/lib/python2.7/dist-packages/Bio/AlignIO/__init__.py\", line 427, in read\r\n",
      "    first = next(iterator)\r\n",
      "  File \"/usr/local/lib/python2.7/dist-packages/Bio/AlignIO/__init__.py\", line 374, in parse\r\n",
      "    for a in i:\r\n",
      "  File \"/usr/local/lib/python2.7/dist-packages/Bio/AlignIO/__init__.py\", line 276, in _SeqIO_to_alignment_iterator\r\n",
      "    yield MultipleSeqAlignment(records, alphabet)\r\n",
      "  File \"/usr/local/lib/python2.7/dist-packages/Bio/Align/__init__.py\", line 176, in __init__\r\n",
      "    self.extend(records)\r\n",
      "  File \"/usr/local/lib/python2.7/dist-packages/Bio/Align/__init__.py\", line 246, in extend\r\n",
      "    self._append(rec, expected_length)\r\n",
      "  File \"/usr/local/lib/python2.7/dist-packages/Bio/Align/__init__.py\", line 309, in _append\r\n",
      "    raise ValueError(\"Sequences must all be the same length\")\r\n",
      "ValueError: Sequences must all be the same length\r\n",
      "Traceback (most recent call last):\r\n",
      "  File \"/home/alan/projects/MinION-notebook/scripts/pairwise-pid.py\", line 10, in <module>\r\n",
      "    alignment = AlignIO.read(open(sys.argv[1]), sys.argv[2])\r\n",
      "  File \"/usr/local/lib/python2.7/dist-packages/Bio/AlignIO/__init__.py\", line 427, in read\r\n",
      "    first = next(iterator)\r\n",
      "  File \"/usr/local/lib/python2.7/dist-packages/Bio/AlignIO/__init__.py\", line 374, in parse\r\n",
      "    for a in i:\r\n",
      "  File \"/usr/local/lib/python2.7/dist-packages/Bio/AlignIO/__init__.py\", line 276, in _SeqIO_to_alignment_iterator\r\n",
      "    yield MultipleSeqAlignment(records, alphabet)\r\n",
      "  File \"/usr/local/lib/python2.7/dist-packages/Bio/Align/__init__.py\", line 176, in __init__\r\n",
      "    self.extend(records)\r\n",
      "  File \"/usr/local/lib/python2.7/dist-packages/Bio/Align/__init__.py\", line 246, in extend\r\n",
      "    self._append(rec, expected_length)\r\n",
      "  File \"/usr/local/lib/python2.7/dist-packages/Bio/Align/__init__.py\", line 309, in _append\r\n",
      "    raise ValueError(\"Sequences must all be the same length\")\r\n",
      "ValueError: Sequences must all be the same length\r\n",
      "RefName\tRefLen\t#Variants\t#Deletions\r\n",
      "HA \t1701 \t39 \t58\r\n",
      "Traceback (most recent call last):\r\n",
      "  File \"/home/alan/projects/MinION-notebook/scripts/pairwise-pid.py\", line 10, in <module>\r\n",
      "    alignment = AlignIO.read(open(sys.argv[1]), sys.argv[2])\r\n",
      "  File \"/usr/local/lib/python2.7/dist-packages/Bio/AlignIO/__init__.py\", line 427, in read\r\n",
      "    first = next(iterator)\r\n",
      "  File \"/usr/local/lib/python2.7/dist-packages/Bio/AlignIO/__init__.py\", line 374, in parse\r\n",
      "    for a in i:\r\n",
      "  File \"/usr/local/lib/python2.7/dist-packages/Bio/AlignIO/__init__.py\", line 276, in _SeqIO_to_alignment_iterator\r\n",
      "    yield MultipleSeqAlignment(records, alphabet)\r\n",
      "  File \"/usr/local/lib/python2.7/dist-packages/Bio/Align/__init__.py\", line 176, in __init__\r\n",
      "    self.extend(records)\r\n",
      "  File \"/usr/local/lib/python2.7/dist-packages/Bio/Align/__init__.py\", line 246, in extend\r\n",
      "    self._append(rec, expected_length)\r\n",
      "  File \"/usr/local/lib/python2.7/dist-packages/Bio/Align/__init__.py\", line 309, in _append\r\n",
      "    raise ValueError(\"Sequences must all be the same length\")\r\n",
      "ValueError: Sequences must all be the same length\r\n",
      "Traceback (most recent call last):\r\n",
      "  File \"/home/alan/projects/MinION-notebook/scripts/pairwise-pid.py\", line 10, in <module>\r\n",
      "    alignment = AlignIO.read(open(sys.argv[1]), sys.argv[2])\r\n",
      "  File \"/usr/local/lib/python2.7/dist-packages/Bio/AlignIO/__init__.py\", line 427, in read\r\n",
      "    first = next(iterator)\r\n",
      "  File \"/usr/local/lib/python2.7/dist-packages/Bio/AlignIO/__init__.py\", line 374, in parse\r\n",
      "    for a in i:\r\n",
      "  File \"/usr/local/lib/python2.7/dist-packages/Bio/AlignIO/__init__.py\", line 276, in _SeqIO_to_alignment_iterator\r\n",
      "    yield MultipleSeqAlignment(records, alphabet)\r\n",
      "  File \"/usr/local/lib/python2.7/dist-packages/Bio/Align/__init__.py\", line 176, in __init__\r\n",
      "    self.extend(records)\r\n",
      "  File \"/usr/local/lib/python2.7/dist-packages/Bio/Align/__init__.py\", line 246, in extend\r\n",
      "    self._append(rec, expected_length)\r\n",
      "  File \"/usr/local/lib/python2.7/dist-packages/Bio/Align/__init__.py\", line 309, in _append\r\n",
      "    raise ValueError(\"Sequences must all be the same length\")\r\n",
      "ValueError: Sequences must all be the same length\r\n",
      "RefName\tRefLen\t#Variants\t#Deletions\r\n",
      "NP \t1497 \t35 \t54\r\n",
      "RefName\tRefLen\t#Variants\t#Deletions\r\n",
      "MP \t982 \t2 \t8\r\n"
     ]
    }
   ],
   "source": [
    "cd /home/alan/projects/MinION-notebook/clinical-analysis/minion/4-5\n",
    "\n",
    "for i in PB1 PB2 PA HA NA NS NP MP; do grep -A1 -h --no-group-separator $i A39_consensus.fa \\\n",
    "flu-4-5.hq.miseq-consensus.consensus.fasta > temp && \\\n",
    "python ~/projects/MinION-notebook/scripts/pairwise-pid.py temp fasta; done"
   ]
  },
  {
   "cell_type": "markdown",
   "metadata": {},
   "source": [
    "#### All forward reads"
   ]
  },
  {
   "cell_type": "code",
   "execution_count": null,
   "metadata": {
    "ExecuteTime": {
     "end_time": "2016-04-07T16:24:57.459606",
     "start_time": "2016-04-07T16:24:55.568152"
    },
    "collapsed": false
   },
   "outputs": [],
   "source": [
    "cd /home/alan/projects/MinION-notebook/clinical-analysis/minion/4-5\n",
    "\n",
    "bwa mem -x ont2d -t 30 A39_consensus.fa flu-4-5.fwd.fastq > flu-4-5.fwd.sam\n",
    "\n",
    "samtools view -o flu-4-5.fwd.bam -b flu-4-5.fwd.sam\n",
    "samtools sort -o flu-4-5.fwd.sort.bam flu-4-5.fwd.bam\n",
    "samtools index flu-4-5.fwd.sort.bam\n",
    "\n",
    "rm *sam flu-4-5.fwd.bam\n",
    "\n",
    "for i in HA NA NP NS MP PA PB1 PB2; do python ~/projects/MinION-notebook/scripts/bamfile_consensus_generate.py \\\n",
    "flu-4-5.fwd.sort.bam $i ; done > flu-4-5.fwd.miseq-consensus.consensus.fasta"
   ]
  },
  {
   "cell_type": "code",
   "execution_count": 17,
   "metadata": {
    "ExecuteTime": {
     "end_time": "2016-04-07T16:25:43.569431",
     "start_time": "2016-04-07T16:25:43.158936"
    },
    "collapsed": false
   },
   "outputs": [
    {
     "name": "stdout",
     "output_type": "stream",
     "text": [
      "HA\t1701\t20\t0\r\n",
      "MP\t982\t63\t0\r\n",
      "NA\t1410\t11\t0\r\n",
      "NP\t1497\t12\t0\r\n",
      "NS\t838\t6\t0\r\n",
      "PA\t2151\t9\t0\r\n",
      "PB1\t2274\t10\t0\r\n",
      "PB2\t2280\t2\t0\r\n",
      "*\t0\t0\t7\r\n"
     ]
    }
   ],
   "source": [
    "cd /home/alan/projects/MinION-notebook/clinical-analysis/minion/4-5\n",
    "\n",
    "samtools idxstats flu-4-5.fwd.sort.bam"
   ]
  },
  {
   "cell_type": "code",
   "execution_count": 18,
   "metadata": {
    "ExecuteTime": {
     "end_time": "2016-04-07T16:25:47.857048",
     "start_time": "2016-04-07T16:25:46.282809"
    },
    "collapsed": false,
    "scrolled": true
   },
   "outputs": [
    {
     "name": "stdout",
     "output_type": "stream",
     "text": [
      "RefName\tRefLen\t#Variants\t#Deletions\r\n",
      "PB1 \t2274 \t162 \t97\r\n",
      "Traceback (most recent call last):\r\n",
      "  File \"/home/alan/projects/MinION-notebook/scripts/pairwise-pid.py\", line 10, in <module>\r\n",
      "    alignment = AlignIO.read(open(sys.argv[1]), sys.argv[2])\r\n",
      "  File \"/usr/local/lib/python2.7/dist-packages/Bio/AlignIO/__init__.py\", line 427, in read\r\n",
      "    first = next(iterator)\r\n",
      "  File \"/usr/local/lib/python2.7/dist-packages/Bio/AlignIO/__init__.py\", line 374, in parse\r\n",
      "    for a in i:\r\n",
      "  File \"/usr/local/lib/python2.7/dist-packages/Bio/AlignIO/__init__.py\", line 276, in _SeqIO_to_alignment_iterator\r\n",
      "    yield MultipleSeqAlignment(records, alphabet)\r\n",
      "  File \"/usr/local/lib/python2.7/dist-packages/Bio/Align/__init__.py\", line 176, in __init__\r\n",
      "    self.extend(records)\r\n",
      "  File \"/usr/local/lib/python2.7/dist-packages/Bio/Align/__init__.py\", line 246, in extend\r\n",
      "    self._append(rec, expected_length)\r\n",
      "  File \"/usr/local/lib/python2.7/dist-packages/Bio/Align/__init__.py\", line 309, in _append\r\n",
      "    raise ValueError(\"Sequences must all be the same length\")\r\n",
      "ValueError: Sequences must all be the same length\r\n",
      "RefName\tRefLen\t#Variants\t#Deletions\r\n",
      "PA \t2151 \t71 \t84\r\n",
      "RefName\tRefLen\t#Variants\t#Deletions\r\n",
      "HA \t1701 \t9 \t17\r\n",
      "RefName\tRefLen\t#Variants\t#Deletions\r\n",
      "NA \t1410 \t18 \t19\r\n",
      "RefName\tRefLen\t#Variants\t#Deletions\r\n",
      "NS \t838 \t31 \t20\r\n",
      "RefName\tRefLen\t#Variants\t#Deletions\r\n",
      "NP \t1497 \t14 \t19\r\n",
      "RefName\tRefLen\t#Variants\t#Deletions\r\n",
      "MP \t982 \t3 \t5\r\n"
     ]
    }
   ],
   "source": [
    "cd /home/alan/projects/MinION-notebook/clinical-analysis/minion/4-5\n",
    "\n",
    "for i in PB1 PB2 PA HA NA NS NP MP; do grep -A1 -h --no-group-separator $i A39_consensus.fa \\\n",
    "flu-4-5.fwd.miseq-consensus.consensus.fasta > temp && \\\n",
    "python ~/projects/MinION-notebook/scripts/pairwise-pid.py temp fasta; done"
   ]
  },
  {
   "cell_type": "markdown",
   "metadata": {},
   "source": [
    "#### All HQ forward reads"
   ]
  },
  {
   "cell_type": "code",
   "execution_count": null,
   "metadata": {
    "ExecuteTime": {
     "end_time": "2016-04-07T16:24:57.459606",
     "start_time": "2016-04-07T16:24:55.568152"
    },
    "collapsed": false
   },
   "outputs": [],
   "source": [
    "cd /home/alan/projects/MinION-notebook/clinical-analysis/minion/4-5\n",
    "\n",
    "bwa mem -x ont2d -t 30 A39_consensus.fa flu-4-5.hq.fwd.fastq > flu-4-5.hq.fwd.sam\n",
    "\n",
    "samtools view -o flu-4-5.hq.fwd.bam -b flu-4-5.hq.fwd.sam\n",
    "samtools sort -o flu-4-5.hq.fwd.sort.bam flu-4-5.hq.fwd.bam\n",
    "samtools index flu-4-5.hq.fwd.sort.bam\n",
    "\n",
    "rm *sam flu-4-5.hq.fwd.bam\n",
    "\n",
    "for i in HA NA NP NS MP PA PB1 PB2; do python ~/projects/MinION-notebook/scripts/bamfile_consensus_generate.py \\\n",
    "flu-4-5.hq.fwd.sort.bam $i ; done > flu-4-5.hq.fwd.miseq-consensus.consensus.fasta"
   ]
  },
  {
   "cell_type": "code",
   "execution_count": 21,
   "metadata": {
    "ExecuteTime": {
     "end_time": "2016-04-07T16:43:28.497808",
     "start_time": "2016-04-07T16:43:28.087399"
    },
    "collapsed": false
   },
   "outputs": [
    {
     "name": "stdout",
     "output_type": "stream",
     "text": [
      "HA\t1701\t2\t0\r\n",
      "MP\t982\t6\t0\r\n",
      "NA\t1410\t0\t0\r\n",
      "NP\t1497\t2\t0\r\n",
      "NS\t838\t0\t0\r\n",
      "PA\t2151\t0\t0\r\n",
      "PB1\t2274\t1\t0\r\n",
      "PB2\t2280\t0\t0\r\n",
      "*\t0\t0\t0\r\n"
     ]
    }
   ],
   "source": [
    "cd /home/alan/projects/MinION-notebook/clinical-analysis/minion/4-5\n",
    "\n",
    "samtools idxstats flu-4-5.hq.fwd.sort.bam"
   ]
  },
  {
   "cell_type": "code",
   "execution_count": 22,
   "metadata": {
    "ExecuteTime": {
     "end_time": "2016-04-07T16:43:34.355620",
     "start_time": "2016-04-07T16:43:32.821668"
    },
    "collapsed": false,
    "scrolled": true
   },
   "outputs": [
    {
     "name": "stdout",
     "output_type": "stream",
     "text": [
      "Traceback (most recent call last):\r\n",
      "  File \"/home/alan/projects/MinION-notebook/scripts/pairwise-pid.py\", line 10, in <module>\r\n",
      "    alignment = AlignIO.read(open(sys.argv[1]), sys.argv[2])\r\n",
      "  File \"/usr/local/lib/python2.7/dist-packages/Bio/AlignIO/__init__.py\", line 427, in read\r\n",
      "    first = next(iterator)\r\n",
      "  File \"/usr/local/lib/python2.7/dist-packages/Bio/AlignIO/__init__.py\", line 374, in parse\r\n",
      "    for a in i:\r\n",
      "  File \"/usr/local/lib/python2.7/dist-packages/Bio/AlignIO/__init__.py\", line 276, in _SeqIO_to_alignment_iterator\r\n",
      "    yield MultipleSeqAlignment(records, alphabet)\r\n",
      "  File \"/usr/local/lib/python2.7/dist-packages/Bio/Align/__init__.py\", line 176, in __init__\r\n",
      "    self.extend(records)\r\n",
      "  File \"/usr/local/lib/python2.7/dist-packages/Bio/Align/__init__.py\", line 246, in extend\r\n",
      "    self._append(rec, expected_length)\r\n",
      "  File \"/usr/local/lib/python2.7/dist-packages/Bio/Align/__init__.py\", line 309, in _append\r\n",
      "    raise ValueError(\"Sequences must all be the same length\")\r\n",
      "ValueError: Sequences must all be the same length\r\n",
      "Traceback (most recent call last):\r\n",
      "  File \"/home/alan/projects/MinION-notebook/scripts/pairwise-pid.py\", line 10, in <module>\r\n",
      "    alignment = AlignIO.read(open(sys.argv[1]), sys.argv[2])\r\n",
      "  File \"/usr/local/lib/python2.7/dist-packages/Bio/AlignIO/__init__.py\", line 427, in read\r\n",
      "    first = next(iterator)\r\n",
      "  File \"/usr/local/lib/python2.7/dist-packages/Bio/AlignIO/__init__.py\", line 374, in parse\r\n",
      "    for a in i:\r\n",
      "  File \"/usr/local/lib/python2.7/dist-packages/Bio/AlignIO/__init__.py\", line 276, in _SeqIO_to_alignment_iterator\r\n",
      "    yield MultipleSeqAlignment(records, alphabet)\r\n",
      "  File \"/usr/local/lib/python2.7/dist-packages/Bio/Align/__init__.py\", line 176, in __init__\r\n",
      "    self.extend(records)\r\n",
      "  File \"/usr/local/lib/python2.7/dist-packages/Bio/Align/__init__.py\", line 246, in extend\r\n",
      "    self._append(rec, expected_length)\r\n",
      "  File \"/usr/local/lib/python2.7/dist-packages/Bio/Align/__init__.py\", line 309, in _append\r\n",
      "    raise ValueError(\"Sequences must all be the same length\")\r\n",
      "ValueError: Sequences must all be the same length\r\n",
      "Traceback (most recent call last):\r\n",
      "  File \"/home/alan/projects/MinION-notebook/scripts/pairwise-pid.py\", line 10, in <module>\r\n",
      "    alignment = AlignIO.read(open(sys.argv[1]), sys.argv[2])\r\n",
      "  File \"/usr/local/lib/python2.7/dist-packages/Bio/AlignIO/__init__.py\", line 427, in read\r\n",
      "    first = next(iterator)\r\n",
      "  File \"/usr/local/lib/python2.7/dist-packages/Bio/AlignIO/__init__.py\", line 374, in parse\r\n",
      "    for a in i:\r\n",
      "  File \"/usr/local/lib/python2.7/dist-packages/Bio/AlignIO/__init__.py\", line 276, in _SeqIO_to_alignment_iterator\r\n",
      "    yield MultipleSeqAlignment(records, alphabet)\r\n",
      "  File \"/usr/local/lib/python2.7/dist-packages/Bio/Align/__init__.py\", line 176, in __init__\r\n",
      "    self.extend(records)\r\n",
      "  File \"/usr/local/lib/python2.7/dist-packages/Bio/Align/__init__.py\", line 246, in extend\r\n",
      "    self._append(rec, expected_length)\r\n",
      "  File \"/usr/local/lib/python2.7/dist-packages/Bio/Align/__init__.py\", line 309, in _append\r\n",
      "    raise ValueError(\"Sequences must all be the same length\")\r\n",
      "ValueError: Sequences must all be the same length\r\n",
      "Traceback (most recent call last):\r\n",
      "  File \"/home/alan/projects/MinION-notebook/scripts/pairwise-pid.py\", line 10, in <module>\r\n",
      "    alignment = AlignIO.read(open(sys.argv[1]), sys.argv[2])\r\n",
      "  File \"/usr/local/lib/python2.7/dist-packages/Bio/AlignIO/__init__.py\", line 427, in read\r\n",
      "    first = next(iterator)\r\n",
      "  File \"/usr/local/lib/python2.7/dist-packages/Bio/AlignIO/__init__.py\", line 374, in parse\r\n",
      "    for a in i:\r\n",
      "  File \"/usr/local/lib/python2.7/dist-packages/Bio/AlignIO/__init__.py\", line 276, in _SeqIO_to_alignment_iterator\r\n",
      "    yield MultipleSeqAlignment(records, alphabet)\r\n",
      "  File \"/usr/local/lib/python2.7/dist-packages/Bio/Align/__init__.py\", line 176, in __init__\r\n",
      "    self.extend(records)\r\n",
      "  File \"/usr/local/lib/python2.7/dist-packages/Bio/Align/__init__.py\", line 246, in extend\r\n",
      "    self._append(rec, expected_length)\r\n",
      "  File \"/usr/local/lib/python2.7/dist-packages/Bio/Align/__init__.py\", line 309, in _append\r\n",
      "    raise ValueError(\"Sequences must all be the same length\")\r\n",
      "ValueError: Sequences must all be the same length\r\n",
      "Traceback (most recent call last):\r\n",
      "  File \"/home/alan/projects/MinION-notebook/scripts/pairwise-pid.py\", line 10, in <module>\r\n",
      "    alignment = AlignIO.read(open(sys.argv[1]), sys.argv[2])\r\n",
      "  File \"/usr/local/lib/python2.7/dist-packages/Bio/AlignIO/__init__.py\", line 427, in read\r\n",
      "    first = next(iterator)\r\n",
      "  File \"/usr/local/lib/python2.7/dist-packages/Bio/AlignIO/__init__.py\", line 374, in parse\r\n",
      "    for a in i:\r\n",
      "  File \"/usr/local/lib/python2.7/dist-packages/Bio/AlignIO/__init__.py\", line 276, in _SeqIO_to_alignment_iterator\r\n",
      "    yield MultipleSeqAlignment(records, alphabet)\r\n",
      "  File \"/usr/local/lib/python2.7/dist-packages/Bio/Align/__init__.py\", line 176, in __init__\r\n",
      "    self.extend(records)\r\n",
      "  File \"/usr/local/lib/python2.7/dist-packages/Bio/Align/__init__.py\", line 246, in extend\r\n",
      "    self._append(rec, expected_length)\r\n",
      "  File \"/usr/local/lib/python2.7/dist-packages/Bio/Align/__init__.py\", line 309, in _append\r\n",
      "    raise ValueError(\"Sequences must all be the same length\")\r\n",
      "ValueError: Sequences must all be the same length\r\n",
      "Traceback (most recent call last):\r\n",
      "  File \"/home/alan/projects/MinION-notebook/scripts/pairwise-pid.py\", line 10, in <module>\r\n",
      "    alignment = AlignIO.read(open(sys.argv[1]), sys.argv[2])\r\n",
      "  File \"/usr/local/lib/python2.7/dist-packages/Bio/AlignIO/__init__.py\", line 427, in read\r\n",
      "    first = next(iterator)\r\n",
      "  File \"/usr/local/lib/python2.7/dist-packages/Bio/AlignIO/__init__.py\", line 374, in parse\r\n",
      "    for a in i:\r\n",
      "  File \"/usr/local/lib/python2.7/dist-packages/Bio/AlignIO/__init__.py\", line 276, in _SeqIO_to_alignment_iterator\r\n",
      "    yield MultipleSeqAlignment(records, alphabet)\r\n",
      "  File \"/usr/local/lib/python2.7/dist-packages/Bio/Align/__init__.py\", line 176, in __init__\r\n",
      "    self.extend(records)\r\n",
      "  File \"/usr/local/lib/python2.7/dist-packages/Bio/Align/__init__.py\", line 246, in extend\r\n",
      "    self._append(rec, expected_length)\r\n",
      "  File \"/usr/local/lib/python2.7/dist-packages/Bio/Align/__init__.py\", line 309, in _append\r\n",
      "    raise ValueError(\"Sequences must all be the same length\")\r\n",
      "ValueError: Sequences must all be the same length\r\n",
      "RefName\tRefLen\t#Variants\t#Deletions\r\n",
      "NP \t1497 \t227 \t169\r\n",
      "RefName\tRefLen\t#Variants\t#Deletions\r\n",
      "MP \t982 \t49 \t42\r\n"
     ]
    }
   ],
   "source": [
    "cd /home/alan/projects/MinION-notebook/clinical-analysis/minion/4-5\n",
    "\n",
    "for i in PB1 PB2 PA HA NA NS NP MP; do grep -A1 -h --no-group-separator $i A39_consensus.fa \\\n",
    "flu-4-5.hq.fwd.miseq-consensus.consensus.fasta > temp && \\\n",
    "python ~/projects/MinION-notebook/scripts/pairwise-pid.py temp fasta; done"
   ]
  },
  {
   "cell_type": "markdown",
   "metadata": {},
   "source": [
    "#### All reverse reads"
   ]
  },
  {
   "cell_type": "code",
   "execution_count": null,
   "metadata": {
    "ExecuteTime": {
     "end_time": "2016-04-07T16:24:57.459606",
     "start_time": "2016-04-07T16:24:55.568152"
    },
    "collapsed": false
   },
   "outputs": [],
   "source": [
    "cd /home/alan/projects/MinION-notebook/clinical-analysis/minion/4-5\n",
    "\n",
    "bwa mem -x ont2d -t 30 A39_consensus.fa flu-4-5.rev.fastq > flu-4-5.rev.sam\n",
    "\n",
    "samtools view -o flu-4-5.rev.bam -b flu-4-5.rev.sam\n",
    "samtools sort -o flu-4-5.rev.sort.bam flu-4-5.rev.bam\n",
    "samtools index flu-4-5.rev.sort.bam\n",
    "\n",
    "rm *sam flu-4-5.rev.bam\n",
    "\n",
    "for i in HA NA NP NS MP PA PB1 PB2; do python ~/projects/MinION-notebook/scripts/bamfile_consensus_generate.py \\\n",
    "flu-4-5.rev.sort.bam $i ; done > flu-4-5.rev.miseq-consensus.consensus.fasta"
   ]
  },
  {
   "cell_type": "code",
   "execution_count": 19,
   "metadata": {
    "ExecuteTime": {
     "end_time": "2016-04-07T16:30:48.352175",
     "start_time": "2016-04-07T16:30:47.941152"
    },
    "collapsed": false
   },
   "outputs": [
    {
     "name": "stdout",
     "output_type": "stream",
     "text": [
      "HA\t1701\t22\t0\r\n",
      "MP\t982\t63\t0\r\n",
      "NA\t1410\t11\t0\r\n",
      "NP\t1497\t12\t0\r\n",
      "NS\t838\t7\t0\r\n",
      "PA\t2151\t9\t0\r\n",
      "PB1\t2274\t10\t0\r\n",
      "PB2\t2280\t3\t0\r\n",
      "*\t0\t0\t3\r\n"
     ]
    }
   ],
   "source": [
    "cd /home/alan/projects/MinION-notebook/clinical-analysis/minion/4-5\n",
    "\n",
    "samtools idxstats flu-4-5.rev.sort.bam"
   ]
  },
  {
   "cell_type": "code",
   "execution_count": 20,
   "metadata": {
    "ExecuteTime": {
     "end_time": "2016-04-07T16:30:54.239643",
     "start_time": "2016-04-07T16:30:52.696079"
    },
    "collapsed": false,
    "scrolled": true
   },
   "outputs": [
    {
     "name": "stdout",
     "output_type": "stream",
     "text": [
      "RefName\tRefLen\t#Variants\t#Deletions\r\n",
      "PB1 \t2274 \t81 \t127\r\n",
      "Traceback (most recent call last):\r\n",
      "  File \"/home/alan/projects/MinION-notebook/scripts/pairwise-pid.py\", line 10, in <module>\r\n",
      "    alignment = AlignIO.read(open(sys.argv[1]), sys.argv[2])\r\n",
      "  File \"/usr/local/lib/python2.7/dist-packages/Bio/AlignIO/__init__.py\", line 427, in read\r\n",
      "    first = next(iterator)\r\n",
      "  File \"/usr/local/lib/python2.7/dist-packages/Bio/AlignIO/__init__.py\", line 374, in parse\r\n",
      "    for a in i:\r\n",
      "  File \"/usr/local/lib/python2.7/dist-packages/Bio/AlignIO/__init__.py\", line 276, in _SeqIO_to_alignment_iterator\r\n",
      "    yield MultipleSeqAlignment(records, alphabet)\r\n",
      "  File \"/usr/local/lib/python2.7/dist-packages/Bio/Align/__init__.py\", line 176, in __init__\r\n",
      "    self.extend(records)\r\n",
      "  File \"/usr/local/lib/python2.7/dist-packages/Bio/Align/__init__.py\", line 246, in extend\r\n",
      "    self._append(rec, expected_length)\r\n",
      "  File \"/usr/local/lib/python2.7/dist-packages/Bio/Align/__init__.py\", line 309, in _append\r\n",
      "    raise ValueError(\"Sequences must all be the same length\")\r\n",
      "ValueError: Sequences must all be the same length\r\n",
      "Traceback (most recent call last):\r\n",
      "  File \"/home/alan/projects/MinION-notebook/scripts/pairwise-pid.py\", line 10, in <module>\r\n",
      "    alignment = AlignIO.read(open(sys.argv[1]), sys.argv[2])\r\n",
      "  File \"/usr/local/lib/python2.7/dist-packages/Bio/AlignIO/__init__.py\", line 427, in read\r\n",
      "    first = next(iterator)\r\n",
      "  File \"/usr/local/lib/python2.7/dist-packages/Bio/AlignIO/__init__.py\", line 374, in parse\r\n",
      "    for a in i:\r\n",
      "  File \"/usr/local/lib/python2.7/dist-packages/Bio/AlignIO/__init__.py\", line 276, in _SeqIO_to_alignment_iterator\r\n",
      "    yield MultipleSeqAlignment(records, alphabet)\r\n",
      "  File \"/usr/local/lib/python2.7/dist-packages/Bio/Align/__init__.py\", line 176, in __init__\r\n",
      "    self.extend(records)\r\n",
      "  File \"/usr/local/lib/python2.7/dist-packages/Bio/Align/__init__.py\", line 246, in extend\r\n",
      "    self._append(rec, expected_length)\r\n",
      "  File \"/usr/local/lib/python2.7/dist-packages/Bio/Align/__init__.py\", line 309, in _append\r\n",
      "    raise ValueError(\"Sequences must all be the same length\")\r\n",
      "ValueError: Sequences must all be the same length\r\n",
      "RefName\tRefLen\t#Variants\t#Deletions\r\n",
      "HA \t1701 \t10 \t37\r\n",
      "RefName\tRefLen\t#Variants\t#Deletions\r\n",
      "NA \t1410 \t11 \t36\r\n",
      "Traceback (most recent call last):\r\n",
      "  File \"/home/alan/projects/MinION-notebook/scripts/pairwise-pid.py\", line 10, in <module>\r\n",
      "    alignment = AlignIO.read(open(sys.argv[1]), sys.argv[2])\r\n",
      "  File \"/usr/local/lib/python2.7/dist-packages/Bio/AlignIO/__init__.py\", line 427, in read\r\n",
      "    first = next(iterator)\r\n",
      "  File \"/usr/local/lib/python2.7/dist-packages/Bio/AlignIO/__init__.py\", line 374, in parse\r\n",
      "    for a in i:\r\n",
      "  File \"/usr/local/lib/python2.7/dist-packages/Bio/AlignIO/__init__.py\", line 276, in _SeqIO_to_alignment_iterator\r\n",
      "    yield MultipleSeqAlignment(records, alphabet)\r\n",
      "  File \"/usr/local/lib/python2.7/dist-packages/Bio/Align/__init__.py\", line 176, in __init__\r\n",
      "    self.extend(records)\r\n",
      "  File \"/usr/local/lib/python2.7/dist-packages/Bio/Align/__init__.py\", line 246, in extend\r\n",
      "    self._append(rec, expected_length)\r\n",
      "  File \"/usr/local/lib/python2.7/dist-packages/Bio/Align/__init__.py\", line 309, in _append\r\n",
      "    raise ValueError(\"Sequences must all be the same length\")\r\n",
      "ValueError: Sequences must all be the same length\r\n",
      "Traceback (most recent call last):\r\n",
      "  File \"/home/alan/projects/MinION-notebook/scripts/pairwise-pid.py\", line 10, in <module>\r\n",
      "    alignment = AlignIO.read(open(sys.argv[1]), sys.argv[2])\r\n",
      "  File \"/usr/local/lib/python2.7/dist-packages/Bio/AlignIO/__init__.py\", line 427, in read\r\n",
      "    first = next(iterator)\r\n",
      "  File \"/usr/local/lib/python2.7/dist-packages/Bio/AlignIO/__init__.py\", line 374, in parse\r\n",
      "    for a in i:\r\n",
      "  File \"/usr/local/lib/python2.7/dist-packages/Bio/AlignIO/__init__.py\", line 276, in _SeqIO_to_alignment_iterator\r\n",
      "    yield MultipleSeqAlignment(records, alphabet)\r\n",
      "  File \"/usr/local/lib/python2.7/dist-packages/Bio/Align/__init__.py\", line 176, in __init__\r\n",
      "    self.extend(records)\r\n",
      "  File \"/usr/local/lib/python2.7/dist-packages/Bio/Align/__init__.py\", line 246, in extend\r\n",
      "    self._append(rec, expected_length)\r\n",
      "  File \"/usr/local/lib/python2.7/dist-packages/Bio/Align/__init__.py\", line 309, in _append\r\n",
      "    raise ValueError(\"Sequences must all be the same length\")\r\n",
      "ValueError: Sequences must all be the same length\r\n",
      "RefName\tRefLen\t#Variants\t#Deletions\r\n",
      "MP \t982 \t0 \t15\r\n"
     ]
    }
   ],
   "source": [
    "cd /home/alan/projects/MinION-notebook/clinical-analysis/minion/4-5\n",
    "\n",
    "for i in PB1 PB2 PA HA NA NS NP MP; do grep -A1 -h --no-group-separator $i A39_consensus.fa \\\n",
    "flu-4-5.rev.miseq-consensus.consensus.fasta > temp && \\\n",
    "python ~/projects/MinION-notebook/scripts/pairwise-pid.py temp fasta; done"
   ]
  },
  {
   "cell_type": "markdown",
   "metadata": {},
   "source": [
    "#### Alignment Results\n",
    "\n",
    "These data show that coverage really matters. As seen with the consensus comparisons above there are more variants in the longer segments (which have fewer reads). However, based on these alignments I'm not able to identify the reads that are really driving the consensus errors.\n",
    "\n",
    "![title](docs/4-5-PB2-alignments.png)\n",
    "![title](docs/4-5-PB1-alignments.png)\n",
    "![title](docs/4-5-PA-alignments.png)\n",
    "![title](docs/4-5-HA-alignments.png)\n",
    "![title](docs/4-5-NA-alignments.png)\n",
    "![title](docs/4-5-NP-alignments.png)\n",
    "![title](docs/4-5-MP-alignments.png)\n",
    "![title](docs/4-5-NS-alignments.png)\n",
    "\n",
    "PA has only one variant in the consensus sequence at position 1884. \n",
    "![title](docs/4-5-PA-1883-consensus-variant.png)\n",
    "\n",
    "The 2D reads are the only ones that have the correct base at that position. \n",
    "![title](docs/4-5-PA-1884-alignment.png)\n",
    "\n",
    "The others have too many variants to look at in this manner so maybe I'll revisit this later if need be."
   ]
  },
  {
   "cell_type": "markdown",
   "metadata": {},
   "source": [
    "## MinION Blast Results Comparison\n",
    "\n",
    "The purpose of this analysis is to see whether or not different subtypes mixed in the same pool are contaminating the results of the Flu blast queries. That is to say, does an H1N1 MinION read yield any other subtype as a blast hit? This is addressing the unlikely possibility that there are similarities between the different subtypes sequenced that lead to strains that are not actually represented in the sample, thus the erroneous consensus sequences.\n",
    "\n",
    "To do this, the MinION reads will be segregated out via alignment to MiSeq consensus sequences. From there, a blast analysis will be conducted on a subtype-specific subset of reads (maybe even segment-specific?) to identify possible overlap between the different subtypes. From there, consensus sequences will be generated from those blast results and compared to the MiSeq consensus sequences (as well as other blast results with an entire flowcell's worth of data) to interrogate the discrepancies."
   ]
  },
  {
   "cell_type": "code",
   "execution_count": null,
   "metadata": {
    "collapsed": true
   },
   "outputs": [],
   "source": [
    "cd /home/alan/projects/MinION-notebook/clinical-analysis/blast-result-comparison\n",
    "\n",
    "# using data from the consensus comparison analysis to segregate the reads prior to blasting.\n",
    "samtools view -b -o flu-11-9.2d.mapped-only.bam -F 4 flu-11-9.2d.sort.bam\n",
    "samtools fasta flu-11-9.2d.mapped-only.bam > flu-11-9.2d.mapped-only.fasta\n",
    "\n",
    "blastn -db ~/projects/MinION-notebook/clinical-analysis/fludb/all-H1N1-H3N2-FluB-full-segs.fasta -query flu-11-9.2d.mapped-only.fasta -out flu-11-9.2d.mapped-only.blastn.xml -num_threads 40 -evalue 0.00005 -outfmt 5 -culling_limit 2 -max_target_seqs 1"
   ]
  },
  {
   "cell_type": "code",
   "execution_count": 18,
   "metadata": {
    "ExecuteTime": {
     "end_time": "2016-03-31T17:43:49.569343",
     "start_time": "2016-03-31T17:43:45.330076"
    },
    "collapsed": false
   },
   "outputs": [
    {
     "name": "stdout",
     "output_type": "stream",
     "text": [
      "    352 FluB\tHA\r\n",
      "     83 FluB\tMP\r\n",
      "    257 FluB\tNA\r\n",
      "     24 FluB\tNP\r\n",
      "    179 FluB\tNS\r\n",
      "    169 FluB\tPA\r\n",
      "     57 FluB\tPB1\r\n",
      "    232 FluB\tPB2\r\n",
      "      1 H1N1\tNA\r\n",
      "      1 H1N1\tNS\r\n",
      "     22 H1N1\tPB1\r\n"
     ]
    }
   ],
   "source": [
    "cd /home/alan/projects/MinION-notebook/clinical-analysis/blast-result-comparison\n",
    "\n",
    "python ~/projects/MinION-notebook/scripts/read-fludb-blastxml.py flu-11-9.2d.mapped-only.blastn.xml | cut -f2,3 | sort | uniq -c"
   ]
  },
  {
   "cell_type": "markdown",
   "metadata": {},
   "source": [
    "There are 24 hits to H1N1 that were classified as FluB based on the alignment. All but two hits are to H1N1 PB1 - NA and NS are the exceptions. This is not nearly enough to cause a discrepancy in the consensus generation. There are 218 reads that mapped to the PB1 segment so 24 shouldn't blip on the radar. However, based on the blast results from the consensus comparison this could have some effect on the PB1 region, though that would require more that two sequences hitting the same sequence, which isn't the case here. I think we can claim that this does not have an affect on the consensus generation for FluB.\n",
    "\n",
    "With this same methodology, I'm going to investigate whether the segments add to any cross contamination."
   ]
  },
  {
   "cell_type": "code",
   "execution_count": 10,
   "metadata": {
    "ExecuteTime": {
     "end_time": "2016-03-31T17:41:59.644596",
     "start_time": "2016-03-31T17:41:57.184747"
    },
    "collapsed": false,
    "run_control": {
     "marked": false
    }
   },
   "outputs": [
    {
     "name": "stdout",
     "output_type": "stream",
     "text": [
      "     24 NP\r\n",
      "      1 PA\r\n"
     ]
    }
   ],
   "source": [
    "seg='NP'\n",
    "\n",
    "cd /home/alan/projects/MinION-notebook/clinical-analysis/blast-result-comparison/segment-cross-contamination\n",
    "\n",
    "samtools view flu-11-9.2d.mapped-only.bam | grep $seg | cut -f1,10 | perl -pe 's/^(.+)\\t(.+)/>$1\\n$2/g' > flu-11-9.2d.mapped-only.$seg.fasta\n",
    "\n",
    "blastn -db ~/projects/MinION-notebook/clinical-analysis/fludb/all-H1N1-H3N2-FluB-full-segs.fasta -query flu-11-9.2d.mapped-only.$seg.fasta -out flu-11-9.2d.mapped-only.$seg.blastn.xml -outfmt 5 -evalue 0.00005 -culling_limit 2 -max_target_seqs 1 -num_threads 40\n",
    "\n",
    "python ~/projects/MinION-notebook/scripts/read-fludb-blastxml.py flu-11-9.2d.mapped-only.$seg.blastn.xml | cut -f3 | sort | uniq -c"
   ]
  },
  {
   "cell_type": "code",
   "execution_count": 11,
   "metadata": {
    "ExecuteTime": {
     "end_time": "2016-03-31T17:42:18.782881",
     "start_time": "2016-03-31T17:42:03.638436"
    },
    "collapsed": false,
    "run_control": {
     "marked": false
    }
   },
   "outputs": [
    {
     "name": "stdout",
     "output_type": "stream",
     "text": [
      "      2 HA\r\n",
      "      1 NS\r\n",
      "     23 PB1\r\n",
      "    242 PB2\r\n"
     ]
    }
   ],
   "source": [
    "seg='PB2'\n",
    "\n",
    "cd /home/alan/projects/MinION-notebook/clinical-analysis/blast-result-comparison/segment-cross-contamination\n",
    "\n",
    "samtools view flu-11-9.2d.mapped-only.bam | grep $seg | cut -f1,10 | perl -pe 's/^(.+)\\t(.+)/>$1\\n$2/g' > flu-11-9.2d.mapped-only.$seg.fasta\n",
    "\n",
    "blastn -db ~/projects/MinION-notebook/clinical-analysis/fludb/all-H1N1-H3N2-FluB-full-segs.fasta -query flu-11-9.2d.mapped-only.$seg.fasta -out flu-11-9.2d.mapped-only.$seg.blastn.xml -outfmt 5 -evalue 0.00005 -culling_limit 2 -max_target_seqs 1 -num_threads 40\n",
    "\n",
    "python ~/projects/MinION-notebook/scripts/read-fludb-blastxml.py flu-11-9.2d.mapped-only.$seg.blastn.xml | cut -f3 | sort | uniq -c"
   ]
  },
  {
   "cell_type": "code",
   "execution_count": 12,
   "metadata": {
    "ExecuteTime": {
     "end_time": "2016-03-31T17:42:21.342131",
     "start_time": "2016-03-31T17:42:18.785286"
    },
    "collapsed": false,
    "run_control": {
     "marked": false
    }
   },
   "outputs": [
    {
     "name": "stdout",
     "output_type": "stream",
     "text": [
      "     57 PB1\r\n"
     ]
    }
   ],
   "source": [
    "seg='PB1'\n",
    "\n",
    "cd /home/alan/projects/MinION-notebook/clinical-analysis/blast-result-comparison/segment-cross-contamination\n",
    "\n",
    "samtools view flu-11-9.2d.mapped-only.bam | grep $seg | cut -f1,10 | perl -pe 's/^(.+)\\t(.+)/>$1\\n$2/g' > flu-11-9.2d.mapped-only.$seg.fasta\n",
    "\n",
    "blastn -db ~/projects/MinION-notebook/clinical-analysis/fludb/all-H1N1-H3N2-FluB-full-segs.fasta -query flu-11-9.2d.mapped-only.$seg.fasta -out flu-11-9.2d.mapped-only.$seg.blastn.xml -outfmt 5 -evalue 0.00005 -culling_limit 2 -max_target_seqs 1 -num_threads 40\n",
    "\n",
    "python ~/projects/MinION-notebook/scripts/read-fludb-blastxml.py flu-11-9.2d.mapped-only.$seg.blastn.xml | cut -f3 | sort | uniq -c"
   ]
  },
  {
   "cell_type": "code",
   "execution_count": 13,
   "metadata": {
    "ExecuteTime": {
     "end_time": "2016-03-31T17:42:27.096948",
     "start_time": "2016-03-31T17:42:21.343383"
    },
    "collapsed": false,
    "run_control": {
     "marked": false
    }
   },
   "outputs": [
    {
     "name": "stdout",
     "output_type": "stream",
     "text": [
      "    182 NS\r\n"
     ]
    }
   ],
   "source": [
    "seg='NS'\n",
    "\n",
    "cd /home/alan/projects/MinION-notebook/clinical-analysis/blast-result-comparison/segment-cross-contamination\n",
    "\n",
    "samtools view flu-11-9.2d.mapped-only.bam | grep $seg | cut -f1,10 | perl -pe 's/^(.+)\\t(.+)/>$1\\n$2/g' > flu-11-9.2d.mapped-only.$seg.fasta\n",
    "\n",
    "blastn -db ~/projects/MinION-notebook/clinical-analysis/fludb/all-H1N1-H3N2-FluB-full-segs.fasta -query flu-11-9.2d.mapped-only.$seg.fasta -out flu-11-9.2d.mapped-only.$seg.blastn.xml -outfmt 5 -evalue 0.00005 -culling_limit 2 -max_target_seqs 1 -num_threads 40\n",
    "\n",
    "python ~/projects/MinION-notebook/scripts/read-fludb-blastxml.py flu-11-9.2d.mapped-only.$seg.blastn.xml | cut -f3 | sort | uniq -c"
   ]
  },
  {
   "cell_type": "code",
   "execution_count": 14,
   "metadata": {
    "ExecuteTime": {
     "end_time": "2016-03-31T17:42:57.261003",
     "start_time": "2016-03-31T17:42:27.099369"
    },
    "collapsed": false,
    "run_control": {
     "marked": false
    }
   },
   "outputs": [
    {
     "name": "stdout",
     "output_type": "stream",
     "text": [
      "    259 NA\r\n"
     ]
    }
   ],
   "source": [
    "seg='NA'\n",
    "\n",
    "cd /home/alan/projects/MinION-notebook/clinical-analysis/blast-result-comparison/segment-cross-contamination\n",
    "\n",
    "samtools view flu-11-9.2d.mapped-only.bam | grep $seg | cut -f1,10 | perl -pe 's/^(.+)\\t(.+)/>$1\\n$2/g' > flu-11-9.2d.mapped-only.$seg.fasta\n",
    "\n",
    "blastn -db ~/projects/MinION-notebook/clinical-analysis/fludb/all-H1N1-H3N2-FluB-full-segs.fasta -query flu-11-9.2d.mapped-only.$seg.fasta -out flu-11-9.2d.mapped-only.$seg.blastn.xml -outfmt 5 -evalue 0.00005 -culling_limit 2 -max_target_seqs 1 -num_threads 40\n",
    "\n",
    "python ~/projects/MinION-notebook/scripts/read-fludb-blastxml.py flu-11-9.2d.mapped-only.$seg.blastn.xml | cut -f3 | sort | uniq -c "
   ]
  },
  {
   "cell_type": "code",
   "execution_count": 15,
   "metadata": {
    "ExecuteTime": {
     "end_time": "2016-03-31T17:43:03.437758",
     "start_time": "2016-03-31T17:42:57.263448"
    },
    "collapsed": false,
    "run_control": {
     "marked": false
    }
   },
   "outputs": [
    {
     "name": "stdout",
     "output_type": "stream",
     "text": [
      "      1 HA\r\n",
      "      1 NP\r\n",
      "    170 PA\r\n"
     ]
    }
   ],
   "source": [
    "seg='PA'\n",
    "\n",
    "cd /home/alan/projects/MinION-notebook/clinical-analysis/blast-result-comparison/segment-cross-contamination\n",
    "\n",
    "samtools view flu-11-9.2d.mapped-only.bam | grep $seg | cut -f1,10 | perl -pe 's/^(.+)\\t(.+)/>$1\\n$2/g' > flu-11-9.2d.mapped-only.$seg.fasta\n",
    "\n",
    "blastn -db ~/projects/MinION-notebook/clinical-analysis/fludb/all-H1N1-H3N2-FluB-full-segs.fasta -query flu-11-9.2d.mapped-only.$seg.fasta -out flu-11-9.2d.mapped-only.$seg.blastn.xml -outfmt 5 -evalue 0.00005 -culling_limit 2 -max_target_seqs 1 -num_threads 40\n",
    "\n",
    "python ~/projects/MinION-notebook/scripts/read-fludb-blastxml.py flu-11-9.2d.mapped-only.$seg.blastn.xml | cut -f3 | sort | uniq -c"
   ]
  },
  {
   "cell_type": "code",
   "execution_count": 16,
   "metadata": {
    "ExecuteTime": {
     "end_time": "2016-03-31T17:43:41.904811",
     "start_time": "2016-03-31T17:43:03.440212"
    },
    "collapsed": false,
    "run_control": {
     "marked": false
    }
   },
   "outputs": [
    {
     "name": "stdout",
     "output_type": "stream",
     "text": [
      "    352 HA\r\n",
      "      3 MP\r\n",
      "      1 NA\r\n",
      "      1 PA\r\n"
     ]
    }
   ],
   "source": [
    "seg='HA'\n",
    "\n",
    "cd /home/alan/projects/MinION-notebook/clinical-analysis/blast-result-comparison/segment-cross-contamination\n",
    "\n",
    "samtools view flu-11-9.2d.mapped-only.bam | grep $seg | cut -f1,10 | perl -pe 's/^(.+)\\t(.+)/>$1\\n$2/g' > flu-11-9.2d.mapped-only.$seg.fasta\n",
    "\n",
    "blastn -db ~/projects/MinION-notebook/clinical-analysis/fludb/all-H1N1-H3N2-FluB-full-segs.fasta -query flu-11-9.2d.mapped-only.$seg.fasta -out flu-11-9.2d.mapped-only.$seg.blastn.xml -outfmt 5 -evalue 0.00005 -culling_limit 2 -max_target_seqs 1 -num_threads 40\n",
    "\n",
    "python ~/projects/MinION-notebook/scripts/read-fludb-blastxml.py flu-11-9.2d.mapped-only.$seg.blastn.xml | cut -f3 | sort | uniq -c"
   ]
  },
  {
   "cell_type": "code",
   "execution_count": 17,
   "metadata": {
    "ExecuteTime": {
     "end_time": "2016-03-31T17:43:45.327583",
     "start_time": "2016-03-31T17:43:41.907265"
    },
    "collapsed": false,
    "run_control": {
     "marked": false
    }
   },
   "outputs": [
    {
     "name": "stdout",
     "output_type": "stream",
     "text": [
      "      2 HA\r\n",
      "     85 MP\r\n"
     ]
    }
   ],
   "source": [
    "seg='MP'\n",
    "\n",
    "cd /home/alan/projects/MinION-notebook/clinical-analysis/blast-result-comparison/segment-cross-contamination\n",
    "\n",
    "samtools view flu-11-9.2d.mapped-only.bam | grep $seg | cut -f1,10 | perl -pe 's/^(.+)\\t(.+)/>$1\\n$2/g' > flu-11-9.2d.mapped-only.$seg.fasta\n",
    "\n",
    "blastn -db ~/projects/MinION-notebook/clinical-analysis/fludb/all-H1N1-H3N2-FluB-full-segs.fasta -query flu-11-9.2d.mapped-only.$seg.fasta -out flu-11-9.2d.mapped-only.$seg.blastn.xml -outfmt 5 -evalue 0.00005 -culling_limit 2 -max_target_seqs 1 -num_threads 40\n",
    "\n",
    "python ~/projects/MinION-notebook/scripts/read-fludb-blastxml.py flu-11-9.2d.mapped-only.$seg.blastn.xml | cut -f3 | sort | uniq -c"
   ]
  },
  {
   "cell_type": "markdown",
   "metadata": {},
   "source": [
    "Very little cross contamination. PB2 has the worst, but still nothing that is even close to affecting the consensus. "
   ]
  },
  {
   "cell_type": "markdown",
   "metadata": {},
   "source": [
    "## Blast MiSeq"
   ]
  },
  {
   "cell_type": "markdown",
   "metadata": {},
   "source": [
    "To identify whether or not the samples we have are mixed infections I'm going to blast thes MiSeq reads to see if that will shed light on anything."
   ]
  },
  {
   "cell_type": "code",
   "execution_count": null,
   "metadata": {
    "collapsed": true
   },
   "outputs": [],
   "source": [
    "cd /home/alan/projects/MinION-notebook/miseq-blast/flub\n",
    "\n",
    "python ~/projects/MinION-notebook/MinION-Flu-Analysis/scripts/interleave-fastq.py f3.r1.fastq f3.r2.fastq > f3.interleaved.fasta\n",
    "\n",
    "perl ~/projects/MinION-notebook/MinION-Flu-Analysis/scripts/1line-fasta.pl f3.interleaved.fastq > f3.interleaved.fasta\n",
    "\n",
    "blastn \\\n",
    "-db ~/projects/MinION-notebook/clinical-analysis/fludb/all-H1N1-H3N2-FluB-full-segs.fasta \\\n",
    "-query f3.interleaved.fasta \\\n",
    "-out f3.interleaved.fludb.blastn.xml \\\n",
    "-outfmt 5 \\\n",
    "-num_threads 25 \\\n",
    "-culling_limit 2 \\\n",
    "-max_target_seqs 1 \\\n",
    "-evalue 0.00005\n",
    "\n",
    "# python ~/projects/MinION-notebook/MinION-Flu-Analysis/scripts/read-fludb-blastxml.py \\\n",
    "# f3.interleaved.fludb.blastn.xml \\\n",
    "# > f3.interleaved.fludb.blastn.seg-counts.tsv"
   ]
  },
  {
   "cell_type": "markdown",
   "metadata": {
    "collapsed": true
   },
   "source": [
    "The blast suggested that there were ~0.1% FluA reads in the sample which suggests that this is not the source of noise that is seen in the consensus generation of FluB so must be something else. \n",
    "\n",
    "There were 1314651 total hits, 1942 being FluA.\n",
    "\n",
    "I was concerned about there being potential overlap between FluA and FluB sequences due to these results. However, I would expect there to one part of one or two segments to be similar instead of all segments. These results suggest that this is either:\n",
    "A) an actual mixed infection\n",
    "B) cross contamination on the prep side\n",
    "C) erroneous demuxing (most probable, IMO). I will check this out.\n",
    "\n",
    "182 1\n",
    "165 2\n",
    "231 3\n",
    "329 4\n",
    "247 5\n",
    "151 6\n",
    "412 7\n",
    "225 8\n",
    "\n",
    "Also, there may be adaptor readthrough...\n",
    "\n",
    "To assess whether this is due to demuxing I'm going to blast the lab strain of FluB and see if there's any FluA in there.\n",
    "\n",
    "Also, after talking to Adam, we thought it would be a good idea to test the plasmid to see if there's any cross contamination of other segments. This'll have to be run on the nt database presumably to avoid overfitting? We'll have to see. I'll run it on the FluDB for now"
   ]
  },
  {
   "cell_type": "code",
   "execution_count": null,
   "metadata": {
    "collapsed": true
   },
   "outputs": [],
   "source": [
    "cd /home/alan/projects/MinION-notebook/miseq-blast/lab-strain-clinical-flub\n",
    "\n",
    "#from khmer \n",
    "interleave-reads.py flub-standard.r1.fastq.gz flub-standard.r2.fastq.gz > flub-standard.fastq\n",
    "\n",
    "#from fastx\n",
    "fastq_to_fasta -n -i flub-standard.fastq -o flub-standard.fasta\n",
    "\n",
    "blastn \\\n",
    "-db ~/projects/MinION-notebook/clinical-analysis/fludb/all-H1N1-H3N2-FluB-full-segs.fasta \\\n",
    "-query flub-standard.fasta \\\n",
    "-out flub-standard.fludb.blastn.xml \\\n",
    "-outfmt 5 \\\n",
    "-num_threads 25\n",
    "-culling_limit 2 \\\n",
    "-max_target_seqs 1 \\\n",
    "-evalue 0.00005"
   ]
  },
  {
   "cell_type": "code",
   "execution_count": null,
   "metadata": {
    "collapsed": true
   },
   "outputs": [],
   "source": [
    "cd /home/alan/projects/MinION-notebook/miseq-blast/plasmid\n",
    "\n",
    "#from khmer \n",
    "interleave-reads.py plasmid.r1.fastq.gz plasmid.r2.fastq.gz > plasmid.fastq\n",
    "\n",
    "#from fastx\n",
    "fastq_to_fasta -n -i plasmid.fastq -o plasmid.fasta\n",
    "\n",
    "blastn \\\n",
    "-db ~/projects/MinION-notebook/clinical-analysis/fludb/all-H1N1-H3N2-FluB-full-segs.fasta \\\n",
    "-query plasmid.fasta \\\n",
    "-out plasmid.fludb.blastn.xml \\\n",
    "-outfmt 5 \\\n",
    "-num_threads 15\n",
    "-culling_limit 2 \\\n",
    "-max_target_seqs 1 \\\n",
    "-evalue 0.00005"
   ]
  },
  {
   "cell_type": "markdown",
   "metadata": {},
   "source": [
    "## Canu Assembly"
   ]
  },
  {
   "cell_type": "markdown",
   "metadata": {},
   "source": [
    "Bin's friend is working with MinION and recommended that Canu (a fork of Celera) is the best assembler that he's used. \n",
    "\n",
    "https://github.com/marbl/canu"
   ]
  },
  {
   "cell_type": "code",
   "execution_count": null,
   "metadata": {
    "collapsed": true
   },
   "outputs": [],
   "source": [
    "cd /data1/share/scratch/minion-canu\n",
    "\n",
    "/opt/bioinformatics-software/minion-software/canu/Linux-amd64/bin/canu \\\n",
    "-p flu-11-9-canu \\\n",
    "-d flu-11-9-canu-out \\\n",
    "genomeSize=32k \\\n",
    "-nanopore-raw flu-11-09.fastq"
   ]
  },
  {
   "cell_type": "markdown",
   "metadata": {},
   "source": [
    "There weren't any contigs produced, but this did perform some error correction with falcon sense (which is a super pain to install), so I can use those reads to see if it helps with anyhting.\n",
    "\n",
    "First I'm going to separate the FluB reads out. I assembled the entire 11-9 run which is probably a bad idea. Using the FluDB blast results I will grab the reads that map to FluB and start by assembling the full genome and if that doesn't work then I will separate them out by segment."
   ]
  },
  {
   "cell_type": "markdown",
   "metadata": {},
   "source": [
    "### Single genome assembly"
   ]
  },
  {
   "cell_type": "markdown",
   "metadata": {},
   "source": [
    "WE'll start with the 11-9 FluB genome and see how that goes. Note that the PB1 segment will look wonky due to the lab strain spike in."
   ]
  },
  {
   "cell_type": "code",
   "execution_count": null,
   "metadata": {
    "collapsed": true
   },
   "outputs": [],
   "source": [
    "cd /data1/share/scratch/minion-canu/flub-only\n",
    "\n",
    "grep -B6 'Influenza B' flu-11-9.2d.fludb.xml | grep 'Iteration_query-def' | perl -pe 's/^.+>(.+) FAS.+/$1/g' | grep --no-group-separator -A3 -F -f - flu-11-9.2d.fastq  > flu-11-9.2d.flub-reads.fastq\n",
    "\n",
    "/opt/bioinformatics-software/minion-software/canu/Linux-amd64/bin/canu -p flu-11-9-flub-only-canu -d flu-11-9-flub-only-canu-out genomeSize=12k -nanopore-raw flu-11-9.2d.flub-reads.fastq"
   ]
  },
  {
   "cell_type": "markdown",
   "metadata": {},
   "source": [
    "This resulted in 62 corrected reads and 61 unassembled reads.\n",
    "\n",
    "It seems like an actual assembly won't be very likely since it will try to stitch together a fragmented genome, though the error correction part may be what we should hone in on. \n",
    "\n",
    "Also, they do suggest that we run nanopolish prior to assembling even though they implement falcon-sense so I can give that a shot.\n",
    "\n",
    "They also provide some documentation on how to assemble low coverage genomes that I will try since this is low coverage, especially after the error correction step (dealing with 61 reads!).\n",
    "http://canu.readthedocs.org/en/stable/quick-start.html#assembling-low-coverage-datasets\n",
    "\n",
    "I'll start with the defaults for now."
   ]
  },
  {
   "cell_type": "code",
   "execution_count": null,
   "metadata": {
    "collapsed": true
   },
   "outputs": [],
   "source": [
    "cd /data1/share/scratch/minion-canu/flub-only\n",
    "\n",
    "/opt/bioinformatics-software/minion-software/canu/Linux-amd64/bin/canu -p flu-11-9-flub-only-low-cov-canu \\\n",
    "-d flu-11-9-flub-only-low-cov-canu-out genomeSize=12k corMhapSensitivity=high corMinCoverage=2 errorRate=0.035 \\\n",
    "minOverlapLength=499 corMaxEvidenceErate=0.3 -nanopore-raw flu-11-9.2d.flub-reads.fastq"
   ]
  },
  {
   "cell_type": "markdown",
   "metadata": {},
   "source": [
    "This seemed to not work as well. There are more error corrected reads which isn't what I expected. Before jumping to combining all FluB runs I want to see if the results differ when trying to assemble one specific segment."
   ]
  },
  {
   "cell_type": "code",
   "execution_count": null,
   "metadata": {
    "collapsed": true
   },
   "outputs": [],
   "source": [
    "cd /data1/share/scratch/minion-canu/flub-only\n",
    "\n",
    "grep -P -B6 'Influenza B.+Segment:4' flu-11-9.2d.fludb.xml | grep 'Iteration_query-def' | \\\n",
    "perl -pe 's/^.+>(.+) FAS.+/$1/g' | grep --no-group-separator -A3 -F -f - flu-11-9.2d.fastq  > flu-11-9.2d.flub-HA-reads.fastq\n",
    "\n",
    "/opt/bioinformatics-software/minion-software/canu/Linux-amd64/bin/canu -p flu-11-9-flub-HA-only-canu \\\n",
    "-d flu-11-9-flub-HA-only-canu-out genomeSize=12k -nanopore-raw flu-11-9.2d.flub-HA-reads.fastq"
   ]
  },
  {
   "cell_type": "markdown",
   "metadata": {},
   "source": [
    "This didn't work either. I find it very odd that when trying to assemble the whole FluB genome and the HA segment only that there are the same number of unitigs. This definitely seems like there's some weird partitioning going on here so I need to find out what the parameters are that could be causing this.\n",
    "\n",
    "Also, I'm going to try the error correction with nanopolish first, both the consensus and eventalign modules. This will allow me to see if either of them produce assembled enough data as well as whether those feed into canu nicely. "
   ]
  },
  {
   "cell_type": "markdown",
   "metadata": {},
   "source": [
    "### Nanopolish with Canu\n",
    "\n",
    "Nanopolish requires an alignment of some sort so not sure if this is a good idea since the reference base bias that I uncovered may have an adverse effect on the data. I will try it with the top blast segments first - this will allow me to see if this can resolve the reference base bias."
   ]
  },
  {
   "cell_type": "code",
   "execution_count": null,
   "metadata": {
    "collapsed": true
   },
   "outputs": [],
   "source": [
    "cd /data1/share/scratch/minion-canu/flub-only/nanopolish\n",
    "\n",
    "ln -s ~/projects/MinION-notebook/clinical-analysis/consensus-comparison/flub/flu-11-9.2d.11-9-top-seg-hits.sort.bam\n",
    "ln -s ~/projects/MinION-notebook/clinical-analysis/consensus-comparison/flub/flu-11-9.2d.11-9-top-seg-hits.sort.bam.bai\n",
    "ln -s ~/projects/MinION-notebook/clinical-analysis/consensus-comparison/flub/11-9-top-seg-hits.fasta\n",
    "ln -s ../flu-11-9.2d.fastq\n",
    "\n",
    "samtools view -F 4 flu-11-9.2d.11-9-top-seg-hits.sort.bam | cut -f1 | grep --no-group-separator \\\n",
    "-A3 -F -f - flu-11-9.2d.fastq > flu-11-9.2d.11-9-top-seg-hits.flub-only.fastq\n",
    "\n",
    "perl ~/custom-scripts/fq2fa.pl flu-11-9.2d.11-9-top-seg-hits.flub-only.fastq > flu-11-9.2d.11-9-top-seg-hits.flub-only.fasta\n",
    "\n",
    "#had to change the makefile to be compatible with the new version of samtools\n",
    "\n",
    "make -f /opt/bioinformatics-software/minion-software/nanopolish/scripts/consensus.make \\\n",
    "READS=flu-11-9.2d.11-9-top-seg-hits.flub-only.fasta ASSEMBLY=11-9-top-seg-hits.fasta\n",
    "\n"
   ]
  },
  {
   "cell_type": "markdown",
   "metadata": {},
   "source": [
    "### Canu Falcon Sense Corrected Reads"
   ]
  },
  {
   "cell_type": "code",
   "execution_count": null,
   "metadata": {
    "collapsed": true
   },
   "outputs": [],
   "source": []
  },
  {
   "cell_type": "markdown",
   "metadata": {
    "heading_collapsed": false,
    "level": 7
   },
   "source": [
    "## NGM-LR\n",
    "Aligner developed by Mike Schatz that apparently works well for MinION data.\n",
    "http://cibiv.github.io/NextGenMap/\n"
   ]
  },
  {
   "cell_type": "markdown",
   "metadata": {
    "level": 7
   },
   "source": [
    "# Error Correction"
   ]
  },
  {
   "cell_type": "markdown",
   "metadata": {},
   "source": [
    "After talking with Mike Schatz there are a few recomendations on what to do with the data.\n",
    "\n",
    "After talking to Lior, he recommended (for proof of concept) take any strain, mutate it 15%, and then do that several thousand times to see if that is producing the same results?\n",
    "\n",
    "Also, maybe try DADA2 (http://biorxiv.org/content/early/2015/08/06/024034). This is very similar in concept to what Zeke and I were doing."
   ]
  },
  {
   "cell_type": "markdown",
   "metadata": {
    "level": 7
   },
   "source": [
    "## Falcon-sense"
   ]
  },
  {
   "cell_type": "markdown",
   "metadata": {},
   "source": [
    "Falcon was generated for PacBio data and \n",
    "\n",
    "https://github.com/PacificBiosciences/FALCON\n",
    "\n",
    "Mike said it was a pain in the ass to install and he has never lied.\n"
   ]
  },
  {
   "cell_type": "code",
   "execution_count": null,
   "metadata": {
    "collapsed": true
   },
   "outputs": [],
   "source": []
  },
  {
   "cell_type": "markdown",
   "metadata": {
    "level": 7
   },
   "source": [
    "## Nanopolish"
   ]
  },
  {
   "cell_type": "markdown",
   "metadata": {},
   "source": [
    "https://github.com/jts/nanocorrect\n",
    "\n",
    "Instructions:\n",
    "\n",
    "First, build the DALIGNER database and compute alignments:\n",
    "\n",
    "./nanocorrect-overlap INPUT=reads.fasta NAME=nc\n",
    "\n",
    "INPUT is the path to your reads. The NAME variable is the prefix you want to use for the output files.\n",
    "\n",
    "You can correct a range of reads using the python script:\n",
    "\n",
    "python nanocorrect.py nc 1000:1020 > corrected.fasta\n",
    "\n",
    "You can correct all reads using the python script:\n",
    "\n",
    "python nanocorrect.py nc all > corrected.fasta\n",
    "\n",
    "The first argument must be the same as the NAME variable above. The second is the indices of the reads (in the original fasta) that you want to correct."
   ]
  },
  {
   "cell_type": "markdown",
   "metadata": {},
   "source": [
    "### 4-20"
   ]
  },
  {
   "cell_type": "code",
   "execution_count": null,
   "metadata": {
    "ExecuteTime": {
     "end_time": "2016-02-18T14:26:18.040745",
     "start_time": "2016-02-18T14:26:07.946187"
    },
    "collapsed": false
   },
   "outputs": [],
   "source": [
    "cd /home/alan/projects/MinION-notebook/error-correction/nanocorrect/4-20\n",
    "\n",
    "nanocorrect-overlap INPUT=flu-4-20.fasta NAME=nc\n",
    "\n",
    "python /opt/bioinformatics-software/minion-software/nanocorrect/nanocorrect.py nc all > flu-4-20.nc.fasta"
   ]
  },
  {
   "cell_type": "markdown",
   "metadata": {},
   "source": [
    "### 6-4"
   ]
  },
  {
   "cell_type": "code",
   "execution_count": null,
   "metadata": {
    "collapsed": true
   },
   "outputs": [],
   "source": [
    "cd /home/alan/projects/MinION-notebook/error-correction/nanocorrect/6-4\n",
    "\n",
    "nanocorrect-overlap INPUT=flu-6-4.2d.fasta NAME=nc\n",
    "\n",
    "python /opt/bioinformatics-software/minion-software/nanocorrect/nanocorrect.py nc all > flu-6-4.2d.nc.fasta"
   ]
  },
  {
   "cell_type": "markdown",
   "metadata": {},
   "source": [
    "### 8-13"
   ]
  },
  {
   "cell_type": "code",
   "execution_count": null,
   "metadata": {
    "collapsed": true
   },
   "outputs": [],
   "source": [
    "cd /home/alan/projects/MinION-notebook/error-correction/nanocorrect/8-13\n",
    "\n",
    "nanocorrect-overlap INPUT=flu-8-13.2d.fasta NAME=nc\n",
    "\n",
    "python /opt/bioinformatics-software/minion-software/nanocorrect/nanocorrect.py nc all > flu-8-13.2d.nc.fasta"
   ]
  },
  {
   "cell_type": "markdown",
   "metadata": {},
   "source": [
    "### 11-9"
   ]
  },
  {
   "cell_type": "code",
   "execution_count": null,
   "metadata": {
    "collapsed": true
   },
   "outputs": [],
   "source": [
    "cd /home/alan/projects/MinION-notebook/error-correction/nanocorrect/11-9\n",
    "\n",
    "nanocorrect-overlap INPUT=flu-11-9.2d.fasta NAME=nc\n",
    "\n",
    "python /opt/bioinformatics-software/minion-software/nanocorrect/nanocorrect.py nc all > flu-11-9.2d.nc.fasta"
   ]
  },
  {
   "cell_type": "markdown",
   "metadata": {},
   "source": [
    "#### Blast Consensus Analysis"
   ]
  },
  {
   "cell_type": "markdown",
   "metadata": {},
   "source": [
    "Now that we have \"corrected\" reads, this may lead to better blast results. So this will be put through the second implementation of the clinical consensus pipeline."
   ]
  },
  {
   "cell_type": "code",
   "execution_count": null,
   "metadata": {
    "collapsed": true,
    "run_control": {
     "marked": false
    }
   },
   "outputs": [],
   "source": [
    "cd /home/alan/projects/MinION-notebook/error-correction/nanocorrect/11-9/blast-analysis\n",
    "\n",
    "blastn \\\n",
    "-query flu-11-9.2d.nc.fasta \\\n",
    "-db ~/projects/MinION-notebook/clinical-analysis/fludb/all-H1N1-H3N2-FluB-full-segs.fasta \\\n",
    "-out flu-11-9.2d.nc.blast.xml \\\n",
    "-outfmt 5 \\\n",
    "-num_threads 40 \\\n",
    "-culling_limit 2 \\\n",
    "-max_target_seqs 1 \\\n",
    "-evalue 0.00005\n",
    "\n",
    "python ~/projects/MinION-notebook/MinION-Flu-Analysis/scripts/read-fludb-blastxml.py flu-11-9.2d.nc.blast.xml | sort -nrk4 > flu-11-9.2d.nc.blast.seg-counts.tsv\n",
    "\n",
    "miseq=\"f3\"\n",
    "minion=\"flu-11-9.2d.nc\"\n",
    "ref=\"/home/alan/projects/MinION-notebook/clinical-analysis/fludb/all-H1N1-H3N2-FluB-full-segs.fasta\"\n",
    "subtype=\"FluB\"\n",
    "\n",
    "for seg in NS NA NP M PB1 PB2 PA HA\n",
    "do\n",
    "# sort the segments by their hits\n",
    "sort -nrk4 $minion.blast.seg-counts.tsv | grep -P $subtype'\\t'$seg | head | cut -f1 > $minion-top-$subtype-$seg.tsv\n",
    "\n",
    "# get the fasta sequences\n",
    "grep --no-group-separator -A1 -F -f $minion-top-$subtype-$seg.tsv $ref > $minion-top-$subtype-$seg.fasta\n",
    "\n",
    "# map dat fool\n",
    "bowtie2-build $minion-top-$subtype-$seg.fasta $minion-top-$subtype-$seg.fasta\n",
    "bowtie2 -p 40 --very-sensitive-local -x $minion-top-$subtype-$seg.fasta  -1 $miseq.r1.fastq.gz -2 $miseq.r2.fastq.gz -S $miseq-$minion-top-$subtype-$seg.sam \n",
    "\n",
    "samtools view -b -o $miseq-$minion-top-$subtype-$seg.bam $miseq-$minion-top-$subtype-$seg.sam\n",
    "samtools sort -o $miseq-$minion-top-$subtype-$seg.sort.bam $miseq-$minion-top-$subtype-$seg.bam \n",
    "samtools index $miseq-$minion-top-$subtype-$seg.sort.bam\n",
    "\n",
    "# make consensus\n",
    "for i in $(samtools idxstats $miseq-$minion-top-$subtype-$seg.sort.bam | cut -f1 | grep -v '*'); do python ~/custom-scripts/bamfile_consensus_generate/bamfile_consensus_generate.py $miseq-$minion-top-$subtype-$seg.sort.bam $i ; done > $miseq-$minion-top-$subtype-$seg.consensus.fasta\n",
    "\n",
    "# map minion data\n",
    "/opt/bioinformatics-software/bwa-0.7.12/bwa index $minion-top-$subtype-$seg.fasta\n",
    "/opt/bioinformatics-software/bwa-0.7.12/bwa mem -x ont2d -t 40 $minion-top-$subtype-$seg.fasta $minion.fasta > $minion-top-$subtype-$seg.sam\n",
    "\n",
    "samtools view -b -o $minion-top-$subtype-$seg.bam $minion-top-$subtype-$seg.sam\n",
    "samtools sort -o $minion-top-$subtype-$seg.sort.bam $minion-top-$subtype-$seg.bam\n",
    "samtools index $minion-top-$subtype-$seg.sort.bam\n",
    "\n",
    "# make minion consensus\n",
    "for i in $(samtools idxstats $minion-top-$subtype-$seg.sort.bam | cut -f1 | grep -v '*'); do python ~/custom-scripts/bamfile_consensus_generate/bamfile_consensus_generate.py $minion-top-$subtype-$seg.sort.bam $i; done > $minion-top-$subtype-$seg.consensus.fasta\n",
    "\n",
    "rm $minion-top-$subtype-$seg.sam $minion-top-$subtype-$seg.bam $minion-top-$subtype-$seg.fasta.*\n",
    "\n",
    "done"
   ]
  },
  {
   "cell_type": "markdown",
   "metadata": {},
   "source": [
    "The issue with reads mapping to different strains is still a thing. It seems liek the MiSeq is the driving factor here since we can't generate a good consensus to compare to the MinION consensus. "
   ]
  },
  {
   "cell_type": "markdown",
   "metadata": {},
   "source": [
    "### Ebola Virus Workflow"
   ]
  },
  {
   "cell_type": "markdown",
   "metadata": {
    "collapsed": true
   },
   "source": [
    "The paper published in Nature that did \"haplotyping\" with Ebola is something that I'm going to try. They report conesnsus sequences but they don't really comment on the accuracy and their approach is quite different from ours.\n",
    "\n",
    "The paper is here: http://www.nature.com/nature/journal/v530/n7589/full/nature16996.html\n",
    "\n",
    "The github is here: https://github.com/nickloman/ebov\n",
    "\n",
    "These guys use the \"fail\" hq 2d reads but I'm going to try with just the pass 2d reads for now."
   ]
  },
  {
   "cell_type": "markdown",
   "metadata": {},
   "source": [
    "#### MarginAlign"
   ]
  },
  {
   "cell_type": "markdown",
   "metadata": {},
   "source": [
    "Here's the script that they used to align: https://github.com/nickloman/ebov/blob/master/scripts/marginalign.sh"
   ]
  },
  {
   "cell_type": "markdown",
   "metadata": {},
   "source": [
    "##### FluB PB2 from 11-9"
   ]
  },
  {
   "cell_type": "markdown",
   "metadata": {},
   "source": [
    "I'm going to work with FluB-PB2 of the 11-9 run just for starters, since it should be the highest quality data. The reference is going to be the most frequent hit from Blastn after using nanocorrect on the reads (since I already have that data. If the results are good enough then we can go forward with mutliple references and see how that works."
   ]
  },
  {
   "cell_type": "code",
   "execution_count": null,
   "metadata": {
    "collapsed": true
   },
   "outputs": [],
   "source": [
    "cd /home/alan/projects/MinION-notebook/margin-align/11-9/FluB-PB2\n",
    "\n",
    "# segment counts can be found here: flu-11-9.2d.nc.blast.seg-counts.tsv\n",
    "\n",
    "grep -A1 'CY153608' flu-11-9.2d.nc-top-FluB-PB2.fasta > top-flub-PB2-blast-hit.fasta\n",
    "\n",
    "/opt/bioinformatics-software/minion-software/margin/marginAlign \\\n",
    "flu-11-9.2d.fastq \\\n",
    "top-flub-PB2-blast-hit.fasta \\\n",
    "flu-11-9.2d.marginalign.sam \\\n",
    "--em \\\n",
    "--outputModel flu-11-9.2d.output.hmm \\\n",
    "--jobTree jobTree_align_flu-11-9.2d \\\n",
    "--maxThreads 40\n",
    "\n",
    "/opt/bioinformatics-software/minion-software/margin/marginAlign \\\n",
    "flu-11-9.2d.fastq top-flub-PB2-blast-hit.fasta \\\n",
    "flu-11-9.2d.marginalign.sam \\\n",
    "--inputModel flu-11-9.2d.output.hmm \\\n",
    "#--jobTree jobTree_align_flu-11-9.2d \\\n",
    "--maxThreads 40\n",
    "\n",
    "samtools view -o flu-11-9.2d.marginalign.bam -b flu-11-9.2d.marginalign.sam\n",
    "samtools sort -o flu-11-9.2d.marginalign.sort.bam flu-11-9.2d.marginalign.bam\n",
    "samtools index flu-11-9.2d.marginalign.sort.bam"
   ]
  },
  {
   "cell_type": "markdown",
   "metadata": {},
   "source": [
    "# MiSeq Assembly"
   ]
  },
  {
   "cell_type": "markdown",
   "metadata": {},
   "source": [
    "Since the blast analysis isn't working well, a de novo assembly is the next best thing to get an accurate representation of the in situ strain information."
   ]
  },
  {
   "cell_type": "markdown",
   "metadata": {
    "collapsed": true
   },
   "source": [
    "## Velvet"
   ]
  },
  {
   "cell_type": "markdown",
   "metadata": {
    "collapsed": true
   },
   "source": [
    "I'm going to use velvet for the first run, just to see how things look."
   ]
  },
  {
   "cell_type": "code",
   "execution_count": null,
   "metadata": {
    "collapsed": true
   },
   "outputs": [],
   "source": [
    "cd /home/alan/projects/MinION-notebook/miseq-assembly/flub\n",
    "\n",
    "python ~/projects/MinION-notebook/MinION-Flu-Analysis/scripts/interleave-fastq.py f3.r1.fastq.gz f3.r2.fastq.gz > f3.fastq\n",
    "\n",
    "perl /opt/bioinformatics-software/velvet/contrib/VelvetOptimiser-2.2.4/VelvetOptimiser.pl --e 63 --o '-ins_length 250 -min_contig_length 700' -t 40 -f '-shortPaired -fastq f3.fastq'\n"
   ]
  },
  {
   "cell_type": "markdown",
   "metadata": {},
   "source": [
    "VelvetOptimiser recommended has size of 27 so..."
   ]
  },
  {
   "cell_type": "code",
   "execution_count": null,
   "metadata": {
    "collapsed": true
   },
   "outputs": [],
   "source": [
    "velvetg auto_data_27 -ins_length 250 -min_contig_lgth 700 -exp_cov auto"
   ]
  },
  {
   "cell_type": "markdown",
   "metadata": {},
   "source": [
    "And this was horrible. So, the next attempt will be to segregate out the reads by segment and go from there. I'll start with PB2 and if it works I'll make a pipeline. I will use the blast alignment to see if velvet can resolve using that.\n",
    "\n",
    "Actually, I'm going to give khmer a shot. Try some read normalization and partitioning. http://khmer.readthedocs.org/en/v2.0/user/scripts.html#scripts-diginorm\n",
    "\n",
    "First step: trimmomatic (http://www.usadellab.org/cms/index.php?page=trimmomatic)"
   ]
  },
  {
   "cell_type": "code",
   "execution_count": null,
   "metadata": {
    "collapsed": true
   },
   "outputs": [],
   "source": [
    "cd ~/projects/MinION-notebook/miseq-assembly/flub\n",
    "\n",
    "java -jar /opt/bioinformatics-software/Trimmomatic-0.35/trimmomatic-0.35.jar PE f3.r1.fastq.gz f3.r2.fastq.gz f3.r1.trimmed.fastq.gz f3.r1.se.trimmed.fastq.gz f3.r2.trimmed.fastq.gz f3.r2.se.trimmed.fastq.gz LEADING:3 TRAILING:3 SLIDINGWINDOW:4:15 MINLEN:36"
   ]
  },
  {
   "cell_type": "markdown",
   "metadata": {
    "collapsed": true
   },
   "source": [
    "Next I just want to see how coverage looks. Following Khmer's recipe for slicing reads based on coverage: https://khmer-recipes.readthedocs.org/en/latest/001-extract-reads-by-coverage/index.html\n",
    "\n",
    "After reading a bit more about the recipes that khmer provides, I'm going to look at this from a metatranscriptome point of view since both our sample and the example make the assumption that there are different coverage peaks.\n",
    "https://khmer-recipes.readthedocs.org/en/latest/007-variable-coverage-trimming/index.html"
   ]
  },
  {
   "cell_type": "code",
   "execution_count": null,
   "metadata": {
    "ExecuteTime": {
     "start_time": "2016-02-26T20:26:51.410Z"
    },
    "collapsed": false
   },
   "outputs": [],
   "source": [
    "# cd ~/projects/MinION-notebook/miseq-assembly/flub\n",
    "\n",
    "# load-into-counting.py --threads 40 -x 1e8 -k 20 reads.kh *trimmed.fastq.gz \n",
    "# abundance-dist.py reads.kh f3.r1.trimmed.fastq.gz f3.r1.trimmed.read.dist\n",
    "\n",
    "cd /data1/share/scratch/miseq-assembly/flub/khmer\n",
    "\n"
   ]
  },
  {
   "cell_type": "code",
   "execution_count": null,
   "metadata": {
    "ExecuteTime": {
     "end_time": "2016-02-29T11:28:58.752790",
     "start_time": "2016-02-29T11:28:57.985571"
    },
    "collapsed": false
   },
   "outputs": [],
   "source": [
    "plot-abundance-dist.py f3.r1.trimmed.read.dist f3.r1.trimmed.read.dist.png --ymax=300"
   ]
  },
  {
   "cell_type": "markdown",
   "metadata": {
    "collapsed": true
   },
   "source": [
    "## SPADES Assembler"
   ]
  },
  {
   "cell_type": "markdown",
   "metadata": {},
   "source": [
    "After talking with Mike Schatz he recommended using SPADES so I'll give that a shot.\n",
    "\n",
    "I'm running these data on /data1 because I think there's too much IO on the home disk"
   ]
  },
  {
   "cell_type": "code",
   "execution_count": null,
   "metadata": {
    "collapsed": true
   },
   "outputs": [],
   "source": [
    "cd /data1/share/scratch/miseq-assembly/flub\n",
    "\n",
    "spades.py --threads 40 --mem 110 --threads 20 -1 f3.r1.fastq -2 f3.r2.fastq -o f3-spades\n",
    "#spades.py --threads 40 --mem 110 --threads 20 -1 f3.r1.fastq -2 f3.r2.fastq --meta -o f3-spades"
   ]
  },
  {
   "cell_type": "markdown",
   "metadata": {},
   "source": [
    "LOL so this produced 4996 contigs and the longest contig was complete nonsense. Looks like some normalization needs to take place. \n",
    "\n",
    "The workflow that Mike implemented (with good results) is as follows:\n",
    "\n",
    "Isolate the PB2 segment alignments:\n",
    "$ samtools view -h miseq-minion.bam H3N2-PB2 | samtools view -Sb - -o pb2.bam\n",
    "\n",
    "Compute average coverage:\n",
    "$ samtools depth pb2.bam | awk '{s+=$3;c++} END{print s/c}'\n",
    "7760.49\n",
    "\n",
    "Downsample to keep 0.7% of the pairs (about 100x coverage)\n",
    "$ samtools view -hs .007 pb2.bam | samtools view -Sb - -o pb2.100x.bam\n",
    "\n",
    "Check the coverage (99.06x):\n",
    "$ samtools depth pb2.100x.bam | awk '{s+=$3;c++} END{print s/c}'\n",
    "99.0674\n",
    "\n",
    "Convert to fastq:\n",
    "$ bamtools convert -in pb2.100x.bam -format fastq > pb2.100x.fastq\n",
    "\n",
    "## Assemble with spades (this could have just been k=21):\n",
    "$ ~/build/packages/SPAdes-3.7.1-Linux/bin/spades.py -s pb2.100x.fastq -o spades\n",
    "\n",
    "Align the K21 contigs to the references:\n",
    "$ nucmer -maxmatch all-flu.complete.fasta spades/K21/final_contigs.fasta\n",
    "\n",
    "Check the alignments:\n",
    "$ show-coords out.delta\n",
    "/home/mschatz/flu/all-flu.complete.fasta /home/mschatz/flu/pb2/spades/K21/final_contigs.fasta\n",
    "NUCMER\n",
    "\n",
    "    [S1]     [E1]  |     [S2]     [E2]  |  [LEN 1]  [LEN 2]  |  [% IDY]  | [TAGS]\n",
    "=====================================================================================\n",
    "       1     2284  |       52     2335  |     2284     2284  |   100.00  | H3N2-PB2     NODE_2_length_2398_cov_89.1927\n",
    "       1     2341  |       28     2368  |     2341     2341  |    84.11  | H1N1-PB2     NODE_2_length_2398_cov_89.1927\n",
    "\n",
    "I then checked the other short contig using the EBI vector screening tools:\n",
    "http://www.ebi.ac.uk/Tools/sss/ncbiblast/vectors.html"
   ]
  },
  {
   "cell_type": "markdown",
   "metadata": {},
   "source": [
    "### FluB Spades Downsample Assembly"
   ]
  },
  {
   "cell_type": "code",
   "execution_count": null,
   "metadata": {
    "collapsed": true
   },
   "outputs": [],
   "source": [
    "cd /home/alan/projects/MinION-notebook/miseq-assembly/flub/spades\n",
    "\n",
    "# we should be able to use the quads references since we're just trying to partition the reads based on segment\n",
    "ln -s ~/projects/MinION-notebook/clinical-analysis/miseq/flub/flub.quads-references.sort.bam\n",
    "ln -s ~/projects/MinION-notebook/clinical-analysis/miseq/flub/flub.quads-references.sort.bam.bai\n",
    "\n",
    "# separate reads by segment\n",
    "for i in HA NA NP PA NS MP PB1 PB2; do samtools view -h flub.quads-references.sort.bam $i \\\n",
    "| samtools view -Sb - -o $i.bam; done\n",
    "\n",
    "# calculate avg cov\n",
    "for i in HA NA NP PA NS MP PB1 PB2; do echo -ne $i'\\t' && samtools depth $i.bam | awk '{s+=$3;c++} END{print s/c}'; done"
   ]
  },
  {
   "cell_type": "markdown",
   "metadata": {},
   "source": [
    "Segment | Avg Cov | % to keep\n",
    "------- | ------- | ---------\n",
    "HA | 4591.07 | 45.9107\n",
    "NA | 7268.27 | 72.6827\n",
    "NP | 1364.96 | 13.6496\n",
    "PA | 7768.4 | 77.684\n",
    "NS | 7711.55 | 77.1155\n",
    "MP | 7419.86 | 74.1986\n",
    "PB1 | 6508.11 | 65.0811\n",
    "PB2 | 6856.19 | 68.5619"
   ]
  },
  {
   "cell_type": "code",
   "execution_count": 18,
   "metadata": {
    "ExecuteTime": {
     "end_time": "2016-04-14T14:28:35.096210",
     "start_time": "2016-04-14T14:28:29.549029"
    },
    "collapsed": false
   },
   "outputs": [
    {
     "name": "stdout",
     "output_type": "stream",
     "text": [
      "HA\t114.77\r\n",
      "NA\t94.5931\r\n",
      "NP\t110.015\r\n",
      "PA\t114.514\r\n",
      "NS\t104.313\r\n",
      "MP\t98.0843\r\n",
      "PB1\t98.4909\r\n",
      "PB2\t106.83\r\n"
     ]
    }
   ],
   "source": [
    "cd /home/alan/projects/MinION-notebook/miseq-assembly/flub/spades\n",
    "\n",
    "samtools view -hs .007 PB2.bam | samtools view -sB - -o PB2.100x.bam\n",
    "samtools view -hs .007 PB1.bam | samtools view -sB - -o PB1.100x.bam\n",
    "samtools view -hs .004 HA.bam | samtools view -sB - -o HA.100x.bam\n",
    "samtools view -hs .003 NA.bam | samtools view -sB - -o NA.100x.bam\n",
    "samtools view -hs .08 NP.bam | samtools view -sB - -o NP.100x.bam\n",
    "samtools view -hs .003 MP.bam | samtools view -sB - -o MP.100x.bam\n",
    "samtools view -hs .005 PA.bam | samtools view -sB - -o PA.100x.bam\n",
    "samtools view -hs .005 NS.bam | samtools view -sB - -o NS.100x.bam\n",
    "\n",
    "for i in HA NA NP PA NS MP PB1 PB2; do echo -ne $i'\\t' && samtools depth $i.100x.bam | awk '{s+=$3;c++} END{print s/c}'; done\n",
    "\n",
    "for i in HA NA NP NS MP PB1 PB2 PA; do bamtools convert -in $i.100x.bam -format fastq > $i.100x.fastq; done "
   ]
  },
  {
   "cell_type": "code",
   "execution_count": null,
   "metadata": {
    "ExecuteTime": {
     "start_time": "2016-04-14T18:18:34.762Z"
    },
    "collapsed": false
   },
   "outputs": [],
   "source": [
    "cd /home/alan/projects/MinION-notebook/miseq-assembly/flub/spades \n",
    "\n",
    "for i in HA NA NP NS MP PB1 PB2 PA; do \\\n",
    "/opt/bioinformatics-software/SPAdes-3.7.1-Linux/bin/spades.py -s $i.100x.fastq -o $i-spades; done"
   ]
  },
  {
   "cell_type": "code",
   "execution_count": null,
   "metadata": {
    "collapsed": true
   },
   "outputs": [],
   "source": [
    "cd /home/alan/projects/MinION-notebook/miseq-assembly/flub/spades \n",
    "\n",
    "grep -c '>' */scaffolds.fasta\n",
    "\n",
    "for i in HA NA NP PA NS MP PB1 PB2; do nucmer -maxmatch -p $i quads-study-reference-sequence.fasta \\\n",
    "$i-spades/scaffolds.fasta ; done"
   ]
  },
  {
   "cell_type": "code",
   "execution_count": 23,
   "metadata": {
    "ExecuteTime": {
     "end_time": "2016-04-14T15:16:36.824064",
     "start_time": "2016-04-14T15:16:36.385405"
    },
    "collapsed": false
   },
   "outputs": [
    {
     "name": "stdout",
     "output_type": "stream",
     "text": [
      "\r\n",
      "    [S1]     [E1]  |     [S2]     [E2]  |  [LEN 1]  [LEN 2]  |  [% IDY]  |  [LEN R]  [LEN Q]  |  [COV R]  [COV Q]  | [TAGS]\r\n",
      "===============================================================================================================================\r\n",
      "       1     1758  |     1970      216  |     1758     1755  |    89.08  |     1758     2193  |   100.00    80.03  | FluB-HA\tNODE_1_length_2193_cov_74.5484_ID_3\r\n",
      "\r\n",
      "    [S1]     [E1]  |     [S2]     [E2]  |  [LEN 1]  [LEN 2]  |  [% IDY]  |  [LEN R]  [LEN Q]  |  [COV R]  [COV Q]  | [TAGS]\r\n",
      "===============================================================================================================================\r\n",
      "       1     1401  |     1748      348  |     1401     1401  |    94.22  |     1401     1931  |   100.00    72.55  | FluB-NA\tNODE_1_length_1931_cov_52.219_ID_3\r\n",
      "\r\n",
      "    [S1]     [E1]  |     [S2]     [E2]  |  [LEN 1]  [LEN 2]  |  [% IDY]  |  [LEN R]  [LEN Q]  |  [COV R]  [COV Q]  | [TAGS]\r\n",
      "===============================================================================================================================\r\n",
      "       1     1683  |      213     1895  |     1683     1683  |    98.99  |     1683     2271  |   100.00    74.11  | FluB-NP\tNODE_1_length_2271_cov_53.1926_ID_7\r\n",
      "     203      296  |      207      300  |       94       94  |   100.00  |     1683      501  |     5.59    18.76  | FluB-NP\tNODE_2_length_501_cov_0.925134_ID_9\r\n",
      "\r\n",
      "    [S1]     [E1]  |     [S2]     [E2]  |  [LEN 1]  [LEN 2]  |  [% IDY]  |  [LEN R]  [LEN Q]  |  [COV R]  [COV Q]  | [TAGS]\r\n",
      "===============================================================================================================================\r\n",
      "       1     2181  |     2392      212  |     2181     2181  |    96.52  |     2181     2696  |   100.00    80.90  | FluB-PA\tNODE_1_length_2696_cov_56.6069_ID_3\r\n",
      "\r\n",
      "    [S1]     [E1]  |     [S2]     [E2]  |  [LEN 1]  [LEN 2]  |  [% IDY]  |  [LEN R]  [LEN Q]  |  [COV R]  [COV Q]  | [TAGS]\r\n",
      "===============================================================================================================================\r\n",
      "      11     1027  |      280     1296  |     1017     1017  |    97.64  |     1027     1559  |    99.03    65.23  | FluB-NS\tNODE_1_length_1559_cov_46.3457_ID_3\r\n",
      "\r\n",
      "    [S1]     [E1]  |     [S2]     [E2]  |  [LEN 1]  [LEN 2]  |  [% IDY]  |  [LEN R]  [LEN Q]  |  [COV R]  [COV Q]  | [TAGS]\r\n",
      "===============================================================================================================================\r\n",
      "       1     1076  |      187     1262  |     1076     1076  |    95.26  |     1076     1510  |   100.00    71.26  | FluB-MP\tNODE_1_length_1510_cov_51.0195_ID_3\r\n",
      "\r\n",
      "    [S1]     [E1]  |     [S2]     [E2]  |  [LEN 1]  [LEN 2]  |  [% IDY]  |  [LEN R]  [LEN Q]  |  [COV R]  [COV Q]  | [TAGS]\r\n",
      "===============================================================================================================================\r\n",
      "       1     2259  |     2463      205  |     2259     2259  |    92.87  |     2259     2665  |   100.00    84.77  | FluB-PB1\tNODE_1_length_2665_cov_52.4622_ID_35\r\n",
      "    2134     2259  |      127        2  |      126      126  |    95.24  |     2259      253  |     5.58    49.80  | FluB-PB1\tNODE_2_length_253_cov_217.238_ID_49\r\n",
      "\r\n",
      "    [S1]     [E1]  |     [S2]     [E2]  |  [LEN 1]  [LEN 2]  |  [% IDY]  |  [LEN R]  [LEN Q]  |  [COV R]  [COV Q]  | [TAGS]\r\n",
      "===============================================================================================================================\r\n",
      "       1     2313  |     2521      209  |     2313     2313  |    93.13  |     2313     2690  |   100.00    85.99  | FluB-PB2\tNODE_1_length_2690_cov_62.9645_ID_37\r\n",
      "     197      343  |      300      160  |      147      141  |    93.20  |     2313      436  |     6.36    32.34  | FluB-PB2\tNODE_2_length_436_cov_1.11974_ID_43\r\n",
      "    2032     2157  |      127        2  |      126      126  |    93.65  |     2313      254  |     5.45    49.61  | FluB-PB2\tNODE_3_length_254_cov_41.1969_ID_53\r\n"
     ]
    }
   ],
   "source": [
    "cd /home/alan/projects/MinION-notebook/miseq-assembly/flub/spades \n",
    "\n",
    "for i in HA NA NP PA NS MP PB1 PB2; do show-coords -cl $i.delta; done | grep -vP '/|NUCMER'"
   ]
  },
  {
   "cell_type": "markdown",
   "metadata": {},
   "source": [
    "These are pretty damn close to the quads study references! But these are the CDS.. wish I would've thought about that before. But at least this is proof of concept that it can work well for even structural differences. I'll wrap this up in a shell script and then use the blast references to see what comes of the full segments."
   ]
  }
 ],
 "metadata": {
  "kernelspec": {
   "display_name": "Bash",
   "language": "bash",
   "name": "bash"
  },
  "language_info": {
   "codemirror_mode": "shell",
   "file_extension": ".sh",
   "mimetype": "text/x-sh",
   "name": "bash"
  },
  "toc": {
   "toc_cell": true,
   "toc_number_sections": true,
   "toc_threshold": "4",
   "toc_window_display": false
  }
 },
 "nbformat": 4,
 "nbformat_minor": 0
}
