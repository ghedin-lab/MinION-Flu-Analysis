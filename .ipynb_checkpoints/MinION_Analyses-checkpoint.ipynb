{
 "cells": [
  {
   "cell_type": "markdown",
   "metadata": {
    "level": 1,
    "toc": "true"
   },
   "source": [
    "# Table of Contents\n",
    " <p><div class=\"lev1\"><a href=\"#To-Do-List\"><span class=\"toc-item-num\">1 - </span>To Do List</a></div><div class=\"lev1\"><a href=\"#Raw-Data\"><span class=\"toc-item-num\">2 - </span>Raw Data</a></div><div class=\"lev2\"><a href=\"#MiSeq-Data\"><span class=\"toc-item-num\">2.1 - </span>MiSeq Data</a></div><div class=\"lev2\"><a href=\"#Ion-Torrent-Data\"><span class=\"toc-item-num\">2.2 - </span>Ion Torrent Data</a></div><div class=\"lev2\"><a href=\"#PacBio-Data\"><span class=\"toc-item-num\">2.3 - </span>PacBio Data</a></div><div class=\"lev2\"><a href=\"#MinION-Data\"><span class=\"toc-item-num\">2.4 - </span>MinION Data</a></div><div class=\"lev1\"><a href=\"#Quads-Analysis\"><span class=\"toc-item-num\">3 - </span>Quads Analysis</a></div><div class=\"lev2\"><a href=\"#Index-References\"><span class=\"toc-item-num\">3.1 - </span>Index References</a></div><div class=\"lev2\"><a href=\"#MiSeq-Alignment\"><span class=\"toc-item-num\">3.2 - </span>MiSeq Alignment</a></div><div class=\"lev3\"><a href=\"#FluB\"><span class=\"toc-item-num\">3.2.1 - </span>FluB</a></div><div class=\"lev4\"><a href=\"#Alignment-with-BWA\"><span class=\"toc-item-num\">3.2.1.1 - </span>Alignment with BWA</a></div><div class=\"lev3\"><a href=\"#Flu-Mix\"><span class=\"toc-item-num\">3.2.2 - </span>Flu Mix</a></div><div class=\"lev3\"><a href=\"#H1N1\"><span class=\"toc-item-num\">3.2.3 - </span>H1N1</a></div><div class=\"lev3\"><a href=\"#H3N2\"><span class=\"toc-item-num\">3.2.4 - </span>H3N2</a></div><div class=\"lev3\"><a href=\"#Plasmid\"><span class=\"toc-item-num\">3.2.5 - </span>Plasmid</a></div><div class=\"lev3\"><a href=\"#Generate-Consensus\"><span class=\"toc-item-num\">3.2.6 - </span>Generate Consensus</a></div><div class=\"lev2\"><a href=\"#Ion-Torrent-Alignment\"><span class=\"toc-item-num\">3.3 - </span>Ion Torrent Alignment</a></div><div class=\"lev2\"><a href=\"#PacBio-Alignment\"><span class=\"toc-item-num\">3.4 - </span>PacBio Alignment</a></div><div class=\"lev2\"><a href=\"#MinION-Alignment\"><span class=\"toc-item-num\">3.5 - </span>MinION Alignment</a></div><div class=\"lev1\"><a href=\"#Clinical-Samples\"><span class=\"toc-item-num\">4 - </span>Clinical Samples</a></div><div class=\"lev2\"><a href=\"#Mixed-Infection/Cross-Contamination\"><span class=\"toc-item-num\">4.1 - </span>Mixed Infection/Cross Contamination</a></div><div class=\"lev2\"><a href=\"#MiSeq-and-MinION-Consensus-Comparisons\"><span class=\"toc-item-num\">4.2 - </span>MiSeq and MinION Consensus Comparisons</a></div><div class=\"lev2\"><a href=\"#Blast-MiSeq\"><span class=\"toc-item-num\">4.3 - </span>Blast MiSeq</a></div><div class=\"lev2\"><a href=\"#Blast-MiSeq\"><span class=\"toc-item-num\">4.4 - </span>Blast MiSeq</a></div><div class=\"lev2\"><a href=\"#Canu-Assembly\"><span class=\"toc-item-num\">4.5 - </span>Canu Assembly</a></div><div class=\"lev4\"><a href=\"#Canu-Falcon-Sense-Corrected-Reads\"><span class=\"toc-item-num\">4.5.0.1 - </span>Canu Falcon Sense Corrected Reads</a></div><div class=\"lev2\"><a href=\"#NGM-LR\"><span class=\"toc-item-num\">4.6 - </span>NGM-LR</a></div><div class=\"lev1\"><a href=\"#Error-Correction\"><span class=\"toc-item-num\">5 - </span>Error Correction</a></div><div class=\"lev2\"><a href=\"#Falcon-sense\"><span class=\"toc-item-num\">5.1 - </span>Falcon-sense</a></div><div class=\"lev2\"><a href=\"#Nanopolish\"><span class=\"toc-item-num\">5.2 - </span>Nanopolish</a></div><div class=\"lev3\"><a href=\"#4-20\"><span class=\"toc-item-num\">5.2.1 - </span>4-20</a></div><div class=\"lev3\"><a href=\"#6-4\"><span class=\"toc-item-num\">5.2.2 - </span>6-4</a></div><div class=\"lev3\"><a href=\"#8-13\"><span class=\"toc-item-num\">5.2.3 - </span>8-13</a></div><div class=\"lev3\"><a href=\"#11-9\"><span class=\"toc-item-num\">5.2.4 - </span>11-9</a></div><div class=\"lev4\"><a href=\"#Blast-Consensus-Analysis\"><span class=\"toc-item-num\">5.2.4.1 - </span>Blast Consensus Analysis</a></div><div class=\"lev3\"><a href=\"#Ebola-Virus-Workflow\"><span class=\"toc-item-num\">5.2.5 - </span>Ebola Virus Workflow</a></div><div class=\"lev4\"><a href=\"#MarginAlign\"><span class=\"toc-item-num\">5.2.5.1 - </span>MarginAlign</a></div><div class=\"lev1\"><a href=\"#MiSeq-Assembly\"><span class=\"toc-item-num\">6 - </span>MiSeq Assembly</a></div><div class=\"lev2\"><a href=\"#Velvet\"><span class=\"toc-item-num\">6.1 - </span>Velvet</a></div><div class=\"lev3\"><a href=\"#SPADES-Assembler\"><span class=\"toc-item-num\">6.1.1 - </span>SPADES Assembler</a></div>"
   ]
  },
  {
   "cell_type": "markdown",
   "metadata": {},
   "source": [
    "# To Do List"
   ]
  },
  {
   "cell_type": "markdown",
   "metadata": {},
   "source": [
    "import markdown\n",
    "html = markdown.markdown(source, extensions=['markdown_checklist.extension'])\n",
    "\n",
    "* [x] Map MiSeq clinical to all the different subtypes to assess the possibilty of cross contamination\n",
    "* [x] Use the MiSeq consensus to assemble the MinION and the MinION consensus to assemble the MiSeq and see if they give different results.\n",
    "* [ ] In the Blast consensus analysis, segregate the reads into their respective subtypes and build the consensus to see if there is any cross contamination in the consensus from other subtypes in the same pool.\n",
    "    1. Map the MinION reads to the MiSeq consensus sequences to segregate by subtype and see if that is vastly different than the blast results. Generate consensus with them.\n",
    "* [ ] Mask the reference sequence with N's at discrepant positions to see if that makes the alignment more accurate.\n",
    "    1. randomly mutate the genome to assess false positive rate (like in the ebola paper)"
   ]
  },
  {
   "cell_type": "markdown",
   "metadata": {
    "heading_collapsed": true,
    "level": 1
   },
   "source": [
    "# Raw Data"
   ]
  },
  {
   "cell_type": "markdown",
   "metadata": {
    "collapsed": true,
    "level": 7
   },
   "source": [
    "The directory \"/home/alan/projects/MinION-notebook/raw-data\" holds the raw data used in the analyses."
   ]
  },
  {
   "cell_type": "markdown",
   "metadata": {
    "heading_collapsed": true,
    "level": 2
   },
   "source": [
    "## MiSeq Data"
   ]
  },
  {
   "cell_type": "code",
   "execution_count": 9,
   "metadata": {
    "ExecuteTime": {
     "end_time": "2016-02-17T15:11:38.600616",
     "start_time": "2016-02-17T15:11:38.393134"
    },
    "collapsed": false,
    "level": 7
   },
   "outputs": [
    {
     "name": "stdout",
     "output_type": "stream",
     "text": [
      "flub-standard.r1.fastq.gz     h1n1-standard.r2.fastq.gz\r\n",
      "flub-standard.r2.fastq.gz     h3n2-standard.r1.fastq.gz\r\n",
      "flu-mix-standard.fastq\t      h3n2-standard.r2.fastq.gz\r\n",
      "flu-mix-standard.r1.fastq.gz  plasmid.r1.fastq.gz\r\n",
      "flu-mix-standard.r2.fastq.gz  plasmid.r2.fastq.gz\r\n",
      "h1n1-standard.r1.fastq.gz\r\n"
     ]
    }
   ],
   "source": [
    "ls MiSeq/lab-strains"
   ]
  },
  {
   "cell_type": "markdown",
   "metadata": {
    "level": 7
   },
   "source": [
    "All are self explanatory with the flu-mix being a mix of all three subtypes and the plasmid being HA?"
   ]
  },
  {
   "cell_type": "code",
   "execution_count": 10,
   "metadata": {
    "ExecuteTime": {
     "end_time": "2016-02-17T15:13:00.802241",
     "start_time": "2016-02-17T15:13:00.593833"
    },
    "collapsed": false,
    "level": 7
   },
   "outputs": [
    {
     "name": "stdout",
     "output_type": "stream",
     "text": [
      "a1.r1.fastq.gz\tb1.r1.fastq.gz\tc2.r1.fastq.gz\td3.r1.fastq.gz\tf1.r1.fastq.gz\r\n",
      "a1.r2.fastq.gz\tb1.r2.fastq.gz\tc2.r2.fastq.gz\td3.r2.fastq.gz\tf1.r2.fastq.gz\r\n",
      "a2.r1.fastq.gz\tb2.r1.fastq.gz\tc3.r1.fastq.gz\te1.r1.fastq.gz\tf2.r1.fastq.gz\r\n",
      "a2.r2.fastq.gz\tb2.r2.fastq.gz\tc3.r2.fastq.gz\te1.r2.fastq.gz\tf2.r2.fastq.gz\r\n",
      "a3.r1.fastq.gz\tb3.r1.fastq.gz\td1.r1.fastq.gz\te2.r1.fastq.gz\tf3.r1.fastq.gz\r\n",
      "a3.r2.fastq.gz\tb3.r2.fastq.gz\td1.r2.fastq.gz\te2.r2.fastq.gz\tf3.r2.fastq.gz\r\n",
      "a4.r1.fastq.gz\tc1.r1.fastq.gz\td2.r1.fastq.gz\te3.r1.fastq.gz\r\n",
      "a4.r2.fastq.gz\tc1.r2.fastq.gz\td2.r2.fastq.gz\te3.r2.fastq.gz\r\n"
     ]
    }
   ],
   "source": [
    "ls MiSeq/clinical-strains"
   ]
  },
  {
   "cell_type": "markdown",
   "metadata": {
    "level": 7
   },
   "source": [
    "a1 = H1N1\n",
    "c1 = H3N2-70\n",
    "f1 = H3N2-90\n",
    "f3 = FluB\n",
    "\n",
    "The rest were not used in any MinION analysis"
   ]
  },
  {
   "cell_type": "markdown",
   "metadata": {
    "level": 2
   },
   "source": [
    "## Ion Torrent Data"
   ]
  },
  {
   "cell_type": "markdown",
   "metadata": {},
   "source": [
    "All three subtypes were sequenced together."
   ]
  },
  {
   "cell_type": "code",
   "execution_count": 12,
   "metadata": {
    "ExecuteTime": {
     "end_time": "2016-02-17T15:21:06.142816",
     "start_time": "2016-02-17T15:21:05.935278"
    },
    "collapsed": false,
    "level": 7
   },
   "outputs": [
    {
     "name": "stdout",
     "output_type": "stream",
     "text": [
      "R_2015_05_09_01_13_59_user_SN2-44-Ghedin_400_bp.fastq\r\n"
     ]
    }
   ],
   "source": [
    "ls /home/alan/projects/MinION-notebook/raw-data/IonTorrent"
   ]
  },
  {
   "cell_type": "markdown",
   "metadata": {
    "level": 2
   },
   "source": [
    "## PacBio Data"
   ]
  },
  {
   "cell_type": "markdown",
   "metadata": {},
   "source": [
    "All three subtypes were sequenced together."
   ]
  },
  {
   "cell_type": "code",
   "execution_count": 18,
   "metadata": {
    "ExecuteTime": {
     "end_time": "2016-02-18T11:52:30.744928",
     "start_time": "2016-02-18T11:52:30.536682"
    },
    "collapsed": false,
    "level": 7,
    "run_control": {
     "marked": false
    }
   },
   "outputs": [
    {
     "name": "stdout",
     "output_type": "stream",
     "text": [
      "ls: cannot access PacBio: No such file or directory\r\n"
     ]
    }
   ],
   "source": [
    "ls /home/alan/projects/MinION-notebook/raw-data/PacBio"
   ]
  },
  {
   "cell_type": "markdown",
   "metadata": {
    "level": 2
   },
   "source": [
    "## MinION Data"
   ]
  },
  {
   "cell_type": "markdown",
   "metadata": {},
   "source": [
    "There were four separate runs:\n",
    "1) 4-20\n",
    "    * lab strain H1N1\n",
    "    * lab strain FluB\n",
    "    * lab strain H3N2\n",
    "2) 6-4\n",
    "    * clinical pH1N1 (a1)\n",
    "    * clinical FluB 14 (f3)\n",
    "    * clinical H3N2-70 (c1)\n",
    "3) 8-13 - to generate more data to obtain better consensus\n",
    "    * clinical pH1N1 (a1)\n",
    "        * spike-in purified, non-size selected sample to compensate for loss of M/NS\n",
    "    * clinical FluB 14 NP Only (f3)\n",
    "        * This was selected for because the rest of segments were well covered\n",
    "    * clinical H3N2-90 (f1)\n",
    "    * lab strain FluB HA plasmid\n",
    "4) 11-9\n",
    "    * clinical FluB 14 (f3)\n",
    "    * lab strain H1N1\n",
    "    * lab strain H3N2\n",
    "    * lab strain FluB PB1 plasmid\n",
    "        * Used to resolve a putative sequence-specific error seen in SK005\n",
    "\n",
    "All but the 11-9 run were sequenced using SK005 and using the older basecalling algorithm. These data were rebasecalled using the updated algorithm, hence anyhting denoting \"rebasecalled\" in the name. The rebasecalled data are the only data considered in the analysis."
   ]
  },
  {
   "cell_type": "code",
   "execution_count": 17,
   "metadata": {
    "ExecuteTime": {
     "end_time": "2016-02-17T15:52:28.668696",
     "start_time": "2016-02-17T15:49:42.185638"
    },
    "collapsed": false,
    "level": 7
   },
   "outputs": [
    {
     "name": "stdout",
     "output_type": "stream",
     "text": []
    }
   ],
   "source": [
    "cd /home/alan/projects/MinION-notebook/raw-data/MinION/4-20\n",
    "poretools fastq --type 2D /data1/share/raw-sequencing-data/MinION/Flu_4_20_rebasecalled/pass > flu-4-20.2d.fastq\n",
    "poretools fastq --type 2D /data1/share/raw-sequencing-data/MinION/Flu_4_21_rebasecalled/pass > flu-4-21.2d.fastq\n",
    "cat flu-4-20.2d.fastq flu-4-21.2d.fastq > flu-4-20.fastq\n",
    "rm flu-4-20.2d.fastq flu-4-21.2d.fastq"
   ]
  },
  {
   "cell_type": "code",
   "execution_count": 18,
   "metadata": {
    "ExecuteTime": {
     "end_time": "2016-02-17T15:54:40.766528",
     "start_time": "2016-02-17T15:52:28.671140"
    },
    "collapsed": false,
    "level": 7
   },
   "outputs": [
    {
     "name": "stdout",
     "output_type": "stream",
     "text": []
    }
   ],
   "source": [
    "cd /home/alan/projects/MinION-notebook/raw-data/MinION/6-4\n",
    "poretools fastq --type 2D /data1/share/raw-sequencing-data/MinION/Flu_6_4_clinical/rebasecalled/pass > flu-6-4.2d.fastq"
   ]
  },
  {
   "cell_type": "code",
   "execution_count": 19,
   "metadata": {
    "ExecuteTime": {
     "end_time": "2016-02-17T15:55:09.374927",
     "start_time": "2016-02-17T15:54:40.768896"
    },
    "collapsed": false,
    "level": 7
   },
   "outputs": [
    {
     "name": "stdout",
     "output_type": "stream",
     "text": []
    }
   ],
   "source": [
    "cd /home/alan/projects/MinION-notebook/raw-data/MinION/8-13\n",
    "poretools fastq --type 2D /data1/share/raw-sequencing-data/MinION/Flu_8_13_clinical/rebasecalled/pass > flu-8-13.2d.fastq"
   ]
  },
  {
   "cell_type": "code",
   "execution_count": 20,
   "metadata": {
    "ExecuteTime": {
     "end_time": "2016-02-17T15:59:52.260832",
     "start_time": "2016-02-17T15:55:09.377391"
    },
    "collapsed": false,
    "level": 7
   },
   "outputs": [
    {
     "name": "stdout",
     "output_type": "stream",
     "text": []
    }
   ],
   "source": [
    "cd /home/alan/projects/MinION-notebook/raw-data/MinION/11-9\n",
    "poretools fastq --type 2D /data1/share/raw-sequencing-data/MinION/Flu_11_09_clinical/pass > flu-11-9.2d.fastq"
   ]
  },
  {
   "cell_type": "markdown",
   "metadata": {},
   "source": [
    "Convert all of the fastq files to fasta for future use."
   ]
  },
  {
   "cell_type": "code",
   "execution_count": null,
   "metadata": {
    "collapsed": true
   },
   "outputs": [],
   "source": [
    "cd /home/alan/projects/MinION-notebook/raw-data/MinION/ \n",
    "\n",
    "for i in $(ls */*fastq | perl -pe 's/q$//g'); do 1line-fasta.pl ${i}q > ${i}a; done"
   ]
  },
  {
   "cell_type": "markdown",
   "metadata": {
    "level": 1
   },
   "source": [
    "# Quads Analysis"
   ]
  },
  {
   "cell_type": "markdown",
   "metadata": {},
   "source": [
    "For the lab strains, each subtype was sequenced on the MinION, MiSeq, PacBio, and Ion Torrent. The purpose for this was to compare all four platforms for pros/cons as well as serving as a benchmark for the MinION's perfomance, specifically with Flu.\n",
    "\n",
    "The reference sequences are known so the analysis is straightforward:\n",
    "1) Align to the reference sequence\n",
    "2) Generate consensus sequence\n",
    "3) Compare consensus to the reference"
   ]
  },
  {
   "cell_type": "markdown",
   "metadata": {
    "heading_collapsed": true,
    "level": 2
   },
   "source": [
    "## Index References\n",
    "bwa mem, blasr, and bowtie2 are the aligners that were used. The reference sequences were indexed accordingly. These sequences are CDS only and the largest of the CDS are the ones chosen. In retrospect this may not have been ideal considering we have two single-molecule sequencing platforms but there were no noticeable problems with this analysis."
   ]
  },
  {
   "cell_type": "code",
   "execution_count": null,
   "metadata": {
    "ExecuteTime": {
     "end_time": "2016-02-17T16:39:37.771754",
     "start_time": "2016-02-17T16:39:36.519193"
    },
    "collapsed": false,
    "level": 7
   },
   "outputs": [],
   "source": [
    "cd /home/alan/projects/MinION-notebook/reference-sequences\n",
    "bowtie2-build quads-study-reference-sequence.fasta quads-study-reference-sequence.fasta\n",
    "\n",
    "bwa index quads-study-reference-sequence.fasta"
   ]
  },
  {
   "cell_type": "markdown",
   "metadata": {
    "heading_collapsed": false,
    "level": 2
   },
   "source": [
    "## MiSeq Alignment\n",
    "Miseq data were aligned to the sequenes using bowtie2."
   ]
  },
  {
   "cell_type": "markdown",
   "metadata": {},
   "source": [
    "### FluB"
   ]
  },
  {
   "cell_type": "code",
   "execution_count": 13,
   "metadata": {
    "ExecuteTime": {
     "end_time": "2016-02-18T11:18:43.370454",
     "start_time": "2016-02-18T11:12:43.803750"
    },
    "collapsed": false,
    "level": 7
   },
   "outputs": [
    {
     "name": "stdout",
     "output_type": "stream",
     "text": [
      "854480 reads; of these:\r\n",
      "  854480 (100.00%) were paired; of these:\r\n",
      "    418476 (48.97%) aligned concordantly 0 times\r\n",
      "    429292 (50.24%) aligned concordantly exactly 1 time\r\n",
      "    6712 (0.79%) aligned concordantly >1 times\r\n",
      "    ----\r\n",
      "    418476 pairs aligned concordantly 0 times; of these:\r\n",
      "      307925 (73.58%) aligned discordantly 1 time\r\n",
      "    ----\r\n",
      "    110551 pairs aligned 0 times concordantly or discordantly; of these:\r\n",
      "      221102 mates make up the pairs; of these:\r\n",
      "        212999 (96.34%) aligned 0 times\r\n",
      "        5156 (2.33%) aligned exactly 1 time\r\n",
      "        2947 (1.33%) aligned >1 times\r\n",
      "87.54% overall alignment rate\r\n",
      "[bam_sort_core] merging from 3 files...\r\n"
     ]
    }
   ],
   "source": [
    "cd /home/alan/projects/MinION-notebook/quads-analysis/miseq\n",
    "\n",
    "i=\"flub-standard\"\n",
    "\n",
    "bowtie2 \\\n",
    "-p 40 \\\n",
    "--very-sensitive-local \\\n",
    "-x /home/alan/projects/MinION-notebook/reference-sequences/quads-study-reference-sequence.fasta \\\n",
    "-1 $i.r1.fastq.gz \\\n",
    "-2 $i.r2.fastq.gz \\\n",
    "-S $i.sam\n",
    "\n",
    "samtools view -b -o $i.bam $i.sam \n",
    "samtools sort -o $i.sort.bam $i.bam\n",
    "samtools index $i.sort.bam\n",
    "\n",
    "rm $i.bam $i.sam "
   ]
  },
  {
   "cell_type": "markdown",
   "metadata": {},
   "source": [
    "#### Alignment with BWA"
   ]
  },
  {
   "cell_type": "markdown",
   "metadata": {},
   "source": [
    "After speaking with Mike, he recommended that I use bwa mem to align these strains. He noted that it's more specific so there should be less contamination. Based on the alignment of FluB to all viruses in the quads study, there seems to be some nonspecific mapping which suggested that there may be carry-over due to low quality barcodes. This could also be due to adaptors but we'll see."
   ]
  },
  {
   "cell_type": "code",
   "execution_count": null,
   "metadata": {
    "collapsed": true
   },
   "outputs": [],
   "source": [
    "cd /home/alan/projects/MinION-notebook/quads-analysis/miseq/flub-bwa\n",
    "\n",
    "bwa mem \\\n",
    "-x intractg \\\n",
    "-t 30 \\\n",
    "~/projects/MinION-notebook/reference-sequences/quads-study-reference-sequence.fasta \\\n",
    "flub-standard.r1.fastq.gz \\\n",
    "flub-standard.r2.fastq.gz > flub-standard.bwa.intractg.sam\n",
    "\n",
    "bwa mem \\\n",
    "-t 30 \\\n",
    "~/projects/MinION-notebook/reference-sequences/quads-study-reference-sequence.fasta \\\n",
    "flub-standard.r1.fastq.gz \\\n",
    "flub-standard.r2.fastq.gz > flub-standard.bwa.sam"
   ]
  },
  {
   "cell_type": "markdown",
   "metadata": {},
   "source": [
    "![title](docs/bwa-vs-bowtie2.png)\n",
    "\n",
    "It seems like bowtie2 is definitely overfitting the data. Assuming there isn't contamination in this sample from other barcodes, there shouldn't be anything other that FluB, and we're getting some. Also based on the alignments, bwa seems to be more stringent which is good for this particular study. However I don't know how this would work with quasispecies as it could remove potentially interesting variants. I'll need to look into this closer, maybe with one of Tim's datasets.\n",
    "\n",
    "Anyway, going to test this on the plasmid since that should have even less variance than the FluB strain. "
   ]
  },
  {
   "cell_type": "code",
   "execution_count": null,
   "metadata": {
    "collapsed": true
   },
   "outputs": [],
   "source": []
  },
  {
   "cell_type": "markdown",
   "metadata": {},
   "source": [
    "### Flu Mix"
   ]
  },
  {
   "cell_type": "code",
   "execution_count": 14,
   "metadata": {
    "ExecuteTime": {
     "end_time": "2016-02-18T11:52:30.532832",
     "start_time": "2016-02-18T11:49:22.400223"
    },
    "collapsed": false,
    "level": 7,
    "run_control": {
     "marked": false
    }
   },
   "outputs": [
    {
     "name": "stdout",
     "output_type": "stream",
     "text": [
      "1946342 reads; of these:\r\n",
      "  1946342 (100.00%) were paired; of these:\r\n",
      "    610140 (31.35%) aligned concordantly 0 times\r\n",
      "    975044 (50.10%) aligned concordantly exactly 1 time\r\n",
      "    361158 (18.56%) aligned concordantly >1 times\r\n",
      "    ----\r\n",
      "    610140 pairs aligned concordantly 0 times; of these:\r\n",
      "      433170 (71.00%) aligned discordantly 1 time\r\n",
      "    ----\r\n",
      "    176970 pairs aligned 0 times concordantly or discordantly; of these:\r\n",
      "      353940 mates make up the pairs; of these:\r\n",
      "        100716 (28.46%) aligned 0 times\r\n",
      "        24490 (6.92%) aligned exactly 1 time\r\n",
      "        228734 (64.63%) aligned >1 times\r\n",
      "97.41% overall alignment rate\r\n",
      "[bam_sort_core] merging from 6 files...\r\n"
     ]
    }
   ],
   "source": [
    "cd /home/alan/projects/MinION-notebook/quads-analysis/miseq\n",
    "\n",
    "i=\"flu-mix-standard\"\n",
    "\n",
    "bowtie2 \\\n",
    "-p 40 \\\n",
    "--very-sensitive-local \\\n",
    "-x /home/alan/projects/MinION-notebook/reference-sequences/quads-study-reference-sequence.fasta \\\n",
    "-1 $i.r1.fastq.gz \\\n",
    "-2 $i.r2.fastq.gz \\\n",
    "-S $i.sam\n",
    "\n",
    "samtools view -b -o $i.bam $i.sam \n",
    "samtools sort -o $i.sort.bam $i.bam\n",
    "samtools index $i.sort.bam\n",
    "\n",
    "rm $i.bam $i.sam "
   ]
  },
  {
   "cell_type": "markdown",
   "metadata": {},
   "source": [
    "### H1N1"
   ]
  },
  {
   "cell_type": "code",
   "execution_count": 15,
   "metadata": {
    "ExecuteTime": {
     "end_time": "2016-02-18T11:52:30.532832",
     "start_time": "2016-02-18T11:49:22.400223"
    },
    "collapsed": false,
    "level": 7,
    "run_control": {
     "marked": false
    }
   },
   "outputs": [
    {
     "name": "stdout",
     "output_type": "stream",
     "text": [
      "596992 reads; of these:\r\n",
      "  596992 (100.00%) were paired; of these:\r\n",
      "    177727 (29.77%) aligned concordantly 0 times\r\n",
      "    265099 (44.41%) aligned concordantly exactly 1 time\r\n",
      "    154166 (25.82%) aligned concordantly >1 times\r\n",
      "    ----\r\n",
      "    177727 pairs aligned concordantly 0 times; of these:\r\n",
      "      93028 (52.34%) aligned discordantly 1 time\r\n",
      "    ----\r\n",
      "    84699 pairs aligned 0 times concordantly or discordantly; of these:\r\n",
      "      169398 mates make up the pairs; of these:\r\n",
      "        63441 (37.45%) aligned 0 times\r\n",
      "        10086 (5.95%) aligned exactly 1 time\r\n",
      "        95871 (56.60%) aligned >1 times\r\n",
      "94.69% overall alignment rate\r\n",
      "[bam_sort_core] merging from 2 files...\r\n"
     ]
    }
   ],
   "source": [
    "cd /home/alan/projects/MinION-notebook/quads-analysis/miseq\n",
    "\n",
    "i=\"h1n1-standard\"\n",
    "\n",
    "bowtie2 \\\n",
    "-p 40 \\\n",
    "--very-sensitive-local \\\n",
    "-x /home/alan/projects/MinION-notebook/reference-sequences/quads-study-reference-sequence.fasta \\\n",
    "-1 $i.r1.fastq.gz \\\n",
    "-2 $i.r2.fastq.gz \\\n",
    "-S $i.sam\n",
    "\n",
    "samtools view -b -o $i.bam $i.sam \n",
    "samtools sort -o $i.sort.bam $i.bam\n",
    "samtools index $i.sort.bam\n",
    "\n",
    "rm $i.bam $i.sam "
   ]
  },
  {
   "cell_type": "markdown",
   "metadata": {},
   "source": [
    "### H3N2"
   ]
  },
  {
   "cell_type": "code",
   "execution_count": 16,
   "metadata": {
    "ExecuteTime": {
     "end_time": "2016-02-18T11:52:30.532832",
     "start_time": "2016-02-18T11:49:22.400223"
    },
    "collapsed": false,
    "level": 7,
    "run_control": {
     "marked": false
    }
   },
   "outputs": [
    {
     "name": "stdout",
     "output_type": "stream",
     "text": [
      "808888 reads; of these:\r\n",
      "  808888 (100.00%) were paired; of these:\r\n",
      "    346793 (42.87%) aligned concordantly 0 times\r\n",
      "    260496 (32.20%) aligned concordantly exactly 1 time\r\n",
      "    201599 (24.92%) aligned concordantly >1 times\r\n",
      "    ----\r\n",
      "    346793 pairs aligned concordantly 0 times; of these:\r\n",
      "      158665 (45.75%) aligned discordantly 1 time\r\n",
      "    ----\r\n",
      "    188128 pairs aligned 0 times concordantly or discordantly; of these:\r\n",
      "      376256 mates make up the pairs; of these:\r\n",
      "        187089 (49.72%) aligned 0 times\r\n",
      "        12367 (3.29%) aligned exactly 1 time\r\n",
      "        176800 (46.99%) aligned >1 times\r\n",
      "88.44% overall alignment rate\r\n",
      "[bam_sort_core] merging from 3 files...\r\n"
     ]
    }
   ],
   "source": [
    "cd /home/alan/projects/MinION-notebook/quads-analysis/miseq\n",
    "\n",
    "i=\"h3n2-standard\"\n",
    "\n",
    "bowtie2 \\\n",
    "-p 40 \\\n",
    "--very-sensitive-local \\\n",
    "-x /home/alan/projects/MinION-notebook/reference-sequences/quads-study-reference-sequence.fasta \\\n",
    "-1 $i.r1.fastq.gz \\\n",
    "-2 $i.r2.fastq.gz \\\n",
    "-S $i.sam\n",
    "samtools view -b -o $i.bam $i.sam \n",
    "samtools sort -o $i.sort.bam $i.bam\n",
    "samtools index $i.sort.bam\n",
    "\n",
    "rm $i.bam $i.sam "
   ]
  },
  {
   "cell_type": "markdown",
   "metadata": {},
   "source": [
    "### Plasmid"
   ]
  },
  {
   "cell_type": "code",
   "execution_count": 17,
   "metadata": {
    "ExecuteTime": {
     "end_time": "2016-02-18T11:52:30.532832",
     "start_time": "2016-02-18T11:49:22.400223"
    },
    "collapsed": false,
    "level": 7,
    "run_control": {
     "marked": false
    }
   },
   "outputs": [
    {
     "name": "stdout",
     "output_type": "stream",
     "text": [
      "588453 reads; of these:\r\n",
      "  588453 (100.00%) were paired; of these:\r\n",
      "    474297 (80.60%) aligned concordantly 0 times\r\n",
      "    60183 (10.23%) aligned concordantly exactly 1 time\r\n",
      "    53973 (9.17%) aligned concordantly >1 times\r\n",
      "    ----\r\n",
      "    474297 pairs aligned concordantly 0 times; of these:\r\n",
      "      30094 (6.34%) aligned discordantly 1 time\r\n",
      "    ----\r\n",
      "    444203 pairs aligned 0 times concordantly or discordantly; of these:\r\n",
      "      888406 mates make up the pairs; of these:\r\n",
      "        819432 (92.24%) aligned 0 times\r\n",
      "        15685 (1.77%) aligned exactly 1 time\r\n",
      "        53289 (6.00%) aligned >1 times\r\n",
      "30.37% overall alignment rate\r\n",
      "[bam_sort_core] merging from 2 files...\r\n"
     ]
    }
   ],
   "source": [
    "cd /home/alan/projects/MinION-notebook/quads-analysis/miseq\n",
    "\n",
    "i=\"plasmid\"\n",
    "\n",
    "bowtie2 \\\n",
    "-p 40 \\\n",
    "--very-sensitive-local \\\n",
    "-x /home/alan/projects/MinION-notebook/reference-sequences/quads-study-reference-sequence.fasta \\\n",
    "-1 $i.r1.fastq.gz \\\n",
    "-2 $i.r2.fastq.gz \\\n",
    "-S $i.sam\n",
    "\n",
    "samtools view -b -o $i.bam $i.sam \n",
    "samtools sort -o $i.sort.bam $i.bam\n",
    "samtools index $i.sort.bam\n",
    "\n",
    "rm $i.bam $i.sam "
   ]
  },
  {
   "cell_type": "markdown",
   "metadata": {},
   "source": [
    "### Generate Consensus"
   ]
  },
  {
   "cell_type": "code",
   "execution_count": 7,
   "metadata": {
    "ExecuteTime": {
     "end_time": "2016-02-18T16:14:15.553980",
     "start_time": "2016-02-18T15:45:41.413316"
    },
    "collapsed": false
   },
   "outputs": [
    {
     "name": "stdout",
     "output_type": "stream",
     "text": []
    }
   ],
   "source": [
    "cd /home/alan/projects/MinION-notebook/quads-analysis/miseq\n",
    "for bam in $(ls *bam | perl -pe 's/\\.sort\\.bam//g')\n",
    "do\n",
    "    for seg in $(samtools idxstats $bam.sort.bam | grep -v '*' | cut -f1)\n",
    "    do\n",
    "        python ~/projects/MinION-notebook/MinION-Flu-Analysis/scripts/bamfile_consensus_generate.py $bam.sort.bam $seg | perl -pe 's/^(>.+)/$1\\tmiseq lab strain consensus/g' > $bam.$seg.consensus.fasta\n",
    "    done\n",
    "done"
   ]
  },
  {
   "cell_type": "markdown",
   "metadata": {
    "heading_collapsed": false,
    "level": 2
   },
   "source": [
    "## Ion Torrent Alignment"
   ]
  },
  {
   "cell_type": "code",
   "execution_count": 19,
   "metadata": {
    "ExecuteTime": {
     "end_time": "2016-02-18T12:09:47.918455",
     "start_time": "2016-02-18T12:08:31.387994"
    },
    "collapsed": false,
    "level": 7
   },
   "outputs": [
    {
     "name": "stdout",
     "output_type": "stream",
     "text": [
      "552143 reads; of these:\r\n",
      "  552143 (100.00%) were unpaired; of these:\r\n",
      "    9061 (1.64%) aligned 0 times\r\n",
      "    412127 (74.64%) aligned exactly 1 time\r\n",
      "    130955 (23.72%) aligned >1 times\r\n",
      "98.36% overall alignment rate\r\n"
     ]
    }
   ],
   "source": [
    "cd /home/alan/projects/MinION-notebook/quads-analysis/ion\n",
    "bowtie2 \\\n",
    "-p 40 \\\n",
    "--very-sensitive-local \\\n",
    "-x /home/alan/projects/MinION-notebook/reference-sequences/quads-study-reference-sequence.fasta \\\n",
    "-U R_2015_05_09_01_13_59_user_SN2-44-Ghedin_400_bp.fastq \\\n",
    "-S ion-quads.sam\n",
    "\n",
    "samtools view -b -o ion-quads.bam ion-quads.sam \n",
    "samtools sort -o ion-quads.sort.bam ion-quads.bam\n",
    "samtools index ion-quads.sort.bam\n",
    "\n",
    "rm ion-quads.bam ion-quads.sam"
   ]
  },
  {
   "cell_type": "code",
   "execution_count": 8,
   "metadata": {
    "ExecuteTime": {
     "end_time": "2016-02-18T16:18:20.883208",
     "start_time": "2016-02-18T16:14:15.556365"
    },
    "collapsed": false
   },
   "outputs": [
    {
     "name": "stdout",
     "output_type": "stream",
     "text": []
    }
   ],
   "source": [
    "cd /home/alan/projects/MinION-notebook/quads-analysis/ion\n",
    "for i in $(samtools idxstats ion-quads.sort.bam | grep -v '*' | cut -f1)\n",
    "do\n",
    "    python ~/projects/MinION-notebook/MinION-Flu-Analysis/scripts/bamfile_consensus_generate.py ion-quads.sort.bam $i | perl -pe 's/^(>.+)/$1\\tion lab strain consensus/g' > ion-quads.$i.consensus.fasta\n",
    "done"
   ]
  },
  {
   "cell_type": "markdown",
   "metadata": {
    "heading_collapsed": false,
    "level": 2
   },
   "source": [
    "## PacBio Alignment"
   ]
  },
  {
   "cell_type": "code",
   "execution_count": 11,
   "metadata": {
    "ExecuteTime": {
     "end_time": "2016-02-18T16:21:03.645128",
     "start_time": "2016-02-18T16:20:52.608631"
    },
    "collapsed": false,
    "level": 7
   },
   "outputs": [
    {
     "name": "stdout",
     "output_type": "stream",
     "text": [
      "[INFO] 2016-02-18T16:20:53 [blasr] started.\r\n",
      "[INFO] 2016-02-18T16:20:58 [blasr] ended.\r\n"
     ]
    }
   ],
   "source": [
    "cd /home/alan/projects/MinION-notebook/quads-analysis/pacbio\n",
    "\n",
    "/opt/bioinformatics-software/minion-software/blasr/alignment/bin/blasr \\\n",
    "Elodie_sidebar_reads_of_insert.fastq \\\n",
    "/home/alan/projects/MinION-notebook/reference-sequences/quads-study-reference-sequence.fasta \\\n",
    "-sam \\\n",
    "-clipping soft \\\n",
    "-out pacbio-quads.sam \\\n",
    "-nproc 40 \\\n",
    "-bestn 1\n",
    "\n",
    "samtools view -o pacbio-quads.bam -b pacbio-quads.sam\n",
    "samtools sort -o pacbio-quads.sort.bam pacbio-quads.bam\n",
    "samtools index pacbio-quads.sort.bam\n",
    "\n",
    "rm  pacbio-quads.bam pacbio-quads.sam"
   ]
  },
  {
   "cell_type": "code",
   "execution_count": 12,
   "metadata": {
    "ExecuteTime": {
     "end_time": "2016-02-18T16:23:16.192075",
     "start_time": "2016-02-18T16:21:03.647604"
    },
    "collapsed": false
   },
   "outputs": [
    {
     "name": "stdout",
     "output_type": "stream",
     "text": []
    }
   ],
   "source": [
    "cd /home/alan/projects/MinION-notebook/quads-analysis/pacbio\n",
    "for i in $(samtools idxstats pacbio-quads.sort.bam | grep -v '*' | cut -f1)\n",
    "do\n",
    "    python ~/projects/MinION-notebook/MinION-Flu-Analysis/scripts/bamfile_consensus_generate.py pacbio-quads.sort.bam $i | perl -pe 's/^(>.+)/$1\\tpacbio lab strain consensus/g' > pacbio-quads.$i.consensus.fasta\n",
    "done"
   ]
  },
  {
   "cell_type": "markdown",
   "metadata": {},
   "source": [
    "## MinION Alignment"
   ]
  },
  {
   "cell_type": "code",
   "execution_count": 3,
   "metadata": {
    "ExecuteTime": {
     "end_time": "2016-02-18T14:09:51.109176",
     "start_time": "2016-02-18T14:09:33.565836"
    },
    "collapsed": false
   },
   "outputs": [
    {
     "name": "stdout",
     "output_type": "stream",
     "text": [
      "[M::bwa_idx_load_from_disk] read 0 ALT contigs\r\n",
      "[M::process] read 22086 sequences (27658004 bp)...\r\n",
      "[M::mem_process_seqs] Processed 22086 reads in 168.341 CPU sec, 4.943 real sec\r\n",
      "[main] Version: 0.7.12-r1039\r\n",
      "[main] CMD: bwa mem -t 40 -x ont2d /home/alan/projects/MinION-notebook/reference-sequences/quads-study-reference-sequence.fasta flu-4-20.fastq\r\n",
      "[main] Real time: 5.826 sec; CPU: 168.765 sec\r\n"
     ]
    }
   ],
   "source": [
    "cd /home/alan/projects/MinION-notebook/quads-analysis/minion\n",
    "\n",
    "bwa mem \\\n",
    "-t 40 \\\n",
    "-x ont2d /home/alan/projects/MinION-notebook/reference-sequences/quads-study-reference-sequence.fasta \\\n",
    "flu-4-20.fastq > minion-4-20-quads.sam\n",
    "\n",
    "samtools view -b -o minion-4-20-quads.bam minion-4-20-quads.sam\n",
    "samtools sort -o minion-4-20-quads.sort.bam minion-4-20-quads.bam\n",
    "samtools index minion-4-20-quads.sort.bam\n",
    "\n",
    "rm  minion-4-20-quads.bam minion-4-20-quads.sam"
   ]
  },
  {
   "cell_type": "markdown",
   "metadata": {},
   "source": [
    "The only lab strain segment in FluB of the 11-9 run is PB1, so discount all other FluB segments."
   ]
  },
  {
   "cell_type": "code",
   "execution_count": 4,
   "metadata": {
    "ExecuteTime": {
     "end_time": "2016-02-18T14:11:18.949997",
     "start_time": "2016-02-18T14:11:04.454059"
    },
    "collapsed": false
   },
   "outputs": [
    {
     "name": "stdout",
     "output_type": "stream",
     "text": [
      "[M::bwa_idx_load_from_disk] read 0 ALT contigs\r\n",
      "[M::process] read 13101 sequences (19362251 bp)...\r\n",
      "[M::mem_process_seqs] Processed 13101 reads in 91.651 CPU sec, 2.520 real sec\r\n",
      "[main] Version: 0.7.12-r1039\r\n",
      "[main] CMD: bwa mem -t 40 -x ont2d /home/alan/projects/MinION-notebook/reference-sequences/quads-study-reference-sequence.fasta flu-11-9.2d.fastq\r\n",
      "[main] Real time: 3.526 sec; CPU: 92.062 sec\r\n"
     ]
    }
   ],
   "source": [
    "bwa mem \\\n",
    "-t 40 \\\n",
    "-x ont2d /home/alan/projects/MinION-notebook/reference-sequences/quads-study-reference-sequence.fasta \\\n",
    "flu-11-9.2d.fastq > minion-11-9-quads.sam\n",
    "\n",
    "samtools view -b -o minion-11-9-quads.bam minion-11-9-quads.sam\n",
    "samtools sort -o minion-11-9-quads.sort.bam minion-11-9-quads.bam\n",
    "samtools index minion-11-9-quads.sort.bam\n",
    "\n",
    "rm  minion-11-9-quads.bam minion-11-9-quads.sam"
   ]
  },
  {
   "cell_type": "code",
   "execution_count": 13,
   "metadata": {
    "ExecuteTime": {
     "end_time": "2016-02-18T16:26:58.088680",
     "start_time": "2016-02-18T16:23:16.193686"
    },
    "collapsed": false
   },
   "outputs": [
    {
     "name": "stdout",
     "output_type": "stream",
     "text": []
    }
   ],
   "source": [
    "cd /home/alan/projects/MinION-notebook/quads-analysis/minion\n",
    "for bam in $(ls *bam | perl -pe 's/\\.sort\\.bam//g')\n",
    "do\n",
    "    for seg in $(samtools idxstats $bam.sort.bam | grep -v '*' | cut -f1)\n",
    "    do\n",
    "        python ~/projects/MinION-notebook/MinION-Flu-Analysis/scripts/bamfile_consensus_generate.py $bam.sort.bam $seg | perl -pe 's/^(>.+)/$1\\tminion lab strain consensus/g' > $bam.$seg.consensus.fasta\n",
    "    done\n",
    "done"
   ]
  },
  {
   "cell_type": "markdown",
   "metadata": {
    "level": 7
   },
   "source": [
    "# Clinical Samples"
   ]
  },
  {
   "cell_type": "markdown",
   "metadata": {},
   "source": [
    "The workflow agreed upon this far is as follows:\n",
    "\n",
    "1) Generate Flu-specific, full segment database with only unique sequences. This will cut down significantly on runtime but can possibly limit the analysis by not being comprehensive with every strain; this database will not inclued lab strains and incomplete segments.\n",
    "\n",
    "2) Obtain the top 10 hits per segment. This is alowing the possibility of mixed infections, whereas only using the top hit can bias the results.\n",
    "\n",
    "3) Map the MinION to the top 10 hits.\n",
    "\n",
    "4) Map the MiSeq to the top 10 hits.\n",
    "\n",
    "5) Generate consensus sequences for both platforms and compare the top hits. \n",
    "\n",
    "6) Cross fingers and hope that they're the same\n",
    "\n",
    "The original implementation was to just use the top hit, and it worked for most segments, though there are still problems with other segments."
   ]
  },
  {
   "cell_type": "markdown",
   "metadata": {},
   "source": [
    "## Mixed Infection/Cross Contamination"
   ]
  },
  {
   "cell_type": "markdown",
   "metadata": {},
   "source": [
    "To assess the possibility of a mixed infection, mapping the MiSeq clinical data to all three subtypes should uncover whether or not there is any possibility of mixed infection based on coverage and quality of the alignments. It seems that there is inherent misalignment based on the lab strain analysis, but since these are clinical a mixed infection should be much more prevalent than the noise we've seen in lab strains. \n",
    "\n",
    "I'll try the quads reference sequences first to see if that's good enough (since this could be the lowest hanging fruit for this analysis)."
   ]
  },
  {
   "cell_type": "code",
   "execution_count": null,
   "metadata": {
    "collapsed": true
   },
   "outputs": [],
   "source": [
    "cd /home/alan/projects/MinION-notebook/clinical-analysis/miseq/flub\n",
    "\n",
    "bwa mem \\\n",
    "-x intractg \\\n",
    "-t 30 \\\n",
    "~/projects/MinION-notebook/reference-sequences/quads-study-reference-sequence.fasta \\\n",
    "flub.r1.fastq.gz flub.r2.fastq.gz > flub.quads-references.sam\n",
    "\n",
    "samtools view -b -o flub.quads-references.bam flub.quads-references.sam\n",
    "samtools sort -o flub.quads-references.sort.bam flub.quads-references.bam\n",
    "samtools index flub.quads-references.sort.bam\n",
    "\n",
    "rm  flub.quads-references.bam flub.quads-references.sam"
   ]
  },
  {
   "cell_type": "code",
   "execution_count": 1,
   "metadata": {
    "ExecuteTime": {
     "end_time": "2016-03-15T14:28:08.408661",
     "start_time": "2016-03-15T14:28:07.995143"
    },
    "collapsed": false,
    "level": 7
   },
   "outputs": [
    {
     "name": "stdout",
     "output_type": "stream",
     "text": [
      "FluB-PB1\t2259\t191704\t1486\r\n",
      "FluB-PB2\t2313\t210757\t1283\r\n",
      "FluB-PA\t2181\t193262\t1073\r\n",
      "FluB-HA\t1758\t324611\t4940\r\n",
      "FluB-NP\t1683\t10442\t76\r\n",
      "FluB-NA\t1401\t235242\t1965\r\n",
      "FluB-NS\t1027\t92607\t536\r\n",
      "FluB-MP\t1076\t174920\t1039\r\n",
      "H1N1-PB2\t2280\t42\t22\r\n",
      "H1N1-PB1\t2274\t57\t18\r\n",
      "H1N1-PA\t2151\t52\t25\r\n",
      "H1N1-HA\t1701\t74\t37\r\n",
      "H1N1-NP\t1497\t71\t23\r\n",
      "H1N1-NA\t1410\t45\t21\r\n",
      "H1N1-MP\t982\t154\t61\r\n",
      "H1N1-NS\t838\t95\t33\r\n",
      "H3N2-PB2\t2280\t148\t65\r\n",
      "H3N2-PA\t1689\t105\t52\r\n",
      "H3N2-PB1\t2274\t136\t42\r\n",
      "H3N2-HA\t1701\t188\t85\r\n",
      "H3N2-NP\t1497\t207\t84\r\n",
      "H3N2-NS\t693\t92\t41\r\n",
      "H3N2-NA\t1407\t88\t31\r\n",
      "H3N2-MP\t759\t190\t72\r\n",
      "*\t0\t0\t59252\r\n"
     ]
    }
   ],
   "source": [
    "cd /home/alan/projects/MinION-notebook/clinical-analysis/miseq/flub\n",
    "\n",
    "samtools idxstats flub.quads-references.sort.bam"
   ]
  },
  {
   "cell_type": "markdown",
   "metadata": {},
   "source": [
    "Based on the idxstats report it's extremely unlikely that there's any mixed infection between subtypes in the clinical FluB sample. "
   ]
  },
  {
   "cell_type": "code",
   "execution_count": null,
   "metadata": {
    "collapsed": true
   },
   "outputs": [],
   "source": [
    "sub=\"h1n1\"\n",
    "\n",
    "cd /home/alan/projects/MinION-notebook/clinical-analysis/miseq/h1n1\n",
    "\n",
    "bwa mem \\\n",
    "-x intractg \\\n",
    "-t 30 \\\n",
    "~/projects/MinION-notebook/reference-sequences/quads-study-reference-sequence.fasta \\\n",
    "$sub.r1.fastq.gz $sub.r2.fastq.gz > $sub.quads-references.sam\n",
    "\n",
    "samtools view -b -o $sub.quads-references.bam $sub.quads-references.sam\n",
    "samtools sort -o $sub.quads-references.sort.bam $sub.quads-references.bam\n",
    "samtools index $sub.quads-references.sort.bam\n",
    "\n",
    "rm  $sub.quads-references.bam $sub.quads-references.sam"
   ]
  },
  {
   "cell_type": "code",
   "execution_count": 2,
   "metadata": {
    "ExecuteTime": {
     "end_time": "2016-03-15T14:36:51.220032",
     "start_time": "2016-03-15T14:36:50.808700"
    },
    "collapsed": false,
    "level": 7
   },
   "outputs": [
    {
     "name": "stdout",
     "output_type": "stream",
     "text": [
      "FluB-PB1\t2259\t49\t21\r\n",
      "FluB-PB2\t2313\t41\t15\r\n",
      "FluB-PA\t2181\t53\t13\r\n",
      "FluB-HA\t1758\t69\t26\r\n",
      "FluB-NP\t1683\t6\t4\r\n",
      "FluB-NA\t1401\t71\t18\r\n",
      "FluB-NS\t1027\t52\t16\r\n",
      "FluB-MP\t1076\t41\t18\r\n",
      "H1N1-PB2\t2280\t168225\t663\r\n",
      "H1N1-PB1\t2274\t102439\t394\r\n",
      "H1N1-PA\t2151\t139442\t562\r\n",
      "H1N1-HA\t1701\t71685\t314\r\n",
      "H1N1-NP\t1497\t88744\t410\r\n",
      "H1N1-NA\t1410\t34711\t151\r\n",
      "H1N1-MP\t982\t92641\t472\r\n",
      "H1N1-NS\t838\t84746\t407\r\n",
      "H3N2-PB2\t2280\t194\t72\r\n",
      "H3N2-PA\t1689\t138\t53\r\n",
      "H3N2-PB1\t2274\t376\t59\r\n",
      "H3N2-HA\t1701\t212\t73\r\n",
      "H3N2-NP\t1497\t219\t85\r\n",
      "H3N2-NS\t693\t84\t31\r\n",
      "H3N2-NA\t1407\t95\t36\r\n",
      "H3N2-MP\t759\t179\t78\r\n",
      "*\t0\t0\t84806\r\n"
     ]
    }
   ],
   "source": [
    "cd /home/alan/projects/MinION-notebook/clinical-analysis/miseq/h1n1\n",
    "\n",
    "samtools idxstats h1n1.quads-references.sort.bam"
   ]
  },
  {
   "cell_type": "code",
   "execution_count": null,
   "metadata": {
    "collapsed": true
   },
   "outputs": [],
   "source": [
    "sub=\"h3n2-70\"\n",
    "\n",
    "cd /home/alan/projects/MinION-notebook/clinical-analysis/miseq/$sub\n",
    "\n",
    "bwa mem \\\n",
    "-x intractg \\\n",
    "-t 30 \\\n",
    "~/projects/MinION-notebook/reference-sequences/quads-study-reference-sequence.fasta \\\n",
    "$sub.r1.fastq.gz $sub.r2.fastq.gz > $sub.quads-references.sam\n",
    "\n",
    "samtools view -b -o $sub.quads-references.bam $sub.quads-references.sam\n",
    "samtools sort -o $sub.quads-references.sort.bam $sub.quads-references.bam\n",
    "samtools index $sub.quads-references.sort.bam\n",
    "\n",
    "rm  $sub.quads-references.bam $sub.quads-references.sam"
   ]
  },
  {
   "cell_type": "code",
   "execution_count": 4,
   "metadata": {
    "ExecuteTime": {
     "end_time": "2016-03-15T14:41:41.342534",
     "start_time": "2016-03-15T14:41:40.930872"
    },
    "collapsed": false,
    "level": 7
   },
   "outputs": [
    {
     "name": "stdout",
     "output_type": "stream",
     "text": [
      "FluB-PB1\t2259\t82\t26\r\n",
      "FluB-PB2\t2313\t94\t34\r\n",
      "FluB-PA\t2181\t111\t39\r\n",
      "FluB-HA\t1758\t157\t57\r\n",
      "FluB-NP\t1683\t7\t5\r\n",
      "FluB-NA\t1401\t126\t50\r\n",
      "FluB-NS\t1027\t78\t43\r\n",
      "FluB-MP\t1076\t77\t32\r\n",
      "H1N1-PB2\t2280\t149\t35\r\n",
      "H1N1-PB1\t2274\t891\t43\r\n",
      "H1N1-PA\t2151\t26081\t36\r\n",
      "H1N1-HA\t1701\t157\t55\r\n",
      "H1N1-NP\t1497\t134\t60\r\n",
      "H1N1-NA\t1410\t70\t26\r\n",
      "H1N1-MP\t982\t17620\t116\r\n",
      "H1N1-NS\t838\t164\t62\r\n",
      "H3N2-PB2\t2280\t135176\t600\r\n",
      "H3N2-PA\t1689\t103755\t867\r\n",
      "H3N2-PB1\t2274\t170654\t732\r\n",
      "H3N2-HA\t1701\t280031\t1281\r\n",
      "H3N2-NP\t1497\t153419\t767\r\n",
      "H3N2-NS\t693\t16787\t196\r\n",
      "H3N2-NA\t1407\t139870\t649\r\n",
      "H3N2-MP\t759\t165599\t2443\r\n",
      "*\t0\t0\t119756\r\n"
     ]
    }
   ],
   "source": [
    "cd /home/alan/projects/MinION-notebook/clinical-analysis/miseq/h3n2-70\n",
    "\n",
    "samtools idxstats h3n2-70.quads-references.sort.bam"
   ]
  },
  {
   "cell_type": "code",
   "execution_count": null,
   "metadata": {
    "collapsed": true
   },
   "outputs": [],
   "source": [
    "sub=\"h3n2-90\"\n",
    "\n",
    "cd /home/alan/projects/MinION-notebook/clinical-analysis/miseq/$sub\n",
    "\n",
    "bwa mem \\\n",
    "-x intractg \\\n",
    "-t 30 \\\n",
    "~/projects/MinION-notebook/reference-sequences/quads-study-reference-sequence.fasta \\\n",
    "$sub.r1.fastq.gz $sub.r2.fastq.gz > $sub.quads-references.sam\n",
    "\n",
    "samtools view -b -o $sub.quads-references.bam $sub.quads-references.sam\n",
    "samtools sort -o $sub.quads-references.sort.bam $sub.quads-references.bam\n",
    "samtools index $sub.quads-references.sort.bam\n",
    "\n",
    "rm  $sub.quads-references.bam $sub.quads-references.sam"
   ]
  },
  {
   "cell_type": "code",
   "execution_count": 5,
   "metadata": {
    "ExecuteTime": {
     "end_time": "2016-03-15T14:45:09.924438",
     "start_time": "2016-03-15T14:45:09.511784"
    },
    "collapsed": false,
    "level": 7
   },
   "outputs": [
    {
     "name": "stdout",
     "output_type": "stream",
     "text": [
      "FluB-PB1\t2259\t109\t32\r\n",
      "FluB-PB2\t2313\t556\t31\r\n",
      "FluB-PA\t2181\t140\t33\r\n",
      "FluB-HA\t1758\t264\t69\r\n",
      "FluB-NP\t1683\t10\t2\r\n",
      "FluB-NA\t1401\t237\t48\r\n",
      "FluB-NS\t1027\t95\t40\r\n",
      "FluB-MP\t1076\t135\t33\r\n",
      "H1N1-PB2\t2280\t114\t50\r\n",
      "H1N1-PB1\t2274\t981\t39\r\n",
      "H1N1-PA\t2151\t17063\t27\r\n",
      "H1N1-HA\t1701\t180\t65\r\n",
      "H1N1-NP\t1497\t128\t52\r\n",
      "H1N1-NA\t1410\t95\t35\r\n",
      "H1N1-MP\t982\t10358\t112\r\n",
      "H1N1-NS\t838\t183\t67\r\n",
      "H3N2-PB2\t2280\t81512\t576\r\n",
      "H3N2-PA\t1689\t72356\t983\r\n",
      "H3N2-PB1\t2274\t108534\t705\r\n",
      "H3N2-HA\t1701\t194727\t1274\r\n",
      "H3N2-NP\t1497\t121145\t918\r\n",
      "H3N2-NS\t693\t35480\t410\r\n",
      "H3N2-NA\t1407\t103771\t698\r\n",
      "H3N2-MP\t759\t155766\t3865\r\n",
      "*\t0\t0\t303922\r\n"
     ]
    }
   ],
   "source": [
    "cd /home/alan/projects/MinION-notebook/clinical-analysis/miseq/h3n2-90\n",
    "\n",
    "samtools idxstats h3n2-90.quads-references.sort.bam"
   ]
  },
  {
   "cell_type": "markdown",
   "metadata": {},
   "source": [
    "So it looked like there may have been a mixed infection, but looking at the alignments it doesn't seem very likely. \n",
    "\n",
    "![title](docs/clinical-h3n2-90-vs-all-subtypes-h1n1-pa.png)\n",
    "\n",
    "![title](docs/clinical-h3n2-90-vs-all-subtypes-h1n1-mp.png)"
   ]
  },
  {
   "cell_type": "code",
   "execution_count": null,
   "metadata": {
    "collapsed": true
   },
   "outputs": [],
   "source": []
  },
  {
   "cell_type": "markdown",
   "metadata": {},
   "source": [
    "## MiSeq and MinION Consensus Comparisons\n",
    "\n",
    "This is to look at if and how the MiSeq consensus sequences vary from the MinION consensus sequences. \n",
    "\n",
    "I will use the top Blast segments for the references initially. \n",
    "\n",
    "I also need to segregate the subtypes as to avoid any cross contamination between them while mapping. Though it shouldn't have much of an effect this is something that we need to identify anyway."
   ]
  },
  {
   "cell_type": "code",
   "execution_count": null,
   "metadata": {
    "collapsed": true
   },
   "outputs": [],
   "source": [
    "cd /home/alan/projects/MinION-notebook/minion-blast/6-4\n",
    "\n",
    "blastn \\\n",
    "-db ~/projects/MinION-notebook/clinical-analysis/fludb/all-H1N1-H3N2-FluB-full-segs.fasta \\\n",
    "-query flu-6-4.2d.fasta \\\n",
    "-out flu-6-4.2d.fludb.xml \\\n",
    "-outfmt 5 \\\n",
    "-num_threads 40 \\\n",
    "-max_target_seqs 1 \\\n",
    "-culling_limit 2 \\\n",
    "-evalue 0.00005\n",
    "\n",
    "python ~/projects/MinION-notebook/scripts/read-fludb-blastxml.py flu-6-4.2d.fludb.xml > flu-6-4.2d.fludb.seg-counts.tsv\n",
    "\n",
    "for i in PA PB2 PB1 MP NA NS NP PA HA; do sort -nrk4 ~/projects/MinION-notebook/minion-blast/6-4/flu-6-4.2d.fludb.seg-counts.tsv | grep 'FluB' | grep -m1 $i ; done\n",
    "\n",
    "cd /home/alan/projects/MinION-notebook/minion-blast/11-9\n",
    "\n",
    "blastn \\\n",
    "-db ~/projects/MinION-notebook/clinical-analysis/fludb/all-H1N1-H3N2-FluB-full-segs.fasta \\\n",
    "-query flu-11-9.2d.fasta \\\n",
    "-out flu-11-9.2d.fludb.xml \\\n",
    "-outfmt 5 \\\n",
    "-num_threads 40 \\\n",
    "-max_target_seqs 1 \\\n",
    "-culling_limit 2 \\\n",
    "-evalue 0.00005\n",
    "\n",
    "python ~/projects/MinION-notebook/scripts/read-fludb-blastxml.py flu-11-9.2d.fludb.xml > flu-11-9.2d.fludb.seg-counts.tsv\n",
    "\n",
    "for i in PA PB2 PB1 MP NA NS NP PA HA; do sort -nrk4 ~/projects/MinION-notebook/minion-blast/11-9/flu-11-9.2d.f*tsv | grep 'FluB' | grep -m1 $i ; done\n",
    "\n",
    "cd /home/alan/projects/MinION-notebook/clinical-analysis/consensus-comparison/flub\n",
    "\n",
    "bwa mem -t 30 11-9-top-seg-hits.fasta f3.r1.fastq.gz f3.r2.fastq.gz\n",
    "\n",
    "samtools view -b -o f3.11-9-top-seg-hits.bam f3.11-9-top-seg-hits.sam\n",
    "samtools sort -o f3.11-9-top-seg-hits.sort.bam f3.11-9-top-seg-hits.bam\n",
    "samtools index f3.11-9-top-seg-hits.sort.bam\n",
    "\n",
    "bwa mem -t 30 -x ont2d 11-9-top-seg-hits.fasta flu-11-9.2d.fastq > flu-11-9.2d.11-9-top-seg-hits.sam\n",
    "\n",
    "samtools view -b -o flu-11-9.2d.11-9-top-seg-hits.bam flu-11-9.2d.11-9-top-seg-hits.sam\n",
    "samtools sort -o flu-11-9.2d.11-9-top-seg-hits.sort.bam flu-11-9.2d.11-9-top-seg-hits.bam\n",
    "samtools index flu-11-9.2d.11-9-top-seg-hits.sort.bam\n",
    "\n",
    "for i in HA NA NP NS MP PA PB1 PB2; do python ~/projects/MinION-notebook/scripts/bamfile_consensus_generate.py f3.11-9-top-seg-hits.sort.bam $i ; done > f3.11-9-top-seg-hits.consensus.fasta\n",
    "\n",
    "for i in HA NA NP NS MP PA PB1 PB2; do python ~/projects/MinION-notebook/scripts/bamfile_consensus_generate.py flu-11-9.2d.11-9-top-seg-hits.sort.bam $i ; done > flu-11-9.2d.11-9-top-seg-hits.consensus.fasta"
   ]
  },
  {
   "cell_type": "markdown",
   "metadata": {},
   "source": [
    "It's interesting to note that the blast results between the 6-4 and 11-9 MinION runs produce different top hits with the exception of MP, NS, and NA. Since the FluDB is only taking representative sequences these top hits are actually different.\n",
    "\n",
    "6-4 \n",
    "* CY124945        FluB    PA      11      gb:CY124945|Organism:Influenza B virus B/Managua/3425.01/2008|Segment:3|Subtype:null|Host:Human\n",
    "* KT866760        FluB    PB2     21      gb:KT866760|Organism:Influenza B virus B/New York/17/2015|Segment:1|Subtype:null|Host:Human\n",
    "* CY191426        FluB    PB1     23      gb:CY191426|Organism:Influenza B virus B/New York/WC-LVD-14-009/2014|Segment:2|Subtype:null|Host:Human\n",
    "* LC033380        FluB    MP      83      gb:LC033380|Organism:Influenza B virus B/Nagasaki/13N070/2014|Segment:7|Subtype:null|Host:Human\n",
    "* LC033379        FluB    NA      72      gb:LC033379|Organism:Influenza B virus B/Nagasaki/13N070/2014|Segment:6|Subtype:null|Host:Human\n",
    "* LC033381        FluB    NS      174     gb:LC033381|Organism:Influenza B virus B/Nagasaki/13N070/2014|Segment:8|Subtype:null|Host:Human\n",
    "* CY191542        FluB    NP      1       gb:CY191542|Organism:Influenza B virus B/New York/WC-LVD-14-025/2014|Segment:5|Subtype:null|Host:Human\n",
    "* CY124945        FluB    PA      11      gb:CY124945|Organism:Influenza B virus B/Managua/3425.01/2008|Segment:3|Subtype:null|Host:Human\n",
    "* CY173779        FluB    HA      26      gb:CY173779|Organism:Influenza B virus B/New York/1330/2012|Segment:4|Subtype:null|Host:Human\n",
    "\n",
    "11-9\n",
    "* KT866320        FluB    PA      24      gb:KT866320|Organism:Influenza B virus B/Delaware/11/2015|Segment:3|Subtype:null|Host:Human\n",
    "* AY504600        FluB    PB2     38      gb:AY504600|Organism:Influenza B virus B/Victoria/504/2000|Segment:1|Subtype:null|Host:Human\n",
    "* KT853479        FluB    PB1     6       gb:KT853479|Organism:Influenza B virus B/Pennsylvania/04/2015|Segment:2|Subtype:null|Host:Human\n",
    "* LC033380        FluB    MP      28      gb:LC033380|Organism:Influenza B virus B/Nagasaki/13N070/2014|Segment:7|Subtype:null|Host:Human\n",
    "* LC033379        FluB    NA      133     gb:LC033379|Organism:Influenza B virus B/Nagasaki/13N070/2014|Segment:6|Subtype:null|Host:Human\n",
    "* LC033381        FluB    NS      54      gb:LC033381|Organism:Influenza B virus B/Nagasaki/13N070/2014|Segment:8|Subtype:null|Host:Human\n",
    "* CY173782        FluB    NP      4       gb:CY173782|Organism:Influenza B virus B/New York/1330/2012|Segment:5|Subtype:null|Host:Human\n",
    "* KT866320        FluB    PA      24      gb:KT866320|Organism:Influenza B virus B/Delaware/11/2015|Segment:3|Subtype:null|Host:Human\n",
    "* KP864252        FluB    HA      29      gb:KP864252|Organism:Influenza B virus B/Quebec/07/2014|Segment:4|Subtype:null|Host:Human\n",
    "\n",
    "The HA segments are the only ones that differ in length so comparisons between the other segments should be fine:\n",
    "\n",
    "perl ~/projects/MinION-notebook/scripts/get-len.pl flu-11-9.2d.11-9-top-seg-hits.consensus.fasta\n",
    "HA      1834\n",
    "NA      1551\n",
    "NP      1809\n",
    "NS      1096\n",
    "MP      1190\n",
    "PA      2181\n",
    "PB1     2313\n",
    "PB2     2369\n",
    "\n",
    "perl ~/projects/MinION-notebook/scripts/get-len.pl f3.11-9-top-seg-hits.consensus.fasta\n",
    "HA      1831\n",
    "NA      1551\n",
    "NP      1809\n",
    "NS      1096\n",
    "MP      1190\n",
    "PA      2181\n",
    "PB1     2313\n",
    "PB2     2369"
   ]
  },
  {
   "cell_type": "code",
   "execution_count": null,
   "metadata": {
    "collapsed": true
   },
   "outputs": [],
   "source": [
    "cd /home/alan/projects/MinION-notebook/clinical-analysis/consensus-comparison/flub/minion-to-miseq-consensus\n",
    "\n",
    "bwa mem -t 30 -x ont2d f3.11-9-top-seg-hits.consensus.fasta flu-11-9.2d.fastq > flu-11-9.2d.sam\n",
    "\n",
    "samtools view -b -o flu-11-9.2d.bam flu-11-9.2d.sam\n",
    "samtools sort -o flu-11-9.2d.sort.bam flu-11-9.2d.bam\n",
    "samtools index flu-11-9.2d.sort.bam\n",
    "\n",
    "rm flu-11-9.2d.sam flu-11-9.2d.bam\n",
    "\n",
    "for i in HA NA NP NS MP PA PB1 PB2; do python ~/projects/MinION-notebook/scripts/bamfile_consensus_generate.py flu-11-9.2d.sort.bam $i ; done > flu-11-9.2d.consensus.fasta\n",
    "\n",
    "cd /home/alan/projects/MinION-notebook/clinical-analysis/consensus-comparison/flub/miseq-to-minion-consensus\n",
    "\n",
    "bwa mem -t 30 flu-11-9.2d.11-9-top-seg-hits.consensus.fasta f3.r1.fastq.gz f3.r2.fastq.gz\n",
    "\n",
    "samtools view -b -o f3.bam f3.sam\n",
    "samtools sort -o f3.sort.bam f3.bam\n",
    "samtools index f3.sort.bam\n",
    "\n",
    "rm f3.sam f3.bam\n",
    "\n",
    "for i in HA NA NP NS MP PA PB1 PB2; do python ~/projects/MinION-notebook/scripts/bamfile_consensus_generate.py f3.sort.bam $i ; done > f3.consensus.fasta"
   ]
  },
  {
   "cell_type": "code",
   "execution_count": 1,
   "metadata": {
    "ExecuteTime": {
     "end_time": "2016-03-23T13:19:43.824454",
     "start_time": "2016-03-23T13:19:42.454239"
    },
    "collapsed": false
   },
   "outputs": [
    {
     "name": "stdout",
     "output_type": "stream",
     "text": [
      "RefName\tRefLen\t#Variants\t#Deletions\r\n",
      "HA \t1831 \t9 \t0\r\n",
      "RefName\tRefLen\t#Variants\t#Deletions\r\n",
      "NA \t1551 \t4 \t0\r\n",
      "RefName\tRefLen\t#Variants\t#Deletions\r\n",
      "NP \t1809 \t2 \t0\r\n",
      "RefName\tRefLen\t#Variants\t#Deletions\r\n",
      "MP \t1190 \t3 \t0\r\n",
      "RefName\tRefLen\t#Variants\t#Deletions\r\n",
      "NS \t1096 \t0 \t0\r\n",
      "RefName\tRefLen\t#Variants\t#Deletions\r\n",
      "PB1 \t2313 \t2 \t0\r\n",
      "RefName\tRefLen\t#Variants\t#Deletions\r\n",
      "PB2 \t2369 \t39 \t0\r\n",
      "RefName\tRefLen\t#Variants\t#Deletions\r\n",
      "PA \t2181 \t1 \t0\r\n"
     ]
    }
   ],
   "source": [
    "cd /home/alan/projects/MinION-notebook/clinical-analysis/consensus-comparison/flub\n",
    "\n",
    "for i in HA NA NP MP NS PB1 PB2 PA; do grep -A1 -h --no-group-separator $i minion-to-miseq-consensus/flu-11-9.2d.consensus.fasta miseq-to-minion-consensus/f3.consensus.fasta > temp.fa && python ~/projects/MinION-notebook/scripts/pairwise-pid.py temp.fa fasta; done"
   ]
  },
  {
   "cell_type": "markdown",
   "metadata": {},
   "source": [
    "So all but the NS segment have differences. "
   ]
  },
  {
   "cell_type": "markdown",
   "metadata": {},
   "source": [
    "## MinION Blast Results Comparison\n",
    "\n",
    "The purpose of this analysis is to see whether or not different subtypes mixed in the same pool are contaminating the results of the Flu blast queries. That is to say, does an H1N1 MinION read yield any other subtype as a blast hit? This is addressing the unlikely possibility that there are similarities between the different subtypes sequenced that lead to strains that are not actually represented in the sample, thus the erroneous consensus sequences.\n",
    "\n",
    "To do this, the MinION reads will be segregated out via alignment to MiSeq consensus sequences. From there, a blast analysis will be conducted on a subtype-specific subset of reads (maybe even segment-specific?) to identify possible overlap between the different subtypes. From there, consensus sequences will be generated from those blast results and compared to the MiSeq consensus sequences (as well as other blast results with an entire flowcell's worth of data) to interrogate the discrepancies."
   ]
  },
  {
   "cell_type": "code",
   "execution_count": null,
   "metadata": {
    "collapsed": true
   },
   "outputs": [],
   "source": [
    "cd /home/alan/projects/MinION-notebook/clinical-analysis/blast-result-comparison\n",
    "\n",
    "# using data from the consensus comparison analysis to segregate the reads prior to blasting.\n",
    "samtools view -b -o flu-11-9.2d.mapped-only.bam -F 4 flu-11-9.2d.sort.bam\n",
    "samtools fasta flu-11-9.2d.mapped-only.bam > flu-11-9.2d.mapped-only.fasta\n",
    "\n",
    "blastn -db ~/projects/MinION-notebook/clinical-analysis/fludb/all-H1N1-H3N2-FluB-full-segs.fasta -query flu-11-9.2d.mapped-only.fasta -out flu-11-9.2d.mapped-only.blastn.xml -num_threads 40 -evalue 0.00005 -outfmt 5 -culling_limit 2 -max_target_seqs 1"
   ]
  },
  {
   "cell_type": "code",
   "execution_count": 2,
   "metadata": {
    "ExecuteTime": {
     "end_time": "2016-03-23T14:13:20.499006",
     "start_time": "2016-03-23T14:13:16.271221"
    },
    "collapsed": false
   },
   "outputs": [
    {
     "name": "stdout",
     "output_type": "stream",
     "text": [
      "CY080270\tH1N1\tPB1\t1\tgb:CY080270|Organism:Influenza A virus A/Dundgobi/9746/2009|Segment:2|Subtype:H1N1|Host:Human\r\n",
      "LN867484\tH1N1\tPB1\t1\tgb:LN867484|Organism:Influenza A virus A/England/01180017/2010|Segment:2|Subtype:H1N1|Host:Human\r\n",
      "CY073747\tH1N1\tPB1\t1\tgb:CY073747|Organism:Influenza A virus A/Copenhagen/INS433/2009|Segment:2|Subtype:H1N1|Host:Human\r\n",
      "CY045952\tH1N1\tPB1\t1\tgb:CY045952|Organism:Influenza A virus A/Toronto/T0106/2009|Segment:2|Subtype:H1N1|Host:Human\r\n",
      "KC781727\tH1N1\tPB1\t1\tgb:KC781727|Organism:Influenza A virus A/Oregon/30/2009|Segment:2|Subtype:H1N1|Host:Human\r\n",
      "CY123216\tH1N1\tPB1\t1\tgb:CY123216|Organism:Influenza A virus A/Singapore/GP4012/2009|Segment:2|Subtype:H1N1|Host:Human\r\n",
      "CY123743\tH1N1\tPB1\t1\tgb:CY123743|Organism:Influenza A virus A/Singapore/ON2081/2009|Segment:2|Subtype:H1N1|Host:Human\r\n",
      "CY064789\tH1N1\tPB1\t2\tgb:CY064789|Organism:Influenza A virus A/Guangdong/SB1/2009|Segment:2|Subtype:H1N1|Host:Human\r\n",
      "KC881800\tH1N1\tPB1\t1\tgb:KC881800|Organism:Influenza A virus A/North Carolina/07/2011|Segment:2|Subtype:H1N1|Host:Human\r\n",
      "CY057009\tH1N1\tPB1\t1\tgb:CY057009|Organism:Influenza A virus A/Wisconsin/629-D02367/2009|Segment:2|Subtype:H1N1|Host:Human\r\n",
      "KF897799\tH1N1\tPB1\t1\tgb:KF897799|Organism:Influenza A virus A/Limoges/1159/2010|Segment:2|Subtype:H1N1|Host:Human\r\n",
      "CY056018\tH1N1\tPB1\t1\tgb:CY056018|Organism:Influenza A virus A/San Diego/INS11/2009|Segment:2|Subtype:H1N1|Host:Human\r\n",
      "HM567606\tH1N1\tPB1\t1\tgb:HM567606|Organism:Influenza A virus A/England/328/2009|Segment:2|Subtype:H1N1|Host:Human\r\n",
      "CY054921\tH1N1\tPB1\t1\tgb:CY054921|Organism:Influenza A virus A/California/VRDL41/2009|Segment:2|Subtype:H1N1|Host:Human\r\n",
      "CY051861\tH1N1\tPB1\t1\tgb:CY051861|Organism:Influenza A virus A/Texas/42122969/2009|Segment:2|Subtype:H1N1|Host:Human\r\n",
      "KC780339\tH1N1\tPB1\t1\tgb:KC780339|Organism:Influenza A virus A/New York/102/2009|Segment:2|Subtype:H1N1|Host:Human\r\n",
      "CY051701\tH1N1\tPB1\t1\tgb:CY051701|Organism:Influenza A virus A/New York/4777/2009|Segment:2|Subtype:H1N1|Host:Human\r\n",
      "CY068952\tH1N1\tPB1\t1\tgb:CY068952|Organism:Influenza A virus A/Japan/NHRC0004/2009|Segment:2|Subtype:H1N1|Host:Human\r\n",
      "GQ223442\tH1N1\tPB1\t2\tgb:GQ223442|Organism:Influenza A virus A/Guangdong/1/2009|Segment:2|Subtype:H1N1|Host:Human\r\n",
      "CY062839\tH1N1\tNS\t1\tgb:CY062839|Organism:Influenza A virus A/Athens/INS155/2009|Segment:8|Subtype:H1N1|Host:Human\r\n",
      "CY041200\tH1N1\tPB1\t1\tgb:CY041200|Organism:Influenza A virus A/New York/3190/2009|Segment:2|Subtype:H1N1|Host:Human\r\n",
      "KC782072\tH1N1\tNA\t1\tgb:KC782072|Organism:Influenza A virus A/Washington/68/2009|Segment:6|Subtype:H1N1|Host:Human\r\n",
      "CY069080\tH1N1\tPB1\t1\tgb:CY069080|Organism:Influenza A virus A/Guam/NHRC0024/2009|Segment:2|Subtype:H1N1|Host:Human\r\n",
      "CY057940\tH1N1\tPB1\t1\tgb:CY057940|Organism:Influenza A virus A/Wisconsin/629-D00968/2009|Segment:2|Subtype:H1N1|Host:Human\r\n"
     ]
    }
   ],
   "source": [
    "cd /home/alan/projects/MinION-notebook/clinical-analysis/blast-result-comparison\n",
    "\n",
    "python ~/projects/MinION-notebook/scripts/read-fludb-blastxml.py flu-11-9.2d.mapped-only.blastn.xml | grep -v 'FluB'"
   ]
  },
  {
   "cell_type": "markdown",
   "metadata": {},
   "source": [
    "There are 24 hits to H1N1 that were classified as FluB based on the alignment. All but two hits are to H1N1 PB1 - NA and NS are the exceptions. This is not nearly enough to cause a discrepancy in the consensus generation. There are 218 reads that mapped to the PB1 segment so 24 shouldn't blip on the radar. However, based on the blast results from the consensus comparison this could have some effect on the PB1 region, though that would require more that two sequences hitting the same sequence, which isn't the case here. I think we can claim that this does not have an affect on the consensus generation for FluB.\n",
    "\n",
    "With this same methodology, I'm going to investigate whether the segments add to any cross contamination."
   ]
  },
  {
   "cell_type": "code",
   "execution_count": 3,
   "metadata": {
    "ExecuteTime": {
     "end_time": "2016-03-23T15:20:03.766375",
     "start_time": "2016-03-23T15:20:01.416501"
    },
    "collapsed": false,
    "run_control": {
     "marked": false
    }
   },
   "outputs": [
    {
     "name": "stdout",
     "output_type": "stream",
     "text": [
      "KT866040\tFluB\tNP\t1\tgb:KT866040|Organism:Influenza B virus B/Wyoming/27/2015|Segment:5|Subtype:null|Host:Human\r\n",
      "CY155053\tFluB\tNP\t1\tgb:CY155053|Organism:Influenza B virus B/Brisbane/13/2004|Segment:5|Subtype:null|Host:Human\r\n",
      "JX513111\tFluB\tNP\t1\tgb:JX513111|Organism:Influenza B virus B/Thailand/CU-C1262/2010|Segment:5|Subtype:null|Host:Human\r\n",
      "KT854249\tFluB\tPA\t1\tgb:KT854249|Organism:Influenza B virus B/Utah/04/2015|Segment:3|Subtype:null|Host:Human\r\n",
      "KT866900\tFluB\tNP\t2\tgb:KT866900|Organism:Influenza B virus B/Delaware/11/2015|Segment:5|Subtype:null|Host:Human\r\n",
      "KC866605\tFluB\tNP\t2\tgb:KC866605|Organism:Influenza B virus B/Brisbane/60/2008|Segment:5|Subtype:null|Host:Human\r\n",
      "CY153397\tFluB\tNP\t1\tgb:CY153397|Organism:Influenza B virus B/Sydney/114/2008|Segment:5|Subtype:null|Host:Human\r\n",
      "KT853296\tFluB\tNP\t1\tgb:KT853296|Organism:Influenza B virus B/Alaska/01/2015|Segment:5|Subtype:null|Host:Human\r\n",
      "CY191550\tFluB\tNP\t1\tgb:CY191550|Organism:Influenza B virus B/New York/WC-LVD-14-026/2014|Segment:5|Subtype:null|Host:Human\r\n",
      "KT854708\tFluB\tNP\t2\tgb:KT854708|Organism:Influenza B virus B/Washington/03/2015|Segment:5|Subtype:null|Host:Human\r\n",
      "CY175436\tFluB\tNP\t1\tgb:CY175436|Organism:Influenza B virus B/New York/1218/2009|Segment:5|Subtype:null|Host:Human\r\n",
      "CY173812\tFluB\tNP\t1\tgb:CY173812|Organism:Influenza B virus B/New York/1373/2012|Segment:5|Subtype:null|Host:Human\r\n",
      "CY175452\tFluB\tNP\t1\tgb:CY175452|Organism:Influenza B virus B/New York/1220/2009|Segment:5|Subtype:null|Host:Human\r\n",
      "CY173782\tFluB\tNP\t4\tgb:CY173782|Organism:Influenza B virus B/New York/1330/2012|Segment:5|Subtype:null|Host:Human\r\n",
      "KT854981\tFluB\tNP\t1\tgb:KT854981|Organism:Influenza B virus B/Texas/12/2015|Segment:5|Subtype:null|Host:Human\r\n",
      "CY176204\tFluB\tNP\t2\tgb:CY176204|Organism:Influenza B virus B/New York/1356/2012|Segment:5|Subtype:null|Host:Human\r\n",
      "CY156053\tFluB\tNP\t1\tgb:CY156053|Organism:Influenza B virus B/Sydney/503/2007|Segment:5|Subtype:null|Host:Human\r\n",
      "KT853316\tFluB\tNP\t1\tgb:KT853316|Organism:Influenza B virus B/Pennsylvania/08/2014|Segment:5|Subtype:null|Host:Human\r\n",
      "KT853364\tFluB\tNP\t1\tgb:KT853364|Organism:Influenza B virus B/Texas/01/2015|Segment:5|Subtype:null|Host:Human\r\n",
      "CY191542\tFluB\tNP\t2\tgb:CY191542|Organism:Influenza B virus B/New York/WC-LVD-14-025/2014|Segment:5|Subtype:null|Host:Human\r\n",
      "CY176012\tFluB\tNP\t2\tgb:CY176012|Organism:Influenza B virus B/New York/1332/2012|Segment:5|Subtype:null|Host:Human\r\n",
      "CY191446\tFluB\tNP\t2\tgb:CY191446|Organism:Influenza B virus B/New York/WC-LVD-14-012/2014|Segment:5|Subtype:null|Host:Human\r\n",
      "CY154149\tFluB\tNP\t1\tgb:CY154149|Organism:Influenza B virus B/Auckland/27/2011|Segment:5|Subtype:null|Host:Human\r\n",
      "CY174436\tFluB\tNP\t1\tgb:CY174436|Organism:Influenza B virus B/New York/1068/2005|Segment:5|Subtype:null|Host:Human\r\n"
     ]
    }
   ],
   "source": [
    "seg='NP'\n",
    "\n",
    "cd /home/alan/projects/MinION-notebook/clinical-analysis/blast-result-comparison/segment-cross-contamination\n",
    "\n",
    "samtools view flu-11-9.2d.mapped-only.bam | grep $seg | cut -f1,10 | perl -pe 's/^(.+)\\t(.+)/>$1\\n$2/g' > flu-11-9.2d.mapped-only.$seg.fasta\n",
    "\n",
    "blastn -db ~/projects/MinION-notebook/clinical-analysis/fludb/all-H1N1-H3N2-FluB-full-segs.fasta -query flu-11-9.2d.mapped-only.$seg.fasta -out flu-11-9.2d.mapped-only.$seg.blastn.xml -outfmt 5 -evalue 0.00005 -culling_limit 2 -max_target_seqs 1 -num_threads 40\n",
    "\n",
    "python ~/projects/MinION-notebook/scripts/read-fludb-blastxml.py flu-11-9.2d.mapped-only.$seg.blastn.xml"
   ]
  },
  {
   "cell_type": "code",
   "execution_count": 4,
   "metadata": {
    "ExecuteTime": {
     "end_time": "2016-03-23T15:25:08.297734",
     "start_time": "2016-03-23T15:25:04.925233"
    },
    "collapsed": false,
    "run_control": {
     "marked": false
    }
   },
   "outputs": [
    {
     "name": "stdout",
     "output_type": "stream",
     "text": [
      "CY175047\tFluB\tPB2\t1\tgb:CY175047|Organism:Influenza B virus B/New York/1172/2008|Segment:1|Subtype:null|Host:Human\r\n",
      "AY582046\tFluB\tPB2\t2\tgb:AY582046|Organism:Influenza B virus B/Memphis/3/89|Segment:1|Subtype:null|Host:Human\r\n",
      "KT866025\tFluB\tPB2\t8\tgb:KT866025|Organism:Influenza B virus B/Maryland/22/2015|Segment:1|Subtype:null|Host:Human\r\n",
      "KT853473\tFluB\tPB2\t1\tgb:KT853473|Organism:Influenza B virus B/Michigan/02/2015|Segment:1|Subtype:null|Host:Human\r\n",
      "KT853285\tFluB\tPB2\t1\tgb:KT853285|Organism:Influenza B virus B/Washington/01/2015|Segment:1|Subtype:null|Host:Human\r\n",
      "CY150305\tFluB\tPB2\t1\tgb:CY150305|Organism:Influenza B virus B/Townsville/5/2011|Segment:1|Subtype:null|Host:Human\r\n",
      "KT866626\tFluB\tPB2\t1\tgb:KT866626|Organism:Influenza B virus B/Delaware/01/2015|Segment:1|Subtype:null|Host:Human\r\n",
      "CY174479\tFluB\tPB2\t1\tgb:CY174479|Organism:Influenza B virus B/New York/1075/2005|Segment:1|Subtype:null|Host:Human\r\n",
      "CY154000\tFluB\tPB2\t3\tgb:CY154000|Organism:Influenza B virus B/Wellington/2/2011|Segment:1|Subtype:null|Host:Human\r\n",
      "KT866382\tFluB\tPB2\t19\tgb:KT866382|Organism:Influenza B virus B/Florida/41/2015|Segment:1|Subtype:null|Host:Human\r\n",
      "CY174575\tFluB\tPB2\t1\tgb:CY174575|Organism:Influenza B virus B/New York/1105/2007|Segment:1|Subtype:null|Host:Human\r\n",
      "CY173975\tFluB\tPB2\t1\tgb:CY173975|Organism:Influenza B virus B/New York/1006/1995|Segment:1|Subtype:null|Host:Human\r\n",
      "CY156840\tFluB\tPB2\t1\tgb:CY156840|Organism:Influenza B virus B/Sydney/105/2008|Segment:1|Subtype:null|Host:Human\r\n",
      "CY156384\tFluB\tPB2\t2\tgb:CY156384|Organism:Influenza B virus B/Brisbane/32/2007|Segment:1|Subtype:null|Host:Human\r\n",
      "CY153464\tFluB\tPB2\t18\tgb:CY153464|Organism:Influenza B virus B/Christchurch/1001/2010|Segment:1|Subtype:null|Host:Human\r\n",
      "CY173983\tFluB\tPB2\t1\tgb:CY173983|Organism:Influenza B virus B/New York/1007/1995|Segment:1|Subtype:null|Host:Human\r\n",
      "CY150176\tFluB\tPB2\t2\tgb:CY150176|Organism:Influenza B virus B/Sydney/1/2009|Segment:1|Subtype:null|Host:Human\r\n",
      "CY157000\tFluB\tPB2\t3\tgb:CY157000|Organism:Influenza B virus B/Tennessee/F2060c59/2011|Segment:1|Subtype:null|Host:Human\r\n",
      "CY156592\tFluB\tPB2\t1\tgb:CY156592|Organism:Influenza B virus B/Brisbane/30/2008|Segment:1|Subtype:null|Host:Human\r\n",
      "CY176127\tFluB\tPB2\t1\tgb:CY176127|Organism:Influenza B virus B/New York/1346/2012|Segment:1|Subtype:null|Host:Human\r\n",
      "KT853331\tFluB\tPB2\t2\tgb:KT853331|Organism:Influenza B virus B/Pennsylvania/08/2014|Segment:1|Subtype:null|Host:Human\r\n",
      "KT854510\tFluB\tPB2\t1\tgb:KT854510|Organism:Influenza B virus B/Wyoming/06/2015|Segment:1|Subtype:null|Host:Human\r\n",
      "CY124906\tFluB\tPB2\t2\tgb:CY124906|Organism:Influenza B virus B/Managua/1365.02/2008|Segment:1|Subtype:null|Host:Human\r\n",
      "CY030797\tFluB\tPB2\t1\tgb:CY030797|Organism:Influenza B virus B/Tennessee/UR06-0318/2007|Segment:1|Subtype:null|Host:Human\r\n",
      "KT854697\tFluB\tPB2\t1\tgb:KT854697|Organism:Influenza B virus B/Oregon/01/2015|Segment:1|Subtype:null|Host:Human\r\n",
      "JX513187\tFluB\tPB2\t16\tgb:JX513187|Organism:Influenza B virus B/Thailand/CU-H2933/2011|Segment:1|Subtype:null|Host:Human\r\n",
      "KT865933\tFluB\tPB2\t1\tgb:KT865933|Organism:Influenza B virus B/Florida/53/2015|Segment:1|Subtype:null|Host:Human\r\n",
      "CY155048\tFluB\tPB2\t1\tgb:CY155048|Organism:Influenza B virus B/Victoria/509/2004|Segment:1|Subtype:null|Host:Human\r\n",
      "KT866019\tFluB\tPB2\t2\tgb:KT866019|Organism:Influenza B virus B/Washington/62/2015|Segment:1|Subtype:null|Host:Human\r\n",
      "CY175079\tFluB\tPB2\t3\tgb:CY175079|Organism:Influenza B virus B/New York/1176/2008|Segment:1|Subtype:null|Host:Human\r\n",
      "CY172077\tFluB\tPB2\t1\tgb:CY172077|Organism:Influenza B virus B/Boston/YGB_01056/2013|Segment:1|Subtype:null|Host:Human\r\n",
      "CY154736\tFluB\tPB2\t2\tgb:CY154736|Organism:Influenza B virus B/Victoria/108/2004|Segment:1|Subtype:null|Host:Human\r\n",
      "KT854713\tFluB\tPB2\t1\tgb:KT854713|Organism:Influenza B virus B/Nebraska/05/2015|Segment:1|Subtype:null|Host:Human\r\n",
      "KT854593\tFluB\tPB2\t20\tgb:KT854593|Organism:Influenza B virus B/Ohio/01/2015|Segment:1|Subtype:null|Host:Human\r\n",
      "CY173748\tFluB\tPB2\t2\tgb:CY173748|Organism:Influenza B virus B/New York/1299/2011|Segment:1|Subtype:null|Host:Human\r\n",
      "CY156912\tFluB\tPB2\t2\tgb:CY156912|Organism:Influenza B virus B/Townsville/2/2011|Segment:1|Subtype:null|Host:Human\r\n",
      "CY153064\tFluB\tPB2\t1\tgb:CY153064|Organism:Influenza B virus B/Wellington/17/2008|Segment:1|Subtype:null|Host:Human\r\n",
      "CY153808\tFluB\tPB2\t7\tgb:CY153808|Organism:Influenza B virus B/Sydney/2/2010|Segment:1|Subtype:null|Host:Human\r\n",
      "CY064789\tH1N1\tPB1\t2\tgb:CY064789|Organism:Influenza A virus A/Guangdong/SB1/2009|Segment:2|Subtype:H1N1|Host:Human\r\n",
      "KT866426\tFluB\tPB2\t1\tgb:KT866426|Organism:Influenza B virus B/California/99/2015|Segment:1|Subtype:null|Host:Human\r\n",
      "KT854253\tFluB\tPB2\t2\tgb:KT854253|Organism:Influenza B virus B/Texas/08/2015|Segment:1|Subtype:null|Host:Human\r\n",
      "KT865941\tFluB\tPB2\t1\tgb:KT865941|Organism:Influenza B virus B/Massachusetts/04/2015|Segment:1|Subtype:null|Host:Human\r\n",
      "CY153704\tFluB\tPB2\t3\tgb:CY153704|Organism:Influenza B virus B/Sydney/208/2010|Segment:1|Subtype:null|Host:Human\r\n",
      "CY174279\tFluB\tPB2\t3\tgb:CY174279|Organism:Influenza B virus B/New York/1046/2001|Segment:1|Subtype:null|Host:Human\r\n",
      "KT866832\tFluB\tPB2\t2\tgb:KT866832|Organism:Influenza B virus B/Maryland/16/2015|Segment:1|Subtype:null|Host:Human\r\n",
      "KT854462\tFluB\tPB2\t1\tgb:KT854462|Organism:Influenza B virus B/Texas/21/2015|Segment:1|Subtype:null|Host:Human\r\n",
      "CY115365\tFluB\tPB2\t6\tgb:CY115365|Organism:Influenza B virus B/Bangladesh/5945/2009|Segment:1|Subtype:null|Host:Human\r\n",
      "CY119704\tFluB\tPB2\t1\tgb:CY119704|Organism:Influenza B virus B/Malaysia/29570/2004|Segment:1|Subtype:null|Host:Human\r\n",
      "CY153664\tFluB\tPB2\t1\tgb:CY153664|Organism:Influenza B virus B/Sydney/206/2010|Segment:1|Subtype:null|Host:Human\r\n",
      "CY156920\tFluB\tPB2\t1\tgb:CY156920|Organism:Influenza B virus B/South Auckland/5/2011|Segment:1|Subtype:null|Host:Human\r\n",
      "CY175911\tFluB\tPB2\t1\tgb:CY175911|Organism:Influenza B virus B/New York/1293/2011|Segment:1|Subtype:null|Host:Human\r\n",
      "KT853340\tFluB\tPB2\t1\tgb:KT853340|Organism:Influenza B virus B/Alaska/30/2014|Segment:1|Subtype:null|Host:Human\r\n",
      "CY153784\tFluB\tPB2\t2\tgb:CY153784|Organism:Influenza B virus B/Sydney/1/2010|Segment:1|Subtype:null|Host:Human\r\n",
      "CY150775\tFluB\tPB2\t1\tgb:CY150775|Organism:Influenza B virus B/Brisbane/40/2008|Segment:1|Subtype:null|Host:Human\r\n",
      "CY119576\tFluB\tPB2\t1\tgb:CY119576|Organism:Influenza B virus B/Malaysia/10941/1999|Segment:1|Subtype:null|Host:Human\r\n",
      "KT853444\tFluB\tPB2\t1\tgb:KT853444|Organism:Influenza B virus B/Florida/03/2015|Segment:1|Subtype:null|Host:Human\r\n",
      "KT853379\tFluB\tPB2\t1\tgb:KT853379|Organism:Influenza B virus B/Wisconsin/04/2015|Segment:1|Subtype:null|Host:Human\r\n",
      "CY124994\tFluB\tPB2\t1\tgb:CY124994|Organism:Influenza B virus B/Managua/4982.02/2008|Segment:1|Subtype:null|Host:Human\r\n",
      "JX512995\tFluB\tPB2\t14\tgb:JX512995|Organism:Influenza B virus B/Thailand/CU-B2372/2010|Segment:1|Subtype:null|Host:Human\r\n",
      "KT854868\tFluB\tPB2\t2\tgb:KT854868|Organism:Influenza B virus B/Wisconsin/14/2015|Segment:1|Subtype:null|Host:Human\r\n",
      "CY154640\tFluB\tPB2\t2\tgb:CY154640|Organism:Influenza B virus B/Sydney/200/2002|Segment:1|Subtype:null|Host:Human\r\n",
      "CY019665\tFluB\tPB2\t2\tgb:CY019665|Organism:Influenza B virus B/Alaska/03/1992|Segment:1|Subtype:null|Host:Human\r\n",
      "CY115213\tFluB\tPB2\t1\tgb:CY115213|Organism:Influenza B virus B/Panama/45/1990|Segment:1|Subtype:null|Host:Human\r\n",
      "KT866530\tFluB\tPB2\t1\tgb:KT866530|Organism:Influenza B virus B/Minnesota/13/2015|Segment:1|Subtype:null|Host:Human\r\n",
      "CY152792\tFluB\tPB2\t1\tgb:CY152792|Organism:Influenza B virus B/Brisbane/93/2006|Segment:1|Subtype:null|Host:Human\r\n",
      "CY154720\tFluB\tPB2\t1\tgb:CY154720|Organism:Influenza B virus B/Christchurch/241/2004|Segment:1|Subtype:null|Host:Human\r\n",
      "KT866760\tFluB\tPB2\t11\tgb:KT866760|Organism:Influenza B virus B/New York/17/2015|Segment:1|Subtype:null|Host:Human\r\n",
      "JX513099\tFluB\tPB2\t1\tgb:JX513099|Organism:Influenza B virus B/Thailand/CU-B6096/2012|Segment:1|Subtype:null|Host:Human\r\n",
      "CY155360\tFluB\tPB2\t1\tgb:CY155360|Organism:Influenza B virus B/Victoria/504/2005|Segment:1|Subtype:null|Host:Human\r\n",
      "CY018611\tFluB\tPB2\t3\tgb:CY018611|Organism:Influenza B virus B/Argentina/3640/1999|Segment:1|Subtype:null|Host:Human\r\n",
      "CY153832\tFluB\tPB2\t1\tgb:CY153832|Organism:Influenza B virus B/Victoria/512/2010|Segment:1|Subtype:null|Host:Human\r\n",
      "KT855011\tFluB\tPB2\t42\tgb:KT855011|Organism:Influenza B virus B/Texas/12/2015|Segment:1|Subtype:null|Host:Human\r\n",
      "CY153656\tFluB\tPB2\t3\tgb:CY153656|Organism:Influenza B virus B/Sydney/204/2010|Segment:1|Subtype:null|Host:Human\r\n",
      "KT866942\tFluB\tPB2\t1\tgb:KT866942|Organism:Influenza B virus B/Maryland/23/2015|Segment:1|Subtype:null|Host:Human\r\n",
      "CY176207\tFluB\tPB2\t1\tgb:CY176207|Organism:Influenza B virus B/New York/1356/2012|Segment:1|Subtype:null|Host:Human\r\n",
      "CY018851\tFluB\tPB2\t2\tgb:CY018851|Organism:Influenza B virus B/California/01/1995|Segment:1|Subtype:null|Host:Human\r\n",
      "CY153520\tFluB\tPB2\t24\tgb:CY153520|Organism:Influenza B virus B/Sydney/202/2010|Segment:1|Subtype:null|Host:Human\r\n",
      "M14880|O\tFluB\tPB2\t7\tgb:M14880|Organism:Influenza B virus B/lee/40|Segment:1|Subtype:null|Host:Human\r\n",
      "CY154064\tFluB\tPB2\t1\tgb:CY154064|Organism:Influenza B virus B/Brisbane/29/2011|Segment:1|Subtype:null|Host:Human\r\n",
      "CY098973\tFluB\tPB2\t1\tgb:CY098973|Organism:Influenza B virus B/Taiwan/1605/2006|Segment:1|Subtype:null|Host:Human\r\n",
      "CY150497\tFluB\tPB2\t2\tgb:CY150497|Organism:Influenza B virus B/Christchurch/38/2005|Segment:1|Subtype:null|Host:Human\r\n",
      "KT866318\tFluB\tPB2\t12\tgb:KT866318|Organism:Influenza B virus B/Delaware/11/2015|Segment:1|Subtype:null|Host:Human\r\n",
      "KT866886\tFluB\tPB2\t1\tgb:KT866886|Organism:Influenza B virus B/Arizona/01/2015|Segment:1|Subtype:null|Host:Human\r\n",
      "CY156392\tFluB\tPB2\t1\tgb:CY156392|Organism:Influenza B virus B/Brisbane/31/2007|Segment:1|Subtype:null|Host:Human\r\n",
      "KT853238\tFluB\tPB2\t1\tgb:KT853238|Organism:Influenza B virus B/Wisconsin/15/2014|Segment:1|Subtype:null|Host:Human\r\n",
      "JX512987\tFluB\tPB2\t1\tgb:JX512987|Organism:Influenza B virus B/Thailand/CU-B2320/2010|Segment:1|Subtype:null|Host:Human\r\n",
      "KC881800\tH1N1\tPB1\t1\tgb:KC881800|Organism:Influenza A virus A/North Carolina/07/2011|Segment:2|Subtype:H1N1|Host:Human\r\n",
      "CY062839\tH1N1\tNS\t1\tgb:CY062839|Organism:Influenza A virus A/Athens/INS155/2009|Segment:8|Subtype:H1N1|Host:Human\r\n",
      "CY080270\tH1N1\tPB1\t1\tgb:CY080270|Organism:Influenza A virus A/Dundgobi/9746/2009|Segment:2|Subtype:H1N1|Host:Human\r\n",
      "EF626634\tFluB\tPB2\t3\tgb:EF626634|Organism:Influenza B virus B/Vienna/1/99|Segment:1|Subtype:null|Host:Human\r\n",
      "CY156464\tFluB\tPB2\t1\tgb:CY156464|Organism:Influenza B virus B/Sydney/3/2008|Segment:1|Subtype:null|Host:Human\r\n",
      "AF102004\tFluB\tPB2\t3\tgb:AF102004|Organism:Influenza B virus B/Singapore/222/79|Segment:1|Subtype:null|Host:Human\r\n",
      "LN867484\tH1N1\tPB1\t1\tgb:LN867484|Organism:Influenza A virus A/England/01180017/2010|Segment:2|Subtype:H1N1|Host:Human\r\n",
      "CY153952\tFluB\tPB2\t7\tgb:CY153952|Organism:Influenza B virus B/Townsville/4/2011|Segment:1|Subtype:null|Host:Human\r\n",
      "KT866016\tFluB\tPB2\t2\tgb:KT866016|Organism:Influenza B virus B/Washington/61/2015|Segment:1|Subtype:null|Host:Human\r\n",
      "CY154152\tFluB\tPB2\t1\tgb:CY154152|Organism:Influenza B virus B/Auckland/27/2011|Segment:1|Subtype:null|Host:Human\r\n",
      "JX513027\tFluB\tPB2\t5\tgb:JX513027|Organism:Influenza B virus B/Thailand/CU-B2660/2010|Segment:1|Subtype:null|Host:Human\r\n",
      "CY174543\tFluB\tPB2\t1\tgb:CY174543|Organism:Influenza B virus B/New York/1100/2007|Segment:1|Subtype:null|Host:Human\r\n",
      "KT865942\tFluB\tPB2\t3\tgb:KT865942|Organism:Influenza B virus B/Massachusetts/14/2015|Segment:1|Subtype:null|Host:Human\r\n",
      "CY124970\tFluB\tPB2\t2\tgb:CY124970|Organism:Influenza B virus B/Managua/2056.03/2008|Segment:1|Subtype:null|Host:Human\r\n",
      "CY153824\tFluB\tPB2\t1\tgb:CY153824|Organism:Influenza B virus B/Brisbane/38/2010|Segment:1|Subtype:null|Host:Human\r\n",
      "CY152680\tFluB\tPB2\t1\tgb:CY152680|Organism:Influenza B virus B/Sydney/74/2006|Segment:1|Subtype:null|Host:Human\r\n",
      "CY018451\tFluB\tPB2\t1\tgb:CY018451|Organism:Influenza B virus B/Mexico/84/2000|Segment:1|Subtype:null|Host:Human\r\n",
      "KT866768\tFluB\tPB2\t1\tgb:KT866768|Organism:Influenza B virus B/Connecticut/46/2015|Segment:1|Subtype:null|Host:Human\r\n",
      "CY150216\tFluB\tPB2\t2\tgb:CY150216|Organism:Influenza B virus B/Brisbane/19/2010|Segment:1|Subtype:null|Host:Human\r\n",
      "CY068952\tH1N1\tPB1\t1\tgb:CY068952|Organism:Influenza A virus A/Japan/NHRC0004/2009|Segment:2|Subtype:H1N1|Host:Human\r\n",
      "KT854339\tFluB\tPB2\t2\tgb:KT854339|Organism:Influenza B virus B/New York/02/2015|Segment:1|Subtype:null|Host:Human\r\n",
      "CY176367\tFluB\tPB2\t1\tgb:CY176367|Organism:Influenza B virus B/New York/1231/2009|Segment:1|Subtype:null|Host:Human\r\n",
      "CY154272\tFluB\tPB2\t1\tgb:CY154272|Organism:Influenza B virus B/Sydney/19/2011|Segment:1|Subtype:null|Host:Human\r\n",
      "CY154376\tFluB\tPB2\t1\tgb:CY154376|Organism:Influenza B virus B/Sydney/20/2011|Segment:1|Subtype:null|Host:Human\r\n",
      "KT854410\tFluB\tPB2\t1\tgb:KT854410|Organism:Influenza B virus B/Texas/23/2015|Segment:1|Subtype:null|Host:Human\r\n",
      "CY120035\tFluB\tPB2\t10\tgb:CY120035|Organism:Influenza B virus B/Malaysia/24157/2003|Segment:1|Subtype:null|Host:Human\r\n",
      "GQ456063\tFluB\tHA\t1\tgb:GQ456063|Organism:Influenza B virus B/Nairobi/15/2008|Segment:4|Subtype:null|Host:Human\r\n",
      "KT854568\tFluB\tPB2\t29\tgb:KT854568|Organism:Influenza B virus B/Ohio/06/2015|Segment:1|Subtype:null|Host:Human\r\n",
      "KT866959\tFluB\tPB2\t4\tgb:KT866959|Organism:Influenza B virus B/Arizona/08/2015|Segment:1|Subtype:null|Host:Human\r\n",
      "KM100310\tFluB\tPB2\t1\tgb:KM100310|Organism:Influenza B virus B/Thailand/CU-H3496/2012|Segment:1|Subtype:null|Host:Human\r\n",
      "CY019697\tFluB\tPB2\t3\tgb:CY019697|Organism:Influenza B virus B/California/02/1994|Segment:1|Subtype:null|Host:Human\r\n",
      "HM567606\tH1N1\tPB1\t1\tgb:HM567606|Organism:Influenza A virus A/England/328/2009|Segment:2|Subtype:H1N1|Host:Human\r\n",
      "KT854561\tFluB\tPB2\t3\tgb:KT854561|Organism:Influenza B virus B/California/10/2015|Segment:1|Subtype:null|Host:Human\r\n",
      "CY150297\tFluB\tPB2\t1\tgb:CY150297|Organism:Influenza B virus B/South Auckland/2/2011|Segment:1|Subtype:null|Host:Human\r\n",
      "CY115189\tFluB\tPB2\t9\tgb:CY115189|Organism:Influenza B virus B/Wisconsin/01/2010|Segment:1|Subtype:null|Host:Human\r\n",
      "CY119680\tFluB\tPB2\t7\tgb:CY119680|Organism:Influenza B virus B/Malaysia/24651/2003|Segment:1|Subtype:null|Host:Human\r\n",
      "CY018603\tFluB\tPB2\t1\tgb:CY018603|Organism:Influenza B virus B/Paris/549/1999|Segment:1|Subtype:null|Host:Human\r\n",
      "KT853422\tFluB\tPB2\t1\tgb:KT853422|Organism:Influenza B virus B/Texas/04/2015|Segment:1|Subtype:null|Host:Human\r\n",
      "CY151239\tFluB\tPB2\t1\tgb:CY151239|Organism:Influenza B virus B/Victoria/506/2002|Segment:1|Subtype:null|Host:Human\r\n",
      "CY123743\tH1N1\tPB1\t1\tgb:CY123743|Organism:Influenza A virus A/Singapore/ON2081/2009|Segment:2|Subtype:H1N1|Host:Human\r\n",
      "CY069080\tH1N1\tPB1\t1\tgb:CY069080|Organism:Influenza A virus A/Guam/NHRC0024/2009|Segment:2|Subtype:H1N1|Host:Human\r\n",
      "KT866366\tFluB\tPB2\t2\tgb:KT866366|Organism:Influenza B virus B/Utah/31/2015|Segment:1|Subtype:null|Host:Human\r\n",
      "KT259402\tFluB\tHA\t1\tgb:KT259402|Organism:Influenza B virus B/California/NHRC_BRD11934N/2015|Segment:4|Subtype:null|Host:Human\r\n",
      "KT866951\tFluB\tPB2\t1\tgb:KT866951|Organism:Influenza B virus B/Minnesota/21/2015|Segment:1|Subtype:null|Host:Human\r\n",
      "CY119608\tFluB\tPB2\t1\tgb:CY119608|Organism:Influenza B virus B/Malaysia/13367/1999|Segment:1|Subtype:null|Host:Human\r\n",
      "CY018547\tFluB\tPB2\t1\tgb:CY018547|Organism:Influenza B virus B/Bucharest/311/1998|Segment:1|Subtype:null|Host:Human\r\n",
      "CY073747\tH1N1\tPB1\t1\tgb:CY073747|Organism:Influenza A virus A/Copenhagen/INS433/2009|Segment:2|Subtype:H1N1|Host:Human\r\n",
      "KT866712\tFluB\tPB2\t1\tgb:KT866712|Organism:Influenza B virus B/Wisconsin/33/2015|Segment:1|Subtype:null|Host:Human\r\n",
      "CY174167\tFluB\tPB2\t3\tgb:CY174167|Organism:Influenza B virus B/New York/1030/2001|Segment:1|Subtype:null|Host:Human\r\n",
      "DQ792895\tFluB\tPB2\t5\tgb:DQ792895|Organism:Influenza B virus B/Lee/1940|Segment:1|Subtype:null|Host:Human\r\n",
      "KT854894\tFluB\tPB2\t5\tgb:KT854894|Organism:Influenza B virus B/Washington/11/2015|Segment:1|Subtype:null|Host:Human\r\n",
      "KT854890\tFluB\tPB2\t2\tgb:KT854890|Organism:Influenza B virus B/Connecticut/02/2015|Segment:1|Subtype:null|Host:Human\r\n",
      "CY057009\tH1N1\tPB1\t1\tgb:CY057009|Organism:Influenza A virus A/Wisconsin/629-D02367/2009|Segment:2|Subtype:H1N1|Host:Human\r\n",
      "KT853366\tFluB\tPB2\t1\tgb:KT853366|Organism:Influenza B virus B/Nebraska/01/2015|Segment:1|Subtype:null|Host:Human\r\n",
      "KJ532161\tFluB\tPB2\t2\tgb:KJ532161|Organism:Influenza B virus B/Washington/05/2013|Segment:1|Subtype:null|Host:Human\r\n",
      "KT854206\tFluB\tPB2\t6\tgb:KT854206|Organism:Influenza B virus B/Ohio/02/2015|Segment:1|Subtype:null|Host:Human\r\n",
      "CY175399\tFluB\tPB2\t1\tgb:CY175399|Organism:Influenza B virus B/New York/1213/2009|Segment:1|Subtype:null|Host:Human\r\n",
      "KT866510\tFluB\tPB2\t2\tgb:KT866510|Organism:Influenza B virus B/South Dakota/01/2015|Segment:1|Subtype:null|Host:Human\r\n",
      "CY041200\tH1N1\tPB1\t1\tgb:CY041200|Organism:Influenza A virus A/New York/3190/2009|Segment:2|Subtype:H1N1|Host:Human\r\n",
      "KT853658\tFluB\tPB2\t1\tgb:KT853658|Organism:Influenza B virus B/Hawaii/11/2015|Segment:1|Subtype:null|Host:Human\r\n",
      "CY174695\tFluB\tPB2\t1\tgb:CY174695|Organism:Influenza B virus B/New York/1121/2007|Segment:1|Subtype:null|Host:Human\r\n",
      "CY153504\tFluB\tPB2\t1\tgb:CY153504|Organism:Influenza B virus B/Brisbane/3/2010|Segment:1|Subtype:null|Host:Human\r\n",
      "CY156968\tFluB\tPB2\t1\tgb:CY156968|Organism:Influenza B virus B/Tennessee/F2013/2011|Segment:1|Subtype:null|Host:Human\r\n",
      "KT854239\tFluB\tPB2\t2\tgb:KT854239|Organism:Influenza B virus B/Texas/09/2015|Segment:1|Subtype:null|Host:Human\r\n",
      "CY154368\tFluB\tPB2\t1\tgb:CY154368|Organism:Influenza B virus B/Victoria/25/2011|Segment:1|Subtype:null|Host:Human\r\n",
      "CY156256\tFluB\tPB2\t2\tgb:CY156256|Organism:Influenza B virus B/Brisbane/23/2007|Segment:1|Subtype:null|Host:Human\r\n",
      "KM063796\tFluB\tPB2\t1\tgb:KM063796|Organism:Influenza B virus B/Wisconsin/02/2014|Segment:1|Subtype:null|Host:Human\r\n",
      "KT854288\tFluB\tPB2\t1\tgb:KT854288|Organism:Influenza B virus B/Virginia/03/2015|Segment:1|Subtype:null|Host:Human\r\n",
      "KT854255\tFluB\tPB2\t3\tgb:KT854255|Organism:Influenza B virus B/Minnesota/01/2015|Segment:1|Subtype:null|Host:Human\r\n",
      "CY153472\tFluB\tPB2\t3\tgb:CY153472|Organism:Influenza B virus B/Brisbane/1/2010|Segment:1|Subtype:null|Host:Human\r\n",
      "CY182407\tFluB\tPB2\t1\tgb:CY182407|Organism:Influenza B virus B/Nicaragua/AGB2-43/2012|Segment:1|Subtype:null|Host:Human\r\n",
      "KT854418\tFluB\tPB2\t1\tgb:KT854418|Organism:Influenza B virus B/Texas/17/2015|Segment:1|Subtype:null|Host:Human\r\n",
      "CY115197\tFluB\tPB2\t3\tgb:CY115197|Organism:Influenza B virus B/Hong Kong/259/2010|Segment:1|Subtype:null|Host:Human\r\n",
      "CY150489\tFluB\tPB2\t1\tgb:CY150489|Organism:Influenza B virus B/Christchurch/8/2005|Segment:1|Subtype:null|Host:Human\r\n",
      "CY153680\tFluB\tPB2\t1\tgb:CY153680|Organism:Influenza B virus B/Sydney/3/2010|Segment:1|Subtype:null|Host:Human\r\n",
      "CY156664\tFluB\tPB2\t1\tgb:CY156664|Organism:Influenza B virus B/Brisbane/104/2008|Segment:1|Subtype:null|Host:Human\r\n",
      "CY155152\tFluB\tPB2\t1\tgb:CY155152|Organism:Influenza B virus B/Sydney/6/2004|Segment:1|Subtype:null|Host:Human\r\n",
      "CY154448\tFluB\tPB2\t1\tgb:CY154448|Organism:Influenza B virus B/Auckland/65/2011|Segment:1|Subtype:null|Host:Human\r\n",
      "CY152848\tFluB\tPB2\t1\tgb:CY152848|Organism:Influenza B virus B/Christchurch/16/2007|Segment:1|Subtype:null|Host:Human\r\n",
      "CY111737\tH1N1\tPB1\t1\tgb:CY111737|Organism:Influenza A virus A/Hong Kong/H090-698-V10/2009|Segment:2|Subtype:H1N1|Host:Human\r\n",
      "CY174423\tFluB\tPB2\t1\tgb:CY174423|Organism:Influenza B virus B/New York/1066/2004|Segment:1|Subtype:null|Host:Human\r\n",
      "GQ223442\tH1N1\tPB1\t2\tgb:GQ223442|Organism:Influenza A virus A/Guangdong/1/2009|Segment:2|Subtype:H1N1|Host:Human\r\n",
      "KF897799\tH1N1\tPB1\t1\tgb:KF897799|Organism:Influenza A virus A/Limoges/1159/2010|Segment:2|Subtype:H1N1|Host:Human\r\n",
      "CY172149\tFluB\tPB2\t4\tgb:CY172149|Organism:Influenza B virus B/Chicago/YGB_04007/2013|Segment:1|Subtype:null|Host:Human\r\n",
      "CY175455\tFluB\tPB2\t1\tgb:CY175455|Organism:Influenza B virus B/New York/1220/2009|Segment:1|Subtype:null|Host:Human\r\n",
      "CY056018\tH1N1\tPB1\t1\tgb:CY056018|Organism:Influenza A virus A/San Diego/INS11/2009|Segment:2|Subtype:H1N1|Host:Human\r\n",
      "CY175327\tFluB\tPB2\t1\tgb:CY175327|Organism:Influenza B virus B/New York/1204/2009|Segment:1|Subtype:null|Host:Human\r\n",
      "CY156424\tFluB\tPB2\t1\tgb:CY156424|Organism:Influenza B virus B/Brisbane/10/2008|Segment:1|Subtype:null|Host:Human\r\n",
      "KT853486\tFluB\tPB2\t2\tgb:KT853486|Organism:Influenza B virus B/Washington/02/2015|Segment:1|Subtype:null|Host:Human\r\n",
      "CY176183\tFluB\tPB2\t1\tgb:CY176183|Organism:Influenza B virus B/New York/1353/2012|Segment:1|Subtype:null|Host:Human\r\n",
      "KT854195\tFluB\tPB2\t1\tgb:KT854195|Organism:Influenza B virus B/Illinois/06/2015|Segment:1|Subtype:null|Host:Human\r\n",
      "KT866610\tFluB\tPB2\t1\tgb:KT866610|Organism:Influenza B virus B/Alaska/08/2015|Segment:1|Subtype:null|Host:Human\r\n",
      "CY045952\tH1N1\tPB1\t1\tgb:CY045952|Organism:Influenza A virus A/Toronto/T0106/2009|Segment:2|Subtype:H1N1|Host:Human\r\n",
      "KC781727\tH1N1\tPB1\t1\tgb:KC781727|Organism:Influenza A virus A/Oregon/30/2009|Segment:2|Subtype:H1N1|Host:Human\r\n",
      "CY175639\tFluB\tPB2\t1\tgb:CY175639|Organism:Influenza B virus B/New York/1255/2011|Segment:1|Subtype:null|Host:Human\r\n",
      "KT866976\tFluB\tPB2\t1\tgb:KT866976|Organism:Influenza B virus B/Alaska/27/2015|Segment:1|Subtype:null|Host:Human\r\n",
      "KT853138\tFluB\tPB2\t8\tgb:KT853138|Organism:Influenza B virus B/Hawaii/02/2015|Segment:1|Subtype:null|Host:Human\r\n",
      "CY153512\tFluB\tPB2\t1\tgb:CY153512|Organism:Influenza B virus B/Sydney/201/2010|Segment:1|Subtype:null|Host:Human\r\n",
      "AX399743\tFluB\tPB2\t19\tgb:AX399743|Organism:Influenza B virus B/Vienna/1/99|Segment:1|Subtype:null|Host:Human\r\n",
      "KT854540\tFluB\tPB2\t11\tgb:KT854540|Organism:Influenza B virus B/Ohio/05/2015|Segment:1|Subtype:null|Host:Human\r\n",
      "KT853337\tFluB\tPB2\t1\tgb:KT853337|Organism:Influenza B virus B/Wisconsin/16/2014|Segment:1|Subtype:null|Host:Human\r\n",
      "KT854625\tFluB\tPB2\t4\tgb:KT854625|Organism:Influenza B virus B/Georgia/02/2015|Segment:1|Subtype:null|Host:Human\r\n",
      "CY151407\tFluB\tPB2\t1\tgb:CY151407|Organism:Influenza B virus B/Townsville/5/2002|Segment:1|Subtype:null|Host:Human\r\n",
      "CY153104\tFluB\tPB2\t1\tgb:CY153104|Organism:Influenza B virus B/Sydney/27/2008|Segment:1|Subtype:null|Host:Human\r\n",
      "CY176055\tFluB\tPB2\t1\tgb:CY176055|Organism:Influenza B virus B/New York/1337/2012|Segment:1|Subtype:null|Host:Human\r\n",
      "CY018067\tFluB\tPB2\t10\tgb:CY018067|Organism:Influenza B virus B/Temple/B7/1999|Segment:1|Subtype:null|Host:Human\r\n",
      "CY150457\tFluB\tPB2\t1\tgb:CY150457|Organism:Influenza B virus B/Christchurch/402/2004|Segment:1|Subtype:null|Host:Human\r\n",
      "CY174175\tFluB\tPB2\t3\tgb:CY174175|Organism:Influenza B virus B/New York/1031/2001|Segment:1|Subtype:null|Host:Human\r\n",
      "CY191497\tFluB\tPB2\t1\tgb:CY191497|Organism:Influenza B virus B/New York/WC-LVD-14-019/2014|Segment:1|Subtype:null|Host:Human\r\n",
      "CY123216\tH1N1\tPB1\t1\tgb:CY123216|Organism:Influenza A virus A/Singapore/GP4012/2009|Segment:2|Subtype:H1N1|Host:Human\r\n",
      "CY154592\tFluB\tPB2\t1\tgb:CY154592|Organism:Influenza B virus B/Sydney/34/2011|Segment:1|Subtype:null|Host:Human\r\n",
      "CY155008\tFluB\tPB2\t1\tgb:CY155008|Organism:Influenza B virus B/Sydney/200/2004|Segment:1|Subtype:null|Host:Human\r\n",
      "CY018587\tFluB\tPB2\t2\tgb:CY018587|Organism:Influenza B virus B/Georgia/04/1998|Segment:1|Subtype:null|Host:Human\r\n",
      "CY174439\tFluB\tPB2\t7\tgb:CY174439|Organism:Influenza B virus B/New York/1068/2005|Segment:1|Subtype:null|Host:Human\r\n",
      "KJ532246\tFluB\tPB2\t2\tgb:KJ532246|Organism:Influenza B virus B/Michigan/02/2013|Segment:1|Subtype:null|Host:Human\r\n",
      "CY153904\tFluB\tPB2\t1\tgb:CY153904|Organism:Influenza B virus B/South Auckland/1/2011|Segment:1|Subtype:null|Host:Human\r\n",
      "KF612266\tFluB\tPB1\t4\tgb:KF612266|Organism:Influenza B virus B/Santa Cruz/28/2012|Segment:2|Subtype:null|Host:Human\r\n",
      "CY018443\tFluB\tPB2\t1\tgb:CY018443|Organism:Influenza B virus B/Brazil/975/2000|Segment:1|Subtype:null|Host:Human\r\n",
      "CY155344\tFluB\tPB2\t1\tgb:CY155344|Organism:Influenza B virus B/Waikato/5/2005|Segment:1|Subtype:null|Host:Human\r\n",
      "CY018619\tFluB\tPB2\t1\tgb:CY018619|Organism:Influenza B virus B/Johannesburg/05/1999|Segment:1|Subtype:null|Host:Human\r\n",
      "CY120008\tFluB\tPB2\t24\tgb:CY120008|Organism:Influenza B virus B/Malaysia/1919534/2008|Segment:1|Subtype:null|Host:Human\r\n",
      "EF626642\tFluB\tPB2\t23\tgb:EF626642|Organism:Influenza B virus B/Russia/69|Segment:1|Subtype:null|Host:LAB\r\n",
      "CY153616\tFluB\tPB2\t4\tgb:CY153616|Organism:Influenza B virus B/Brisbane/11/2010|Segment:1|Subtype:null|Host:Human\r\n",
      "CY155200\tFluB\tPB2\t1\tgb:CY155200|Organism:Influenza B virus B/Victoria/515/2004|Segment:1|Subtype:null|Host:Human\r\n",
      "JX513179\tFluB\tPB2\t2\tgb:JX513179|Organism:Influenza B virus B/Thailand/CU-H2738/2010|Segment:1|Subtype:null|Host:Human\r\n",
      "CY154344\tFluB\tPB2\t2\tgb:CY154344|Organism:Influenza B virus B/Sydney/44/2011|Segment:1|Subtype:null|Host:Human\r\n",
      "CY019729\tFluB\tPB2\t1\tgb:CY019729|Organism:Influenza B virus B/Romania/318/1998|Segment:1|Subtype:null|Host:Human\r\n",
      "KC866603\tFluB\tPB2\t16\tgb:KC866603|Organism:Influenza B virus B/Brisbane/60/2008|Segment:1|Subtype:null|Host:Human\r\n",
      "KT866605\tFluB\tPB2\t1\tgb:KT866605|Organism:Influenza B virus B/Washington/13/2015|Segment:1|Subtype:null|Host:Human\r\n",
      "CY150240\tFluB\tPB2\t4\tgb:CY150240|Organism:Influenza B virus B/Townsville/4/2010|Segment:1|Subtype:null|Host:Human\r\n",
      "CY153752\tFluB\tPB2\t1\tgb:CY153752|Organism:Influenza B virus B/Sydney/7/2010|Segment:1|Subtype:null|Host:Human\r\n",
      "CY150013\tFluB\tPB2\t1\tgb:CY150013|Organism:Influenza B virus B/Auckland/64/2008|Segment:1|Subtype:null|Host:Human\r\n",
      "CY150409\tFluB\tPB2\t1\tgb:CY150409|Organism:Influenza B virus B/Victoria/508/2004|Segment:1|Subtype:null|Host:Human\r\n",
      "KT853145\tFluB\tPB2\t1\tgb:KT853145|Organism:Influenza B virus B/Colorado/02/2014|Segment:1|Subtype:null|Host:Human\r\n",
      "CY154224\tFluB\tPB2\t4\tgb:CY154224|Organism:Influenza B virus B/Christchurch/25/2011|Segment:1|Subtype:null|Host:Human\r\n",
      "CY153696\tFluB\tPB2\t9\tgb:CY153696|Organism:Influenza B virus B/Sydney/4/2010|Segment:1|Subtype:null|Host:Human\r\n",
      "KT866869\tFluB\tPB2\t1\tgb:KT866869|Organism:Influenza B virus B/Nevada/10/2015|Segment:1|Subtype:null|Host:Human\r\n",
      "CY018475\tFluB\tPB2\t3\tgb:CY018475|Organism:Influenza B virus B/Alaska/16/2000|Segment:1|Subtype:null|Host:Human\r\n",
      "M20169|O\tFluB\tPB2\t1\tgb:M20169|Organism:Influenza B virus B/Ann Arbor/1/66 (cold-adapted)|Segment:1|Subtype:null|Host:Human\r\n",
      "KT866350\tFluB\tPB2\t1\tgb:KT866350|Organism:Influenza B virus B/New Jersey/11/2015|Segment:1|Subtype:null|Host:Human\r\n",
      "JX513083\tFluB\tPB2\t6\tgb:JX513083|Organism:Influenza B virus B/Thailand/CU-B5910/2011|Segment:1|Subtype:null|Host:Human\r\n",
      "KT854740\tFluB\tPB2\t2\tgb:KT854740|Organism:Influenza B virus B/Texas/49/2015|Segment:1|Subtype:null|Host:Human\r\n",
      "KC780339\tH1N1\tPB1\t1\tgb:KC780339|Organism:Influenza A virus A/New York/102/2009|Segment:2|Subtype:H1N1|Host:Human\r\n",
      "KT866492\tFluB\tPB2\t2\tgb:KT866492|Organism:Influenza B virus B/Florida/42/2015|Segment:1|Subtype:null|Host:Human\r\n",
      "KT854942\tFluB\tPB2\t2\tgb:KT854942|Organism:Influenza B virus B/Montana/06/2015|Segment:1|Subtype:null|Host:Human\r\n",
      "CY051701\tH1N1\tPB1\t1\tgb:CY051701|Organism:Influenza A virus A/New York/4777/2009|Segment:2|Subtype:H1N1|Host:Human\r\n",
      "KT853385\tFluB\tPB2\t5\tgb:KT853385|Organism:Influenza B virus B/Pennsylvania/04/2015|Segment:1|Subtype:null|Host:Human\r\n",
      "CY018531\tFluB\tPB2\t1\tgb:CY018531|Organism:Influenza B virus B/Nepal/1331/2005|Segment:1|Subtype:null|Host:Human\r\n",
      "CY182463\tFluB\tPB2\t1\tgb:CY182463|Organism:Influenza B virus B/Nicaragua/AGB2-11/2012|Segment:1|Subtype:null|Host:Human\r\n",
      "CY153592\tFluB\tPB2\t2\tgb:CY153592|Organism:Influenza B virus B/Townsville/1/2010|Segment:1|Subtype:null|Host:Human\r\n",
      "CY174207\tFluB\tPB2\t1\tgb:CY174207|Organism:Influenza B virus B/New York/1035/2001|Segment:1|Subtype:null|Host:Human\r\n",
      "KT866526\tFluB\tPB2\t2\tgb:KT866526|Organism:Influenza B virus B/Iowa/14/2015|Segment:1|Subtype:null|Host:Human\r\n",
      "AY582055\tFluB\tPB2\t1\tgb:AY582055|Organism:Influenza B virus B/Nebraska/1/01|Segment:1|Subtype:null|Host:Human\r\n",
      "CY031785\tFluB\tPB2\t1\tgb:CY031785|Organism:Influenza B virus B/Taiwan/539/2005|Segment:1|Subtype:null|Host:Human\r\n",
      "CY018499\tFluB\tPB2\t1\tgb:CY018499|Organism:Influenza B virus B/Hong Kong/542/2000|Segment:1|Subtype:null|Host:Human\r\n",
      "CY018827\tFluB\tPB2\t1\tgb:CY018827|Organism:Influenza B virus B/Mie/01/1993|Segment:1|Subtype:null|Host:Human\r\n",
      "CY153600\tFluB\tPB2\t2\tgb:CY153600|Organism:Influenza B virus B/Victoria/508/2010|Segment:1|Subtype:null|Host:Human\r\n",
      "CY154408\tFluB\tPB2\t1\tgb:CY154408|Organism:Influenza B virus B/Sydney/53/2011|Segment:1|Subtype:null|Host:Human\r\n",
      "CY118353\tFluB\tPB2\t1\tgb:CY118353|Organism:Influenza B virus B/Malaysia/34611/2006|Segment:1|Subtype:null|Host:Human\r\n",
      "CY019497\tFluB\tPB2\t1\tgb:CY019497|Organism:Influenza B virus B/Singapore/35/1998|Segment:1|Subtype:null|Host:Human\r\n",
      "JX512979\tFluB\tPB2\t3\tgb:JX512979|Organism:Influenza B virus B/Thailand/CU-B2271/2010|Segment:1|Subtype:null|Host:Human\r\n",
      "JX513067\tFluB\tPB2\t3\tgb:JX513067|Organism:Influenza B virus B/Thailand/CU-B5671/2011|Segment:1|Subtype:null|Host:Human\r\n",
      "CY153608\tFluB\tPB2\t25\tgb:CY153608|Organism:Influenza B virus B/Sydney/5/2010|Segment:1|Subtype:null|Host:Human\r\n",
      "CY099400\tFluB\tPB2\t2\tgb:CY099400|Organism:Influenza B virus B/South Carolina/NHRC0001/2000|Segment:1|Subtype:null|Host:Human\r\n",
      "JX513163\tFluB\tPB2\t3\tgb:JX513163|Organism:Influenza B virus B/Thailand/CU-H2132/2010|Segment:1|Subtype:null|Host:Human\r\n",
      "KT854376\tFluB\tPB2\t1\tgb:KT854376|Organism:Influenza B virus B/California/09/2015|Segment:1|Subtype:null|Host:Human\r\n",
      "AY504600\tFluB\tPB2\t37\tgb:AY504600|Organism:Influenza B virus B/Victoria/504/2000|Segment:1|Subtype:null|Host:Human\r\n",
      "KT855047\tFluB\tPB2\t1\tgb:KT855047|Organism:Influenza B virus B/New York/03/2015|Segment:1|Subtype:null|Host:Human\r\n",
      "KT866853\tFluB\tPB2\t2\tgb:KT866853|Organism:Influenza B virus B/Utah/32/2015|Segment:1|Subtype:null|Host:Human\r\n",
      "CY174119\tFluB\tPB2\t3\tgb:CY174119|Organism:Influenza B virus B/New York/1024/2001|Segment:1|Subtype:null|Host:Human\r\n",
      "CY152880\tFluB\tPB2\t1\tgb:CY152880|Organism:Influenza B virus B/Victoria/207/2007|Segment:1|Subtype:null|Host:Human\r\n",
      "CY051861\tH1N1\tPB1\t1\tgb:CY051861|Organism:Influenza A virus A/Texas/42122969/2009|Segment:2|Subtype:H1N1|Host:Human\r\n",
      "CY153848\tFluB\tPB2\t1\tgb:CY153848|Organism:Influenza B virus B/Brisbane/41/2010|Segment:1|Subtype:null|Host:Human\r\n",
      "KT853319\tFluB\tPB2\t1\tgb:KT853319|Organism:Influenza B virus B/Wisconsin/02/2015|Segment:1|Subtype:null|Host:Human\r\n",
      "CY057940\tH1N1\tPB1\t1\tgb:CY057940|Organism:Influenza A virus A/Wisconsin/629-D00968/2009|Segment:2|Subtype:H1N1|Host:Human\r\n",
      "CY153168\tFluB\tPB2\t1\tgb:CY153168|Organism:Influenza B virus B/Sydney/21/2008|Segment:1|Subtype:null|Host:Human\r\n",
      "CY150654\tFluB\tPB2\t1\tgb:CY150654|Organism:Influenza B virus B/Brisbane/12/2007|Segment:1|Subtype:null|Host:Human\r\n",
      "KC709815\tFluB\tPB2\t1\tgb:KC709815|Organism:Influenza B virus B/Riyadh/01/2010|Segment:1|Subtype:null|Host:Human\r\n",
      "KT854544\tFluB\tPB2\t1\tgb:KT854544|Organism:Influenza B virus B/Pennsylvania/06/2015|Segment:1|Subtype:null|Host:Human\r\n",
      "LC033343\tFluB\tPB2\t1\tgb:LC033343|Organism:Influenza B virus B/Nagasaki/13N035/2014|Segment:1|Subtype:null|Host:Human\r\n",
      "CY154120\tFluB\tPB2\t2\tgb:CY154120|Organism:Influenza B virus B/Christchurch/101/2011|Segment:1|Subtype:null|Host:Human\r\n",
      "CY175503\tFluB\tPB2\t2\tgb:CY175503|Organism:Influenza B virus B/New York/1235/2009|Segment:1|Subtype:null|Host:Human\r\n",
      "JN899474\tFluB\tPB2\t1\tgb:JN899474|Organism:Influenza B virus B/Michigan/02/2009|Segment:1|Subtype:null|Host:Human\r\n",
      "CY153744\tFluB\tPB2\t1\tgb:CY153744|Organism:Influenza B virus B/Sydney/507/2010|Segment:1|Subtype:null|Host:Human\r\n"
     ]
    }
   ],
   "source": [
    "seg='PB2'\n",
    "\n",
    "cd /home/alan/projects/MinION-notebook/clinical-analysis/blast-result-comparison/segment-cross-contamination\n",
    "\n",
    "samtools view flu-11-9.2d.mapped-only.bam | grep $seg | cut -f1,10 | perl -pe 's/^(.+)\\t(.+)/>$1\\n$2/g' > flu-11-9.2d.mapped-only.$seg.fasta\n",
    "\n",
    "blastn -db ~/projects/MinION-notebook/clinical-analysis/fludb/all-H1N1-H3N2-FluB-full-segs.fasta -query flu-11-9.2d.mapped-only.$seg.fasta -out flu-11-9.2d.mapped-only.$seg.blastn.xml -outfmt 5 -evalue 0.00005 -culling_limit 2 -max_target_seqs 1 -num_threads 40\n",
    "\n",
    "python ~/projects/MinION-notebook/scripts/read-fludb-blastxml.py flu-11-9.2d.mapped-only.$seg.blastn.xml"
   ]
  },
  {
   "cell_type": "code",
   "execution_count": 5,
   "metadata": {
    "ExecuteTime": {
     "end_time": "2016-03-23T15:25:08.297734",
     "start_time": "2016-03-23T15:25:04.925233"
    },
    "collapsed": false,
    "run_control": {
     "marked": false
    }
   },
   "outputs": [
    {
     "name": "stdout",
     "output_type": "stream",
     "text": [
      "CY120009\tFluB\tPB1\t6\tgb:CY120009|Organism:Influenza B virus B/Malaysia/1919534/2008|Segment:2|Subtype:null|Host:Human\r\n",
      "KT866512\tFluB\tPB1\t1\tgb:KT866512|Organism:Influenza B virus B/South Dakota/01/2015|Segment:2|Subtype:null|Host:Human\r\n",
      "KT855018\tFluB\tPB1\t4\tgb:KT855018|Organism:Influenza B virus B/Ohio/02/2015|Segment:2|Subtype:null|Host:Human\r\n",
      "CY098922\tFluB\tPB1\t1\tgb:CY098922|Organism:Influenza B virus B/California/NHRC0007/2005|Segment:2|Subtype:null|Host:Human\r\n",
      "CY115134\tFluB\tPB1\t1\tgb:CY115134|Organism:Influenza B virus B/Pennsylvania/07/2007|Segment:2|Subtype:null|Host:Human\r\n",
      "CY033923\tFluB\tPB1\t1\tgb:CY033923|Organism:Influenza B virus B/Taiwan/783/2005|Segment:2|Subtype:null|Host:Human\r\n",
      "CY115262\tFluB\tPB1\t1\tgb:CY115262|Organism:Influenza B virus B/Bangladesh/3333/2007|Segment:2|Subtype:null|Host:Human\r\n",
      "KT866862\tFluB\tPB1\t1\tgb:KT866862|Organism:Influenza B virus B/Florida/42/2015|Segment:2|Subtype:null|Host:Human\r\n",
      "KT853292\tFluB\tPB1\t1\tgb:KT853292|Organism:Influenza B virus B/Pennsylvania/08/2014|Segment:2|Subtype:null|Host:Human\r\n",
      "KT866943\tFluB\tPB1\t1\tgb:KT866943|Organism:Influenza B virus B/Maryland/23/2015|Segment:2|Subtype:null|Host:Human\r\n",
      "KT854947\tFluB\tPB1\t4\tgb:KT854947|Organism:Influenza B virus B/Ohio/04/2015|Segment:2|Subtype:null|Host:Human\r\n",
      "CY150362\tFluB\tPB1\t1\tgb:CY150362|Organism:Influenza B virus B/Sydney/1/2004|Segment:2|Subtype:null|Host:Human\r\n",
      "CY155417\tFluB\tPB1\t1\tgb:CY155417|Organism:Influenza B virus B/Waikato/70/2005|Segment:2|Subtype:null|Host:Human\r\n",
      "CY018340\tFluB\tPB1\t1\tgb:CY018340|Organism:Influenza B virus B/Houston/B846/2005|Segment:2|Subtype:null|Host:Human\r\n",
      "KT854450\tFluB\tPB1\t1\tgb:KT854450|Organism:Influenza B virus B/Minnesota/12/2015|Segment:2|Subtype:null|Host:Human\r\n",
      "KT866319\tFluB\tPB1\t2\tgb:KT866319|Organism:Influenza B virus B/Delaware/11/2015|Segment:2|Subtype:null|Host:Human\r\n",
      "KT853347\tFluB\tPB1\t1\tgb:KT853347|Organism:Influenza B virus B/Alaska/30/2014|Segment:2|Subtype:null|Host:Human\r\n",
      "CY176040\tFluB\tPB1\t1\tgb:CY176040|Organism:Influenza B virus B/New York/1335/2012|Segment:2|Subtype:null|Host:Human\r\n",
      "KT853365\tFluB\tPB1\t7\tgb:KT853365|Organism:Influenza B virus B/Texas/01/2015|Segment:2|Subtype:null|Host:Human\r\n",
      "KT853432\tFluB\tPB1\t2\tgb:KT853432|Organism:Influenza B virus B/Wyoming/03/2015|Segment:2|Subtype:null|Host:Human\r\n",
      "CY155921\tFluB\tPB1\t1\tgb:CY155921|Organism:Influenza B virus B/Christchurch/1002/2007|Segment:2|Subtype:null|Host:Human\r\n",
      "CY099465\tFluB\tPB1\t1\tgb:CY099465|Organism:Influenza B virus B/Texas/NHRC0001/2005|Segment:2|Subtype:null|Host:Human\r\n",
      "CY150466\tFluB\tPB1\t1\tgb:CY150466|Organism:Influenza B virus B/Waikato/1/2005|Segment:2|Subtype:null|Host:Human\r\n",
      "CY156545\tFluB\tPB1\t1\tgb:CY156545|Organism:Influenza B virus B/Wellington/9/2008|Segment:2|Subtype:null|Host:Human\r\n",
      "CY156601\tFluB\tPB1\t2\tgb:CY156601|Organism:Influenza B virus B/Wellington/19/2008|Segment:2|Subtype:null|Host:Human\r\n",
      "KT866970\tFluB\tPB1\t1\tgb:KT866970|Organism:Influenza B virus B/Alaska/25/2015|Segment:2|Subtype:null|Host:Human\r\n",
      "KT854490\tFluB\tPB1\t1\tgb:KT854490|Organism:Influenza B virus B/Texas/21/2015|Segment:2|Subtype:null|Host:Human\r\n",
      "KT866984\tFluB\tPB1\t2\tgb:KT866984|Organism:Influenza B virus B/Alaska/28/2015|Segment:2|Subtype:null|Host:Human\r\n",
      "KT854905\tFluB\tPB1\t3\tgb:KT854905|Organism:Influenza B virus B/Washington/14/2015|Segment:2|Subtype:null|Host:Human\r\n",
      "CY115278\tFluB\tPB1\t1\tgb:CY115278|Organism:Influenza B virus B/England/145/2008|Segment:2|Subtype:null|Host:Human\r\n",
      "CY018604\tFluB\tPB1\t1\tgb:CY018604|Organism:Influenza B virus B/Paris/549/1999|Segment:2|Subtype:null|Host:Human\r\n",
      "KT855012\tFluB\tPB1\t1\tgb:KT855012|Organism:Influenza B virus B/Texas/12/2015|Segment:2|Subtype:null|Host:Human\r\n",
      "KM100333\tFluB\tPB1\t1\tgb:KM100333|Organism:Influenza B virus B/Thailand/CU-A645/2014|Segment:2|Subtype:null|Host:Human\r\n",
      "KT866293\tFluB\tPB1\t1\tgb:KT866293|Organism:Influenza B virus B/Maryland/20/2015|Segment:2|Subtype:null|Host:Human\r\n",
      "KT855060\tFluB\tPB1\t1\tgb:KT855060|Organism:Influenza B virus B/Alaska/46/2015|Segment:2|Subtype:null|Host:Human\r\n",
      "KT866157\tFluB\tPB1\t1\tgb:KT866157|Organism:Influenza B virus B/Alaska/41/2015|Segment:2|Subtype:null|Host:Human\r\n",
      "KT866230\tFluB\tPB1\t1\tgb:KT866230|Organism:Influenza B virus B/Utah/38/2015|Segment:2|Subtype:null|Host:Human\r\n",
      "CY152184\tFluB\tPB1\t1\tgb:CY152184|Organism:Influenza B virus B/Sydney/15/2005|Segment:2|Subtype:null|Host:Human\r\n",
      "KT855040\tFluB\tPB1\t1\tgb:KT855040|Organism:Influenza B virus B/Utah/04/2015|Segment:2|Subtype:null|Host:Human\r\n",
      "KT854449\tFluB\tPB1\t1\tgb:KT854449|Organism:Influenza B virus B/Texas/17/2015|Segment:2|Subtype:null|Host:Human\r\n",
      "KT854207\tFluB\tPB1\t1\tgb:KT854207|Organism:Influenza B virus B/Maine/03/2015|Segment:2|Subtype:null|Host:Human\r\n",
      "KT854742\tFluB\tPB1\t1\tgb:KT854742|Organism:Influenza B virus B/Alabama/01/2015|Segment:2|Subtype:null|Host:Human\r\n",
      "CY150434\tFluB\tPB1\t2\tgb:CY150434|Organism:Influenza B virus B/Otago/03/2004|Segment:2|Subtype:null|Host:Human\r\n",
      "KT854642\tFluB\tPB1\t1\tgb:KT854642|Organism:Influenza B virus B/Texas/05/2015|Segment:2|Subtype:null|Host:Human\r\n",
      "CY191426\tFluB\tPB1\t3\tgb:CY191426|Organism:Influenza B virus B/New York/WC-LVD-14-009/2014|Segment:2|Subtype:null|Host:Human\r\n",
      "KT854393\tFluB\tPB1\t1\tgb:KT854393|Organism:Influenza B virus B/Ohio/05/2015|Segment:2|Subtype:null|Host:Human\r\n",
      "CY191610\tFluB\tPB1\t1\tgb:CY191610|Organism:Influenza B virus B/New York/WC-LVD-14-034/2014|Segment:2|Subtype:null|Host:Human\r\n",
      "KT854814\tFluB\tPB1\t1\tgb:KT854814|Organism:Influenza B virus B/Washington/11/2015|Segment:2|Subtype:null|Host:Human\r\n",
      "KT854813\tFluB\tPB1\t1\tgb:KT854813|Organism:Influenza B virus B/Wisconsin/13/2015|Segment:2|Subtype:null|Host:Human\r\n",
      "CY174712\tFluB\tPB1\t1\tgb:CY174712|Organism:Influenza B virus B/New York/1123/2007|Segment:2|Subtype:null|Host:Human\r\n",
      "AF005737\tFluB\tPB1\t1\tgb:AF005737|Organism:Influenza B virus B/Panama/45/90|Segment:2|Subtype:null|Host:Human\r\n",
      "CY175520\tFluB\tPB1\t2\tgb:CY175520|Organism:Influenza B virus B/New York/1239/2010|Segment:2|Subtype:null|Host:Human\r\n",
      "CY019666\tFluB\tPB1\t1\tgb:CY019666|Organism:Influenza B virus B/Alaska/03/1992|Segment:2|Subtype:null|Host:Human\r\n",
      "CY018836\tFluB\tPB1\t1\tgb:CY018836|Organism:Influenza B virus B/Taiwan/1197/1994|Segment:2|Subtype:null|Host:Human\r\n",
      "EU305612\tFluB\tPB1\t4\tgb:EU305612|Organism:Influenza B virus B/Guangzhou/01/2007|Segment:2|Subtype:null|Host:Human\r\n",
      "KT866004\tFluB\tPB1\t1\tgb:KT866004|Organism:Influenza B virus B/Iowa/26/2015|Segment:2|Subtype:null|Host:Human\r\n",
      "CY172158\tFluB\tPB1\t1\tgb:CY172158|Organism:Influenza B virus B/Chicago/YGB_04008/2013|Segment:2|Subtype:null|Host:Human\r\n",
      "KT854958\tFluB\tPB1\t1\tgb:KT854958|Organism:Influenza B virus B/Wisconsin/06/2015|Segment:2|Subtype:null|Host:Human\r\n"
     ]
    }
   ],
   "source": [
    "seg='PB1'\n",
    "\n",
    "cd /home/alan/projects/MinION-notebook/clinical-analysis/blast-result-comparison/segment-cross-contamination\n",
    "\n",
    "samtools view flu-11-9.2d.mapped-only.bam | grep $seg | cut -f1,10 | perl -pe 's/^(.+)\\t(.+)/>$1\\n$2/g' > flu-11-9.2d.mapped-only.$seg.fasta\n",
    "\n",
    "blastn -db ~/projects/MinION-notebook/clinical-analysis/fludb/all-H1N1-H3N2-FluB-full-segs.fasta -query flu-11-9.2d.mapped-only.$seg.fasta -out flu-11-9.2d.mapped-only.$seg.blastn.xml -outfmt 5 -evalue 0.00005 -culling_limit 2 -max_target_seqs 1 -num_threads 40\n",
    "\n",
    "python ~/projects/MinION-notebook/scripts/read-fludb-blastxml.py flu-11-9.2d.mapped-only.$seg.blastn.xml"
   ]
  },
  {
   "cell_type": "code",
   "execution_count": 6,
   "metadata": {
    "ExecuteTime": {
     "end_time": "2016-03-23T15:25:08.297734",
     "start_time": "2016-03-23T15:25:04.925233"
    },
    "collapsed": false,
    "run_control": {
     "marked": false
    }
   },
   "outputs": [
    {
     "name": "stdout",
     "output_type": "stream",
     "text": [
      "LC033197\tFluB\tNS\t1\tgb:LC033197|Organism:Influenza B virus B/Niigata/13F180/2014|Segment:8|Subtype:null|Host:Human\r\n",
      "CY033848\tFluB\tNS\t1\tgb:CY033848|Organism:Influenza B virus B/Jiangsu/10/2003|Segment:8|Subtype:null|Host:Human\r\n",
      "KT866921\tFluB\tNS\t2\tgb:KT866921|Organism:Influenza B virus B/Alaska/14/2015|Segment:8|Subtype:null|Host:Human\r\n",
      "CY150740\tFluB\tNS\t1\tgb:CY150740|Organism:Influenza B virus B/Christchurch/6/2008|Segment:8|Subtype:null|Host:Human\r\n",
      "M19786|O\tFluB\tNS\t1\tgb:M19786|Organism:Influenza B virus B/VI/87|Segment:8|Subtype:null|Host:Human\r\n",
      "KT866437\tFluB\tNS\t1\tgb:KT866437|Organism:Influenza B virus B/New York/18/2015|Segment:8|Subtype:null|Host:Human\r\n",
      "KT283428\tFluB\tNS\t1\tgb:KT283428|Organism:Influenza B virus B/Maryland/12/2014|Segment:8|Subtype:null|Host:Human\r\n",
      "CY152406\tFluB\tNS\t1\tgb:CY152406|Organism:Influenza B virus B/Victoria/104/2006|Segment:8|Subtype:null|Host:Human\r\n",
      "CY119886\tFluB\tNS\t1\tgb:CY119886|Organism:Influenza B virus B/Malaysia/1751951/2007|Segment:8|Subtype:null|Host:Human\r\n",
      "KJ136242\tFluB\tNS\t2\tgb:KJ136242|Organism:Influenza B virus B/Florida/03/2013|Segment:8|Subtype:null|Host:Human\r\n",
      "KT855074\tFluB\tNS\t6\tgb:KT855074|Organism:Influenza B virus B/Florida/66/2015|Segment:8|Subtype:null|Host:Human\r\n",
      "KT854616\tFluB\tNS\t1\tgb:KT854616|Organism:Influenza B virus B/Montana/06/2015|Segment:8|Subtype:null|Host:Human\r\n",
      "CY155430\tFluB\tNS\t2\tgb:CY155430|Organism:Influenza B virus B/Auckland/99/2005|Segment:8|Subtype:null|Host:Human\r\n",
      "KM100284\tFluB\tNS\t1\tgb:KM100284|Organism:Influenza B virus B/Thailand/CU-B8999/2014|Segment:8|Subtype:null|Host:Human\r\n",
      "CY156590\tFluB\tNS\t1\tgb:CY156590|Organism:Influenza B virus B/Brisbane/30/2008|Segment:8|Subtype:null|Host:Human\r\n",
      "KT865984\tFluB\tNS\t3\tgb:KT865984|Organism:Influenza B virus B/New Jersey/10/2015|Segment:8|Subtype:null|Host:Human\r\n",
      "LC032957\tFluB\tNS\t8\tgb:LC032957|Organism:Influenza B virus B/Gunma/13G028/2014|Segment:8|Subtype:null|Host:Human\r\n",
      "CY174917\tFluB\tNS\t1\tgb:CY174917|Organism:Influenza B virus B/New York/1156/2008|Segment:8|Subtype:null|Host:Human\r\n",
      "JN993062\tFluB\tNS\t1\tgb:JN993062|Organism:Influenza B virus B/Texas/02/2010|Segment:8|Subtype:null|Host:Human\r\n",
      "CY152005\tFluB\tNS\t1\tgb:CY152005|Organism:Influenza B virus B/Brisbane/36/2005|Segment:8|Subtype:null|Host:Human\r\n",
      "KT866693\tFluB\tNS\t3\tgb:KT866693|Organism:Influenza B virus B/Washington/13/2015|Segment:8|Subtype:null|Host:Human\r\n",
      "KM063619\tFluB\tNS\t1\tgb:KM063619|Organism:Influenza B virus B/Minnesota/02/2014|Segment:8|Subtype:null|Host:Human\r\n",
      "CY098889\tFluB\tNS\t1\tgb:CY098889|Organism:Influenza B virus B/South Carolina/NHRC0001/2006|Segment:8|Subtype:null|Host:Human\r\n",
      "CY191367\tFluB\tNS\t1\tgb:CY191367|Organism:Influenza B virus B/New York/WC-LVD-13-001/2013|Segment:8|Subtype:null|Host:Human\r\n",
      "KT866838\tFluB\tNS\t1\tgb:KT866838|Organism:Influenza B virus B/Maryland/16/2015|Segment:8|Subtype:null|Host:Human\r\n",
      "JN992819\tFluB\tNS\t2\tgb:JN992819|Organism:Influenza B virus B/Pennsylvania/13/2010|Segment:8|Subtype:null|Host:Human\r\n",
      "JN993080\tFluB\tNS\t1\tgb:JN993080|Organism:Influenza B virus B/Texas/04/2010|Segment:8|Subtype:null|Host:Human\r\n",
      "KT854306\tFluB\tNS\t1\tgb:KT854306|Organism:Influenza B virus B/Arkansas/10/2015|Segment:8|Subtype:null|Host:Human\r\n",
      "CY191375\tFluB\tNS\t1\tgb:CY191375|Organism:Influenza B virus B/New York/WC-LVD-13-002/2013|Segment:8|Subtype:null|Host:Human\r\n",
      "AB120449\tFluB\tNS\t1\tgb:AB120449|Organism:Influenza B virus B/Yamagata/1311/2003|Segment:8|Subtype:null|Host:Human\r\n",
      "KT855066\tFluB\tNS\t1\tgb:KT855066|Organism:Influenza B virus B/Alaska/46/2015|Segment:8|Subtype:null|Host:Human\r\n",
      "KM063887\tFluB\tNS\t2\tgb:KM063887|Organism:Influenza B virus B/Oklahoma/03/2014|Segment:8|Subtype:null|Host:Human\r\n",
      "KT853282\tFluB\tNS\t1\tgb:KT853282|Organism:Influenza B virus B/Iowa/01/2015|Segment:8|Subtype:null|Host:Human\r\n",
      "KM100278\tFluB\tNS\t1\tgb:KM100278|Organism:Influenza B virus B/Thailand/CU-H3496/2012|Segment:8|Subtype:null|Host:Human\r\n",
      "CY191591\tFluB\tNS\t1\tgb:CY191591|Organism:Influenza B virus B/New York/WC-LVD-14-032/2014|Segment:8|Subtype:null|Host:Human\r\n",
      "CY191423\tFluB\tNS\t2\tgb:CY191423|Organism:Influenza B virus B/New York/WC-LVD-14-009/2014|Segment:8|Subtype:null|Host:Human\r\n",
      "JN992894\tFluB\tNS\t4\tgb:JN992894|Organism:Influenza B virus B/Alaska/01/2010|Segment:8|Subtype:null|Host:Human\r\n",
      "CY119558\tFluB\tNS\t1\tgb:CY119558|Organism:Influenza B virus B/Malaysia/10837/1996|Segment:8|Subtype:null|Host:Human\r\n",
      "LC032941\tFluB\tNS\t3\tgb:LC032941|Organism:Influenza B virus B/Gunma/13G022/2014|Segment:8|Subtype:null|Host:Human\r\n",
      "CY099470\tFluB\tNS\t1\tgb:CY099470|Organism:Influenza B virus B/New Jersey/NHRC0001/2005|Segment:8|Subtype:null|Host:Human\r\n",
      "CY150965\tFluB\tNS\t1\tgb:CY150965|Organism:Influenza B virus B/Sydney/11/2002|Segment:8|Subtype:null|Host:Human\r\n",
      "KM063765\tFluB\tNS\t1\tgb:KM063765|Organism:Influenza B virus B/Wisconsin/02/2014|Segment:8|Subtype:null|Host:Human\r\n",
      "KM063607\tFluB\tNS\t2\tgb:KM063607|Organism:Influenza B virus B/Alaska/01/2014|Segment:8|Subtype:null|Host:Human\r\n",
      "KT283508\tFluB\tNS\t1\tgb:KT283508|Organism:Influenza B virus B/Florida/27/2014|Segment:8|Subtype:null|Host:Human\r\n",
      "JN899506\tFluB\tNS\t1\tgb:JN899506|Organism:Influenza B virus B/Texas/11/2009|Segment:8|Subtype:null|Host:Human\r\n",
      "JN992822\tFluB\tNS\t2\tgb:JN992822|Organism:Influenza B virus B/Pennsylvania/13/2010|Segment:8|Subtype:null|Host:Human\r\n",
      "CY174413\tFluB\tNS\t2\tgb:CY174413|Organism:Influenza B virus B/New York/1065/2004|Segment:8|Subtype:null|Host:Human\r\n",
      "KT866798\tFluB\tNS\t2\tgb:KT866798|Organism:Influenza B virus B/Wisconsin/44/2015|Segment:8|Subtype:null|Host:Human\r\n",
      "CY156902\tFluB\tNS\t1\tgb:CY156902|Organism:Influenza B virus B/Victoria/500/2011|Segment:8|Subtype:null|Host:Human\r\n",
      "KT866229\tFluB\tNS\t1\tgb:KT866229|Organism:Influenza B virus B/Arizona/04/2015|Segment:8|Subtype:null|Host:Human\r\n",
      "KM063640\tFluB\tNS\t2\tgb:KM063640|Organism:Influenza B virus B/Illinois/02/2014|Segment:8|Subtype:null|Host:Human\r\n",
      "KT854228\tFluB\tNS\t1\tgb:KT854228|Organism:Influenza B virus B/Wisconsin/06/2015|Segment:8|Subtype:null|Host:Human\r\n",
      "KT866949\tFluB\tNS\t1\tgb:KT866949|Organism:Influenza B virus B/Maryland/23/2015|Segment:8|Subtype:null|Host:Human\r\n",
      "KT854675\tFluB\tNS\t1\tgb:KT854675|Organism:Influenza B virus B/Texas/17/2015|Segment:8|Subtype:null|Host:Human\r\n",
      "CY154966\tFluB\tNS\t1\tgb:CY154966|Organism:Influenza B virus B/Brisbane/8/2004|Segment:8|Subtype:null|Host:Human\r\n",
      "CY155390\tFluB\tNS\t1\tgb:CY155390|Organism:Influenza B virus B/Wellington/23/2005|Segment:8|Subtype:null|Host:Human\r\n",
      "KT853235\tFluB\tNS\t1\tgb:KT853235|Organism:Influenza B virus B/Hawaii/35/2014|Segment:8|Subtype:null|Host:Human\r\n",
      "KT853231\tFluB\tNS\t1\tgb:KT853231|Organism:Influenza B virus B/Tennessee/01/2014|Segment:8|Subtype:null|Host:Human\r\n",
      "CY155782\tFluB\tNS\t1\tgb:CY155782|Organism:Influenza B virus B/Brisbane/3/2006|Segment:8|Subtype:null|Host:Human\r\n",
      "CY018521\tFluB\tNS\t1\tgb:CY018521|Organism:Influenza B virus B/Hawaii/13/2004|Segment:8|Subtype:null|Host:Human\r\n",
      "KM063670\tFluB\tNS\t1\tgb:KM063670|Organism:Influenza B virus B/Connecticut/02/2014|Segment:8|Subtype:null|Host:Human\r\n",
      "JN993128\tFluB\tNS\t1\tgb:JN993128|Organism:Influenza B virus B/Washington/01/2010|Segment:8|Subtype:null|Host:Human\r\n",
      "KT283538\tFluB\tNS\t1\tgb:KT283538|Organism:Influenza B virus B/Utah/09/2014|Segment:8|Subtype:null|Host:Human\r\n",
      "JN899535\tFluB\tNS\t1\tgb:JN899535|Organism:Influenza B virus B/Minnesota/08/2009|Segment:8|Subtype:null|Host:Human\r\n",
      "CY155022\tFluB\tNS\t1\tgb:CY155022|Organism:Influenza B virus B/Sydney/201/2004|Segment:8|Subtype:null|Host:Human\r\n",
      "CY155166\tFluB\tNS\t1\tgb:CY155166|Organism:Influenza B virus B/Christchurch/335/2004|Segment:8|Subtype:null|Host:Human\r\n",
      "KP976412\tFluB\tNS\t1\tgb:KP976412|Organism:Influenza B virus B/Jiangsu/01/2015|Segment:8|Subtype:null|Host:Human\r\n",
      "KC813764\tFluB\tNS\t1\tgb:KC813764|Organism:Influenza B virus B/Connecticut/01/2011|Segment:8|Subtype:null|Host:Human\r\n",
      "KT283555\tFluB\tNS\t1\tgb:KT283555|Organism:Influenza B virus B/Minnesota/06/2014|Segment:8|Subtype:null|Host:Human\r\n",
      "CY155278\tFluB\tNS\t1\tgb:CY155278|Organism:Influenza B virus B/Victoria/502/2005|Segment:8|Subtype:null|Host:Human\r\n",
      "KC813906\tFluB\tNS\t1\tgb:KC813906|Organism:Influenza B virus B/Michigan/03/2011|Segment:8|Subtype:null|Host:Human\r\n",
      "KT283559\tFluB\tNS\t1\tgb:KT283559|Organism:Influenza B virus B/Alaska/25/2014|Segment:8|Subtype:null|Host:Human\r\n",
      "CY155910\tFluB\tNS\t1\tgb:CY155910|Organism:Influenza B virus B/Sydney/1/2007|Segment:8|Subtype:null|Host:Human\r\n",
      "KC891828\tFluB\tNS\t1\tgb:KC891828|Organism:Influenza B virus B/Alaska/17/2012|Segment:8|Subtype:null|Host:Human\r\n",
      "CY119998\tFluB\tNS\t5\tgb:CY119998|Organism:Influenza B virus B/Malaysia/1918984/2007|Segment:8|Subtype:null|Host:Human\r\n",
      "KM063780\tFluB\tNS\t1\tgb:KM063780|Organism:Influenza B virus B/New Hampshire/01/2014|Segment:8|Subtype:null|Host:Human\r\n",
      "KC891632\tFluB\tNS\t1\tgb:KC891632|Organism:Influenza B virus B/Oregon/01/2012|Segment:8|Subtype:null|Host:Human\r\n",
      "KT866086\tFluB\tNS\t2\tgb:KT866086|Organism:Influenza B virus B/Florida/57/2015|Segment:8|Subtype:null|Host:Human\r\n",
      "AY504606\tFluB\tNS\t1\tgb:AY504606|Organism:Influenza B virus B/Victoria/504/2000|Segment:8|Subtype:null|Host:Human\r\n",
      "LC033381\tFluB\tNS\t59\tgb:LC033381|Organism:Influenza B virus B/Nagasaki/13N070/2014|Segment:8|Subtype:null|Host:Human\r\n",
      "EU305618\tFluB\tNS\t1\tgb:EU305618|Organism:Influenza B virus B/Guangzhou/01/2007|Segment:8|Subtype:null|Host:Human\r\n",
      "KT854734\tFluB\tNS\t2\tgb:KT854734|Organism:Influenza B virus B/Iowa/12/2015|Segment:8|Subtype:null|Host:Human\r\n",
      "CY098903\tFluB\tNS\t2\tgb:CY098903|Organism:Influenza B virus B/Hawaii/NHRC0001/2003|Segment:8|Subtype:null|Host:Human\r\n",
      "KM063667\tFluB\tNS\t1\tgb:KM063667|Organism:Influenza B virus B/North Carolina/01/2014|Segment:8|Subtype:null|Host:Human\r\n",
      "CY156470\tFluB\tNS\t1\tgb:CY156470|Organism:Influenza B virus B/Brisbane/14/2008|Segment:8|Subtype:null|Host:Human\r\n",
      "CY191487\tFluB\tNS\t1\tgb:CY191487|Organism:Influenza B virus B/New York/WC-LVD-14-018/2014|Segment:8|Subtype:null|Host:Human\r\n",
      "KT866546\tFluB\tNS\t1\tgb:KT866546|Organism:Influenza B virus B/Alaska/24/2015|Segment:8|Subtype:null|Host:Human\r\n",
      "KT866249\tFluB\tNS\t2\tgb:KT866249|Organism:Influenza B virus B/Alaska/18/2015|Segment:8|Subtype:null|Host:Human\r\n",
      "CY155798\tFluB\tNS\t1\tgb:CY155798|Organism:Influenza B virus B/Brisbane/5/2006|Segment:8|Subtype:null|Host:Human\r\n",
      "KM063669\tFluB\tNS\t1\tgb:KM063669|Organism:Influenza B virus B/Maine/02/2014|Segment:8|Subtype:null|Host:Human\r\n",
      "KT865935\tFluB\tNS\t2\tgb:KT865935|Organism:Influenza B virus B/Florida/43/2015|Segment:8|Subtype:null|Host:Human\r\n",
      "KM063853\tFluB\tNS\t2\tgb:KM063853|Organism:Influenza B virus B/Massachusetts/03/2014|Segment:8|Subtype:null|Host:Human\r\n",
      "KF216681\tFluB\tNS\t1\tgb:KF216681|Organism:Influenza B virus B/Oregon/04/2012|Segment:8|Subtype:null|Host:Human\r\n",
      "KT854508\tFluB\tNS\t1\tgb:KT854508|Organism:Influenza B virus B/Wisconsin/10/2015|Segment:8|Subtype:null|Host:Human\r\n",
      "KF217120\tFluB\tNS\t2\tgb:KF217120|Organism:Influenza B virus B/Hawaii/13/2012|Segment:8|Subtype:null|Host:Human\r\n",
      "KC813806\tFluB\tNS\t1\tgb:KC813806|Organism:Influenza B virus B/Texas/03/2011|Segment:8|Subtype:null|Host:Human\r\n",
      "KT854658\tFluB\tNS\t2\tgb:KT854658|Organism:Influenza B virus B/Maryland/12/2015|Segment:8|Subtype:null|Host:Human\r\n",
      "CY110754\tFluB\tNS\t4\tgb:CY110754|Organism:Influenza B virus B/Wuhan/4/2009|Segment:8|Subtype:null|Host:Human\r\n",
      "CY191479\tFluB\tNS\t1\tgb:CY191479|Organism:Influenza B virus B/New York/WC-LVD-14-016/2014|Segment:8|Subtype:null|Host:Human\r\n",
      "CY125000\tFluB\tNS\t1\tgb:CY125000|Organism:Influenza B virus B/Managua/177.02/2008|Segment:8|Subtype:null|Host:Human\r\n",
      "KT853417\tFluB\tNS\t1\tgb:KT853417|Organism:Influenza B virus B/Wisconsin/04/2015|Segment:8|Subtype:null|Host:Human\r\n",
      "LC033397\tFluB\tNS\t1\tgb:LC033397|Organism:Influenza B virus B/Isahaya/13I004/2014|Segment:8|Subtype:null|Host:Human\r\n",
      "KC813809\tFluB\tNS\t1\tgb:KC813809|Organism:Influenza B virus B/Texas/04/2011|Segment:8|Subtype:null|Host:Human\r\n",
      "KF216671\tFluB\tNS\t1\tgb:KF216671|Organism:Influenza B virus B/Ohio/06/2012|Segment:8|Subtype:null|Host:Human\r\n",
      "CY153230\tFluB\tNS\t1\tgb:CY153230|Organism:Influenza B virus B/Auckland/124/2008|Segment:8|Subtype:null|Host:Human\r\n",
      "KT854805\tFluB\tNS\t2\tgb:KT854805|Organism:Influenza B virus B/Ohio/01/2015|Segment:8|Subtype:null|Host:Human\r\n",
      "KM063655\tFluB\tNS\t2\tgb:KM063655|Organism:Influenza B virus B/Montana/02/2014|Segment:8|Subtype:null|Host:Human\r\n",
      "KC891689\tFluB\tNS\t1\tgb:KC891689|Organism:Influenza B virus B/Hawaii/03/2011|Segment:8|Subtype:null|Host:Human\r\n",
      "KF612251\tFluB\tNS\t2\tgb:KF612251|Organism:Influenza B virus B/Santa Cruz/28/2012|Segment:8|Subtype:null|Host:Human\r\n",
      "KT853356\tFluB\tNS\t5\tgb:KT853356|Organism:Influenza B virus B/Texas/01/2015|Segment:8|Subtype:null|Host:Human\r\n",
      "KT866300\tFluB\tNS\t1\tgb:KT866300|Organism:Influenza B virus B/Florida/53/2015|Segment:8|Subtype:null|Host:Human\r\n",
      "CY176341\tFluB\tNS\t1\tgb:CY176341|Organism:Influenza B virus B/New York/1197/2008|Segment:8|Subtype:null|Host:Human\r\n",
      "KT866502\tFluB\tNS\t1\tgb:KT866502|Organism:Influenza B virus B/Iowa/16/2015|Segment:8|Subtype:null|Host:Human\r\n",
      "KT855020\tFluB\tNS\t1\tgb:KT855020|Organism:Influenza B virus B/Washington/08/2015|Segment:8|Subtype:null|Host:Human\r\n",
      "KT866506\tFluB\tNS\t1\tgb:KT866506|Organism:Influenza B virus B/Maine/16/2015|Segment:8|Subtype:null|Host:Human\r\n",
      "KT866059\tFluB\tNS\t1\tgb:KT866059|Organism:Influenza B virus B/Wisconsin/50/2015|Segment:8|Subtype:null|Host:Human\r\n",
      "KT866975\tFluB\tNS\t1\tgb:KT866975|Organism:Influenza B virus B/Alaska/25/2015|Segment:8|Subtype:null|Host:Human\r\n",
      "KC814000\tFluB\tNS\t2\tgb:KC814000|Organism:Influenza B virus B/Alaska/07/2011|Segment:8|Subtype:null|Host:Human\r\n",
      "KT866048\tFluB\tNS\t1\tgb:KT866048|Organism:Influenza B virus B/Wyoming/27/2015|Segment:8|Subtype:null|Host:Human\r\n",
      "KT854645\tFluB\tNS\t2\tgb:KT854645|Organism:Influenza B virus B/Florida/04/2015|Segment:8|Subtype:null|Host:Human\r\n",
      "CY155742\tFluB\tNS\t1\tgb:CY155742|Organism:Influenza B virus B/Brisbane/100/2005|Segment:8|Subtype:null|Host:Human\r\n",
      "KC891614\tFluB\tNS\t1\tgb:KC891614|Organism:Influenza B virus B/Texas/02/2012|Segment:8|Subtype:null|Host:Human\r\n",
      "KJ532220\tFluB\tNS\t1\tgb:KJ532220|Organism:Influenza B virus B/New Hampshire/05/2013|Segment:8|Subtype:null|Host:Human\r\n",
      "LC033013\tFluB\tNS\t1\tgb:LC033013|Organism:Influenza B virus B/Hokkaido/13H025/2014|Segment:8|Subtype:null|Host:Human\r\n",
      "KT854968\tFluB\tNS\t1\tgb:KT854968|Organism:Influenza B virus B/Texas/08/2015|Segment:8|Subtype:null|Host:Human\r\n",
      "KT854422\tFluB\tNS\t1\tgb:KT854422|Organism:Influenza B virus B/Virginia/06/2015|Segment:8|Subtype:null|Host:Human\r\n",
      "JN899410\tFluB\tNS\t1\tgb:JN899410|Organism:Influenza B virus B/Florida/10/2008|Segment:8|Subtype:null|Host:Human\r\n",
      "KT854819\tFluB\tNS\t1\tgb:KT854819|Organism:Influenza B virus B/Wisconsin/13/2015|Segment:8|Subtype:null|Host:Human\r\n",
      "JN899412\tFluB\tNS\t1\tgb:JN899412|Organism:Influenza B virus B/Florida/16/2008|Segment:8|Subtype:null|Host:Human\r\n",
      "KM063644\tFluB\tNS\t1\tgb:KM063644|Organism:Influenza B virus B/Delaware/02/2014|Segment:8|Subtype:null|Host:Human\r\n",
      "KT866349\tFluB\tNS\t1\tgb:KT866349|Organism:Influenza B virus B/Wisconsin/48/2015|Segment:8|Subtype:null|Host:Human\r\n",
      "JN899418\tFluB\tNS\t2\tgb:JN899418|Organism:Influenza B virus B/Florida/17/2008|Segment:8|Subtype:null|Host:Human\r\n",
      "KT853249\tFluB\tNS\t1\tgb:KT853249|Organism:Influenza B virus B/Utah/02/2015|Segment:8|Subtype:null|Host:Human\r\n",
      "KT854955\tFluB\tNS\t1\tgb:KT854955|Organism:Influenza B virus B/Ohio/04/2015|Segment:8|Subtype:null|Host:Human\r\n",
      "CY151901\tFluB\tNS\t2\tgb:CY151901|Organism:Influenza B virus B/Sydney/25/2005|Segment:8|Subtype:null|Host:Human\r\n",
      "M19790|O\tFluB\tNS\t1\tgb:M19790|Organism:Influenza B virus B/Singapore/222/79|Segment:8|Subtype:null|Host:Human\r\n",
      "KC891672\tFluB\tNS\t1\tgb:KC891672|Organism:Influenza B virus B/North Carolina/28/2011|Segment:8|Subtype:null|Host:Human\r\n",
      "KM063914\tFluB\tNS\t2\tgb:KM063914|Organism:Influenza B virus B/Wisconsin/03/2014|Segment:8|Subtype:null|Host:Human\r\n",
      "KF216904\tFluB\tNS\t1\tgb:KF216904|Organism:Influenza B virus B/Kentucky/02/2013|Segment:8|Subtype:null|Host:Human\r\n",
      "KC813638\tFluB\tNS\t1\tgb:KC813638|Organism:Influenza B virus B/North Carolina/24/2011|Segment:8|Subtype:null|Host:Human\r\n",
      "CY155190\tFluB\tNS\t1\tgb:CY155190|Organism:Influenza B virus B/Brisbane/19/2004|Segment:8|Subtype:null|Host:Human\r\n",
      "KC813737\tFluB\tNS\t1\tgb:KC813737|Organism:Influenza B virus B/Alabama/01/2010|Segment:8|Subtype:null|Host:Human\r\n",
      "KC891856\tFluB\tNS\t1\tgb:KC891856|Organism:Influenza B virus B/Texas/10/2011|Segment:8|Subtype:null|Host:Human\r\n",
      "KT866860\tFluB\tNS\t1\tgb:KT866860|Organism:Influenza B virus B/Utah/32/2015|Segment:8|Subtype:null|Host:Human\r\n",
      "KT866497\tFluB\tNS\t1\tgb:KT866497|Organism:Influenza B virus B/Connecticut/30/2015|Segment:8|Subtype:null|Host:Human\r\n",
      "KT854349\tFluB\tNS\t2\tgb:KT854349|Organism:Influenza B virus B/Texas/34/2015|Segment:8|Subtype:null|Host:Human\r\n",
      "CY152774\tFluB\tNS\t1\tgb:CY152774|Organism:Influenza B virus B/Brisbane/90/2006|Segment:8|Subtype:null|Host:Human\r\n",
      "CY033944\tFluB\tNS\t1\tgb:CY033944|Organism:Influenza B virus B/Taiwan/70690/2006|Segment:8|Subtype:null|Host:Human\r\n",
      "KT866982\tFluB\tNS\t1\tgb:KT866982|Organism:Influenza B virus B/Alaska/27/2015|Segment:8|Subtype:null|Host:Human\r\n",
      "KT853472\tFluB\tNS\t1\tgb:KT853472|Organism:Influenza B virus B/Mississippi/01/2015|Segment:8|Subtype:null|Host:Human\r\n",
      "KJ532176\tFluB\tNS\t1\tgb:KJ532176|Organism:Influenza B virus B/Washington/05/2013|Segment:8|Subtype:null|Host:Human\r\n",
      "CY149808\tFluB\tNS\t2\tgb:CY149808|Organism:Influenza B virus B/Waikato/15/2002|Segment:8|Subtype:null|Host:Human\r\n",
      "CY124888\tFluB\tNS\t3\tgb:CY124888|Organism:Influenza B virus B/Managua/36.01/2008|Segment:8|Subtype:null|Host:Human\r\n",
      "CY150725\tFluB\tNS\t1\tgb:CY150725|Organism:Influenza B virus B/Waikato/2/2008|Segment:8|Subtype:null|Host:Human\r\n",
      "KT853277\tFluB\tNS\t1\tgb:KT853277|Organism:Influenza B virus B/Alaska/01/2015|Segment:8|Subtype:null|Host:Human\r\n",
      "KT866690\tFluB\tNS\t1\tgb:KT866690|Organism:Influenza B virus B/Delaware/09/2015|Segment:8|Subtype:null|Host:Human\r\n",
      "KM063732\tFluB\tNS\t8\tgb:KM063732|Organism:Influenza B virus B/Texas/02/2014|Segment:8|Subtype:null|Host:Human\r\n",
      "CY155358\tFluB\tNS\t1\tgb:CY155358|Organism:Influenza B virus B/Victoria/504/2005|Segment:8|Subtype:null|Host:Human\r\n",
      "KC844167\tFluB\tNS\t1\tgb:KC844167|Organism:Influenza B virus B/Singapore/DSO_020132/2007|Segment:8|Subtype:null|Host:Human\r\n",
      "CY156918\tFluB\tNS\t1\tgb:CY156918|Organism:Influenza B virus B/South Auckland/5/2011|Segment:8|Subtype:null|Host:Human\r\n",
      "JX513106\tFluB\tNS\t1\tgb:JX513106|Organism:Influenza B virus B/Thailand/CU-B6096/2012|Segment:8|Subtype:null|Host:Human\r\n",
      "LC033181\tFluB\tNS\t2\tgb:LC033181|Organism:Influenza B virus B/Niigata/13F001/2014|Segment:8|Subtype:null|Host:Human\r\n",
      "AF100399\tFluB\tNS\t1\tgb:AF100399|Organism:Influenza B virus B/Beijing/184/93|Segment:8|Subtype:null|Host:Human\r\n",
      "CY156934\tFluB\tNS\t1\tgb:CY156934|Organism:Influenza B virus B/Brisbane/121/2011|Segment:8|Subtype:null|Host:Human\r\n",
      "KT866913\tFluB\tNS\t2\tgb:KT866913|Organism:Influenza B virus B/Alaska/11/2015|Segment:8|Subtype:null|Host:Human\r\n",
      "CY176245\tFluB\tNS\t1\tgb:CY176245|Organism:Influenza B virus B/New York/1363/2012|Segment:8|Subtype:null|Host:Human\r\n",
      "KC813871\tFluB\tNS\t1\tgb:KC813871|Organism:Influenza B virus B/Tennessee/01/2011|Segment:8|Subtype:null|Host:Human\r\n",
      "CY150797\tFluB\tNS\t1\tgb:CY150797|Organism:Influenza B virus B/Sydney/34/2008|Segment:8|Subtype:null|Host:Human\r\n",
      "KT854986\tFluB\tNS\t1\tgb:KT854986|Organism:Influenza B virus B/Florida/09/2015|Segment:8|Subtype:null|Host:Human\r\n",
      "KT866905\tFluB\tNS\t1\tgb:KT866905|Organism:Influenza B virus B/Alaska/10/2015|Segment:8|Subtype:null|Host:Human\r\n",
      "CY115259\tFluB\tNS\t1\tgb:CY115259|Organism:Influenza B virus B/Bangladesh/3333/2007|Segment:8|Subtype:null|Host:Human\r\n",
      "CY152886\tFluB\tNS\t1\tgb:CY152886|Organism:Influenza B virus B/Brisbane/10/2007|Segment:8|Subtype:null|Host:Human\r\n",
      "CY188717\tFluB\tNS\t1\tgb:CY188717|Organism:Influenza B virus B/Nicaragua/4435_02/2008|Segment:8|Subtype:null|Host:Human\r\n",
      "CY154838\tFluB\tNS\t1\tgb:CY154838|Organism:Influenza B virus B/Christchurch/33/2004|Segment:8|Subtype:null|Host:Human\r\n",
      "KT854174\tFluB\tNS\t1\tgb:KT854174|Organism:Influenza B virus B/Maine/03/2015|Segment:8|Subtype:null|Host:Human\r\n",
      "CY153166\tFluB\tNS\t1\tgb:CY153166|Organism:Influenza B virus B/Sydney/21/2008|Segment:8|Subtype:null|Host:Human\r\n",
      "CY173805\tFluB\tNS\t1\tgb:CY173805|Organism:Influenza B virus B/New York/1368/2012|Segment:8|Subtype:null|Host:Human\r\n",
      "CY176037\tFluB\tNS\t1\tgb:CY176037|Organism:Influenza B virus B/New York/1335/2012|Segment:8|Subtype:null|Host:Human\r\n",
      "CY018697\tFluB\tNS\t1\tgb:CY018697|Organism:Influenza B virus B/Moscow/16/2002|Segment:8|Subtype:null|Host:Human\r\n",
      "KM063626\tFluB\tNS\t1\tgb:KM063626|Organism:Influenza B virus B/Florida/02/2014|Segment:8|Subtype:null|Host:Human\r\n",
      "KT283532\tFluB\tNS\t1\tgb:KT283532|Organism:Influenza B virus B/North Carolina/04/2014|Segment:8|Subtype:null|Host:Human\r\n"
     ]
    }
   ],
   "source": [
    "seg='NS'\n",
    "\n",
    "cd /home/alan/projects/MinION-notebook/clinical-analysis/blast-result-comparison/segment-cross-contamination\n",
    "\n",
    "samtools view flu-11-9.2d.mapped-only.bam | grep $seg | cut -f1,10 | perl -pe 's/^(.+)\\t(.+)/>$1\\n$2/g' > flu-11-9.2d.mapped-only.$seg.fasta\n",
    "\n",
    "blastn -db ~/projects/MinION-notebook/clinical-analysis/fludb/all-H1N1-H3N2-FluB-full-segs.fasta -query flu-11-9.2d.mapped-only.$seg.fasta -out flu-11-9.2d.mapped-only.$seg.blastn.xml -outfmt 5 -evalue 0.00005 -culling_limit 2 -max_target_seqs 1 -num_threads 40\n",
    "\n",
    "python ~/projects/MinION-notebook/scripts/read-fludb-blastxml.py flu-11-9.2d.mapped-only.$seg.blastn.xml"
   ]
  },
  {
   "cell_type": "code",
   "execution_count": 7,
   "metadata": {
    "ExecuteTime": {
     "end_time": "2016-03-23T15:25:08.297734",
     "start_time": "2016-03-23T15:25:04.925233"
    },
    "collapsed": false,
    "run_control": {
     "marked": false
    }
   },
   "outputs": [
    {
     "name": "stdout",
     "output_type": "stream",
     "text": [
      "KT866773\tFluB\tNA\t1\tgb:KT866773|Organism:Influenza B virus B/Connecticut/46/2015|Segment:6|Subtype:null|Host:Human\r\n",
      "KT866927\tFluB\tNA\t1\tgb:KT866927|Organism:Influenza B virus B/Hawaii/08/2015|Segment:6|Subtype:null|Host:Human\r\n",
      "KT855033\tFluB\tNA\t2\tgb:KT855033|Organism:Influenza B virus B/Texas/09/2015|Segment:6|Subtype:null|Host:Human\r\n",
      "KT866387\tFluB\tNA\t15\tgb:KT866387|Organism:Influenza B virus B/Florida/41/2015|Segment:6|Subtype:null|Host:Human\r\n",
      "CY156924\tFluB\tNA\t1\tgb:CY156924|Organism:Influenza B virus B/Brisbane/112/2011|Segment:6|Subtype:null|Host:Human\r\n",
      "KT854365\tFluB\tNA\t2\tgb:KT854365|Organism:Influenza B virus B/Texas/17/2015|Segment:6|Subtype:null|Host:Human\r\n",
      "AY139053\tFluB\tNA\t1\tgb:AY139053|Organism:Influenza B virus B/Taiwan/217/97|Segment:6|Subtype:null|Host:Human\r\n",
      "KR073573\tFluB\tNA\t1\tgb:KR073573|Organism:Influenza B virus B/Malaysia/U2046/2013|Segment:6|Subtype:null|Host:Human\r\n",
      "CY175219\tFluB\tNA\t1\tgb:CY175219|Organism:Influenza B virus B/New York/1183/2008|Segment:6|Subtype:null|Host:Human\r\n",
      "CY154116\tFluB\tNA\t1\tgb:CY154116|Organism:Influenza B virus B/Christchurch/101/2011|Segment:6|Subtype:null|Host:Human\r\n",
      "KT855072\tFluB\tNA\t1\tgb:KT855072|Organism:Influenza B virus B/Florida/66/2015|Segment:6|Subtype:null|Host:Human\r\n",
      "KT853164\tFluB\tNA\t2\tgb:KT853164|Organism:Influenza B virus B/Alabama/03/2014|Segment:6|Subtype:null|Host:Human\r\n",
      "KR073632\tFluB\tNA\t1\tgb:KR073632|Organism:Influenza B virus B/Malaysia/U3488/2014|Segment:6|Subtype:null|Host:Human\r\n",
      "CY191533\tFluB\tNA\t5\tgb:CY191533|Organism:Influenza B virus B/New York/WC-LVD-14-024/2014|Segment:6|Subtype:null|Host:Human\r\n",
      "KT866190\tFluB\tNA\t1\tgb:KT866190|Organism:Influenza B virus B/Utah/40/2015|Segment:6|Subtype:null|Host:Human\r\n",
      "KM063599\tFluB\tNA\t1\tgb:KM063599|Organism:Influenza B virus B/Nevada/05/2014|Segment:6|Subtype:null|Host:Human\r\n",
      "KT866821\tFluB\tNA\t1\tgb:KT866821|Organism:Influenza B virus B/New Jersey/12/2015|Segment:6|Subtype:null|Host:Human\r\n",
      "KR073578\tFluB\tNA\t1\tgb:KR073578|Organism:Influenza B virus B/Malaysia/U2094/2013|Segment:6|Subtype:null|Host:Human\r\n",
      "KM063696\tFluB\tNA\t1\tgb:KM063696|Organism:Influenza B virus B/Nevada/08/2014|Segment:6|Subtype:null|Host:Human\r\n",
      "CY191645\tFluB\tNA\t1\tgb:CY191645|Organism:Influenza B virus B/New York/WC-LVD-14-039/2014|Segment:6|Subtype:null|Host:Human\r\n",
      "CY191437\tFluB\tNA\t1\tgb:CY191437|Organism:Influenza B virus B/New York/WC-LVD-14-011/2014|Segment:6|Subtype:null|Host:Human\r\n",
      "KT853210\tFluB\tNA\t2\tgb:KT853210|Organism:Influenza B virus B/Texas/40/2014|Segment:6|Subtype:null|Host:Human\r\n",
      "KT854923\tFluB\tNA\t2\tgb:KT854923|Organism:Influenza B virus B/Washington/11/2015|Segment:6|Subtype:null|Host:Human\r\n",
      "CY173811\tFluB\tNA\t1\tgb:CY173811|Organism:Influenza B virus B/New York/1373/2012|Segment:6|Subtype:null|Host:Human\r\n",
      "CY176003\tFluB\tNA\t1\tgb:CY176003|Organism:Influenza B virus B/New York/1331/2012|Segment:6|Subtype:null|Host:Human\r\n",
      "KR073649\tFluB\tNA\t3\tgb:KR073649|Organism:Influenza B virus B/Malaysia/U3679/2014|Segment:6|Subtype:null|Host:Human\r\n",
      "KR073648\tFluB\tNA\t14\tgb:KR073648|Organism:Influenza B virus B/Malaysia/U3663/2014|Segment:6|Subtype:null|Host:Human\r\n",
      "CY156444\tFluB\tNA\t1\tgb:CY156444|Organism:Influenza B virus B/Brisbane/12/2008|Segment:6|Subtype:null|Host:Human\r\n",
      "KR073646\tFluB\tNA\t1\tgb:KR073646|Organism:Influenza B virus B/Malaysia/U3655/2014|Segment:6|Subtype:null|Host:Human\r\n",
      "CY156004\tFluB\tNA\t1\tgb:CY156004|Organism:Influenza B virus B/Wellington/1/2007|Segment:6|Subtype:null|Host:Human\r\n",
      "KR073643\tFluB\tNA\t3\tgb:KR073643|Organism:Influenza B virus B/Malaysia/U3626/2014|Segment:6|Subtype:null|Host:Human\r\n",
      "CY154732\tFluB\tNA\t1\tgb:CY154732|Organism:Influenza B virus B/Victoria/108/2004|Segment:6|Subtype:null|Host:Human\r\n",
      "KT383557\tFluB\tNA\t1\tgb:KT383557|Organism:Influenza B virus B/Beijingshijingshan/15228/2015|Segment:6|Subtype:null|Host:Human\r\n",
      "KT853441\tFluB\tNA\t3\tgb:KT853441|Organism:Influenza B virus B/Florida/02/2015|Segment:6|Subtype:null|Host:Human\r\n",
      "KR073585\tFluB\tNA\t1\tgb:KR073585|Organism:Influenza B virus B/Malaysia/U2179/2013|Segment:6|Subtype:null|Host:Human\r\n",
      "CY191501\tFluB\tNA\t2\tgb:CY191501|Organism:Influenza B virus B/New York/WC-LVD-14-020/2014|Segment:6|Subtype:null|Host:Human\r\n",
      "AJ784088\tFluB\tNA\t1\tgb:AJ784088|Organism:Influenza B virus B/Shandong/7/97|Segment:6|Subtype:null|Host:Human\r\n",
      "CY191373\tFluB\tNA\t1\tgb:CY191373|Organism:Influenza B virus B/New York/WC-LVD-13-002/2013|Segment:6|Subtype:null|Host:Human\r\n",
      "AY139077\tFluB\tNA\t1\tgb:AY139077|Organism:Influenza B virus B/Beijing/184/93|Segment:6|Subtype:null|Host:Human\r\n",
      "KR073509\tFluB\tNA\t2\tgb:KR073509|Organism:Influenza B virus B/Malaysia/U169/2012|Segment:6|Subtype:null|Host:Human\r\n",
      "KT853208\tFluB\tNA\t1\tgb:KT853208|Organism:Influenza B virus B/Washington/13/2014|Segment:6|Subtype:null|Host:Human\r\n",
      "KR073501\tFluB\tNA\t2\tgb:KR073501|Organism:Influenza B virus B/Malaysia/U123/2012|Segment:6|Subtype:null|Host:Human\r\n",
      "KC478982\tFluB\tNA\t1\tgb:KC478982|Organism:Influenza B virus B/Ontario/0003959/2012|Segment:6|Subtype:null|Host:Human\r\n",
      "CY191541\tFluB\tNA\t1\tgb:CY191541|Organism:Influenza B virus B/New York/WC-LVD-14-025/2014|Segment:6|Subtype:null|Host:Human\r\n",
      "KT853524\tFluB\tNA\t1\tgb:KT853524|Organism:Influenza B virus B/Ohio/06/2014|Segment:6|Subtype:null|Host:Human\r\n",
      "CY176019\tFluB\tNA\t2\tgb:CY176019|Organism:Influenza B virus B/New York/1333/2012|Segment:6|Subtype:null|Host:Human\r\n",
      "CY191421\tFluB\tNA\t1\tgb:CY191421|Organism:Influenza B virus B/New York/WC-LVD-14-009/2014|Segment:6|Subtype:null|Host:Human\r\n",
      "KM063633\tFluB\tNA\t3\tgb:KM063633|Organism:Influenza B virus B/Washington/01/2014|Segment:6|Subtype:null|Host:Human\r\n",
      "KT854914\tFluB\tNA\t1\tgb:KT854914|Organism:Influenza B virus B/Hawaii/03/2015|Segment:6|Subtype:null|Host:Human\r\n",
      "KT853446\tFluB\tNA\t1\tgb:KT853446|Organism:Influenza B virus B/Illinois/01/2015|Segment:6|Subtype:null|Host:Human\r\n",
      "KT853202\tFluB\tNA\t1\tgb:KT853202|Organism:Influenza B virus B/Oregon/03/2014|Segment:6|Subtype:null|Host:Human\r\n",
      "JX513192\tFluB\tNA\t1\tgb:JX513192|Organism:Influenza B virus B/Thailand/CU-H2933/2011|Segment:6|Subtype:null|Host:Human\r\n",
      "CY033814\tFluB\tNA\t1\tgb:CY033814|Organism:Influenza B virus B/Taiwan/383/2005|Segment:6|Subtype:null|Host:Human\r\n",
      "FJ766841\tFluB\tNA\t1\tgb:FJ766841|Organism:Influenza B virus B/Brisbane/60/2008|Segment:6|Subtype:null|Host:Human\r\n",
      "KT854852\tFluB\tNA\t1\tgb:KT854852|Organism:Influenza B virus B/Texas/25/2015|Segment:6|Subtype:null|Host:Human\r\n",
      "KT854851\tFluB\tNA\t1\tgb:KT854851|Organism:Influenza B virus B/Texas/49/2015|Segment:6|Subtype:null|Host:Human\r\n",
      "KM063602\tFluB\tNA\t2\tgb:KM063602|Organism:Influenza B virus B/Louisiana/03/2014|Segment:6|Subtype:null|Host:Human\r\n",
      "KF301658\tFluB\tNA\t3\tgb:KF301658|Organism:Influenza B virus B/Omsk/07/2012|Segment:6|Subtype:null|Host:Human\r\n",
      "CY150731\tFluB\tNA\t1\tgb:CY150731|Organism:Influenza B virus B/Wellington/3/2008|Segment:6|Subtype:null|Host:Human\r\n",
      "KM063608\tFluB\tNA\t2\tgb:KM063608|Organism:Influenza B virus B/Iowa/04/2014|Segment:6|Subtype:null|Host:Human\r\n",
      "KT854859\tFluB\tNA\t2\tgb:KT854859|Organism:Influenza B virus B/Washington/12/2015|Segment:6|Subtype:null|Host:Human\r\n",
      "KT854806\tFluB\tNA\t1\tgb:KT854806|Organism:Influenza B virus B/Washington/15/2015|Segment:6|Subtype:null|Host:Human\r\n",
      "KR073506\tFluB\tNA\t1\tgb:KR073506|Organism:Influenza B virus B/Malaysia/U159/2012|Segment:6|Subtype:null|Host:Human\r\n",
      "KT854994\tFluB\tNA\t3\tgb:KT854994|Organism:Influenza B virus B/Washington/08/2015|Segment:6|Subtype:null|Host:Human\r\n",
      "KM063813\tFluB\tNA\t1\tgb:KM063813|Organism:Influenza B virus B/Mississippi/01/2014|Segment:6|Subtype:null|Host:Human\r\n",
      "JN601140\tFluB\tNA\t3\tgb:JN601140|Organism:Influenza B virus B/Ontario/006876/2011|Segment:6|Subtype:null|Host:Human\r\n",
      "AF129914\tFluB\tNA\t1\tgb:AF129914|Organism:Influenza B virus B/Houston/2/93|Segment:6|Subtype:null|Host:Human\r\n",
      "KR073590\tFluB\tNA\t1\tgb:KR073590|Organism:Influenza B virus B/Malaysia/U2214/2013|Segment:6|Subtype:null|Host:Human\r\n",
      "KR073614\tFluB\tNA\t6\tgb:KR073614|Organism:Influenza B virus B/Malaysia/U2555/2013|Segment:6|Subtype:null|Host:Human\r\n",
      "KR073596\tFluB\tNA\t1\tgb:KR073596|Organism:Influenza B virus B/Malaysia/U2292/2013|Segment:6|Subtype:null|Host:Human\r\n",
      "KT865958\tFluB\tNA\t4\tgb:KT865958|Organism:Influenza B virus B/Florida/45/2015|Segment:6|Subtype:null|Host:Human\r\n",
      "KT866828\tFluB\tNA\t1\tgb:KT866828|Organism:Influenza B virus B/Florida/35/2015|Segment:6|Subtype:null|Host:Human\r\n",
      "KR073618\tFluB\tNA\t6\tgb:KR073618|Organism:Influenza B virus B/Malaysia/U3225/2013|Segment:6|Subtype:null|Host:Human\r\n",
      "CY151211\tFluB\tNA\t1\tgb:CY151211|Organism:Influenza B virus B/Brisbane/21/2002|Segment:6|Subtype:null|Host:Human\r\n",
      "CY156908\tFluB\tNA\t1\tgb:CY156908|Organism:Influenza B virus B/Townsville/2/2011|Segment:6|Subtype:null|Host:Human\r\n",
      "KT866649\tFluB\tNA\t1\tgb:KT866649|Organism:Influenza B virus B/Florida/32/2015|Segment:6|Subtype:null|Host:Human\r\n",
      "KT854783\tFluB\tNA\t2\tgb:KT854783|Organism:Influenza B virus B/Washington/14/2015|Segment:6|Subtype:null|Host:Human\r\n",
      "CY150365\tFluB\tNA\t1\tgb:CY150365|Organism:Influenza B virus B/Victoria/501/2004|Segment:6|Subtype:null|Host:Human\r\n",
      "CY174875\tFluB\tNA\t1\tgb:CY174875|Organism:Influenza B virus B/New York/1151/2008|Segment:6|Subtype:null|Host:Human\r\n",
      "KT854479\tFluB\tNA\t1\tgb:KT854479|Organism:Influenza B virus B/Nevada/02/2015|Segment:6|Subtype:null|Host:Human\r\n",
      "KC478996\tFluB\tNA\t1\tgb:KC478996|Organism:Influenza B virus B/Ontario/0020252/2012|Segment:6|Subtype:null|Host:Human\r\n",
      "KR073515\tFluB\tNA\t8\tgb:KR073515|Organism:Influenza B virus B/Malaysia/U210/2012|Segment:6|Subtype:null|Host:Human\r\n",
      "GQ323519\tH1N1\tNA\t1\tgb:GQ323519|Organism:Influenza A virus A/Michigan/05/2009|Segment:6|Subtype:H1N1|Host:Human\r\n",
      "KT866092\tFluB\tNA\t4\tgb:KT866092|Organism:Influenza B virus B/Florida/60/2015|Segment:6|Subtype:null|Host:Human\r\n",
      "KT854581\tFluB\tNA\t4\tgb:KT854581|Organism:Influenza B virus B/Ohio/05/2015|Segment:6|Subtype:null|Host:Human\r\n",
      "KT853345\tFluB\tNA\t14\tgb:KT853345|Organism:Influenza B virus B/Texas/01/2015|Segment:6|Subtype:null|Host:Human\r\n",
      "KT854901\tFluB\tNA\t1\tgb:KT854901|Organism:Influenza B virus B/Texas/26/2015|Segment:6|Subtype:null|Host:Human\r\n",
      "KT866307\tFluB\tNA\t2\tgb:KT866307|Organism:Influenza B virus B/Wisconsin/47/2015|Segment:6|Subtype:null|Host:Human\r\n",
      "KT853236\tFluB\tNA\t1\tgb:KT853236|Organism:Influenza B virus B/Pennsylvania/08/2014|Segment:6|Subtype:null|Host:Human\r\n",
      "KT854702\tFluB\tNA\t1\tgb:KT854702|Organism:Influenza B virus B/Alabama/01/2015|Segment:6|Subtype:null|Host:Human\r\n",
      "CY176203\tFluB\tNA\t1\tgb:CY176203|Organism:Influenza B virus B/New York/1356/2012|Segment:6|Subtype:null|Host:Human\r\n",
      "CY174979\tFluB\tNA\t2\tgb:CY174979|Organism:Influenza B virus B/New York/1164/2008|Segment:6|Subtype:null|Host:Human\r\n",
      "CY150755\tFluB\tNA\t2\tgb:CY150755|Organism:Influenza B virus B/Christchurch/3/2008|Segment:6|Subtype:null|Host:Human\r\n",
      "KT854704\tFluB\tNA\t1\tgb:KT854704|Organism:Influenza B virus B/Texas/48/2015|Segment:6|Subtype:null|Host:Human\r\n",
      "CY174075\tFluB\tNA\t1\tgb:CY174075|Organism:Influenza B virus B/New York/1019/1999|Segment:6|Subtype:null|Host:Human\r\n",
      "KT854865\tFluB\tNA\t1\tgb:KT854865|Organism:Influenza B virus B/Maine/04/2015|Segment:6|Subtype:null|Host:Human\r\n",
      "CY156372\tFluB\tNA\t1\tgb:CY156372|Organism:Influenza B virus B/Brisbane/30/2007|Segment:6|Subtype:null|Host:Human\r\n",
      "KT383491\tFluB\tNA\t3\tgb:KT383491|Organism:Influenza B virus B/Beijingchongwen/15296/2015|Segment:6|Subtype:null|Host:Human\r\n",
      "CY156772\tFluB\tNA\t1\tgb:CY156772|Organism:Influenza B virus B/Sydney/102/2008|Segment:6|Subtype:null|Host:Human\r\n",
      "CY156468\tFluB\tNA\t1\tgb:CY156468|Organism:Influenza B virus B/Brisbane/14/2008|Segment:6|Subtype:null|Host:Human\r\n",
      "KT866011\tFluB\tNA\t3\tgb:KT866011|Organism:Influenza B virus B/Delaware/09/2015|Segment:6|Subtype:null|Host:Human\r\n",
      "KM063577\tFluB\tNA\t1\tgb:KM063577|Organism:Influenza B virus B/Texas/06/2014|Segment:6|Subtype:null|Host:Human\r\n",
      "CY174363\tFluB\tNA\t1\tgb:CY174363|Organism:Influenza B virus B/New York/1059/2003|Segment:6|Subtype:null|Host:Human\r\n",
      "CY191357\tFluB\tNA\t6\tgb:CY191357|Organism:Influenza B virus B/New York/WC-LVD-14-002/2014|Segment:6|Subtype:null|Host:Human\r\n",
      "KT374365\tFluB\tNA\t1\tgb:KT374365|Organism:Influenza B virus B/Illinois/NHRC_FDX51492/2015|Segment:6|Subtype:null|Host:Human\r\n",
      "KT374362\tFluB\tNA\t1\tgb:KT374362|Organism:Influenza B virus B/California/NHRC_BRD41137N/2015|Segment:6|Subtype:null|Host:Human\r\n",
      "KT866765\tFluB\tNA\t9\tgb:KT866765|Organism:Influenza B virus B/New York/17/2015|Segment:6|Subtype:null|Host:Human\r\n",
      "KT374361\tFluB\tNA\t1\tgb:KT374361|Organism:Influenza B virus B/California/NHRC_BRD41131N/2015|Segment:6|Subtype:null|Host:Human\r\n",
      "CY153828\tFluB\tNA\t1\tgb:CY153828|Organism:Influenza B virus B/Victoria/512/2010|Segment:6|Subtype:null|Host:Human\r\n",
      "KR073609\tFluB\tNA\t14\tgb:KR073609|Organism:Influenza B virus B/Malaysia/U2462/2013|Segment:6|Subtype:null|Host:Human\r\n",
      "CY155564\tFluB\tNA\t2\tgb:CY155564|Organism:Influenza B virus B/Brisbane/42/2005|Segment:6|Subtype:null|Host:Human\r\n",
      "CY119996\tFluB\tNA\t7\tgb:CY119996|Organism:Influenza B virus B/Malaysia/1918984/2007|Segment:6|Subtype:null|Host:Human\r\n",
      "CY191637\tFluB\tNA\t2\tgb:CY191637|Organism:Influenza B virus B/New York/WC-LVD-14-038/2014|Segment:6|Subtype:null|Host:Human\r\n",
      "CY191397\tFluB\tNA\t2\tgb:CY191397|Organism:Influenza B virus B/New York/WC-LVD-14-006/2014|Segment:6|Subtype:null|Host:Human\r\n",
      "KR073521\tFluB\tNA\t1\tgb:KR073521|Organism:Influenza B virus B/Malaysia/U316/2012|Segment:6|Subtype:null|Host:Human\r\n",
      "CY156900\tFluB\tNA\t1\tgb:CY156900|Organism:Influenza B virus B/Victoria/500/2011|Segment:6|Subtype:null|Host:Human\r\n",
      "LC033387\tFluB\tNA\t1\tgb:LC033387|Organism:Influenza B virus B/Nagasaki/13N098/2014|Segment:6|Subtype:null|Host:Human\r\n",
      "KT853222\tFluB\tNA\t1\tgb:KT853222|Organism:Influenza B virus B/Wyoming/05/2014|Segment:6|Subtype:null|Host:Human\r\n",
      "KJ532223\tFluB\tNA\t2\tgb:KJ532223|Organism:Influenza B virus B/New Hampshire/05/2013|Segment:6|Subtype:null|Host:Human\r\n",
      "CY018855\tFluB\tNA\t1\tgb:CY018855|Organism:Influenza B virus B/Connecticut/02/1995|Segment:6|Subtype:null|Host:Human\r\n",
      "LC033035\tFluB\tNA\t44\tgb:LC033035|Organism:Influenza B virus B/Hokkaido/13H080/2014|Segment:6|Subtype:null|Host:Human\r\n",
      "CY191613\tFluB\tNA\t1\tgb:CY191613|Organism:Influenza B virus B/New York/WC-LVD-14-035/2014|Segment:6|Subtype:null|Host:Human\r\n",
      "KM063859\tFluB\tNA\t1\tgb:KM063859|Organism:Influenza B virus B/Utah/03/2014|Segment:6|Subtype:null|Host:Human\r\n",
      "CY173849\tFluB\tNA\t1\tgb:CY173849|Organism:Influenza B virus B/New York/1380/2012|Segment:6|Subtype:null|Host:Human\r\n",
      "CY155796\tFluB\tNA\t1\tgb:CY155796|Organism:Influenza B virus B/Brisbane/5/2006|Segment:6|Subtype:null|Host:Human\r\n",
      "CY191485\tFluB\tNA\t1\tgb:CY191485|Organism:Influenza B virus B/New York/WC-LVD-14-018/2014|Segment:6|Subtype:null|Host:Human\r\n",
      "KT854453\tFluB\tNA\t1\tgb:KT854453|Organism:Influenza B virus B/Wisconsin/05/2015|Segment:6|Subtype:null|Host:Human\r\n",
      "KT866874\tFluB\tNA\t1\tgb:KT866874|Organism:Influenza B virus B/Nevada/10/2015|Segment:6|Subtype:null|Host:Human\r\n",
      "CY156764\tFluB\tNA\t2\tgb:CY156764|Organism:Influenza B virus B/Brisbane/162/2008|Segment:6|Subtype:null|Host:Human\r\n",
      "CY175067\tFluB\tNA\t2\tgb:CY175067|Organism:Influenza B virus B/New York/1175/2008|Segment:6|Subtype:null|Host:Human\r\n",
      "CY154708\tFluB\tNA\t2\tgb:CY154708|Organism:Influenza B virus B/Townsville/1/2003|Segment:6|Subtype:null|Host:Human\r\n",
      "CY155876\tFluB\tNA\t2\tgb:CY155876|Organism:Influenza B virus B/Christchurch/1/2007|Segment:6|Subtype:null|Host:Human\r\n",
      "JQ943661\tFluB\tNA\t1\tgb:JQ943661|Organism:Influenza B virus B/Ontario/0345100/2011|Segment:6|Subtype:null|Host:Human\r\n",
      "KT283542\tFluB\tNA\t1\tgb:KT283542|Organism:Influenza B virus B/Nevada/19/2014|Segment:6|Subtype:null|Host:Human\r\n",
      "KR073634\tFluB\tNA\t2\tgb:KR073634|Organism:Influenza B virus B/Malaysia/U3497/2014|Segment:6|Subtype:null|Host:Human\r\n",
      "KT866100\tFluB\tNA\t1\tgb:KT866100|Organism:Influenza B virus B/Florida/61/2015|Segment:6|Subtype:null|Host:Human\r\n",
      "KT383501\tFluB\tNA\t1\tgb:KT383501|Organism:Influenza B virus B/Beijingdongcheng/15379/2015|Segment:6|Subtype:null|Host:Human\r\n",
      "KT854329\tFluB\tNA\t2\tgb:KT854329|Organism:Influenza B virus B/Arkansas/10/2015|Segment:6|Subtype:null|Host:Human\r\n",
      "JX266944\tFluB\tNA\t1\tgb:JX266944|Organism:Influenza B virus B/Taiwan/101/2010|Segment:6|Subtype:null|Host:Human\r\n",
      "CY098993\tFluB\tNA\t1\tgb:CY098993|Organism:Influenza B virus B/Taiwan/14/2007|Segment:6|Subtype:null|Host:Human\r\n",
      "KT853329\tFluB\tNA\t2\tgb:KT853329|Organism:Influenza B virus B/Washington/01/2015|Segment:6|Subtype:null|Host:Human\r\n",
      "CY191573\tFluB\tNA\t8\tgb:CY191573|Organism:Influenza B virus B/New York/WC-LVD-14-029/2014|Segment:6|Subtype:null|Host:Human\r\n",
      "KT854773\tFluB\tNA\t1\tgb:KT854773|Organism:Influenza B virus B/Connecticut/02/2015|Segment:6|Subtype:null|Host:Human\r\n",
      "CY109182\tFluB\tNA\t1\tgb:CY109182|Organism:Influenza B virus B/Omsk/RII4/2011|Segment:6|Subtype:null|Host:Human\r\n",
      "CY018335\tFluB\tNA\t1\tgb:CY018335|Organism:Influenza B virus B/Houston/B846/2005|Segment:6|Subtype:null|Host:Human\r\n",
      "KT854208\tFluB\tNA\t1\tgb:KT854208|Organism:Influenza B virus B/Texas/08/2015|Segment:6|Subtype:null|Host:Human\r\n",
      "CY156676\tFluB\tNA\t1\tgb:CY156676|Organism:Influenza B virus B/Auckland/97/2008|Segment:6|Subtype:null|Host:Human\r\n",
      "KT854413\tFluB\tNA\t2\tgb:KT854413|Organism:Influenza B virus B/Texas/21/2015|Segment:6|Subtype:null|Host:Human\r\n",
      "CY150628\tFluB\tNA\t1\tgb:CY150628|Organism:Influenza B virus B/Christchurch/36/2007|Segment:6|Subtype:null|Host:Human\r\n",
      "KM063652\tFluB\tNA\t1\tgb:KM063652|Organism:Influenza B virus B/Illinois/02/2014|Segment:6|Subtype:null|Host:Human\r\n",
      "JX266943\tFluB\tNA\t1\tgb:JX266943|Organism:Influenza B virus B/Taiwan/2563/2008|Segment:6|Subtype:null|Host:Human\r\n",
      "AF134906\tFluB\tNA\t1\tgb:AF134906|Organism:Influenza B virus B/Nanchang/26/93|Segment:6|Subtype:null|Host:Human\r\n",
      "CY151603\tFluB\tNA\t2\tgb:CY151603|Organism:Influenza B virus B/Christchurch/281/2004|Segment:6|Subtype:null|Host:Human\r\n",
      "KR733212\tFluB\tNA\t3\tgb:KR733212|Organism:Influenza B virus B/Taiwan/01319/2004|Segment:6|Subtype:null|Host:Human\r\n",
      "KT866371\tFluB\tNA\t5\tgb:KT866371|Organism:Influenza B virus B/Utah/31/2015|Segment:6|Subtype:null|Host:Human\r\n",
      "CY175091\tFluB\tNA\t1\tgb:CY175091|Organism:Influenza B virus B/New York/1178/2008|Segment:6|Subtype:null|Host:Human\r\n",
      "KM063754\tFluB\tNA\t1\tgb:KM063754|Organism:Influenza B virus B/Maine/01/2014|Segment:6|Subtype:null|Host:Human\r\n",
      "KT866272\tFluB\tNA\t1\tgb:KT866272|Organism:Influenza B virus B/Hawaii/18/2015|Segment:6|Subtype:null|Host:Human\r\n",
      "CY150835\tFluB\tNA\t1\tgb:CY150835|Organism:Influenza B virus B/Sydney/2/2002|Segment:6|Subtype:null|Host:Human\r\n",
      "KM063712\tFluB\tNA\t1\tgb:KM063712|Organism:Influenza B virus B/Wisconsin/04/2014|Segment:6|Subtype:null|Host:Human\r\n",
      "CY156564\tFluB\tNA\t1\tgb:CY156564|Organism:Influenza B virus B/Sydney/62/2008|Segment:6|Subtype:null|Host:Human\r\n",
      "KT866405\tFluB\tNA\t1\tgb:KT866405|Organism:Influenza B virus B/Alaska/12/2015|Segment:6|Subtype:null|Host:Human\r\n",
      "KM063716\tFluB\tNA\t1\tgb:KM063716|Organism:Influenza B virus B/Minnesota/03/2014|Segment:6|Subtype:null|Host:Human\r\n",
      "KT866500\tFluB\tNA\t2\tgb:KT866500|Organism:Influenza B virus B/Alaska/08/2015|Segment:6|Subtype:null|Host:Human\r\n",
      "KT866501\tFluB\tNA\t1\tgb:KT866501|Organism:Influenza B virus B/Connecticut/30/2015|Segment:6|Subtype:null|Host:Human\r\n",
      "KJ532173\tFluB\tNA\t1\tgb:KJ532173|Organism:Influenza B virus B/Massachusetts/05/2013|Segment:6|Subtype:null|Host:Human\r\n",
      "KT866297\tFluB\tNA\t2\tgb:KT866297|Organism:Influenza B virus B/Maryland/20/2015|Segment:6|Subtype:null|Host:Human\r\n",
      "CY156132\tFluB\tNA\t1\tgb:CY156132|Organism:Influenza B virus B/Victoria/215/2007|Segment:6|Subtype:null|Host:Human\r\n",
      "KT383513\tFluB\tNA\t1\tgb:KT383513|Organism:Influenza B virus B/Beijinghaidian/1249/2015|Segment:6|Subtype:null|Host:Human\r\n",
      "GQ896381\tFluB\tNA\t1\tgb:GQ896381|Organism:Influenza B virus B/Nairobi/15/2008|Segment:6|Subtype:null|Host:Human\r\n",
      "KT854599\tFluB\tNA\t1\tgb:KT854599|Organism:Influenza B virus B/Florida/04/2015|Segment:6|Subtype:null|Host:Human\r\n",
      "KT383517\tFluB\tNA\t1\tgb:KT383517|Organism:Influenza B virus B/Beijinghaidian/15053/2015|Segment:6|Subtype:null|Host:Human\r\n",
      "CY191333\tFluB\tNA\t2\tgb:CY191333|Organism:Influenza B virus B/New York/WC-LVD-14-003/2014|Segment:6|Subtype:null|Host:Human\r\n",
      "KT313433\tFluB\tNA\t4\tgb:KT313433|Organism:Influenza B virus B/Georgia/NHRC_68223/2015|Segment:6|Subtype:null|Host:Human\r\n",
      "KR073540\tFluB\tNA\t3\tgb:KR073540|Organism:Influenza B virus B/Malaysia/U1065/2012|Segment:6|Subtype:null|Host:Human\r\n",
      "KP861953\tFluB\tNA\t1\tgb:KP861953|Organism:Influenza B virus B/Tehran/88859/2014|Segment:6|Subtype:null|Host:Human\r\n",
      "KT383521\tFluB\tNA\t1\tgb:KT383521|Organism:Influenza B virus B/Beijingchaoyang/1742/2015|Segment:6|Subtype:null|Host:Human\r\n",
      "KP861959\tFluB\tNA\t1\tgb:KP861959|Organism:Influenza B virus B/Tehran/85467/2014|Segment:6|Subtype:null|Host:Human\r\n",
      "KT854291\tFluB\tNA\t2\tgb:KT854291|Organism:Influenza B virus B/Wisconsin/14/2015|Segment:6|Subtype:null|Host:Human\r\n",
      "KT854427\tFluB\tNA\t1\tgb:KT854427|Organism:Influenza B virus B/Utah/13/2015|Segment:6|Subtype:null|Host:Human\r\n",
      "KT866347\tFluB\tNA\t1\tgb:KT866347|Organism:Influenza B virus B/Wisconsin/48/2015|Segment:6|Subtype:null|Host:Human\r\n",
      "KT853184\tFluB\tNA\t1\tgb:KT853184|Organism:Influenza B virus B/Washington/12/2014|Segment:6|Subtype:null|Host:Human\r\n",
      "KT854438\tFluB\tNA\t1\tgb:KT854438|Organism:Influenza B virus B/California/09/2015|Segment:6|Subtype:null|Host:Human\r\n",
      "CY188779\tFluB\tNA\t1\tgb:CY188779|Organism:Influenza B virus B/Nicaragua/4871_03/2010|Segment:6|Subtype:null|Host:Human\r\n",
      "CY176115\tFluB\tNA\t2\tgb:CY176115|Organism:Influenza B virus B/New York/1345/2012|Segment:6|Subtype:null|Host:Human\r\n",
      "LC033019\tFluB\tNA\t19\tgb:LC033019|Organism:Influenza B virus B/Hokkaido/13H045/2014|Segment:6|Subtype:null|Host:Human\r\n",
      "CY156780\tFluB\tNA\t1\tgb:CY156780|Organism:Influenza B virus B/Victoria/224/2008|Segment:6|Subtype:null|Host:Human\r\n",
      "CY150803\tFluB\tNA\t1\tgb:CY150803|Organism:Influenza B virus B/Brisbane/115/2008|Segment:6|Subtype:null|Host:Human\r\n",
      "KM063729\tFluB\tNA\t3\tgb:KM063729|Organism:Influenza B virus B/Wyoming/01/2014|Segment:6|Subtype:null|Host:Human\r\n",
      "CY174435\tFluB\tNA\t2\tgb:CY174435|Organism:Influenza B virus B/New York/1068/2005|Segment:6|Subtype:null|Host:Human\r\n",
      "KT374370\tFluB\tNA\t3\tgb:KT374370|Organism:Influenza B virus B/South Carolina/NHRC_JX41219/2015|Segment:6|Subtype:null|Host:Human\r\n",
      "KM063745\tFluB\tNA\t1\tgb:KM063745|Organism:Influenza B virus B/Nebraska/01/2014|Segment:6|Subtype:null|Host:Human\r\n",
      "KR733226\tFluB\tNA\t2\tgb:KR733226|Organism:Influenza B virus B/Taiwan/70094/2009|Segment:6|Subtype:null|Host:Human\r\n",
      "KR733227\tFluB\tNA\t1\tgb:KR733227|Organism:Influenza B virus B/Taiwan/70231/2009|Segment:6|Subtype:null|Host:Human\r\n",
      "CY175235\tFluB\tNA\t1\tgb:CY175235|Organism:Influenza B virus B/New York/1187/2008|Segment:6|Subtype:null|Host:Human\r\n",
      "JQ943659\tFluB\tNA\t10\tgb:JQ943659|Organism:Influenza B virus B/Ontario/0077145/2011|Segment:6|Subtype:null|Host:Human\r\n",
      "CY174451\tFluB\tNA\t1\tgb:CY174451|Organism:Influenza B virus B/New York/1070/2005|Segment:6|Subtype:null|Host:Human\r\n",
      "CY150795\tFluB\tNA\t3\tgb:CY150795|Organism:Influenza B virus B/Sydney/34/2008|Segment:6|Subtype:null|Host:Human\r\n",
      "KT853466\tFluB\tNA\t1\tgb:KT853466|Organism:Influenza B virus B/Pennsylvania/05/2015|Segment:6|Subtype:null|Host:Human\r\n",
      "CY191453\tFluB\tNA\t2\tgb:CY191453|Organism:Influenza B virus B/New York/WC-LVD-14-013/2014|Segment:6|Subtype:null|Host:Human\r\n",
      "KT853300\tFluB\tNA\t5\tgb:KT853300|Organism:Influenza B virus B/Wisconsin/15/2014|Segment:6|Subtype:null|Host:Human\r\n",
      "KR073553\tFluB\tNA\t1\tgb:KR073553|Organism:Influenza B virus B/Malaysia/U1580/2012|Segment:6|Subtype:null|Host:Human\r\n",
      "KT853307\tFluB\tNA\t3\tgb:KT853307|Organism:Influenza B virus B/Iowa/01/2015|Segment:6|Subtype:null|Host:Human\r\n",
      "KR073650\tFluB\tNA\t1\tgb:KR073650|Organism:Influenza B virus B/Malaysia/U3685/2014|Segment:6|Subtype:null|Host:Human\r\n",
      "CY175035\tFluB\tNA\t3\tgb:CY175035|Organism:Influenza B virus B/New York/1171/2008|Segment:6|Subtype:null|Host:Human\r\n",
      "KT854826\tFluB\tNA\t1\tgb:KT854826|Organism:Influenza B virus B/Wisconsin/15/2015|Segment:6|Subtype:null|Host:Human\r\n",
      "KT866981\tFluB\tNA\t1\tgb:KT866981|Organism:Influenza B virus B/Alaska/27/2015|Segment:6|Subtype:null|Host:Human\r\n",
      "LC032939\tFluB\tNA\t29\tgb:LC032939|Organism:Influenza B virus B/Gunma/13G022/2014|Segment:6|Subtype:null|Host:Human\r\n",
      "CY191629\tFluB\tNA\t2\tgb:CY191629|Organism:Influenza B virus B/New York/WC-LVD-14-037/2014|Segment:6|Subtype:null|Host:Human\r\n",
      "CY172161\tFluB\tNA\t1\tgb:CY172161|Organism:Influenza B virus B/Chicago/YGB_04011/2013|Segment:6|Subtype:null|Host:Human\r\n",
      "KT853476\tFluB\tNA\t1\tgb:KT853476|Organism:Influenza B virus B/Texas/04/2015|Segment:6|Subtype:null|Host:Human\r\n",
      "CY191381\tFluB\tNA\t1\tgb:CY191381|Organism:Influenza B virus B/New York/WC-LVD-14-004/2014|Segment:6|Subtype:null|Host:Human\r\n",
      "KR073628\tFluB\tNA\t1\tgb:KR073628|Organism:Influenza B virus B/Malaysia/U3404/2014|Segment:6|Subtype:null|Host:Human\r\n",
      "KT866129\tFluB\tNA\t1\tgb:KT866129|Organism:Influenza B virus B/Alaska/31/2015|Segment:6|Subtype:null|Host:Human\r\n",
      "LC033371\tFluB\tNA\t1\tgb:LC033371|Organism:Influenza B virus B/Nagasaki/13N092/2014|Segment:6|Subtype:null|Host:Human\r\n",
      "KT866057\tFluB\tNA\t1\tgb:KT866057|Organism:Influenza B virus B/Wisconsin/50/2015|Segment:6|Subtype:null|Host:Human\r\n",
      "KM063739\tFluB\tNA\t3\tgb:KM063739|Organism:Influenza B virus B/Texas/02/2014|Segment:6|Subtype:null|Host:Human\r\n",
      "KT866466\tFluB\tNA\t2\tgb:KT866466|Organism:Influenza B virus B/Utah/25/2015|Segment:6|Subtype:null|Host:Human\r\n",
      "KR073623\tFluB\tNA\t1\tgb:KR073623|Organism:Influenza B virus B/Malaysia/U3288/2013|Segment:6|Subtype:null|Host:Human\r\n",
      "KR073622\tFluB\tNA\t2\tgb:KR073622|Organism:Influenza B virus B/Malaysia/U3277/2013|Segment:6|Subtype:null|Host:Human\r\n",
      "LC033379\tFluB\tNA\t133\tgb:LC033379|Organism:Influenza B virus B/Nagasaki/13N070/2014|Segment:6|Subtype:null|Host:Human\r\n",
      "JX513104\tFluB\tNA\t66\tgb:JX513104|Organism:Influenza B virus B/Thailand/CU-B6096/2012|Segment:6|Subtype:null|Host:Human\r\n",
      "CY019717\tFluB\tNA\t1\tgb:CY019717|Organism:Influenza B virus B/Indiana/01/1995|Segment:6|Subtype:null|Host:Human\r\n",
      "KC479005\tFluB\tNA\t6\tgb:KC479005|Organism:Influenza B virus B/Ontario/0040195/2012|Segment:6|Subtype:null|Host:Human\r\n",
      "CY019541\tFluB\tNA\t1\tgb:CY019541|Organism:Influenza B virus B/Johannesburg/69/2001|Segment:6|Subtype:null|Host:Human\r\n",
      "KT854278\tFluB\tNA\t1\tgb:KT854278|Organism:Influenza B virus B/Texas/12/2015|Segment:6|Subtype:null|Host:Human\r\n",
      "CY156052\tFluB\tNA\t1\tgb:CY156052|Organism:Influenza B virus B/Sydney/503/2007|Segment:6|Subtype:null|Host:Human\r\n",
      "KR073561\tFluB\tNA\t1\tgb:KR073561|Organism:Influenza B virus B/Malaysia/U1881/2013|Segment:6|Subtype:null|Host:Human\r\n",
      "CY156932\tFluB\tNA\t3\tgb:CY156932|Organism:Influenza B virus B/Brisbane/121/2011|Segment:6|Subtype:null|Host:Human\r\n",
      "KT866529\tFluB\tNA\t1\tgb:KT866529|Organism:Influenza B virus B/New York/18/2015|Segment:6|Subtype:null|Host:Human\r\n",
      "KR733216\tFluB\tNA\t1\tgb:KR733216|Organism:Influenza B virus B/Taiwan/91105/2005|Segment:6|Subtype:null|Host:Human\r\n",
      "KM063584\tFluB\tNA\t1\tgb:KM063584|Organism:Influenza B virus B/Connecticut/02/2014|Segment:6|Subtype:null|Host:Human\r\n",
      "CY150763\tFluB\tNA\t2\tgb:CY150763|Organism:Influenza B virus B/Auckland/41/2008|Segment:6|Subtype:null|Host:Human\r\n",
      "KT853154\tFluB\tNA\t1\tgb:KT853154|Organism:Influenza B virus B/Maryland/15/2014|Segment:6|Subtype:null|Host:Human\r\n",
      "KT866753\tFluB\tNA\t1\tgb:KT866753|Organism:Influenza B virus B/Florida/38/2015|Segment:6|Subtype:null|Host:Human\r\n",
      "KT866858\tFluB\tNA\t1\tgb:KT866858|Organism:Influenza B virus B/Utah/32/2015|Segment:6|Subtype:null|Host:Human\r\n",
      "KT853504\tFluB\tNA\t1\tgb:KT853504|Organism:Influenza B virus B/Pennsylvania/04/2014|Segment:6|Subtype:null|Host:Human\r\n",
      "KT865991\tFluB\tNA\t5\tgb:KT865991|Organism:Influenza B virus B/Florida/46/2015|Segment:6|Subtype:null|Host:Human\r\n",
      "KT866209\tFluB\tNA\t1\tgb:KT866209|Organism:Influenza B virus B/Florida/53/2015|Segment:6|Subtype:null|Host:Human\r\n",
      "CY191653\tFluB\tNA\t3\tgb:CY191653|Organism:Influenza B virus B/New York/WC-LVD-14-040/2014|Segment:6|Subtype:null|Host:Human\r\n",
      "KT866207\tFluB\tNA\t1\tgb:KT866207|Organism:Influenza B virus B/California/89/2015|Segment:6|Subtype:null|Host:Human\r\n",
      "KR733225\tFluB\tNA\t1\tgb:KR733225|Organism:Influenza B virus B/Taiwan/01261/2008|Segment:6|Subtype:null|Host:Human\r\n",
      "KT854172\tFluB\tNA\t1\tgb:KT854172|Organism:Influenza B virus B/Mississippi/02/2015|Segment:6|Subtype:null|Host:Human\r\n",
      "CY150715\tFluB\tNA\t2\tgb:CY150715|Organism:Influenza B virus B/Sydney/2/2008|Segment:6|Subtype:null|Host:Human\r\n",
      "KT853509\tFluB\tNA\t3\tgb:KT853509|Organism:Influenza B virus B/California/33/2014|Segment:6|Subtype:null|Host:Human\r\n",
      "CY150811\tFluB\tNA\t1\tgb:CY150811|Organism:Influenza B virus B/Sydney/50/2008|Segment:6|Subtype:null|Host:Human\r\n",
      "KM063629\tFluB\tNA\t1\tgb:KM063629|Organism:Influenza B virus B/Utah/01/2014|Segment:6|Subtype:null|Host:Human\r\n",
      "KT866323\tFluB\tNA\t14\tgb:KT866323|Organism:Influenza B virus B/Delaware/11/2015|Segment:6|Subtype:null|Host:Human\r\n",
      "KR073658\tFluB\tNA\t44\tgb:KR073658|Organism:Influenza B virus B/Malaysia/U3895/2014|Segment:6|Subtype:null|Host:Human\r\n",
      "CY174755\tFluB\tNA\t1\tgb:CY174755|Organism:Influenza B virus B/New York/1134/2008|Segment:6|Subtype:null|Host:Human\r\n",
      "CY173803\tFluB\tNA\t1\tgb:CY173803|Organism:Influenza B virus B/New York/1368/2012|Segment:6|Subtype:null|Host:Human\r\n",
      "KR073655\tFluB\tNA\t4\tgb:KR073655|Organism:Influenza B virus B/Malaysia/U3805/2014|Segment:6|Subtype:null|Host:Human\r\n",
      "KR073656\tFluB\tNA\t1\tgb:KR073656|Organism:Influenza B virus B/Malaysia/U3867/2014|Segment:6|Subtype:null|Host:Human\r\n",
      "KR073657\tFluB\tNA\t2\tgb:KR073657|Organism:Influenza B virus B/Malaysia/U3876/2014|Segment:6|Subtype:null|Host:Human\r\n",
      "CY156412\tFluB\tNA\t1\tgb:CY156412|Organism:Influenza B virus B/Brisbane/5/2008|Segment:6|Subtype:null|Host:Human\r\n",
      "KR073651\tFluB\tNA\t3\tgb:KR073651|Organism:Influenza B virus B/Malaysia/U3734/2014|Segment:6|Subtype:null|Host:Human\r\n",
      "KR073653\tFluB\tNA\t2\tgb:KR073653|Organism:Influenza B virus B/Malaysia/U3802/2014|Segment:6|Subtype:null|Host:Human\r\n"
     ]
    }
   ],
   "source": [
    "seg='NA'\n",
    "\n",
    "cd /home/alan/projects/MinION-notebook/clinical-analysis/blast-result-comparison/segment-cross-contamination\n",
    "\n",
    "samtools view flu-11-9.2d.mapped-only.bam | grep $seg | cut -f1,10 | perl -pe 's/^(.+)\\t(.+)/>$1\\n$2/g' > flu-11-9.2d.mapped-only.$seg.fasta\n",
    "\n",
    "blastn -db ~/projects/MinION-notebook/clinical-analysis/fludb/all-H1N1-H3N2-FluB-full-segs.fasta -query flu-11-9.2d.mapped-only.$seg.fasta -out flu-11-9.2d.mapped-only.$seg.blastn.xml -outfmt 5 -evalue 0.00005 -culling_limit 2 -max_target_seqs 1 -num_threads 40\n",
    "\n",
    "python ~/projects/MinION-notebook/scripts/read-fludb-blastxml.py flu-11-9.2d.mapped-only.$seg.blastn.xml"
   ]
  },
  {
   "cell_type": "code",
   "execution_count": 8,
   "metadata": {
    "ExecuteTime": {
     "end_time": "2016-03-23T15:25:08.297734",
     "start_time": "2016-03-23T15:25:04.925233"
    },
    "collapsed": false,
    "run_control": {
     "marked": false
    }
   },
   "outputs": [
    {
     "name": "stdout",
     "output_type": "stream",
     "text": [
      "KT854242\tFluB\tPA\t1\tgb:KT854242|Organism:Influenza B virus B/Tennessee/01/2015|Segment:3|Subtype:null|Host:Human\r\n",
      "CY018770\tFluB\tPA\t1\tgb:CY018770|Organism:Influenza B virus B/Yamagata/16/1988|Segment:3|Subtype:null|Host:Human\r\n",
      "KT853596\tFluB\tPA\t1\tgb:KT853596|Organism:Influenza B virus B/Florida/52/2015|Segment:3|Subtype:null|Host:Human\r\n",
      "KT854249\tFluB\tPA\t2\tgb:KT854249|Organism:Influenza B virus B/Utah/04/2015|Segment:3|Subtype:null|Host:Human\r\n",
      "KT853293\tFluB\tPA\t2\tgb:KT853293|Organism:Influenza B virus B/Hawaii/38/2014|Segment:3|Subtype:null|Host:Human\r\n",
      "CY191536\tFluB\tPA\t1\tgb:CY191536|Organism:Influenza B virus B/New York/WC-LVD-14-024/2014|Segment:3|Subtype:null|Host:Human\r\n",
      "JX513189\tFluB\tPA\t1\tgb:JX513189|Organism:Influenza B virus B/Thailand/CU-H2933/2011|Segment:3|Subtype:null|Host:Human\r\n",
      "LC032952\tFluB\tPA\t1\tgb:LC032952|Organism:Influenza B virus B/Gunma/13G028/2014|Segment:3|Subtype:null|Host:Human\r\n",
      "CY191640\tFluB\tPA\t2\tgb:CY191640|Organism:Influenza B virus B/New York/WC-LVD-14-038/2014|Segment:3|Subtype:null|Host:Human\r\n",
      "KT853369\tFluB\tPA\t15\tgb:KT853369|Organism:Influenza B virus B/Texas/01/2015|Segment:3|Subtype:null|Host:Human\r\n",
      "KT854166\tFluB\tPA\t1\tgb:KT854166|Organism:Influenza B virus B/Texas/17/2015|Segment:3|Subtype:null|Host:Human\r\n",
      "CY176006\tFluB\tPA\t1\tgb:CY176006|Organism:Influenza B virus B/New York/1331/2012|Segment:3|Subtype:null|Host:Human\r\n",
      "KT854598\tFluB\tPA\t2\tgb:KT854598|Organism:Influenza B virus B/Texas/08/2015|Segment:3|Subtype:null|Host:Human\r\n",
      "KT866571\tFluB\tPA\t1\tgb:KT866571|Organism:Influenza B virus B/Louisiana/15/2015|Segment:3|Subtype:null|Host:Human\r\n",
      "KJ532248\tFluB\tPA\t1\tgb:KJ532248|Organism:Influenza B virus B/Michigan/02/2013|Segment:3|Subtype:null|Host:Human\r\n",
      "KT854590\tFluB\tPA\t2\tgb:KT854590|Organism:Influenza B virus B/Georgia/02/2015|Segment:3|Subtype:null|Host:Human\r\n",
      "KT865969\tFluB\tPA\t1\tgb:KT865969|Organism:Influenza B virus B/New Hampshire/13/2015|Segment:3|Subtype:null|Host:Human\r\n",
      "KT866158\tFluB\tPA\t2\tgb:KT866158|Organism:Influenza B virus B/Alaska/41/2015|Segment:3|Subtype:null|Host:Human\r\n",
      "CY018474\tFluB\tPA\t2\tgb:CY018474|Organism:Influenza B virus B/Alaska/16/2000|Segment:3|Subtype:null|Host:Human\r\n",
      "KT866425\tFluB\tPA\t2\tgb:KT866425|Organism:Influenza B virus B/Alaska/10/2015|Segment:3|Subtype:null|Host:Human\r\n",
      "KT866834\tFluB\tPA\t1\tgb:KT866834|Organism:Influenza B virus B/Maryland/16/2015|Segment:3|Subtype:null|Host:Human\r\n",
      "CY156919\tFluB\tPA\t1\tgb:CY156919|Organism:Influenza B virus B/South Auckland/5/2011|Segment:3|Subtype:null|Host:Human\r\n",
      "CY115276\tFluB\tPA\t2\tgb:CY115276|Organism:Influenza B virus B/England/145/2008|Segment:3|Subtype:null|Host:Human\r\n",
      "KT854090\tFluB\tPA\t1\tgb:KT854090|Organism:Influenza B virus B/Utah/27/2015|Segment:3|Subtype:null|Host:Human\r\n",
      "KJ577164\tFluB\tPA\t1\tgb:KJ577164|Organism:Influenza B virus B/Thailand/VIROAF3/2012|Segment:3|Subtype:null|Host:Human\r\n",
      "KT854796\tFluB\tPA\t1\tgb:KT854796|Organism:Influenza B virus B/Alabama/01/2015|Segment:3|Subtype:null|Host:Human\r\n",
      "KT853974\tFluB\tPA\t1\tgb:KT853974|Organism:Influenza B virus B/Massachusetts/15/2015|Segment:3|Subtype:null|Host:Human\r\n",
      "CY191544\tFluB\tPA\t1\tgb:CY191544|Organism:Influenza B virus B/New York/WC-LVD-14-025/2014|Segment:3|Subtype:null|Host:Human\r\n",
      "CY176118\tFluB\tPA\t1\tgb:CY176118|Organism:Influenza B virus B/New York/1345/2012|Segment:3|Subtype:null|Host:Human\r\n",
      "CY175910\tFluB\tPA\t2\tgb:CY175910|Organism:Influenza B virus B/New York/1293/2011|Segment:3|Subtype:null|Host:Human\r\n",
      "CY150774\tFluB\tPA\t1\tgb:CY150774|Organism:Influenza B virus B/Brisbane/40/2008|Segment:3|Subtype:null|Host:Human\r\n",
      "KT854917\tFluB\tPA\t1\tgb:KT854917|Organism:Influenza B virus B/Nevada/03/2015|Segment:3|Subtype:null|Host:Human\r\n",
      "KT854710\tFluB\tPA\t2\tgb:KT854710|Organism:Influenza B virus B/Wisconsin/14/2015|Segment:3|Subtype:null|Host:Human\r\n",
      "CY176012\tFluB\tNP\t1\tgb:CY176012|Organism:Influenza B virus B/New York/1332/2012|Segment:5|Subtype:null|Host:Human\r\n",
      "CY150966\tFluB\tPA\t1\tgb:CY150966|Organism:Influenza B virus B/Sydney/11/2002|Segment:3|Subtype:null|Host:Human\r\n",
      "KT866304\tFluB\tPA\t1\tgb:KT866304|Organism:Influenza B virus B/Wisconsin/47/2015|Segment:3|Subtype:null|Host:Human\r\n",
      "KT854582\tFluB\tPA\t1\tgb:KT854582|Organism:Influenza B virus B/Nevada/04/2015|Segment:3|Subtype:null|Host:Human\r\n",
      "CY154727\tFluB\tPA\t1\tgb:CY154727|Organism:Influenza B virus B/Christchurch/242/2004|Segment:3|Subtype:null|Host:Human\r\n",
      "KT866536\tFluB\tPA\t1\tgb:KT866536|Organism:Influenza B virus B/Minnesota/13/2015|Segment:3|Subtype:null|Host:Human\r\n",
      "CY174414\tFluB\tPA\t2\tgb:CY174414|Organism:Influenza B virus B/New York/1065/2004|Segment:3|Subtype:null|Host:Human\r\n",
      "CY156903\tFluB\tPA\t1\tgb:CY156903|Organism:Influenza B virus B/Victoria/500/2011|Segment:3|Subtype:null|Host:Human\r\n",
      "KT855014\tFluB\tPA\t2\tgb:KT855014|Organism:Influenza B virus B/Montana/06/2015|Segment:3|Subtype:null|Host:Human\r\n",
      "CY155159\tFluB\tPA\t1\tgb:CY155159|Organism:Influenza B virus B/Christchurch/287/2004|Segment:3|Subtype:null|Host:Human\r\n",
      "CY115260\tFluB\tPA\t1\tgb:CY115260|Organism:Influenza B virus B/Bangladesh/3333/2007|Segment:3|Subtype:null|Host:Human\r\n",
      "KT853538\tFluB\tPA\t4\tgb:KT853538|Organism:Influenza B virus B/Hawaii/35/2014|Segment:3|Subtype:null|Host:Human\r\n",
      "KT866498\tFluB\tPA\t1\tgb:KT866498|Organism:Influenza B virus B/Connecticut/30/2015|Segment:3|Subtype:null|Host:Human\r\n",
      "KT854577\tFluB\tPA\t2\tgb:KT854577|Organism:Influenza B virus B/Nevada/05/2015|Segment:3|Subtype:null|Host:Human\r\n",
      "CY191552\tFluB\tPA\t1\tgb:CY191552|Organism:Influenza B virus B/New York/WC-LVD-14-026/2014|Segment:3|Subtype:null|Host:Human\r\n",
      "CY150766\tFluB\tPA\t2\tgb:CY150766|Organism:Influenza B virus B/Auckland/41/2008|Segment:3|Subtype:null|Host:Human\r\n",
      "KT853431\tFluB\tPA\t4\tgb:KT853431|Organism:Influenza B virus B/Texas/04/2015|Segment:3|Subtype:null|Host:Human\r\n",
      "DQ508912\tFluB\tPA\t1\tgb:DQ508912|Organism:Influenza B virus B/Ann Arbor/1/1986|Segment:3|Subtype:null|Host:Human\r\n",
      "KT866312\tFluB\tPA\t1\tgb:KT866312|Organism:Influenza B virus B/Wisconsin/46/2015|Segment:3|Subtype:null|Host:Human\r\n",
      "KT853230\tFluB\tPA\t2\tgb:KT853230|Organism:Influenza B virus B/Alaska/01/2015|Segment:3|Subtype:null|Host:Human\r\n",
      "KT867015\tFluB\tPA\t4\tgb:KT867015|Organism:Influenza B virus B/Utah/29/2015|Segment:3|Subtype:null|Host:Human\r\n",
      "KT867014\tFluB\tPA\t1\tgb:KT867014|Organism:Influenza B virus B/Florida/49/2015|Segment:3|Subtype:null|Host:Human\r\n",
      "CY124929\tFluB\tPA\t3\tgb:CY124929|Organism:Influenza B virus B/Managua/3342.01/2008|Segment:3|Subtype:null|Host:Human\r\n",
      "CY018570\tFluB\tPA\t1\tgb:CY018570|Organism:Influenza B virus B/Singapore/31/1998|Segment:3|Subtype:null|Host:Human\r\n",
      "CY174078\tFluB\tPA\t1\tgb:CY174078|Organism:Influenza B virus B/New York/1019/1999|Segment:3|Subtype:null|Host:Human\r\n",
      "CY175302\tFluB\tPA\t1\tgb:CY175302|Organism:Influenza B virus B/New York/1201/2008|Segment:3|Subtype:null|Host:Human\r\n",
      "KT866174\tFluB\tPA\t1\tgb:KT866174|Organism:Influenza B virus B/Alaska/43/2015|Segment:3|Subtype:null|Host:Human\r\n",
      "KT854338\tFluB\tPA\t4\tgb:KT854338|Organism:Influenza B virus B/Wisconsin/28/2015|Segment:3|Subtype:null|Host:Human\r\n",
      "CY124945\tFluB\tPA\t12\tgb:CY124945|Organism:Influenza B virus B/Managua/3425.01/2008|Segment:3|Subtype:null|Host:Human\r\n",
      "KT854232\tFluB\tPA\t1\tgb:KT854232|Organism:Influenza B virus B/Alabama/03/2015|Segment:3|Subtype:null|Host:Human\r\n",
      "CY151918\tFluB\tPA\t1\tgb:CY151918|Organism:Influenza B virus B/Sydney/12/2005|Segment:3|Subtype:null|Host:Human\r\n",
      "KT866487\tFluB\tPA\t1\tgb:KT866487|Organism:Influenza B virus B/New York/18/2015|Segment:3|Subtype:null|Host:Human\r\n",
      "KT853350\tFluB\tPA\t2\tgb:KT853350|Organism:Influenza B virus B/Virginia/01/2015|Segment:3|Subtype:null|Host:Human\r\n",
      "CY150750\tFluB\tPA\t1\tgb:CY150750|Organism:Influenza B virus B/Wellington/4/2008|Segment:3|Subtype:null|Host:Human\r\n",
      "CY119999\tFluB\tPA\t25\tgb:CY119999|Organism:Influenza B virus B/Malaysia/1918984/2007|Segment:3|Subtype:null|Host:Human\r\n",
      "CY115188\tFluB\tPA\t1\tgb:CY115188|Organism:Influenza B virus B/Wisconsin/01/2010|Segment:3|Subtype:null|Host:Human\r\n",
      "KT853425\tFluB\tPA\t2\tgb:KT853425|Organism:Influenza B virus B/Pennsylvania/05/2015|Segment:3|Subtype:null|Host:Human\r\n",
      "KT866477\tFluB\tPA\t1\tgb:KT866477|Organism:Influenza B virus B/Arizona/04/2015|Segment:3|Subtype:null|Host:Human\r\n",
      "KT854643\tFluB\tPA\t1\tgb:KT854643|Organism:Influenza B virus B/Florida/04/2015|Segment:3|Subtype:null|Host:Human\r\n",
      "AY504609\tFluB\tPA\t1\tgb:AY504609|Organism:Influenza B virus B/Hong Kong/330/2001|Segment:3|Subtype:null|Host:Human\r\n",
      "KT259402\tFluB\tHA\t1\tgb:KT259402|Organism:Influenza B virus B/California/NHRC_BRD11934N/2015|Segment:4|Subtype:null|Host:Human\r\n",
      "KT866089\tFluB\tPA\t1\tgb:KT866089|Organism:Influenza B virus B/Florida/60/2015|Segment:3|Subtype:null|Host:Human\r\n",
      "CY174390\tFluB\tPA\t1\tgb:CY174390|Organism:Influenza B virus B/New York/1062/2004|Segment:3|Subtype:null|Host:Human\r\n",
      "CY191480\tFluB\tPA\t1\tgb:CY191480|Organism:Influenza B virus B/New York/WC-LVD-14-016/2014|Segment:3|Subtype:null|Host:Human\r\n",
      "KT866244\tFluB\tPA\t6\tgb:KT866244|Organism:Influenza B virus B/Alaska/18/2015|Segment:3|Subtype:null|Host:Human\r\n",
      "KT854485\tFluB\tPA\t3\tgb:KT854485|Organism:Influenza B virus B/Texas/07/2015|Segment:3|Subtype:null|Host:Human\r\n",
      "KT854321\tFluB\tPA\t1\tgb:KT854321|Organism:Influenza B virus B/Wisconsin/18/2015|Segment:3|Subtype:null|Host:Human\r\n",
      "KT855035\tFluB\tPA\t1\tgb:KT855035|Organism:Influenza B virus B/Wisconsin/07/2015|Segment:3|Subtype:null|Host:Human\r\n",
      "KT866062\tFluB\tPA\t1\tgb:KT866062|Organism:Influenza B virus B/Minnesota/19/2015|Segment:3|Subtype:null|Host:Human\r\n",
      "KT854899\tFluB\tPA\t1\tgb:KT854899|Organism:Influenza B virus B/Texas/49/2015|Segment:3|Subtype:null|Host:Human\r\n",
      "CY191576\tFluB\tPA\t3\tgb:CY191576|Organism:Influenza B virus B/New York/WC-LVD-14-029/2014|Segment:3|Subtype:null|Host:Human\r\n",
      "KT866888\tFluB\tPA\t1\tgb:KT866888|Organism:Influenza B virus B/Arizona/01/2015|Segment:3|Subtype:null|Host:Human\r\n",
      "CY150741\tFluB\tPA\t1\tgb:CY150741|Organism:Influenza B virus B/Christchurch/6/2008|Segment:3|Subtype:null|Host:Human\r\n",
      "CY191568\tFluB\tPA\t1\tgb:CY191568|Organism:Influenza B virus B/New York/WC-LVD-14-028/2014|Segment:3|Subtype:null|Host:Human\r\n",
      "KT866968\tFluB\tPA\t1\tgb:KT866968|Organism:Influenza B virus B/Utah/25/2015|Segment:3|Subtype:null|Host:Human\r\n",
      "CY156223\tFluB\tPA\t1\tgb:CY156223|Organism:Influenza B virus B/Auckland/14/2007|Segment:3|Subtype:null|Host:Human\r\n",
      "CY175102\tFluB\tPA\t1\tgb:CY175102|Organism:Influenza B virus B/New York/1179/2008|Segment:3|Subtype:null|Host:Human\r\n",
      "KT854722\tFluB\tPA\t1\tgb:KT854722|Organism:Influenza B virus B/Maine/04/2015|Segment:3|Subtype:null|Host:Human\r\n",
      "KT853250\tFluB\tPA\t1\tgb:KT853250|Organism:Influenza B virus B/Wyoming/01/2015|Segment:3|Subtype:null|Host:Human\r\n",
      "KT866641\tFluB\tPA\t1\tgb:KT866641|Organism:Influenza B virus B/Minnesota/02/2015|Segment:3|Subtype:null|Host:Human\r\n",
      "CY151606\tFluB\tPA\t1\tgb:CY151606|Organism:Influenza B virus B/Christchurch/281/2004|Segment:3|Subtype:null|Host:Human\r\n",
      "KM063798\tFluB\tPA\t1\tgb:KM063798|Organism:Influenza B virus B/Wisconsin/02/2014|Segment:3|Subtype:null|Host:Human\r\n",
      "M16711|O\tFluB\tPA\t1\tgb:M16711|Organism:Influenza B virus B/Singapore/222/79|Segment:3|Subtype:null|Host:Human\r\n",
      "KT866566\tFluB\tPA\t3\tgb:KT866566|Organism:Influenza B virus B/Florida/46/2015|Segment:3|Subtype:null|Host:Human\r\n",
      "KT866672\tFluB\tPA\t1\tgb:KT866672|Organism:Influenza B virus B/Maine/05/2015|Segment:3|Subtype:null|Host:Human\r\n",
      "KT866676\tFluB\tPA\t3\tgb:KT866676|Organism:Influenza B virus B/Wisconsin/22/2015|Segment:3|Subtype:null|Host:Human\r\n",
      "KT866674\tFluB\tPA\t1\tgb:KT866674|Organism:Influenza B virus B/Washington/13/2015|Segment:3|Subtype:null|Host:Human\r\n",
      "CY151030\tFluB\tPA\t1\tgb:CY151030|Organism:Influenza B virus B/Victoria/500/2002|Segment:3|Subtype:null|Host:Human\r\n",
      "KT865926\tFluB\tPA\t1\tgb:KT865926|Organism:Influenza B virus B/South Carolina/02/2015|Segment:3|Subtype:null|Host:Human\r\n",
      "KT855023\tFluB\tPA\t2\tgb:KT855023|Organism:Influenza B virus B/Texas/12/2015|Segment:3|Subtype:null|Host:Human\r\n",
      "CY124969\tFluB\tPA\t1\tgb:CY124969|Organism:Influenza B virus B/Managua/2056.03/2008|Segment:3|Subtype:null|Host:Human\r\n",
      "KT866971\tFluB\tPA\t4\tgb:KT866971|Organism:Influenza B virus B/Alaska/25/2015|Segment:3|Subtype:null|Host:Human\r\n",
      "KT853489\tFluB\tPA\t1\tgb:KT853489|Organism:Influenza B virus B/Wisconsin/03/2015|Segment:3|Subtype:null|Host:Human\r\n",
      "AY504601\tFluB\tPA\t1\tgb:AY504601|Organism:Influenza B virus B/Victoria/504/2000|Segment:3|Subtype:null|Host:Human\r\n",
      "KT854217\tFluB\tPA\t2\tgb:KT854217|Organism:Influenza B virus B/Wisconsin/06/2015|Segment:3|Subtype:null|Host:Human\r\n",
      "CY124961\tFluB\tPA\t4\tgb:CY124961|Organism:Influenza B virus B/Managua/1089.01/2008|Segment:3|Subtype:null|Host:Human\r\n",
      "KT866588\tFluB\tPA\t1\tgb:KT866588|Organism:Influenza B virus B/Texas/93/2015|Segment:3|Subtype:null|Host:Human\r\n",
      "KT866871\tFluB\tPA\t2\tgb:KT866871|Organism:Influenza B virus B/Nevada/10/2015|Segment:3|Subtype:null|Host:Human\r\n",
      "AX399744\tFluB\tPA\t1\tgb:AX399744|Organism:Influenza B virus B/Vienna/1/99|Segment:3|Subtype:null|Host:Human\r\n",
      "KT854542\tFluB\tPA\t1\tgb:KT854542|Organism:Influenza B virus B/Ohio/05/2015|Segment:3|Subtype:null|Host:Human\r\n",
      "KT854627\tFluB\tPA\t2\tgb:KT854627|Organism:Influenza B virus B/Iowa/02/2015|Segment:3|Subtype:null|Host:Human\r\n",
      "KT854755\tFluB\tPA\t5\tgb:KT854755|Organism:Influenza B virus B/Texas/05/2015|Segment:3|Subtype:null|Host:Human\r\n",
      "LC033016\tFluB\tPA\t1\tgb:LC033016|Organism:Influenza B virus B/Hokkaido/13H045/2014|Segment:3|Subtype:null|Host:Human\r\n",
      "KT866344\tFluB\tPA\t2\tgb:KT866344|Organism:Influenza B virus B/Wisconsin/48/2015|Segment:3|Subtype:null|Host:Human\r\n",
      "KT854296\tFluB\tPA\t2\tgb:KT854296|Organism:Influenza B virus B/Oregon/01/2015|Segment:3|Subtype:null|Host:Human\r\n",
      "KT866261\tFluB\tPA\t1\tgb:KT866261|Organism:Influenza B virus B/Nevada/26/2015|Segment:3|Subtype:null|Host:Human\r\n",
      "KT854298\tFluB\tPA\t5\tgb:KT854298|Organism:Influenza B virus B/Ohio/01/2015|Segment:3|Subtype:null|Host:Human\r\n",
      "CY191632\tFluB\tPA\t1\tgb:CY191632|Organism:Influenza B virus B/New York/WC-LVD-14-037/2014|Segment:3|Subtype:null|Host:Human\r\n",
      "KT853301\tFluB\tPA\t2\tgb:KT853301|Organism:Influenza B virus B/Utah/02/2015|Segment:3|Subtype:null|Host:Human\r\n",
      "KT866478\tFluB\tPA\t2\tgb:KT866478|Organism:Influenza B virus B/Utah/24/2015|Segment:3|Subtype:null|Host:Human\r\n",
      "CY174438\tFluB\tPA\t1\tgb:CY174438|Organism:Influenza B virus B/New York/1068/2005|Segment:3|Subtype:null|Host:Human\r\n",
      "CY154455\tFluB\tPA\t1\tgb:CY154455|Organism:Influenza B virus B/Sydney/33/2011|Segment:3|Subtype:null|Host:Human\r\n",
      "CY156559\tFluB\tPA\t1\tgb:CY156559|Organism:Influenza B virus B/Auckland/33/2008|Segment:3|Subtype:null|Host:Human\r\n",
      "CY018634\tFluB\tPA\t1\tgb:CY018634|Organism:Influenza B virus B/Hong Kong/06/2001|Segment:3|Subtype:null|Host:Human\r\n",
      "KT866286\tFluB\tPA\t1\tgb:KT866286|Organism:Influenza B virus B/Maryland/19/2015|Segment:3|Subtype:null|Host:Human\r\n",
      "KT854735\tFluB\tPA\t2\tgb:KT854735|Organism:Influenza B virus B/Pennsylvania/01/2015|Segment:3|Subtype:null|Host:Human\r\n",
      "KT866908\tFluB\tPA\t1\tgb:KT866908|Organism:Influenza B virus B/Alaska/11/2015|Segment:3|Subtype:null|Host:Human\r\n",
      "CY156535\tFluB\tPA\t1\tgb:CY156535|Organism:Influenza B virus B/Sydney/61/2008|Segment:3|Subtype:null|Host:Human\r\n",
      "CY019552\tFluB\tPA\t1\tgb:CY019552|Organism:Influenza B virus B/Argentina/132/2001|Segment:3|Subtype:null|Host:Human\r\n",
      "KT853820\tFluB\tPA\t1\tgb:KT853820|Organism:Influenza B virus B/Nebraska/11/2015|Segment:3|Subtype:null|Host:Human\r\n",
      "KT853279\tFluB\tPA\t4\tgb:KT853279|Organism:Influenza B virus B/Iowa/01/2015|Segment:3|Subtype:null|Host:Human\r\n",
      "CY155191\tFluB\tPA\t1\tgb:CY155191|Organism:Influenza B virus B/Brisbane/19/2004|Segment:3|Subtype:null|Host:Human\r\n",
      "KT853305\tFluB\tPA\t2\tgb:KT853305|Organism:Influenza B virus B/Alaska/03/2015|Segment:3|Subtype:null|Host:Human\r\n",
      "KT853144\tFluB\tPA\t2\tgb:KT853144|Organism:Influenza B virus B/Colorado/02/2014|Segment:3|Subtype:null|Host:Human\r\n",
      "KT854430\tFluB\tPA\t2\tgb:KT854430|Organism:Influenza B virus B/Pennsylvania/06/2015|Segment:3|Subtype:null|Host:Human\r\n",
      "CY153759\tFluB\tPA\t1\tgb:CY153759|Organism:Influenza B virus B/Townsville/5/2010|Segment:3|Subtype:null|Host:Human\r\n",
      "CY040422\tFluB\tPA\t1\tgb:CY040422|Organism:Influenza B virus B/Taiwan/3246/2002|Segment:3|Subtype:null|Host:Human\r\n",
      "KT853308\tFluB\tPA\t1\tgb:KT853308|Organism:Influenza B virus B/Maryland/19/2014|Segment:3|Subtype:null|Host:Human\r\n",
      "JX513085\tFluB\tPA\t1\tgb:JX513085|Organism:Influenza B virus B/Thailand/CU-B5910/2011|Segment:3|Subtype:null|Host:Human\r\n",
      "CY191512\tFluB\tPA\t1\tgb:CY191512|Organism:Influenza B virus B/New York/WC-LVD-14-021/2014|Segment:3|Subtype:null|Host:Human\r\n",
      "KT853389\tFluB\tPA\t3\tgb:KT853389|Organism:Influenza B virus B/Pennsylvania/04/2015|Segment:3|Subtype:null|Host:Human\r\n",
      "CY175166\tFluB\tPA\t1\tgb:CY175166|Organism:Influenza B virus B/New York/1125/2007|Segment:3|Subtype:null|Host:Human\r\n",
      "CY172164\tFluB\tPA\t2\tgb:CY172164|Organism:Influenza B virus B/Chicago/YGB_04011/2013|Segment:3|Subtype:null|Host:Human\r\n",
      "KT854945\tFluB\tPA\t1\tgb:KT854945|Organism:Influenza B virus B/Georgia/03/2015|Segment:3|Subtype:null|Host:Human\r\n",
      "KT854749\tFluB\tPA\t1\tgb:KT854749|Organism:Influenza B virus B/Washington/11/2015|Segment:3|Subtype:null|Host:Human\r\n",
      "KT853477\tFluB\tPA\t1\tgb:KT853477|Organism:Influenza B virus B/Illinois/01/2015|Segment:3|Subtype:null|Host:Human\r\n",
      "CY119935\tFluB\tPA\t1\tgb:CY119935|Organism:Influenza B virus B/Malaysia/1819373/2007|Segment:3|Subtype:null|Host:Human\r\n",
      "KT866692\tFluB\tPA\t7\tgb:KT866692|Organism:Influenza B virus B/Delaware/01/2015|Segment:3|Subtype:null|Host:Human\r\n",
      "CY018530\tFluB\tPA\t1\tgb:CY018530|Organism:Influenza B virus B/Nepal/1331/2005|Segment:3|Subtype:null|Host:Human\r\n",
      "KT866469\tFluB\tPA\t1\tgb:KT866469|Organism:Influenza B virus B/Maine/16/2015|Segment:3|Subtype:null|Host:Human\r\n",
      "KT866697\tFluB\tPA\t1\tgb:KT866697|Organism:Influenza B virus B/Wisconsin/33/2015|Segment:3|Subtype:null|Host:Human\r\n",
      "KT866034\tFluB\tPA\t2\tgb:KT866034|Organism:Influenza B virus B/Wyoming/27/2015|Segment:3|Subtype:null|Host:Human\r\n",
      "CY124905\tFluB\tPA\t1\tgb:CY124905|Organism:Influenza B virus B/Managua/1365.02/2008|Segment:3|Subtype:null|Host:Human\r\n",
      "JX513101\tFluB\tPA\t3\tgb:JX513101|Organism:Influenza B virus B/Thailand/CU-B6096/2012|Segment:3|Subtype:null|Host:Human\r\n",
      "KT866633\tFluB\tPA\t2\tgb:KT866633|Organism:Influenza B virus B/Alaska/08/2015|Segment:3|Subtype:null|Host:Human\r\n",
      "KT853314\tFluB\tPA\t1\tgb:KT853314|Organism:Influenza B virus B/Maine/02/2015|Segment:3|Subtype:null|Host:Human\r\n",
      "CY115388\tFluB\tPA\t1\tgb:CY115388|Organism:Influenza B virus B/Hubei-Wujiagang/158/2009|Segment:3|Subtype:null|Host:Human\r\n",
      "KT855048\tFluB\tPA\t2\tgb:KT855048|Organism:Influenza B virus B/Florida/09/2015|Segment:3|Subtype:null|Host:Human\r\n",
      "KT854442\tFluB\tPA\t2\tgb:KT854442|Organism:Influenza B virus B/Virginia/05/2015|Segment:3|Subtype:null|Host:Human\r\n",
      "KT854522\tFluB\tPA\t2\tgb:KT854522|Organism:Influenza B virus B/California/09/2015|Segment:3|Subtype:null|Host:Human\r\n",
      "CY176134\tFluB\tPA\t1\tgb:CY176134|Organism:Influenza B virus B/New York/1347/2012|Segment:3|Subtype:null|Host:Human\r\n",
      "KT866204\tFluB\tPA\t1\tgb:KT866204|Organism:Influenza B virus B/California/89/2015|Segment:3|Subtype:null|Host:Human\r\n",
      "CY174614\tFluB\tPA\t1\tgb:CY174614|Organism:Influenza B virus B/New York/1110/2007|Segment:3|Subtype:null|Host:Human\r\n",
      "KT866998\tFluB\tPA\t1\tgb:KT866998|Organism:Influenza B virus B/Wisconsin/81/2015|Segment:3|Subtype:null|Host:Human\r\n",
      "KT866320\tFluB\tPA\t23\tgb:KT866320|Organism:Influenza B virus B/Delaware/11/2015|Segment:3|Subtype:null|Host:Human\r\n",
      "KT854353\tFluB\tPA\t2\tgb:KT854353|Organism:Influenza B virus B/Texas/21/2015|Segment:3|Subtype:null|Host:Human\r\n",
      "CY156431\tFluB\tPA\t1\tgb:CY156431|Organism:Influenza B virus B/Brisbane/11/2008|Segment:3|Subtype:null|Host:Human\r\n",
      "KT866126\tFluB\tPA\t1\tgb:KT866126|Organism:Influenza B virus B/Alaska/31/2015|Segment:3|Subtype:null|Host:Human\r\n",
      "CY018058\tFluB\tPA\t1\tgb:CY018058|Organism:Influenza B virus B/Temple/B3/1999|Segment:3|Subtype:null|Host:Human\r\n"
     ]
    }
   ],
   "source": [
    "seg='PA'\n",
    "\n",
    "cd /home/alan/projects/MinION-notebook/clinical-analysis/blast-result-comparison/segment-cross-contamination\n",
    "\n",
    "samtools view flu-11-9.2d.mapped-only.bam | grep $seg | cut -f1,10 | perl -pe 's/^(.+)\\t(.+)/>$1\\n$2/g' > flu-11-9.2d.mapped-only.$seg.fasta\n",
    "\n",
    "blastn -db ~/projects/MinION-notebook/clinical-analysis/fludb/all-H1N1-H3N2-FluB-full-segs.fasta -query flu-11-9.2d.mapped-only.$seg.fasta -out flu-11-9.2d.mapped-only.$seg.blastn.xml -outfmt 5 -evalue 0.00005 -culling_limit 2 -max_target_seqs 1 -num_threads 40\n",
    "\n",
    "python ~/projects/MinION-notebook/scripts/read-fludb-blastxml.py flu-11-9.2d.mapped-only.$seg.blastn.xml"
   ]
  },
  {
   "cell_type": "code",
   "execution_count": 9,
   "metadata": {
    "ExecuteTime": {
     "end_time": "2016-03-23T15:25:08.297734",
     "start_time": "2016-03-23T15:25:04.925233"
    },
    "collapsed": false,
    "run_control": {
     "marked": false
    }
   },
   "outputs": [
    {
     "name": "stdout",
     "output_type": "stream",
     "text": [
      "CY151570\tFluB\tMP\t1\tgb:CY151570|Organism:Influenza B virus B/Christchurch/133/2002|Segment:7|Subtype:null|Host:Human\r\n",
      "KT866143\tFluB\tHA\t1\tgb:KT866143|Organism:Influenza B virus B/Alaska/35/2015|Segment:4|Subtype:null|Host:Human\r\n",
      "KT866146\tFluB\tMP\t1\tgb:KT866146|Organism:Influenza B virus B/Alaska/35/2015|Segment:7|Subtype:null|Host:Human\r\n",
      "CY174993\tFluB\tHA\t1\tgb:CY174993|Organism:Influenza B virus B/New York/1166/2008|Segment:4|Subtype:null|Host:Human\r\n",
      "KT853168\tFluB\tHA\t1\tgb:KT853168|Organism:Influenza B virus B/Florida/52/2014|Segment:4|Subtype:null|Host:Human\r\n",
      "KT853363\tFluB\tHA\t8\tgb:KT853363|Organism:Influenza B virus B/Texas/01/2015|Segment:4|Subtype:null|Host:Human\r\n",
      "CY191643\tFluB\tHA\t1\tgb:CY191643|Organism:Influenza B virus B/New York/WC-LVD-14-039/2014|Segment:4|Subtype:null|Host:Human\r\n",
      "CY173695\tFluB\tHA\t1\tgb:CY173695|Organism:Influenza B virus B/New York/1193/2008|Segment:4|Subtype:null|Host:Human\r\n",
      "KT383637\tFluB\tHA\t1\tgb:KT383637|Organism:Influenza B virus B/Beijingdongcheng/15335/2015|Segment:4|Subtype:null|Host:Human\r\n",
      "KT383632\tFluB\tHA\t1\tgb:KT383632|Organism:Influenza B virus B/Beijingdongcheng/15293/2015|Segment:4|Subtype:null|Host:Human\r\n",
      "CY176001\tFluB\tHA\t1\tgb:CY176001|Organism:Influenza B virus B/New York/1331/2012|Segment:4|Subtype:null|Host:Human\r\n",
      "KT854597\tFluB\tHA\t1\tgb:KT854597|Organism:Influenza B virus B/Georgia/01/2015|Segment:4|Subtype:null|Host:Human\r\n",
      "CY176009\tFluB\tHA\t3\tgb:CY176009|Organism:Influenza B virus B/New York/1332/2012|Segment:4|Subtype:null|Host:Human\r\n",
      "CY154794\tFluB\tHA\t1\tgb:CY154794|Organism:Influenza B virus B/Waikato/01/2004|Segment:4|Subtype:null|Host:Human\r\n",
      "KR073467\tFluB\tHA\t1\tgb:KR073467|Organism:Influenza B virus B/Malaysia/U3497/2014|Segment:4|Subtype:null|Host:Human\r\n",
      "KR073465\tFluB\tHA\t4\tgb:KR073465|Organism:Influenza B virus B/Malaysia/U3488/2014|Segment:4|Subtype:null|Host:Human\r\n",
      "KR073464\tFluB\tHA\t1\tgb:KR073464|Organism:Influenza B virus B/Malaysia/U3435/2014|Segment:4|Subtype:null|Host:Human\r\n",
      "KR073462\tFluB\tHA\t2\tgb:KR073462|Organism:Influenza B virus B/Malaysia/U3411/2014|Segment:4|Subtype:null|Host:Human\r\n",
      "KP864265\tFluB\tHA\t1\tgb:KP864265|Organism:Influenza B virus B/Quebec/13/2014|Segment:4|Subtype:null|Host:Human\r\n",
      "KP864262\tFluB\tHA\t4\tgb:KP864262|Organism:Influenza B virus B/Quebec/06/2014|Segment:4|Subtype:null|Host:Human\r\n",
      "KP864261\tFluB\tHA\t2\tgb:KP864261|Organism:Influenza B virus B/Quebec/12/2014|Segment:4|Subtype:null|Host:Human\r\n",
      "KP864260\tFluB\tHA\t3\tgb:KP864260|Organism:Influenza B virus B/Quebec/10/2014|Segment:4|Subtype:null|Host:Human\r\n",
      "CY193354\tFluB\tHA\t3\tgb:CY193354|Organism:Influenza B virus B/Guam/4101/2014|Segment:4|Subtype:null|Host:Human\r\n",
      "KR073342\tFluB\tHA\t1\tgb:KR073342|Organism:Influenza B virus B/Malaysia/U182/2012|Segment:4|Subtype:null|Host:Human\r\n",
      "KR073340\tFluB\tHA\t1\tgb:KR073340|Organism:Influenza B virus B/Malaysia/U169/2012|Segment:4|Subtype:null|Host:Human\r\n",
      "KT374354\tFluB\tHA\t2\tgb:KT374354|Organism:Influenza B virus B/California/NHRC_BRD80462N/2015|Segment:4|Subtype:null|Host:Human\r\n",
      "KF217107\tFluB\tHA\t1\tgb:KF217107|Organism:Influenza B virus B/Michigan/24/2012|Segment:4|Subtype:null|Host:Human\r\n",
      "EU779569\tFluB\tHA\t1\tgb:EU779569|Organism:Influenza B virus B/Nebraska/01/2008|Segment:4|Subtype:null|Host:Human\r\n",
      "CY187804\tFluB\tHA\t3\tgb:CY187804|Organism:Influenza B virus B/Oklahoma/3886/2014|Segment:4|Subtype:null|Host:Human\r\n",
      "CY194076\tFluB\tHA\t1\tgb:CY194076|Organism:Influenza B virus B/Alabama/4823/2015|Segment:4|Subtype:null|Host:Human\r\n",
      "CY187809\tFluB\tHA\t1\tgb:CY187809|Organism:Influenza B virus B/Washington/3891/2014|Segment:4|Subtype:null|Host:Human\r\n",
      "CY141320\tFluB\tHA\t1\tgb:CY141320|Organism:Influenza B virus B/Texas/3305/2013|Segment:4|Subtype:null|Host:Human\r\n",
      "CY191411\tFluB\tHA\t1\tgb:CY191411|Organism:Influenza B virus B/New York/WC-LVD-14-008/2014|Segment:4|Subtype:null|Host:Human\r\n",
      "KT854701\tFluB\tHA\t4\tgb:KT854701|Organism:Influenza B virus B/Texas/49/2015|Segment:4|Subtype:null|Host:Human\r\n",
      "CY191419\tFluB\tHA\t1\tgb:CY191419|Organism:Influenza B virus B/New York/WC-LVD-14-009/2014|Segment:4|Subtype:null|Host:Human\r\n",
      "CY175209\tFluB\tHA\t1\tgb:CY175209|Organism:Influenza B virus B/New York/1182/2008|Segment:4|Subtype:null|Host:Human\r\n",
      "CY018741\tFluB\tHA\t1\tgb:CY018741|Organism:Influenza B virus B/Colorado/13/2004|Segment:4|Subtype:null|Host:Human\r\n",
      "KT853187\tFluB\tHA\t1\tgb:KT853187|Organism:Influenza B virus B/North Carolina/07/2014|Segment:4|Subtype:null|Host:Human\r\n",
      "KT854332\tFluB\tHA\t1\tgb:KT854332|Organism:Influenza B virus B/New York/02/2015|Segment:4|Subtype:null|Host:Human\r\n",
      "KT866763\tFluB\tHA\t3\tgb:KT866763|Organism:Influenza B virus B/New York/17/2015|Segment:4|Subtype:null|Host:Human\r\n",
      "GQ456064\tFluB\tHA\t7\tgb:GQ456064|Organism:Influenza B virus B/Nairobi/25/2008|Segment:4|Subtype:null|Host:Human\r\n",
      "GQ456063\tFluB\tHA\t11\tgb:GQ456063|Organism:Influenza B virus B/Nairobi/15/2008|Segment:4|Subtype:null|Host:Human\r\n",
      "CY150753\tFluB\tHA\t3\tgb:CY150753|Organism:Influenza B virus B/Christchurch/3/2008|Segment:4|Subtype:null|Host:Human\r\n",
      "KT854647\tFluB\tHA\t2\tgb:KT854647|Organism:Influenza B virus B/Texas/05/2015|Segment:4|Subtype:null|Host:Human\r\n",
      "KT866369\tFluB\tHA\t1\tgb:KT866369|Organism:Influenza B virus B/Utah/31/2015|Segment:4|Subtype:null|Host:Human\r\n",
      "CY187729\tFluB\tHA\t1\tgb:CY187729|Organism:Influenza B virus B/Alabama/3811/2014|Segment:4|Subtype:null|Host:Human\r\n",
      "KC891634\tFluB\tHA\t1\tgb:KC891634|Organism:Influenza B virus B/Oregon/01/2012|Segment:4|Subtype:null|Host:Human\r\n",
      "JF965346\tFluB\tHA\t1\tgb:JF965346|Organism:Influenza B virus B/Kol/1373/2008|Segment:4|Subtype:null|Host:Human\r\n",
      "CY156570\tFluB\tHA\t1\tgb:CY156570|Organism:Influenza B virus B/Wellington/13/2008|Segment:4|Subtype:null|Host:Human\r\n",
      "CY124932\tFluB\tHA\t1\tgb:CY124932|Organism:Influenza B virus B/Managua/3387.03/2008|Segment:4|Subtype:null|Host:Human\r\n",
      "KT283548\tFluB\tHA\t2\tgb:KT283548|Organism:Influenza B virus B/Michigan/03/2014|Segment:4|Subtype:null|Host:Human\r\n",
      "CY176041\tFluB\tHA\t15\tgb:CY176041|Organism:Influenza B virus B/New York/1336/2012|Segment:4|Subtype:null|Host:Human\r\n",
      "KT854806\tFluB\tNA\t1\tgb:KT854806|Organism:Influenza B virus B/Washington/15/2015|Segment:6|Subtype:null|Host:Human\r\n",
      "CY187797\tFluB\tHA\t1\tgb:CY187797|Organism:Influenza B virus B/New York/3879/2014|Segment:4|Subtype:null|Host:Human\r\n",
      "KP861944\tFluB\tHA\t1\tgb:KP861944|Organism:Influenza B virus B/Tehran/80139/2014|Segment:4|Subtype:null|Host:Human\r\n",
      "AX399745\tFluB\tHA\t1\tgb:AX399745|Organism:Influenza B virus B/Vienna/1/99|Segment:4|Subtype:null|Host:Human\r\n",
      "KT283515\tFluB\tHA\t1\tgb:KT283515|Organism:Influenza B virus B/Alaska/03/2014|Segment:4|Subtype:null|Host:Human\r\n",
      "KT866581\tFluB\tHA\t2\tgb:KT866581|Organism:Influenza B virus B/California/57/2015|Segment:4|Subtype:null|Host:Human\r\n",
      "KM063649\tFluB\tHA\t1\tgb:KM063649|Organism:Influenza B virus B/Illinois/02/2014|Segment:4|Subtype:null|Host:Human\r\n",
      "CY191635\tFluB\tHA\t3\tgb:CY191635|Organism:Influenza B virus B/New York/WC-LVD-14-038/2014|Segment:4|Subtype:null|Host:Human\r\n",
      "CY155178\tFluB\tHA\t1\tgb:CY155178|Organism:Influenza B virus B/Brisbane/17/2004|Segment:4|Subtype:null|Host:Human\r\n",
      "KR073381\tFluB\tHA\t1\tgb:KR073381|Organism:Influenza B virus B/Malaysia/U1463/2012|Segment:4|Subtype:null|Host:Human\r\n",
      "KC813639\tFluB\tHA\t1\tgb:KC813639|Organism:Influenza B virus B/North Carolina/24/2011|Segment:4|Subtype:null|Host:Human\r\n",
      "CY120002\tFluB\tHA\t1\tgb:CY120002|Organism:Influenza B virus B/Malaysia/1919534/2008|Segment:4|Subtype:null|Host:Human\r\n",
      "KC891854\tFluB\tHA\t1\tgb:KC891854|Organism:Influenza B virus B/Texas/10/2011|Segment:4|Subtype:null|Host:Human\r\n",
      "KR073416\tFluB\tHA\t1\tgb:KR073416|Organism:Influenza B virus B/Malaysia/U2179/2013|Segment:4|Subtype:null|Host:Human\r\n",
      "KR073413\tFluB\tHA\t2\tgb:KR073413|Organism:Influenza B virus B/Malaysia/U2154/2013|Segment:4|Subtype:null|Host:Human\r\n",
      "KR733259\tFluB\tHA\t1\tgb:KR733259|Organism:Influenza B virus B/Taiwan/70094/2009|Segment:4|Subtype:null|Host:Human\r\n",
      "KT854746\tFluB\tHA\t1\tgb:KT854746|Organism:Influenza B virus B/Alabama/01/2015|Segment:4|Subtype:null|Host:Human\r\n",
      "KT383593\tFluB\tHA\t1\tgb:KT383593|Organism:Influenza B virus B/Beijingchaoyang/1742/2015|Segment:4|Subtype:null|Host:Human\r\n",
      "KM063734\tFluB\tHA\t1\tgb:KM063734|Organism:Influenza B virus B/Maryland/03/2014|Segment:4|Subtype:null|Host:Human\r\n",
      "KM063736\tFluB\tHA\t1\tgb:KM063736|Organism:Influenza B virus B/Wyoming/01/2014|Segment:4|Subtype:null|Host:Human\r\n",
      "CY172151\tFluB\tHA\t2\tgb:CY172151|Organism:Influenza B virus B/Chicago/YGB_04008/2013|Segment:4|Subtype:null|Host:Human\r\n",
      "CY156938\tFluB\tHA\t3\tgb:CY156938|Organism:Influenza B virus B/Brisbane/125/2011|Segment:4|Subtype:null|Host:Human\r\n",
      "CY156930\tFluB\tHA\t1\tgb:CY156930|Organism:Influenza B virus B/Brisbane/121/2011|Segment:4|Subtype:null|Host:Human\r\n",
      "KT313454\tFluB\tHA\t1\tgb:KT313454|Organism:Influenza B virus B/South Carolina/NHRC_JX41219/2015|Segment:4|Subtype:null|Host:Human\r\n",
      "CY115383\tFluB\tHA\t1\tgb:CY115383|Organism:Influenza B virus B/Hubei-Wujiagang/158/2009|Segment:4|Subtype:null|Host:Human\r\n",
      "CY155522\tFluB\tHA\t1\tgb:CY155522|Organism:Influenza B virus B/Christchurch/243/2005|Segment:4|Subtype:null|Host:Human\r\n",
      "KT853263\tFluB\tHA\t1\tgb:KT853263|Organism:Influenza B virus B/Hawaii/38/2014|Segment:4|Subtype:null|Host:Human\r\n",
      "CY141319\tFluB\tHA\t1\tgb:CY141319|Organism:Influenza B virus B/Texas/3304/2013|Segment:4|Subtype:null|Host:Human\r\n",
      "KT866201\tFluB\tHA\t1\tgb:KT866201|Organism:Influenza B virus B/Indiana/21/2015|Segment:4|Subtype:null|Host:Human\r\n",
      "KT866200\tFluB\tHA\t1\tgb:KT866200|Organism:Influenza B virus B/Florida/53/2015|Segment:4|Subtype:null|Host:Human\r\n",
      "CY173868\tFluB\tHA\t1\tgb:CY173868|Organism:Influenza B virus B/New York/1383/2012|Segment:4|Subtype:null|Host:Human\r\n",
      "KT865975\tFluB\tHA\t1\tgb:KT865975|Organism:Influenza B virus B/New Hampshire/13/2015|Segment:4|Subtype:null|Host:Human\r\n",
      "CY033964\tFluB\tHA\t1\tgb:CY033964|Organism:Influenza B virus B/Taiwan/71523/2007|Segment:4|Subtype:null|Host:Human\r\n",
      "KM063598\tFluB\tHA\t1\tgb:KM063598|Organism:Influenza B virus B/Iowa/04/2014|Segment:4|Subtype:null|Host:Human\r\n",
      "CY175905\tFluB\tHA\t1\tgb:CY175905|Organism:Influenza B virus B/New York/1293/2011|Segment:4|Subtype:null|Host:Human\r\n",
      "KT853211\tFluB\tHA\t1\tgb:KT853211|Organism:Influenza B virus B/Texas/40/2014|Segment:4|Subtype:null|Host:Human\r\n",
      "CY194093\tFluB\tHA\t2\tgb:CY194093|Organism:Influenza B virus B/New Jersey/4840/2015|Segment:4|Subtype:null|Host:Human\r\n",
      "KT866337\tFluB\tHA\t1\tgb:KT866337|Organism:Influenza B virus B/Massachusetts/16/2015|Segment:4|Subtype:null|Host:Human\r\n",
      "KT866443\tFluB\tHA\t1\tgb:KT866443|Organism:Influenza B virus B/Wisconsin/32/2015|Segment:4|Subtype:null|Host:Human\r\n",
      "CY194096\tFluB\tHA\t27\tgb:CY194096|Organism:Influenza B virus B/New York/4843/2015|Segment:4|Subtype:null|Host:Human\r\n",
      "KM063864\tFluB\tHA\t1\tgb:KM063864|Organism:Influenza B virus B/Colorado/01/2014|Segment:4|Subtype:null|Host:Human\r\n",
      "KT866652\tFluB\tHA\t1\tgb:KT866652|Organism:Influenza B virus B/Vermont/04/2015|Segment:4|Subtype:null|Host:Human\r\n",
      "CY124956\tFluB\tHA\t2\tgb:CY124956|Organism:Influenza B virus B/Managua/1089.01/2008|Segment:4|Subtype:null|Host:Human\r\n",
      "KT853177\tFluB\tHA\t1\tgb:KT853177|Organism:Influenza B virus B/Alabama/03/2014|Segment:4|Subtype:null|Host:Human\r\n",
      "KT383628\tFluB\tHA\t2\tgb:KT383628|Organism:Influenza B virus B/Beijignshijingshan/15228/2015|Segment:4|Subtype:null|Host:Human\r\n",
      "KT383620\tFluB\tHA\t1\tgb:KT383620|Organism:Influenza B virus B/Beijinghaidian/15095/2015|Segment:4|Subtype:null|Host:Human\r\n",
      "KT383626\tFluB\tHA\t1\tgb:KT383626|Organism:Influenza B virus B/Beijingshijingshan/15231/2015|Segment:4|Subtype:null|Host:Human\r\n",
      "CY176153\tFluB\tHA\t2\tgb:CY176153|Organism:Influenza B virus B/New York/1350/2012|Segment:4|Subtype:null|Host:Human\r\n",
      "KT283509\tFluB\tHA\t1\tgb:KT283509|Organism:Influenza B virus B/Florida/27/2014|Segment:4|Subtype:null|Host:Human\r\n",
      "KT283507\tFluB\tHA\t1\tgb:KT283507|Organism:Influenza B virus B/Wyoming/04/2014|Segment:4|Subtype:null|Host:Human\r\n",
      "KT866533\tFluB\tHA\t7\tgb:KT866533|Organism:Influenza B virus B/Alaska/08/2015|Segment:4|Subtype:null|Host:Human\r\n",
      "KR073458\tFluB\tHA\t5\tgb:KR073458|Organism:Influenza B virus B/Malaysia/U3328/2014|Segment:4|Subtype:null|Host:Human\r\n",
      "KR073453\tFluB\tHA\t1\tgb:KR073453|Organism:Influenza B virus B/Malaysia/U3244/2013|Segment:4|Subtype:null|Host:Human\r\n",
      "KR073450\tFluB\tHA\t1\tgb:KR073450|Organism:Influenza B virus B/Malaysia/U3224/2013|Segment:4|Subtype:null|Host:Human\r\n",
      "KR073451\tFluB\tHA\t2\tgb:KR073451|Organism:Influenza B virus B/Malaysia/U3225/2013|Segment:4|Subtype:null|Host:Human\r\n",
      "KP864252\tFluB\tHA\t29\tgb:KP864252|Organism:Influenza B virus B/Quebec/07/2014|Segment:4|Subtype:null|Host:Human\r\n",
      "KP864253\tFluB\tHA\t1\tgb:KP864253|Organism:Influenza B virus B/Quebec/14/2014|Segment:4|Subtype:null|Host:Human\r\n",
      "KP864256\tFluB\tHA\t5\tgb:KP864256|Organism:Influenza B virus B/Quebec/05/2014|Segment:4|Subtype:null|Host:Human\r\n",
      "KP864257\tFluB\tHA\t11\tgb:KP864257|Organism:Influenza B virus B/Quebec/02/2014|Segment:4|Subtype:null|Host:Human\r\n",
      "KP864254\tFluB\tHA\t4\tgb:KP864254|Organism:Influenza B virus B/Quebec/15/2014|Segment:4|Subtype:null|Host:Human\r\n",
      "KP864255\tFluB\tHA\t1\tgb:KP864255|Organism:Influenza B virus B/Quebec/16/2014|Segment:4|Subtype:null|Host:Human\r\n",
      "KM063676\tFluB\tHA\t1\tgb:KM063676|Organism:Influenza B virus B/Nevada/08/2014|Segment:4|Subtype:null|Host:Human\r\n",
      "KM063578\tFluB\tHA\t4\tgb:KM063578|Organism:Influenza B virus B/Texas/06/2014|Segment:4|Subtype:null|Host:Human\r\n",
      "KT259411\tFluB\tHA\t1\tgb:KT259411|Organism:Influenza B virus B/California/NHRC_SAR10312N/2015|Segment:4|Subtype:null|Host:Human\r\n",
      "KR073357\tFluB\tHA\t1\tgb:KR073357|Organism:Influenza B virus B/Malaysia/U432/2012|Segment:4|Subtype:null|Host:Human\r\n",
      "KR073350\tFluB\tHA\t8\tgb:KR073350|Organism:Influenza B virus B/Malaysia/U287/2012|Segment:4|Subtype:null|Host:Human\r\n",
      "CY155626\tFluB\tHA\t1\tgb:CY155626|Organism:Influenza B virus B/Sydney/13/2005|Segment:4|Subtype:null|Host:Human\r\n",
      "KF217113\tFluB\tHA\t1\tgb:KF217113|Organism:Influenza B virus B/Hawaii/13/2012|Segment:4|Subtype:null|Host:Human\r\n",
      "KC891604\tFluB\tHA\t1\tgb:KC891604|Organism:Influenza B virus B/Pennsylvania/01/2012|Segment:4|Subtype:null|Host:Human\r\n",
      "KT855001\tFluB\tHA\t3\tgb:KT855001|Organism:Influenza B virus B/Washington/08/2015|Segment:4|Subtype:null|Host:Human\r\n",
      "CY191563\tFluB\tHA\t1\tgb:CY191563|Organism:Influenza B virus B/New York/WC-LVD-14-028/2014|Segment:4|Subtype:null|Host:Human\r\n",
      "CY191403\tFluB\tHA\t2\tgb:CY191403|Organism:Influenza B virus B/New York/WC-LVD-14-007/2014|Segment:4|Subtype:null|Host:Human\r\n",
      "EU305614\tFluB\tHA\t11\tgb:EU305614|Organism:Influenza B virus B/Guangzhou/01/2007|Segment:4|Subtype:null|Host:Human\r\n",
      "KT854737\tFluB\tHA\t1\tgb:KT854737|Organism:Influenza B virus B/Washington/15/2015|Segment:4|Subtype:null|Host:Human\r\n",
      "KR733265\tFluB\tHA\t1\tgb:KR733265|Organism:Influenza B virus B/Taiwan/00202/2011|Segment:4|Subtype:null|Host:Human\r\n",
      "KT853192\tFluB\tHA\t2\tgb:KT853192|Organism:Influenza B virus B/Nevada/22/2014|Segment:4|Subtype:null|Host:Human\r\n",
      "KT853191\tFluB\tHA\t2\tgb:KT853191|Organism:Influenza B virus B/Wisconsin/14/2014|Segment:4|Subtype:null|Host:Human\r\n",
      "KT853196\tFluB\tHA\t1\tgb:KT853196|Organism:Influenza B virus B/Indiana/05/2014|Segment:4|Subtype:null|Host:Human\r\n",
      "CY156410\tFluB\tHA\t1\tgb:CY156410|Organism:Influenza B virus B/Brisbane/5/2008|Segment:4|Subtype:null|Host:Human\r\n",
      "KT866802\tFluB\tHA\t2\tgb:KT866802|Organism:Influenza B virus B/Delaware/08/2015|Segment:4|Subtype:null|Host:Human\r\n",
      "KT854328\tFluB\tHA\t1\tgb:KT854328|Organism:Influenza B virus B/Arkansas/10/2015|Segment:4|Subtype:null|Host:Human\r\n",
      "KT853256\tFluB\tHA\t2\tgb:KT853256|Organism:Influenza B virus B/Tennessee/01/2014|Segment:4|Subtype:null|Host:Human\r\n",
      "K00425|O\tFluB\tHA\t1\tgb:K00425|Organism:Influenza B virus B/Hong Kong/8/1973|Segment:4|Subtype:null|Host:Human\r\n",
      "CY156562\tFluB\tHA\t1\tgb:CY156562|Organism:Influenza B virus B/Sydney/62/2008|Segment:4|Subtype:null|Host:Human\r\n",
      "KT866979\tFluB\tHA\t1\tgb:KT866979|Organism:Influenza B virus B/Alaska/27/2015|Segment:4|Subtype:null|Host:Human\r\n",
      "KT854190\tFluB\tHA\t1\tgb:KT854190|Organism:Influenza B virus B/Minnesota/01/2015|Segment:4|Subtype:null|Host:Human\r\n",
      "KP861950\tFluB\tHA\t1\tgb:KP861950|Organism:Influenza B virus B/Tehran/10/2014|Segment:4|Subtype:null|Host:Human\r\n",
      "KT853335\tFluB\tHA\t2\tgb:KT853335|Organism:Influenza B virus B/Pennsylvania/04/2015|Segment:4|Subtype:null|Host:Human\r\n",
      "KT865997\tFluB\tHA\t2\tgb:KT865997|Organism:Influenza B virus B/Alaska/07/2015|Segment:4|Subtype:null|Host:Human\r\n",
      "KT854426\tFluB\tHA\t1\tgb:KT854426|Organism:Influenza B virus B/Texas/17/2015|Segment:4|Subtype:null|Host:Human\r\n",
      "KT854424\tFluB\tHA\t3\tgb:KT854424|Organism:Influenza B virus B/Ohio/05/2015|Segment:4|Subtype:null|Host:Human\r\n",
      "KT383660\tFluB\tHA\t1\tgb:KT383660|Organism:Influenza B virus B/Beijinghuairou/15433/2015|Segment:4|Subtype:null|Host:Human\r\n",
      "CY187803\tFluB\tHA\t3\tgb:CY187803|Organism:Influenza B virus B/Ohio/3885/2014|Segment:4|Subtype:null|Host:Human\r\n",
      "KM063919\tFluB\tHA\t1\tgb:KM063919|Organism:Influenza B virus B/Illinois/01/2014|Segment:4|Subtype:null|Host:Human\r\n",
      "CY187789\tFluB\tHA\t1\tgb:CY187789|Organism:Influenza B virus B/New York/3871/2014|Segment:4|Subtype:null|Host:Human\r\n",
      "KM063911\tFluB\tHA\t1\tgb:KM063911|Organism:Influenza B virus B/New York/02/2014|Segment:4|Subtype:null|Host:Human\r\n",
      "CY174433\tFluB\tHA\t1\tgb:CY174433|Organism:Influenza B virus B/New York/1068/2005|Segment:4|Subtype:null|Host:Human\r\n",
      "CY031779\tFluB\tHA\t1\tgb:CY031779|Organism:Influenza B virus B/Taiwan/539/2005|Segment:4|Subtype:null|Host:Human\r\n",
      "KR073364\tFluB\tHA\t2\tgb:KR073364|Organism:Influenza B virus B/Malaysia/U699/2012|Segment:4|Subtype:null|Host:Human\r\n",
      "CY112231\tFluB\tHA\t1\tgb:CY112231|Organism:Influenza B virus B/Ulaanbaatar/1798/2008|Segment:4|Subtype:null|Host:Human\r\n",
      "KR073493\tFluB\tHA\t1\tgb:KR073493|Organism:Influenza B virus B/Malaysia/U3901/2014|Segment:4|Subtype:null|Host:Human\r\n",
      "KR073491\tFluB\tHA\t8\tgb:KR073491|Organism:Influenza B virus B/Malaysia/U3876/2014|Segment:4|Subtype:null|Host:Human\r\n",
      "CY019483\tFluB\tHA\t1\tgb:CY019483|Organism:Influenza B virus B/Georgia/09/2005|Segment:4|Subtype:null|Host:Human\r\n",
      "KR073368\tFluB\tHA\t1\tgb:KR073368|Organism:Influenza B virus B/Malaysia/U951/2012|Segment:4|Subtype:null|Host:Human\r\n",
      "KT853465\tFluB\tHA\t1\tgb:KT853465|Organism:Influenza B virus B/Wyoming/03/2015|Segment:4|Subtype:null|Host:Human\r\n",
      "CY193849\tFluB\tHA\t2\tgb:CY193849|Organism:Influenza B virus B/Alabama/4596/2015|Segment:4|Subtype:null|Host:Human\r\n",
      "CY191627\tFluB\tHA\t6\tgb:CY191627|Organism:Influenza B virus B/New York/WC-LVD-14-037/2014|Segment:4|Subtype:null|Host:Human\r\n",
      "KR073391\tFluB\tHA\t1\tgb:KR073391|Organism:Influenza B virus B/Malaysia/U1879/2013|Segment:4|Subtype:null|Host:Human\r\n",
      "KT853383\tFluB\tHA\t6\tgb:KT853383|Organism:Influenza B virus B/Washington/02/2015|Segment:4|Subtype:null|Host:Human\r\n",
      "KR073396\tFluB\tHA\t1\tgb:KR073396|Organism:Influenza B virus B/Malaysia/U1936/2013|Segment:4|Subtype:null|Host:Human\r\n",
      "KT383612\tFluB\tHA\t1\tgb:KT383612|Organism:Influenza B virus B/Beijinghuairou/1762/2015|Segment:4|Subtype:null|Host:Human\r\n",
      "CY155666\tFluB\tHA\t2\tgb:CY155666|Organism:Influenza B virus B/Victoria/125/2005|Segment:4|Subtype:null|Host:Human\r\n",
      "CY176025\tFluB\tHA\t1\tgb:CY176025|Organism:Influenza B virus B/New York/1334/2012|Segment:4|Subtype:null|Host:Human\r\n",
      "KT383618\tFluB\tHA\t1\tgb:KT383618|Organism:Influenza B virus B/Beijingshijingshan/15235/2015|Segment:4|Subtype:null|Host:Human\r\n",
      "KJ831118\tFluB\tHA\t1\tgb:KJ831118|Organism:Influenza B virus B/California/NHRC423871/2014|Segment:4|Subtype:null|Host:Human\r\n",
      "CY191443\tFluB\tHA\t3\tgb:CY191443|Organism:Influenza B virus B/New York/WC-LVD-14-012/2014|Segment:4|Subtype:null|Host:Human\r\n",
      "KR073406\tFluB\tHA\t1\tgb:KR073406|Organism:Influenza B virus B/Malaysia/U2068/2013|Segment:4|Subtype:null|Host:Human\r\n",
      "KR073409\tFluB\tHA\t3\tgb:KR073409|Organism:Influenza B virus B/Malaysia/U2094/2013|Segment:4|Subtype:null|Host:Human\r\n",
      "KR073408\tFluB\tHA\t3\tgb:KR073408|Organism:Influenza B virus B/Malaysia/U2080/2013|Segment:4|Subtype:null|Host:Human\r\n",
      "KT854776\tFluB\tHA\t1\tgb:KT854776|Organism:Influenza B virus B/Arkansas/11/2015|Segment:4|Subtype:null|Host:Human\r\n",
      "KT854774\tFluB\tHA\t4\tgb:KT854774|Organism:Influenza B virus B/Wisconsin/14/2015|Segment:4|Subtype:null|Host:Human\r\n",
      "KJ532189\tFluB\tHA\t1\tgb:KJ532189|Organism:Influenza B virus B/Washington/04/2013|Segment:4|Subtype:null|Host:Human\r\n",
      "CY156322\tFluB\tHA\t1\tgb:CY156322|Organism:Influenza B virus B/Victoria/513/2007|Segment:4|Subtype:null|Host:Human\r\n",
      "KP864161\tFluB\tHA\t2\tgb:KP864161|Organism:Influenza B virus B/British Columbia/15/2014|Segment:4|Subtype:null|Host:Human\r\n",
      "KJ532183\tFluB\tHA\t1\tgb:KJ532183|Organism:Influenza B virus B/Utah/05/2013|Segment:4|Subtype:null|Host:Human\r\n",
      "KM063743\tFluB\tHA\t2\tgb:KM063743|Organism:Influenza B virus B/Michigan/01/2014|Segment:4|Subtype:null|Host:Human\r\n",
      "CY175041\tFluB\tHA\t1\tgb:CY175041|Organism:Influenza B virus B/New York/1172/2008|Segment:4|Subtype:null|Host:Human\r\n",
      "CY191363\tFluB\tHA\t2\tgb:CY191363|Organism:Influenza B virus B/New York/WC-LVD-13-001/2013|Segment:4|Subtype:null|Host:Human\r\n",
      "CY191539\tFluB\tHA\t6\tgb:CY191539|Organism:Influenza B virus B/New York/WC-LVD-14-025/2014|Segment:4|Subtype:null|Host:Human\r\n",
      "CY191531\tFluB\tHA\t3\tgb:CY191531|Organism:Influenza B virus B/New York/WC-LVD-14-024/2014|Segment:4|Subtype:null|Host:Human\r\n",
      "CY155995\tFluB\tMP\t1\tgb:CY155995|Organism:Influenza B virus B/Victoria/205/2007|Segment:7|Subtype:null|Host:Human\r\n",
      "KT855078\tFluB\tHA\t1\tgb:KT855078|Organism:Influenza B virus B/Hawaii/23/2015|Segment:4|Subtype:null|Host:Human\r\n",
      "KT865987\tFluB\tHA\t1\tgb:KT865987|Organism:Influenza B virus B/Florida/46/2015|Segment:4|Subtype:null|Host:Human\r\n",
      "KT853513\tFluB\tHA\t3\tgb:KT853513|Organism:Influenza B virus B/Ohio/06/2014|Segment:4|Subtype:null|Host:Human\r\n",
      "CY191435\tFluB\tHA\t1\tgb:CY191435|Organism:Influenza B virus B/New York/WC-LVD-14-011/2014|Segment:4|Subtype:null|Host:Human\r\n",
      "KT866235\tFluB\tHA\t2\tgb:KT866235|Organism:Influenza B virus B/Alaska/15/2015|Segment:4|Subtype:null|Host:Human\r\n",
      "KT866393\tFluB\tHA\t1\tgb:KT866393|Organism:Influenza B virus B/Utah/39/2015|Segment:4|Subtype:null|Host:Human\r\n",
      "KT866385\tFluB\tHA\t6\tgb:KT866385|Organism:Influenza B virus B/Florida/41/2015|Segment:4|Subtype:null|Host:Human\r\n",
      "KT866835\tFluB\tHA\t1\tgb:KT866835|Organism:Influenza B virus B/Maryland/16/2015|Segment:4|Subtype:null|Host:Human\r\n",
      "KT283535\tFluB\tHA\t1\tgb:KT283535|Organism:Influenza B virus B/Georgia/01/2014|Segment:4|Subtype:null|Host:Human\r\n",
      "CY189817\tFluB\tHA\t1\tgb:CY189817|Organism:Influenza B virus B/Massachusetts/3897/2014|Segment:4|Subtype:null|Host:Human\r\n",
      "KT854463\tFluB\tHA\t1\tgb:KT854463|Organism:Influenza B virus B/Wyoming/09/2015|Segment:4|Subtype:null|Host:Human\r\n",
      "KM063889\tFluB\tHA\t1\tgb:KM063889|Organism:Influenza B virus B/Louisiana/02/2014|Segment:4|Subtype:null|Host:Human\r\n",
      "KT854912\tFluB\tHA\t1\tgb:KT854912|Organism:Influenza B virus B/Wisconsin/19/2015|Segment:4|Subtype:null|Host:Human\r\n",
      "KT853201\tFluB\tHA\t2\tgb:KT853201|Organism:Influenza B virus B/Massachusetts/06/2014|Segment:4|Subtype:null|Host:Human\r\n",
      "CY119666\tFluB\tHA\t2\tgb:CY119666|Organism:Influenza B virus B/Malaysia/24296/2003|Segment:4|Subtype:null|Host:Human\r\n",
      "KT866305\tFluB\tHA\t2\tgb:KT866305|Organism:Influenza B virus B/Wisconsin/47/2015|Segment:4|Subtype:null|Host:Human\r\n",
      "KT866945\tFluB\tHA\t1\tgb:KT866945|Organism:Influenza B virus B/Maryland/23/2015|Segment:4|Subtype:null|Host:Human\r\n",
      "KT854226\tFluB\tHA\t3\tgb:KT854226|Organism:Influenza B virus B/Alabama/04/2015|Segment:4|Subtype:null|Host:Human\r\n",
      "KT854383\tFluB\tHA\t1\tgb:KT854383|Organism:Influenza B virus B/Pennsylvania/06/2015|Segment:4|Subtype:null|Host:Human\r\n",
      "KT383659\tFluB\tHA\t1\tgb:KT383659|Organism:Influenza B virus B/Beijinghuairou/15330/2015|Segment:4|Subtype:null|Host:Human\r\n",
      "JX827494\tFluB\tHA\t1\tgb:JX827494|Organism:Influenza B virus B/Utah/02/2012|Segment:4|Subtype:null|Host:Human\r\n",
      "KT853341\tFluB\tHA\t1\tgb:KT853341|Organism:Influenza B virus B/Alaska/30/2014|Segment:4|Subtype:null|Host:Human\r\n",
      "KT383656\tFluB\tHA\t1\tgb:KT383656|Organism:Influenza B virus B/Beijinghuairou/15321/2015|Segment:4|Subtype:null|Host:Human\r\n",
      "KT854760\tFluB\tHA\t3\tgb:KT854760|Organism:Influenza B virus B/Texas/26/2015|Segment:4|Subtype:null|Host:Human\r\n",
      "EU515879\tFluB\tHA\t1\tgb:EU515879|Organism:Influenza B virus B/Delaware/01/2007|Segment:4|Subtype:null|Host:Human\r\n",
      "KT283539\tFluB\tHA\t1\tgb:KT283539|Organism:Influenza B virus B/Utah/09/2014|Segment:4|Subtype:null|Host:Human\r\n",
      "FJ686884\tFluB\tHA\t1\tgb:FJ686884|Organism:Influenza B virus B/Mississippi/04/2008|Segment:4|Subtype:null|Host:Human\r\n",
      "KT854980\tFluB\tHA\t2\tgb:KT854980|Organism:Influenza B virus B/Alabama/03/2015|Segment:4|Subtype:null|Host:Human\r\n",
      "CY154770\tFluB\tHA\t1\tgb:CY154770|Organism:Influenza B virus B/Auckland/1/2004|Segment:4|Subtype:null|Host:Human\r\n",
      "KR073449\tFluB\tHA\t1\tgb:KR073449|Organism:Influenza B virus B/Malaysia/U3046/2013|Segment:4|Subtype:null|Host:Human\r\n",
      "KR073333\tFluB\tHA\t7\tgb:KR073333|Organism:Influenza B virus B/Malaysia/U123/2012|Segment:4|Subtype:null|Host:Human\r\n",
      "KR073332\tFluB\tHA\t6\tgb:KR073332|Organism:Influenza B virus B/Malaysia/U116/2012|Segment:4|Subtype:null|Host:Human\r\n",
      "KR073446\tFluB\tHA\t2\tgb:KR073446|Organism:Influenza B virus B/Malaysia/U2555/2013|Segment:4|Subtype:null|Host:Human\r\n",
      "KR073441\tFluB\tHA\t1\tgb:KR073441|Organism:Influenza B virus B/Malaysia/U2462/2013|Segment:4|Subtype:null|Host:Human\r\n",
      "KR073336\tFluB\tHA\t6\tgb:KR073336|Organism:Influenza B virus B/Malaysia/U140/2012|Segment:4|Subtype:null|Host:Human\r\n",
      "CY191619\tFluB\tHA\t2\tgb:CY191619|Organism:Influenza B virus B/New York/WC-LVD-14-036/2014|Segment:4|Subtype:null|Host:Human\r\n",
      "LC033385\tFluB\tHA\t1\tgb:LC033385|Organism:Influenza B virus B/Nagasaki/13N098/2014|Segment:4|Subtype:null|Host:Human\r\n",
      "KT259402\tFluB\tHA\t27\tgb:KT259402|Organism:Influenza B virus B/California/NHRC_BRD11934N/2015|Segment:4|Subtype:null|Host:Human\r\n",
      "KT259405\tFluB\tHA\t3\tgb:KT259405|Organism:Influenza B virus B/California/NHRC_BRD80335N/2014|Segment:4|Subtype:null|Host:Human\r\n",
      "CY155874\tFluB\tHA\t1\tgb:CY155874|Organism:Influenza B virus B/Christchurch/1/2007|Segment:4|Subtype:null|Host:Human\r\n",
      "KT855034\tFluB\tHA\t3\tgb:KT855034|Organism:Influenza B virus B/Texas/12/2015|Segment:4|Subtype:null|Host:Human\r\n",
      "CY194055\tFluB\tHA\t2\tgb:CY194055|Organism:Influenza B virus B/Oklahoma/4802/2015|Segment:4|Subtype:null|Host:Human\r\n",
      "KR073439\tFluB\tHA\t1\tgb:KR073439|Organism:Influenza B virus B/Malaysia/U2431/2013|Segment:4|Subtype:null|Host:Human\r\n",
      "CY194118\tFluB\tHA\t2\tgb:CY194118|Organism:Influenza B virus B/Massachusetts/4865/2015|Segment:4|Subtype:null|Host:Human\r\n",
      "EU779547\tFluB\tHA\t1\tgb:EU779547|Organism:Influenza B virus B/Wisconsin/05/2008|Segment:4|Subtype:null|Host:Human\r\n",
      "KC891933\tFluB\tHA\t1\tgb:KC891933|Organism:Influenza B virus B/Michigan/03/2012|Segment:4|Subtype:null|Host:Human\r\n",
      "CY194110\tFluB\tHA\t4\tgb:CY194110|Organism:Influenza B virus B/Washington/4857/2015|Segment:4|Subtype:null|Host:Human\r\n",
      "EU779543\tFluB\tHA\t1\tgb:EU779543|Organism:Influenza B virus B/New York/10/2007|Segment:4|Subtype:null|Host:Human\r\n",
      "KR073437\tFluB\tHA\t1\tgb:KR073437|Organism:Influenza B virus B/Malaysia/U2409/2013|Segment:4|Subtype:null|Host:Human\r\n",
      "CY174817\tFluB\tHA\t1\tgb:CY174817|Organism:Influenza B virus B/New York/1143/2008|Segment:4|Subtype:null|Host:Human\r\n",
      "KR733272\tFluB\tHA\t1\tgb:KR733272|Organism:Influenza B virus B/Taiwan/01880/2013|Segment:4|Subtype:null|Host:Human\r\n",
      "KR733271\tFluB\tHA\t3\tgb:KR733271|Organism:Influenza B virus B/Taiwan/00482/2013|Segment:4|Subtype:null|Host:Human\r\n",
      "CY172143\tFluB\tHA\t1\tgb:CY172143|Organism:Influenza B virus B/Chicago/YGB_04007/2013|Segment:4|Subtype:null|Host:Human\r\n",
      "KR733274\tFluB\tHA\t3\tgb:KR733274|Organism:Influenza B virus B/Taiwan/00252/2014|Segment:4|Subtype:null|Host:Human\r\n",
      "KM063713\tFluB\tHA\t3\tgb:KM063713|Organism:Influenza B virus B/Texas/09/2014|Segment:4|Subtype:null|Host:Human\r\n",
      "KT383574\tFluB\tHA\t1\tgb:KT383574|Organism:Influenza B virus B/Beijingmiyun/15010/2015|Segment:4|Subtype:null|Host:Human\r\n",
      "KT383577\tFluB\tHA\t1\tgb:KT383577|Organism:Influenza B virus B/Beijingdaxing/15041/2015|Segment:4|Subtype:null|Host:Human\r\n",
      "KT383576\tFluB\tHA\t2\tgb:KT383576|Organism:Influenza B virus B/Beijingdaxing/15040/2015|Segment:4|Subtype:null|Host:Human\r\n",
      "KT866295\tFluB\tHA\t4\tgb:KT866295|Organism:Influenza B virus B/Maryland/20/2015|Segment:4|Subtype:null|Host:Human\r\n",
      "CY193857\tFluB\tHA\t1\tgb:CY193857|Organism:Influenza B virus B/South Dakota/4604/2015|Segment:4|Subtype:null|Host:Human\r\n",
      "CY175033\tFluB\tHA\t1\tgb:CY175033|Organism:Influenza B virus B/New York/1171/2008|Segment:4|Subtype:null|Host:Human\r\n",
      "CY124961\tFluB\tPA\t1\tgb:CY124961|Organism:Influenza B virus B/Managua/1089.01/2008|Segment:3|Subtype:null|Host:Human\r\n",
      "CY191331\tFluB\tHA\t7\tgb:CY191331|Organism:Influenza B virus B/New York/WC-LVD-14-003/2014|Segment:4|Subtype:null|Host:Human\r\n",
      "KC891610\tFluB\tHA\t1\tgb:KC891610|Organism:Influenza B virus B/Texas/01/2012|Segment:4|Subtype:null|Host:Human\r\n",
      "EU515883\tFluB\tHA\t1\tgb:EU515883|Organism:Influenza B virus B/California/16/2007|Segment:4|Subtype:null|Host:Human\r\n",
      "KT853224\tFluB\tHA\t1\tgb:KT853224|Organism:Influenza B virus B/Alabama/04/2014|Segment:4|Subtype:null|Host:Human\r\n",
      "KR073485\tFluB\tHA\t3\tgb:KR073485|Organism:Influenza B virus B/Malaysia/U3794/2014|Segment:4|Subtype:null|Host:Human\r\n",
      "JN993055\tFluB\tHA\t1\tgb:JN993055|Organism:Influenza B virus B/Wisconsin/03/2010|Segment:4|Subtype:null|Host:Human\r\n",
      "KP861948\tFluB\tHA\t1\tgb:KP861948|Organism:Influenza B virus B/Tehran/85691/2014|Segment:4|Subtype:null|Host:Human\r\n",
      "KT866511\tFluB\tHA\t1\tgb:KT866511|Organism:Influenza B virus B/Connecticut/30/2015|Segment:4|Subtype:null|Host:Human\r\n",
      "KP861940\tFluB\tHA\t1\tgb:KP861940|Organism:Influenza B virus B/Tehran/88859/2014|Segment:4|Subtype:null|Host:Human\r\n",
      "KT866901\tFluB\tHA\t1\tgb:KT866901|Organism:Influenza B virus B/Alaska/10/2015|Segment:4|Subtype:null|Host:Human\r\n",
      "GQ340595\tFluB\tHA\t1\tgb:GQ340595|Organism:Influenza B virus B/New Hampshire/02/2008|Segment:4|Subtype:null|Host:Human\r\n",
      "KT854532\tFluB\tHA\t1\tgb:KT854532|Organism:Influenza B virus B/Nevada/04/2015|Segment:4|Subtype:null|Host:Human\r\n",
      "CY191379\tFluB\tHA\t9\tgb:CY191379|Organism:Influenza B virus B/New York/WC-LVD-14-004/2014|Segment:4|Subtype:null|Host:Human\r\n",
      "CY191387\tFluB\tHA\t4\tgb:CY191387|Organism:Influenza B virus B/New York/WC-LVD-14-005/2014|Segment:4|Subtype:null|Host:Human\r\n",
      "EF626636\tFluB\tHA\t1\tgb:EF626636|Organism:Influenza B virus B/Russia/69|Segment:4|Subtype:null|Host:LAB\r\n",
      "KR073374\tFluB\tHA\t5\tgb:KR073374|Organism:Influenza B virus B/Malaysia/U1264/2012|Segment:4|Subtype:null|Host:Human\r\n",
      "KR073379\tFluB\tHA\t3\tgb:KR073379|Organism:Influenza B virus B/Malaysia/U1338/2012|Segment:4|Subtype:null|Host:Human\r\n",
      "KT853153\tFluB\tHA\t2\tgb:KT853153|Organism:Influenza B virus B/Maryland/15/2014|Segment:4|Subtype:null|Host:Human\r\n",
      "KT866991\tFluB\tHA\t1\tgb:KT866991|Organism:Influenza B virus B/Florida/57/2015|Segment:4|Subtype:null|Host:Human\r\n",
      "LC033177\tFluB\tHA\t1\tgb:LC033177|Organism:Influenza B virus B/Niigata/13F001/2014|Segment:4|Subtype:null|Host:Human\r\n",
      "KM100198\tFluB\tHA\t1\tgb:KM100198|Organism:Influenza B virus B/Thailand/CU-H3496/2012|Segment:4|Subtype:null|Host:Human\r\n",
      "KT283561\tFluB\tHA\t1\tgb:KT283561|Organism:Influenza B virus B/Vermont/01/2014|Segment:4|Subtype:null|Host:Human\r\n",
      "CY155306\tFluB\tHA\t1\tgb:CY155306|Organism:Influenza B virus B/Sydney/1/2005|Segment:4|Subtype:null|Host:Human\r\n",
      "JN872381\tFluB\tHA\t1\tgb:JN872381|Organism:Influenza B virus B/Sao Paulo/60206/2010|Segment:4|Subtype:null|Host:Human\r\n",
      "KR073476\tFluB\tHA\t6\tgb:KR073476|Organism:Influenza B virus B/Malaysia/U3626/2014|Segment:4|Subtype:null|Host:Human\r\n",
      "KT854765\tFluB\tHA\t3\tgb:KT854765|Organism:Influenza B virus B/Wisconsin/17/2015|Segment:4|Subtype:null|Host:Human\r\n",
      "KT854766\tFluB\tHA\t2\tgb:KT854766|Organism:Influenza B virus B/Wisconsin/16/2015|Segment:4|Subtype:null|Host:Human\r\n",
      "KT854761\tFluB\tHA\t1\tgb:KT854761|Organism:Influenza B virus B/Connecticut/02/2015|Segment:4|Subtype:null|Host:Human\r\n",
      "KR073479\tFluB\tHA\t3\tgb:KR073479|Organism:Influenza B virus B/Malaysia/U3655/2014|Segment:4|Subtype:null|Host:Human\r\n",
      "KT853521\tFluB\tHA\t1\tgb:KT853521|Organism:Influenza B virus B/Arkansas/01/2015|Segment:4|Subtype:null|Host:Human\r\n",
      "KR073489\tFluB\tHA\t2\tgb:KR073489|Organism:Influenza B virus B/Malaysia/U3857/2014|Segment:4|Subtype:null|Host:Human\r\n",
      "KR073488\tFluB\tHA\t1\tgb:KR073488|Organism:Influenza B virus B/Malaysia/U3805/2014|Segment:4|Subtype:null|Host:Human\r\n",
      "KF216523\tFluB\tHA\t2\tgb:KF216523|Organism:Influenza B virus B/Ohio/06/2012|Segment:4|Subtype:null|Host:Human\r\n",
      "KT383613\tFluB\tHA\t2\tgb:KT383613|Organism:Influenza B virus B/Beijinghuairou/1780/2015|Segment:4|Subtype:null|Host:Human\r\n",
      "KR073481\tFluB\tHA\t8\tgb:KR073481|Organism:Influenza B virus B/Malaysia/U3663/2014|Segment:4|Subtype:null|Host:Human\r\n",
      "KR073480\tFluB\tHA\t1\tgb:KR073480|Organism:Influenza B virus B/Malaysia/U3656/2014|Segment:4|Subtype:null|Host:Human\r\n",
      "KR073482\tFluB\tHA\t2\tgb:KR073482|Organism:Influenza B virus B/Malaysia/U3679/2014|Segment:4|Subtype:null|Host:Human\r\n",
      "CY154730\tFluB\tHA\t2\tgb:CY154730|Organism:Influenza B virus B/Victoria/108/2004|Segment:4|Subtype:null|Host:Human\r\n",
      "KM063613\tFluB\tHA\t2\tgb:KM063613|Organism:Influenza B virus B/Alaska/01/2014|Segment:4|Subtype:null|Host:Human\r\n",
      "KR073486\tFluB\tHA\t3\tgb:KR073486|Organism:Influenza B virus B/Malaysia/U3802/2014|Segment:4|Subtype:null|Host:Human\r\n",
      "CY174273\tFluB\tHA\t1\tgb:CY174273|Organism:Influenza B virus B/New York/1046/2001|Segment:4|Subtype:null|Host:Human\r\n",
      "CY175993\tFluB\tHA\t19\tgb:CY175993|Organism:Influenza B virus B/New York/1329/2012|Segment:4|Subtype:null|Host:Human\r\n",
      "KT853372\tFluB\tHA\t3\tgb:KT853372|Organism:Influenza B virus B/Texas/04/2015|Segment:4|Subtype:null|Host:Human\r\n",
      "KT855062\tFluB\tHA\t2\tgb:KT855062|Organism:Influenza B virus B/Alaska/46/2015|Segment:4|Subtype:null|Host:Human\r\n",
      "KT853529\tFluB\tHA\t1\tgb:KT853529|Organism:Influenza B virus B/Oregon/04/2014|Segment:4|Subtype:null|Host:Human\r\n",
      "CY147246\tFluB\tHA\t1\tgb:CY147246|Organism:Influenza B virus B/District of Columbia/3354/2013|Segment:4|Subtype:null|Host:Human\r\n",
      "CY191547\tFluB\tHA\t15\tgb:CY191547|Organism:Influenza B virus B/New York/WC-LVD-14-026/2014|Segment:4|Subtype:null|Host:Human\r\n",
      "CY191427\tFluB\tHA\t14\tgb:CY191427|Organism:Influenza B virus B/New York/WC-LVD-14-010/2014|Segment:4|Subtype:null|Host:Human\r\n",
      "CY191523\tFluB\tHA\t2\tgb:CY191523|Organism:Influenza B virus B/New York/WC-LVD-14-023/2014|Segment:4|Subtype:null|Host:Human\r\n",
      "CY191571\tFluB\tHA\t7\tgb:CY191571|Organism:Influenza B virus B/New York/WC-LVD-14-029/2014|Segment:4|Subtype:null|Host:Human\r\n",
      "CY156618\tFluB\tHA\t1\tgb:CY156618|Organism:Influenza B virus B/Brisbane/34/2008|Segment:4|Subtype:null|Host:Human\r\n",
      "KT866411\tFluB\tHA\t1\tgb:KT866411|Organism:Influenza B virus B/California/86/2015|Segment:4|Subtype:null|Host:Human\r\n",
      "KT866419\tFluB\tHA\t1\tgb:KT866419|Organism:Influenza B virus B/Iowa/27/2015|Segment:4|Subtype:null|Host:Human\r\n",
      "CY191579\tFluB\tHA\t2\tgb:CY191579|Organism:Influenza B virus B/New York/WC-LVD-14-030/2014|Segment:4|Subtype:null|Host:Human\r\n",
      "KT866313\tFluB\tHA\t1\tgb:KT866313|Organism:Influenza B virus B/Wisconsin/46/2015|Segment:4|Subtype:null|Host:Human\r\n",
      "CY187730\tFluB\tHA\t1\tgb:CY187730|Organism:Influenza B virus B/Alabama/3812/2014|Segment:4|Subtype:null|Host:Human\r\n",
      "CY191499\tFluB\tHA\t2\tgb:CY191499|Organism:Influenza B virus B/New York/WC-LVD-14-020/2014|Segment:4|Subtype:null|Host:Human\r\n",
      "CY175073\tFluB\tHA\t1\tgb:CY175073|Organism:Influenza B virus B/New York/1176/2008|Segment:4|Subtype:null|Host:Human\r\n",
      "KT854855\tFluB\tHA\t2\tgb:KT854855|Organism:Influenza B virus B/Texas/48/2015|Segment:4|Subtype:null|Host:Human\r\n",
      "KT866071\tFluB\tHA\t1\tgb:KT866071|Organism:Influenza B virus B/Wisconsin/79/2015|Segment:4|Subtype:null|Host:Human\r\n",
      "KT866486\tFluB\tHA\t1\tgb:KT866486|Organism:Influenza B virus B/Alaska/14/2015|Segment:4|Subtype:null|Host:Human\r\n",
      "KT866893\tFluB\tHA\t1\tgb:KT866893|Organism:Influenza B virus B/Washington/30/2015|Segment:4|Subtype:null|Host:Human\r\n",
      "CY038295\tFluB\tHA\t1\tgb:CY038295|Organism:Influenza B virus B/Pennsylvania/PIT59/2008|Segment:4|Subtype:null|Host:Human\r\n",
      "KT383649\tFluB\tHA\t2\tgb:KT383649|Organism:Influenza B virus B/Beijinghuairou/14068/2014|Segment:4|Subtype:null|Host:Human\r\n",
      "KT383647\tFluB\tHA\t2\tgb:KT383647|Organism:Influenza B virus B/Beijingdongcheng/15389/2015|Segment:4|Subtype:null|Host:Human\r\n",
      "KT383646\tFluB\tHA\t1\tgb:KT383646|Organism:Influenza B virus B/Beijingdongcheng/15387/2015|Segment:4|Subtype:null|Host:Human\r\n",
      "KT383645\tFluB\tHA\t1\tgb:KT383645|Organism:Influenza B virus B/Beijingdongcheng/15380/2015|Segment:4|Subtype:null|Host:Human\r\n",
      "KT383644\tFluB\tHA\t2\tgb:KT383644|Organism:Influenza B virus B/Beijingdongcheng/15379/2015|Segment:4|Subtype:null|Host:Human\r\n",
      "KT383641\tFluB\tHA\t1\tgb:KT383641|Organism:Influenza B virus B/Beijingdongcheng/15366/2015|Segment:4|Subtype:null|Host:Human\r\n",
      "KT383640\tFluB\tHA\t1\tgb:KT383640|Organism:Influenza B virus B/Beijingdongcheng/15357/2015|Segment:4|Subtype:null|Host:Human\r\n",
      "KT283525\tFluB\tHA\t1\tgb:KT283525|Organism:Influenza B virus B/Utah/09/2014|Segment:4|Subtype:null|Host:Human\r\n",
      "KT854971\tFluB\tHA\t3\tgb:KT854971|Organism:Influenza B virus B/Wisconsin/06/2015|Segment:4|Subtype:null|Host:Human\r\n",
      "KT866006\tFluB\tHA\t1\tgb:KT866006|Organism:Influenza B virus B/Iowa/26/2015|Segment:4|Subtype:null|Host:Human\r\n",
      "CY156762\tFluB\tHA\t2\tgb:CY156762|Organism:Influenza B virus B/Brisbane/162/2008|Segment:4|Subtype:null|Host:Human\r\n",
      "KT853492\tFluB\tHA\t1\tgb:KT853492|Organism:Influenza B virus B/Pennsylvania/04/2014|Segment:4|Subtype:null|Host:Human\r\n",
      "KJ683809\tFluB\tHA\t1\tgb:KJ683809|Organism:Influenza B virus B/Haryana/Y42/2013|Segment:4|Subtype:null|Host:Human\r\n",
      "KJ683800\tFluB\tHA\t3\tgb:KJ683800|Organism:Influenza B virus B/Delhi/Y33/2012|Segment:4|Subtype:null|Host:Human\r\n",
      "KJ683801\tFluB\tHA\t3\tgb:KJ683801|Organism:Influenza B virus B/Haryana/Y34/2012|Segment:4|Subtype:null|Host:Human\r\n",
      "CY155418\tFluB\tHA\t1\tgb:CY155418|Organism:Influenza B virus B/Wellington/43/2005|Segment:4|Subtype:null|Host:Human\r\n",
      "KJ683803\tFluB\tHA\t5\tgb:KJ683803|Organism:Influenza B virus B/Goa/Y36/2012|Segment:4|Subtype:null|Host:Human\r\n",
      "CY191603\tFluB\tHA\t2\tgb:CY191603|Organism:Influenza B virus B/New York/WC-LVD-14-034/2014|Segment:4|Subtype:null|Host:Human\r\n",
      "KT855025\tFluB\tHA\t2\tgb:KT855025|Organism:Influenza B virus B/Ohio/04/2015|Segment:4|Subtype:null|Host:Human\r\n",
      "CY018333\tFluB\tHA\t1\tgb:CY018333|Organism:Influenza B virus B/Houston/B846/2005|Segment:4|Subtype:null|Host:Human\r\n",
      "CY191467\tFluB\tHA\t2\tgb:CY191467|Organism:Influenza B virus B/New York/WC-LVD-14-015/2014|Segment:4|Subtype:null|Host:Human\r\n",
      "KR073424\tFluB\tHA\t2\tgb:KR073424|Organism:Influenza B virus B/Malaysia/U2234/2013|Segment:4|Subtype:null|Host:Human\r\n",
      "KT854757\tFluB\tHA\t2\tgb:KT854757|Organism:Influenza B virus B/Pennsylvania/01/2015|Segment:4|Subtype:null|Host:Human\r\n",
      "KT383581\tFluB\tHA\t1\tgb:KT383581|Organism:Influenza B virus B/Beijingshijingshan/15245/2015|Segment:4|Subtype:null|Host:Human\r\n",
      "KT383583\tFluB\tHA\t3\tgb:KT383583|Organism:Influenza B virus B/Beijingchongwen/15296/2015|Segment:4|Subtype:null|Host:Human\r\n",
      "KT383584\tFluB\tHA\t2\tgb:KT383584|Organism:Influenza B virus B/Beijingchongwen/15297/2015|Segment:4|Subtype:null|Host:Human\r\n",
      "CY175529\tFluB\tHA\t1\tgb:CY175529|Organism:Influenza B virus B/New York/1241/2010|Segment:4|Subtype:null|Host:Human\r\n",
      "CY193639\tFluB\tHA\t1\tgb:CY193639|Organism:Influenza B virus B/Utah/4386/2014|Segment:4|Subtype:null|Host:Human\r\n",
      "KM063872\tFluB\tHA\t1\tgb:KM063872|Organism:Influenza B virus B/Oklahoma/03/2014|Segment:4|Subtype:null|Host:Human\r\n",
      "CY193632\tFluB\tHA\t2\tgb:CY193632|Organism:Influenza B virus B/Alabama/4379/2014|Segment:4|Subtype:null|Host:Human\r\n",
      "CY156282\tFluB\tHA\t1\tgb:CY156282|Organism:Influenza B virus B/Christchurch/105/2007|Segment:4|Subtype:null|Host:Human\r\n",
      "KT855053\tFluB\tHA\t3\tgb:KT855053|Organism:Influenza B virus B/Indiana/04/2015|Segment:4|Subtype:null|Host:Human\r\n",
      "KT866213\tFluB\tHA\t2\tgb:KT866213|Organism:Influenza B virus B/Florida/64/2015|Segment:4|Subtype:null|Host:Human\r\n",
      "CY174873\tFluB\tHA\t1\tgb:CY174873|Organism:Influenza B virus B/New York/1151/2008|Segment:4|Subtype:null|Host:Human\r\n",
      "KT866036\tFluB\tHA\t1\tgb:KT866036|Organism:Influenza B virus B/New Hampshire/12/2015|Segment:4|Subtype:null|Host:Human\r\n",
      "KP861939\tFluB\tHA\t1\tgb:KP861939|Organism:Influenza B virus B/Tehran/88658/2014|Segment:4|Subtype:null|Host:Human\r\n",
      "KT866856\tFluB\tHA\t1\tgb:KT866856|Organism:Influenza B virus B/Utah/32/2015|Segment:4|Subtype:null|Host:Human\r\n",
      "KM063581\tFluB\tHA\t1\tgb:KM063581|Organism:Influenza B virus B/North Carolina/01/2014|Segment:4|Subtype:null|Host:Human\r\n",
      "KT854379\tFluB\tHA\t3\tgb:KT854379|Organism:Influenza B virus B/Iowa/06/2015|Segment:4|Subtype:null|Host:Human\r\n",
      "KT854521\tFluB\tHA\t2\tgb:KT854521|Organism:Influenza B virus B/Georgia/02/2015|Segment:4|Subtype:null|Host:Human\r\n",
      "CY191395\tFluB\tHA\t2\tgb:CY191395|Organism:Influenza B virus B/New York/WC-LVD-14-006/2014|Segment:4|Subtype:null|Host:Human\r\n",
      "CY176137\tFluB\tHA\t1\tgb:CY176137|Organism:Influenza B virus B/New York/1348/2012|Segment:4|Subtype:null|Host:Human\r\n",
      "KT854934\tFluB\tHA\t3\tgb:KT854934|Organism:Influenza B virus B/Washington/12/2015|Segment:4|Subtype:null|Host:Human\r\n",
      "KT866321\tFluB\tHA\t3\tgb:KT866321|Organism:Influenza B virus B/Delaware/11/2015|Segment:4|Subtype:null|Host:Human\r\n",
      "CY194089\tFluB\tHA\t1\tgb:CY194089|Organism:Influenza B virus B/Mississippi/4836/2015|Segment:4|Subtype:null|Host:Human\r\n",
      "CY173779\tFluB\tHA\t22\tgb:CY173779|Organism:Influenza B virus B/New York/1330/2012|Segment:4|Subtype:null|Host:Human\r\n",
      "KT866459\tFluB\tHA\t3\tgb:KT866459|Organism:Influenza B virus B/New York/18/2015|Segment:4|Subtype:null|Host:Human\r\n",
      "CY194082\tFluB\tHA\t14\tgb:CY194082|Organism:Influenza B virus B/Delware/4829/2015|Segment:4|Subtype:null|Host:Human\r\n",
      "CY194083\tFluB\tHA\t2\tgb:CY194083|Organism:Influenza B virus B/Florida/4830/2015|Segment:4|Subtype:null|Host:Human\r\n"
     ]
    }
   ],
   "source": [
    "seg='HA'\n",
    "\n",
    "cd /home/alan/projects/MinION-notebook/clinical-analysis/blast-result-comparison/segment-cross-contamination\n",
    "\n",
    "samtools view flu-11-9.2d.mapped-only.bam | grep $seg | cut -f1,10 | perl -pe 's/^(.+)\\t(.+)/>$1\\n$2/g' > flu-11-9.2d.mapped-only.$seg.fasta\n",
    "\n",
    "blastn -db ~/projects/MinION-notebook/clinical-analysis/fludb/all-H1N1-H3N2-FluB-full-segs.fasta -query flu-11-9.2d.mapped-only.$seg.fasta -out flu-11-9.2d.mapped-only.$seg.blastn.xml -outfmt 5 -evalue 0.00005 -culling_limit 2 -max_target_seqs 1 -num_threads 40\n",
    "\n",
    "python ~/projects/MinION-notebook/scripts/read-fludb-blastxml.py flu-11-9.2d.mapped-only.$seg.blastn.xml"
   ]
  },
  {
   "cell_type": "code",
   "execution_count": 10,
   "metadata": {
    "ExecuteTime": {
     "end_time": "2016-03-23T15:25:08.297734",
     "start_time": "2016-03-23T15:25:04.925233"
    },
    "collapsed": false,
    "run_control": {
     "marked": false
    }
   },
   "outputs": [
    {
     "name": "stdout",
     "output_type": "stream",
     "text": [
      "CY151570\tFluB\tMP\t1\tgb:CY151570|Organism:Influenza B virus B/Christchurch/133/2002|Segment:7|Subtype:null|Host:Human\r\n",
      "CY155307\tFluB\tMP\t1\tgb:CY155307|Organism:Influenza B virus B/Sydney/1/2005|Segment:7|Subtype:null|Host:Human\r\n",
      "KT854363\tFluB\tMP\t1\tgb:KT854363|Organism:Influenza B virus B/Wisconsin/10/2015|Segment:7|Subtype:null|Host:Human\r\n",
      "KT866146\tFluB\tMP\t1\tgb:KT866146|Organism:Influenza B virus B/Alaska/35/2015|Segment:7|Subtype:null|Host:Human\r\n",
      "KT854769\tFluB\tMP\t1\tgb:KT854769|Organism:Influenza B virus B/Wisconsin/17/2015|Segment:7|Subtype:null|Host:Human\r\n",
      "LC032956\tFluB\tMP\t1\tgb:LC032956|Organism:Influenza B virus B/Gunma/13G028/2014|Segment:7|Subtype:null|Host:Human\r\n",
      "KT865983\tFluB\tMP\t1\tgb:KT865983|Organism:Influenza B virus B/New Jersey/10/2015|Segment:7|Subtype:null|Host:Human\r\n",
      "KT853455\tFluB\tMP\t1\tgb:KT853455|Organism:Influenza B virus B/Wisconsin/03/2015|Segment:7|Subtype:null|Host:Human\r\n",
      "KT866332\tFluB\tMP\t2\tgb:KT866332|Organism:Influenza B virus B/Massachusetts/13/2015|Segment:7|Subtype:null|Host:Human\r\n",
      "CY194096\tFluB\tHA\t1\tgb:CY194096|Organism:Influenza B virus B/New York/4843/2015|Segment:4|Subtype:null|Host:Human\r\n",
      "CY154883\tFluB\tMP\t1\tgb:CY154883|Organism:Influenza B virus B/Sydney/5/2004|Segment:7|Subtype:null|Host:Human\r\n",
      "KT865960\tFluB\tMP\t1\tgb:KT865960|Organism:Influenza B virus B/Florida/45/2015|Segment:7|Subtype:null|Host:Human\r\n",
      "KT855065\tFluB\tMP\t2\tgb:KT855065|Organism:Influenza B virus B/Alaska/46/2015|Segment:7|Subtype:null|Host:Human\r\n",
      "KT866659\tFluB\tMP\t3\tgb:KT866659|Organism:Influenza B virus B/Florida/41/2015|Segment:7|Subtype:null|Host:Human\r\n",
      "CY115360\tFluB\tMP\t1\tgb:CY115360|Organism:Influenza B virus B/Bangladesh/5945/2009|Segment:7|Subtype:null|Host:Human\r\n",
      "CY191540\tFluB\tMP\t2\tgb:CY191540|Organism:Influenza B virus B/New York/WC-LVD-14-025/2014|Segment:7|Subtype:null|Host:Human\r\n",
      "KT853443\tFluB\tMP\t1\tgb:KT853443|Organism:Influenza B virus B/Wyoming/03/2015|Segment:7|Subtype:null|Host:Human\r\n",
      "KT854580\tFluB\tMP\t4\tgb:KT854580|Organism:Influenza B virus B/Pennsylvania/06/2015|Segment:7|Subtype:null|Host:Human\r\n",
      "KT854857\tFluB\tMP\t10\tgb:KT854857|Organism:Influenza B virus B/Wisconsin/14/2015|Segment:7|Subtype:null|Host:Human\r\n",
      "CY175354\tFluB\tMP\t1\tgb:CY175354|Organism:Influenza B virus B/New York/1208/2009|Segment:7|Subtype:null|Host:Human\r\n",
      "KT866730\tFluB\tMP\t1\tgb:KT866730|Organism:Influenza B virus B/Indiana/21/2015|Segment:7|Subtype:null|Host:Human\r\n",
      "KT855010\tFluB\tMP\t1\tgb:KT855010|Organism:Influenza B virus B/Washington/08/2015|Segment:7|Subtype:null|Host:Human\r\n",
      "KT854782\tFluB\tMP\t2\tgb:KT854782|Organism:Influenza B virus B/Wisconsin/16/2015|Segment:7|Subtype:null|Host:Human\r\n",
      "CY018062\tFluB\tMP\t1\tgb:CY018062|Organism:Influenza B virus B/Temple/B7/1999|Segment:7|Subtype:null|Host:Human\r\n",
      "KT854473\tFluB\tMP\t1\tgb:KT854473|Organism:Influenza B virus B/Louisiana/02/2015|Segment:7|Subtype:null|Host:Human\r\n",
      "CY150364\tFluB\tMP\t1\tgb:CY150364|Organism:Influenza B virus B/Victoria/501/2004|Segment:7|Subtype:null|Host:Human\r\n",
      "KT866496\tFluB\tMP\t3\tgb:KT866496|Organism:Influenza B virus B/Alaska/08/2015|Segment:7|Subtype:null|Host:Human\r\n",
      "KT853536\tFluB\tMP\t1\tgb:KT853536|Organism:Influenza B virus B/Tennessee/01/2014|Segment:7|Subtype:null|Host:Human\r\n",
      "KT866093\tFluB\tMP\t1\tgb:KT866093|Organism:Influenza B virus B/Florida/60/2015|Segment:7|Subtype:null|Host:Human\r\n",
      "KT854909\tFluB\tMP\t1\tgb:KT854909|Organism:Influenza B virus B/Washington/15/2015|Segment:7|Subtype:null|Host:Human\r\n",
      "KT854676\tFluB\tMP\t2\tgb:KT854676|Organism:Influenza B virus B/Florida/04/2015|Segment:7|Subtype:null|Host:Human\r\n",
      "KT854674\tFluB\tMP\t1\tgb:KT854674|Organism:Influenza B virus B/Washington/03/2015|Segment:7|Subtype:null|Host:Human\r\n",
      "CY174978\tFluB\tMP\t1\tgb:CY174978|Organism:Influenza B virus B/New York/1164/2008|Segment:7|Subtype:null|Host:Human\r\n",
      "KM063773\tFluB\tMP\t1\tgb:KM063773|Organism:Influenza B virus B/Washington/05/2013|Segment:7|Subtype:null|Host:Human\r\n",
      "KT867010\tFluB\tMP\t1\tgb:KT867010|Organism:Influenza B virus B/Alaska/25/2015|Segment:7|Subtype:null|Host:Human\r\n",
      "KT865944\tFluB\tMP\t1\tgb:KT865944|Organism:Influenza B virus B/Florida/44/2015|Segment:7|Subtype:null|Host:Human\r\n",
      "CY119995\tFluB\tMP\t1\tgb:CY119995|Organism:Influenza B virus B/Malaysia/1918984/2007|Segment:7|Subtype:null|Host:Human\r\n",
      "CY191564\tFluB\tMP\t5\tgb:CY191564|Organism:Influenza B virus B/New York/WC-LVD-14-028/2014|Segment:7|Subtype:null|Host:Human\r\n",
      "LC032964\tFluB\tMP\t1\tgb:LC032964|Organism:Influenza B virus B/Gunma/13G027/2014|Segment:7|Subtype:null|Host:Human\r\n",
      "LC033380\tFluB\tMP\t38\tgb:LC033380|Organism:Influenza B virus B/Nagasaki/13N070/2014|Segment:7|Subtype:null|Host:Human\r\n",
      "KT853541\tFluB\tMP\t1\tgb:KT853541|Organism:Influenza B virus B/Alaska/30/2014|Segment:7|Subtype:null|Host:Human\r\n",
      "CY156363\tFluB\tMP\t1\tgb:CY156363|Organism:Influenza B virus B/Waikato/809/2007|Segment:7|Subtype:null|Host:Human\r\n",
      "KT853543\tFluB\tMP\t1\tgb:KT853543|Organism:Influenza B virus B/Nebraska/01/2015|Segment:7|Subtype:null|Host:Human\r\n",
      "KT853544\tFluB\tMP\t3\tgb:KT853544|Organism:Influenza B virus B/Wisconsin/16/2014|Segment:7|Subtype:null|Host:Human\r\n",
      "CY191484\tFluB\tMP\t1\tgb:CY191484|Organism:Influenza B virus B/New York/WC-LVD-14-018/2014|Segment:7|Subtype:null|Host:Human\r\n",
      "KT866679\tFluB\tMP\t1\tgb:KT866679|Organism:Influenza B virus B/Delaware/09/2015|Segment:7|Subtype:null|Host:Human\r\n",
      "KT866000\tFluB\tMP\t1\tgb:KT866000|Organism:Influenza B virus B/Alaska/07/2015|Segment:7|Subtype:null|Host:Human\r\n",
      "CY018502\tFluB\tMP\t1\tgb:CY018502|Organism:Influenza B virus B/Hong Kong/557/2000|Segment:7|Subtype:null|Host:Human\r\n",
      "GQ456063\tFluB\tHA\t1\tgb:GQ456063|Organism:Influenza B virus B/Nairobi/15/2008|Segment:4|Subtype:null|Host:Human\r\n",
      "KT854633\tFluB\tMP\t3\tgb:KT854633|Organism:Influenza B virus B/Ohio/01/2015|Segment:7|Subtype:null|Host:Human\r\n",
      "KT866967\tFluB\tMP\t3\tgb:KT866967|Organism:Influenza B virus B/New York/18/2015|Segment:7|Subtype:null|Host:Human\r\n",
      "CY191572\tFluB\tMP\t1\tgb:CY191572|Organism:Influenza B virus B/New York/WC-LVD-14-029/2014|Segment:7|Subtype:null|Host:Human\r\n",
      "KT853416\tFluB\tMP\t1\tgb:KT853416|Organism:Influenza B virus B/Colorado/01/2015|Segment:7|Subtype:null|Host:Human\r\n",
      "CY172144\tFluB\tMP\t1\tgb:CY172144|Organism:Influenza B virus B/Chicago/YGB_04007/2013|Segment:7|Subtype:null|Host:Human\r\n",
      "CY150187\tFluB\tMP\t1\tgb:CY150187|Organism:Influenza B virus B/Christchurch/2/2010|Segment:7|Subtype:null|Host:Human\r\n",
      "KT866290\tFluB\tMP\t1\tgb:KT866290|Organism:Influenza B virus B/Maryland/19/2015|Segment:7|Subtype:null|Host:Human\r\n",
      "KT866058\tFluB\tMP\t1\tgb:KT866058|Organism:Influenza B virus B/Wisconsin/50/2015|Segment:7|Subtype:null|Host:Human\r\n",
      "CY120011\tFluB\tMP\t1\tgb:CY120011|Organism:Influenza B virus B/Malaysia/1921279/2008|Segment:7|Subtype:null|Host:Human\r\n",
      "CY155995\tFluB\tMP\t3\tgb:CY155995|Organism:Influenza B virus B/Victoria/205/2007|Segment:7|Subtype:null|Host:Human\r\n",
      "KT854293\tFluB\tMP\t2\tgb:KT854293|Organism:Influenza B virus B/Washington/11/2015|Segment:7|Subtype:null|Host:Human\r\n",
      "KT854474\tFluB\tMP\t1\tgb:KT854474|Organism:Influenza B virus B/Texas/17/2015|Segment:7|Subtype:null|Host:Human\r\n",
      "LC032900\tFluB\tMP\t1\tgb:LC032900|Organism:Influenza B virus B/Kyoto/13K014/2014|Segment:7|Subtype:null|Host:Human\r\n",
      "KT854429\tFluB\tMP\t1\tgb:KT854429|Organism:Influenza B virus B/Arkansas/11/2015|Segment:7|Subtype:null|Host:Human\r\n",
      "CY156555\tFluB\tMP\t1\tgb:CY156555|Organism:Influenza B virus B/Auckland/33/2008|Segment:7|Subtype:null|Host:Human\r\n",
      "CY018838\tFluB\tMP\t1\tgb:CY018838|Organism:Influenza B virus B/Wellington/01/1994|Segment:7|Subtype:null|Host:Human\r\n",
      "CY175258\tFluB\tMP\t1\tgb:CY175258|Organism:Influenza B virus B/New York/1190/2008|Segment:7|Subtype:null|Host:Human\r\n",
      "CY155347\tFluB\tMP\t1\tgb:CY155347|Organism:Influenza B virus B/Brisbane/4/2005|Segment:7|Subtype:null|Host:Human\r\n",
      "CY175234\tFluB\tMP\t1\tgb:CY175234|Organism:Influenza B virus B/New York/1187/2008|Segment:7|Subtype:null|Host:Human\r\n",
      "KT854182\tFluB\tMP\t1\tgb:KT854182|Organism:Influenza B virus B/Texas/12/2015|Segment:7|Subtype:null|Host:Human\r\n",
      "KT854261\tFluB\tMP\t4\tgb:KT854261|Organism:Influenza B virus B/Texas/08/2015|Segment:7|Subtype:null|Host:Human\r\n",
      "KT853146\tFluB\tMP\t1\tgb:KT853146|Organism:Influenza B virus B/Colorado/02/2014|Segment:7|Subtype:null|Host:Human\r\n",
      "KT853271\tFluB\tMP\t1\tgb:KT853271|Organism:Influenza B virus B/Iowa/01/2015|Segment:7|Subtype:null|Host:Human\r\n",
      "KT853140\tFluB\tMP\t1\tgb:KT853140|Organism:Influenza B virus B/Utah/02/2015|Segment:7|Subtype:null|Host:Human\r\n",
      "CY150810\tFluB\tMP\t1\tgb:CY150810|Organism:Influenza B virus B/Sydney/50/2008|Segment:7|Subtype:null|Host:Human\r\n",
      "CY018430\tFluB\tMP\t1\tgb:CY018430|Organism:Influenza B virus B/Kouchi/193/1999|Segment:7|Subtype:null|Host:Human\r\n",
      "KT854386\tFluB\tMP\t1\tgb:KT854386|Organism:Influenza B virus B/California/06/2015|Segment:7|Subtype:null|Host:Human\r\n",
      "KT866914\tFluB\tMP\t1\tgb:KT866914|Organism:Influenza B virus B/Washington/61/2015|Segment:7|Subtype:null|Host:Human\r\n",
      "LC033188\tFluB\tMP\t1\tgb:LC033188|Organism:Influenza B virus B/Niigata/13F064/2014|Segment:7|Subtype:null|Host:Human\r\n",
      "KT854373\tFluB\tMP\t1\tgb:KT854373|Organism:Influenza B virus B/Wisconsin/12/2015|Segment:7|Subtype:null|Host:Human\r\n",
      "KT853264\tFluB\tMP\t1\tgb:KT853264|Organism:Influenza B virus B/Wyoming/01/2015|Segment:7|Subtype:null|Host:Human\r\n",
      "KT853260\tFluB\tMP\t2\tgb:KT853260|Organism:Influenza B virus B/Pennsylvania/08/2014|Segment:7|Subtype:null|Host:Human\r\n",
      "CY037416\tFluB\tMP\t1\tgb:CY037416|Organism:Influenza B virus B/Illinois/UR06-0516/2007|Segment:7|Subtype:null|Host:Human\r\n",
      "CY118308\tFluB\tMP\t1\tgb:CY118308|Organism:Influenza B virus B/Malaysia/30383/2004|Segment:7|Subtype:null|Host:Human\r\n",
      "KT866208\tFluB\tMP\t2\tgb:KT866208|Organism:Influenza B virus B/California/89/2015|Segment:7|Subtype:null|Host:Human\r\n",
      "CY156571\tFluB\tMP\t1\tgb:CY156571|Organism:Influenza B virus B/Wellington/13/2008|Segment:7|Subtype:null|Host:Human\r\n",
      "KT866324\tFluB\tMP\t6\tgb:KT866324|Organism:Influenza B virus B/Delaware/11/2015|Segment:7|Subtype:null|Host:Human\r\n",
      "CY182458\tFluB\tMP\t1\tgb:CY182458|Organism:Influenza B virus B/Nicaragua/AGB2-11/2012|Segment:7|Subtype:null|Host:Human\r\n"
     ]
    }
   ],
   "source": [
    "seg='MP'\n",
    "\n",
    "cd /home/alan/projects/MinION-notebook/clinical-analysis/blast-result-comparison/segment-cross-contamination\n",
    "\n",
    "samtools view flu-11-9.2d.mapped-only.bam | grep $seg | cut -f1,10 | perl -pe 's/^(.+)\\t(.+)/>$1\\n$2/g' > flu-11-9.2d.mapped-only.$seg.fasta\n",
    "\n",
    "blastn -db ~/projects/MinION-notebook/clinical-analysis/fludb/all-H1N1-H3N2-FluB-full-segs.fasta -query flu-11-9.2d.mapped-only.$seg.fasta -out flu-11-9.2d.mapped-only.$seg.blastn.xml -outfmt 5 -evalue 0.00005 -culling_limit 2 -max_target_seqs 1 -num_threads 40\n",
    "\n",
    "python ~/projects/MinION-notebook/scripts/read-fludb-blastxml.py flu-11-9.2d.mapped-only.$seg.blastn.xml"
   ]
  },
  {
   "cell_type": "markdown",
   "metadata": {},
   "source": [
    "## Blast MiSeq"
   ]
  },
  {
   "cell_type": "markdown",
   "metadata": {},
   "source": [
    "To identify whether or not the samples we have are mixed infections I'm going to blast thes MiSeq reads to see if that will shed light on anything."
   ]
  },
  {
   "cell_type": "code",
   "execution_count": null,
   "metadata": {
    "collapsed": true
   },
   "outputs": [],
   "source": [
    "cd /home/alan/projects/MinION-notebook/miseq-blast/flub\n",
    "\n",
    "python ~/projects/MinION-notebook/MinION-Flu-Analysis/scripts/interleave-fastq.py f3.r1.fastq f3.r2.fastq > f3.interleaved.fasta\n",
    "\n",
    "perl ~/projects/MinION-notebook/MinION-Flu-Analysis/scripts/1line-fasta.pl f3.interleaved.fastq > f3.interleaved.fasta\n",
    "\n",
    "blastn \\\n",
    "-db ~/projects/MinION-notebook/clinical-analysis/fludb/all-H1N1-H3N2-FluB-full-segs.fasta \\\n",
    "-query f3.interleaved.fasta \\\n",
    "-out f3.interleaved.fludb.blastn.xml \\\n",
    "-outfmt 5 \\\n",
    "-num_threads 25 \\\n",
    "-culling_limit 2 \\\n",
    "-max_target_seqs 1 \\\n",
    "-evalue 0.00005\n",
    "\n",
    "# python ~/projects/MinION-notebook/MinION-Flu-Analysis/scripts/read-fludb-blastxml.py \\\n",
    "# f3.interleaved.fludb.blastn.xml \\\n",
    "# > f3.interleaved.fludb.blastn.seg-counts.tsv"
   ]
  },
  {
   "cell_type": "markdown",
   "metadata": {
    "collapsed": true
   },
   "source": [
    "The blast suggested that there were ~0.1% FluA reads in the sample which suggests that this is not the source of noise that is seen in the consensus generation of FluB so must be something else. \n",
    "\n",
    "There were 1314651 total hits, 1942 being FluA.\n",
    "\n",
    "I was concerned about there being potential overlap between FluA and FluB sequences due to these results. However, I would expect there to one part of one or two segments to be similar instead of all segments. These results suggest that this is either:\n",
    "A) an actual mixed infection\n",
    "B) cross contamination on the prep side\n",
    "C) erroneous demuxing (most probable, IMO). I will check this out.\n",
    "\n",
    "182 1\n",
    "165 2\n",
    "231 3\n",
    "329 4\n",
    "247 5\n",
    "151 6\n",
    "412 7\n",
    "225 8\n",
    "\n",
    "Also, there may be adaptor readthrough...\n",
    "\n",
    "To assess whether this is due to demuxing I'm going to blast the lab strain of FluB and see if there's any FluA in there.\n",
    "\n",
    "Also, after talking to Adam, we thought it would be a good idea to test the plasmid to see if there's any cross contamination of other segments. This'll have to be run on the nt database presumably to avoid overfitting? We'll have to see. I'll run it on the FluDB for now"
   ]
  },
  {
   "cell_type": "code",
   "execution_count": null,
   "metadata": {
    "collapsed": true
   },
   "outputs": [],
   "source": [
    "cd /home/alan/projects/MinION-notebook/miseq-blast/lab-strain-clinical-flub\n",
    "\n",
    "#from khmer \n",
    "interleave-reads.py flub-standard.r1.fastq.gz flub-standard.r2.fastq.gz > flub-standard.fastq\n",
    "\n",
    "#from fastx\n",
    "fastq_to_fasta -n -i flub-standard.fastq -o flub-standard.fasta\n",
    "\n",
    "blastn \\\n",
    "-db ~/projects/MinION-notebook/clinical-analysis/fludb/all-H1N1-H3N2-FluB-full-segs.fasta \\\n",
    "-query flub-standard.fasta \\\n",
    "-out flub-standard.fludb.blastn.xml \\\n",
    "-outfmt 5 \\\n",
    "-num_threads 25\n",
    "-culling_limit 2 \\\n",
    "-max_target_seqs 1 \\\n",
    "-evalue 0.00005"
   ]
  },
  {
   "cell_type": "code",
   "execution_count": null,
   "metadata": {
    "collapsed": true
   },
   "outputs": [],
   "source": [
    "cd /home/alan/projects/MinION-notebook/miseq-blast/plasmid\n",
    "\n",
    "#from khmer \n",
    "interleave-reads.py plasmid.r1.fastq.gz plasmid.r2.fastq.gz > plasmid.fastq\n",
    "\n",
    "#from fastx\n",
    "fastq_to_fasta -n -i plasmid.fastq -o plasmid.fasta\n",
    "\n",
    "blastn \\\n",
    "-db ~/projects/MinION-notebook/clinical-analysis/fludb/all-H1N1-H3N2-FluB-full-segs.fasta \\\n",
    "-query plasmid.fasta \\\n",
    "-out plasmid.fludb.blastn.xml \\\n",
    "-outfmt 5 \\\n",
    "-num_threads 15\n",
    "-culling_limit 2 \\\n",
    "-max_target_seqs 1 \\\n",
    "-evalue 0.00005"
   ]
  },
  {
   "cell_type": "markdown",
   "metadata": {},
   "source": [
    "## Canu Assembly"
   ]
  },
  {
   "cell_type": "markdown",
   "metadata": {},
   "source": [
    "Bin's friend is working with MinION and recommended that Canu (a fork of Celera) is the best assembler that he's used. \n",
    "\n",
    "https://github.com/marbl/canu"
   ]
  },
  {
   "cell_type": "code",
   "execution_count": null,
   "metadata": {
    "collapsed": true
   },
   "outputs": [],
   "source": [
    "cd /data1/share/scratch/minion-canu\n",
    "\n",
    "/opt/bioinformatics-software/minion-software/canu/Linux-amd64/bin/canu \\\n",
    "-p flu-11-9-canu \\\n",
    "-d flu-11-9-canu-out \\\n",
    "genomeSize=32k \\\n",
    "-nanopore-raw flu-11-09.fastq"
   ]
  },
  {
   "cell_type": "markdown",
   "metadata": {},
   "source": [
    "There weren't any contigs produced, but this did perform some error correction with falcon sense (which is a super pain to install), so I can use those reads to see if it helps with anyhting."
   ]
  },
  {
   "cell_type": "markdown",
   "metadata": {},
   "source": [
    "#### Canu Falcon Sense Corrected Reads"
   ]
  },
  {
   "cell_type": "code",
   "execution_count": null,
   "metadata": {
    "collapsed": true
   },
   "outputs": [],
   "source": []
  },
  {
   "cell_type": "markdown",
   "metadata": {
    "heading_collapsed": false,
    "level": 7
   },
   "source": [
    "## NGM-LR\n",
    "Aligner developed by Mike Schatz that apparently works well for MinION data.\n",
    "http://cibiv.github.io/NextGenMap/\n"
   ]
  },
  {
   "cell_type": "markdown",
   "metadata": {
    "level": 7
   },
   "source": [
    "# Error Correction"
   ]
  },
  {
   "cell_type": "markdown",
   "metadata": {},
   "source": [
    "After talking with Mike Schatz there are a few recomendations on what to do with the data.\n",
    "\n",
    "After talking to Lior, he recommended (for proof of concept) take any strain, mutate it 15%, and then do that several thousand times to see if that is producing the same results?\n",
    "\n",
    "Also, maybe try DADA2 (http://biorxiv.org/content/early/2015/08/06/024034). This is very similar in concept to what Zeke and I were doing."
   ]
  },
  {
   "cell_type": "markdown",
   "metadata": {
    "level": 7
   },
   "source": [
    "## Falcon-sense"
   ]
  },
  {
   "cell_type": "markdown",
   "metadata": {},
   "source": [
    "Falcon was generated for PacBio data and \n",
    "\n",
    "https://github.com/PacificBiosciences/FALCON\n",
    "\n",
    "Mike said it was a pain in the ass to install and he has never lied.\n"
   ]
  },
  {
   "cell_type": "code",
   "execution_count": null,
   "metadata": {
    "collapsed": true
   },
   "outputs": [],
   "source": []
  },
  {
   "cell_type": "markdown",
   "metadata": {
    "level": 7
   },
   "source": [
    "## Nanopolish"
   ]
  },
  {
   "cell_type": "markdown",
   "metadata": {},
   "source": [
    "https://github.com/jts/nanocorrect\n",
    "\n",
    "Instructions:\n",
    "\n",
    "First, build the DALIGNER database and compute alignments:\n",
    "\n",
    "./nanocorrect-overlap INPUT=reads.fasta NAME=nc\n",
    "\n",
    "INPUT is the path to your reads. The NAME variable is the prefix you want to use for the output files.\n",
    "\n",
    "You can correct a range of reads using the python script:\n",
    "\n",
    "python nanocorrect.py nc 1000:1020 > corrected.fasta\n",
    "\n",
    "You can correct all reads using the python script:\n",
    "\n",
    "python nanocorrect.py nc all > corrected.fasta\n",
    "\n",
    "The first argument must be the same as the NAME variable above. The second is the indices of the reads (in the original fasta) that you want to correct."
   ]
  },
  {
   "cell_type": "markdown",
   "metadata": {},
   "source": [
    "### 4-20"
   ]
  },
  {
   "cell_type": "code",
   "execution_count": 6,
   "metadata": {
    "ExecuteTime": {
     "end_time": "2016-02-18T14:26:18.040745",
     "start_time": "2016-02-18T14:26:07.946187"
    },
    "collapsed": false
   },
   "outputs": [
    {
     "name": "stdout",
     "output_type": "stream",
     "text": [
      "/opt/bioinformatics-software/minion-software/nanocorrect/nanocorrect-preprocess.pl flu-4-20.fasta > nc.pp.fasta\r\n",
      "fasta2DB nc nc.pp.fasta\r\n",
      "DBsplit -s50 nc\r\n",
      "DBdust nc\r\n",
      "HPCdaligner -t5 -mdust nc > HPCcommands.txt\r\n",
      "/bin/bash HPCcommands.txt\r\n",
      "daligner: Warning: (null) track is not a mask track.\r\n",
      "LAcat nc > nc.las\r\n",
      "rm nc.*.las\r\n"
     ]
    }
   ],
   "source": [
    "cd /home/alan/projects/MinION-notebook/error-correction/nanocorrect/4-20\n",
    "\n",
    "nanocorrect-overlap INPUT=flu-4-20.fasta NAME=nc\n",
    "\n",
    "python /opt/bioinformatics-software/minion-software/nanocorrect/nanocorrect.py nc all > flu-4-20.nc.fasta"
   ]
  },
  {
   "cell_type": "markdown",
   "metadata": {},
   "source": [
    "### 6-4"
   ]
  },
  {
   "cell_type": "code",
   "execution_count": null,
   "metadata": {
    "collapsed": true
   },
   "outputs": [],
   "source": [
    "cd /home/alan/projects/MinION-notebook/error-correction/nanocorrect/6-4\n",
    "\n",
    "nanocorrect-overlap INPUT=flu-6-4.2d.fasta NAME=nc\n",
    "\n",
    "python /opt/bioinformatics-software/minion-software/nanocorrect/nanocorrect.py nc all > flu-6-4.2d.nc.fasta"
   ]
  },
  {
   "cell_type": "markdown",
   "metadata": {},
   "source": [
    "### 8-13"
   ]
  },
  {
   "cell_type": "code",
   "execution_count": null,
   "metadata": {
    "collapsed": true
   },
   "outputs": [],
   "source": [
    "cd /home/alan/projects/MinION-notebook/error-correction/nanocorrect/8-13\n",
    "\n",
    "nanocorrect-overlap INPUT=flu-8-13.2d.fasta NAME=nc\n",
    "\n",
    "python /opt/bioinformatics-software/minion-software/nanocorrect/nanocorrect.py nc all > flu-8-13.2d.nc.fasta"
   ]
  },
  {
   "cell_type": "markdown",
   "metadata": {},
   "source": [
    "### 11-9"
   ]
  },
  {
   "cell_type": "code",
   "execution_count": null,
   "metadata": {
    "collapsed": true
   },
   "outputs": [],
   "source": [
    "cd /home/alan/projects/MinION-notebook/error-correction/nanocorrect/11-9\n",
    "\n",
    "nanocorrect-overlap INPUT=flu-11-9.2d.fasta NAME=nc\n",
    "\n",
    "python /opt/bioinformatics-software/minion-software/nanocorrect/nanocorrect.py nc all > flu-11-9.2d.nc.fasta"
   ]
  },
  {
   "cell_type": "markdown",
   "metadata": {},
   "source": [
    "#### Blast Consensus Analysis"
   ]
  },
  {
   "cell_type": "markdown",
   "metadata": {},
   "source": [
    "Now that we have \"corrected\" reads, this may lead to better blast results. So this will be put through the second implementation of the clinical consensus pipeline."
   ]
  },
  {
   "cell_type": "code",
   "execution_count": null,
   "metadata": {
    "collapsed": true,
    "run_control": {
     "marked": false
    }
   },
   "outputs": [],
   "source": [
    "cd /home/alan/projects/MinION-notebook/error-correction/nanocorrect/11-9/blast-analysis\n",
    "\n",
    "blastn \\\n",
    "-query flu-11-9.2d.nc.fasta \\\n",
    "-db ~/projects/MinION-notebook/clinical-analysis/fludb/all-H1N1-H3N2-FluB-full-segs.fasta \\\n",
    "-out flu-11-9.2d.nc.blast.xml \\\n",
    "-outfmt 5 \\\n",
    "-num_threads 40 \\\n",
    "-culling_limit 2 \\\n",
    "-max_target_seqs 1 \\\n",
    "-evalue 0.00005\n",
    "\n",
    "python ~/projects/MinION-notebook/MinION-Flu-Analysis/scripts/read-fludb-blastxml.py flu-11-9.2d.nc.blast.xml | sort -nrk4 > flu-11-9.2d.nc.blast.seg-counts.tsv\n",
    "\n",
    "miseq=\"f3\"\n",
    "minion=\"flu-11-9.2d.nc\"\n",
    "ref=\"/home/alan/projects/MinION-notebook/clinical-analysis/fludb/all-H1N1-H3N2-FluB-full-segs.fasta\"\n",
    "subtype=\"FluB\"\n",
    "\n",
    "for seg in NS NA NP M PB1 PB2 PA HA\n",
    "do\n",
    "# sort the segments by their hits\n",
    "sort -nrk4 $minion.blast.seg-counts.tsv | grep -P $subtype'\\t'$seg | head | cut -f1 > $minion-top-$subtype-$seg.tsv\n",
    "\n",
    "# get the fasta sequences\n",
    "grep --no-group-separator -A1 -F -f $minion-top-$subtype-$seg.tsv $ref > $minion-top-$subtype-$seg.fasta\n",
    "\n",
    "# map dat fool\n",
    "bowtie2-build $minion-top-$subtype-$seg.fasta $minion-top-$subtype-$seg.fasta\n",
    "bowtie2 -p 40 --very-sensitive-local -x $minion-top-$subtype-$seg.fasta  -1 $miseq.r1.fastq.gz -2 $miseq.r2.fastq.gz -S $miseq-$minion-top-$subtype-$seg.sam \n",
    "\n",
    "samtools view -b -o $miseq-$minion-top-$subtype-$seg.bam $miseq-$minion-top-$subtype-$seg.sam\n",
    "samtools sort -o $miseq-$minion-top-$subtype-$seg.sort.bam $miseq-$minion-top-$subtype-$seg.bam \n",
    "samtools index $miseq-$minion-top-$subtype-$seg.sort.bam\n",
    "\n",
    "# make consensus\n",
    "for i in $(samtools idxstats $miseq-$minion-top-$subtype-$seg.sort.bam | cut -f1 | grep -v '*'); do python ~/custom-scripts/bamfile_consensus_generate/bamfile_consensus_generate.py $miseq-$minion-top-$subtype-$seg.sort.bam $i ; done > $miseq-$minion-top-$subtype-$seg.consensus.fasta\n",
    "\n",
    "# map minion data\n",
    "/opt/bioinformatics-software/bwa-0.7.12/bwa index $minion-top-$subtype-$seg.fasta\n",
    "/opt/bioinformatics-software/bwa-0.7.12/bwa mem -x ont2d -t 40 $minion-top-$subtype-$seg.fasta $minion.fasta > $minion-top-$subtype-$seg.sam\n",
    "\n",
    "samtools view -b -o $minion-top-$subtype-$seg.bam $minion-top-$subtype-$seg.sam\n",
    "samtools sort -o $minion-top-$subtype-$seg.sort.bam $minion-top-$subtype-$seg.bam\n",
    "samtools index $minion-top-$subtype-$seg.sort.bam\n",
    "\n",
    "# make minion consensus\n",
    "for i in $(samtools idxstats $minion-top-$subtype-$seg.sort.bam | cut -f1 | grep -v '*'); do python ~/custom-scripts/bamfile_consensus_generate/bamfile_consensus_generate.py $minion-top-$subtype-$seg.sort.bam $i; done > $minion-top-$subtype-$seg.consensus.fasta\n",
    "\n",
    "rm $minion-top-$subtype-$seg.sam $minion-top-$subtype-$seg.bam $minion-top-$subtype-$seg.fasta.*\n",
    "\n",
    "done"
   ]
  },
  {
   "cell_type": "markdown",
   "metadata": {},
   "source": [
    "The issue with reads mapping to different strains is still a thing. It seems liek the MiSeq is the driving factor here since we can't generate a good consensus to compare to the MinION consensus. "
   ]
  },
  {
   "cell_type": "markdown",
   "metadata": {},
   "source": [
    "### Ebola Virus Workflow"
   ]
  },
  {
   "cell_type": "markdown",
   "metadata": {
    "collapsed": true
   },
   "source": [
    "The paper published in Nature that did \"haplotyping\" with Ebola is something that I'm going to try. They report conesnsus sequences but they don't really comment on the accuracy and their approach is quite different from ours.\n",
    "\n",
    "The paper is here: http://www.nature.com/nature/journal/v530/n7589/full/nature16996.html\n",
    "\n",
    "The github is here: https://github.com/nickloman/ebov\n",
    "\n",
    "These guys use the \"fail\" hq 2d reads but I'm going to try with just the pass 2d reads for now."
   ]
  },
  {
   "cell_type": "markdown",
   "metadata": {},
   "source": [
    "#### MarginAlign"
   ]
  },
  {
   "cell_type": "markdown",
   "metadata": {},
   "source": [
    "Here's the script that they used to align: https://github.com/nickloman/ebov/blob/master/scripts/marginalign.sh"
   ]
  },
  {
   "cell_type": "markdown",
   "metadata": {},
   "source": [
    "##### FluB PB2 from 11-9"
   ]
  },
  {
   "cell_type": "markdown",
   "metadata": {},
   "source": [
    "I'm going to work with FluB-PB2 of the 11-9 run just for starters, since it should be the highest quality data. The reference is going to be the most frequent hit from Blastn after using nanocorrect on the reads (since I already have that data. If the results are good enough then we can go forward with mutliple references and see how that works."
   ]
  },
  {
   "cell_type": "code",
   "execution_count": null,
   "metadata": {
    "collapsed": true
   },
   "outputs": [],
   "source": [
    "cd /home/alan/projects/MinION-notebook/margin-align/11-9/FluB-PB2\n",
    "\n",
    "# segment counts can be found here: flu-11-9.2d.nc.blast.seg-counts.tsv\n",
    "\n",
    "grep -A1 'CY153608' flu-11-9.2d.nc-top-FluB-PB2.fasta > top-flub-PB2-blast-hit.fasta\n",
    "\n",
    "/opt/bioinformatics-software/minion-software/margin/marginAlign \\\n",
    "flu-11-9.2d.fastq \\\n",
    "top-flub-PB2-blast-hit.fasta \\\n",
    "flu-11-9.2d.marginalign.sam \\\n",
    "--em \\\n",
    "--outputModel flu-11-9.2d.output.hmm \\\n",
    "--jobTree jobTree_align_flu-11-9.2d \\\n",
    "--maxThreads 40\n",
    "\n",
    "/opt/bioinformatics-software/minion-software/margin/marginAlign \\\n",
    "flu-11-9.2d.fastq top-flub-PB2-blast-hit.fasta \\\n",
    "flu-11-9.2d.marginalign.sam \\\n",
    "--inputModel flu-11-9.2d.output.hmm \\\n",
    "#--jobTree jobTree_align_flu-11-9.2d \\\n",
    "--maxThreads 40\n",
    "\n",
    "samtools view -o flu-11-9.2d.marginalign.bam -b flu-11-9.2d.marginalign.sam\n",
    "samtools sort -o flu-11-9.2d.marginalign.sort.bam flu-11-9.2d.marginalign.bam\n",
    "samtools index flu-11-9.2d.marginalign.sort.bam"
   ]
  },
  {
   "cell_type": "markdown",
   "metadata": {},
   "source": [
    "# MiSeq Assembly"
   ]
  },
  {
   "cell_type": "markdown",
   "metadata": {},
   "source": [
    "Since the blast analysis isn't working well, a de novo assembly is the next best thing to get an accurate representation of the in situ strain information."
   ]
  },
  {
   "cell_type": "markdown",
   "metadata": {
    "collapsed": true
   },
   "source": [
    "## Velvet"
   ]
  },
  {
   "cell_type": "markdown",
   "metadata": {
    "collapsed": true
   },
   "source": [
    "I'm going to use velvet for the first run, just to see how things look."
   ]
  },
  {
   "cell_type": "code",
   "execution_count": null,
   "metadata": {
    "collapsed": true
   },
   "outputs": [],
   "source": [
    "cd /home/alan/projects/MinION-notebook/miseq-assembly/flub\n",
    "\n",
    "python ~/projects/MinION-notebook/MinION-Flu-Analysis/scripts/interleave-fastq.py f3.r1.fastq.gz f3.r2.fastq.gz > f3.fastq\n",
    "\n",
    "perl /opt/bioinformatics-software/velvet/contrib/VelvetOptimiser-2.2.4/VelvetOptimiser.pl --e 63 --o '-ins_length 250 -min_contig_length 700' -t 40 -f '-shortPaired -fastq f3.fastq'\n"
   ]
  },
  {
   "cell_type": "markdown",
   "metadata": {},
   "source": [
    "VelvetOptimiser recommended has size of 27 so..."
   ]
  },
  {
   "cell_type": "code",
   "execution_count": null,
   "metadata": {
    "collapsed": true
   },
   "outputs": [],
   "source": [
    "velvetg auto_data_27 -ins_length 250 -min_contig_lgth 700 -exp_cov auto"
   ]
  },
  {
   "cell_type": "markdown",
   "metadata": {},
   "source": [
    "And this was horrible. So, the next attempt will be to segregate out the reads by segment and go from there. I'll start with PB2 and if it works I'll make a pipeline. I will use the blast alignment to see if velvet can resolve using that.\n",
    "\n",
    "Actually, I'm going to give khmer a shot. Try some read normalization and partitioning. http://khmer.readthedocs.org/en/v2.0/user/scripts.html#scripts-diginorm\n",
    "\n",
    "First step: trimmomatic (http://www.usadellab.org/cms/index.php?page=trimmomatic)"
   ]
  },
  {
   "cell_type": "code",
   "execution_count": null,
   "metadata": {
    "collapsed": true
   },
   "outputs": [],
   "source": [
    "cd ~/projects/MinION-notebook/miseq-assembly/flub\n",
    "\n",
    "java -jar /opt/bioinformatics-software/Trimmomatic-0.35/trimmomatic-0.35.jar PE f3.r1.fastq.gz f3.r2.fastq.gz f3.r1.trimmed.fastq.gz f3.r1.se.trimmed.fastq.gz f3.r2.trimmed.fastq.gz f3.r2.se.trimmed.fastq.gz LEADING:3 TRAILING:3 SLIDINGWINDOW:4:15 MINLEN:36"
   ]
  },
  {
   "cell_type": "markdown",
   "metadata": {
    "collapsed": true
   },
   "source": [
    "Next I just want to see how coverage looks. Following Khmer's recipe for slicing reads based on coverage: https://khmer-recipes.readthedocs.org/en/latest/001-extract-reads-by-coverage/index.html\n",
    "\n",
    "After reading a bit more about the recipes that khmer provides, I'm going to look at this from a metatranscriptome point of view since both our sample and the example make the assumption that there are different coverage peaks.\n",
    "https://khmer-recipes.readthedocs.org/en/latest/007-variable-coverage-trimming/index.html"
   ]
  },
  {
   "cell_type": "code",
   "execution_count": null,
   "metadata": {
    "ExecuteTime": {
     "start_time": "2016-02-26T20:26:51.410Z"
    },
    "collapsed": false
   },
   "outputs": [],
   "source": [
    "# cd ~/projects/MinION-notebook/miseq-assembly/flub\n",
    "\n",
    "# load-into-counting.py --threads 40 -x 1e8 -k 20 reads.kh *trimmed.fastq.gz \n",
    "# abundance-dist.py reads.kh f3.r1.trimmed.fastq.gz f3.r1.trimmed.read.dist\n",
    "\n",
    "cd /data1/share/scratch/miseq-assembly/flub/khmer\n",
    "\n"
   ]
  },
  {
   "cell_type": "code",
   "execution_count": 1,
   "metadata": {
    "ExecuteTime": {
     "end_time": "2016-02-29T11:28:58.752790",
     "start_time": "2016-02-29T11:28:57.985571"
    },
    "collapsed": false
   },
   "outputs": [
    {
     "name": "stdout",
     "output_type": "stream",
     "text": [
      "plot-abundance-dist.py: command not found\r\n"
     ]
    }
   ],
   "source": [
    "plot-abundance-dist.py f3.r1.trimmed.read.dist f3.r1.trimmed.read.dist.png --ymax=300"
   ]
  },
  {
   "cell_type": "markdown",
   "metadata": {
    "collapsed": true
   },
   "source": [
    "### SPADES Assembler"
   ]
  },
  {
   "cell_type": "markdown",
   "metadata": {},
   "source": [
    "After talking with Mike Schatz he recommended using SPADES so I'll give that a shot.\n",
    "\n",
    "I'm running these data on /data1 because I think there's too much IO on the home disk"
   ]
  },
  {
   "cell_type": "code",
   "execution_count": null,
   "metadata": {
    "collapsed": true
   },
   "outputs": [],
   "source": [
    "cd /data1/share/scratch/miseq-assembly/flub\n",
    "\n",
    "spades.py --threads 40 --mem 110 --threads 20 -1 f3.r1.fastq -2 f3.r2.fastq -o f3-spades\n",
    "#spades.py --threads 40 --mem 110 --threads 20 -1 f3.r1.fastq -2 f3.r2.fastq --meta -o f3-spades"
   ]
  },
  {
   "cell_type": "markdown",
   "metadata": {},
   "source": [
    "LOL so this produced 4996 contigs and the longest contig was complete nonsense. Looks like some normalization needs to take place. "
   ]
  },
  {
   "cell_type": "code",
   "execution_count": null,
   "metadata": {
    "collapsed": true
   },
   "outputs": [],
   "source": []
  }
 ],
 "metadata": {
  "kernelspec": {
   "display_name": "Bash",
   "language": "bash",
   "name": "bash"
  },
  "language_info": {
   "codemirror_mode": "shell",
   "file_extension": ".sh",
   "mimetype": "text/x-sh",
   "name": "bash"
  },
  "toc": {
   "toc_cell": true,
   "toc_number_sections": true,
   "toc_threshold": "4",
   "toc_window_display": false
  }
 },
 "nbformat": 4,
 "nbformat_minor": 0
}
