{
 "cells": [
  {
   "cell_type": "markdown",
   "metadata": {},
   "source": [
    "# Canu Assembly"
   ]
  },
  {
   "cell_type": "markdown",
   "metadata": {},
   "source": [
    "Bin's friend is working with MinION and recommended that Canu (a fork of Celera) is the best assembler that he's used. \n",
    "\n",
    "https://github.com/marbl/canu"
   ]
  },
  {
   "cell_type": "code",
   "execution_count": null,
   "metadata": {
    "collapsed": true
   },
   "outputs": [],
   "source": [
    "cd /data1/share/scratch/minion-canu\n",
    "\n",
    "/opt/bioinformatics-software/minion-software/canu/Linux-amd64/bin/canu \\\n",
    "-p flu-11-9-canu \\\n",
    "-d flu-11-9-canu-out \\\n",
    "genomeSize=32k \\\n",
    "-nanopore-raw flu-11-09.fastq"
   ]
  },
  {
   "cell_type": "markdown",
   "metadata": {},
   "source": [
    "There weren't any contigs produced, but this did perform some error correction with falcon sense (which is a super pain to install), so I can use those reads to see if it helps with anyhting.\n",
    "\n",
    "First I'm going to separate the FluB reads out. I assembled the entire 11-9 run which is probably a bad idea. Using the FluDB blast results I will grab the reads that map to FluB and start by assembling the full genome and if that doesn't work then I will separate them out by segment."
   ]
  },
  {
   "cell_type": "markdown",
   "metadata": {},
   "source": [
    "# Single genome assembly"
   ]
  },
  {
   "cell_type": "markdown",
   "metadata": {},
   "source": [
    "WE'll start with the 11-9 FluB genome and see how that goes. Note that the PB1 segment will look wonky due to the lab strain spike in."
   ]
  },
  {
   "cell_type": "code",
   "execution_count": null,
   "metadata": {
    "collapsed": true
   },
   "outputs": [],
   "source": [
    "cd /data1/share/scratch/minion-canu/flub-only\n",
    "\n",
    "grep -B6 'Influenza B' flu-11-9.2d.fludb.xml | grep 'Iteration_query-def' | perl -pe 's/^.+>(.+) FAS.+/$1/g' \\\n",
    "| grep --no-group-separator -A3 -F -f - flu-11-9.2d.fastq  > flu-11-9.2d.flub-reads.fastq\n",
    "\n",
    "/opt/bioinformatics-software/minion-software/canu/Linux-amd64/bin/canu -p flu-11-9-flub-only-canu \\\n",
    "-d flu-11-9-flub-only-canu-out genomeSize=12k -nanopore-raw flu-11-9.2d.flub-reads.fastq"
   ]
  },
  {
   "cell_type": "markdown",
   "metadata": {},
   "source": [
    "This resulted in 62 corrected reads and 61 unassembled reads.\n",
    "\n",
    "It seems like an actual assembly won't be very likely since it will try to stitch together a fragmented genome, though the error correction part may be what we should hone in on. \n",
    "\n",
    "Also, they do suggest that we run nanopolish prior to assembling even though they implement falcon-sense so I can give that a shot.\n",
    "\n",
    "They also provide some documentation on how to assemble low coverage genomes that I will try since this is low coverage, especially after the error correction step (dealing with 61 reads!).\n",
    "http://canu.readthedocs.org/en/stable/quick-start.html#assembling-low-coverage-datasets\n",
    "\n",
    "I'll start with the defaults for now."
   ]
  },
  {
   "cell_type": "code",
   "execution_count": null,
   "metadata": {
    "collapsed": true
   },
   "outputs": [],
   "source": [
    "cd /data1/share/scratch/minion-canu/flub-only\n",
    "\n",
    "/opt/bioinformatics-software/minion-software/canu/Linux-amd64/bin/canu -p flu-11-9-flub-only-low-cov-canu \\\n",
    "-d flu-11-9-flub-only-low-cov-canu-out genomeSize=12k corMhapSensitivity=high corMinCoverage=2 errorRate=0.035 \\\n",
    "minOverlapLength=499 corMaxEvidenceErate=0.3 -nanopore-raw flu-11-9.2d.flub-reads.fastq"
   ]
  },
  {
   "cell_type": "markdown",
   "metadata": {},
   "source": [
    "This seemed to not work as well. There are more error corrected reads which isn't what I expected."
   ]
  },
  {
   "cell_type": "markdown",
   "metadata": {},
   "source": [
    "# Single Segment Assembly\n",
    "\n",
    "Before jumping to combining all FluB runs I want to see if the results differ when trying to assemble one specific segment. We'll start with the HA."
   ]
  },
  {
   "cell_type": "code",
   "execution_count": null,
   "metadata": {
    "collapsed": true
   },
   "outputs": [],
   "source": [
    "cd /data1/share/scratch/minion-canu/flub-only\n",
    "\n",
    "grep -P -B6 'Influenza B.+Segment:4' flu-11-9.2d.fludb.xml | grep 'Iteration_query-def' | \\\n",
    "perl -pe 's/^.+>(.+) FAS.+/$1/g' | grep --no-group-separator -A3 -F -f - flu-11-9.2d.fastq  > flu-11-9.2d.flub-HA-reads.fastq\n",
    "\n",
    "/opt/bioinformatics-software/minion-software/canu/Linux-amd64/bin/canu -p flu-11-9-flub-HA-only-canu \\\n",
    "-d flu-11-9-flub-HA-only-canu-out genomeSize=12k -nanopore-raw flu-11-9.2d.flub-HA-reads.fastq"
   ]
  },
  {
   "cell_type": "markdown",
   "metadata": {},
   "source": [
    "This didn't work either. I find it very odd that when trying to assemble the whole FluB genome and the HA segment only that there are the same number of unitigs. This definitely seems like there's some weird partitioning going on here so I need to find out what the parameters are that could be causing this."
   ]
  },
  {
   "cell_type": "markdown",
   "metadata": {},
   "source": [
    "# Single Segment Low Coverage Assembly\n",
    "\n",
    "Canu has parameters to use specifically with low coverage datasets. It basically lowers the amount of overlap and the error stringency so that it yields more reads after error correction. This seemed to work, though it produced two different contigs that are fairly similar. Also, they weren't assembled, which makes sense since these should just be consensus sequences. Not sure why, but mapping the MiSeq data against it should help decide which (if either) is correct."
   ]
  },
  {
   "cell_type": "markdown",
   "metadata": {},
   "source": [
    "## HA "
   ]
  },
  {
   "cell_type": "code",
   "execution_count": null,
   "metadata": {
    "collapsed": true
   },
   "outputs": [],
   "source": [
    "cd /data1/share/scratch/minion-canu/flub-only\n",
    "\n",
    "canu -p flu -d flu-11-9-flub-HA-only-low-cov-canu-out genomeSize=2k corMhapSensitivity=high corMinCoverage=2 \\\n",
    "errorRate=0.035 minOverlapLength=499 corMaxEvidenceErate=0.3 -nanopore-raw flu-11-9.2d.flub-HA-reads.fastq\n",
    "\n",
    "cd flu-11-9-flub-HA-only-low-cov-canu-out/\n",
    "\n",
    "grep -c '>' *fasta\n",
    "\n",
    "# align to each other to see how different they are\n",
    "nucmer --maxmatch flu.unassembled.fasta flu.unassembled.fasta\n",
    "show-coords -lcT out.delta "
   ]
  },
  {
   "cell_type": "markdown",
   "metadata": {},
   "source": [
    "S1 | E1 | S2 | E2 | LEN 1 | LEN 2 | % IDY | LEN R | LEN Q | COV R | COV Q | TAGS\n",
    "---|----|----|----|-------|-------|-------|-------|-------|-------|-------|-----\n",
    "1 | 1874 | 1 | 1874 | 1874 | 1874 | 100.00 | 1874 | 1874 | 100.00 | 100.00 | tig00000000 | tig00000000\n",
    "2 | 1819 | 1874 | 48 | 1818 | 1827 | 97.72 | 1819 | 1874 | 99.95 | 97.49 | tig00000001 | tig00000000\n",
    "1 | 1819 | 1 | 1819 | 1819 | 1819 | 100.00 | 1819 | 1819 | 100.00 | 100.00 | tig00000001 | tig00000001\n",
    "48 | 1874 | 1819 | 2 | 1827 | 1818 | 97.72 | 1874 | 1819 | 97.49 | 99.95 | tig00000000 | tig00000001\n",
    "\n",
    "They're 97.72% identical and they're in opposite orientations, so maybe these are the template an compliment reads? Those should theoretically be merged into one contig..... I guess the best way to assess this would be to assemble other segments to see if this is a trend."
   ]
  },
  {
   "cell_type": "code",
   "execution_count": null,
   "metadata": {
    "collapsed": true
   },
   "outputs": [],
   "source": [
    "cd /data1/share/scratch/minion-canu/flub-only/flu-11-9-flub-HA-only-low-cov-canu-out\n",
    "\n",
    "ln -s ../../../miseq-assembly/flub/flub-11-9-blast-hits-assembly/flub.trimmed.r1.fastq\n",
    "ln -s ../../../miseq-assembly/flub/flub-11-9-blast-hits-assembly/flub.trimmed.r2.fastq\n",
    "\n",
    "bwa index flu.unassembled.fasta\n",
    "bwa mem -t 30 flu.unassembled.fasta flub.trimmed.r1.fastq flub.trimmed.r2.fastq > flub.trimmed.sam && \\\n",
    "samtools view -b -o flub.trimmed.bam flub.trimmed.sam && samtools sort -o flub.trimmed.sort.bam flub.trimmed.bam && \\\n",
    "samtools index flub.trimmed.sort.bam && rm flub.trimmed.sam flub.trimmed.bam"
   ]
  },
  {
   "cell_type": "markdown",
   "metadata": {},
   "source": [
    "Contig0 definitely seems to be correct, though there are some deletions in the reference that don't agree with the MiSeq data. \n",
    "![title](docs/minion-flub-ha-denovo-contig0.png)\n",
    "![title](docs/minion-flub-ha-denovo-contig0-deletions.png)\n",
    "\n",
    "Contig1 seems very erroneous. though it seems to have a fair amount of coverage we can't really throw it out as garbage just yet.\n",
    "![title](docs/minion-flub-ha-denovo-contig1.png)\n",
    "\n",
    "So before we get ahead of ourselves, let's try to do an assembly with a different segment."
   ]
  },
  {
   "cell_type": "markdown",
   "metadata": {},
   "source": [
    "## PB2 "
   ]
  },
  {
   "cell_type": "code",
   "execution_count": null,
   "metadata": {
    "collapsed": true
   },
   "outputs": [],
   "source": [
    "cd /data1/share/scratch/minion-canu/flub-only\n",
    "\n",
    "grep -h -P -B6 'Influenza B.+Segment:1' flu-11-9.2d.fludb.xml | grep 'Iteration_query-def' | \\\n",
    "perl -pe 's/^.+>(.+) FAS.+/$1/g' | grep --no-group-separator -A3 -F -f - flu-11-9.2d.fastq  > flu-11-9.2d.flub-PB2-reads.fastq\n",
    "\n",
    "canu -p flu -d flu-11-9-flub-PB2-only-low-cov-canu-out genomeSize=3k corMhapSensitivity=high corMinCoverage=2 \\\n",
    "errorRate=0.035 minOverlapLength=499 corMaxEvidenceErate=0.3 -nanopore-raw flu-11-9.2d.flub-PB2-reads.fastq\n",
    "\n",
    "cd flu-11-9-flub-PB2-only-low-cov-canu-out/\n",
    "\n",
    "grep -c '>' *fasta\n",
    "\n",
    "# align to each other to see how different they are\n",
    "nucmer --maxmatch flu.unassembled.fasta flu.unassembled.fasta\n",
    "show-coords -lcT out.delta "
   ]
  },
  {
   "cell_type": "markdown",
   "metadata": {},
   "source": [
    "## MP "
   ]
  },
  {
   "cell_type": "code",
   "execution_count": null,
   "metadata": {
    "collapsed": true
   },
   "outputs": [],
   "source": [
    "cd /data1/share/scratch/minion-canu/flub-only\n",
    "\n",
    "grep -P -B6 'Influenza B.+Segment:7' flu-11-9.2d.fludb.xml | grep 'Iteration_query-def' | \\\n",
    "perl -pe 's/^.+>(.+) FAS.+/$1/g' | grep --no-group-separator -A3 -F -f - flu-11-9.2d.fastq  > flu-11-9.2d.flub-MP-reads.fastq\n",
    "\n",
    "canu -p flu -d flu-11-9-flub-MP-only-low-cov-canu-out genomeSize=1k corMhapSensitivity=high corMinCoverage=2 \\\n",
    "errorRate=0.1 minOverlapLength=499 corMaxEvidenceErate=0.3 -nanopore-raw flu-11-9.2d.flub-MP-reads.fastq\n",
    "\n",
    "cd flu-11-9-flub-MP-only-low-cov-canu-out/\n",
    "\n",
    "grep -c '>' *fasta\n",
    "\n",
    "# align to each other to see how different they are\n",
    "nucmer --maxmatch flu.unassembled.fasta flu.unassembled.fasta\n",
    "show-coords -lcT out.delta "
   ]
  },
  {
   "cell_type": "markdown",
   "metadata": {},
   "source": [
    "## PA"
   ]
  },
  {
   "cell_type": "code",
   "execution_count": null,
   "metadata": {
    "collapsed": true
   },
   "outputs": [],
   "source": [
    "cd /data1/share/scratch/minion-canu/flub-only\n",
    "\n",
    "seg=\"PA\"\n",
    "segNum=3\n",
    "segLen=2.2k\n",
    "\n",
    "grep -P -B6 'Influenza B.+Segment:'$segNum flu-11-9.2d.fludb.xml | grep 'Iteration_query-def' | \\\n",
    "perl -pe 's/^.+>(.+) FAS.+/$1/g' | grep --no-group-separator -A3 -F -f - flu-11-9.2d.fastq  > flu-11-9.2d.flub-$seg-reads.fastq\n",
    "\n",
    "canu -p flu -d flu-11-9-flub-$seg-only-low-cov-canu-out genomeSize=$segLen corMhapSensitivity=high corMinCoverage=2 \\\n",
    "errorRate=0.5 minOverlapLength=499 corMaxEvidenceErate=0.4 -nanopore-raw flu-11-9.2d.flub-$seg-reads.fastq\n",
    "\n",
    "cd flu-11-9-flub-$seg-only-low-cov-canu-out/\n",
    "\n",
    "grep -c '>' *fasta\n",
    "\n",
    "# align to each other to see how different they are\n",
    "nucmer --maxmatch flu.unassembled.fasta flu.unassembled.fasta\n",
    "show-coords -lcT out.delta "
   ]
  },
  {
   "cell_type": "markdown",
   "metadata": {},
   "source": [
    "## NS"
   ]
  },
  {
   "cell_type": "code",
   "execution_count": null,
   "metadata": {
    "collapsed": true
   },
   "outputs": [],
   "source": [
    "cd /data1/share/scratch/minion-canu/flub-only\n",
    "\n",
    "grep -P -B6 'Influenza B.+Segment:1' flu-11-9.2d.fludb.xml | grep 'Iteration_query-def' | \\\n",
    "perl -pe 's/^.+>(.+) FAS.+/$1/g' | grep --no-group-separator -A3 -F -f - flu-11-9.2d.fastq  > flu-11-9.2d.flub-PB2-reads.fastq\n",
    "\n",
    "canu -p flu -d flu-11-9-flub-PB2-only-low-cov-canu-out genomeSize=3k corMhapSensitivity=high corMinCoverage=2 \\\n",
    "errorRate=0.035 minOverlapLength=499 corMaxEvidenceErate=0.3 -nanopore-raw flu-11-9.2d.flub-PB2-reads.fastq\n",
    "\n",
    "cd flu-11-9-flub-PB2-only-low-cov-canu-out/\n",
    "\n",
    "grep -c '>' *fasta\n",
    "\n",
    "# align to each other to see how different they are\n",
    "nucmer --maxmatch flu.unassembled.fasta flu.unassembled.fasta\n",
    "show-coords -lcT out.delta "
   ]
  },
  {
   "cell_type": "markdown",
   "metadata": {},
   "source": [
    "# All FluB Runs\n",
    "\n",
    "Each segment has produced at least two contigs when assembling. This is workable if you have some way of validating which contig is correct (MiSeq data). However, for clinical purposes this isn't usable and I'm assuming it's a depth thing since the error I'm receiving is telling me that many of the reads are being thrown out. With that said, combining the runs may provide enough data to assembly into one contig."
   ]
  },
  {
   "cell_type": "markdown",
   "metadata": {},
   "source": [
    "## HA\n",
    "\n",
    "This produced two contigs so may be a good start since the data quality seems reasonable."
   ]
  },
  {
   "cell_type": "code",
   "execution_count": null,
   "metadata": {
    "collapsed": true
   },
   "outputs": [],
   "source": [
    "cd /data1/share/scratch/minion-canu/flub-only\n",
    "\n",
    "ln -s ~/projects/MinION-notebook/raw-data/MinION/8-13/flu-8-13.2d.fastq\n",
    "ln -s ~/projects/MinION-notebook/raw-data/MinION/6-4/flu-6-4.2d.fastq\n",
    "ln -s ~/projects/MinION-notebook/minion-blast/8-13/*xml\n",
    "ln -s ~/projects/MinION-notebook/minion-blast/6-4/*xml\n",
    "\n",
    "grep -h -P -B6 'Influenza B.+Segment:4' *xml | grep 'Iteration_query-def' | perl -pe 's/^.+>(.+) FAS.+/$1/g' \\\n",
    "| grep -h --no-group-separator -A3 -F -f - *2d.fastq > all-flub-HA.2d.fastq\n",
    "\n",
    "canu -p flu -d all-flub-HA-only-low-cov-canu-out genomeSize=2k corMhapSensitivity=high corMinCoverage=2 errorRate=0.035 \\\n",
    "minOverlapLength=499 corMaxEvidenceErate=0.3 cormhapMemory=100 obtmhapMemory=100 utgmhapMemory=100 \\\n",
    "-nanopore-raw all-flub-HA.2d.fastq\n",
    "\n",
    "cd all-flub-HA-only-low-cov-canu-out/\n",
    "\n",
    "grep -c '>' *fasta\n",
    "\n",
    "# align to each other to see how different they are\n",
    "nucmer --maxmatch flu.unassembled.fasta flu.unassembled.fasta\n",
    "show-coords -lcT out.delta "
   ]
  },
  {
   "cell_type": "markdown",
   "metadata": {},
   "source": [
    "There seems to be a sweet spot for the error rate, and 0.035 seems to be it (which is way more stringent that I was expecting). Almost every other value produced 29 contigs, while one produced 15 instead of the 12 that we're getting with the settings above. I'm assuming there will need to be a sweep in these values for each segment since it varies in the single run analysis. Subsequently I will need to resequence these to check which has the best coverage since the error correction clusters the raw reads into a representative so the coverage in the contigs files isn't accurate."
   ]
  },
  {
   "cell_type": "markdown",
   "metadata": {},
   "source": [
    "So now to run this on all segments. Note that I didn't test for the best parameter settings. I don't think that the number of contigs is something to focus on given the error rate but I'm not sure."
   ]
  },
  {
   "cell_type": "code",
   "execution_count": null,
   "metadata": {
    "collapsed": true
   },
   "outputs": [],
   "source": [
    "cd /home/alan/projects/MinION-notebook/minion-canu/flub-only\n",
    "\n",
    "cat flu-11-9.2d.fastq flu-6-4.2d.fastq flu-8-13.2d.fastq > all-flub-runs.fastq\n",
    "\n",
    "seg='PB2'\n",
    "segNum='1'\n",
    "segSize='2.3k'\n",
    "\n",
    "grep -h -P -B6 'Influenza B.+Segment:'$segNum *xml | grep 'Iteration_query-def' | \\\n",
    "perl -pe 's/^.+>(.+) FAS.+/$1/g' | grep --no-group-separator -A3 -F -f - all-flub-runs.fastq  > all-flub-runs-$seg.fastq\n",
    "\n",
    "canu maxThreads=30 maxMemory=100 stopOnReadQuality=false -p flu -d all-flub-runs-$seg-canu-out \\\n",
    "genomeSize=$segSize corMhapSensitivity=high corMinCoverage=2 errorRate=0.035 minOverlapLength=1499 \\\n",
    "minReadLength=1500 corMaxEvidenceErate=0.3 -nanopore-raw all-flub-runs-$seg.fastq\n",
    "\n",
    "seg='PB1'\n",
    "segNum='2'\n",
    "segSize='2.3k'\n",
    "\n",
    "grep -h -P -B6 'Influenza B.+Segment:'$segNum *xml | grep 'Iteration_query-def' | \\\n",
    "perl -pe 's/^.+>(.+) FAS.+/$1/g' | grep --no-group-separator -A3 -F -f - all-flub-runs.fastq  > all-flub-runs-$seg.fastq\n",
    "\n",
    "canu maxThreads=30 maxMemory=100 stopOnReadQuality=false -p flu -d all-flub-runs-$seg-canu-out \\\n",
    "genomeSize=$segSize corMhapSensitivity=high corMinCoverage=2 errorRate=0.035 minOverlapLength=1499 \\\n",
    "minReadLength=1500 corMaxEvidenceErate=0.3 -nanopore-raw all-flub-runs-$seg.fastq\n",
    "\n",
    "seg='PA'\n",
    "segNum='3'\n",
    "segSize='2.2k'\n",
    "\n",
    "grep -h -P -B6 'Influenza B.+Segment:'$segNum *xml | grep 'Iteration_query-def' | \\\n",
    "perl -pe 's/^.+>(.+) FAS.+/$1/g' | grep --no-group-separator -A3 -F -f - all-flub-runs.fastq  > all-flub-runs-$seg.fastq\n",
    "\n",
    "canu maxThreads=30 maxMemory=100 stopOnReadQuality=false -p flu -d all-flub-runs-$seg-canu-out \\\n",
    "genomeSize=$segSize corMhapSensitivity=high corMinCoverage=2 errorRate=0.035 minOverlapLength=1499 \\\n",
    "minReadLength=1500 corMaxEvidenceErate=0.3 -nanopore-raw all-flub-runs-$seg.fastq\n",
    "\n",
    "seg='HA'\n",
    "segNum='4'\n",
    "segSize='1.7k'\n",
    "\n",
    "grep -h -P -B6 'Influenza B.+Segment:'$segNum *xml | grep 'Iteration_query-def' | \\\n",
    "perl -pe 's/^.+>(.+) FAS.+/$1/g' | grep --no-group-separator -A3 -F -f - all-flub-runs.fastq  > all-flub-runs-$seg.fastq\n",
    "\n",
    "canu maxThreads=30 maxMemory=100 stopOnReadQuality=false -p flu -d all-flub-runs-$seg-canu-out \\\n",
    "genomeSize=$segSize corMhapSensitivity=high corMinCoverage=2 errorRate=0.035 minOverlapLength=1499 \\\n",
    "minReadLength=1500 corMaxEvidenceErate=0.3 -nanopore-raw all-flub-runs-$seg.fastq\n",
    "\n",
    "seg='NP'\n",
    "segNum='5'\n",
    "segSize='1.5k'\n",
    "\n",
    "grep -h -P -B6 'Influenza B.+Segment:'$segNum *xml | grep 'Iteration_query-def' | \\\n",
    "perl -pe 's/^.+>(.+) FAS.+/$1/g' | grep --no-group-separator -A3 -F -f - all-flub-runs.fastq  > all-flub-runs-$seg.fastq\n",
    "\n",
    "canu maxThreads=30 maxMemory=100 stopOnReadQuality=false -p flu -d all-flub-runs-$seg-canu-out \\\n",
    "genomeSize=$segSize corMhapSensitivity=high corMinCoverage=2 errorRate=0.035 minOverlapLength=1499 \\\n",
    "minReadLength=1500 corMaxEvidenceErate=0.3 -nanopore-raw all-flub-runs-$seg.fastq\n",
    "\n",
    "seg='NA'\n",
    "segNum='6'\n",
    "segSize='1.4k'\n",
    "\n",
    "grep -h -P -B6 'Influenza B.+Segment:'$segNum *xml | grep 'Iteration_query-def' | \\\n",
    "perl -pe 's/^.+>(.+) FAS.+/$1/g' | grep --no-group-separator -A3 -F -f - all-flub-runs.fastq  > all-flub-runs-$seg.fastq\n",
    "\n",
    "canu maxThreads=30 maxMemory=100 stopOnReadQuality=false -p flu -d all-flub-runs-$seg-canu-out \\\n",
    "genomeSize=$segSize corMhapSensitivity=high corMinCoverage=2 minOverlapLength=499 \\\n",
    "-nanopore-raw all-flub-runs-$seg.fastq\n",
    "\n",
    "seg='MP'\n",
    "segNum='7'\n",
    "segSize='1k'\n",
    "\n",
    "grep -h -P -B6 'Influenza B.+Segment:'$segNum *xml | grep 'Iteration_query-def' | \\\n",
    "perl -pe 's/^.+>(.+) FAS.+/$1/g' | grep --no-group-separator -A3 -F -f - all-flub-runs.fastq  > all-flub-runs-$seg.fastq\n",
    "\n",
    "canu maxThreads=30 maxMemory=100 stopOnReadQuality=false -p flu -d all-flub-runs-$seg-canu-out \\\n",
    "genomeSize=$segSize corMhapSensitivity=high corMinCoverage=2 minOverlapLength=499 \\\n",
    "-nanopore-raw all-flub-runs-$seg.fastq\n",
    "\n",
    "seg='NS'\n",
    "segNum='8'\n",
    "segSize='900'\n",
    "\n",
    "grep -h -P -B6 'Influenza B.+Segment:'$segNum *xml | grep 'Iteration_query-def' | \\\n",
    "perl -pe 's/^.+>(.+) FAS.+/$1/g' | grep --no-group-separator -A3 -F -f - all-flub-runs.fastq  > all-flub-runs-$seg.fastq\n",
    "\n",
    "canu maxThreads=30 maxMemory=100 stopOnReadQuality=false -p flu -d all-flub-runs-$seg-canu-out \\\n",
    "genomeSize=$segSize corMhapSensitivity=high corMinCoverage=2 minOverlapLength=499 \\\n",
    "-nanopore-raw all-flub-runs-$seg.fastq\n",
    "\n",
    "for i in HA NA NP NS MP PA PB1 PB2; do perl -pe 's/^>(tig\\d+)/>'$i'-$1/g' all-flub-runs-HA-canu-out/flu.unassembled.fasta; done \\\n",
    "> all-flub-runs.contigs.fasta"
   ]
  },
  {
   "cell_type": "markdown",
   "metadata": {},
   "source": [
    "I'm curious as to why there are so many contigs and how similar they are to each other. As I said, I'm reluctant to shoot for the fewest contigs given the error rate (if it HAS to incorporate very erroneous reads then it could be distorting the base composition even more) but the fact that there are this many seems strange.\n",
    "\n",
    "We can start with the HA since it has 25 contigs."
   ]
  },
  {
   "cell_type": "code",
   "execution_count": null,
   "metadata": {
    "collapsed": true
   },
   "outputs": [],
   "source": [
    "cd /home/alan/projects/MinION-notebook/minion-canu/flub-only/all-flub-runs-HA-canu-out\n",
    "\n",
    "nucmer --maxmatch flu.unassembled.fasta flu.unassembled.fasta\n",
    "show-coords -lcTH out.delta | cut -f7 > pctids.txt"
   ]
  },
  {
   "cell_type": "markdown",
   "metadata": {},
   "source": [
    "So they're all ~98% similar. Let's see what the MiSeq data have to say about this.\n",
    "\n",
    "![minion flub assembly](docs/minion-flub-ha-assembled-pctid.png)"
   ]
  },
  {
   "cell_type": "code",
   "execution_count": null,
   "metadata": {
    "collapsed": true
   },
   "outputs": [],
   "source": [
    "cd ~/projects/MinION-notebook/minion-canu/flub-only/all-flub-runs-HA-canu-out\n",
    "\n",
    "ln -s ~/projects/MinION-notebook/raw-data/MiSeq/clinical-strains/f3.r1.fastq.gz\n",
    "ln -s ~/projects/MinION-notebook/raw-data/MiSeq/clinical-strains/f3.r2.fastq.gz\n",
    "\n",
    "bwa index flu.unassembled.fasta\n",
    "bwa mem -t 30 -x intractg flu.unassembled.fasta f3.r1.fastq.gz f3.r2.fastq.gz > f3.sam\n",
    "samtools view -b -o f3.bam f3.sam && samtools sort -o f3.sort.bam f3.bam && samtools index f3.sort.bam\n",
    "rm f3.bam f3.sam"
   ]
  },
  {
   "cell_type": "markdown",
   "metadata": {},
   "source": [
    "So this was horrible. Lots of reads mapped to each contig but the coverage profiles for each were completely scattered - not a single contig was completely covered. On top of that, these were very poorly mapped reads. Here's an example:\n",
    "\n",
    "![miseq to minion flub ha contig](docs/minoin-flub-ha-miseq-alignment.png)\n",
    "\n",
    "So that was one of the worst case scenarios. However, when compared to the MiSeq consensus sequences they are ~87% similar. \n",
    "\n",
    "S1 | E1 | S2 | E2 | LEN 1 | LEN 2 | % IDY | LEN R | LEN Q | COV R | COV Q | TAGS\n",
    "---|----|----|----|-------|-------|-------|-------|-------|-------|-------|-----\n",
    "401 | 2249 | 6 | 1902 | 1849 | 1897 | 87.46 | 2424 | 1905 | 76.28 | 99.58 | tig00000007 | NODE_1_length_1905_cov_52.721_ID_5\n",
    "509 | 2353 | 6 | 1902 | 1845 | 1897 | 87.25 | 2493 | 1905 | 74.01 | 99.58 | tig00000009 | NODE_1_length_1905_cov_52.721_ID_5\n",
    "156 | 1990 | 6 | 1902 | 1835 | 1897 | 86.62 | 2157 | 1905 | 85.07 | 99.58 | tig00000012 | NODE_1_length_1905_cov_52.721_ID_5\n",
    "157 | 1962 | 6 | 1902 | 1806 | 1897 | 85.57 | 2129 | 1905 | 84.83 | 99.58 | tig00000004 | NODE_1_length_1905_cov_52.721_ID_5\n",
    "355 | 2199 | 6 | 1902 | 1845 | 1897 | 87.20 | 2279 | 1905 | 80.96 | 99.58 | tig00000015 | NODE_1_length_1905_cov_52.721_ID_5\n",
    "408 | 2246 | 12 | 1902 | 1839 | 1891 | 87.16 | 2406 | 1905 | 76.43 | 99.27 | tig00000006 | NODE_1_length_1905_cov_52.721_ID_5\n",
    "212 | 2063 | 1902 | 6 | 1852 | 1897 | 87.57 | 2690 | 1905 | 68.85 | 99.58 | tig00000000 | NODE_1_length_1905_cov_52.721_ID_5\n",
    "87 | 1942 | 1902 | 6 | 1856 | 1897 | 87.62 | 2598 | 1905 | 71.44 | 99.58 | tig00000001 | NODE_1_length_1905_cov_52.721_ID_5\n",
    "78 | 1934 | 1902 | 6 | 1857 | 1897 | 87.88 | 2601 | 1905 | 71.40 | 99.58 | tig00000002 | NODE_1_length_1905_cov_52.721_ID_5\n",
    "188 | 2033 | 1902 | 6 | 1846 | 1897 | 87.30 | 2668 | 1905 | 69.19 | 99.58 | tig00000003 | NODE_1_length_1905_cov_52.721_ID_5\n",
    "150 | 1988 | 1902 | 6 | 1839 | 1897 | 86.59 | 2426 | 1905 | 75.80 | 99.58 | tig00000005 | NODE_1_length_1905_cov_52.721_ID_5\n",
    "191 | 2049 | 1902 | 6 | 1859 | 1897 | 87.93 | 2712 | 1905 | 68.55 | 99.58 | tig00000014 | NODE_1_length_1905_cov_52.721_ID_5\n",
    "191 | 2048 | 1902 | 6 | 1858 | 1897 | 87.78 | 2710 | 1905 | 68.56 | 99.58 | tig00000008 | NODE_1_length_1905_cov_52.721_ID_5\n",
    "20 | 1872 | 1902 | 6 | 1853 | 1897 | 87.36 | 2535 | 1905 | 73.10 | 99.58 | tig00000010 | NODE_1_length_1905_cov_52.721_ID_5\n",
    "181 | 2036 | 1902 | 6 | 1856 | 1897 | 87.67 | 2702 | 1905 | 68.69 | 99.58 | tig00000011 | NODE_1_length_1905_cov_52.721_ID_5\n",
    "7 | 1842 | 1875 | 6 | 1836 | 1870 | 87.77 | 2460 | 1905 | 74.63 | 98.16 | tig00000013 | NODE_1_length_1905_cov_52.721_ID_5\n",
    "\n",
    "\n",
    "Let's try with something that has fewer contigs. This should be enough evidence to see if fewer is actually better in this case. Let's try the NP segment (this, as well as the PA and NP segments) have three contigs."
   ]
  },
  {
   "cell_type": "code",
   "execution_count": null,
   "metadata": {
    "collapsed": true
   },
   "outputs": [],
   "source": [
    "cd ~/projects/MinION-notebook/minion-canu/flub-only/all-flub-runs-NP-canu-out\n",
    "\n",
    "ln -s ~/projects/MinION-notebook/raw-data/MiSeq/clinical-strains/f3.r1.fastq.gz\n",
    "ln -s ~/projects/MinION-notebook/raw-data/MiSeq/clinical-strains/f3.r2.fastq.gz\n",
    "\n",
    "bwa index flu.unassembled.fasta\n",
    "bwa mem -t 30 -x intractg flu.unassembled.fasta f3.r1.fastq.gz f3.r2.fastq.gz > f3.sam\n",
    "samtools view -b -o f3.bam f3.sam && samtools sort -o f3.sort.bam f3.bam && samtools index f3.sort.bam\n",
    "rm f3.bam f3.sam"
   ]
  },
  {
   "cell_type": "markdown",
   "metadata": {},
   "source": [
    "So this one has a contig that is fully covered, though low coverage.\n",
    "\n",
    "![minion flub np contig miseq alignment](docs/minion-flub-np-miseq-alignment.png)\n",
    "\n",
    "So now that we know it's something close to what we sequenced, we can compare the MiSeq contigs to it, to get a ballpark. There is a chance that this contig is something that was underrepresented in the MiSeq data, but that seems unlikely."
   ]
  },
  {
   "cell_type": "code",
   "execution_count": null,
   "metadata": {
    "collapsed": true
   },
   "outputs": [],
   "source": [
    "cd ~/projects/MinION-notebook/minion-canu/flub-only/all-flub-runs-NP-canu-out\n",
    "\n",
    "nucmer --maxmatch flu.unassembled.fasta \\\n",
    "~/projects/MinION-notebook/miseq-assembly/flub/flub-11-9-blast-hits-assembly/fluB.11-9-top-seg-hits.contigs.fasta\n",
    "\n",
    "show-coords -lcT out.delta | perl -pe 's/\\t/ | /g'"
   ]
  },
  {
   "cell_type": "markdown",
   "metadata": {},
   "source": [
    "98% similar to the MiSeq consensus. Not bad but also not sure if shooting for fewer contigs would be worthwhile.\n",
    "\n",
    "S1 | E1 | S2 | E2 | LEN 1 | LEN 2 | % IDY | LEN R | LEN Q | COV R | COV Q | TAGS\n",
    "---|----|----|----|-------|-------|-------|-------|-------|-------|-------|-----\n",
    "17 | 1810 | 1 | 1844 | 1794 | 1844 | 97.23 | 1815 | 1861 | 98.84 | 99.09 | tig00000001 | NODE_1_length_1861_cov_52.0934_ID_5\n",
    "17 | 1759 | 1 | 1790 | 1743 | 1790 | 97.32 | 1759 | 1861 | 99.09 | 96.18 | tig00000002 | NODE_1_length_1861_cov_52.0934_ID_5\n",
    "4 | 1828 | 1860 | 1 | 1825 | 1860 | 98.01 | 1836 | 1861 | 99.40 | 99.95 | tig00000000 | NODE_1_length_1861_cov_52.0934_ID_5"
   ]
  },
  {
   "cell_type": "markdown",
   "metadata": {},
   "source": [
    "# All H1N1 Runs"
   ]
  },
  {
   "cell_type": "code",
   "execution_count": null,
   "metadata": {
    "collapsed": true
   },
   "outputs": [],
   "source": [
    "cd /home/alan/projects/MinION-notebook/minion-canu/h1n1\n",
    "\n",
    "ln -s ~/projects/MinION-notebook/raw-data/MinION/8-13/flu-8-13.2d.fastq\n",
    "ln -s ~/projects/MinION-notebook/raw-data/MinION/6-4/flu-6-4.2d.fastq\n",
    "\n",
    "cat flu-* > all-h1n1-runs.fastq\n",
    "\n",
    "ln -s ~/projects/MinION-notebook/minion-blast/6-4/flu-6-4.2d.fludb.xml\n",
    "ln -s ~/projects/MinION-notebook/minion-blast/8-13/flu-8-13.2d.fludb.xml\n",
    "\n",
    "seg='PB2'\n",
    "segNum='1'\n",
    "segSize='2.3k'\n",
    "subtype='h1n1'\n",
    "\n",
    "grep -h -P -B6 'Influenza A.+Segment:'$segNum'\\|Subtype:H1N1' *xml | grep 'Iteration_query-def' | \\\n",
    "perl -pe 's/^.+>(.+) FAS.+/$1/g' | grep --no-group-separator -A3 -F -f - all-$subtype-runs.fastq  > all-$subtype-runs-$seg.fastq\n",
    "\n",
    "canu maxThreads=30 maxMemory=100 stopOnReadQuality=false -p flu -d all-$subtype-runs-$seg-canu-out \\\n",
    "genomeSize=$segSize corMhapSensitivity=high corMinCoverage=2 errorRate=0.035 minOverlapLength=1499 \\\n",
    "minReadLength=1500 corMaxEvidenceErate=0.3 -nanopore-raw all-$subtype-runs-$seg.fastq\n",
    "\n",
    "seg='PB1'\n",
    "segNum='2'\n",
    "segSize='2.3k'\n",
    "\n",
    "grep -h -P -B6 'Influenza A.+Segment:'$segNum'\\|Subtype:H1N1' *xml | grep 'Iteration_query-def' | \\\n",
    "perl -pe 's/^.+>(.+) FAS.+/$1/g' | grep --no-group-separator -A3 -F -f - all-$subtype-runs.fastq  > all-$subtype-runs-$seg.fastq\n",
    "\n",
    "canu maxThreads=30 maxMemory=100 stopOnReadQuality=false -p flu -d all-$subtype-runs-$seg-canu-out \\\n",
    "genomeSize=$segSize corMhapSensitivity=high corMinCoverage=2 errorRate=0.035 minOverlapLength=1499 \\\n",
    "minReadLength=1500 corMaxEvidenceErate=0.3 -nanopore-raw all-$subtype-runs-$seg.fastq\n",
    "\n",
    "seg='PA'\n",
    "segNum='3'\n",
    "segSize='2.2k'\n",
    "\n",
    "grep -h -P -B6 'Influenza A.+Segment:'$segNum'\\|Subtype:H1N1' *xml | grep 'Iteration_query-def' | \\\n",
    "perl -pe 's/^.+>(.+) FAS.+/$1/g' | grep --no-group-separator -A3 -F -f - all-$subtype-runs.fastq  > all-$subtype-runs-$seg.fastq\n",
    "\n",
    "canu maxThreads=30 maxMemory=100 stopOnReadQuality=false -p flu -d all-$subtype-runs-$seg-canu-out \\\n",
    "genomeSize=$segSize corMhapSensitivity=high corMinCoverage=2 errorRate=0.035 minOverlapLength=1499 \\\n",
    "minReadLength=1500 corMaxEvidenceErate=0.3 -nanopore-raw all-$subtype-runs-$seg.fastq\n",
    "\n",
    "seg='HA'\n",
    "segNum='4'\n",
    "segSize='1.7k'\n",
    "\n",
    "grep -h -P -B6 'Influenza A.+Segment:'$segNum'\\|Subtype:H1N1' *xml | grep 'Iteration_query-def' | \\\n",
    "perl -pe 's/^.+>(.+) FAS.+/$1/g' | grep --no-group-separator -A3 -F -f - all-$subtype-runs.fastq  > all-$subtype-runs-$seg.fastq\n",
    "\n",
    "canu maxThreads=30 maxMemory=100 stopOnReadQuality=false -p flu -d all-$subtype-runs-$seg-canu-out \\\n",
    "genomeSize=$segSize corMhapSensitivity=high corMinCoverage=2 errorRate=0.035 minOverlapLength=1499 \\\n",
    "minReadLength=1500 corMaxEvidenceErate=0.3 -nanopore-raw all-$subtype-runs-$seg.fastq\n",
    "\n",
    "seg='NP'\n",
    "segNum='5'\n",
    "segSize='1.5k'\n",
    "\n",
    "grep -h -P -B6 'Influenza A.+Segment:'$segNum'\\|Subtype:H1N1' *xml | grep 'Iteration_query-def' | \\\n",
    "perl -pe 's/^.+>(.+) FAS.+/$1/g' | grep --no-group-separator -A3 -F -f - all-$subtype-runs.fastq  > all-$subtype-runs-$seg.fastq\n",
    "\n",
    "canu maxThreads=30 maxMemory=100 stopOnReadQuality=false -p flu -d all-$subtype-runs-$seg-canu-out \\\n",
    "genomeSize=$segSize corMhapSensitivity=high corMinCoverage=2 errorRate=0.035 minOverlapLength=1499 \\\n",
    "minReadLength=1500 corMaxEvidenceErate=0.3 -nanopore-raw all-$subtype-runs-$seg.fastq\n",
    "\n",
    "seg='NA'\n",
    "segNum='6'\n",
    "segSize='1.4k'\n",
    "\n",
    "grep -h -P -B6 'Influenza A.+Segment:'$segNum'\\|Subtype:H1N1' *xml | grep 'Iteration_query-def' | \\\n",
    "perl -pe 's/^.+>(.+) FAS.+/$1/g' | grep --no-group-separator -A3 -F -f - all-$subtype-runs.fastq  > all-$subtype-runs-$seg.fastq\n",
    "\n",
    "canu maxThreads=30 maxMemory=100 stopOnReadQuality=false -p flu -d all-$subtype-runs-$seg-canu-out \\\n",
    "genomeSize=$segSize corMhapSensitivity=high corMinCoverage=2 minOverlapLength=499 \\\n",
    "-nanopore-raw all-$subtype-runs-$seg.fastq\n",
    "\n",
    "seg='MP'\n",
    "segNum='7'\n",
    "segSize='1k'\n",
    "\n",
    "grep -h -P -B6 'Influenza A.+Segment:'$segNum'\\|Subtype:H1N1' *xml | grep 'Iteration_query-def' | \\\n",
    "perl -pe 's/^.+>(.+) FAS.+/$1/g' | grep --no-group-separator -A3 -F -f - all-$subtype-runs.fastq  > all-$subtype-runs-$seg.fastq\n",
    "\n",
    "canu maxThreads=30 maxMemory=100 stopOnReadQuality=false -p flu -d all-$subtype-runs-$seg-canu-out \\\n",
    "genomeSize=$segSize corMhapSensitivity=high corMinCoverage=2 minOverlapLength=499 \\\n",
    "-nanopore-raw all-$subtype-runs-$seg.fastq\n",
    "\n",
    "seg='NS'\n",
    "segNum='8'\n",
    "segSize='900'\n",
    "\n",
    "grep -h -P -B6 'Influenza A.+Segment:'$segNum'\\|Subtype:H1N1' *xml | grep 'Iteration_query-def' | \\\n",
    "perl -pe 's/^.+>(.+) FAS.+/$1/g' | grep --no-group-separator -A3 -F -f - all-$subtype-runs.fastq  > all-$subtype-runs-$seg.fastq\n",
    "\n",
    "canu maxThreads=30 maxMemory=100 stopOnReadQuality=false -p flu -d all-$subtype-runs-$seg-canu-out \\\n",
    "genomeSize=$segSize minReadLength=500 corMhapSensitivity=high corMinCoverage=2 minOverlapLength=499 \\\n",
    "-nanopore-raw all-$subtype-runs-$seg.fastq"
   ]
  },
  {
   "cell_type": "markdown",
   "metadata": {},
   "source": [
    "# Canu MinION Lab Strain Assembly\n",
    "\n",
    "This will be an assessment on whether cleaner data can be assembled with Canu. If not, and if there's a basal error level, then the effort to assembly may be futile, at least with Canu."
   ]
  },
  {
   "cell_type": "markdown",
   "metadata": {},
   "source": [
    "# Canu PacBio Lab Strain Assembly\n",
    "\n",
    "One thing that Bin suggested is to try to assembly the PacBio lab strain data to see if this is something that is even possible, and if so what's the error rate look like. This will be a good assessment of Canu as a tool as well as the feasiblity of assembling noisier data.\n",
    "\n",
    "Just to get a feel for how Canu works on cleaner data, I tried assembling all the lab strains together. Didn't work out so well."
   ]
  },
  {
   "cell_type": "code",
   "execution_count": null,
   "metadata": {
    "collapsed": true
   },
   "outputs": [],
   "source": [
    "cd ~/projects/MinION-notebook/pacbio-canu\n",
    "\n",
    "canu minReadLength=500 maxThreads=30 maxMemory=100 -p flu -d pacbio-lab-strains genomeSize=36k \\\n",
    "-pacbio-raw Elodie_sidebar_reads_of_insert.fastq"
   ]
  },
  {
   "cell_type": "markdown",
   "metadata": {},
   "source": [
    "So the next step is to split them up into segments as I have done before"
   ]
  },
  {
   "cell_type": "code",
   "execution_count": null,
   "metadata": {
    "collapsed": true
   },
   "outputs": [],
   "source": [
    "cd ~/projects/MinION-notebook/pacbio-canu\n",
    "\n",
    "for i in $(samtools idxstats pacbio-quads.sort.bam | cut -f1 | grep -v '*'); do samtools view -h pacbio-quads.sort.bam $i\\\n",
    "| samtools view -b -o $i.bam && bamtools convert -in $i.bam -format fastq > $i.fastq && rm $i.bam ; done\n",
    "\n",
    "#for i in $(samtools idxstats pacbio-quads.sort.bam | cut -f1 | grep -v '*'); do canu minReadLength=500 maxThreads=30 \\\n",
    "#maxMemory=100 -p flu -d $i-canu-out genomeSize=36k -pacbio-raw $i.fastq; done\n",
    "\n",
    "for i in $(samtools idxstats pacbio-quads.sort.bam | cut -f1 | grep -v '*'); do canu minReadLength=500 maxThreads=30 \\\n",
    "maxMemory=100 -p flu -d $i-canu-out genomeSize=1500 -pacbio-raw $i.fastq; done"
   ]
  },
  {
   "cell_type": "markdown",
   "metadata": {},
   "source": [
    "The defaults faired horribly. Way too many contigs.\n",
    "\n",
    "Segment | Contigs\n",
    "--------|--------\n",
    "FluB-HA | 740\n",
    "FluB-MP | 292\n",
    "FluB-NA | 8\n",
    "FluB-NP | 69\n",
    "FluB-NS | 48\n",
    "FluB-PA | 231\n",
    "FluB-PB1 | 173\n",
    "FluB-PB2 | 269\n",
    "H1N1-HA | 470\n",
    "H1N1-MP | 78\n",
    "H1N1-NA | 447\n",
    "H1N1-NP | 252\n",
    "H1N1-NS | 21\n",
    "H1N1-PA | 95\n",
    "H1N1-PB1 | 98\n",
    "H1N1-PB2 | 139\n",
    "H3N2-HA | 543\n",
    "H3N2-MP | 201\n",
    "H3N2-NA | 70\n",
    "H3N2-NP | 774\n",
    "H3N2-NS | 275\n",
    "H3N2-PA | 197\n",
    "H3N2-PB1 | 105\n",
    "H3N2-PB2 | 134\n",
    "\n",
    "FluB-NA had the fewest contigs, so presumably the best it can get with these settings. So, compared to the MiSeq, they are pretty far off which is very surprising.\n",
    "\n",
    "S1 | E1 | S2 | E2 | LEN 1 | LEN 2 | % IDY | LEN R | LEN Q | COV R | COV Q | TAGS\n",
    "---|----|----|----|-------|-------|-------|-------|-------|-------|-------|-----\n",
    "2 | 1370 | 4 | 1403 | 1369 | 1400 | 92.21 | 1370 | 1576 | 99.93 | 88.83 | tig00000007 | NODE_1_length_1576_cov_54.3161_ID_5\n",
    "21 | 1593 | 1575 | 1 | 1573 | 1575 | 94.41 | 1603 | 1576 | 98.13 | 99.94 | tig00000000 | NODE_1_length_1576_cov_54.3161_ID_5\n",
    "21 | 1564 | 1574 | 12 | 1544 | 1563 | 93.41 | 1564 | 1576 | 98.72 | 99.18 | tig00000004 | NODE_1_length_1576_cov_54.3161_ID_5\n",
    "21 | 1576 | 1575 | 13 | 1556 | 1563 | 94.05 | 1576 | 1576 | 98.73 | 99.18 | tig00000005 | NODE_1_length_1576_cov_54.3161_ID_5\n",
    "21 | 1580 | 1575 | 12 | 1560 | 1564 | 94.25 | 1580 | 1576 | 98.73 | 99.24 | tig00000006 | NODE_1_length_1576_cov_54.3161_ID_5\n",
    "19 | 1550 | 1575 | 11 | 1532 | 1565 | 92.59 | 1550 | 1576 | 98.84 | 99.30 | tig00000001 | NODE_1_length_1576_cov_54.3161_ID_5\n",
    "1 | 1536 | 1573 | 4 | 1536 | 1570 | 92.61 | 1537 | 1576 | 99.93 | 99.62 | tig00000003 | NODE_1_length_1576_cov_54.3161_ID_5\n",
    "1 | 1234 | 1296 | 36 | 1234 | 1261 | 92.39 | 1234 | 1576 | 100.00 | 80.01 | tig00000002 | NODE_1_length_1576_cov_54.3161_ID_5\n",
    "\n",
    "So I'll map the PacBio data to the MiSeq consensus. This doesn't seem right."
   ]
  },
  {
   "cell_type": "code",
   "execution_count": null,
   "metadata": {
    "collapsed": true
   },
   "outputs": [],
   "source": [
    "cd /home/alan/projects/MinION-notebook/pacbio-canu/FluB-NA-canu-out\n",
    "\n",
    "bwa mem  -t 30 -x pacbio flu.unassembled.fasta ../Elodie_sidebar_reads_of_insert.fastq > flu.sam\n",
    "samtools view -b -o flu.bam flu.sam && samtools sort -o flu.sort.bam flu.bam && samtools index flu.sort.bam"
   ]
  },
  {
   "cell_type": "markdown",
   "metadata": {},
   "source": [
    "contig | reads mapped\n",
    "-------|-------------\n",
    "tig00000000 | 1966\n",
    "tig00000001 | 28\n",
    "tig00000002 | 3\n",
    "tig00000003 | 88\n",
    "tig00000004 | 103\n",
    "tig00000005 | 71\n",
    "tig00000006 | 66\n",
    "tig00000007 | 18\n",
    "\n"
   ]
  },
  {
   "cell_type": "code",
   "execution_count": null,
   "metadata": {
    "collapsed": true
   },
   "outputs": [],
   "source": [
    "canu minReadLength=500 maxThreads=30 maxMemory=100 -p flu -d FluB-HA-canu-out genomeSize=1500 -pacbio-raw FluB-NA.fastq"
   ]
  },
  {
   "cell_type": "markdown",
   "metadata": {},
   "source": [
    "S1 | E1 | S2 | E2 | LEN 1 | LEN 2 | % IDY | LEN R | LEN Q | COV R | COV Q | TAGS\n",
    "---|----|----|----|-------|-------|-------|-------|-------|-------|-------|-----\n",
    "1 | 1553 | 102 | 1654 | 1553 | 1553 | 99.94 | 1553 | 1676 | 100.00 | 92.66 | tig00000003 | NODE_1_length_1676_cov_52.7844_ID_5\n",
    "1 | 1556 | 103 | 1658 | 1556 | 1556 | 99.94 | 1556 | 1676 | 100.00 | 92.84 | tig00000004 | NODE_1_length_1676_cov_52.7844_ID_5\n",
    "12 | 1580 | 1674 | 102 | 1569 | 1573 | 99.68 | 1580 | 1676 | 99.30 | 93.85 | tig00000000 | NODE_1_length_1676_cov_52.7844_ID_5\n",
    "21 | 1564 | 1673 | 113 | 1544 | 1561 | 98.85 | 1564 | 1676 | 98.72 | 93.14 | tig00000001 | NODE_1_length_1676_cov_52.7844_ID_5\n",
    "21 | 1576 | 1674 | 114 | 1556 | 1561 | 99.62 | 1576 | 1676 | 98.73 | 93.14 | tig00000002 | NODE_1_length_1676_cov_52.7844_ID_5"
   ]
  },
  {
   "cell_type": "markdown",
   "metadata": {
    "heading_collapsed": true
   },
   "source": [
    "# Nanopolish with Canu\n",
    "\n",
    "Nanopolish requires an alignment of some sort so not sure if this is a good idea since the reference base bias that I uncovered may have an adverse effect on the data. I will try it with the top blast segments first - this will allow me to see if this can resolve the reference base bias."
   ]
  },
  {
   "cell_type": "code",
   "execution_count": null,
   "metadata": {
    "collapsed": true
   },
   "outputs": [],
   "source": [
    "cd /data1/share/scratch/minion-canu/flub-only/nanopolish\n",
    "\n",
    "ln -s ~/projects/MinION-notebook/clinical-analysis/consensus-comparison/flub/flu-11-9.2d.11-9-top-seg-hits.sort.bam\n",
    "ln -s ~/projects/MinION-notebook/clinical-analysis/consensus-comparison/flub/flu-11-9.2d.11-9-top-seg-hits.sort.bam.bai\n",
    "ln -s ~/projects/MinION-notebook/clinical-analysis/consensus-comparison/flub/11-9-top-seg-hits.fasta\n",
    "ln -s ../flu-11-9.2d.fastq\n",
    "\n",
    "samtools view -F 4 flu-11-9.2d.11-9-top-seg-hits.sort.bam | cut -f1 | grep --no-group-separator \\\n",
    "-A3 -F -f - flu-11-9.2d.fastq > flu-11-9.2d.11-9-top-seg-hits.flub-only.fastq\n",
    "\n",
    "perl ~/custom-scripts/fq2fa.pl flu-11-9.2d.11-9-top-seg-hits.flub-only.fastq > flu-11-9.2d.11-9-top-seg-hits.flub-only.fasta\n",
    "\n",
    "#had to change the makefile to be compatible with the new version of samtools\n",
    "\n",
    "make -f /opt/bioinformatics-software/minion-software/nanopolish/scripts/consensus.make \\\n",
    "READS=flu-11-9.2d.11-9-top-seg-hits.flub-only.fasta ASSEMBLY=11-9-top-seg-hits.fasta\n",
    "\n"
   ]
  },
  {
   "cell_type": "markdown",
   "metadata": {
    "heading_collapsed": true
   },
   "source": [
    "# Canu Falcon Sense Corrected Reads"
   ]
  },
  {
   "cell_type": "code",
   "execution_count": null,
   "metadata": {
    "collapsed": true
   },
   "outputs": [],
   "source": []
  }
 ],
 "metadata": {
  "kernelspec": {
   "display_name": "Bash",
   "language": "bash",
   "name": "bash"
  },
  "language_info": {
   "codemirror_mode": "shell",
   "file_extension": ".sh",
   "mimetype": "text/x-sh",
   "name": "bash"
  },
  "latex_envs": {
   "bibliofile": "biblio.bib",
   "cite_by": "apalike",
   "current_citInitial": 1,
   "eqLabelWithNumbers": true,
   "eqNumInitial": 0
  },
  "toc": {
   "toc_cell": false,
   "toc_number_sections": true,
   "toc_threshold": 6,
   "toc_window_display": false
  }
 },
 "nbformat": 4,
 "nbformat_minor": 0
}
