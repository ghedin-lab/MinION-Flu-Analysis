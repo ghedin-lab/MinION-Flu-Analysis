{
 "cells": [
  {
   "cell_type": "markdown",
   "metadata": {},
   "source": [
    "## Canu Assembly"
   ]
  },
  {
   "cell_type": "markdown",
   "metadata": {},
   "source": [
    "Bin's friend is working with MinION and recommended that Canu (a fork of Celera) is the best assembler that he's used. \n",
    "\n",
    "https://github.com/marbl/canu"
   ]
  },
  {
   "cell_type": "code",
   "execution_count": null,
   "metadata": {
    "collapsed": true
   },
   "outputs": [],
   "source": [
    "cd /data1/share/scratch/minion-canu\n",
    "\n",
    "/opt/bioinformatics-software/minion-software/canu/Linux-amd64/bin/canu \\\n",
    "-p flu-11-9-canu \\\n",
    "-d flu-11-9-canu-out \\\n",
    "genomeSize=32k \\\n",
    "-nanopore-raw flu-11-09.fastq"
   ]
  },
  {
   "cell_type": "markdown",
   "metadata": {},
   "source": [
    "There weren't any contigs produced, but this did perform some error correction with falcon sense (which is a super pain to install), so I can use those reads to see if it helps with anyhting.\n",
    "\n",
    "First I'm going to separate the FluB reads out. I assembled the entire 11-9 run which is probably a bad idea. Using the FluDB blast results I will grab the reads that map to FluB and start by assembling the full genome and if that doesn't work then I will separate them out by segment."
   ]
  },
  {
   "cell_type": "markdown",
   "metadata": {},
   "source": [
    "## Single genome assembly"
   ]
  },
  {
   "cell_type": "markdown",
   "metadata": {},
   "source": [
    "WE'll start with the 11-9 FluB genome and see how that goes. Note that the PB1 segment will look wonky due to the lab strain spike in."
   ]
  },
  {
   "cell_type": "code",
   "execution_count": null,
   "metadata": {
    "collapsed": true
   },
   "outputs": [],
   "source": [
    "cd /data1/share/scratch/minion-canu/flub-only\n",
    "\n",
    "grep -B6 'Influenza B' flu-11-9.2d.fludb.xml | grep 'Iteration_query-def' | perl -pe 's/^.+>(.+) FAS.+/$1/g' | grep --no-group-separator -A3 -F -f - flu-11-9.2d.fastq  > flu-11-9.2d.flub-reads.fastq\n",
    "\n",
    "/opt/bioinformatics-software/minion-software/canu/Linux-amd64/bin/canu -p flu-11-9-flub-only-canu -d flu-11-9-flub-only-canu-out genomeSize=12k -nanopore-raw flu-11-9.2d.flub-reads.fastq"
   ]
  },
  {
   "cell_type": "markdown",
   "metadata": {},
   "source": [
    "This resulted in 62 corrected reads and 61 unassembled reads.\n",
    "\n",
    "It seems like an actual assembly won't be very likely since it will try to stitch together a fragmented genome, though the error correction part may be what we should hone in on. \n",
    "\n",
    "Also, they do suggest that we run nanopolish prior to assembling even though they implement falcon-sense so I can give that a shot.\n",
    "\n",
    "They also provide some documentation on how to assemble low coverage genomes that I will try since this is low coverage, especially after the error correction step (dealing with 61 reads!).\n",
    "http://canu.readthedocs.org/en/stable/quick-start.html#assembling-low-coverage-datasets\n",
    "\n",
    "I'll start with the defaults for now."
   ]
  },
  {
   "cell_type": "code",
   "execution_count": null,
   "metadata": {
    "collapsed": true
   },
   "outputs": [],
   "source": [
    "cd /data1/share/scratch/minion-canu/flub-only\n",
    "\n",
    "/opt/bioinformatics-software/minion-software/canu/Linux-amd64/bin/canu -p flu-11-9-flub-only-low-cov-canu \\\n",
    "-d flu-11-9-flub-only-low-cov-canu-out genomeSize=12k corMhapSensitivity=high corMinCoverage=2 errorRate=0.035 \\\n",
    "minOverlapLength=499 corMaxEvidenceErate=0.3 -nanopore-raw flu-11-9.2d.flub-reads.fastq"
   ]
  },
  {
   "cell_type": "markdown",
   "metadata": {},
   "source": [
    "This seemed to not work as well. There are more error corrected reads which isn't what I expected."
   ]
  },
  {
   "cell_type": "markdown",
   "metadata": {},
   "source": [
    "## Single Segment Assembly\n",
    "\n",
    "Before jumping to combining all FluB runs I want to see if the results differ when trying to assemble one specific segment. We'll start with the HA."
   ]
  },
  {
   "cell_type": "code",
   "execution_count": null,
   "metadata": {
    "collapsed": true
   },
   "outputs": [],
   "source": [
    "cd /data1/share/scratch/minion-canu/flub-only\n",
    "\n",
    "grep -P -B6 'Influenza B.+Segment:4' flu-11-9.2d.fludb.xml | grep 'Iteration_query-def' | \\\n",
    "perl -pe 's/^.+>(.+) FAS.+/$1/g' | grep --no-group-separator -A3 -F -f - flu-11-9.2d.fastq  > flu-11-9.2d.flub-HA-reads.fastq\n",
    "\n",
    "/opt/bioinformatics-software/minion-software/canu/Linux-amd64/bin/canu -p flu-11-9-flub-HA-only-canu \\\n",
    "-d flu-11-9-flub-HA-only-canu-out genomeSize=12k -nanopore-raw flu-11-9.2d.flub-HA-reads.fastq"
   ]
  },
  {
   "cell_type": "markdown",
   "metadata": {},
   "source": [
    "This didn't work either. I find it very odd that when trying to assemble the whole FluB genome and the HA segment only that there are the same number of unitigs. This definitely seems like there's some weird partitioning going on here so I need to find out what the parameters are that could be causing this."
   ]
  },
  {
   "cell_type": "markdown",
   "metadata": {},
   "source": [
    "## Single Segment Low Coverage Assembly\n",
    "\n",
    "Canu has parameters to use specifically with low coverage datasets. It basically lowers the amount of overlap and the error stringency so that it yields more reads after error correction. This seemed to work, though it produced two different contigs that are fairly similar. Also, they weren't assembled, which makes sense since these should just be consensus sequences. Not sure why, but mapping the MiSeq data against it should help decide which (if either) is correct."
   ]
  },
  {
   "cell_type": "markdown",
   "metadata": {},
   "source": [
    "### HA "
   ]
  },
  {
   "cell_type": "code",
   "execution_count": null,
   "metadata": {
    "collapsed": true
   },
   "outputs": [],
   "source": [
    "cd /data1/share/scratch/minion-canu/flub-only\n",
    "\n",
    "canu -p flu -d flu-11-9-flub-HA-only-low-cov-canu-out genomeSize=2k corMhapSensitivity=high corMinCoverage=2 \\\n",
    "errorRate=0.035 minOverlapLength=499 corMaxEvidenceErate=0.3 -nanopore-raw flu-11-9.2d.flub-HA-reads.fastq\n",
    "\n",
    "cd flu-11-9-flub-HA-only-low-cov-canu-out/\n",
    "\n",
    "grep -c '>' *fasta\n",
    "\n",
    "# align to each other to see how different they are\n",
    "nucmer --maxmatch flu.unassembled.fasta flu.unassembled.fasta\n",
    "show-coords -lcT out.delta "
   ]
  },
  {
   "cell_type": "markdown",
   "metadata": {},
   "source": [
    "S1 | E1 | S2 | E2 | LEN 1 | LEN 2 | % IDY | LEN R | LEN Q | COV R | COV Q | TAGS\n",
    "---|----|----|----|-------|-------|-------|-------|-------|-------|-------|-----\n",
    "1 | 1874 | 1 | 1874 | 1874 | 1874 | 100.00 | 1874 | 1874 | 100.00 | 100.00 | tig00000000 | tig00000000\n",
    "2 | 1819 | 1874 | 48 | 1818 | 1827 | 97.72 | 1819 | 1874 | 99.95 | 97.49 | tig00000001 | tig00000000\n",
    "1 | 1819 | 1 | 1819 | 1819 | 1819 | 100.00 | 1819 | 1819 | 100.00 | 100.00 | tig00000001 | tig00000001\n",
    "48 | 1874 | 1819 | 2 | 1827 | 1818 | 97.72 | 1874 | 1819 | 97.49 | 99.95 | tig00000000 | tig00000001\n",
    "\n",
    "They're 97.72% identical and they're in opposite orientations, so maybe these are the template an compliment reads? Those should theoretically be merged into one contig..... I guess the best way to assess this would be to assemble other segments to see if this is a trend."
   ]
  },
  {
   "cell_type": "code",
   "execution_count": null,
   "metadata": {
    "collapsed": true
   },
   "outputs": [],
   "source": [
    "cd /data1/share/scratch/minion-canu/flub-only/flu-11-9-flub-HA-only-low-cov-canu-out\n",
    "\n",
    "ln -s ../../../miseq-assembly/flub/flub-11-9-blast-hits-assembly/flub.trimmed.r1.fastq\n",
    "ln -s ../../../miseq-assembly/flub/flub-11-9-blast-hits-assembly/flub.trimmed.r2.fastq\n",
    "\n",
    "bwa index flu.unassembled.fasta\n",
    "bwa mem -t 30 flu.unassembled.fasta flub.trimmed.r1.fastq flub.trimmed.r2.fastq > flub.trimmed.sam && \\\n",
    "samtools view -b -o flub.trimmed.bam flub.trimmed.sam && samtools sort -o flub.trimmed.sort.bam flub.trimmed.bam && \\\n",
    "samtools index flub.trimmed.sort.bam && rm flub.trimmed.sam flub.trimmed.bam"
   ]
  },
  {
   "cell_type": "markdown",
   "metadata": {},
   "source": [
    "Contig0 definitely seems to be correct, though there are some deletions in the reference that don't agree with the MiSeq data. \n",
    "![title](docs/minion-flub-ha-denovo-contig0.png)\n",
    "![title](docs/minion-flub-ha-denovo-contig0-deletions.png)\n",
    "\n",
    "Contig1 seems very erroneous. though it seems to have a fair amount of coverage we can't really throw it out as garbage just yet.\n",
    "![title](docs/minion-flub-ha-denovo-contig1.png)\n",
    "\n",
    "So before we get ahead of ourselves, let's try to do an assembly with a different segment."
   ]
  },
  {
   "cell_type": "markdown",
   "metadata": {},
   "source": [
    "## PB2 "
   ]
  },
  {
   "cell_type": "code",
   "execution_count": null,
   "metadata": {
    "collapsed": true
   },
   "outputs": [],
   "source": [
    "cd /data1/share/scratch/minion-canu/flub-only\n",
    "\n",
    "grep -P -B6 'Influenza B.+Segment:1' flu-11-9.2d.fludb.xml | grep 'Iteration_query-def' | \\\n",
    "perl -pe 's/^.+>(.+) FAS.+/$1/g' | grep --no-group-separator -A3 -F -f - flu-11-9.2d.fastq  > flu-11-9.2d.flub-PB2-reads.fastq\n",
    "\n",
    "canu -p flu -d flu-11-9-flub-PB2-only-low-cov-canu-out genomeSize=3k corMhapSensitivity=high corMinCoverage=2 \\\n",
    "errorRate=0.035 minOverlapLength=499 corMaxEvidenceErate=0.3 -nanopore-raw flu-11-9.2d.flub-PB2-reads.fastq\n",
    "\n",
    "cd flu-11-9-flub-PB2-only-low-cov-canu-out/\n",
    "\n",
    "grep -c '>' *fasta\n",
    "\n",
    "# align to each other to see how different they are\n",
    "nucmer --maxmatch flu.unassembled.fasta flu.unassembled.fasta\n",
    "show-coords -lcT out.delta "
   ]
  },
  {
   "cell_type": "markdown",
   "metadata": {},
   "source": [
    "## MP "
   ]
  },
  {
   "cell_type": "code",
   "execution_count": null,
   "metadata": {
    "collapsed": true
   },
   "outputs": [],
   "source": [
    "cd /data1/share/scratch/minion-canu/flub-only\n",
    "\n",
    "grep -P -B6 'Influenza B.+Segment:7' flu-11-9.2d.fludb.xml | grep 'Iteration_query-def' | \\\n",
    "perl -pe 's/^.+>(.+) FAS.+/$1/g' | grep --no-group-separator -A3 -F -f - flu-11-9.2d.fastq  > flu-11-9.2d.flub-MP-reads.fastq\n",
    "\n",
    "canu -p flu -d flu-11-9-flub-MP-only-low-cov-canu-out genomeSize=1k corMhapSensitivity=high corMinCoverage=2 \\\n",
    "errorRate=0.1 minOverlapLength=499 corMaxEvidenceErate=0.3 -nanopore-raw flu-11-9.2d.flub-MP-reads.fastq\n",
    "\n",
    "cd flu-11-9-flub-MP-only-low-cov-canu-out/\n",
    "\n",
    "grep -c '>' *fasta\n",
    "\n",
    "# align to each other to see how different they are\n",
    "nucmer --maxmatch flu.unassembled.fasta flu.unassembled.fasta\n",
    "show-coords -lcT out.delta "
   ]
  },
  {
   "cell_type": "markdown",
   "metadata": {},
   "source": [
    "## PA"
   ]
  },
  {
   "cell_type": "code",
   "execution_count": null,
   "metadata": {
    "collapsed": true
   },
   "outputs": [],
   "source": [
    "cd /data1/share/scratch/minion-canu/flub-only\n",
    "\n",
    "seg=\"PA\"\n",
    "segNum=3\n",
    "segLen=2.2k\n",
    "\n",
    "grep -P -B6 'Influenza B.+Segment:'$segNum flu-11-9.2d.fludb.xml | grep 'Iteration_query-def' | \\\n",
    "perl -pe 's/^.+>(.+) FAS.+/$1/g' | grep --no-group-separator -A3 -F -f - flu-11-9.2d.fastq  > flu-11-9.2d.flub-$seg-reads.fastq\n",
    "\n",
    "canu -p flu -d flu-11-9-flub-$seg-only-low-cov-canu-out genomeSize=$segLen corMhapSensitivity=high corMinCoverage=2 \\\n",
    "errorRate=0.5 minOverlapLength=499 corMaxEvidenceErate=0.4 -nanopore-raw flu-11-9.2d.flub-$seg-reads.fastq\n",
    "\n",
    "cd flu-11-9-flub-$seg-only-low-cov-canu-out/\n",
    "\n",
    "grep -c '>' *fasta\n",
    "\n",
    "# align to each other to see how different they are\n",
    "nucmer --maxmatch flu.unassembled.fasta flu.unassembled.fasta\n",
    "show-coords -lcT out.delta "
   ]
  },
  {
   "cell_type": "markdown",
   "metadata": {},
   "source": [
    "## NS"
   ]
  },
  {
   "cell_type": "code",
   "execution_count": null,
   "metadata": {
    "collapsed": true
   },
   "outputs": [],
   "source": [
    "cd /data1/share/scratch/minion-canu/flub-only\n",
    "\n",
    "grep -P -B6 'Influenza B.+Segment:1' flu-11-9.2d.fludb.xml | grep 'Iteration_query-def' | \\\n",
    "perl -pe 's/^.+>(.+) FAS.+/$1/g' | grep --no-group-separator -A3 -F -f - flu-11-9.2d.fastq  > flu-11-9.2d.flub-PB2-reads.fastq\n",
    "\n",
    "canu -p flu -d flu-11-9-flub-PB2-only-low-cov-canu-out genomeSize=3k corMhapSensitivity=high corMinCoverage=2 \\\n",
    "errorRate=0.035 minOverlapLength=499 corMaxEvidenceErate=0.3 -nanopore-raw flu-11-9.2d.flub-PB2-reads.fastq\n",
    "\n",
    "cd flu-11-9-flub-PB2-only-low-cov-canu-out/\n",
    "\n",
    "grep -c '>' *fasta\n",
    "\n",
    "# align to each other to see how different they are\n",
    "nucmer --maxmatch flu.unassembled.fasta flu.unassembled.fasta\n",
    "show-coords -lcT out.delta "
   ]
  },
  {
   "cell_type": "markdown",
   "metadata": {},
   "source": [
    "### Nanopolish with Canu\n",
    "\n",
    "Nanopolish requires an alignment of some sort so not sure if this is a good idea since the reference base bias that I uncovered may have an adverse effect on the data. I will try it with the top blast segments first - this will allow me to see if this can resolve the reference base bias."
   ]
  },
  {
   "cell_type": "code",
   "execution_count": null,
   "metadata": {
    "collapsed": true
   },
   "outputs": [],
   "source": [
    "cd /data1/share/scratch/minion-canu/flub-only/nanopolish\n",
    "\n",
    "ln -s ~/projects/MinION-notebook/clinical-analysis/consensus-comparison/flub/flu-11-9.2d.11-9-top-seg-hits.sort.bam\n",
    "ln -s ~/projects/MinION-notebook/clinical-analysis/consensus-comparison/flub/flu-11-9.2d.11-9-top-seg-hits.sort.bam.bai\n",
    "ln -s ~/projects/MinION-notebook/clinical-analysis/consensus-comparison/flub/11-9-top-seg-hits.fasta\n",
    "ln -s ../flu-11-9.2d.fastq\n",
    "\n",
    "samtools view -F 4 flu-11-9.2d.11-9-top-seg-hits.sort.bam | cut -f1 | grep --no-group-separator \\\n",
    "-A3 -F -f - flu-11-9.2d.fastq > flu-11-9.2d.11-9-top-seg-hits.flub-only.fastq\n",
    "\n",
    "perl ~/custom-scripts/fq2fa.pl flu-11-9.2d.11-9-top-seg-hits.flub-only.fastq > flu-11-9.2d.11-9-top-seg-hits.flub-only.fasta\n",
    "\n",
    "#had to change the makefile to be compatible with the new version of samtools\n",
    "\n",
    "make -f /opt/bioinformatics-software/minion-software/nanopolish/scripts/consensus.make \\\n",
    "READS=flu-11-9.2d.11-9-top-seg-hits.flub-only.fasta ASSEMBLY=11-9-top-seg-hits.fasta\n",
    "\n"
   ]
  },
  {
   "cell_type": "markdown",
   "metadata": {},
   "source": [
    "### Canu Falcon Sense Corrected Reads"
   ]
  },
  {
   "cell_type": "code",
   "execution_count": null,
   "metadata": {
    "collapsed": true
   },
   "outputs": [],
   "source": []
  }
 ],
 "metadata": {
  "kernelspec": {
   "display_name": "Bash",
   "language": "bash",
   "name": "bash"
  },
  "language_info": {
   "codemirror_mode": "shell",
   "file_extension": ".sh",
   "mimetype": "text/x-sh",
   "name": "bash"
  },
  "latex_envs": {
   "bibliofile": "biblio.bib",
   "cite_by": "apalike",
   "current_citInitial": 1,
   "eqLabelWithNumbers": true,
   "eqNumInitial": 0
  },
  "toc": {
   "toc_cell": false,
   "toc_number_sections": true,
   "toc_threshold": 6,
   "toc_window_display": false
  }
 },
 "nbformat": 4,
 "nbformat_minor": 0
}
